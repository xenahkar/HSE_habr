{
 "cells": [
  {
   "cell_type": "markdown",
   "id": "e7bf360e-c010-47e0-987a-8be4bc98abbf",
   "metadata": {},
   "source": [
    "Ранее решалась задача определения рейтинга статьи на Хабре. Мы столкнулись с проблемой предсказания рейтинга для еще неопубликованных на сайте публикаций, так как использовали в моделях признаки, которые есть только в опубликованных на сайте статьях (количество просмотров, количество закладок, количество комментариев и т.д.).\n",
    "\n",
    "В рамках прошлой задачи уже была осуществлена предобработка текстов статей (удаление лишних символов, лемматизация). Сейчас перейдем к задаче **предсказания хабов по тексту**.\n",
    "\n",
    "Автор: Карнакова Ксения\n",
    "\n",
    "# Hubs prediction"
   ]
  },
  {
   "cell_type": "code",
   "execution_count": 1,
   "id": "6977738c-f463-46a2-b572-58868c37be7c",
   "metadata": {},
   "outputs": [],
   "source": [
    "import random\n",
    "import pandas as pd\n",
    "import numpy as np\n",
    "import pickle\n",
    "import csv\n",
    "from sklearn.model_selection import train_test_split\n",
    "from sklearn.metrics import accuracy_score\n",
    "from sklearn.metrics import f1_score\n",
    "from sklearn.metrics import classification_report\n",
    "from sklearn.linear_model import LogisticRegression\n",
    "from sklearn.ensemble import RandomForestClassifier\n",
    "from sklearn.svm import LinearSVC\n",
    "from sklearn.feature_extraction.text import TfidfVectorizer\n",
    "from sklearn.preprocessing import MultiLabelBinarizer\n",
    "from sklearn.naive_bayes import MultinomialNB\n",
    "from sklearn.multiclass import OneVsRestClassifier\n",
    "from sklearn.model_selection import GridSearchCV\n",
    "import nltk\n",
    "import warnings\n",
    "warnings.filterwarnings(\"ignore\")"
   ]
  },
  {
   "cell_type": "code",
   "execution_count": 107,
   "id": "e9f4de1a-11c2-440a-9361-7177d5078a83",
   "metadata": {},
   "outputs": [],
   "source": [
    "df = pd.read_csv('Habr_lemmatized.csv')"
   ]
  },
  {
   "cell_type": "code",
   "execution_count": 108,
   "id": "7a386829-2c95-40c1-be4e-44107ab67d55",
   "metadata": {},
   "outputs": [
    {
     "data": {
      "text/html": [
       "<div>\n",
       "<style scoped>\n",
       "    .dataframe tbody tr th:only-of-type {\n",
       "        vertical-align: middle;\n",
       "    }\n",
       "\n",
       "    .dataframe tbody tr th {\n",
       "        vertical-align: top;\n",
       "    }\n",
       "\n",
       "    .dataframe thead th {\n",
       "        text-align: right;\n",
       "    }\n",
       "</style>\n",
       "<table border=\"1\" class=\"dataframe\">\n",
       "  <thead>\n",
       "    <tr style=\"text-align: right;\">\n",
       "      <th></th>\n",
       "      <th>id</th>\n",
       "      <th>is_corporative</th>\n",
       "      <th>posttype</th>\n",
       "      <th>title</th>\n",
       "      <th>tags</th>\n",
       "      <th>time_published</th>\n",
       "      <th>bookmarks</th>\n",
       "      <th>comments_count</th>\n",
       "      <th>views</th>\n",
       "      <th>votes</th>\n",
       "      <th>...</th>\n",
       "      <th>rating</th>\n",
       "      <th>preprocess_text</th>\n",
       "      <th>hubs</th>\n",
       "      <th>hubs_additional</th>\n",
       "      <th>year</th>\n",
       "      <th>month</th>\n",
       "      <th>day</th>\n",
       "      <th>time</th>\n",
       "      <th>weekday</th>\n",
       "      <th>lemmatized_text</th>\n",
       "    </tr>\n",
       "  </thead>\n",
       "  <tbody>\n",
       "    <tr>\n",
       "      <th>0</th>\n",
       "      <td>310000</td>\n",
       "      <td>1</td>\n",
       "      <td>0</td>\n",
       "      <td>Как мы неделю чинили compaction в Cassandra</td>\n",
       "      <td>cassandra,nosql,troubleshooting</td>\n",
       "      <td>2016-09-17 06:11:00+00:00</td>\n",
       "      <td>45</td>\n",
       "      <td>13</td>\n",
       "      <td>11917</td>\n",
       "      <td>41</td>\n",
       "      <td>...</td>\n",
       "      <td>0.0</td>\n",
       "      <td>Основным хранилищем метрик у нас является cas...</td>\n",
       "      <td>sys_admin,dwh,devops</td>\n",
       "      <td>okmeter</td>\n",
       "      <td>2016</td>\n",
       "      <td>9</td>\n",
       "      <td>17</td>\n",
       "      <td>06:11:00</td>\n",
       "      <td>5</td>\n",
       "      <td>основной хранилище метрика являться cassandra ...</td>\n",
       "    </tr>\n",
       "    <tr>\n",
       "      <th>1</th>\n",
       "      <td>310002</td>\n",
       "      <td>1</td>\n",
       "      <td>0</td>\n",
       "      <td>Войны гипервизоров: To be continued</td>\n",
       "      <td>облачные вычисления,виртуализация,хостинг,гипе...</td>\n",
       "      <td>2016-09-15 07:56:08+00:00</td>\n",
       "      <td>19</td>\n",
       "      <td>23</td>\n",
       "      <td>7342</td>\n",
       "      <td>0</td>\n",
       "      <td>...</td>\n",
       "      <td>62.3</td>\n",
       "      <td>Войны гипервизоров — дело непрерывное, и, нав...</td>\n",
       "      <td>it-infrastructure,virtualization,cloud_computing</td>\n",
       "      <td>cloud4y,hosting</td>\n",
       "      <td>2016</td>\n",
       "      <td>9</td>\n",
       "      <td>15</td>\n",
       "      <td>07:56:08</td>\n",
       "      <td>3</td>\n",
       "      <td>война гипервизор дело непрерывный наверное дей...</td>\n",
       "    </tr>\n",
       "    <tr>\n",
       "      <th>2</th>\n",
       "      <td>310006</td>\n",
       "      <td>0</td>\n",
       "      <td>0</td>\n",
       "      <td>AdBlock Plus совершил новый виток в истории «п...</td>\n",
       "      <td>adblock plus,блокировка рекламы,медийная рекла...</td>\n",
       "      <td>2016-09-14 14:26:49+00:00</td>\n",
       "      <td>35</td>\n",
       "      <td>83</td>\n",
       "      <td>44608</td>\n",
       "      <td>36</td>\n",
       "      <td>...</td>\n",
       "      <td>0.0</td>\n",
       "      <td>Один из крупнейших в мире блокировщиков рекла...</td>\n",
       "      <td>web_monetization,mobile_monetization,display_a...</td>\n",
       "      <td>NaN</td>\n",
       "      <td>2016</td>\n",
       "      <td>9</td>\n",
       "      <td>14</td>\n",
       "      <td>14:26:49</td>\n",
       "      <td>2</td>\n",
       "      <td>крупный мир блокировщик реклама adblock plus п...</td>\n",
       "    </tr>\n",
       "    <tr>\n",
       "      <th>3</th>\n",
       "      <td>310008</td>\n",
       "      <td>1</td>\n",
       "      <td>0</td>\n",
       "      <td>Миф о незрелости мобильных NFC технологий</td>\n",
       "      <td>Gemalto,nfc,мобильные приложения,мобильный пла...</td>\n",
       "      <td>2016-09-15 08:02:54+00:00</td>\n",
       "      <td>12</td>\n",
       "      <td>8</td>\n",
       "      <td>6343</td>\n",
       "      <td>9</td>\n",
       "      <td>...</td>\n",
       "      <td>0.0</td>\n",
       "      <td>Современные NFC-технологии в их нынешнем виде...</td>\n",
       "      <td>infosecurity,pay_system,ecommerce_development</td>\n",
       "      <td>gemaltorussia</td>\n",
       "      <td>2016</td>\n",
       "      <td>9</td>\n",
       "      <td>15</td>\n",
       "      <td>08:02:54</td>\n",
       "      <td>3</td>\n",
       "      <td>современный nfc технология нынешний вид появля...</td>\n",
       "    </tr>\n",
       "    <tr>\n",
       "      <th>4</th>\n",
       "      <td>310014</td>\n",
       "      <td>1</td>\n",
       "      <td>0</td>\n",
       "      <td>OpenJDK: Project Panama</td>\n",
       "      <td>joker2016,jokerconf,java,jvm,panama</td>\n",
       "      <td>2016-09-15 06:30:51+00:00</td>\n",
       "      <td>50</td>\n",
       "      <td>12</td>\n",
       "      <td>14040</td>\n",
       "      <td>34</td>\n",
       "      <td>...</td>\n",
       "      <td>0.0</td>\n",
       "      <td>Два года назад в OpenJDK был создан новый про...</td>\n",
       "      <td>programming,java</td>\n",
       "      <td>jugru</td>\n",
       "      <td>2016</td>\n",
       "      <td>9</td>\n",
       "      <td>15</td>\n",
       "      <td>06:30:51</td>\n",
       "      <td>3</td>\n",
       "      <td>год назад openjdk создавать новый проект кодов...</td>\n",
       "    </tr>\n",
       "  </tbody>\n",
       "</table>\n",
       "<p>5 rows × 27 columns</p>\n",
       "</div>"
      ],
      "text/plain": [
       "       id  is_corporative  posttype  \\\n",
       "0  310000               1         0   \n",
       "1  310002               1         0   \n",
       "2  310006               0         0   \n",
       "3  310008               1         0   \n",
       "4  310014               1         0   \n",
       "\n",
       "                                               title  \\\n",
       "0        Как мы неделю чинили compaction в Cassandra   \n",
       "1                Войны гипервизоров: To be continued   \n",
       "2  AdBlock Plus совершил новый виток в истории «п...   \n",
       "3          Миф о незрелости мобильных NFC технологий   \n",
       "4                            OpenJDK: Project Panama   \n",
       "\n",
       "                                                tags  \\\n",
       "0                    cassandra,nosql,troubleshooting   \n",
       "1  облачные вычисления,виртуализация,хостинг,гипе...   \n",
       "2  adblock plus,блокировка рекламы,медийная рекла...   \n",
       "3  Gemalto,nfc,мобильные приложения,мобильный пла...   \n",
       "4                joker2016,jokerconf,java,jvm,panama   \n",
       "\n",
       "              time_published  bookmarks  comments_count  views  votes  ...  \\\n",
       "0  2016-09-17 06:11:00+00:00         45              13  11917     41  ...   \n",
       "1  2016-09-15 07:56:08+00:00         19              23   7342      0  ...   \n",
       "2  2016-09-14 14:26:49+00:00         35              83  44608     36  ...   \n",
       "3  2016-09-15 08:02:54+00:00         12               8   6343      9  ...   \n",
       "4  2016-09-15 06:30:51+00:00         50              12  14040     34  ...   \n",
       "\n",
       "   rating                                    preprocess_text  \\\n",
       "0     0.0   Основным хранилищем метрик у нас является cas...   \n",
       "1    62.3   Войны гипервизоров — дело непрерывное, и, нав...   \n",
       "2     0.0   Один из крупнейших в мире блокировщиков рекла...   \n",
       "3     0.0   Современные NFC-технологии в их нынешнем виде...   \n",
       "4     0.0   Два года назад в OpenJDK был создан новый про...   \n",
       "\n",
       "                                                hubs  hubs_additional  year  \\\n",
       "0                               sys_admin,dwh,devops          okmeter  2016   \n",
       "1   it-infrastructure,virtualization,cloud_computing  cloud4y,hosting  2016   \n",
       "2  web_monetization,mobile_monetization,display_a...              NaN  2016   \n",
       "3      infosecurity,pay_system,ecommerce_development    gemaltorussia  2016   \n",
       "4                                   programming,java            jugru  2016   \n",
       "\n",
       "   month  day      time weekday  \\\n",
       "0      9   17  06:11:00       5   \n",
       "1      9   15  07:56:08       3   \n",
       "2      9   14  14:26:49       2   \n",
       "3      9   15  08:02:54       3   \n",
       "4      9   15  06:30:51       3   \n",
       "\n",
       "                                     lemmatized_text  \n",
       "0  основной хранилище метрика являться cassandra ...  \n",
       "1  война гипервизор дело непрерывный наверное дей...  \n",
       "2  крупный мир блокировщик реклама adblock plus п...  \n",
       "3  современный nfc технология нынешний вид появля...  \n",
       "4  год назад openjdk создавать новый проект кодов...  \n",
       "\n",
       "[5 rows x 27 columns]"
      ]
     },
     "execution_count": 108,
     "metadata": {},
     "output_type": "execute_result"
    }
   ],
   "source": [
    "df.head()"
   ]
  },
  {
   "cell_type": "markdown",
   "id": "448626ec-6e93-41ce-b14e-0ff16ebae531",
   "metadata": {},
   "source": [
    "Удалим лишние столбцы, оставив только айди публикации, заголовок, дату публикации, теги, хабы и лемматизированный текст публикации."
   ]
  },
  {
   "cell_type": "code",
   "execution_count": 109,
   "id": "341afc45-d422-45f6-9752-34d9267b05ca",
   "metadata": {},
   "outputs": [
    {
     "data": {
      "text/html": [
       "<div>\n",
       "<style scoped>\n",
       "    .dataframe tbody tr th:only-of-type {\n",
       "        vertical-align: middle;\n",
       "    }\n",
       "\n",
       "    .dataframe tbody tr th {\n",
       "        vertical-align: top;\n",
       "    }\n",
       "\n",
       "    .dataframe thead th {\n",
       "        text-align: right;\n",
       "    }\n",
       "</style>\n",
       "<table border=\"1\" class=\"dataframe\">\n",
       "  <thead>\n",
       "    <tr style=\"text-align: right;\">\n",
       "      <th></th>\n",
       "      <th>id</th>\n",
       "      <th>title</th>\n",
       "      <th>time_published</th>\n",
       "      <th>tags</th>\n",
       "      <th>hubs</th>\n",
       "      <th>lemmatized_text</th>\n",
       "    </tr>\n",
       "  </thead>\n",
       "  <tbody>\n",
       "    <tr>\n",
       "      <th>0</th>\n",
       "      <td>310000</td>\n",
       "      <td>Как мы неделю чинили compaction в Cassandra</td>\n",
       "      <td>2016-09-17 06:11:00+00:00</td>\n",
       "      <td>cassandra,nosql,troubleshooting</td>\n",
       "      <td>sys_admin,dwh,devops</td>\n",
       "      <td>основной хранилище метрика являться cassandra ...</td>\n",
       "    </tr>\n",
       "    <tr>\n",
       "      <th>1</th>\n",
       "      <td>310002</td>\n",
       "      <td>Войны гипервизоров: To be continued</td>\n",
       "      <td>2016-09-15 07:56:08+00:00</td>\n",
       "      <td>облачные вычисления,виртуализация,хостинг,гипе...</td>\n",
       "      <td>it-infrastructure,virtualization,cloud_computing</td>\n",
       "      <td>война гипервизор дело непрерывный наверное дей...</td>\n",
       "    </tr>\n",
       "    <tr>\n",
       "      <th>2</th>\n",
       "      <td>310006</td>\n",
       "      <td>AdBlock Plus совершил новый виток в истории «п...</td>\n",
       "      <td>2016-09-14 14:26:49+00:00</td>\n",
       "      <td>adblock plus,блокировка рекламы,медийная рекла...</td>\n",
       "      <td>web_monetization,mobile_monetization,display_a...</td>\n",
       "      <td>крупный мир блокировщик реклама adblock plus п...</td>\n",
       "    </tr>\n",
       "    <tr>\n",
       "      <th>3</th>\n",
       "      <td>310008</td>\n",
       "      <td>Миф о незрелости мобильных NFC технологий</td>\n",
       "      <td>2016-09-15 08:02:54+00:00</td>\n",
       "      <td>Gemalto,nfc,мобильные приложения,мобильный пла...</td>\n",
       "      <td>infosecurity,pay_system,ecommerce_development</td>\n",
       "      <td>современный nfc технология нынешний вид появля...</td>\n",
       "    </tr>\n",
       "    <tr>\n",
       "      <th>4</th>\n",
       "      <td>310014</td>\n",
       "      <td>OpenJDK: Project Panama</td>\n",
       "      <td>2016-09-15 06:30:51+00:00</td>\n",
       "      <td>joker2016,jokerconf,java,jvm,panama</td>\n",
       "      <td>programming,java</td>\n",
       "      <td>год назад openjdk создавать новый проект кодов...</td>\n",
       "    </tr>\n",
       "  </tbody>\n",
       "</table>\n",
       "</div>"
      ],
      "text/plain": [
       "       id                                              title  \\\n",
       "0  310000        Как мы неделю чинили compaction в Cassandra   \n",
       "1  310002                Войны гипервизоров: To be continued   \n",
       "2  310006  AdBlock Plus совершил новый виток в истории «п...   \n",
       "3  310008          Миф о незрелости мобильных NFC технологий   \n",
       "4  310014                            OpenJDK: Project Panama   \n",
       "\n",
       "              time_published  \\\n",
       "0  2016-09-17 06:11:00+00:00   \n",
       "1  2016-09-15 07:56:08+00:00   \n",
       "2  2016-09-14 14:26:49+00:00   \n",
       "3  2016-09-15 08:02:54+00:00   \n",
       "4  2016-09-15 06:30:51+00:00   \n",
       "\n",
       "                                                tags  \\\n",
       "0                    cassandra,nosql,troubleshooting   \n",
       "1  облачные вычисления,виртуализация,хостинг,гипе...   \n",
       "2  adblock plus,блокировка рекламы,медийная рекла...   \n",
       "3  Gemalto,nfc,мобильные приложения,мобильный пла...   \n",
       "4                joker2016,jokerconf,java,jvm,panama   \n",
       "\n",
       "                                                hubs  \\\n",
       "0                               sys_admin,dwh,devops   \n",
       "1   it-infrastructure,virtualization,cloud_computing   \n",
       "2  web_monetization,mobile_monetization,display_a...   \n",
       "3      infosecurity,pay_system,ecommerce_development   \n",
       "4                                   programming,java   \n",
       "\n",
       "                                     lemmatized_text  \n",
       "0  основной хранилище метрика являться cassandra ...  \n",
       "1  война гипервизор дело непрерывный наверное дей...  \n",
       "2  крупный мир блокировщик реклама adblock plus п...  \n",
       "3  современный nfc технология нынешний вид появля...  \n",
       "4  год назад openjdk создавать новый проект кодов...  "
      ]
     },
     "execution_count": 109,
     "metadata": {},
     "output_type": "execute_result"
    }
   ],
   "source": [
    "habr_df = df[['id', 'title', 'time_published', 'tags', 'hubs', 'lemmatized_text']]\n",
    "habr_df.head()"
   ]
  },
  {
   "cell_type": "markdown",
   "id": "0f539f62-78e4-4c07-b008-e27ddbcdaccf",
   "metadata": {},
   "source": [
    "Так как мы используем только профильные хабы (непрофильные хабы, например, относящиеся к компаниям (gemaltorussia, okmeter и т.д.) не учитываем), то есть статьи без хабов, удалим им. Получается, что в датасете оставили только статьи с профильными хабами."
   ]
  },
  {
   "cell_type": "code",
   "execution_count": 3,
   "id": "476780b7-610e-4bdd-abf1-09452a0bced5",
   "metadata": {},
   "outputs": [],
   "source": [
    "habr_df = habr_df[habr_df.hubs.notna()]"
   ]
  },
  {
   "cell_type": "markdown",
   "id": "0da64296-5b81-4e19-8243-0519e7323f61",
   "metadata": {},
   "source": [
    "Добавим немного красоты: из строк с тегами и хабами сделаем списки."
   ]
  },
  {
   "cell_type": "code",
   "execution_count": 174,
   "id": "ffd9e486-959a-410d-9956-22bd10e84994",
   "metadata": {},
   "outputs": [],
   "source": [
    "def str_to_list(x):\n",
    "    if x is not np.nan:\n",
    "        if ',' in x:\n",
    "            return [j for j in x.split(',')]\n",
    "        else:\n",
    "            return [x]"
   ]
  },
  {
   "cell_type": "code",
   "execution_count": 176,
   "id": "cc06b6b1-0d8b-4b06-829a-06cfc77b4690",
   "metadata": {},
   "outputs": [],
   "source": [
    "habr_df.tags = habr_df.tags.map(lambda a: a.split(','))\n",
    "habr_df.hubs = habr_df.hubs.apply(str_to_list)"
   ]
  },
  {
   "cell_type": "code",
   "execution_count": 177,
   "id": "91ce2983-4fd8-4a40-b7dd-2021d2986b3a",
   "metadata": {},
   "outputs": [
    {
     "data": {
      "text/html": [
       "<div>\n",
       "<style scoped>\n",
       "    .dataframe tbody tr th:only-of-type {\n",
       "        vertical-align: middle;\n",
       "    }\n",
       "\n",
       "    .dataframe tbody tr th {\n",
       "        vertical-align: top;\n",
       "    }\n",
       "\n",
       "    .dataframe thead th {\n",
       "        text-align: right;\n",
       "    }\n",
       "</style>\n",
       "<table border=\"1\" class=\"dataframe\">\n",
       "  <thead>\n",
       "    <tr style=\"text-align: right;\">\n",
       "      <th></th>\n",
       "      <th>id</th>\n",
       "      <th>title</th>\n",
       "      <th>time_published</th>\n",
       "      <th>tags</th>\n",
       "      <th>hubs</th>\n",
       "      <th>lemmatized_text</th>\n",
       "    </tr>\n",
       "  </thead>\n",
       "  <tbody>\n",
       "    <tr>\n",
       "      <th>0</th>\n",
       "      <td>310000</td>\n",
       "      <td>Как мы неделю чинили compaction в Cassandra</td>\n",
       "      <td>2016-09-17 06:11:00+00:00</td>\n",
       "      <td>[cassandra, nosql, troubleshooting]</td>\n",
       "      <td>[sys_admin, dwh, devops]</td>\n",
       "      <td>основной хранилище метрика являться cassandra ...</td>\n",
       "    </tr>\n",
       "    <tr>\n",
       "      <th>1</th>\n",
       "      <td>310002</td>\n",
       "      <td>Войны гипервизоров: To be continued</td>\n",
       "      <td>2016-09-15 07:56:08+00:00</td>\n",
       "      <td>[облачные вычисления, виртуализация, хостинг, ...</td>\n",
       "      <td>[it-infrastructure, virtualization, cloud_comp...</td>\n",
       "      <td>война гипервизор дело непрерывный наверное дей...</td>\n",
       "    </tr>\n",
       "    <tr>\n",
       "      <th>2</th>\n",
       "      <td>310006</td>\n",
       "      <td>AdBlock Plus совершил новый виток в истории «п...</td>\n",
       "      <td>2016-09-14 14:26:49+00:00</td>\n",
       "      <td>[adblock plus, блокировка рекламы, медийная ре...</td>\n",
       "      <td>[web_monetization, mobile_monetization, displa...</td>\n",
       "      <td>крупный мир блокировщик реклама adblock plus п...</td>\n",
       "    </tr>\n",
       "    <tr>\n",
       "      <th>3</th>\n",
       "      <td>310008</td>\n",
       "      <td>Миф о незрелости мобильных NFC технологий</td>\n",
       "      <td>2016-09-15 08:02:54+00:00</td>\n",
       "      <td>[Gemalto, nfc, мобильные приложения, мобильный...</td>\n",
       "      <td>[infosecurity, pay_system, ecommerce_development]</td>\n",
       "      <td>современный nfc технология нынешний вид появля...</td>\n",
       "    </tr>\n",
       "    <tr>\n",
       "      <th>4</th>\n",
       "      <td>310014</td>\n",
       "      <td>OpenJDK: Project Panama</td>\n",
       "      <td>2016-09-15 06:30:51+00:00</td>\n",
       "      <td>[joker2016, jokerconf, java, jvm, panama]</td>\n",
       "      <td>[programming, java]</td>\n",
       "      <td>год назад openjdk создавать новый проект кодов...</td>\n",
       "    </tr>\n",
       "  </tbody>\n",
       "</table>\n",
       "</div>"
      ],
      "text/plain": [
       "       id                                              title  \\\n",
       "0  310000        Как мы неделю чинили compaction в Cassandra   \n",
       "1  310002                Войны гипервизоров: To be continued   \n",
       "2  310006  AdBlock Plus совершил новый виток в истории «п...   \n",
       "3  310008          Миф о незрелости мобильных NFC технологий   \n",
       "4  310014                            OpenJDK: Project Panama   \n",
       "\n",
       "              time_published  \\\n",
       "0  2016-09-17 06:11:00+00:00   \n",
       "1  2016-09-15 07:56:08+00:00   \n",
       "2  2016-09-14 14:26:49+00:00   \n",
       "3  2016-09-15 08:02:54+00:00   \n",
       "4  2016-09-15 06:30:51+00:00   \n",
       "\n",
       "                                                tags  \\\n",
       "0                [cassandra, nosql, troubleshooting]   \n",
       "1  [облачные вычисления, виртуализация, хостинг, ...   \n",
       "2  [adblock plus, блокировка рекламы, медийная ре...   \n",
       "3  [Gemalto, nfc, мобильные приложения, мобильный...   \n",
       "4          [joker2016, jokerconf, java, jvm, panama]   \n",
       "\n",
       "                                                hubs  \\\n",
       "0                           [sys_admin, dwh, devops]   \n",
       "1  [it-infrastructure, virtualization, cloud_comp...   \n",
       "2  [web_monetization, mobile_monetization, displa...   \n",
       "3  [infosecurity, pay_system, ecommerce_development]   \n",
       "4                                [programming, java]   \n",
       "\n",
       "                                     lemmatized_text  \n",
       "0  основной хранилище метрика являться cassandra ...  \n",
       "1  война гипервизор дело непрерывный наверное дей...  \n",
       "2  крупный мир блокировщик реклама adblock plus п...  \n",
       "3  современный nfc технология нынешний вид появля...  \n",
       "4  год назад openjdk создавать новый проект кодов...  "
      ]
     },
     "execution_count": 177,
     "metadata": {},
     "output_type": "execute_result"
    }
   ],
   "source": [
    "habr_df.head()"
   ]
  },
  {
   "cell_type": "markdown",
   "id": "08e4eadb-b901-4a18-914a-c98adfd62559",
   "metadata": {},
   "source": [
    "Сохраним получившийся датасет."
   ]
  },
  {
   "cell_type": "code",
   "execution_count": 178,
   "id": "24a29575-1841-4aa5-8c6a-18a7a45c2301",
   "metadata": {},
   "outputs": [],
   "source": [
    "#habr_df.to_parquet('data/habrdf.parquet', index=False)"
   ]
  },
  {
   "cell_type": "code",
   "execution_count": 2,
   "id": "ad66a160-d939-4265-a722-d1c0ecdbb658",
   "metadata": {},
   "outputs": [],
   "source": [
    "habr_df = pd.read_parquet('data/habrdf.parquet')"
   ]
  },
  {
   "cell_type": "markdown",
   "id": "1755e359-9741-48f3-8a56-c17926475885",
   "metadata": {},
   "source": [
    "Разбиваю датасет на трейн, валидацию и тест."
   ]
  },
  {
   "cell_type": "code",
   "execution_count": 3,
   "id": "34a8ade6-93fe-4ff0-a8b9-522d1d649f1d",
   "metadata": {},
   "outputs": [],
   "source": [
    "df_train, df_valtest = train_test_split(habr_df, test_size=0.3, random_state=42)\n",
    "df_val, df_test = train_test_split(df_valtest, test_size=0.5, random_state=42)"
   ]
  },
  {
   "cell_type": "code",
   "execution_count": 180,
   "id": "29675df1-75d1-4a18-a517-e1c2bf5c2da7",
   "metadata": {},
   "outputs": [],
   "source": [
    "#df_train.to_parquet('data/df_train.parquet', index=False)\n",
    "#df_test.to_parquet('data/df_test.parquet', index=False)\n",
    "#df_val.to_parquet('data/df_val.parquet', index=False)"
   ]
  },
  {
   "cell_type": "code",
   "execution_count": 35,
   "id": "2a67c7af-4fe2-443b-a82b-25ed476057fa",
   "metadata": {},
   "outputs": [
    {
     "data": {
      "text/plain": [
       "((80528, 6), (17256, 6), (17256, 6))"
      ]
     },
     "execution_count": 35,
     "metadata": {},
     "output_type": "execute_result"
    }
   ],
   "source": [
    "df_train.shape, df_test.shape, df_val.shape"
   ]
  },
  {
   "cell_type": "code",
   "execution_count": 8,
   "id": "f543db57-16ad-4adf-b7f0-f26acad5691c",
   "metadata": {},
   "outputs": [
    {
     "data": {
      "text/plain": [
       "infosecurity         9505\n",
       "programming          9057\n",
       "it-infrastructure    5129\n",
       "machine_learning     4575\n",
       "webdev               4343\n",
       "                     ... \n",
       "silverlight             1\n",
       "coffeescript            1\n",
       "fido                    1\n",
       "twisted                 1\n",
       "typo3                   1\n",
       "Name: count, Length: 321, dtype: int64"
      ]
     },
     "execution_count": 8,
     "metadata": {},
     "output_type": "execute_result"
    }
   ],
   "source": [
    "# количество упоминаний хабов на трейне\n",
    "pd.Series([i for j in df_train['hubs'].values for i in j]).value_counts()"
   ]
  },
  {
   "cell_type": "code",
   "execution_count": 7,
   "id": "406edc11-1904-47a1-b15e-0842c1ad9dd5",
   "metadata": {},
   "outputs": [
    {
     "data": {
      "text/plain": [
       "infosecurity         9505\n",
       "programming          9057\n",
       "it-infrastructure    5129\n",
       "machine_learning     4575\n",
       "webdev               4343\n",
       "javascript           3955\n",
       "python               3816\n",
       "sys_admin            3732\n",
       "hr_management        3476\n",
       "open_source          3201\n",
       "Name: count, dtype: int64"
      ]
     },
     "execution_count": 7,
     "metadata": {},
     "output_type": "execute_result"
    }
   ],
   "source": [
    "# 10 самых популярных хабов на трейне\n",
    "pd.Series([i for j in df_train['hubs'].values for i in j]).value_counts()[:10]"
   ]
  },
  {
   "cell_type": "code",
   "execution_count": 32,
   "id": "c0646ebf-dc61-4fc5-a3e0-f9516a9aed5e",
   "metadata": {},
   "outputs": [
    {
     "data": {
      "text/plain": [
       "count    115040.000000\n",
       "mean          2.237813\n",
       "std           1.151461\n",
       "min           1.000000\n",
       "25%           1.000000\n",
       "50%           2.000000\n",
       "75%           3.000000\n",
       "max           5.000000\n",
       "dtype: float64"
      ]
     },
     "execution_count": 32,
     "metadata": {},
     "output_type": "execute_result"
    }
   ],
   "source": [
    "pd.Series([len(h) for h in habr_df.hubs]).describe()"
   ]
  },
  {
   "cell_type": "markdown",
   "id": "40b24a7b-6ce2-47be-8b3c-f406f1d86d55",
   "metadata": {},
   "source": [
    "Самое большое количество упомянутых хабов в одной публикации: 5 \n",
    "\n",
    "Чаще всего в одной публикации указывают хабов: 2 "
   ]
  },
  {
   "cell_type": "markdown",
   "id": "0349735a-9d77-45fc-8ab9-8b294e534387",
   "metadata": {},
   "source": [
    "## Обучение модели\n",
    "\n",
    "Планируется применить следующие модели:\n",
    "\n",
    "`Logistic Regression`, `Linear Support Vector Machine`, `Multinomial Naive Bayes`, `Random Forest`, `Catboost`\n",
    "\n",
    "У текстов статей при помощи регулярных выражений в ноутбуке `EDA/preprocessing_data.ipynb` уже были удалены знаки препинания, цифры и другие неинформативные символы – остались только слова, приведенные к нижнему регистру. После этого, используя `pymystem3`, к текстам статей применялась лемматизация, а теперь для получившихся лемматизированных текстов произведем токенизацию текста по словам."
   ]
  },
  {
   "cell_type": "markdown",
   "id": "59ee5558-8c1f-4c63-9e6e-74f8b7ff8545",
   "metadata": {},
   "source": [
    "### TF-IDF"
   ]
  },
  {
   "cell_type": "code",
   "execution_count": 4,
   "id": "7d7bb5af-d6aa-456e-8f34-719204380884",
   "metadata": {},
   "outputs": [
    {
     "name": "stdout",
     "output_type": "stream",
     "text": [
      "CPU times: user 1min 24s, sys: 14.6 s, total: 1min 38s\n",
      "Wall time: 1min 43s\n"
     ]
    }
   ],
   "source": [
    "\"\"\"%%time\n",
    "STOPWORDS = nltk.corpus.stopwords.words(\"russian\")\n",
    "tfidfvectorizer = TfidfVectorizer(analyzer='word', min_df=20, stop_words=STOPWORDS)\n",
    "df_train['tfidf'] = [i for i in tfidfvectorizer.fit_transform(df_train['lemmatized_text'].values).toarray()]\n",
    "df_val['tfidf'] = [i for i in tfidfvectorizer.transform(df_val['lemmatized_text'].values).toarray()]\"\"\""
   ]
  },
  {
   "cell_type": "markdown",
   "id": "47ff2654-f8de-4d7d-9e90-694298c88d40",
   "metadata": {},
   "source": [
    "(min_df=20 так как при меньшем значении падает ядро)"
   ]
  },
  {
   "cell_type": "code",
   "execution_count": 36,
   "id": "fb3e2d46-3216-40b8-8d14-bda76b5d363b",
   "metadata": {},
   "outputs": [
    {
     "name": "stdout",
     "output_type": "stream",
     "text": [
      "CPU times: user 1min 32s, sys: 5.37 s, total: 1min 38s\n",
      "Wall time: 1min 43s\n"
     ]
    }
   ],
   "source": [
    "%%time\n",
    "STOPWORDS = nltk.corpus.stopwords.words(\"russian\")\n",
    "tfidfvectorizer = TfidfVectorizer(analyzer='word', min_df=20, stop_words=STOPWORDS)\n",
    "x_train_tfidf = tfidfvectorizer.fit_transform(df_train['lemmatized_text'].values)\n",
    "x_val_tfidf = tfidfvectorizer.transform(df_val['lemmatized_text'].values)\n",
    "x_test_tfidf = tfidfvectorizer.transform(df_test['lemmatized_text'].values)"
   ]
  },
  {
   "cell_type": "code",
   "execution_count": 37,
   "id": "8661eb42-7242-48ba-91f8-41f528730e98",
   "metadata": {},
   "outputs": [
    {
     "data": {
      "text/plain": [
       "((80528, 50606), (17256, 50606), (17256, 50606))"
      ]
     },
     "execution_count": 37,
     "metadata": {},
     "output_type": "execute_result"
    }
   ],
   "source": [
    "x_train_tfidf.shape, x_val_tfidf.shape, x_test_tfidf.shape"
   ]
  },
  {
   "cell_type": "code",
   "execution_count": 22,
   "id": "97546ef6-14e2-49b9-9439-50cdb7514ddd",
   "metadata": {},
   "outputs": [],
   "source": [
    "'''with open('data/tfidfvectorizer_new.pkl', 'wb') as file:\n",
    "    pickle.dump(tfidfvectorizer, file)'''\n",
    "with open('data/tfidfvectorizer_new.pkl', 'rb') as f:\n",
    "    tfidfvectorizer = pickle.load(f)"
   ]
  },
  {
   "cell_type": "code",
   "execution_count": 7,
   "id": "4ac12a88-c304-461c-ab85-80e87b299993",
   "metadata": {},
   "outputs": [
    {
     "name": "stdout",
     "output_type": "stream",
     "text": [
      "Длина вектора: 50606\n"
     ]
    }
   ],
   "source": [
    "len_vec = x_train_tfidf.shape[1]\n",
    "print(f'Длина вектора: {len_vec}')"
   ]
  },
  {
   "cell_type": "code",
   "execution_count": 4,
   "id": "e6f8b269-64ad-4e29-ac82-e97ce38b4f88",
   "metadata": {},
   "outputs": [],
   "source": [
    "hubs_count = pd.Series([i for j in df_train['hubs'].values for i in j]).value_counts()\n",
    "hubs_dict = dict(zip(hubs_count.index, range(len(hubs_count.index))))\n",
    "dict_hubs = {j: i for i, j in hubs_dict.items()}"
   ]
  },
  {
   "cell_type": "code",
   "execution_count": 20,
   "id": "568a2ce3-d893-4a09-b24a-c7f7c46b57d5",
   "metadata": {},
   "outputs": [
    {
     "name": "stdout",
     "output_type": "stream",
     "text": [
      "У нас собраны тексты из 321 хаба\n"
     ]
    }
   ],
   "source": [
    "print(f'У нас собраны тексты из {len(hubs_dict)} хаба')"
   ]
  },
  {
   "cell_type": "markdown",
   "id": "4b81714b-3862-4dcd-8fa4-4e7eff034549",
   "metadata": {},
   "source": [
    "Для начала **оставим первый хаб в каждой статье** исходя из предположения, что он - самый главный и наиболее точно описывающий тематику статьи (Multiclass classification). Позже перейдем к классификации хабов с несколькими выходами (Multiclass-multioutput classification)."
   ]
  },
  {
   "cell_type": "code",
   "execution_count": 5,
   "id": "0cb0a839-118e-42ad-80a0-654bd6b74ad8",
   "metadata": {},
   "outputs": [],
   "source": [
    "# пока оставим первый хаб \n",
    "y_train = df_train.hubs.map(lambda a: a[0])\n",
    "y_val = df_val.hubs.map(lambda a: a[0])\n",
    "y_test = df_test.hubs.map(lambda a: a[0])"
   ]
  },
  {
   "cell_type": "markdown",
   "id": "424383a5-a5df-4305-8244-9f623552ab51",
   "metadata": {},
   "source": [
    "### LogisticRegression\n",
    "\n",
    "Первая модель для обучения - логистическая регрессия."
   ]
  },
  {
   "cell_type": "markdown",
   "id": "32cc03be-64cd-4e6a-a2ae-3e0cdbfa59b7",
   "metadata": {},
   "source": [
    "**Так как задача многоклассовая с несбалансированными классами, то будут использовать следующие метрики:**\n",
    "\n",
    "`F1-macro` – вычисляет F1-меру для каждого класса, а потом возвращает среднее арифметическое по всем классам, \n",
    "\n",
    "`F1-weighted` – вычисляет F1-меру для каждого класса, а потом возвращает среднее арифметическое по всем классам с учетом доли объектов каждого класса в наборе данных.\n",
    "\n",
    "Разница между метриками `F1-macro` и `F1-weighted` будет показывать, насколько хорошо распознаются классы с небольшим количеством объектов.\n",
    "\n",
    "\n",
    "`accuracy` и `F1-micro` также считаем для модели, но планируем оценивать качество по `F1-macro` и `F1-weighted`.\n"
   ]
  },
  {
   "cell_type": "code",
   "execution_count": 18,
   "id": "98e9b786-080c-44bb-9120-90843e943d1d",
   "metadata": {},
   "outputs": [],
   "source": [
    "logit = LogisticRegression(solver='lbfgs', multi_class='multinomial', max_iter = 1000, random_state=42, n_jobs=-1)"
   ]
  },
  {
   "cell_type": "code",
   "execution_count": 22,
   "id": "9ffe2e95-173e-42c0-924c-462798757fa7",
   "metadata": {},
   "outputs": [],
   "source": [
    "logit = logit.fit(x_train_tfidf, y_train)\n"
   ]
  },
  {
   "cell_type": "code",
   "execution_count": 184,
   "id": "b6df2583-939d-466b-8623-3c1936a93238",
   "metadata": {},
   "outputs": [
    {
     "name": "stdout",
     "output_type": "stream",
     "text": [
      "accuracy 0.47821047751506723\n",
      "f1-score (macro) 0.15717769722846486\n",
      "f1-score (micro) 0.47821047751506723\n",
      "f1-score (weighted) 0.4436455288546236\n"
     ]
    }
   ],
   "source": [
    "y_pred = logit.predict(x_val_tfidf)\n",
    "print('accuracy %s' % accuracy_score(y_val, y_pred))\n",
    "print('f1-score (macro) %s' % f1_score(y_val, y_pred, average='macro'))\n",
    "print('f1-score (micro) %s' % f1_score(y_val, y_pred, average='micro'))\n",
    "print('f1-score (weighted) %s' % f1_score(y_val, y_pred, average='weighted'))"
   ]
  },
  {
   "cell_type": "code",
   "execution_count": 51,
   "id": "9804c5b4-c878-4eb3-bd60-378f947496d5",
   "metadata": {},
   "outputs": [
    {
     "name": "stdout",
     "output_type": "stream",
     "text": [
      "                             precision    recall  f1-score   support\n",
      "\n",
      "                         1C       0.00      0.00      0.00        14\n",
      "                3d_graphics       0.63      0.41      0.50        82\n",
      "                       AJAX       0.00      0.00      0.00         2\n",
      "                  Atlassian       0.00      0.00      0.00         6\n",
      "                     Hadoop       0.00      0.00      0.00         1\n",
      "                       IPFS       0.00      0.00      0.00         1\n",
      "               Sailfish_dev       0.00      0.00      0.00         1\n",
      "              accessibility       0.00      0.00      0.00        10\n",
      "                      agile       0.17      0.04      0.06        27\n",
      "                 algorithms       0.34      0.23      0.28       180\n",
      "            analysis_design       0.33      0.35      0.34       265\n",
      "                android_dev       0.41      0.30      0.35       126\n",
      "                    angular       0.00      0.00      0.00         9\n",
      "                  animation       0.00      0.00      0.00         8\n",
      "                     apache       0.00      0.00      0.00        15\n",
      "                        api       0.50      0.20      0.28        46\n",
      "                apps_design       0.00      0.00      0.00        21\n",
      "                    arduino       0.40      0.39      0.39        31\n",
      "                    arvrdev       0.65      0.46      0.54        24\n",
      "                        asp       0.00      0.00      0.00         2\n",
      "                  assembler       0.57      0.20      0.30        20\n",
      "                   asterisk       0.00      0.00      0.00         7\n",
      "                        aws       0.33      0.17      0.22        18\n",
      "                      azure       0.30      0.19      0.23        16\n",
      "                     backup       0.00      0.00      0.00        12\n",
      "                    bigdata       0.41      0.37      0.39       123\n",
      "                    billing       0.00      0.00      0.00         1\n",
      "                     bitrix       0.00      0.00      0.00        10\n",
      "                 bughunters       0.00      0.00      0.00         1\n",
      "           build_automation       0.00      0.00      0.00         3\n",
      "            business_models       0.34      0.17      0.23        64\n",
      "                          c       0.00      0.00      0.00        18\n",
      "                    cad_cam       0.86      0.53      0.65        34\n",
      "                        cgi       0.00      0.00      0.00         3\n",
      "             circuit-design       0.88      0.38      0.53        37\n",
      "              cisconetworks       0.00      0.00      0.00        12\n",
      "   client_side_optimization       0.00      0.00      0.00        16\n",
      "                    clojure       0.00      0.00      0.00         1\n",
      "            cloud_computing       0.29      0.13      0.18        54\n",
      "             cloud_services       0.38      0.34      0.36       115\n",
      "                        cms       0.87      0.33      0.48        39\n",
      "                      cobol       0.00      0.00      0.00         1\n",
      "       community_management       0.37      0.17      0.23        64\n",
      "                  compilers       0.00      0.00      0.00         5\n",
      "              complete_code       0.00      0.00      0.00        27\n",
      "           contentmarketing       0.54      0.16      0.25        44\n",
      "                    context       0.00      0.00      0.00        14\n",
      "                controllers       0.32      0.54      0.40        78\n",
      "                 conversion       0.00      0.00      0.00         5\n",
      "                        cpp       0.37      0.18      0.24       131\n",
      "                   crazydev       0.35      0.07      0.11       138\n",
      "                        crm       0.33      0.10      0.15        21\n",
      "                     crypto       0.44      0.13      0.21        52\n",
      "                     csharp       0.00      0.00      0.00        20\n",
      "                        css       0.56      0.11      0.18        46\n",
      "                        ctf       0.00      0.00      0.00         1\n",
      "                        cvs       0.00      0.00      0.00         5\n",
      "                          d       0.00      0.00      0.00         1\n",
      "                       dart       0.00      0.00      0.00        11\n",
      "           data_compression       0.00      0.00      0.00         2\n",
      "           data_engineering       0.00      0.00      0.00         7\n",
      "                data_mining       0.35      0.15      0.21       112\n",
      "              data_recovery       0.00      0.00      0.00        16\n",
      "         data_visualization       0.67      0.05      0.10        39\n",
      "             data_warehouse       0.00      0.00      0.00         5\n",
      "                  db_admins       1.00      0.06      0.12        31\n",
      "                      debug       0.00      0.00      0.00         5\n",
      "                     delphi       0.00      0.00      0.00         7\n",
      "        desktop_environment       0.00      0.00      0.00         3\n",
      "             dev_management       0.39      0.47      0.43       264\n",
      "                    devmail       0.00      0.00      0.00         1\n",
      "                     devops       0.40      0.08      0.14        71\n",
      "                display_adv       0.50      0.12      0.20        32\n",
      "        distributed_systems       0.00      0.00      0.00         8\n",
      "                     django       0.00      0.00      0.00         3\n",
      "                        dns       0.00      0.00      0.00         2\n",
      "                    domains       0.67      0.22      0.33        18\n",
      "                        dwh       0.63      0.24      0.35        79\n",
      "                    eclipse       0.00      0.00      0.00         2\n",
      "                        ecm       0.00      0.00      0.00         9\n",
      "                  ecommerce       0.51      0.52      0.52       138\n",
      "      ecommerce_development       0.00      0.00      0.00        21\n",
      "                electronics       0.47      0.72      0.57       260\n",
      "              elixirphoenix       0.00      0.00      0.00         1\n",
      "                      emacs       0.00      0.00      0.00         1\n",
      "             emailmarketing       0.00      0.00      0.00         4\n",
      "        engineering_systems       0.44      0.33      0.38        45\n",
      "                     erlang       0.00      0.00      0.00         4\n",
      "                        erp       0.27      0.12      0.17        25\n",
      "                       fido       0.00      0.00      0.00         1\n",
      "                   firebird       0.00      0.00      0.00         2\n",
      "                    flutter       0.00      0.00      0.00         6\n",
      "                       fpga       0.58      0.30      0.40        23\n",
      "                     fsharp       0.00      0.00      0.00         2\n",
      "                   funcprog       0.00      0.00      0.00         4\n",
      "                        gae       0.00      0.00      0.00         3\n",
      "                game_design       0.00      0.00      0.00        16\n",
      "          game_monetization       0.00      0.00      0.00        13\n",
      "             game_promotion       0.00      0.00      0.00         7\n",
      "               game_testing       0.00      0.00      0.00        10\n",
      "                    gamedev       0.59      0.81      0.68       417\n",
      "                        geo       0.41      0.23      0.30        39\n",
      "                geo_systems       0.00      0.00      0.00        17\n",
      "                        git       0.63      0.46      0.53        26\n",
      "                     github       0.00      0.00      0.00        20\n",
      "                         go       0.26      0.12      0.16        50\n",
      "                      godot       0.00      0.00      0.00         1\n",
      "                 google_api       0.00      0.00      0.00         2\n",
      "                googlecloud       0.00      0.00      0.00         2\n",
      "                      gpgpu       0.00      0.00      0.00         3\n",
      "               graph_design       0.33      0.05      0.09        20\n",
      "              groovy_grails       0.00      0.00      0.00         1\n",
      "              growthhacking       0.00      0.00      0.00        16\n",
      "                        gtd       0.61      0.35      0.45        54\n",
      "                    haskell       0.00      0.00      0.00         3\n",
      "                       haxe       0.00      0.00      0.00         1\n",
      "                   helpdesk       0.69      0.38      0.49        24\n",
      "                         hi       0.34      0.38      0.36       309\n",
      "              hr_management       0.50      0.70      0.58       358\n",
      "                      html5       0.00      0.00      0.00         4\n",
      "                  iconoskaz       0.00      0.00      0.00         6\n",
      "           image_processing       0.43      0.35      0.39       102\n",
      "  industrial_control_system       0.67      0.17      0.27        24\n",
      "                   infolust       0.00      0.00      0.00         1\n",
      "               infosecurity       0.65      0.89      0.75      2077\n",
      "          instant_messaging       0.53      0.52      0.52       115\n",
      "          internetmarketing       0.41      0.41      0.41        99\n",
      "                    ios_dev       0.64      0.72      0.68       312\n",
      "                    iot_dev       0.00      0.00      0.00        29\n",
      "                       iptv       0.00      0.00      0.00         1\n",
      "          it-infrastructure       0.37      0.46      0.41       607\n",
      "            it_monetization       0.00      0.00      0.00        14\n",
      "                 it_testing       0.61      0.58      0.60       279\n",
      "                itstandarts       0.00      0.00      0.00        36\n",
      "                       java       0.48      0.39      0.43       253\n",
      "                 javascript       0.51      0.51      0.51       357\n",
      "                     joomla       0.00      0.00      0.00         1\n",
      "                      julia       0.00      0.00      0.00         2\n",
      "                     kotlin       0.00      0.00      0.00         5\n",
      "                 kubernetes       0.00      0.00      0.00        14\n",
      "                    labview       0.00      0.00      0.00         3\n",
      "                    laravel       0.00      0.00      0.00         2\n",
      "                      latex       0.00      0.00      0.00         2\n",
      "                        lib       0.53      0.42      0.47       119\n",
      "                      linux       0.48      0.57      0.52       243\n",
      "                  linux_dev       0.00      0.00      0.00        30\n",
      "                       lisp       0.00      0.00      0.00        10\n",
      "               localization       0.40      0.09      0.15        22\n",
      "                        lua       0.00      0.00      0.00         5\n",
      "           machine_learning       0.40      0.50      0.45       304\n",
      "                    magento       0.00      0.00      0.00         2\n",
      "                    map_api       0.00      0.00      0.00         4\n",
      "                      maths       0.52      0.66      0.58       133\n",
      "                     matlab       0.00      0.00      0.00         3\n",
      "           media_management       1.00      0.19      0.32        16\n",
      "            mesh_networking       0.00      0.00      0.00         3\n",
      "               microformats       0.00      0.00      0.00         1\n",
      "              microservices       0.00      0.00      0.00        11\n",
      "                 mobile_dev       0.38      0.36      0.37       259\n",
      "        mobile_monetization       0.00      0.00      0.00        18\n",
      "             mobile_testing       0.00      0.00      0.00         7\n",
      "            mobileanalytics       0.00      0.00      0.00         8\n",
      "                       modx       0.00      0.00      0.00         2\n",
      "                    mongodb       0.00      0.00      0.00         3\n",
      "                      mssql       0.77      0.48      0.59        21\n",
      "                      mysql       0.40      0.14      0.21        14\n",
      "natural_language_processing       0.00      0.00      0.00         7\n",
      "                     nestjs       0.00      0.00      0.00         1\n",
      "                        net       0.53      0.43      0.48       173\n",
      "                     netdev       0.24      0.10      0.14        51\n",
      "          network_standarts       0.50      0.04      0.07        25\n",
      "       network_technologies       0.28      0.12      0.17       135\n",
      "                      nginx       0.67      0.14      0.24        14\n",
      "                        nix       0.00      0.00      0.00        43\n",
      "                     nodejs       0.00      0.00      0.00        15\n",
      "                      nosql       0.00      0.00      0.00        14\n",
      "               office365dev       0.00      0.00      0.00         3\n",
      "                        oop       0.00      0.00      0.00         5\n",
      "                open_source       0.46      0.41      0.43       554\n",
      "                   opendata       0.00      0.00      0.00        13\n",
      "              openstreetmap       0.73      0.73      0.73        11\n",
      "                     oracle       0.80      0.29      0.42        42\n",
      "                    osx_dev       0.67      0.17      0.27        12\n",
      "                        p2p       0.42      0.39      0.41        99\n",
      "       parallel_programming       0.00      0.00      0.00         4\n",
      "                    patents       0.76      0.64      0.69        55\n",
      "                 pay_system       0.58      0.61      0.60        93\n",
      "                       perl       1.00      0.12      0.22         8\n",
      "                        php       0.56      0.33      0.41       162\n",
      "                         pm       0.31      0.28      0.30       282\n",
      "                 postgresql       0.65      0.75      0.69        95\n",
      "                 powershell       0.00      0.00      0.00         9\n",
      "            processing_lang       0.00      0.00      0.00         1\n",
      "                  productpm       0.36      0.24      0.29       132\n",
      "                programming       0.32      0.54      0.40      1144\n",
      "                prototyping       0.00      0.00      0.00        19\n",
      "                     python       0.57      0.75      0.65       658\n",
      "                qt_software       0.00      0.00      0.00         7\n",
      "                          r       0.00      0.00      0.00        14\n",
      "                raspberrypi       0.59      0.49      0.53        35\n",
      "                    reactjs       0.00      0.00      0.00        11\n",
      "                refactoring       0.00      0.00      0.00        24\n",
      "                      regex       0.00      0.00      0.00         1\n",
      "                   research       0.38      0.37      0.38       211\n",
      "        reverse-engineering       1.00      0.05      0.10        38\n",
      "                   robo_dev       0.59      0.61      0.60        90\n",
      "                        ror       0.00      0.00      0.00         5\n",
      "                       ruby       0.82      0.44      0.57        32\n",
      "                       rust       0.00      0.00      0.00        11\n",
      "                    s_admin       0.00      0.00      0.00        33\n",
      "                       saas       1.00      0.10      0.18        10\n",
      "                      sales       0.43      0.20      0.27        76\n",
      "                        san       0.00      0.00      0.00         1\n",
      "                      scada       0.00      0.00      0.00         3\n",
      "                      scala       1.00      0.20      0.33        10\n",
      "        search_technologies       0.67      0.59      0.62        82\n",
      "                        seo       0.00      0.00      0.00         6\n",
      "   server_side_optimization       0.00      0.00      0.00        22\n",
      "                 serverless       0.00      0.00      0.00         2\n",
      "               service_desk       0.50      0.11      0.18        18\n",
      "                 sharepoint       0.00      0.00      0.00         5\n",
      "                     shells       0.00      0.00      0.00         1\n",
      "                   solidity       0.00      0.00      0.00         7\n",
      "          sport_programming       0.60      0.35      0.44        34\n",
      "                        sql       0.36      0.36      0.36        42\n",
      "                         sw       0.75      0.21      0.33        28\n",
      "                      swift       0.00      0.00      0.00         4\n",
      "                    symfony       0.00      0.00      0.00         1\n",
      "                  sys_admin       0.34      0.52      0.41       485\n",
      "         system_programming       0.43      0.11      0.18        27\n",
      "                  tarantool       0.00      0.00      0.00         2\n",
      "                        tdd       0.00      0.00      0.00         6\n",
      "          technical_writing       0.00      0.00      0.00        13\n",
      "                 tensorflow       0.00      0.00      0.00         2\n",
      "                    txt_ide       0.00      0.00      0.00         2\n",
      "                 typescript       0.00      0.00      0.00         3\n",
      "                 typography       0.25      0.17      0.20         6\n",
      "                         ui       0.43      0.24      0.31        95\n",
      "                      unity       0.00      0.00      0.00         9\n",
      "              unreal_engine       0.00      0.00      0.00         3\n",
      "                  usability       0.00      0.00      0.00        25\n",
      "                        vba       0.00      0.00      0.00         4\n",
      "            vector_graphics       0.00      0.00      0.00        15\n",
      "                      video       0.48      0.60      0.53       164\n",
      "                        vim       1.00      0.33      0.50         6\n",
      "             virtualization       0.20      0.04      0.07        45\n",
      "                      virus       0.00      0.00      0.00        26\n",
      "         visual_programming       0.00      0.00      0.00         1\n",
      "                     vk_api       0.00      0.00      0.00         1\n",
      "           voice_interfaces       0.86      0.30      0.44        20\n",
      "                         vs       0.00      0.00      0.00         7\n",
      "                      vuejs       0.00      0.00      0.00         6\n",
      "                 web_design       0.51      0.49      0.50       141\n",
      "           web_monetization       0.17      0.05      0.07        22\n",
      "                web_testing       0.00      0.00      0.00        35\n",
      "                      weban       0.57      0.26      0.36        31\n",
      "                webassembly       0.00      0.00      0.00         2\n",
      "                     webdev       0.45      0.58      0.50       763\n",
      "                      webgl       0.00      0.00      0.00         1\n",
      "                    win_dev       0.41      0.36      0.39        33\n",
      "                   wireless       0.47      0.44      0.45       103\n",
      "                  wordpress       0.67      0.20      0.31        10\n",
      "                     wp_dev       0.00      0.00      0.00         1\n",
      "                      xcode       0.00      0.00      0.00         6\n",
      "                       xslt       0.00      0.00      0.00         1\n",
      "                 yandex_api       0.00      0.00      0.00         3\n",
      "                        yii       0.00      0.00      0.00         1\n",
      "\n",
      "                   accuracy                           0.48     17256\n",
      "                  macro avg       0.22      0.14      0.16     17256\n",
      "               weighted avg       0.45      0.48      0.44     17256\n",
      "\n"
     ]
    }
   ],
   "source": [
    "print(classification_report(y_val, y_pred, zero_division = 0, target_names=np.unique(y_val)))"
   ]
  },
  {
   "cell_type": "markdown",
   "id": "2b5b14b2-c09b-460c-bfe4-10172a9dae30",
   "metadata": {},
   "source": [
    "Кажется, что малочисленные классы предсказываются плохо. \n",
    "\n",
    "Метрики первой обученной логистической регрессии:\n",
    "`F1-macro= 0.16` и `F1-weighted=0.44`, `accuracy=0.48`"
   ]
  },
  {
   "cell_type": "markdown",
   "id": "08851002-3f5b-40c7-8f14-aba6f9664264",
   "metadata": {},
   "source": [
    "Посмотрим на конкретном тексте из валидационной выборки, как работает обученная модель:"
   ]
  },
  {
   "cell_type": "code",
   "execution_count": 81,
   "id": "252ce3d1-97e5-4a07-8f93-4f1d05f7af00",
   "metadata": {},
   "outputs": [
    {
     "data": {
      "text/plain": [
       "'умный разработчик любить работать умный код открывать качественный исходник привлекать талант иллюстрация kevin знать проект facebook открытый исходный код вопрос задавать инженер джеймс пирс бывший директор программа открытый исходный код facebook изучать причина почему приходить компания согласно презентация reilly open source convention треть инженер facebook знать программа приход компания половина сказать это положительно повлиять решение работать facebook facebook одинокий независимо размер компания открывать исходник хороший способ привлекать хороший инженер проанализировать ведущий американский технологический стартапов количество подавать заявка соискание вакансия angellist весь история обнаруживать половина размещать проект open source грамотно применять открытый исходник привлечение инженер целый искусство недостаточно просто опубликовывать репозиторий github надеяться хороший приносить польза рекрутинг следовать подходить каждый проект open source позиция маркетолог писать читаемый код смысл открытие код разработчик изучать возможно вносить свой вклад это код должный написать максимально понятно это значить возможность максимально простой рефакторинг следование соглашение стиль имя отступ проч замена приватный информация переменный среда комментирование отдельный фрагмент инструмент react beautiful dnd создание драга дроп интерфейс стиль trello react хороший пример четко написать программный обеспечение открытый исходный код структура проект модульный код понятный тщательно закомментировать открытие исходник подходить каждый файл словно читатель вообще видеть остальной кодовый база поскольку наверняка пример высокий показывать простой экспорт комментарий объясняться каждый функция код последовательный стиль говорить имя свойство точно отражать значение результат репозиторий звезда github коммит десяток участник вывод простой просто сторонний разработчик понимать ваш код легко вносить свой вклад писать эффективный документация документация это ваш рекламный буклет должный первый взгляд убеждать инженер ваш проект достойный участие это нужно сформулировать ценность проект объяснять весь аспект процесс контрибутор возникать никакой вопрос перечислять технический спецификация зависимость лицензия обеспечивать простой доступ справочный материал особый случай проект annoy approximate nearest neighbors yeah spotify библиотека который искать пространство точка близкий заданный точка запрос пример очень хороший документация файл readme говорить устанавливать библиотека окружение содержать пример код перечислять зависимость глубоко погружаться логика программный обеспечение оно также сравниваться скорость annoy библиотека nearest neighbor страница документация давать разработчик весь необходимый информация решение участвовать проект продвигать репозиторий продукт год github ежедневно публиковаться репозиторий выделять свой проект среди миллион требоваться усилие стратегия это отличаться запуск настоящий продукт рассматривать возможность продвижение новый репозиторий популярный сайт hacker news reddit tech ladder соответствовать сообщество product hunt gitter dev канал аудитория почтовый рассылка социальный сеть многий мочь проявлять творческий подход применять иной маркетинговый тактика например команда некоммерческий организация который создавать программный обеспечение некоммерческий организация проводить учебный семинар местный университет участие который студент должный использовать новый библиотека репозиторий быстро появляться форка звезда компания интересоваться разработчик узкий специализация продвижение важно стартап wallaroo labs который помогать клиент разворачивать крупномасштабный приложение работа данные кодовый база довольно странный язык название pony компания последний год открывать весь код активно продвигать репозиторий писать статья блог раздавать интервью выступать конференция тема построить весь кодовый база pony директор разработка wallaroo шон аллен сказать кампания оказываться эффективный многий брать интервью это человек который хотеть работать pony заинтересовываться наш кодовый база являться крупный кодовый база pony открытый доступ представлять свой репозиторий продукт инженер целевой аудитория почему хороший инженер выступать открытый код открывать исходник просто необходимый хотеть нанимать хороший человек отрасль говорить технический директор artsy даниэль дубровкин пояснять личный технический бренд становиться очень очень важный отдельный разработчик инженер сегодня хотеть открыто демонстрировать свой навык прятать хотеть работать открытый софт это создавать некоторый репутация это дубровкин решать группа разработка умолчание работать открытый код отказ стандартный подход инженер должный четко объяснять бизнес причина почему публиковать данный код публичный доступ результат большинство материал artsy находиться свободный доступ материал прием работа хороший компания изменять свой бизнес требование соответствие желание индивидуальный разработчик который хотеть построить свой личный бренд сказать рекрутинговый отдел дубровкин использовать качество маркетинговый преимущество факт инженер artsy обязанный публично делиться код указание свой имя преимущество справедливо компания умный человек любить общаться умный человек писать престон вернер соучредитель github умный разработчик любить работать умный код открывать качественный исходник привлекать талант'"
      ]
     },
     "execution_count": 81,
     "metadata": {},
     "output_type": "execute_result"
    }
   ],
   "source": [
    "df_val.lemmatized_text.iloc[130]"
   ]
  },
  {
   "cell_type": "code",
   "execution_count": 80,
   "id": "ae1fb0ff-0ad1-4188-a99f-84a49f49b442",
   "metadata": {},
   "outputs": [],
   "source": [
    "test_predicting = tfidfvectorizer.transform([df_val.lemmatized_text.iloc[130]])"
   ]
  },
  {
   "cell_type": "code",
   "execution_count": 120,
   "id": "415034f8-40ef-48da-817b-c51388ea6e74",
   "metadata": {},
   "outputs": [
    {
     "name": "stdout",
     "output_type": "stream",
     "text": [
      "Предсказанный хаб: ['open_source']\n"
     ]
    }
   ],
   "source": [
    "print(f'Предсказанный хаб: {logit.predict(test_predicting)}')"
   ]
  },
  {
   "cell_type": "code",
   "execution_count": 122,
   "id": "016126aa-dcad-4a42-b04a-ad7259bad002",
   "metadata": {},
   "outputs": [
    {
     "name": "stdout",
     "output_type": "stream",
     "text": [
      "Спиок реально указанных хабов: ['open_source', 'github', 'hr_management']\n"
     ]
    }
   ],
   "source": [
    "print(f'Спиок реально указанных хабов: {df_val.hubs.iloc[130]}')"
   ]
  },
  {
   "cell_type": "markdown",
   "id": "083a538b-6bf6-4121-ab04-ad7e58c70753",
   "metadata": {},
   "source": [
    "Еще раз на другом тексте:"
   ]
  },
  {
   "cell_type": "code",
   "execution_count": 123,
   "id": "c3dce86a-dd1d-4ae4-b0b9-1c11d71b2816",
   "metadata": {},
   "outputs": [
    {
     "data": {
      "text/plain": [
       "'прототип робот дуняша становиться первый миссис пермь диана габдуллина апрель год пермский компания промобот представлять кибер кафетерий робот дуняша база робот компаньон robo подвижный лицо голова шея функциональный рука который помогать устройство взаимодействовать собеседник жестикулировать наливать кофе брать предмет выполнять различный движение робот кассир дуняша предлагать купить мороженое газировка кофе время ожидание заказ робот способный поддерживать разговор обсуждать новость предлагать сделать совместный селфи первый рабочий кафетерий дуняша появляться центральный парка пермь нижний новгород май год интерьер кибер кафетерий комплект поставка кибер кафе входить фризер приготовление мягкий мороженое аппарат приготовление газированный напиток кофемашина модуль оснащать роботизированный рука манипулятор также терминал самообслуживание гиперреалистичный робот кассир коммуникация клиент оформление заказ заявлять комплектующий кибер кафе преимущественно российский разработчик рассказывать данный версия робот использовать сервопривод новый тип рука также дуняша широкий диапазон регулирование микромимика который позволять выражать эмоция робот ярко создание робот использоваться новый технология изготовление силиконовый кожа больший эластичность дуняша дорабатывать гиперреалистичный глаз подвижный модуль внутри голова мимика начало апрель промобот представлять модификация свой робот компаньон robo функциональный подвижный рука каждый роборука двигатель степень свобода мочь наливать кофе жестикулировать брать предмет выполнять рука различный движение компания уточнять система динамический стабилизация сервопривод контролер рука становиться основа разработка функциональный нога человекоподобный робот промбот приступать разработка производство январь год промобот представлять второй инженерный вариант человекоподобный робот robo подвижный лицо голова шея рука который помогать устройство взаимодействовать аудитория жестикулировать робот мочь двигать глаз бровь губа также поддерживать разговор вариант robo оснащать новый сервопривод широкий диапазон регулирование микромимика гиперреалистичный силиконовый кожа глаз использовать работа алгоритм технология промобот позволять robo воспроизводить свыше вариант микромимика человек максимально реалистичный имитировать эмоция окружающие август год промобот представлять первый вариант человекоподобный робот robo который мочь двигать мышца лицо поддерживать разговор отвечать вопрос мимика robo компания промобот основывать год пермь робот трудиться страна мир качество администратор промоутер консультант гид консьерж заменять дополнять обычный сотрудник робот промобот встречать сбербанк московский метро музей современный история россия мфц аэропорт балтимор вашингтон дубай молла недавно появляться версия робот промобот проверка код гражданин'"
      ]
     },
     "execution_count": 123,
     "metadata": {},
     "output_type": "execute_result"
    }
   ],
   "source": [
    "df_val.lemmatized_text.iloc[5000]"
   ]
  },
  {
   "cell_type": "code",
   "execution_count": 124,
   "id": "99c177c0-44de-4923-866c-fd828243e00b",
   "metadata": {},
   "outputs": [],
   "source": [
    "test_predicting = tfidfvectorizer.transform([df_val.lemmatized_text.iloc[5000]])"
   ]
  },
  {
   "cell_type": "code",
   "execution_count": 125,
   "id": "93441592-f6f9-411f-b205-b68eaff4bfa8",
   "metadata": {},
   "outputs": [
    {
     "name": "stdout",
     "output_type": "stream",
     "text": [
      "Предсказанный хаб: ['robo_dev']\n"
     ]
    }
   ],
   "source": [
    "print(f'Предсказанный хаб: {logit.predict(test_predicting)}')"
   ]
  },
  {
   "cell_type": "code",
   "execution_count": 127,
   "id": "9d96610d-bc8f-47fe-a423-ab1580d21354",
   "metadata": {},
   "outputs": [
    {
     "name": "stdout",
     "output_type": "stream",
     "text": [
      "Спиок реально указанных хабов: ['robo_dev']\n"
     ]
    }
   ],
   "source": [
    "print(f'Спиок реально указанных хабов: {df_val.hubs.iloc[5000]}')"
   ]
  },
  {
   "cell_type": "code",
   "execution_count": 105,
   "id": "cb892065-63f6-4811-bc02-8ec540af1c32",
   "metadata": {},
   "outputs": [],
   "source": [
    "pickle.dump(logit, open('logit1.pkl', 'wb'))"
   ]
  },
  {
   "cell_type": "markdown",
   "id": "4ab0038f-ec8d-48cd-8fc1-efa94061c7b9",
   "metadata": {},
   "source": [
    "Еще раз обучим логистическую регрессию увеличив гиперпараметр `C=1` до `С=2`."
   ]
  },
  {
   "cell_type": "code",
   "execution_count": 134,
   "id": "0e3cb309-46c3-40f5-8518-9e496bf800dd",
   "metadata": {},
   "outputs": [
    {
     "data": {
      "text/html": [
       "<style>#sk-container-id-1 {color: black;}#sk-container-id-1 pre{padding: 0;}#sk-container-id-1 div.sk-toggleable {background-color: white;}#sk-container-id-1 label.sk-toggleable__label {cursor: pointer;display: block;width: 100%;margin-bottom: 0;padding: 0.3em;box-sizing: border-box;text-align: center;}#sk-container-id-1 label.sk-toggleable__label-arrow:before {content: \"▸\";float: left;margin-right: 0.25em;color: #696969;}#sk-container-id-1 label.sk-toggleable__label-arrow:hover:before {color: black;}#sk-container-id-1 div.sk-estimator:hover label.sk-toggleable__label-arrow:before {color: black;}#sk-container-id-1 div.sk-toggleable__content {max-height: 0;max-width: 0;overflow: hidden;text-align: left;background-color: #f0f8ff;}#sk-container-id-1 div.sk-toggleable__content pre {margin: 0.2em;color: black;border-radius: 0.25em;background-color: #f0f8ff;}#sk-container-id-1 input.sk-toggleable__control:checked~div.sk-toggleable__content {max-height: 200px;max-width: 100%;overflow: auto;}#sk-container-id-1 input.sk-toggleable__control:checked~label.sk-toggleable__label-arrow:before {content: \"▾\";}#sk-container-id-1 div.sk-estimator input.sk-toggleable__control:checked~label.sk-toggleable__label {background-color: #d4ebff;}#sk-container-id-1 div.sk-label input.sk-toggleable__control:checked~label.sk-toggleable__label {background-color: #d4ebff;}#sk-container-id-1 input.sk-hidden--visually {border: 0;clip: rect(1px 1px 1px 1px);clip: rect(1px, 1px, 1px, 1px);height: 1px;margin: -1px;overflow: hidden;padding: 0;position: absolute;width: 1px;}#sk-container-id-1 div.sk-estimator {font-family: monospace;background-color: #f0f8ff;border: 1px dotted black;border-radius: 0.25em;box-sizing: border-box;margin-bottom: 0.5em;}#sk-container-id-1 div.sk-estimator:hover {background-color: #d4ebff;}#sk-container-id-1 div.sk-parallel-item::after {content: \"\";width: 100%;border-bottom: 1px solid gray;flex-grow: 1;}#sk-container-id-1 div.sk-label:hover label.sk-toggleable__label {background-color: #d4ebff;}#sk-container-id-1 div.sk-serial::before {content: \"\";position: absolute;border-left: 1px solid gray;box-sizing: border-box;top: 0;bottom: 0;left: 50%;z-index: 0;}#sk-container-id-1 div.sk-serial {display: flex;flex-direction: column;align-items: center;background-color: white;padding-right: 0.2em;padding-left: 0.2em;position: relative;}#sk-container-id-1 div.sk-item {position: relative;z-index: 1;}#sk-container-id-1 div.sk-parallel {display: flex;align-items: stretch;justify-content: center;background-color: white;position: relative;}#sk-container-id-1 div.sk-item::before, #sk-container-id-1 div.sk-parallel-item::before {content: \"\";position: absolute;border-left: 1px solid gray;box-sizing: border-box;top: 0;bottom: 0;left: 50%;z-index: -1;}#sk-container-id-1 div.sk-parallel-item {display: flex;flex-direction: column;z-index: 1;position: relative;background-color: white;}#sk-container-id-1 div.sk-parallel-item:first-child::after {align-self: flex-end;width: 50%;}#sk-container-id-1 div.sk-parallel-item:last-child::after {align-self: flex-start;width: 50%;}#sk-container-id-1 div.sk-parallel-item:only-child::after {width: 0;}#sk-container-id-1 div.sk-dashed-wrapped {border: 1px dashed gray;margin: 0 0.4em 0.5em 0.4em;box-sizing: border-box;padding-bottom: 0.4em;background-color: white;}#sk-container-id-1 div.sk-label label {font-family: monospace;font-weight: bold;display: inline-block;line-height: 1.2em;}#sk-container-id-1 div.sk-label-container {text-align: center;}#sk-container-id-1 div.sk-container {/* jupyter's `normalize.less` sets `[hidden] { display: none; }` but bootstrap.min.css set `[hidden] { display: none !important; }` so we also need the `!important` here to be able to override the default hidden behavior on the sphinx rendered scikit-learn.org. See: https://github.com/scikit-learn/scikit-learn/issues/21755 */display: inline-block !important;position: relative;}#sk-container-id-1 div.sk-text-repr-fallback {display: none;}</style><div id=\"sk-container-id-1\" class=\"sk-top-container\"><div class=\"sk-text-repr-fallback\"><pre>LogisticRegression(C=2, max_iter=1000, n_jobs=-1)</pre><b>In a Jupyter environment, please rerun this cell to show the HTML representation or trust the notebook. <br />On GitHub, the HTML representation is unable to render, please try loading this page with nbviewer.org.</b></div><div class=\"sk-container\" hidden><div class=\"sk-item\"><div class=\"sk-estimator sk-toggleable\"><input class=\"sk-toggleable__control sk-hidden--visually\" id=\"sk-estimator-id-1\" type=\"checkbox\" checked><label for=\"sk-estimator-id-1\" class=\"sk-toggleable__label sk-toggleable__label-arrow\">LogisticRegression</label><div class=\"sk-toggleable__content\"><pre>LogisticRegression(C=2, max_iter=1000, n_jobs=-1)</pre></div></div></div></div></div>"
      ],
      "text/plain": [
       "LogisticRegression(C=2, max_iter=1000, n_jobs=-1)"
      ]
     },
     "execution_count": 134,
     "metadata": {},
     "output_type": "execute_result"
    }
   ],
   "source": [
    "lr = LogisticRegression(C = 2, max_iter = 1000, n_jobs=-1)\n",
    "lr.fit(x_train_tfidf, y_train)"
   ]
  },
  {
   "cell_type": "code",
   "execution_count": 135,
   "id": "693921b3-3f5e-4af2-9e6c-8feb92f0bcad",
   "metadata": {},
   "outputs": [],
   "source": [
    "pickle.dump(lr, open('logit2.pkl', 'wb'))"
   ]
  },
  {
   "cell_type": "code",
   "execution_count": 183,
   "id": "c6c2cc60-8152-46a3-91fe-eab6fe7b2bae",
   "metadata": {},
   "outputs": [
    {
     "name": "stdout",
     "output_type": "stream",
     "text": [
      "accuracy 0.49038015762633286\n",
      "f1-score (macro) 0.19108309709914695\n",
      "f1-score (micro) 0.49038015762633286\n",
      "f1-score (weighted) 0.4626421264878426\n"
     ]
    }
   ],
   "source": [
    "y_pred = lr.predict(x_val_tfidf)\n",
    "print('accuracy %s' % accuracy_score(y_val, y_pred))\n",
    "print('f1-score (macro) %s' % f1_score(y_val, y_pred, average='macro'))\n",
    "print('f1-score (micro) %s' % f1_score(y_val, y_pred, average='micro'))\n",
    "print('f1-score (weighted) %s' % f1_score(y_val, y_pred, average='weighted'))"
   ]
  },
  {
   "cell_type": "code",
   "execution_count": 144,
   "id": "2f954460-4241-4ca7-a2ca-d533a65ff08d",
   "metadata": {},
   "outputs": [
    {
     "name": "stdout",
     "output_type": "stream",
     "text": [
      "                             precision    recall  f1-score   support\n",
      "\n",
      "                         1C       1.00      0.07      0.13        14\n",
      "                3d_graphics       0.64      0.45      0.53        82\n",
      "                       AJAX       0.00      0.00      0.00         2\n",
      "                  Atlassian       0.00      0.00      0.00         6\n",
      "                     Hadoop       0.00      0.00      0.00         1\n",
      "                       IPFS       0.00      0.00      0.00         1\n",
      "               Sailfish_dev       0.00      0.00      0.00         1\n",
      "              accessibility       0.00      0.00      0.00        10\n",
      "                      agile       0.14      0.04      0.06        27\n",
      "                 algorithms       0.35      0.25      0.29       180\n",
      "            analysis_design       0.34      0.35      0.34       265\n",
      "                android_dev       0.44      0.34      0.38       126\n",
      "                    angular       0.00      0.00      0.00         9\n",
      "                  animation       0.00      0.00      0.00         8\n",
      "                     apache       0.00      0.00      0.00        15\n",
      "                        api       0.50      0.22      0.30        46\n",
      "                apps_design       0.00      0.00      0.00        21\n",
      "                    arduino       0.36      0.39      0.38        31\n",
      "                    arvrdev       0.57      0.50      0.53        24\n",
      "                        asp       0.00      0.00      0.00         2\n",
      "                  assembler       0.45      0.25      0.32        20\n",
      "                   asterisk       1.00      0.29      0.44         7\n",
      "                        aws       0.36      0.28      0.31        18\n",
      "                      azure       0.45      0.31      0.37        16\n",
      "                     backup       0.00      0.00      0.00        12\n",
      "                    bigdata       0.43      0.40      0.41       123\n",
      "                    billing       0.00      0.00      0.00         1\n",
      "                     bitrix       1.00      0.10      0.18        10\n",
      "                 bughunters       0.00      0.00      0.00         1\n",
      "           build_automation       0.00      0.00      0.00         3\n",
      "            business_models       0.29      0.19      0.23        64\n",
      "                          c       0.00      0.00      0.00        18\n",
      "                    cad_cam       0.72      0.53      0.61        34\n",
      "                        cgi       0.00      0.00      0.00         3\n",
      "             circuit-design       0.75      0.41      0.53        37\n",
      "              cisconetworks       0.00      0.00      0.00        12\n",
      "   client_side_optimization       0.00      0.00      0.00        16\n",
      "                    clojure       0.00      0.00      0.00         1\n",
      "            cloud_computing       0.30      0.19      0.23        54\n",
      "             cloud_services       0.39      0.39      0.39       115\n",
      "                        cms       0.83      0.38      0.53        39\n",
      "                      cobol       0.00      0.00      0.00         1\n",
      "       community_management       0.38      0.28      0.32        64\n",
      "                  compilers       0.00      0.00      0.00         5\n",
      "              complete_code       0.00      0.00      0.00        27\n",
      "           contentmarketing       0.44      0.25      0.32        44\n",
      "                    context       0.00      0.00      0.00        14\n",
      "                controllers       0.33      0.55      0.41        78\n",
      "                 conversion       0.00      0.00      0.00         5\n",
      "                        cpp       0.34      0.21      0.26       131\n",
      "                   crazydev       0.29      0.09      0.13       138\n",
      "                        crm       0.38      0.14      0.21        21\n",
      "                     crypto       0.48      0.25      0.33        52\n",
      "                     csharp       0.00      0.00      0.00        20\n",
      "                        css       0.56      0.20      0.29        46\n",
      "                        ctf       0.00      0.00      0.00         1\n",
      "                        cvs       0.00      0.00      0.00         5\n",
      "                          d       0.00      0.00      0.00         1\n",
      "                       dart       0.33      0.09      0.14        11\n",
      "           data_compression       0.00      0.00      0.00         2\n",
      "           data_engineering       0.00      0.00      0.00         7\n",
      "                data_mining       0.31      0.16      0.21       112\n",
      "              data_recovery       0.00      0.00      0.00        16\n",
      "         data_visualization       0.60      0.08      0.14        39\n",
      "             data_warehouse       0.00      0.00      0.00         5\n",
      "                  db_admins       0.33      0.06      0.11        31\n",
      "                      debug       0.00      0.00      0.00         5\n",
      "                     delphi       1.00      0.14      0.25         7\n",
      "        desktop_environment       0.00      0.00      0.00         3\n",
      "             dev_management       0.41      0.46      0.43       264\n",
      "                    devmail       0.00      0.00      0.00         1\n",
      "                     devops       0.40      0.11      0.18        71\n",
      "                display_adv       0.46      0.19      0.27        32\n",
      "        distributed_systems       0.00      0.00      0.00         8\n",
      "                     django       0.00      0.00      0.00         3\n",
      "                        dns       0.00      0.00      0.00         2\n",
      "                    domains       0.57      0.22      0.32        18\n",
      "                        dwh       0.62      0.27      0.37        79\n",
      "                    eclipse       0.00      0.00      0.00         2\n",
      "                        ecm       0.00      0.00      0.00         9\n",
      "                  ecommerce       0.50      0.53      0.52       138\n",
      "      ecommerce_development       0.17      0.05      0.07        21\n",
      "                electronics       0.50      0.70      0.58       260\n",
      "              elixirphoenix       0.00      0.00      0.00         1\n",
      "                      emacs       0.00      0.00      0.00         1\n",
      "             emailmarketing       0.00      0.00      0.00         4\n",
      "        engineering_systems       0.44      0.36      0.40        45\n",
      "                     erlang       0.00      0.00      0.00         4\n",
      "                        erp       0.47      0.28      0.35        25\n",
      "                       fido       0.00      0.00      0.00         1\n",
      "                   firebird       0.00      0.00      0.00         2\n",
      "                    flutter       0.00      0.00      0.00         6\n",
      "                       fpga       0.53      0.39      0.45        23\n",
      "                     fsharp       0.00      0.00      0.00         2\n",
      "                   funcprog       0.00      0.00      0.00         4\n",
      "                        gae       0.00      0.00      0.00         3\n",
      "                game_design       0.00      0.00      0.00        16\n",
      "          game_monetization       0.00      0.00      0.00        13\n",
      "             game_promotion       0.00      0.00      0.00         7\n",
      "               game_testing       1.00      0.10      0.18        10\n",
      "                    gamedev       0.61      0.82      0.70       417\n",
      "                        geo       0.38      0.28      0.32        39\n",
      "                geo_systems       0.50      0.12      0.19        17\n",
      "                        git       0.65      0.58      0.61        26\n",
      "                     github       1.00      0.15      0.26        20\n",
      "                         go       0.25      0.12      0.16        50\n",
      "                      godot       0.00      0.00      0.00         1\n",
      "                 google_api       0.00      0.00      0.00         2\n",
      "                googlecloud       0.00      0.00      0.00         2\n",
      "                      gpgpu       0.00      0.00      0.00         3\n",
      "               graph_design       0.44      0.20      0.28        20\n",
      "              groovy_grails       0.00      0.00      0.00         1\n",
      "              growthhacking       0.50      0.12      0.20        16\n",
      "                        gtd       0.59      0.37      0.45        54\n",
      "                    haskell       0.00      0.00      0.00         3\n",
      "                       haxe       0.00      0.00      0.00         1\n",
      "                   helpdesk       0.62      0.42      0.50        24\n",
      "                         hi       0.37      0.41      0.39       309\n",
      "              hr_management       0.51      0.70      0.59       358\n",
      "                      html5       0.00      0.00      0.00         4\n",
      "                  iconoskaz       0.00      0.00      0.00         6\n",
      "           image_processing       0.40      0.33      0.37       102\n",
      "  industrial_control_system       0.56      0.21      0.30        24\n",
      "                   infolust       0.00      0.00      0.00         1\n",
      "               infosecurity       0.69      0.88      0.77      2077\n",
      "          instant_messaging       0.53      0.56      0.54       115\n",
      "          internetmarketing       0.41      0.43      0.42        99\n",
      "                    ios_dev       0.65      0.72      0.68       312\n",
      "                    iot_dev       0.40      0.07      0.12        29\n",
      "                       iptv       0.00      0.00      0.00         1\n",
      "          it-infrastructure       0.38      0.46      0.42       607\n",
      "            it_monetization       0.00      0.00      0.00        14\n",
      "                 it_testing       0.59      0.58      0.58       279\n",
      "                itstandarts       0.80      0.11      0.20        36\n",
      "                       java       0.49      0.41      0.45       253\n",
      "                 javascript       0.50      0.52      0.51       357\n",
      "                     joomla       0.00      0.00      0.00         1\n",
      "                      julia       0.00      0.00      0.00         2\n",
      "                     kotlin       0.00      0.00      0.00         5\n",
      "                 kubernetes       0.00      0.00      0.00        14\n",
      "                    labview       0.00      0.00      0.00         3\n",
      "                    laravel       0.00      0.00      0.00         2\n",
      "                      latex       1.00      0.50      0.67         2\n",
      "                        lib       0.55      0.49      0.52       119\n",
      "                      linux       0.51      0.62      0.56       243\n",
      "                  linux_dev       0.50      0.03      0.06        30\n",
      "                       lisp       0.00      0.00      0.00        10\n",
      "               localization       0.38      0.14      0.20        22\n",
      "                        lua       0.00      0.00      0.00         5\n",
      "           machine_learning       0.40      0.49      0.44       304\n",
      "                    magento       0.00      0.00      0.00         2\n",
      "                    map_api       0.00      0.00      0.00         4\n",
      "                      maths       0.49      0.63      0.55       133\n",
      "                     matlab       0.00      0.00      0.00         3\n",
      "           media_management       1.00      0.25      0.40        16\n",
      "            mesh_networking       0.00      0.00      0.00         3\n",
      "               microformats       0.00      0.00      0.00         1\n",
      "              microservices       0.00      0.00      0.00        11\n",
      "                 mobile_dev       0.39      0.36      0.38       259\n",
      "        mobile_monetization       0.00      0.00      0.00        18\n",
      "             mobile_testing       0.00      0.00      0.00         7\n",
      "            mobileanalytics       0.00      0.00      0.00         8\n",
      "                       modx       0.00      0.00      0.00         2\n",
      "                    mongodb       0.25      0.33      0.29         3\n",
      "                      mssql       0.65      0.62      0.63        21\n",
      "                      mysql       0.43      0.21      0.29        14\n",
      "natural_language_processing       0.00      0.00      0.00         7\n",
      "                     nestjs       0.00      0.00      0.00         1\n",
      "                        net       0.55      0.48      0.51       173\n",
      "                     netdev       0.35      0.18      0.23        51\n",
      "          network_standarts       0.20      0.04      0.07        25\n",
      "       network_technologies       0.32      0.18      0.23       135\n",
      "                      nginx       0.43      0.21      0.29        14\n",
      "                        nix       0.50      0.02      0.04        43\n",
      "                     nodejs       0.00      0.00      0.00        15\n",
      "                      nosql       0.00      0.00      0.00        14\n",
      "               office365dev       0.00      0.00      0.00         3\n",
      "                        oop       0.00      0.00      0.00         5\n",
      "                open_source       0.47      0.43      0.45       554\n",
      "                   opendata       0.00      0.00      0.00        13\n",
      "              openstreetmap       0.73      0.73      0.73        11\n",
      "                     oracle       0.85      0.40      0.55        42\n",
      "                    osx_dev       0.67      0.17      0.27        12\n",
      "                        p2p       0.44      0.47      0.46        99\n",
      "       parallel_programming       1.00      0.25      0.40         4\n",
      "                    patents       0.73      0.65      0.69        55\n",
      "                 pay_system       0.57      0.60      0.59        93\n",
      "                       perl       0.50      0.12      0.20         8\n",
      "                        php       0.60      0.40      0.48       162\n",
      "                         pm       0.32      0.28      0.30       282\n",
      "                 postgresql       0.65      0.74      0.69        95\n",
      "                 powershell       0.00      0.00      0.00         9\n",
      "            processing_lang       0.00      0.00      0.00         1\n",
      "                  productpm       0.33      0.24      0.28       132\n",
      "                programming       0.33      0.51      0.41      1144\n",
      "                prototyping       0.00      0.00      0.00        19\n",
      "                     python       0.58      0.75      0.65       658\n",
      "                qt_software       0.00      0.00      0.00         7\n",
      "                          r       0.00      0.00      0.00        14\n",
      "                raspberrypi       0.57      0.57      0.57        35\n",
      "                    reactjs       0.00      0.00      0.00        11\n",
      "                refactoring       0.00      0.00      0.00        24\n",
      "                      regex       0.00      0.00      0.00         1\n",
      "                   research       0.39      0.41      0.40       211\n",
      "        reverse-engineering       0.83      0.13      0.23        38\n",
      "                   robo_dev       0.59      0.61      0.60        90\n",
      "                        ror       0.00      0.00      0.00         5\n",
      "                       ruby       0.77      0.53      0.63        32\n",
      "                       rust       0.50      0.09      0.15        11\n",
      "                    s_admin       0.33      0.03      0.06        33\n",
      "                       saas       1.00      0.20      0.33        10\n",
      "                      sales       0.39      0.24      0.30        76\n",
      "                        san       0.00      0.00      0.00         1\n",
      "                      scada       0.00      0.00      0.00         3\n",
      "                      scala       0.67      0.20      0.31        10\n",
      "        search_technologies       0.67      0.59      0.62        82\n",
      "                        seo       0.00      0.00      0.00         6\n",
      "   server_side_optimization       0.00      0.00      0.00        22\n",
      "                 serverless       0.00      0.00      0.00         2\n",
      "               service_desk       0.44      0.22      0.30        18\n",
      "                 sharepoint       0.50      0.20      0.29         5\n",
      "                     shells       0.00      0.00      0.00         1\n",
      "                   solidity       0.00      0.00      0.00         7\n",
      "          sport_programming       0.63      0.50      0.56        34\n",
      "                        sql       0.35      0.40      0.37        42\n",
      "                         sw       0.79      0.39      0.52        28\n",
      "                      swift       0.00      0.00      0.00         4\n",
      "                    symfony       0.00      0.00      0.00         1\n",
      "                  sys_admin       0.36      0.50      0.42       485\n",
      "         system_programming       0.40      0.22      0.29        27\n",
      "                  tarantool       0.00      0.00      0.00         2\n",
      "                        tdd       0.00      0.00      0.00         6\n",
      "          technical_writing       1.00      0.31      0.47        13\n",
      "                 tensorflow       0.00      0.00      0.00         2\n",
      "                    txt_ide       0.00      0.00      0.00         2\n",
      "                 typescript       0.00      0.00      0.00         3\n",
      "                 typography       0.25      0.17      0.20         6\n",
      "                         ui       0.39      0.25      0.31        95\n",
      "                      unity       0.50      0.11      0.18         9\n",
      "              unreal_engine       0.00      0.00      0.00         3\n",
      "                  usability       1.00      0.04      0.08        25\n",
      "                        vba       0.00      0.00      0.00         4\n",
      "            vector_graphics       0.00      0.00      0.00        15\n",
      "                      video       0.49      0.60      0.54       164\n",
      "                        vim       1.00      0.50      0.67         6\n",
      "             virtualization       0.20      0.07      0.10        45\n",
      "                      virus       1.00      0.08      0.14        26\n",
      "         visual_programming       0.00      0.00      0.00         1\n",
      "                     vk_api       0.00      0.00      0.00         1\n",
      "           voice_interfaces       0.64      0.35      0.45        20\n",
      "                         vs       0.00      0.00      0.00         7\n",
      "                      vuejs       0.00      0.00      0.00         6\n",
      "                 web_design       0.54      0.52      0.53       141\n",
      "           web_monetization       0.12      0.05      0.07        22\n",
      "                web_testing       0.00      0.00      0.00        35\n",
      "                      weban       0.53      0.29      0.38        31\n",
      "                webassembly       0.00      0.00      0.00         2\n",
      "                     webdev       0.46      0.56      0.50       763\n",
      "                      webgl       0.00      0.00      0.00         1\n",
      "                    win_dev       0.45      0.52      0.48        33\n",
      "                   wireless       0.46      0.50      0.48       103\n",
      "                  wordpress       0.40      0.20      0.27        10\n",
      "                     wp_dev       0.00      0.00      0.00         1\n",
      "                      xcode       0.00      0.00      0.00         6\n",
      "                       xslt       0.00      0.00      0.00         1\n",
      "                 yandex_api       0.00      0.00      0.00         3\n",
      "                        yii       0.00      0.00      0.00         1\n",
      "\n",
      "                   accuracy                           0.49     17256\n",
      "                  macro avg       0.27      0.17      0.19     17256\n",
      "               weighted avg       0.47      0.49      0.46     17256\n",
      "\n"
     ]
    }
   ],
   "source": [
    "print(classification_report(y_val, y_pred, zero_division=0, target_names=np.unique(y_val)))"
   ]
  },
  {
   "cell_type": "markdown",
   "id": "217e3204-d549-4b93-b965-7485866713b4",
   "metadata": {},
   "source": [
    "\n",
    "Метрики второй логистической регресии обученной логистической регрессии с `C=2` улучшились:\n",
    "\n",
    "`F1-macro=0.19`, `F1-weighted=0.46`, `accuracy=0.49`"
   ]
  },
  {
   "cell_type": "markdown",
   "id": "7f02a24d-9301-48d5-8c72-f52cfcdba994",
   "metadata": {},
   "source": [
    "Также попробую применить модель на конкретном тексте из валидационной выборки."
   ]
  },
  {
   "cell_type": "code",
   "execution_count": 152,
   "id": "70ca31d2-4b60-42ac-9234-39ed25088b12",
   "metadata": {},
   "outputs": [
    {
     "data": {
      "text/plain": [
       "'привет звать олег аккаунт менеджер сегодня рассказывать медийный кампания узнавать медийный кампания директ инструмент особенность отличаться графический объявление рся специалист работать яндекс директ вплотную пользоваться инструмент поиск реклама поиск рся рекламный сеть яндекс реклама сайт партнер яндекс ресурс ретаргетинг возвращение клиент побывать сайт это относительно простой понятный инструмент результат который легко предсказывать измерять медийный кампания вопрос сложный непонятный особенно начинающий специалист разбираться инструмент понимать помощь показываться больший число пользователь значительно усиливать свой рекламный кампания перебивать конкурент особенность медийный кампания директ классификация яндекс медийный кампания это имиджевый баннерный реклама аукционный продукт директ большой выбор настройка таргетинг охват нужный аудитория нацеливание ключевой фраза профиль аудитория оплата показ определение выводить ряд важный особенность медийный кампания яндекс отличие графический объявление рся очевидный особенность начинать конец оплата показ самый важный особенность отличие графический объявление рся модель оплата клик cpc тысяча показ cpm оплата идти реальный показ реальный показ мерка яндекс это минимум баннер находиться видимый зона менее секунда просто пролистывать баннер платить нацеливание профиль аудитория мочь нацеливать реклама интерес поведение ваш клиент например точно знать ваш клиент это любитель экстремальный спорт доход высокий средний возраст год нацеливаться профиль показывать реклама взаимодействовать будущий потенциальный клиент который охватывать помощь контекстный реклама просто вбивать соответствовать запрос нацеливание ключевой фраза настройка который прямо противоречить задача медийный кампания это знакомый формат нахождение аудитория помощь ключевой фраза контекстный реклама кто-то подумать охватный инструмент сделать контекстный инструмент оплата показ заранее спешить огорчать низкий охват отсутствие конверсия медийка задача баннерный реклама реклама показываться помощь баннер картинка использовать статичный динамичный вариант стоить дополнять медийный кампания это баннер это видео аудиореклама также формат наружный реклама indoor outdoor имиджевый реклама инструмент закладывать основной цель медийный кампания это воздействие бренд бизнес помощь медийный кампания увеличивать узнаваемость бренд повышать лояльность потенциальный клиент неочевидный особенность дополнение узнавать определение медийный кампания яндекс следовать добавлять важный момент который узнавать поработать инструмент прочитывать материал тема медийный реклама это долгоиграющий инструмент увидеть конкретный результат медийный кампания нужно минимум месяц беспрерывный работа это работа холодный теплый трафик обратный сторона отключать инструмент длительный работа месяц ощущаться воздействие медийка ваш реклама пользователь увидеть реклама собирать продолжать взаимодействовать инструмент весь увидеть наш баннер значит познакомиться предложение бренд возможно собирать пиксел продолжать взаимодействовать помощь знакомый инструмент поиск рся это просто показ реклама ради повышение узнаваемость бренд выстраивание воронка клиент медийный кампания выступать роль прогревать инструмент увеличение спрос продукт контекстный реклама выступать роль закрытие возникать спрос ретаргетинговый кампания делать дополнительный продажа возвращать купить следовать запускать узнавать следующий пункт пора запускать медийный кампания вырабатывать поиск получать трафик весь возможный запрос некуда расти высокий конкурентный борьба поиск следствие оправдывать дорогой лида сложный продукт длительный принятие решение покупка вывод новый продукт рынок низкий уровень существующий спрос следствие мало трафик который обрабатывать низкий уровень брендовый трафик следствие отсутствовать узнаваемость бренд качественный трафик дешевый лида заключение медийный кампания яндекс директ помогать шаг впереди конкурент помощь постоянный показ потенциальный клиент втираться доверие этап выбор продукт услуга результат это помогать приводить клиент меньший цена это удачный запуск лояльный клиент'"
      ]
     },
     "execution_count": 152,
     "metadata": {},
     "output_type": "execute_result"
    }
   ],
   "source": [
    "df_val.lemmatized_text.iloc[4000]"
   ]
  },
  {
   "cell_type": "code",
   "execution_count": 153,
   "id": "e69d0d31-bff5-4703-b786-1348dad2610e",
   "metadata": {},
   "outputs": [],
   "source": [
    "test_predicting = tfidfvectorizer.transform([df_val.lemmatized_text.iloc[4000]])"
   ]
  },
  {
   "cell_type": "code",
   "execution_count": 154,
   "id": "40954b6b-7278-435b-9ce8-deab8cc029a6",
   "metadata": {},
   "outputs": [
    {
     "name": "stdout",
     "output_type": "stream",
     "text": [
      "Предсказанный хаб: ['internetmarketing']\n",
      "Спиок реально указанных хабов: ['internetmarketing', 'display_adv', 'context']\n"
     ]
    }
   ],
   "source": [
    "print(f'Предсказанный хаб: {lr.predict(test_predicting)}')\n",
    "print(f'Спиок реально указанных хабов: {df_val.hubs.iloc[4000]}')"
   ]
  },
  {
   "cell_type": "markdown",
   "id": "ef898552-50df-4542-b1ea-711b1f730b42",
   "metadata": {},
   "source": [
    "**Вывод:** \n",
    "\n",
    "В логистической регрессии, в целом, крупные хабы предсказываются очень хорошо, благодаря большому количеству наблюдений и ключевым словам, характерным для конкретного хаба. Малочисленные хабы предсказываются намного хуже, т.к. или очень мало наблюдений, или в статьях мало специальной характерной для хаба лексики.\n",
    "\n",
    "Каждая модель считалась ~2-2.5 часа, можно попробовать подобрать гридсерчем гиперпараметры, чтобы улучшить метрики, но у меня не получилось дождаться результата за приемлемое время."
   ]
  },
  {
   "cell_type": "markdown",
   "id": "18401e8a-6189-4a5b-8cb5-80481f339499",
   "metadata": {},
   "source": [
    "### Support Vector Machine\n",
    "\n",
    "Реализация метода опорных векторов с линейным ядром. "
   ]
  },
  {
   "cell_type": "code",
   "execution_count": 41,
   "id": "f765d7a3-c05a-4f3b-916c-ec0d00037741",
   "metadata": {},
   "outputs": [
    {
     "name": "stderr",
     "output_type": "stream",
     "text": [
      "/usr/local/lib/python3.11/site-packages/sklearn/svm/_classes.py:32: FutureWarning: The default value of `dual` will change from `True` to `'auto'` in 1.5. Set the value of `dual` explicitly to suppress the warning.\n",
      "  warnings.warn(\n"
     ]
    },
    {
     "name": "stdout",
     "output_type": "stream",
     "text": [
      "CPU times: user 4min 24s, sys: 2.66 s, total: 4min 27s\n",
      "Wall time: 4min 30s\n"
     ]
    },
    {
     "data": {
      "text/html": [
       "<style>#sk-container-id-1 {color: black;}#sk-container-id-1 pre{padding: 0;}#sk-container-id-1 div.sk-toggleable {background-color: white;}#sk-container-id-1 label.sk-toggleable__label {cursor: pointer;display: block;width: 100%;margin-bottom: 0;padding: 0.3em;box-sizing: border-box;text-align: center;}#sk-container-id-1 label.sk-toggleable__label-arrow:before {content: \"▸\";float: left;margin-right: 0.25em;color: #696969;}#sk-container-id-1 label.sk-toggleable__label-arrow:hover:before {color: black;}#sk-container-id-1 div.sk-estimator:hover label.sk-toggleable__label-arrow:before {color: black;}#sk-container-id-1 div.sk-toggleable__content {max-height: 0;max-width: 0;overflow: hidden;text-align: left;background-color: #f0f8ff;}#sk-container-id-1 div.sk-toggleable__content pre {margin: 0.2em;color: black;border-radius: 0.25em;background-color: #f0f8ff;}#sk-container-id-1 input.sk-toggleable__control:checked~div.sk-toggleable__content {max-height: 200px;max-width: 100%;overflow: auto;}#sk-container-id-1 input.sk-toggleable__control:checked~label.sk-toggleable__label-arrow:before {content: \"▾\";}#sk-container-id-1 div.sk-estimator input.sk-toggleable__control:checked~label.sk-toggleable__label {background-color: #d4ebff;}#sk-container-id-1 div.sk-label input.sk-toggleable__control:checked~label.sk-toggleable__label {background-color: #d4ebff;}#sk-container-id-1 input.sk-hidden--visually {border: 0;clip: rect(1px 1px 1px 1px);clip: rect(1px, 1px, 1px, 1px);height: 1px;margin: -1px;overflow: hidden;padding: 0;position: absolute;width: 1px;}#sk-container-id-1 div.sk-estimator {font-family: monospace;background-color: #f0f8ff;border: 1px dotted black;border-radius: 0.25em;box-sizing: border-box;margin-bottom: 0.5em;}#sk-container-id-1 div.sk-estimator:hover {background-color: #d4ebff;}#sk-container-id-1 div.sk-parallel-item::after {content: \"\";width: 100%;border-bottom: 1px solid gray;flex-grow: 1;}#sk-container-id-1 div.sk-label:hover label.sk-toggleable__label {background-color: #d4ebff;}#sk-container-id-1 div.sk-serial::before {content: \"\";position: absolute;border-left: 1px solid gray;box-sizing: border-box;top: 0;bottom: 0;left: 50%;z-index: 0;}#sk-container-id-1 div.sk-serial {display: flex;flex-direction: column;align-items: center;background-color: white;padding-right: 0.2em;padding-left: 0.2em;position: relative;}#sk-container-id-1 div.sk-item {position: relative;z-index: 1;}#sk-container-id-1 div.sk-parallel {display: flex;align-items: stretch;justify-content: center;background-color: white;position: relative;}#sk-container-id-1 div.sk-item::before, #sk-container-id-1 div.sk-parallel-item::before {content: \"\";position: absolute;border-left: 1px solid gray;box-sizing: border-box;top: 0;bottom: 0;left: 50%;z-index: -1;}#sk-container-id-1 div.sk-parallel-item {display: flex;flex-direction: column;z-index: 1;position: relative;background-color: white;}#sk-container-id-1 div.sk-parallel-item:first-child::after {align-self: flex-end;width: 50%;}#sk-container-id-1 div.sk-parallel-item:last-child::after {align-self: flex-start;width: 50%;}#sk-container-id-1 div.sk-parallel-item:only-child::after {width: 0;}#sk-container-id-1 div.sk-dashed-wrapped {border: 1px dashed gray;margin: 0 0.4em 0.5em 0.4em;box-sizing: border-box;padding-bottom: 0.4em;background-color: white;}#sk-container-id-1 div.sk-label label {font-family: monospace;font-weight: bold;display: inline-block;line-height: 1.2em;}#sk-container-id-1 div.sk-label-container {text-align: center;}#sk-container-id-1 div.sk-container {/* jupyter's `normalize.less` sets `[hidden] { display: none; }` but bootstrap.min.css set `[hidden] { display: none !important; }` so we also need the `!important` here to be able to override the default hidden behavior on the sphinx rendered scikit-learn.org. See: https://github.com/scikit-learn/scikit-learn/issues/21755 */display: inline-block !important;position: relative;}#sk-container-id-1 div.sk-text-repr-fallback {display: none;}</style><div id=\"sk-container-id-1\" class=\"sk-top-container\"><div class=\"sk-text-repr-fallback\"><pre>LinearSVC(class_weight=&#x27;balanced&#x27;)</pre><b>In a Jupyter environment, please rerun this cell to show the HTML representation or trust the notebook. <br />On GitHub, the HTML representation is unable to render, please try loading this page with nbviewer.org.</b></div><div class=\"sk-container\" hidden><div class=\"sk-item\"><div class=\"sk-estimator sk-toggleable\"><input class=\"sk-toggleable__control sk-hidden--visually\" id=\"sk-estimator-id-1\" type=\"checkbox\" checked><label for=\"sk-estimator-id-1\" class=\"sk-toggleable__label sk-toggleable__label-arrow\">LinearSVC</label><div class=\"sk-toggleable__content\"><pre>LinearSVC(class_weight=&#x27;balanced&#x27;)</pre></div></div></div></div></div>"
      ],
      "text/plain": [
       "LinearSVC(class_weight='balanced')"
      ]
     },
     "execution_count": 41,
     "metadata": {},
     "output_type": "execute_result"
    }
   ],
   "source": [
    "%%time\n",
    "svc = LinearSVC(class_weight='balanced')\n",
    "svc.fit(x_train_tfidf, y_train)"
   ]
  },
  {
   "cell_type": "code",
   "execution_count": 42,
   "id": "24592901-dc54-4102-ae84-fe2d7f3bc923",
   "metadata": {},
   "outputs": [
    {
     "name": "stdout",
     "output_type": "stream",
     "text": [
      "accuracy 0.43237134909596664\n",
      "f1-score (macro) 0.2561536588535086\n",
      "f1-score (micro) 0.43237134909596664\n",
      "f1-score (weighted) 0.43531834456910007\n"
     ]
    }
   ],
   "source": [
    "y_pred = svc.predict(x_val_tfidf)\n",
    "print('accuracy %s' % accuracy_score(y_val, y_pred))\n",
    "print('f1-score (macro) %s' % f1_score(y_val, y_pred, average='macro'))\n",
    "print('f1-score (micro) %s' % f1_score(y_val, y_pred, average='micro'))\n",
    "print('f1-score (weighted) %s' % f1_score(y_val, y_pred, average='weighted'))"
   ]
  },
  {
   "cell_type": "code",
   "execution_count": 44,
   "id": "0f9184fe-7f12-4325-bed6-92a0cb7f9006",
   "metadata": {},
   "outputs": [
    {
     "name": "stdout",
     "output_type": "stream",
     "text": [
      "                             precision    recall  f1-score   support\n",
      "\n",
      "                         1C       0.10      0.14      0.11        14\n",
      "                3d_graphics       0.47      0.67      0.56        82\n",
      "                       AJAX       0.00      0.00      0.00         2\n",
      "                  Atlassian       0.28      0.83      0.42         6\n",
      "                     Hadoop       0.00      0.00      0.00         1\n",
      "                       IPFS       0.00      0.00      0.00         1\n",
      "               Sailfish_dev       0.00      0.00      0.00         1\n",
      "                       UEFI       0.00      0.00      0.00         0\n",
      "              accessibility       0.27      0.40      0.32        10\n",
      "                      agile       0.18      0.44      0.26        27\n",
      "                 algorithms       0.32      0.31      0.31       180\n",
      "            analysis_design       0.43      0.27      0.33       265\n",
      "                android_dev       0.36      0.52      0.43       126\n",
      "                    angular       0.12      0.56      0.20         9\n",
      "                  animation       0.17      0.12      0.14         8\n",
      "                     apache       0.11      0.20      0.14        15\n",
      "                        api       0.25      0.43      0.32        46\n",
      "                apps_design       0.00      0.00      0.00        21\n",
      "                    arduino       0.20      0.48      0.29        31\n",
      "                    arvrdev       0.41      0.75      0.53        24\n",
      "                        asp       0.00      0.00      0.00         2\n",
      "                  assembler       0.14      0.45      0.21        20\n",
      "                   asterisk       0.38      0.86      0.52         7\n",
      "                        aws       0.17      0.44      0.25        18\n",
      "                      azure       0.18      0.38      0.24        16\n",
      "                     backup       0.12      0.25      0.16        12\n",
      "                    bigdata       0.33      0.33      0.33       123\n",
      "                    billing       0.00      0.00      0.00         1\n",
      "                     bitrix       0.09      0.10      0.10        10\n",
      "                  brainfuck       0.00      0.00      0.00         0\n",
      "                 bughunters       0.00      0.00      0.00         1\n",
      "           build_automation       0.08      0.33      0.13         3\n",
      "            business_models       0.17      0.25      0.20        64\n",
      "                          c       0.12      0.22      0.16        18\n",
      "                    cad_cam       0.56      0.85      0.67        34\n",
      "                     canvas       0.00      0.00      0.00         0\n",
      "                        cgi       0.00      0.00      0.00         3\n",
      "             circuit-design       0.38      0.62      0.47        37\n",
      "              cisconetworks       0.19      0.58      0.29        12\n",
      "   client_side_optimization       0.08      0.12      0.10        16\n",
      "                    clojure       1.00      1.00      1.00         1\n",
      "            cloud_computing       0.19      0.37      0.25        54\n",
      "             cloud_services       0.28      0.31      0.30       115\n",
      "                        cms       0.39      0.59      0.47        39\n",
      "                      cobol       0.25      1.00      0.40         1\n",
      "       community_management       0.23      0.41      0.29        64\n",
      "                  compilers       0.10      0.40      0.16         5\n",
      "              complete_code       0.05      0.11      0.07        27\n",
      "           contentmarketing       0.23      0.39      0.29        44\n",
      "                    context       0.17      0.21      0.19        14\n",
      "                controllers       0.29      0.42      0.34        78\n",
      "                 conversion       0.00      0.00      0.00         5\n",
      "                        cpp       0.30      0.44      0.36       131\n",
      "                   crazydev       0.22      0.17      0.19       138\n",
      "           creative_commons       0.00      0.00      0.00         0\n",
      "                        crm       0.10      0.29      0.15        21\n",
      "                     crypto       0.25      0.50      0.33        52\n",
      "                     csharp       0.04      0.05      0.05        20\n",
      "                        css       0.26      0.52      0.35        46\n",
      "                        ctf       0.00      0.00      0.00         1\n",
      "                        cvs       0.00      0.00      0.00         5\n",
      "                          d       0.00      0.00      0.00         1\n",
      "                       dart       0.16      0.64      0.25        11\n",
      "           data_compression       0.00      0.00      0.00         2\n",
      "           data_engineering       0.00      0.00      0.00         7\n",
      "                data_mining       0.26      0.27      0.26       112\n",
      "              data_recovery       0.18      0.38      0.24        16\n",
      "         data_visualization       0.17      0.23      0.19        39\n",
      "             data_warehouse       0.00      0.00      0.00         5\n",
      "                  db_admins       0.11      0.23      0.15        31\n",
      "                      debug       0.00      0.00      0.00         5\n",
      "                     delphi       0.20      0.43      0.27         7\n",
      "        desktop_environment       0.00      0.00      0.00         3\n",
      "             dev_management       0.42      0.36      0.39       264\n",
      "                    devmail       0.00      0.00      0.00         1\n",
      "                     devops       0.20      0.37      0.25        71\n",
      "                display_adv       0.22      0.31      0.26        32\n",
      "        distributed_systems       0.00      0.00      0.00         8\n",
      "                     django       0.00      0.00      0.00         3\n",
      "                        dns       0.00      0.00      0.00         2\n",
      "                    domains       0.30      0.78      0.44        18\n",
      "                     drupal       0.00      0.00      0.00         0\n",
      "                        dwh       0.31      0.39      0.34        79\n",
      "                    eclipse       0.33      0.50      0.40         2\n",
      "                        ecm       0.25      0.44      0.32         9\n",
      "                  ecommerce       0.51      0.53      0.52       138\n",
      "      ecommerce_development       0.08      0.10      0.09        21\n",
      "                electronics       0.61      0.57      0.59       260\n",
      "              elixirphoenix       0.33      1.00      0.50         1\n",
      "                      emacs       0.00      0.00      0.00         1\n",
      "             emailmarketing       0.11      0.25      0.15         4\n",
      "        engineering_systems       0.25      0.47      0.33        45\n",
      "                     erlang       0.17      0.50      0.25         4\n",
      "                        erp       0.23      0.52      0.32        25\n",
      "                      extjs       0.00      0.00      0.00         0\n",
      "               facebook_api       0.00      0.00      0.00         0\n",
      "                       fido       0.00      0.00      0.00         1\n",
      "                   firebird       0.00      0.00      0.00         2\n",
      "                    flutter       0.00      0.00      0.00         6\n",
      "                      forth       0.00      0.00      0.00         0\n",
      "                       fpga       0.44      0.83      0.58        23\n",
      "                     fsharp       1.00      1.00      1.00         2\n",
      "                   funcprog       0.17      0.25      0.20         4\n",
      "                        gae       0.33      0.33      0.33         3\n",
      "                game_design       0.20      0.25      0.22        16\n",
      "          game_monetization       0.19      0.54      0.29        13\n",
      "             game_promotion       0.11      0.29      0.16         7\n",
      "               game_testing       0.30      0.30      0.30        10\n",
      "                    gamedev       0.67      0.69      0.68       417\n",
      "                        geo       0.26      0.51      0.34        39\n",
      "                geo_systems       0.22      0.29      0.25        17\n",
      "                        git       0.25      0.69      0.37        26\n",
      "                     github       0.38      0.40      0.39        20\n",
      "                         go       0.26      0.54      0.35        50\n",
      "                      godot       0.00      0.00      0.00         1\n",
      "                 google_api       0.00      0.00      0.00         2\n",
      "                googlecloud       0.00      0.00      0.00         2\n",
      "                      gpgpu       0.00      0.00      0.00         3\n",
      "               graph_design       0.27      0.45      0.34        20\n",
      "              groovy_grails       0.14      1.00      0.25         1\n",
      "              growthhacking       0.20      0.44      0.27        16\n",
      "                        gtd       0.35      0.65      0.45        54\n",
      "                        gtk       0.00      0.00      0.00         0\n",
      "                    haskell       0.14      0.67      0.24         3\n",
      "                       haxe       0.50      1.00      0.67         1\n",
      "                   helpdesk       0.33      0.62      0.43        24\n",
      "                         hi       0.47      0.26      0.34       309\n",
      "              hr_management       0.57      0.61      0.59       358\n",
      "                      html5       0.00      0.00      0.00         4\n",
      "                  iconoskaz       0.00      0.00      0.00         6\n",
      "           image_processing       0.28      0.46      0.35       102\n",
      "  industrial_control_system       0.23      0.50      0.31        24\n",
      "                   infolust       0.00      0.00      0.00         1\n",
      "               infosecurity       0.90      0.67      0.77      2077\n",
      "          instant_messaging       0.42      0.59      0.49       115\n",
      "          internetmarketing       0.37      0.41      0.39        99\n",
      "                    ios_dev       0.64      0.72      0.68       312\n",
      "                    iot_dev       0.19      0.24      0.21        29\n",
      "                       iptv       0.00      0.00      0.00         1\n",
      "                       ipv6       0.00      0.00      0.00         0\n",
      "          it-infrastructure       0.58      0.19      0.28       607\n",
      "            it_monetization       0.05      0.07      0.06        14\n",
      "                 it_testing       0.58      0.55      0.57       279\n",
      "                itstandarts       0.16      0.31      0.21        36\n",
      "                       java       0.44      0.48      0.46       253\n",
      "                 javascript       0.46      0.41      0.43       357\n",
      "                     joomla       0.00      0.00      0.00         1\n",
      "                      julia       0.40      1.00      0.57         2\n",
      "                     kotlin       0.08      0.40      0.13         5\n",
      "                 kubernetes       0.15      0.43      0.22        14\n",
      "                    labview       1.00      1.00      1.00         3\n",
      "                    laravel       0.00      0.00      0.00         2\n",
      "                      latex       0.29      1.00      0.44         2\n",
      "                        lib       0.47      0.56      0.51       119\n",
      "                      linux       0.47      0.53      0.50       243\n",
      "                  linux_dev       0.20      0.27      0.23        30\n",
      "                       lisp       0.42      0.50      0.45        10\n",
      "               localization       0.31      0.45      0.37        22\n",
      "                        lua       0.22      0.40      0.29         5\n",
      "           machine_learning       0.48      0.33      0.39       304\n",
      "                    magento       0.00      0.00      0.00         2\n",
      "                    map_api       0.00      0.00      0.00         4\n",
      "                      maths       0.50      0.64      0.56       133\n",
      "                     matlab       0.38      1.00      0.55         3\n",
      "           media_management       0.30      0.50      0.37        16\n",
      "            mesh_networking       0.00      0.00      0.00         3\n",
      "               microformats       0.00      0.00      0.00         1\n",
      "              microservices       0.11      0.45      0.17        11\n",
      "                 mobile_dev       0.40      0.26      0.32       259\n",
      "        mobile_monetization       0.15      0.22      0.18        18\n",
      "             mobile_testing       0.12      0.29      0.17         7\n",
      "            mobileanalytics       0.04      0.12      0.06         8\n",
      "                       modx       0.00      0.00      0.00         2\n",
      "                    mongodb       0.10      0.33      0.15         3\n",
      "                       mono       0.00      0.00      0.00         0\n",
      "                      mssql       0.37      0.76      0.50        21\n",
      "                      mysql       0.18      0.50      0.27        14\n",
      "natural_language_processing       0.15      0.43      0.22         7\n",
      "                     nestjs       0.00      0.00      0.00         1\n",
      "                        net       0.44      0.61      0.51       173\n",
      "                     netdev       0.29      0.37      0.33        51\n",
      "          network_standarts       0.16      0.28      0.21        25\n",
      "       network_technologies       0.30      0.33      0.32       135\n",
      "                      nginx       0.16      0.50      0.24        14\n",
      "                        nix       0.09      0.19      0.12        43\n",
      "                     nodejs       0.08      0.33      0.14        15\n",
      "                      nosql       0.27      0.43      0.33        14\n",
      "               office365dev       0.22      0.67      0.33         3\n",
      "                        oop       0.17      0.20      0.18         5\n",
      "                open_source       0.63      0.30      0.41       554\n",
      "                   opendata       0.05      0.15      0.08        13\n",
      "              openstreetmap       0.56      0.82      0.67        11\n",
      "                     oracle       0.50      0.79      0.61        42\n",
      "                    osx_dev       0.35      0.58      0.44        12\n",
      "                        p2p       0.39      0.64      0.48        99\n",
      "       parallel_programming       0.25      0.75      0.38         4\n",
      "                    patents       0.57      0.76      0.65        55\n",
      "                 pay_system       0.49      0.71      0.58        93\n",
      "                       perl       0.23      0.38      0.29         8\n",
      "                        php       0.49      0.60      0.54       162\n",
      "                         pm       0.42      0.16      0.23       282\n",
      "                 postgresql       0.48      0.79      0.60        95\n",
      "                 powershell       0.22      0.44      0.30         9\n",
      "            processing_lang       0.00      0.00      0.00         1\n",
      "                  productpm       0.26      0.20      0.22       132\n",
      "                programming       0.67      0.10      0.17      1144\n",
      "                     prolog       0.00      0.00      0.00         0\n",
      "                prototyping       0.19      0.32      0.24        19\n",
      "                     python       0.69      0.60      0.64       658\n",
      "                qt_software       0.40      0.57      0.47         7\n",
      "                          r       0.37      0.50      0.42        14\n",
      "                raspberrypi       0.47      0.77      0.59        35\n",
      "                    reactjs       0.15      0.55      0.24        11\n",
      "                refactoring       0.07      0.12      0.09        24\n",
      "                      regex       0.00      0.00      0.00         1\n",
      "                   research       0.45      0.38      0.41       211\n",
      "        reverse-engineering       0.21      0.32      0.25        38\n",
      "                   robo_dev       0.53      0.77      0.62        90\n",
      "                        ror       0.43      0.60      0.50         5\n",
      "                       ruby       0.57      0.75      0.65        32\n",
      "                       rust       0.27      0.64      0.38        11\n",
      "                    s_admin       0.15      0.24      0.18        33\n",
      "                       saas       0.18      0.50      0.26        10\n",
      "                      sales       0.32      0.45      0.37        76\n",
      "                        san       0.00      0.00      0.00         1\n",
      "                      scada       0.00      0.00      0.00         3\n",
      "                      scala       0.24      0.70      0.36        10\n",
      "        search_technologies       0.46      0.65      0.54        82\n",
      "                        seo       0.25      0.33      0.29         6\n",
      "   server_side_optimization       0.05      0.09      0.07        22\n",
      "                 serverless       0.17      0.50      0.25         2\n",
      "               service_desk       0.21      0.50      0.30        18\n",
      "                 sharepoint       0.40      0.80      0.53         5\n",
      "                     shells       0.00      0.00      0.00         1\n",
      "                       smol       0.00      0.00      0.00         0\n",
      "                   solidity       0.33      0.29      0.31         7\n",
      "          sport_programming       0.40      0.85      0.54        34\n",
      "                        sql       0.22      0.36      0.27        42\n",
      "                         sw       0.35      0.68      0.46        28\n",
      "                      swift       0.29      0.50      0.36         4\n",
      "                    symfony       0.00      0.00      0.00         1\n",
      "                  sys_admin       0.49      0.21      0.30       485\n",
      "         system_programming       0.13      0.33      0.19        27\n",
      "                  tarantool       0.50      0.50      0.50         2\n",
      "                        tdd       0.27      0.50      0.35         6\n",
      "          technical_writing       0.24      0.54      0.33        13\n",
      "                 tensorflow       0.00      0.00      0.00         2\n",
      "                    txt_ide       0.00      0.00      0.00         2\n",
      "                 typescript       0.00      0.00      0.00         3\n",
      "                 typography       0.22      0.67      0.33         6\n",
      "                         ui       0.28      0.26      0.27        95\n",
      "                      unity       0.13      0.44      0.20         9\n",
      "              unreal_engine       0.00      0.00      0.00         3\n",
      "                  usability       0.03      0.04      0.03        25\n",
      "                        vba       0.25      0.75      0.38         4\n",
      "            vector_graphics       0.17      0.27      0.21        15\n",
      "                      video       0.49      0.63      0.55       164\n",
      "                        vim       0.27      0.67      0.38         6\n",
      "             virtualization       0.15      0.31      0.20        45\n",
      "                      virus       0.24      0.46      0.32        26\n",
      "         visual_programming       0.00      0.00      0.00         1\n",
      "                     vk_api       0.00      0.00      0.00         1\n",
      "           voice_interfaces       0.32      0.55      0.41        20\n",
      "                         vs       0.06      0.14      0.08         7\n",
      "                      vuejs       0.12      0.33      0.17         6\n",
      "                 web_design       0.44      0.51      0.48       141\n",
      "           web_monetization       0.14      0.23      0.18        22\n",
      "                web_testing       0.12      0.20      0.15        35\n",
      "                      weban       0.24      0.42      0.30        31\n",
      "                webassembly       0.33      1.00      0.50         2\n",
      "                     webdev       0.69      0.29      0.41       763\n",
      "                      webgl       0.00      0.00      0.00         1\n",
      "                    win_dev       0.34      0.82      0.48        33\n",
      "                   wireless       0.42      0.56      0.48       103\n",
      "                  wordpress       0.28      0.70      0.40        10\n",
      "                     wp_dev       0.00      0.00      0.00         1\n",
      "                      xcode       0.50      0.50      0.50         6\n",
      "                        xml       0.00      0.00      0.00         0\n",
      "                       xslt       0.00      0.00      0.00         1\n",
      "                 yandex_api       0.10      0.33      0.15         3\n",
      "                        yii       0.00      0.00      0.00         1\n",
      "\n",
      "                   accuracy                           0.43     17256\n",
      "                  macro avg       0.22      0.35      0.26     17256\n",
      "               weighted avg       0.51      0.43      0.44     17256\n",
      "\n"
     ]
    }
   ],
   "source": [
    "print(classification_report(y_val, y_pred, zero_division=0))"
   ]
  },
  {
   "cell_type": "code",
   "execution_count": 45,
   "id": "796a8b34-9978-404f-9008-46dab1399ead",
   "metadata": {},
   "outputs": [
    {
     "name": "stderr",
     "output_type": "stream",
     "text": [
      "/usr/local/lib/python3.11/site-packages/sklearn/svm/_classes.py:32: FutureWarning: The default value of `dual` will change from `True` to `'auto'` in 1.5. Set the value of `dual` explicitly to suppress the warning.\n",
      "  warnings.warn(\n"
     ]
    },
    {
     "name": "stdout",
     "output_type": "stream",
     "text": [
      "CPU times: user 4min 11s, sys: 2.31 s, total: 4min 14s\n",
      "Wall time: 4min 25s\n"
     ]
    },
    {
     "data": {
      "text/html": [
       "<style>#sk-container-id-2 {color: black;}#sk-container-id-2 pre{padding: 0;}#sk-container-id-2 div.sk-toggleable {background-color: white;}#sk-container-id-2 label.sk-toggleable__label {cursor: pointer;display: block;width: 100%;margin-bottom: 0;padding: 0.3em;box-sizing: border-box;text-align: center;}#sk-container-id-2 label.sk-toggleable__label-arrow:before {content: \"▸\";float: left;margin-right: 0.25em;color: #696969;}#sk-container-id-2 label.sk-toggleable__label-arrow:hover:before {color: black;}#sk-container-id-2 div.sk-estimator:hover label.sk-toggleable__label-arrow:before {color: black;}#sk-container-id-2 div.sk-toggleable__content {max-height: 0;max-width: 0;overflow: hidden;text-align: left;background-color: #f0f8ff;}#sk-container-id-2 div.sk-toggleable__content pre {margin: 0.2em;color: black;border-radius: 0.25em;background-color: #f0f8ff;}#sk-container-id-2 input.sk-toggleable__control:checked~div.sk-toggleable__content {max-height: 200px;max-width: 100%;overflow: auto;}#sk-container-id-2 input.sk-toggleable__control:checked~label.sk-toggleable__label-arrow:before {content: \"▾\";}#sk-container-id-2 div.sk-estimator input.sk-toggleable__control:checked~label.sk-toggleable__label {background-color: #d4ebff;}#sk-container-id-2 div.sk-label input.sk-toggleable__control:checked~label.sk-toggleable__label {background-color: #d4ebff;}#sk-container-id-2 input.sk-hidden--visually {border: 0;clip: rect(1px 1px 1px 1px);clip: rect(1px, 1px, 1px, 1px);height: 1px;margin: -1px;overflow: hidden;padding: 0;position: absolute;width: 1px;}#sk-container-id-2 div.sk-estimator {font-family: monospace;background-color: #f0f8ff;border: 1px dotted black;border-radius: 0.25em;box-sizing: border-box;margin-bottom: 0.5em;}#sk-container-id-2 div.sk-estimator:hover {background-color: #d4ebff;}#sk-container-id-2 div.sk-parallel-item::after {content: \"\";width: 100%;border-bottom: 1px solid gray;flex-grow: 1;}#sk-container-id-2 div.sk-label:hover label.sk-toggleable__label {background-color: #d4ebff;}#sk-container-id-2 div.sk-serial::before {content: \"\";position: absolute;border-left: 1px solid gray;box-sizing: border-box;top: 0;bottom: 0;left: 50%;z-index: 0;}#sk-container-id-2 div.sk-serial {display: flex;flex-direction: column;align-items: center;background-color: white;padding-right: 0.2em;padding-left: 0.2em;position: relative;}#sk-container-id-2 div.sk-item {position: relative;z-index: 1;}#sk-container-id-2 div.sk-parallel {display: flex;align-items: stretch;justify-content: center;background-color: white;position: relative;}#sk-container-id-2 div.sk-item::before, #sk-container-id-2 div.sk-parallel-item::before {content: \"\";position: absolute;border-left: 1px solid gray;box-sizing: border-box;top: 0;bottom: 0;left: 50%;z-index: -1;}#sk-container-id-2 div.sk-parallel-item {display: flex;flex-direction: column;z-index: 1;position: relative;background-color: white;}#sk-container-id-2 div.sk-parallel-item:first-child::after {align-self: flex-end;width: 50%;}#sk-container-id-2 div.sk-parallel-item:last-child::after {align-self: flex-start;width: 50%;}#sk-container-id-2 div.sk-parallel-item:only-child::after {width: 0;}#sk-container-id-2 div.sk-dashed-wrapped {border: 1px dashed gray;margin: 0 0.4em 0.5em 0.4em;box-sizing: border-box;padding-bottom: 0.4em;background-color: white;}#sk-container-id-2 div.sk-label label {font-family: monospace;font-weight: bold;display: inline-block;line-height: 1.2em;}#sk-container-id-2 div.sk-label-container {text-align: center;}#sk-container-id-2 div.sk-container {/* jupyter's `normalize.less` sets `[hidden] { display: none; }` but bootstrap.min.css set `[hidden] { display: none !important; }` so we also need the `!important` here to be able to override the default hidden behavior on the sphinx rendered scikit-learn.org. See: https://github.com/scikit-learn/scikit-learn/issues/21755 */display: inline-block !important;position: relative;}#sk-container-id-2 div.sk-text-repr-fallback {display: none;}</style><div id=\"sk-container-id-2\" class=\"sk-top-container\"><div class=\"sk-text-repr-fallback\"><pre>LinearSVC()</pre><b>In a Jupyter environment, please rerun this cell to show the HTML representation or trust the notebook. <br />On GitHub, the HTML representation is unable to render, please try loading this page with nbviewer.org.</b></div><div class=\"sk-container\" hidden><div class=\"sk-item\"><div class=\"sk-estimator sk-toggleable\"><input class=\"sk-toggleable__control sk-hidden--visually\" id=\"sk-estimator-id-2\" type=\"checkbox\" checked><label for=\"sk-estimator-id-2\" class=\"sk-toggleable__label sk-toggleable__label-arrow\">LinearSVC</label><div class=\"sk-toggleable__content\"><pre>LinearSVC()</pre></div></div></div></div></div>"
      ],
      "text/plain": [
       "LinearSVC()"
      ]
     },
     "execution_count": 45,
     "metadata": {},
     "output_type": "execute_result"
    }
   ],
   "source": [
    "%%time\n",
    "svc = LinearSVC()\n",
    "svc.fit(x_train_tfidf, y_train)"
   ]
  },
  {
   "cell_type": "code",
   "execution_count": 46,
   "id": "f52be0c5-89df-4692-9a1b-acce6b7a2107",
   "metadata": {},
   "outputs": [
    {
     "name": "stdout",
     "output_type": "stream",
     "text": [
      "accuracy 0.48962679647658786\n",
      "f1-score (macro) 0.24481143190339674\n",
      "f1-score (micro) 0.48962679647658786\n",
      "f1-score (weighted) 0.4696772291333459\n"
     ]
    }
   ],
   "source": [
    "y_pred = svc.predict(x_val_tfidf)\n",
    "print('accuracy %s' % accuracy_score(y_val, y_pred))\n",
    "print('f1-score (macro) %s' % f1_score(y_val, y_pred, average='macro'))\n",
    "print('f1-score (micro) %s' % f1_score(y_val, y_pred, average='micro'))\n",
    "print('f1-score (weighted) %s' % f1_score(y_val, y_pred, average='weighted'))"
   ]
  },
  {
   "cell_type": "code",
   "execution_count": 47,
   "id": "b9f81478-e48a-4b13-a960-60fcb9866e08",
   "metadata": {},
   "outputs": [
    {
     "name": "stdout",
     "output_type": "stream",
     "text": [
      "                             precision    recall  f1-score   support\n",
      "\n",
      "                         1C       0.33      0.07      0.12        14\n",
      "                3d_graphics       0.56      0.49      0.52        82\n",
      "                       AJAX       0.00      0.00      0.00         2\n",
      "                  Atlassian       0.50      0.33      0.40         6\n",
      "                     Hadoop       0.00      0.00      0.00         1\n",
      "                       IPFS       0.00      0.00      0.00         1\n",
      "               Sailfish_dev       0.00      0.00      0.00         1\n",
      "                       UEFI       0.00      0.00      0.00         0\n",
      "              accessibility       0.33      0.10      0.15        10\n",
      "                      agile       0.15      0.07      0.10        27\n",
      "                 algorithms       0.30      0.28      0.29       180\n",
      "            analysis_design       0.34      0.32      0.33       265\n",
      "                android_dev       0.38      0.32      0.34       126\n",
      "                    angular       0.33      0.22      0.27         9\n",
      "                  animation       0.00      0.00      0.00         8\n",
      "                     apache       0.00      0.00      0.00        15\n",
      "                        api       0.52      0.28      0.37        46\n",
      "                apps_design       0.00      0.00      0.00        21\n",
      "                    arduino       0.31      0.45      0.37        31\n",
      "                    arvrdev       0.52      0.62      0.57        24\n",
      "                        asp       0.00      0.00      0.00         2\n",
      "                  assembler       0.33      0.30      0.32        20\n",
      "                   asterisk       0.57      0.57      0.57         7\n",
      "                        aws       0.24      0.22      0.23        18\n",
      "                      azure       0.33      0.25      0.29        16\n",
      "                     backup       0.00      0.00      0.00        12\n",
      "                    bigdata       0.36      0.34      0.35       123\n",
      "                    billing       0.00      0.00      0.00         1\n",
      "                     bitrix       0.50      0.10      0.17        10\n",
      "                 bughunters       0.00      0.00      0.00         1\n",
      "           build_automation       0.00      0.00      0.00         3\n",
      "            business_models       0.25      0.17      0.20        64\n",
      "                          c       0.14      0.06      0.08        18\n",
      "                    cad_cam       0.71      0.65      0.68        34\n",
      "                        cgi       0.00      0.00      0.00         3\n",
      "             circuit-design       0.53      0.46      0.49        37\n",
      "              cisconetworks       0.67      0.33      0.44        12\n",
      "   client_side_optimization       0.00      0.00      0.00        16\n",
      "                    clojure       0.00      0.00      0.00         1\n",
      "            cloud_computing       0.35      0.26      0.30        54\n",
      "             cloud_services       0.36      0.36      0.36       115\n",
      "                        cms       0.57      0.51      0.54        39\n",
      "                      cobol       0.00      0.00      0.00         1\n",
      "       community_management       0.36      0.31      0.33        64\n",
      "                  compilers       1.00      0.20      0.33         5\n",
      "              complete_code       0.25      0.04      0.06        27\n",
      "           contentmarketing       0.34      0.25      0.29        44\n",
      "                    context       0.20      0.07      0.11        14\n",
      "                controllers       0.34      0.49      0.40        78\n",
      "                 conversion       0.00      0.00      0.00         5\n",
      "                        cpp       0.36      0.29      0.32       131\n",
      "                   crazydev       0.25      0.13      0.17       138\n",
      "                        crm       0.29      0.19      0.23        21\n",
      "                     crypto       0.36      0.23      0.28        52\n",
      "                     csharp       0.50      0.05      0.09        20\n",
      "                        css       0.62      0.22      0.32        46\n",
      "                        ctf       0.00      0.00      0.00         1\n",
      "                        cvs       0.00      0.00      0.00         5\n",
      "                          d       0.00      0.00      0.00         1\n",
      "                       dart       0.43      0.27      0.33        11\n",
      "           data_compression       0.00      0.00      0.00         2\n",
      "           data_engineering       0.00      0.00      0.00         7\n",
      "                data_mining       0.36      0.25      0.30       112\n",
      "              data_recovery       0.50      0.12      0.20        16\n",
      "         data_visualization       0.33      0.08      0.12        39\n",
      "             data_warehouse       0.00      0.00      0.00         5\n",
      "                  db_admins       0.41      0.23      0.29        31\n",
      "                      debug       0.00      0.00      0.00         5\n",
      "                     delphi       0.50      0.43      0.46         7\n",
      "        desktop_environment       0.00      0.00      0.00         3\n",
      "             dev_management       0.39      0.44      0.42       264\n",
      "                    devmail       0.00      0.00      0.00         1\n",
      "                     devops       0.34      0.20      0.25        71\n",
      "                display_adv       0.33      0.22      0.26        32\n",
      "        distributed_systems       0.00      0.00      0.00         8\n",
      "                     django       0.00      0.00      0.00         3\n",
      "                        dns       0.00      0.00      0.00         2\n",
      "                    domains       0.55      0.33      0.41        18\n",
      "                        dwh       0.52      0.33      0.40        79\n",
      "                    eclipse       0.00      0.00      0.00         2\n",
      "                        ecm       0.33      0.11      0.17         9\n",
      "                  ecommerce       0.53      0.51      0.52       138\n",
      "      ecommerce_development       0.20      0.05      0.08        21\n",
      "                electronics       0.54      0.65      0.59       260\n",
      "              elixirphoenix       0.00      0.00      0.00         1\n",
      "                      emacs       0.00      0.00      0.00         1\n",
      "             emailmarketing       0.33      0.25      0.29         4\n",
      "        engineering_systems       0.40      0.42      0.41        45\n",
      "                     erlang       0.33      0.25      0.29         4\n",
      "                        erp       0.41      0.36      0.38        25\n",
      "                      extjs       0.00      0.00      0.00         0\n",
      "                       fido       0.00      0.00      0.00         1\n",
      "                   firebird       0.00      0.00      0.00         2\n",
      "                    flutter       0.00      0.00      0.00         6\n",
      "                      forth       0.00      0.00      0.00         0\n",
      "                       fpga       0.63      0.74      0.68        23\n",
      "                     fsharp       1.00      0.50      0.67         2\n",
      "                   funcprog       0.00      0.00      0.00         4\n",
      "                        gae       1.00      0.33      0.50         3\n",
      "                game_design       1.00      0.06      0.12        16\n",
      "          game_monetization       0.22      0.15      0.18        13\n",
      "             game_promotion       0.00      0.00      0.00         7\n",
      "               game_testing       0.50      0.10      0.17        10\n",
      "                    gamedev       0.61      0.82      0.70       417\n",
      "                        geo       0.43      0.38      0.41        39\n",
      "                geo_systems       0.57      0.24      0.33        17\n",
      "                        git       0.57      0.62      0.59        26\n",
      "                     github       0.67      0.10      0.17        20\n",
      "                         go       0.25      0.16      0.20        50\n",
      "                      godot       0.00      0.00      0.00         1\n",
      "                 google_api       0.00      0.00      0.00         2\n",
      "                googlecloud       0.00      0.00      0.00         2\n",
      "                      gpgpu       0.00      0.00      0.00         3\n",
      "               graph_design       0.23      0.15      0.18        20\n",
      "              groovy_grails       0.00      0.00      0.00         1\n",
      "              growthhacking       0.33      0.25      0.29        16\n",
      "                        gtd       0.45      0.41      0.43        54\n",
      "                    haskell       0.00      0.00      0.00         3\n",
      "                       haxe       0.00      0.00      0.00         1\n",
      "                   helpdesk       0.56      0.58      0.57        24\n",
      "                         hi       0.39      0.41      0.40       309\n",
      "              hr_management       0.51      0.68      0.58       358\n",
      "                      html5       0.00      0.00      0.00         4\n",
      "                  iconoskaz       0.00      0.00      0.00         6\n",
      "           image_processing       0.34      0.33      0.34       102\n",
      "  industrial_control_system       0.36      0.33      0.35        24\n",
      "                   infolust       0.00      0.00      0.00         1\n",
      "               infosecurity       0.73      0.87      0.80      2077\n",
      "          instant_messaging       0.48      0.56      0.52       115\n",
      "          internetmarketing       0.48      0.45      0.47        99\n",
      "                    ios_dev       0.63      0.76      0.69       312\n",
      "                    iot_dev       0.38      0.17      0.24        29\n",
      "                       iptv       0.00      0.00      0.00         1\n",
      "          it-infrastructure       0.41      0.43      0.42       607\n",
      "            it_monetization       0.00      0.00      0.00        14\n",
      "                 it_testing       0.57      0.61      0.59       279\n",
      "                itstandarts       0.43      0.17      0.24        36\n",
      "                       java       0.45      0.42      0.44       253\n",
      "                 javascript       0.43      0.49      0.46       357\n",
      "                     joomla       0.00      0.00      0.00         1\n",
      "                      julia       0.00      0.00      0.00         2\n",
      "                     kotlin       0.00      0.00      0.00         5\n",
      "                 kubernetes       0.25      0.14      0.18        14\n",
      "                    labview       1.00      1.00      1.00         3\n",
      "                    laravel       0.00      0.00      0.00         2\n",
      "                      latex       0.40      1.00      0.57         2\n",
      "                        lib       0.51      0.47      0.49       119\n",
      "                      linux       0.46      0.56      0.51       243\n",
      "                  linux_dev       0.22      0.07      0.10        30\n",
      "                       lisp       0.00      0.00      0.00        10\n",
      "               localization       0.43      0.27      0.33        22\n",
      "                        lua       0.00      0.00      0.00         5\n",
      "           machine_learning       0.39      0.41      0.40       304\n",
      "                    magento       0.00      0.00      0.00         2\n",
      "                    map_api       0.00      0.00      0.00         4\n",
      "                      maths       0.49      0.61      0.54       133\n",
      "                     matlab       1.00      0.33      0.50         3\n",
      "           media_management       0.62      0.31      0.42        16\n",
      "            mesh_networking       0.00      0.00      0.00         3\n",
      "               microformats       0.00      0.00      0.00         1\n",
      "              microservices       0.00      0.00      0.00        11\n",
      "                 mobile_dev       0.37      0.36      0.36       259\n",
      "        mobile_monetization       0.25      0.11      0.15        18\n",
      "             mobile_testing       0.25      0.14      0.18         7\n",
      "            mobileanalytics       0.00      0.00      0.00         8\n",
      "                       modx       0.00      0.00      0.00         2\n",
      "                    mongodb       0.25      0.33      0.29         3\n",
      "                      mssql       0.47      0.71      0.57        21\n",
      "                      mysql       0.29      0.29      0.29        14\n",
      "natural_language_processing       0.00      0.00      0.00         7\n",
      "                     nestjs       0.00      0.00      0.00         1\n",
      "                        net       0.52      0.53      0.53       173\n",
      "                     netdev       0.38      0.20      0.26        51\n",
      "          network_standarts       0.33      0.12      0.18        25\n",
      "       network_technologies       0.32      0.24      0.27       135\n",
      "                      nginx       0.27      0.21      0.24        14\n",
      "                        nix       0.07      0.02      0.04        43\n",
      "                     nodejs       0.00      0.00      0.00        15\n",
      "                      nosql       0.50      0.21      0.30        14\n",
      "               office365dev       0.00      0.00      0.00         3\n",
      "                        oop       0.00      0.00      0.00         5\n",
      "                open_source       0.45      0.40      0.42       554\n",
      "                   opendata       0.17      0.08      0.11        13\n",
      "              openstreetmap       0.69      0.82      0.75        11\n",
      "                     oracle       0.63      0.57      0.60        42\n",
      "                    osx_dev       0.50      0.42      0.45        12\n",
      "                        p2p       0.45      0.52      0.48        99\n",
      "       parallel_programming       1.00      0.50      0.67         4\n",
      "                    patents       0.69      0.69      0.69        55\n",
      "                 pay_system       0.52      0.61      0.56        93\n",
      "                       perl       0.67      0.25      0.36         8\n",
      "                        php       0.52      0.48      0.50       162\n",
      "                         pm       0.30      0.24      0.27       282\n",
      "                 postgresql       0.61      0.73      0.66        95\n",
      "                 powershell       0.67      0.22      0.33         9\n",
      "            processing_lang       0.00      0.00      0.00         1\n",
      "                  productpm       0.29      0.22      0.25       132\n",
      "                programming       0.37      0.44      0.40      1144\n",
      "                prototyping       0.36      0.21      0.27        19\n",
      "                     python       0.59      0.73      0.65       658\n",
      "                qt_software       1.00      0.43      0.60         7\n",
      "                          r       0.57      0.29      0.38        14\n",
      "                raspberrypi       0.53      0.69      0.60        35\n",
      "                    reactjs       0.00      0.00      0.00        11\n",
      "                refactoring       0.00      0.00      0.00        24\n",
      "                      regex       0.00      0.00      0.00         1\n",
      "                   research       0.38      0.39      0.38       211\n",
      "        reverse-engineering       0.44      0.18      0.26        38\n",
      "                   robo_dev       0.60      0.71      0.65        90\n",
      "                        ror       0.50      0.20      0.29         5\n",
      "                       ruby       0.71      0.69      0.70        32\n",
      "                       rust       0.67      0.18      0.29        11\n",
      "                    s_admin       0.25      0.03      0.05        33\n",
      "                       saas       0.56      0.50      0.53        10\n",
      "                      sales       0.41      0.32      0.36        76\n",
      "                        san       0.00      0.00      0.00         1\n",
      "                      scada       0.00      0.00      0.00         3\n",
      "                      scala       0.71      0.50      0.59        10\n",
      "        search_technologies       0.58      0.60      0.59        82\n",
      "                        seo       0.00      0.00      0.00         6\n",
      "   server_side_optimization       0.00      0.00      0.00        22\n",
      "                 serverless       0.00      0.00      0.00         2\n",
      "               service_desk       0.33      0.28      0.30        18\n",
      "                 sharepoint       0.50      0.40      0.44         5\n",
      "                     shells       0.00      0.00      0.00         1\n",
      "                   solidity       0.50      0.14      0.22         7\n",
      "          sport_programming       0.61      0.56      0.58        34\n",
      "                        sql       0.34      0.29      0.31        42\n",
      "                         sw       0.84      0.57      0.68        28\n",
      "                      swift       1.00      0.25      0.40         4\n",
      "                    symfony       0.00      0.00      0.00         1\n",
      "                  sys_admin       0.37      0.45      0.41       485\n",
      "         system_programming       0.32      0.22      0.26        27\n",
      "                  tarantool       1.00      0.50      0.67         2\n",
      "                        tdd       1.00      0.17      0.29         6\n",
      "          technical_writing       0.45      0.38      0.42        13\n",
      "                 tensorflow       0.00      0.00      0.00         2\n",
      "                    txt_ide       0.00      0.00      0.00         2\n",
      "                 typescript       0.00      0.00      0.00         3\n",
      "                 typography       0.38      0.50      0.43         6\n",
      "                         ui       0.28      0.23      0.25        95\n",
      "                      unity       0.25      0.11      0.15         9\n",
      "              unreal_engine       0.00      0.00      0.00         3\n",
      "                  usability       0.50      0.04      0.07        25\n",
      "                        vba       1.00      0.25      0.40         4\n",
      "            vector_graphics       0.25      0.07      0.11        15\n",
      "                      video       0.52      0.60      0.56       164\n",
      "                        vim       0.50      0.50      0.50         6\n",
      "             virtualization       0.25      0.13      0.17        45\n",
      "                      virus       0.50      0.12      0.19        26\n",
      "         visual_programming       0.00      0.00      0.00         1\n",
      "                     vk_api       0.00      0.00      0.00         1\n",
      "           voice_interfaces       0.50      0.35      0.41        20\n",
      "                         vs       0.00      0.00      0.00         7\n",
      "                      vuejs       0.00      0.00      0.00         6\n",
      "                 web_design       0.46      0.49      0.47       141\n",
      "           web_monetization       0.24      0.18      0.21        22\n",
      "                web_testing       0.11      0.03      0.05        35\n",
      "                      weban       0.46      0.35      0.40        31\n",
      "                webassembly       0.50      0.50      0.50         2\n",
      "                     webdev       0.47      0.53      0.50       763\n",
      "                      webgl       0.00      0.00      0.00         1\n",
      "                    win_dev       0.43      0.61      0.51        33\n",
      "                   wireless       0.44      0.49      0.46       103\n",
      "                  wordpress       0.57      0.40      0.47        10\n",
      "                     wp_dev       0.00      0.00      0.00         1\n",
      "                      xcode       1.00      0.17      0.29         6\n",
      "                       xslt       0.00      0.00      0.00         1\n",
      "                 yandex_api       0.00      0.00      0.00         3\n",
      "                        yii       0.00      0.00      0.00         1\n",
      "\n",
      "                   accuracy                           0.49     17256\n",
      "                  macro avg       0.31      0.23      0.24     17256\n",
      "               weighted avg       0.47      0.49      0.47     17256\n",
      "\n"
     ]
    }
   ],
   "source": [
    "print(classification_report(y_val, y_pred, zero_division=0))"
   ]
  },
  {
   "cell_type": "markdown",
   "id": "c9e597a4-b327-4839-be5e-73bc2d23a473",
   "metadata": {},
   "source": [
    "Можно попробовать подобрать гридсерчем гиперпараметры."
   ]
  },
  {
   "cell_type": "code",
   "execution_count": 15,
   "id": "b3f590a0-1eeb-47b2-a4bb-fd673c94f99f",
   "metadata": {},
   "outputs": [
    {
     "name": "stdout",
     "output_type": "stream",
     "text": [
      "Fitting 3 folds for each of 6 candidates, totalling 18 fits\n"
     ]
    },
    {
     "name": "stderr",
     "output_type": "stream",
     "text": [
      "/usr/local/lib/python3.11/site-packages/sklearn/model_selection/_split.py:737: UserWarning: The least populated class in y has only 1 members, which is less than n_splits=3.\n",
      "  warnings.warn(\n",
      "/usr/local/lib/python3.11/site-packages/sklearn/svm/_classes.py:32: FutureWarning: The default value of `dual` will change from `True` to `'auto'` in 1.5. Set the value of `dual` explicitly to suppress the warning.\n",
      "  warnings.warn(\n",
      "/usr/local/lib/python3.11/site-packages/sklearn/svm/_classes.py:32: FutureWarning: The default value of `dual` will change from `True` to `'auto'` in 1.5. Set the value of `dual` explicitly to suppress the warning.\n",
      "  warnings.warn(\n",
      "/usr/local/lib/python3.11/site-packages/sklearn/svm/_classes.py:32: FutureWarning: The default value of `dual` will change from `True` to `'auto'` in 1.5. Set the value of `dual` explicitly to suppress the warning.\n",
      "  warnings.warn(\n",
      "/usr/local/lib/python3.11/site-packages/sklearn/svm/_classes.py:32: FutureWarning: The default value of `dual` will change from `True` to `'auto'` in 1.5. Set the value of `dual` explicitly to suppress the warning.\n",
      "  warnings.warn(\n",
      "/usr/local/lib/python3.11/site-packages/sklearn/svm/_classes.py:32: FutureWarning: The default value of `dual` will change from `True` to `'auto'` in 1.5. Set the value of `dual` explicitly to suppress the warning.\n",
      "  warnings.warn(\n",
      "/usr/local/lib/python3.11/site-packages/sklearn/svm/_classes.py:32: FutureWarning: The default value of `dual` will change from `True` to `'auto'` in 1.5. Set the value of `dual` explicitly to suppress the warning.\n",
      "  warnings.warn(\n",
      "/usr/local/lib/python3.11/site-packages/sklearn/svm/_classes.py:32: FutureWarning: The default value of `dual` will change from `True` to `'auto'` in 1.5. Set the value of `dual` explicitly to suppress the warning.\n",
      "  warnings.warn(\n",
      "/usr/local/lib/python3.11/site-packages/sklearn/svm/_classes.py:32: FutureWarning: The default value of `dual` will change from `True` to `'auto'` in 1.5. Set the value of `dual` explicitly to suppress the warning.\n",
      "  warnings.warn(\n",
      "/usr/local/lib/python3.11/site-packages/sklearn/svm/_classes.py:32: FutureWarning: The default value of `dual` will change from `True` to `'auto'` in 1.5. Set the value of `dual` explicitly to suppress the warning.\n",
      "  warnings.warn(\n",
      "/usr/local/lib/python3.11/site-packages/sklearn/svm/_classes.py:32: FutureWarning: The default value of `dual` will change from `True` to `'auto'` in 1.5. Set the value of `dual` explicitly to suppress the warning.\n",
      "  warnings.warn(\n",
      "/usr/local/lib/python3.11/site-packages/sklearn/svm/_base.py:1250: ConvergenceWarning: Liblinear failed to converge, increase the number of iterations.\n",
      "  warnings.warn(\n",
      "/usr/local/lib/python3.11/site-packages/sklearn/svm/_classes.py:32: FutureWarning: The default value of `dual` will change from `True` to `'auto'` in 1.5. Set the value of `dual` explicitly to suppress the warning.\n",
      "  warnings.warn(\n",
      "/usr/local/lib/python3.11/site-packages/sklearn/svm/_base.py:1250: ConvergenceWarning: Liblinear failed to converge, increase the number of iterations.\n",
      "  warnings.warn(\n",
      "/usr/local/lib/python3.11/site-packages/sklearn/svm/_classes.py:32: FutureWarning: The default value of `dual` will change from `True` to `'auto'` in 1.5. Set the value of `dual` explicitly to suppress the warning.\n",
      "  warnings.warn(\n",
      "/usr/local/lib/python3.11/site-packages/sklearn/svm/_base.py:1250: ConvergenceWarning: Liblinear failed to converge, increase the number of iterations.\n",
      "  warnings.warn(\n",
      "/usr/local/lib/python3.11/site-packages/sklearn/svm/_classes.py:32: FutureWarning: The default value of `dual` will change from `True` to `'auto'` in 1.5. Set the value of `dual` explicitly to suppress the warning.\n",
      "  warnings.warn(\n",
      "/usr/local/lib/python3.11/site-packages/sklearn/svm/_classes.py:32: FutureWarning: The default value of `dual` will change from `True` to `'auto'` in 1.5. Set the value of `dual` explicitly to suppress the warning.\n",
      "  warnings.warn(\n",
      "/usr/local/lib/python3.11/site-packages/sklearn/svm/_classes.py:32: FutureWarning: The default value of `dual` will change from `True` to `'auto'` in 1.5. Set the value of `dual` explicitly to suppress the warning.\n",
      "  warnings.warn(\n",
      "/usr/local/lib/python3.11/site-packages/sklearn/svm/_classes.py:32: FutureWarning: The default value of `dual` will change from `True` to `'auto'` in 1.5. Set the value of `dual` explicitly to suppress the warning.\n",
      "  warnings.warn(\n",
      "/usr/local/lib/python3.11/site-packages/sklearn/svm/_base.py:1250: ConvergenceWarning: Liblinear failed to converge, increase the number of iterations.\n",
      "  warnings.warn(\n",
      "/usr/local/lib/python3.11/site-packages/sklearn/svm/_classes.py:32: FutureWarning: The default value of `dual` will change from `True` to `'auto'` in 1.5. Set the value of `dual` explicitly to suppress the warning.\n",
      "  warnings.warn(\n",
      "/usr/local/lib/python3.11/site-packages/sklearn/svm/_base.py:1250: ConvergenceWarning: Liblinear failed to converge, increase the number of iterations.\n",
      "  warnings.warn(\n",
      "/usr/local/lib/python3.11/site-packages/sklearn/svm/_classes.py:32: FutureWarning: The default value of `dual` will change from `True` to `'auto'` in 1.5. Set the value of `dual` explicitly to suppress the warning.\n",
      "  warnings.warn(\n",
      "/usr/local/lib/python3.11/site-packages/sklearn/svm/_base.py:1250: ConvergenceWarning: Liblinear failed to converge, increase the number of iterations.\n",
      "  warnings.warn(\n"
     ]
    },
    {
     "name": "stdout",
     "output_type": "stream",
     "text": [
      "[CV 1/3] END ............C=0.1, multi_class=ovr;, score=0.490 total time= 4.1min\n",
      "[CV 1/3] END ..............C=1, multi_class=ovr;, score=0.480 total time= 4.6min\n",
      "[CV 2/3] END ..............C=1, multi_class=ovr;, score=0.479 total time= 5.7min\n",
      "[CV 3/3] END ..............C=1, multi_class=ovr;, score=0.479 total time= 5.8min\n",
      "[CV 1/3] END ...C=1, multi_class=crammer_singer;, score=0.481 total time=54.8min\n",
      "[CV 2/3] END ...C=2, multi_class=crammer_singer;, score=0.459 total time=77.6min\n"
     ]
    },
    {
     "name": "stderr",
     "output_type": "stream",
     "text": [
      "/usr/local/lib/python3.11/site-packages/sklearn/svm/_base.py:1250: ConvergenceWarning: Liblinear failed to converge, increase the number of iterations.\n",
      "  warnings.warn(\n"
     ]
    },
    {
     "name": "stdout",
     "output_type": "stream",
     "text": [
      "[CV 1/3] END .C=0.1, multi_class=crammer_singer;, score=0.477 total time=47.5min\n",
      "[CV 1/3] END ..............C=2, multi_class=ovr;, score=0.466 total time= 6.3min\n",
      "[CV 2/3] END ..............C=2, multi_class=ovr;, score=0.465 total time= 6.8min\n",
      "[CV 3/3] END ..............C=2, multi_class=ovr;, score=0.466 total time= 6.9min\n",
      "[CV 1/3] END ..C=2, multi_class=crammer_singer;, score=0.461 total time=154.7min\n"
     ]
    },
    {
     "name": "stderr",
     "output_type": "stream",
     "text": [
      "/usr/local/lib/python3.11/site-packages/sklearn/svm/_base.py:1250: ConvergenceWarning: Liblinear failed to converge, increase the number of iterations.\n",
      "  warnings.warn(\n",
      "/usr/local/lib/python3.11/site-packages/sklearn/svm/_base.py:1250: ConvergenceWarning: Liblinear failed to converge, increase the number of iterations.\n",
      "  warnings.warn(\n"
     ]
    },
    {
     "name": "stdout",
     "output_type": "stream",
     "text": [
      "[CV 3/3] END ............C=0.1, multi_class=ovr;, score=0.492 total time= 4.0min\n",
      "[CV 2/3] END .C=0.1, multi_class=crammer_singer;, score=0.477 total time=34.7min\n",
      "[CV 2/3] END ...C=1, multi_class=crammer_singer;, score=0.476 total time=58.3min\n",
      "[CV 3/3] END ..C=2, multi_class=crammer_singer;, score=0.458 total time=139.1min\n"
     ]
    },
    {
     "name": "stderr",
     "output_type": "stream",
     "text": [
      "/usr/local/lib/python3.11/site-packages/sklearn/svm/_classes.py:32: FutureWarning: The default value of `dual` will change from `True` to `'auto'` in 1.5. Set the value of `dual` explicitly to suppress the warning.\n",
      "  warnings.warn(\n"
     ]
    },
    {
     "name": "stdout",
     "output_type": "stream",
     "text": [
      "CPU times: user 4min 9s, sys: 21.7 s, total: 4min 30s\n",
      "Wall time: 4h 5min 1s\n"
     ]
    },
    {
     "data": {
      "text/html": [
       "<style>#sk-container-id-1 {color: black;}#sk-container-id-1 pre{padding: 0;}#sk-container-id-1 div.sk-toggleable {background-color: white;}#sk-container-id-1 label.sk-toggleable__label {cursor: pointer;display: block;width: 100%;margin-bottom: 0;padding: 0.3em;box-sizing: border-box;text-align: center;}#sk-container-id-1 label.sk-toggleable__label-arrow:before {content: \"▸\";float: left;margin-right: 0.25em;color: #696969;}#sk-container-id-1 label.sk-toggleable__label-arrow:hover:before {color: black;}#sk-container-id-1 div.sk-estimator:hover label.sk-toggleable__label-arrow:before {color: black;}#sk-container-id-1 div.sk-toggleable__content {max-height: 0;max-width: 0;overflow: hidden;text-align: left;background-color: #f0f8ff;}#sk-container-id-1 div.sk-toggleable__content pre {margin: 0.2em;color: black;border-radius: 0.25em;background-color: #f0f8ff;}#sk-container-id-1 input.sk-toggleable__control:checked~div.sk-toggleable__content {max-height: 200px;max-width: 100%;overflow: auto;}#sk-container-id-1 input.sk-toggleable__control:checked~label.sk-toggleable__label-arrow:before {content: \"▾\";}#sk-container-id-1 div.sk-estimator input.sk-toggleable__control:checked~label.sk-toggleable__label {background-color: #d4ebff;}#sk-container-id-1 div.sk-label input.sk-toggleable__control:checked~label.sk-toggleable__label {background-color: #d4ebff;}#sk-container-id-1 input.sk-hidden--visually {border: 0;clip: rect(1px 1px 1px 1px);clip: rect(1px, 1px, 1px, 1px);height: 1px;margin: -1px;overflow: hidden;padding: 0;position: absolute;width: 1px;}#sk-container-id-1 div.sk-estimator {font-family: monospace;background-color: #f0f8ff;border: 1px dotted black;border-radius: 0.25em;box-sizing: border-box;margin-bottom: 0.5em;}#sk-container-id-1 div.sk-estimator:hover {background-color: #d4ebff;}#sk-container-id-1 div.sk-parallel-item::after {content: \"\";width: 100%;border-bottom: 1px solid gray;flex-grow: 1;}#sk-container-id-1 div.sk-label:hover label.sk-toggleable__label {background-color: #d4ebff;}#sk-container-id-1 div.sk-serial::before {content: \"\";position: absolute;border-left: 1px solid gray;box-sizing: border-box;top: 0;bottom: 0;left: 50%;z-index: 0;}#sk-container-id-1 div.sk-serial {display: flex;flex-direction: column;align-items: center;background-color: white;padding-right: 0.2em;padding-left: 0.2em;position: relative;}#sk-container-id-1 div.sk-item {position: relative;z-index: 1;}#sk-container-id-1 div.sk-parallel {display: flex;align-items: stretch;justify-content: center;background-color: white;position: relative;}#sk-container-id-1 div.sk-item::before, #sk-container-id-1 div.sk-parallel-item::before {content: \"\";position: absolute;border-left: 1px solid gray;box-sizing: border-box;top: 0;bottom: 0;left: 50%;z-index: -1;}#sk-container-id-1 div.sk-parallel-item {display: flex;flex-direction: column;z-index: 1;position: relative;background-color: white;}#sk-container-id-1 div.sk-parallel-item:first-child::after {align-self: flex-end;width: 50%;}#sk-container-id-1 div.sk-parallel-item:last-child::after {align-self: flex-start;width: 50%;}#sk-container-id-1 div.sk-parallel-item:only-child::after {width: 0;}#sk-container-id-1 div.sk-dashed-wrapped {border: 1px dashed gray;margin: 0 0.4em 0.5em 0.4em;box-sizing: border-box;padding-bottom: 0.4em;background-color: white;}#sk-container-id-1 div.sk-label label {font-family: monospace;font-weight: bold;display: inline-block;line-height: 1.2em;}#sk-container-id-1 div.sk-label-container {text-align: center;}#sk-container-id-1 div.sk-container {/* jupyter's `normalize.less` sets `[hidden] { display: none; }` but bootstrap.min.css set `[hidden] { display: none !important; }` so we also need the `!important` here to be able to override the default hidden behavior on the sphinx rendered scikit-learn.org. See: https://github.com/scikit-learn/scikit-learn/issues/21755 */display: inline-block !important;position: relative;}#sk-container-id-1 div.sk-text-repr-fallback {display: none;}</style><div id=\"sk-container-id-1\" class=\"sk-top-container\"><div class=\"sk-text-repr-fallback\"><pre>GridSearchCV(cv=3, estimator=LinearSVC(max_iter=500, random_state=42),\n",
       "             n_jobs=-1,\n",
       "             param_grid={&#x27;C&#x27;: [0.1, 1, 2],\n",
       "                         &#x27;multi_class&#x27;: [&#x27;ovr&#x27;, &#x27;crammer_singer&#x27;]},\n",
       "             scoring=&#x27;f1_micro&#x27;, verbose=3)</pre><b>In a Jupyter environment, please rerun this cell to show the HTML representation or trust the notebook. <br />On GitHub, the HTML representation is unable to render, please try loading this page with nbviewer.org.</b></div><div class=\"sk-container\" hidden><div class=\"sk-item sk-dashed-wrapped\"><div class=\"sk-label-container\"><div class=\"sk-label sk-toggleable\"><input class=\"sk-toggleable__control sk-hidden--visually\" id=\"sk-estimator-id-1\" type=\"checkbox\" ><label for=\"sk-estimator-id-1\" class=\"sk-toggleable__label sk-toggleable__label-arrow\">GridSearchCV</label><div class=\"sk-toggleable__content\"><pre>GridSearchCV(cv=3, estimator=LinearSVC(max_iter=500, random_state=42),\n",
       "             n_jobs=-1,\n",
       "             param_grid={&#x27;C&#x27;: [0.1, 1, 2],\n",
       "                         &#x27;multi_class&#x27;: [&#x27;ovr&#x27;, &#x27;crammer_singer&#x27;]},\n",
       "             scoring=&#x27;f1_micro&#x27;, verbose=3)</pre></div></div></div><div class=\"sk-parallel\"><div class=\"sk-parallel-item\"><div class=\"sk-item\"><div class=\"sk-label-container\"><div class=\"sk-label sk-toggleable\"><input class=\"sk-toggleable__control sk-hidden--visually\" id=\"sk-estimator-id-2\" type=\"checkbox\" ><label for=\"sk-estimator-id-2\" class=\"sk-toggleable__label sk-toggleable__label-arrow\">estimator: LinearSVC</label><div class=\"sk-toggleable__content\"><pre>LinearSVC(max_iter=500, random_state=42)</pre></div></div></div><div class=\"sk-serial\"><div class=\"sk-item\"><div class=\"sk-estimator sk-toggleable\"><input class=\"sk-toggleable__control sk-hidden--visually\" id=\"sk-estimator-id-3\" type=\"checkbox\" ><label for=\"sk-estimator-id-3\" class=\"sk-toggleable__label sk-toggleable__label-arrow\">LinearSVC</label><div class=\"sk-toggleable__content\"><pre>LinearSVC(max_iter=500, random_state=42)</pre></div></div></div></div></div></div></div></div></div></div>"
      ],
      "text/plain": [
       "GridSearchCV(cv=3, estimator=LinearSVC(max_iter=500, random_state=42),\n",
       "             n_jobs=-1,\n",
       "             param_grid={'C': [0.1, 1, 2],\n",
       "                         'multi_class': ['ovr', 'crammer_singer']},\n",
       "             scoring='f1_micro', verbose=3)"
      ]
     },
     "execution_count": 15,
     "metadata": {},
     "output_type": "execute_result"
    }
   ],
   "source": [
    "%%time\n",
    "\n",
    "parameters = {\n",
    "    'C':[0.1, 1, 2],\n",
    "    'multi_class': ['ovr', 'crammer_singer'],\n",
    "}\n",
    "\n",
    "svc = LinearSVC(random_state=42, max_iter=500)\n",
    "gsc = GridSearchCV(svc, parameters, verbose=3, cv=3, scoring='f1_micro', n_jobs=-1)\n",
    "gsc.fit(x_train_tfidf, y_train)"
   ]
  },
  {
   "cell_type": "code",
   "execution_count": 16,
   "id": "965b3967-3ae2-40ac-8364-faeb934ea386",
   "metadata": {},
   "outputs": [
    {
     "name": "stdout",
     "output_type": "stream",
     "text": [
      "{'C': 0.1, 'multi_class': 'ovr'}\n"
     ]
    }
   ],
   "source": [
    "print(gsc.best_params_)"
   ]
  },
  {
   "cell_type": "code",
   "execution_count": 17,
   "id": "5560d6fb-9372-4299-be09-1d496c614272",
   "metadata": {},
   "outputs": [
    {
     "name": "stderr",
     "output_type": "stream",
     "text": [
      "/usr/local/lib/python3.11/site-packages/sklearn/svm/_classes.py:32: FutureWarning: The default value of `dual` will change from `True` to `'auto'` in 1.5. Set the value of `dual` explicitly to suppress the warning.\n",
      "  warnings.warn(\n"
     ]
    },
    {
     "name": "stdout",
     "output_type": "stream",
     "text": [
      "[CV 2/3] END ............C=0.1, multi_class=ovr;, score=0.488 total time= 4.0min\n",
      "[CV 3/3] END .C=0.1, multi_class=crammer_singer;, score=0.478 total time=41.2min\n",
      "[CV 3/3] END ..C=1, multi_class=crammer_singer;, score=0.477 total time=195.9min\n",
      "accuracy 0.4987830319888734\n",
      "f1-score (macro) 0.2024638547642925\n",
      "f1-score (micro) 0.4987830319888734\n",
      "f1-score (weighted) 0.4639349535492136\n"
     ]
    }
   ],
   "source": [
    "bestlinearSVC = gsc.best_estimator_\n",
    "bestlinearSVC.fit(x_train_tfidf, y_train)\n",
    "y_pred3 = bestlinearSVC.predict(x_val_tfidf)\n",
    "print('accuracy %s' % accuracy_score(y_val, y_pred3))\n",
    "print('f1-score (macro) %s' % f1_score(y_val, y_pred3, average='macro'))\n",
    "print('f1-score (micro) %s' % f1_score(y_val, y_pred3, average='micro'))\n",
    "print('f1-score (weighted) %s' % f1_score(y_val, y_pred3, average='weighted'))"
   ]
  },
  {
   "cell_type": "code",
   "execution_count": 18,
   "id": "a3435d11-708a-4c4a-9b09-27e855046d61",
   "metadata": {},
   "outputs": [],
   "source": [
    "pickle.dump(bestlinearSVC, open('linearSVC.pkl', 'wb'))"
   ]
  },
  {
   "cell_type": "markdown",
   "id": "0fb6d952-be62-406b-b020-83be2fcbeb0a",
   "metadata": {},
   "source": [
    "Лучший результат при подобранных гридсерчем гиперпараметрах (`C=0.1`, `multi_class='ovr'`): `F1-macro=0.20`,`F1-weighted=0.46`, `accuracy=0.50`. "
   ]
  },
  {
   "cell_type": "code",
   "execution_count": 19,
   "id": "0a7e6dbc-950b-4465-8c4b-2d96967d52e0",
   "metadata": {},
   "outputs": [
    {
     "name": "stderr",
     "output_type": "stream",
     "text": [
      "/usr/local/lib/python3.11/site-packages/sklearn/svm/_classes.py:32: FutureWarning: The default value of `dual` will change from `True` to `'auto'` in 1.5. Set the value of `dual` explicitly to suppress the warning.\n",
      "  warnings.warn(\n"
     ]
    },
    {
     "name": "stdout",
     "output_type": "stream",
     "text": [
      "accuracy 0.443266110338433\n",
      "f1-score (macro) 0.11541303485074349\n",
      "f1-score (micro) 0.443266110338433\n",
      "f1-score (weighted) 0.3842216253610764\n",
      "CPU times: user 4min 8s, sys: 2.96 s, total: 4min 11s\n",
      "Wall time: 4min 20s\n"
     ]
    }
   ],
   "source": [
    "%%time\n",
    "svc = LinearSVC(C=0.01, multi_class='ovr')\n",
    "svc.fit(x_train_tfidf, y_train)\n",
    "y_pred4 = svc.predict(x_val_tfidf)\n",
    "print('accuracy %s' % accuracy_score(y_val, y_pred4))\n",
    "print('f1-score (macro) %s' % f1_score(y_val, y_pred4, average='macro'))\n",
    "print('f1-score (micro) %s' % f1_score(y_val, y_pred4, average='micro'))\n",
    "print('f1-score (weighted) %s' % f1_score(y_val, y_pred4, average='weighted'))"
   ]
  },
  {
   "cell_type": "markdown",
   "id": "c7d46d70-548e-45fc-9c1f-895aedccffb2",
   "metadata": {},
   "source": [
    "Уменьшение с `С=0.1` до `C=0.01` ухудшило метрики: `F1-macro=0.12`, `F1-weighted=0.38`, `accuracy=0.44`. "
   ]
  },
  {
   "cell_type": "code",
   "execution_count": 27,
   "id": "2472de07-bf66-4b32-94a3-384666a3ca79",
   "metadata": {},
   "outputs": [],
   "source": [
    "pickle.dump(svc, open('linearSVC_2.pkl', 'wb'))"
   ]
  },
  {
   "cell_type": "markdown",
   "id": "2e122d3b-9a99-4750-8d73-aacf01e0c671",
   "metadata": {},
   "source": [
    "**Вывод:**\n",
    "\n",
    "В `LinearSVC` ощутимо быстрее работает дефолтная мультиклассовая стратегия «One-vs-rest» (`multi_class='ovr'`) по сравнению с `multi_class='crammer_singer'`.\n",
    "\n",
    "При указании `class_weight='balanced'`, как рекомендуется для несбалансированых классов, немного повысилcя `F1-macro`, остальные метрики у  аналогичной модели без указания этого параметра оказались лучше.\n",
    "\n",
    "**Метрики метода опорных векторов с линейным ядром** с гиперпараметрами, подобранными гридсерчем, **получились немного выше**, чем у логистической регрессии: `F1-macro=0.20`, `F1-weighted=0.46`, `accuracy=0.50` (у лучшей логистической регрессии: `F1-macro=0.19`, `F1-weighted=0.46`, `accuracy=0.49`), при этом **модель обучается очень быстро** (логрег - несколько часов, метод опорных векторов - несколько минут).\n"
   ]
  },
  {
   "cell_type": "markdown",
   "id": "af4dc14f-80d0-4966-a87a-77520d4d73bd",
   "metadata": {},
   "source": [
    "### Multinomial Naive Bayes\n",
    "\n",
    "Перейдем к наивному байесовскому классификатору:"
   ]
  },
  {
   "cell_type": "code",
   "execution_count": 24,
   "id": "d30087e5-e1cb-4bf1-8628-775606ccfe32",
   "metadata": {},
   "outputs": [
    {
     "name": "stdout",
     "output_type": "stream",
     "text": [
      "CPU times: user 9.55 s, sys: 540 ms, total: 10.1 s\n",
      "Wall time: 10.8 s\n"
     ]
    },
    {
     "data": {
      "text/html": [
       "<style>#sk-container-id-2 {color: black;}#sk-container-id-2 pre{padding: 0;}#sk-container-id-2 div.sk-toggleable {background-color: white;}#sk-container-id-2 label.sk-toggleable__label {cursor: pointer;display: block;width: 100%;margin-bottom: 0;padding: 0.3em;box-sizing: border-box;text-align: center;}#sk-container-id-2 label.sk-toggleable__label-arrow:before {content: \"▸\";float: left;margin-right: 0.25em;color: #696969;}#sk-container-id-2 label.sk-toggleable__label-arrow:hover:before {color: black;}#sk-container-id-2 div.sk-estimator:hover label.sk-toggleable__label-arrow:before {color: black;}#sk-container-id-2 div.sk-toggleable__content {max-height: 0;max-width: 0;overflow: hidden;text-align: left;background-color: #f0f8ff;}#sk-container-id-2 div.sk-toggleable__content pre {margin: 0.2em;color: black;border-radius: 0.25em;background-color: #f0f8ff;}#sk-container-id-2 input.sk-toggleable__control:checked~div.sk-toggleable__content {max-height: 200px;max-width: 100%;overflow: auto;}#sk-container-id-2 input.sk-toggleable__control:checked~label.sk-toggleable__label-arrow:before {content: \"▾\";}#sk-container-id-2 div.sk-estimator input.sk-toggleable__control:checked~label.sk-toggleable__label {background-color: #d4ebff;}#sk-container-id-2 div.sk-label input.sk-toggleable__control:checked~label.sk-toggleable__label {background-color: #d4ebff;}#sk-container-id-2 input.sk-hidden--visually {border: 0;clip: rect(1px 1px 1px 1px);clip: rect(1px, 1px, 1px, 1px);height: 1px;margin: -1px;overflow: hidden;padding: 0;position: absolute;width: 1px;}#sk-container-id-2 div.sk-estimator {font-family: monospace;background-color: #f0f8ff;border: 1px dotted black;border-radius: 0.25em;box-sizing: border-box;margin-bottom: 0.5em;}#sk-container-id-2 div.sk-estimator:hover {background-color: #d4ebff;}#sk-container-id-2 div.sk-parallel-item::after {content: \"\";width: 100%;border-bottom: 1px solid gray;flex-grow: 1;}#sk-container-id-2 div.sk-label:hover label.sk-toggleable__label {background-color: #d4ebff;}#sk-container-id-2 div.sk-serial::before {content: \"\";position: absolute;border-left: 1px solid gray;box-sizing: border-box;top: 0;bottom: 0;left: 50%;z-index: 0;}#sk-container-id-2 div.sk-serial {display: flex;flex-direction: column;align-items: center;background-color: white;padding-right: 0.2em;padding-left: 0.2em;position: relative;}#sk-container-id-2 div.sk-item {position: relative;z-index: 1;}#sk-container-id-2 div.sk-parallel {display: flex;align-items: stretch;justify-content: center;background-color: white;position: relative;}#sk-container-id-2 div.sk-item::before, #sk-container-id-2 div.sk-parallel-item::before {content: \"\";position: absolute;border-left: 1px solid gray;box-sizing: border-box;top: 0;bottom: 0;left: 50%;z-index: -1;}#sk-container-id-2 div.sk-parallel-item {display: flex;flex-direction: column;z-index: 1;position: relative;background-color: white;}#sk-container-id-2 div.sk-parallel-item:first-child::after {align-self: flex-end;width: 50%;}#sk-container-id-2 div.sk-parallel-item:last-child::after {align-self: flex-start;width: 50%;}#sk-container-id-2 div.sk-parallel-item:only-child::after {width: 0;}#sk-container-id-2 div.sk-dashed-wrapped {border: 1px dashed gray;margin: 0 0.4em 0.5em 0.4em;box-sizing: border-box;padding-bottom: 0.4em;background-color: white;}#sk-container-id-2 div.sk-label label {font-family: monospace;font-weight: bold;display: inline-block;line-height: 1.2em;}#sk-container-id-2 div.sk-label-container {text-align: center;}#sk-container-id-2 div.sk-container {/* jupyter's `normalize.less` sets `[hidden] { display: none; }` but bootstrap.min.css set `[hidden] { display: none !important; }` so we also need the `!important` here to be able to override the default hidden behavior on the sphinx rendered scikit-learn.org. See: https://github.com/scikit-learn/scikit-learn/issues/21755 */display: inline-block !important;position: relative;}#sk-container-id-2 div.sk-text-repr-fallback {display: none;}</style><div id=\"sk-container-id-2\" class=\"sk-top-container\"><div class=\"sk-text-repr-fallback\"><pre>MultinomialNB()</pre><b>In a Jupyter environment, please rerun this cell to show the HTML representation or trust the notebook. <br />On GitHub, the HTML representation is unable to render, please try loading this page with nbviewer.org.</b></div><div class=\"sk-container\" hidden><div class=\"sk-item\"><div class=\"sk-estimator sk-toggleable\"><input class=\"sk-toggleable__control sk-hidden--visually\" id=\"sk-estimator-id-4\" type=\"checkbox\" checked><label for=\"sk-estimator-id-4\" class=\"sk-toggleable__label sk-toggleable__label-arrow\">MultinomialNB</label><div class=\"sk-toggleable__content\"><pre>MultinomialNB()</pre></div></div></div></div></div>"
      ],
      "text/plain": [
       "MultinomialNB()"
      ]
     },
     "execution_count": 24,
     "metadata": {},
     "output_type": "execute_result"
    }
   ],
   "source": [
    "%%time\n",
    "mnb = MultinomialNB()\n",
    "mnb.fit(x_train_tfidf, y_train)"
   ]
  },
  {
   "cell_type": "code",
   "execution_count": 28,
   "id": "e238779e-7b81-47b2-bcba-ec3a28a0a4e5",
   "metadata": {},
   "outputs": [
    {
     "name": "stdout",
     "output_type": "stream",
     "text": [
      "accuracy 0.2706884561891516\n",
      "f1-score (macro) 0.017860102173864054\n",
      "f1-score (micro) 0.2706884561891516\n",
      "f1-score (weighted) 0.17445510643886558\n"
     ]
    }
   ],
   "source": [
    "y_pred5 = mnb.predict(x_val_tfidf)\n",
    "print('accuracy %s' % accuracy_score(y_val, y_pred5))\n",
    "print('f1-score (macro) %s' % f1_score(y_val, y_pred5, average='macro'))\n",
    "print('f1-score (micro) %s' % f1_score(y_val, y_pred5, average='micro'))\n",
    "print('f1-score (weighted) %s' % f1_score(y_val, y_pred5, average='weighted'))"
   ]
  },
  {
   "cell_type": "markdown",
   "id": "b65b9a7a-7fed-4875-b1fb-1ebcd0bcb5e8",
   "metadata": {},
   "source": [
    "Можно попробовать подобрать гридсерчем гиперпараметры."
   ]
  },
  {
   "cell_type": "code",
   "execution_count": 38,
   "id": "5d76582d-1b90-47f7-832e-d4bf1f1c1377",
   "metadata": {},
   "outputs": [
    {
     "name": "stdout",
     "output_type": "stream",
     "text": [
      "Fitting 3 folds for each of 7 candidates, totalling 21 fits\n",
      "CPU times: user 10.8 s, sys: 1.63 s, total: 12.4 s\n",
      "Wall time: 2min 19s\n"
     ]
    },
    {
     "data": {
      "text/html": [
       "<style>#sk-container-id-4 {color: black;}#sk-container-id-4 pre{padding: 0;}#sk-container-id-4 div.sk-toggleable {background-color: white;}#sk-container-id-4 label.sk-toggleable__label {cursor: pointer;display: block;width: 100%;margin-bottom: 0;padding: 0.3em;box-sizing: border-box;text-align: center;}#sk-container-id-4 label.sk-toggleable__label-arrow:before {content: \"▸\";float: left;margin-right: 0.25em;color: #696969;}#sk-container-id-4 label.sk-toggleable__label-arrow:hover:before {color: black;}#sk-container-id-4 div.sk-estimator:hover label.sk-toggleable__label-arrow:before {color: black;}#sk-container-id-4 div.sk-toggleable__content {max-height: 0;max-width: 0;overflow: hidden;text-align: left;background-color: #f0f8ff;}#sk-container-id-4 div.sk-toggleable__content pre {margin: 0.2em;color: black;border-radius: 0.25em;background-color: #f0f8ff;}#sk-container-id-4 input.sk-toggleable__control:checked~div.sk-toggleable__content {max-height: 200px;max-width: 100%;overflow: auto;}#sk-container-id-4 input.sk-toggleable__control:checked~label.sk-toggleable__label-arrow:before {content: \"▾\";}#sk-container-id-4 div.sk-estimator input.sk-toggleable__control:checked~label.sk-toggleable__label {background-color: #d4ebff;}#sk-container-id-4 div.sk-label input.sk-toggleable__control:checked~label.sk-toggleable__label {background-color: #d4ebff;}#sk-container-id-4 input.sk-hidden--visually {border: 0;clip: rect(1px 1px 1px 1px);clip: rect(1px, 1px, 1px, 1px);height: 1px;margin: -1px;overflow: hidden;padding: 0;position: absolute;width: 1px;}#sk-container-id-4 div.sk-estimator {font-family: monospace;background-color: #f0f8ff;border: 1px dotted black;border-radius: 0.25em;box-sizing: border-box;margin-bottom: 0.5em;}#sk-container-id-4 div.sk-estimator:hover {background-color: #d4ebff;}#sk-container-id-4 div.sk-parallel-item::after {content: \"\";width: 100%;border-bottom: 1px solid gray;flex-grow: 1;}#sk-container-id-4 div.sk-label:hover label.sk-toggleable__label {background-color: #d4ebff;}#sk-container-id-4 div.sk-serial::before {content: \"\";position: absolute;border-left: 1px solid gray;box-sizing: border-box;top: 0;bottom: 0;left: 50%;z-index: 0;}#sk-container-id-4 div.sk-serial {display: flex;flex-direction: column;align-items: center;background-color: white;padding-right: 0.2em;padding-left: 0.2em;position: relative;}#sk-container-id-4 div.sk-item {position: relative;z-index: 1;}#sk-container-id-4 div.sk-parallel {display: flex;align-items: stretch;justify-content: center;background-color: white;position: relative;}#sk-container-id-4 div.sk-item::before, #sk-container-id-4 div.sk-parallel-item::before {content: \"\";position: absolute;border-left: 1px solid gray;box-sizing: border-box;top: 0;bottom: 0;left: 50%;z-index: -1;}#sk-container-id-4 div.sk-parallel-item {display: flex;flex-direction: column;z-index: 1;position: relative;background-color: white;}#sk-container-id-4 div.sk-parallel-item:first-child::after {align-self: flex-end;width: 50%;}#sk-container-id-4 div.sk-parallel-item:last-child::after {align-self: flex-start;width: 50%;}#sk-container-id-4 div.sk-parallel-item:only-child::after {width: 0;}#sk-container-id-4 div.sk-dashed-wrapped {border: 1px dashed gray;margin: 0 0.4em 0.5em 0.4em;box-sizing: border-box;padding-bottom: 0.4em;background-color: white;}#sk-container-id-4 div.sk-label label {font-family: monospace;font-weight: bold;display: inline-block;line-height: 1.2em;}#sk-container-id-4 div.sk-label-container {text-align: center;}#sk-container-id-4 div.sk-container {/* jupyter's `normalize.less` sets `[hidden] { display: none; }` but bootstrap.min.css set `[hidden] { display: none !important; }` so we also need the `!important` here to be able to override the default hidden behavior on the sphinx rendered scikit-learn.org. See: https://github.com/scikit-learn/scikit-learn/issues/21755 */display: inline-block !important;position: relative;}#sk-container-id-4 div.sk-text-repr-fallback {display: none;}</style><div id=\"sk-container-id-4\" class=\"sk-top-container\"><div class=\"sk-text-repr-fallback\"><pre>GridSearchCV(cv=3, estimator=MultinomialNB(), n_jobs=-1,\n",
       "             param_grid={&#x27;alpha&#x27;: [1e-05, 0.0001, 0.001, 0.1, 1, 10, 100]},\n",
       "             scoring=&#x27;f1_micro&#x27;, verbose=3)</pre><b>In a Jupyter environment, please rerun this cell to show the HTML representation or trust the notebook. <br />On GitHub, the HTML representation is unable to render, please try loading this page with nbviewer.org.</b></div><div class=\"sk-container\" hidden><div class=\"sk-item sk-dashed-wrapped\"><div class=\"sk-label-container\"><div class=\"sk-label sk-toggleable\"><input class=\"sk-toggleable__control sk-hidden--visually\" id=\"sk-estimator-id-8\" type=\"checkbox\" ><label for=\"sk-estimator-id-8\" class=\"sk-toggleable__label sk-toggleable__label-arrow\">GridSearchCV</label><div class=\"sk-toggleable__content\"><pre>GridSearchCV(cv=3, estimator=MultinomialNB(), n_jobs=-1,\n",
       "             param_grid={&#x27;alpha&#x27;: [1e-05, 0.0001, 0.001, 0.1, 1, 10, 100]},\n",
       "             scoring=&#x27;f1_micro&#x27;, verbose=3)</pre></div></div></div><div class=\"sk-parallel\"><div class=\"sk-parallel-item\"><div class=\"sk-item\"><div class=\"sk-label-container\"><div class=\"sk-label sk-toggleable\"><input class=\"sk-toggleable__control sk-hidden--visually\" id=\"sk-estimator-id-9\" type=\"checkbox\" ><label for=\"sk-estimator-id-9\" class=\"sk-toggleable__label sk-toggleable__label-arrow\">estimator: MultinomialNB</label><div class=\"sk-toggleable__content\"><pre>MultinomialNB()</pre></div></div></div><div class=\"sk-serial\"><div class=\"sk-item\"><div class=\"sk-estimator sk-toggleable\"><input class=\"sk-toggleable__control sk-hidden--visually\" id=\"sk-estimator-id-10\" type=\"checkbox\" ><label for=\"sk-estimator-id-10\" class=\"sk-toggleable__label sk-toggleable__label-arrow\">MultinomialNB</label><div class=\"sk-toggleable__content\"><pre>MultinomialNB()</pre></div></div></div></div></div></div></div></div></div></div>"
      ],
      "text/plain": [
       "GridSearchCV(cv=3, estimator=MultinomialNB(), n_jobs=-1,\n",
       "             param_grid={'alpha': [1e-05, 0.0001, 0.001, 0.1, 1, 10, 100]},\n",
       "             scoring='f1_micro', verbose=3)"
      ]
     },
     "execution_count": 38,
     "metadata": {},
     "output_type": "execute_result"
    }
   ],
   "source": [
    "%%time\n",
    "\n",
    "parameters = {'alpha': [0.00001, 0.0001, 0.001, 0.1, 1, 10, 100]}\n",
    "\n",
    "mnb = MultinomialNB()\n",
    "gsmnb = GridSearchCV(mnb, parameters, verbose=3, cv=3, scoring='f1_micro', n_jobs=-1)\n",
    "gsmnb.fit(x_train_tfidf, y_train)"
   ]
  },
  {
   "cell_type": "code",
   "execution_count": 37,
   "id": "a81209bb-e124-4cd9-bbd3-04087218da16",
   "metadata": {},
   "outputs": [
    {
     "name": "stdout",
     "output_type": "stream",
     "text": [
      "{'alpha': 0.001}\n"
     ]
    }
   ],
   "source": [
    "print(gsmnb.best_params_)"
   ]
  },
  {
   "cell_type": "code",
   "execution_count": 35,
   "id": "50071e17-c1e1-4ec2-8f21-54aa1b14c4f5",
   "metadata": {},
   "outputs": [
    {
     "name": "stdout",
     "output_type": "stream",
     "text": [
      "accuracy 0.44025266573945293\n",
      "f1-score (macro) 0.2053206078614365\n",
      "f1-score (micro) 0.44025266573945293\n",
      "f1-score (weighted) 0.42061951692454164\n"
     ]
    }
   ],
   "source": [
    "bestMNB = gsmnb.best_estimator_\n",
    "bestMNB.fit(x_train_tfidf, y_train)\n",
    "y_pred6 = bestMNB.predict(x_val_tfidf)\n",
    "print('accuracy %s' % accuracy_score(y_val, y_pred6))\n",
    "print('f1-score (macro) %s' % f1_score(y_val, y_pred6, average='macro'))\n",
    "print('f1-score (micro) %s' % f1_score(y_val, y_pred6, average='micro'))\n",
    "print('f1-score (weighted) %s' % f1_score(y_val, y_pred6, average='weighted'))"
   ]
  },
  {
   "cell_type": "code",
   "execution_count": 39,
   "id": "f2b2c532-90e8-4849-9652-bbf1b5147b33",
   "metadata": {},
   "outputs": [],
   "source": [
    "pickle.dump(bestMNB, open('MultinomialNB.pkl', 'wb'))"
   ]
  },
  {
   "cell_type": "markdown",
   "id": "10ca6f10-9a48-40ad-8497-49e8dc7a6fa8",
   "metadata": {},
   "source": [
    "**Вывод:** \n",
    "\n",
    "Очень быстро, но метрики ниже чем у логрега и метода опорных векторов: `F1-macro=0.22`, `F1-weighted=0.42`, `accuracy=0.44`."
   ]
  },
  {
   "cell_type": "markdown",
   "id": "7a00ba69-d7f1-4039-a371-ef19637adb9f",
   "metadata": {},
   "source": [
    "## Multiclass-multioutput classification: OneVsRestClassifier(LogisticRegression())"
   ]
  },
  {
   "cell_type": "markdown",
   "id": "5f62b9b6-c99f-45da-bee2-af2bc7eb8a1c",
   "metadata": {},
   "source": [
    "Перейдем к классификации хабов с несколькими выходами (`Multiclass-multioutput classification`). До этого мы выделяли из списка хабов только один (первый), теперь оставим все и попробуем предсказывать их.\n",
    "\n",
    "Подготовим хабы к класификации:\n"
   ]
  },
  {
   "cell_type": "code",
   "execution_count": 30,
   "id": "b1369a18-290b-44b0-8bf7-c244d844d48d",
   "metadata": {},
   "outputs": [],
   "source": [
    "y_train = df_train.hubs\n",
    "y_val = df_val.hubs\n",
    "y_test = df_test.hubs"
   ]
  },
  {
   "cell_type": "code",
   "execution_count": 34,
   "id": "7d65b282-0f36-4da1-a4e4-5e5deeb69fca",
   "metadata": {},
   "outputs": [],
   "source": [
    "mlb = MultiLabelBinarizer(classes=sorted(hubs_count.keys()))\n",
    "\n",
    "y_train = mlb.fit_transform(y_train)\n",
    "y_val = mlb.fit_transform(y_val)"
   ]
  },
  {
   "cell_type": "code",
   "execution_count": 36,
   "id": "47d9951e-c126-4f95-868a-0ef1372f981e",
   "metadata": {},
   "outputs": [],
   "source": [
    "'''with open('data/MultiLabelBinarizer.pkl', 'wb') as file:\n",
    "    pickle.dump(mlb, file)'''\n",
    "with open('data/MultiLabelBinarizer.pkl', 'rb') as file:\n",
    "    mlb = pickle.load(file)"
   ]
  },
  {
   "cell_type": "markdown",
   "id": "504ca6dd-2952-4477-b600-564cae67e817",
   "metadata": {},
   "source": [
    "Обучим дефолтную модель:"
   ]
  },
  {
   "cell_type": "code",
   "execution_count": 62,
   "id": "07840ec1-b954-412f-ab52-fddf93c70dc3",
   "metadata": {},
   "outputs": [
    {
     "name": "stderr",
     "output_type": "stream",
     "text": [
      "/usr/local/lib/python3.11/site-packages/sklearn/linear_model/_logistic.py:460: ConvergenceWarning: lbfgs failed to converge (status=1):\n",
      "STOP: TOTAL NO. of ITERATIONS REACHED LIMIT.\n",
      "\n",
      "Increase the number of iterations (max_iter) or scale the data as shown in:\n",
      "    https://scikit-learn.org/stable/modules/preprocessing.html\n",
      "Please also refer to the documentation for alternative solver options:\n",
      "    https://scikit-learn.org/stable/modules/linear_model.html#logistic-regression\n",
      "  n_iter_i = _check_optimize_result(\n",
      "/usr/local/lib/python3.11/site-packages/sklearn/linear_model/_logistic.py:460: ConvergenceWarning: lbfgs failed to converge (status=1):\n",
      "STOP: TOTAL NO. of ITERATIONS REACHED LIMIT.\n",
      "\n",
      "Increase the number of iterations (max_iter) or scale the data as shown in:\n",
      "    https://scikit-learn.org/stable/modules/preprocessing.html\n",
      "Please also refer to the documentation for alternative solver options:\n",
      "    https://scikit-learn.org/stable/modules/linear_model.html#logistic-regression\n",
      "  n_iter_i = _check_optimize_result(\n",
      "/usr/local/lib/python3.11/site-packages/sklearn/linear_model/_logistic.py:460: ConvergenceWarning: lbfgs failed to converge (status=1):\n",
      "STOP: TOTAL NO. of ITERATIONS REACHED LIMIT.\n",
      "\n",
      "Increase the number of iterations (max_iter) or scale the data as shown in:\n",
      "    https://scikit-learn.org/stable/modules/preprocessing.html\n",
      "Please also refer to the documentation for alternative solver options:\n",
      "    https://scikit-learn.org/stable/modules/linear_model.html#logistic-regression\n",
      "  n_iter_i = _check_optimize_result(\n"
     ]
    },
    {
     "name": "stdout",
     "output_type": "stream",
     "text": [
      "CPU times: user 42min 35s, sys: 6min 55s, total: 49min 31s\n",
      "Wall time: 25min 58s\n"
     ]
    },
    {
     "data": {
      "text/html": [
       "<style>#sk-container-id-3 {color: black;}#sk-container-id-3 pre{padding: 0;}#sk-container-id-3 div.sk-toggleable {background-color: white;}#sk-container-id-3 label.sk-toggleable__label {cursor: pointer;display: block;width: 100%;margin-bottom: 0;padding: 0.3em;box-sizing: border-box;text-align: center;}#sk-container-id-3 label.sk-toggleable__label-arrow:before {content: \"▸\";float: left;margin-right: 0.25em;color: #696969;}#sk-container-id-3 label.sk-toggleable__label-arrow:hover:before {color: black;}#sk-container-id-3 div.sk-estimator:hover label.sk-toggleable__label-arrow:before {color: black;}#sk-container-id-3 div.sk-toggleable__content {max-height: 0;max-width: 0;overflow: hidden;text-align: left;background-color: #f0f8ff;}#sk-container-id-3 div.sk-toggleable__content pre {margin: 0.2em;color: black;border-radius: 0.25em;background-color: #f0f8ff;}#sk-container-id-3 input.sk-toggleable__control:checked~div.sk-toggleable__content {max-height: 200px;max-width: 100%;overflow: auto;}#sk-container-id-3 input.sk-toggleable__control:checked~label.sk-toggleable__label-arrow:before {content: \"▾\";}#sk-container-id-3 div.sk-estimator input.sk-toggleable__control:checked~label.sk-toggleable__label {background-color: #d4ebff;}#sk-container-id-3 div.sk-label input.sk-toggleable__control:checked~label.sk-toggleable__label {background-color: #d4ebff;}#sk-container-id-3 input.sk-hidden--visually {border: 0;clip: rect(1px 1px 1px 1px);clip: rect(1px, 1px, 1px, 1px);height: 1px;margin: -1px;overflow: hidden;padding: 0;position: absolute;width: 1px;}#sk-container-id-3 div.sk-estimator {font-family: monospace;background-color: #f0f8ff;border: 1px dotted black;border-radius: 0.25em;box-sizing: border-box;margin-bottom: 0.5em;}#sk-container-id-3 div.sk-estimator:hover {background-color: #d4ebff;}#sk-container-id-3 div.sk-parallel-item::after {content: \"\";width: 100%;border-bottom: 1px solid gray;flex-grow: 1;}#sk-container-id-3 div.sk-label:hover label.sk-toggleable__label {background-color: #d4ebff;}#sk-container-id-3 div.sk-serial::before {content: \"\";position: absolute;border-left: 1px solid gray;box-sizing: border-box;top: 0;bottom: 0;left: 50%;z-index: 0;}#sk-container-id-3 div.sk-serial {display: flex;flex-direction: column;align-items: center;background-color: white;padding-right: 0.2em;padding-left: 0.2em;position: relative;}#sk-container-id-3 div.sk-item {position: relative;z-index: 1;}#sk-container-id-3 div.sk-parallel {display: flex;align-items: stretch;justify-content: center;background-color: white;position: relative;}#sk-container-id-3 div.sk-item::before, #sk-container-id-3 div.sk-parallel-item::before {content: \"\";position: absolute;border-left: 1px solid gray;box-sizing: border-box;top: 0;bottom: 0;left: 50%;z-index: -1;}#sk-container-id-3 div.sk-parallel-item {display: flex;flex-direction: column;z-index: 1;position: relative;background-color: white;}#sk-container-id-3 div.sk-parallel-item:first-child::after {align-self: flex-end;width: 50%;}#sk-container-id-3 div.sk-parallel-item:last-child::after {align-self: flex-start;width: 50%;}#sk-container-id-3 div.sk-parallel-item:only-child::after {width: 0;}#sk-container-id-3 div.sk-dashed-wrapped {border: 1px dashed gray;margin: 0 0.4em 0.5em 0.4em;box-sizing: border-box;padding-bottom: 0.4em;background-color: white;}#sk-container-id-3 div.sk-label label {font-family: monospace;font-weight: bold;display: inline-block;line-height: 1.2em;}#sk-container-id-3 div.sk-label-container {text-align: center;}#sk-container-id-3 div.sk-container {/* jupyter's `normalize.less` sets `[hidden] { display: none; }` but bootstrap.min.css set `[hidden] { display: none !important; }` so we also need the `!important` here to be able to override the default hidden behavior on the sphinx rendered scikit-learn.org. See: https://github.com/scikit-learn/scikit-learn/issues/21755 */display: inline-block !important;position: relative;}#sk-container-id-3 div.sk-text-repr-fallback {display: none;}</style><div id=\"sk-container-id-3\" class=\"sk-top-container\"><div class=\"sk-text-repr-fallback\"><pre>OneVsRestClassifier(estimator=LogisticRegression())</pre><b>In a Jupyter environment, please rerun this cell to show the HTML representation or trust the notebook. <br />On GitHub, the HTML representation is unable to render, please try loading this page with nbviewer.org.</b></div><div class=\"sk-container\" hidden><div class=\"sk-item sk-dashed-wrapped\"><div class=\"sk-label-container\"><div class=\"sk-label sk-toggleable\"><input class=\"sk-toggleable__control sk-hidden--visually\" id=\"sk-estimator-id-3\" type=\"checkbox\" ><label for=\"sk-estimator-id-3\" class=\"sk-toggleable__label sk-toggleable__label-arrow\">OneVsRestClassifier</label><div class=\"sk-toggleable__content\"><pre>OneVsRestClassifier(estimator=LogisticRegression())</pre></div></div></div><div class=\"sk-parallel\"><div class=\"sk-parallel-item\"><div class=\"sk-item\"><div class=\"sk-label-container\"><div class=\"sk-label sk-toggleable\"><input class=\"sk-toggleable__control sk-hidden--visually\" id=\"sk-estimator-id-4\" type=\"checkbox\" ><label for=\"sk-estimator-id-4\" class=\"sk-toggleable__label sk-toggleable__label-arrow\">estimator: LogisticRegression</label><div class=\"sk-toggleable__content\"><pre>LogisticRegression()</pre></div></div></div><div class=\"sk-serial\"><div class=\"sk-item\"><div class=\"sk-estimator sk-toggleable\"><input class=\"sk-toggleable__control sk-hidden--visually\" id=\"sk-estimator-id-5\" type=\"checkbox\" ><label for=\"sk-estimator-id-5\" class=\"sk-toggleable__label sk-toggleable__label-arrow\">LogisticRegression</label><div class=\"sk-toggleable__content\"><pre>LogisticRegression()</pre></div></div></div></div></div></div></div></div></div></div>"
      ],
      "text/plain": [
       "OneVsRestClassifier(estimator=LogisticRegression())"
      ]
     },
     "execution_count": 62,
     "metadata": {},
     "output_type": "execute_result"
    }
   ],
   "source": [
    "%%time\n",
    "\n",
    "clf = OneVsRestClassifier(LogisticRegression())\n",
    "clf.fit(x_train_tfidf, y_train)"
   ]
  },
  {
   "cell_type": "code",
   "execution_count": 63,
   "id": "1148f1ac-63ed-4b25-a854-0ec10bb5bb6a",
   "metadata": {},
   "outputs": [],
   "source": [
    "pickle.dump(clf, open('OneVsRestClassifierLogReg.pkl', 'wb'))"
   ]
  },
  {
   "cell_type": "code",
   "execution_count": 70,
   "id": "a24676e3-e58a-4a47-9bbc-39ad89a15e1f",
   "metadata": {},
   "outputs": [
    {
     "name": "stdout",
     "output_type": "stream",
     "text": [
      "accuracy 0.15229485396383866\n",
      "f1-score (macro) 0.19087615121916823\n",
      "f1-score (micro) 0.4161592550002828\n",
      "f1-score (weighted) 0.3851780155112786\n"
     ]
    }
   ],
   "source": [
    "y_pred8 = clf.predict(x_val_tfidf)\n",
    "print('accuracy %s' % accuracy_score(y_val, y_pred8))\n",
    "print('f1-score (macro) %s' % f1_score(y_val, y_pred8, zero_division=0, average='macro'))\n",
    "print('f1-score (micro) %s' % f1_score(y_val, y_pred8, zero_division=0, average='micro'))\n",
    "print('f1-score (weighted) %s' % f1_score(y_val, y_pred8, zero_division=0, average='weighted'))"
   ]
  },
  {
   "cell_type": "markdown",
   "id": "9a2e2a37-df57-45aa-8e08-1b43aa522f8b",
   "metadata": {},
   "source": [
    "Подберем гридсерчем гиперпараметры."
   ]
  },
  {
   "cell_type": "code",
   "execution_count": null,
   "id": "6eaf4bdd-3472-43d2-96ee-d04da30d0864",
   "metadata": {},
   "outputs": [],
   "source": [
    "%%time\n",
    "\n",
    "parameters = {\n",
    "    'C':[0.1, 1, 10],\n",
    "    'penalty'; ['l1','l2'],\n",
    "}\n",
    "\n",
    "svc = clf()\n",
    "gsc = GridSearchCV(svc, parameters, verbose=3, cv=3, scoring='f1_micro', n_jobs=-1)\n",
    "gsc.fit(x_train_tfidf, y_train)"
   ]
  },
  {
   "cell_type": "markdown",
   "id": "6244d62f-74b4-46ae-a687-2c26c2b52c51",
   "metadata": {},
   "source": [
    "Обучим модель с лучшими гиперпараметрами:"
   ]
  },
  {
   "cell_type": "code",
   "execution_count": 73,
   "id": "b6918416-6675-4c52-8f33-287119b4b1c7",
   "metadata": {},
   "outputs": [
    {
     "name": "stdout",
     "output_type": "stream",
     "text": [
      "CPU times: user 1h 33min 37s, sys: 15min 13s, total: 1h 48min 51s\n",
      "Wall time: 55min 39s\n"
     ]
    },
    {
     "data": {
      "text/html": [
       "<style>#sk-container-id-4 {color: black;}#sk-container-id-4 pre{padding: 0;}#sk-container-id-4 div.sk-toggleable {background-color: white;}#sk-container-id-4 label.sk-toggleable__label {cursor: pointer;display: block;width: 100%;margin-bottom: 0;padding: 0.3em;box-sizing: border-box;text-align: center;}#sk-container-id-4 label.sk-toggleable__label-arrow:before {content: \"▸\";float: left;margin-right: 0.25em;color: #696969;}#sk-container-id-4 label.sk-toggleable__label-arrow:hover:before {color: black;}#sk-container-id-4 div.sk-estimator:hover label.sk-toggleable__label-arrow:before {color: black;}#sk-container-id-4 div.sk-toggleable__content {max-height: 0;max-width: 0;overflow: hidden;text-align: left;background-color: #f0f8ff;}#sk-container-id-4 div.sk-toggleable__content pre {margin: 0.2em;color: black;border-radius: 0.25em;background-color: #f0f8ff;}#sk-container-id-4 input.sk-toggleable__control:checked~div.sk-toggleable__content {max-height: 200px;max-width: 100%;overflow: auto;}#sk-container-id-4 input.sk-toggleable__control:checked~label.sk-toggleable__label-arrow:before {content: \"▾\";}#sk-container-id-4 div.sk-estimator input.sk-toggleable__control:checked~label.sk-toggleable__label {background-color: #d4ebff;}#sk-container-id-4 div.sk-label input.sk-toggleable__control:checked~label.sk-toggleable__label {background-color: #d4ebff;}#sk-container-id-4 input.sk-hidden--visually {border: 0;clip: rect(1px 1px 1px 1px);clip: rect(1px, 1px, 1px, 1px);height: 1px;margin: -1px;overflow: hidden;padding: 0;position: absolute;width: 1px;}#sk-container-id-4 div.sk-estimator {font-family: monospace;background-color: #f0f8ff;border: 1px dotted black;border-radius: 0.25em;box-sizing: border-box;margin-bottom: 0.5em;}#sk-container-id-4 div.sk-estimator:hover {background-color: #d4ebff;}#sk-container-id-4 div.sk-parallel-item::after {content: \"\";width: 100%;border-bottom: 1px solid gray;flex-grow: 1;}#sk-container-id-4 div.sk-label:hover label.sk-toggleable__label {background-color: #d4ebff;}#sk-container-id-4 div.sk-serial::before {content: \"\";position: absolute;border-left: 1px solid gray;box-sizing: border-box;top: 0;bottom: 0;left: 50%;z-index: 0;}#sk-container-id-4 div.sk-serial {display: flex;flex-direction: column;align-items: center;background-color: white;padding-right: 0.2em;padding-left: 0.2em;position: relative;}#sk-container-id-4 div.sk-item {position: relative;z-index: 1;}#sk-container-id-4 div.sk-parallel {display: flex;align-items: stretch;justify-content: center;background-color: white;position: relative;}#sk-container-id-4 div.sk-item::before, #sk-container-id-4 div.sk-parallel-item::before {content: \"\";position: absolute;border-left: 1px solid gray;box-sizing: border-box;top: 0;bottom: 0;left: 50%;z-index: -1;}#sk-container-id-4 div.sk-parallel-item {display: flex;flex-direction: column;z-index: 1;position: relative;background-color: white;}#sk-container-id-4 div.sk-parallel-item:first-child::after {align-self: flex-end;width: 50%;}#sk-container-id-4 div.sk-parallel-item:last-child::after {align-self: flex-start;width: 50%;}#sk-container-id-4 div.sk-parallel-item:only-child::after {width: 0;}#sk-container-id-4 div.sk-dashed-wrapped {border: 1px dashed gray;margin: 0 0.4em 0.5em 0.4em;box-sizing: border-box;padding-bottom: 0.4em;background-color: white;}#sk-container-id-4 div.sk-label label {font-family: monospace;font-weight: bold;display: inline-block;line-height: 1.2em;}#sk-container-id-4 div.sk-label-container {text-align: center;}#sk-container-id-4 div.sk-container {/* jupyter's `normalize.less` sets `[hidden] { display: none; }` but bootstrap.min.css set `[hidden] { display: none !important; }` so we also need the `!important` here to be able to override the default hidden behavior on the sphinx rendered scikit-learn.org. See: https://github.com/scikit-learn/scikit-learn/issues/21755 */display: inline-block !important;position: relative;}#sk-container-id-4 div.sk-text-repr-fallback {display: none;}</style><div id=\"sk-container-id-4\" class=\"sk-top-container\"><div class=\"sk-text-repr-fallback\"><pre>OneVsRestClassifier(estimator=LogisticRegression(C=10, max_iter=1000))</pre><b>In a Jupyter environment, please rerun this cell to show the HTML representation or trust the notebook. <br />On GitHub, the HTML representation is unable to render, please try loading this page with nbviewer.org.</b></div><div class=\"sk-container\" hidden><div class=\"sk-item sk-dashed-wrapped\"><div class=\"sk-label-container\"><div class=\"sk-label sk-toggleable\"><input class=\"sk-toggleable__control sk-hidden--visually\" id=\"sk-estimator-id-6\" type=\"checkbox\" ><label for=\"sk-estimator-id-6\" class=\"sk-toggleable__label sk-toggleable__label-arrow\">OneVsRestClassifier</label><div class=\"sk-toggleable__content\"><pre>OneVsRestClassifier(estimator=LogisticRegression(C=10, max_iter=1000))</pre></div></div></div><div class=\"sk-parallel\"><div class=\"sk-parallel-item\"><div class=\"sk-item\"><div class=\"sk-label-container\"><div class=\"sk-label sk-toggleable\"><input class=\"sk-toggleable__control sk-hidden--visually\" id=\"sk-estimator-id-7\" type=\"checkbox\" ><label for=\"sk-estimator-id-7\" class=\"sk-toggleable__label sk-toggleable__label-arrow\">estimator: LogisticRegression</label><div class=\"sk-toggleable__content\"><pre>LogisticRegression(C=10, max_iter=1000)</pre></div></div></div><div class=\"sk-serial\"><div class=\"sk-item\"><div class=\"sk-estimator sk-toggleable\"><input class=\"sk-toggleable__control sk-hidden--visually\" id=\"sk-estimator-id-8\" type=\"checkbox\" ><label for=\"sk-estimator-id-8\" class=\"sk-toggleable__label sk-toggleable__label-arrow\">LogisticRegression</label><div class=\"sk-toggleable__content\"><pre>LogisticRegression(C=10, max_iter=1000)</pre></div></div></div></div></div></div></div></div></div></div>"
      ],
      "text/plain": [
       "OneVsRestClassifier(estimator=LogisticRegression(C=10, max_iter=1000))"
      ]
     },
     "execution_count": 73,
     "metadata": {},
     "output_type": "execute_result"
    }
   ],
   "source": [
    "%%time\n",
    "\n",
    "clf1 = OneVsRestClassifier(LogisticRegression(penalty='l2',C=10, max_iter=1000))\n",
    "clf1.fit(x_train_tfidf, y_train)"
   ]
  },
  {
   "cell_type": "code",
   "execution_count": 74,
   "id": "8ac18fa2-c268-4852-a6ac-c4999cd2b49b",
   "metadata": {},
   "outputs": [],
   "source": [
    "pickle.dump(clf1, open('OneVsRestClassifierLogReg_l2_C10.pkl', 'wb'))"
   ]
  },
  {
   "cell_type": "code",
   "execution_count": 75,
   "id": "2fcd837e-9a45-42b8-973f-0c3af647d6bf",
   "metadata": {},
   "outputs": [
    {
     "name": "stdout",
     "output_type": "stream",
     "text": [
      "accuracy 0.1898470097357441\n",
      "f1-score (macro) 0.3405405933182099\n",
      "f1-score (micro) 0.5025125628140703\n",
      "f1-score (weighted) 0.4822929189164698\n"
     ]
    }
   ],
   "source": [
    "y_pred9 = clf1.predict(x_val_tfidf)\n",
    "print('accuracy %s' % accuracy_score(y_val, y_pred9))\n",
    "print('f1-score (macro) %s' % f1_score(y_val, y_pred9, zero_division=0, average='macro'))\n",
    "print('f1-score (micro) %s' % f1_score(y_val, y_pred9, zero_division=0, average='micro'))\n",
    "print('f1-score (weighted) %s' % f1_score(y_val, y_pred9, zero_division=0, average='weighted'))"
   ]
  },
  {
   "cell_type": "markdown",
   "id": "31261c4b-2d4b-4201-9152-84e555e13e70",
   "metadata": {},
   "source": [
    "У данной модели сильно упала точноть: `accuracy=0.19` (в прошлых экспериментах доходила до `accuracy=0.50`)"
   ]
  },
  {
   "cell_type": "code",
   "execution_count": 12,
   "id": "8b98e971-5f0e-462a-8b06-c1731fe09120",
   "metadata": {},
   "outputs": [],
   "source": [
    "with open('OneVsRestClassifierLogReg_l2_C10.pkl', 'rb') as f:\n",
    "    clf1 = pickle.load(f)"
   ]
  },
  {
   "cell_type": "markdown",
   "id": "f3024126-1cf4-4e23-994a-7898a2af1ba8",
   "metadata": {},
   "source": [
    "Посмотрим как предсказываются хабы на одном конкретном тексте."
   ]
  },
  {
   "cell_type": "code",
   "execution_count": 18,
   "id": "49ab971c-6c91-4e25-b05e-afec541f6395",
   "metadata": {},
   "outputs": [
    {
     "data": {
      "text/plain": [
       "'спрашивать прожженный системный администратор использовать realtime конфигурация asterisk вероятность ответ отрицательный качество обоснование скоро услышать недоступность источник данные телефония становиться неработоспособный интересно узнавать обходить это ограничение читать далеко тяжелый неказистый жизнь простой программист предупреждение осторожность использование описывать решение данный модификация коробка позволять использовать backend основа curl использование backend требоваться сделать соответствующий доработка протестировать участок код который использоваться наш конфигурация часть изменение сделать прицел будущее полноценный проверяться использование production окружение рекомендоваться выполнять тестирование отладочный сборка включать мониторинг утечка ресурс например valgrind постановка задача алгоритм обработка вызов data abbr диалплан диалплан модифицироваться достаточно редко делать получение информация внешний источник данные мера необходимость реальный время data abbr realtime realtime особый смысл данный статья термин обозначаться sip subscribers вместе возможный аттрибут data abbr параметр абонент параметр абонент изменяться активно это подходящий решение случай недоступность источник данные работоспособность телефония должный сохраняться минимум уровень предшествовать аварийный ситуация изменение конфигурация должный применяться сервер минимально возможный промежуток время сервер asterisk должный создавать чрезмерный нагрузка источник данные ozon клиентский балансировка источник данные разный цод являться зона ответственность отдельный команда поэтому потребитель видимый являться общий точка вход который мочь доступный доступный хотя цод недоступный решение должно добавлять новый потенциальный точка отказ исследовать инструмент посмотреть asterisk коробка sorcery позволять хранить конфигурационный данные угодно использовать доступ соответствующий backend указывать несколько источник число разный тип телефония отказывать полный недоступность несколько территориально распределять цод ситуация маловероятный бутерброд падать масло вниз также коробка предоставляться модуль кэширование причем достаточно интересный каждый тип данные указывать полный время жизнь expire течение который сохраняться кеш время потенциальный устаревание stale либо подсистема asterisk требоваться получать конкретный элемент sorcery сначала проверять кеш находить период stale истекать данные возвращаться кеш это обращение backend происходить период stale истекать данные таки возвращаться кеш это запускаться фоновый процесс обновление создавать конфигурация несколько сервер asterisk как-то идентифицировать provision сервис указывать каждый сервер уникальный идентификатор asterisk conf options entityid entity описывать источник данные extconfig conf settings endpoints curl http provision asterisk entityid endpoint auths curl http provision asterisk entityid auth aors curl http provision asterisk entityid aor применение качество поставщик параметр абонент учет применение кеширование sorcery conf res pjsip endpoint cache memory cache expire reload yes object lifetime maximum object lifetime stale endpoint realtime endpoints auth cache memory cache expire reload yes object lifetime maximum object lifetime stale auth realtime auths aor cache memory cache expire reload yes object lifetime maximum object lifetime stale aor realtime aors помимо realtime необходимо добавлять статический конфигурация добавлять sorcery conf параметр следующий вид aor config pjsip conf criteria type aor endpoint config pjsip conf criteria type endpoint auth config pjsip conf criteria type auth место добавление зависеть приоритет хотеть использовать требоваться случай нахождение информация текстовый конфигурационный файл обращение realtime backend производиться строка следовать располагать высоко строка тип realtime обращение realtime должно происходить любой случай отсутствие оно запрашивать данные информация должный браться текстовый конфигурационный файл строка добавляться соответствующий строка тип realtime описывать параметр поставщик данные curl res curl conf globals conntimeout dnstimeout httptimeout followlocation true httpheader content type application www form urlencoded httpheader app name asterisk server httpheader app version последний параметр указывать необязательно просто принимать потребитель представляться обращаться сервис поставщик запрос сервис поставщик данные отправляться помощь http метод post конкретный url зависеть тип запрос запрос одиночный элемент тип endpoint явно указанный идентификатор http provision asterisk endpoint single запрос множество элемент тип endpoint это параметр использоваться качество фильтр http provision asterisk endpoint multi что-нибудь мочь пойти оно пойти закон мерфи запускать сервис поставщик данный запускать asterisk пытаться зарегистрировать абонент ура получаться останавливать сервис конфигурация абонент мгновенно исчезать кеш это непорядок ладно получаться решать проблема штатный средство приходиться немного поработать рука определение причина поведение ставить точка останов функция backend который обрабатываться ошибка источник данные начинать обратный трассировка прохождение возврат уровень вложенность бинго классический ошибка дизайн sorcery предусматривать обработка ошибка backend данные ожидаться вариант элемент находить возвращать значение null элемент находить возвращать значение null ситуация элемент находить причина отсутствие источник данные элемент находить причина ошибка источник данные sorcery неотличимый следствие остановка сервис весь элемент удаляться отсутствующий весь источник данный посмотреть реализация sorcery начинать версия asterisk заканчивать последний доступный данный момент ничто изменяться обработка ошибка добавлять никто собираться ладно сказать суровый сибирский мужик это упрощать дальнейший жизнь сделать начинать модуль func curl использовать backend res config curl забывать возврат статус ошибка случай таймаут соединение ошибка dns сетевой проблема исправлять идти далеко res config curl запрос выполняться вид вычисление строка который включать функция диалплан curl идея хороший позволять задавать часть url вид параметр реализация потенциальный ошибка игнорироваться исправлять относительно безопасный способ изменять тип данные void int использование место повлиять должно самый веселый исправлять дизайн sorcery оставлять обратный совместимость это вводить аналог функция читать значение backend возможность получать также код ошибка просто статус элемент хранилище отсутствовать поскольку статус сделать необязательный старый вариант вызов реализовывать новый добавлять параметр null качество адрес получение ошибка последний вносить исправление модуль res sorcery memory cache добавлять проверка ошибка backend обновление элемент истечение интервал stale оставаться сделать метрика backend модуль res prometheus знать наш инженер хотеться наблюдать работа весь модуль res prometheus появляться asterisk относительно недавно видимо поэтому обеспечивать базовый функционал частность весь экспортировать динамический метрика формироваться snapshot ама существовать ядро asterisk цель качество альфа сходить хотеться сделать универсальный встраивать поставщик метрика непосредственно модуль который метрика производить asterisk иметься это специальный механизм название optional api применять очень просто вместо обычный сигнатура функция файл использовать макрос ast optional api имплементировать модуль определять символ ast api module функция объявлять помощь макрос ast optional api name работать это вызываться api поставлять модуль это модуль загружать возвращаться код ошибка ast optional api unavailable модуль загружать выполняться имплементировать функция следовать учитывать вызов api модуль asterisk возможный завершение функция load module имплементировать модуль вызов это мочь критично вызов изменять глобальный состояние модуль стоить предусматривать защита модуль res prometheus загружать значение метрика экспортироваться http модуль загружать инициализация завершать метрика собираться модуль который относиться становиться красиво конфигурационный backend иметь доступ источник данные работать реальный время источник данные причина недоступный сетевой проблема неработоспособный возвращать время жизнь элемент кеш автоматически продлеваться значение параметр stale стоить отмечать стиль вносить изменение намеренно сделать аналогичный написать оригинальный модуль маловероятный данный патч обозримый будущее попадать mainline черт шутить почему мантайнер очень любить стиль резко отличаться общий стиль модуль система целое справочный информация sorcery sorcery caching curl configuration backend optional api патч asterisk'"
      ]
     },
     "execution_count": 18,
     "metadata": {},
     "output_type": "execute_result"
    }
   ],
   "source": [
    "df_test.lemmatized_text.iloc[10]"
   ]
  },
  {
   "cell_type": "markdown",
   "id": "ad15f482-726f-4f95-b075-b3f78cb3a347",
   "metadata": {},
   "source": [
    "Реальные хабы этой статьи:"
   ]
  },
  {
   "cell_type": "code",
   "execution_count": 25,
   "id": "5f3dba2f-3bd5-46b6-8d5c-24fda61402d9",
   "metadata": {},
   "outputs": [
    {
     "data": {
      "text/plain": [
       "['hi', 'asterisk', 'c']"
      ]
     },
     "execution_count": 25,
     "metadata": {},
     "output_type": "execute_result"
    }
   ],
   "source": [
    "df_test.hubs.iloc[10]"
   ]
  },
  {
   "cell_type": "markdown",
   "id": "9f96f46b-4db8-4fc3-a867-a0b6715e200a",
   "metadata": {},
   "source": [
    "В векторизованном виде:"
   ]
  },
  {
   "cell_type": "code",
   "execution_count": 37,
   "id": "7b42a2fb-4a5c-401c-8ea6-3fa6f8272735",
   "metadata": {},
   "outputs": [
    {
     "data": {
      "text/plain": [
       "array([[0, 0, 0, 0, 0, 0, 0, 0, 0, 0, 0, 0, 0, 0, 0, 0, 0, 0, 0, 0, 0, 0,\n",
       "        0, 0, 1, 0, 0, 0, 0, 0, 0, 0, 0, 0, 0, 1, 0, 0, 0, 0, 0, 0, 0, 0,\n",
       "        0, 0, 0, 0, 0, 0, 0, 0, 0, 0, 0, 0, 0, 0, 0, 0, 0, 0, 0, 0, 0, 0,\n",
       "        0, 0, 0, 0, 0, 0, 0, 0, 0, 0, 0, 0, 0, 0, 0, 0, 0, 0, 0, 0, 0, 0,\n",
       "        0, 0, 0, 0, 0, 0, 0, 0, 0, 0, 0, 0, 0, 0, 0, 0, 0, 0, 0, 0, 0, 0,\n",
       "        0, 0, 0, 0, 0, 0, 0, 0, 0, 0, 0, 0, 0, 0, 0, 0, 0, 0, 0, 0, 0, 0,\n",
       "        0, 0, 0, 0, 0, 0, 0, 0, 0, 1, 0, 0, 0, 0, 0, 0, 0, 0, 0, 0, 0, 0,\n",
       "        0, 0, 0, 0, 0, 0, 0, 0, 0, 0, 0, 0, 0, 0, 0, 0, 0, 0, 0, 0, 0, 0,\n",
       "        0, 0, 0, 0, 0, 0, 0, 0, 0, 0, 0, 0, 0, 0, 0, 0, 0, 0, 0, 0, 0, 0,\n",
       "        0, 0, 0, 0, 0, 0, 0, 0, 0, 0, 0, 0, 0, 0, 0, 0, 0, 0, 0, 0, 0, 0,\n",
       "        0, 0, 0, 0, 0, 0, 0, 0, 0, 0, 0, 0, 0, 0, 0, 0, 0, 0, 0, 0, 0, 0,\n",
       "        0, 0, 0, 0, 0, 0, 0, 0, 0, 0, 0, 0, 0, 0, 0, 0, 0, 0, 0, 0, 0, 0,\n",
       "        0, 0, 0, 0, 0, 0, 0, 0, 0, 0, 0, 0, 0, 0, 0, 0, 0, 0, 0, 0, 0, 0,\n",
       "        0, 0, 0, 0, 0, 0, 0, 0, 0, 0, 0, 0, 0, 0, 0, 0, 0, 0, 0, 0, 0, 0,\n",
       "        0, 0, 0, 0, 0, 0, 0, 0, 0, 0, 0, 0, 0]])"
      ]
     },
     "execution_count": 37,
     "metadata": {},
     "output_type": "execute_result"
    }
   ],
   "source": [
    "mlb.fit_transform([df_test.hubs.iloc[10]])"
   ]
  },
  {
   "cell_type": "code",
   "execution_count": 23,
   "id": "1f558331-b5b8-4b8b-b478-9e1f05e432db",
   "metadata": {},
   "outputs": [],
   "source": [
    "test_predicting = tfidfvectorizer.transform([df_test.lemmatized_text.iloc[10]])"
   ]
  },
  {
   "cell_type": "markdown",
   "id": "5b155bc2-afa8-49b0-a301-2a2b5b9568eb",
   "metadata": {},
   "source": [
    "Вектор предсказаний хабов:"
   ]
  },
  {
   "cell_type": "code",
   "execution_count": 24,
   "id": "c410d98c-4e16-4017-88e8-22db522ac6cb",
   "metadata": {},
   "outputs": [
    {
     "data": {
      "text/plain": [
       "array([[0, 0, 0, 0, 0, 0, 0, 0, 0, 0, 0, 0, 0, 0, 0, 0, 0, 0, 0, 0, 0, 0,\n",
       "        0, 0, 0, 0, 0, 0, 0, 0, 0, 0, 0, 0, 0, 0, 0, 0, 0, 0, 0, 0, 0, 0,\n",
       "        0, 0, 0, 0, 0, 0, 0, 0, 0, 0, 0, 0, 0, 0, 0, 0, 0, 0, 0, 0, 0, 0,\n",
       "        0, 0, 0, 0, 0, 0, 0, 0, 0, 0, 0, 0, 0, 0, 0, 0, 0, 0, 0, 0, 0, 0,\n",
       "        0, 0, 0, 0, 0, 0, 0, 0, 0, 0, 0, 0, 0, 0, 0, 0, 0, 0, 0, 0, 0, 0,\n",
       "        0, 0, 0, 0, 0, 0, 0, 0, 0, 0, 0, 0, 0, 0, 0, 0, 0, 0, 0, 0, 0, 0,\n",
       "        0, 0, 0, 0, 0, 0, 0, 0, 0, 0, 0, 0, 0, 0, 0, 0, 0, 0, 0, 0, 0, 0,\n",
       "        0, 0, 0, 0, 0, 0, 0, 0, 0, 0, 0, 0, 0, 0, 0, 0, 0, 0, 0, 0, 0, 0,\n",
       "        0, 0, 0, 0, 0, 0, 0, 0, 0, 0, 0, 0, 0, 0, 0, 0, 0, 0, 0, 0, 0, 0,\n",
       "        0, 0, 0, 0, 0, 0, 0, 0, 0, 0, 0, 0, 0, 0, 0, 0, 0, 0, 0, 0, 0, 0,\n",
       "        0, 0, 0, 0, 0, 0, 0, 0, 0, 0, 0, 0, 0, 0, 0, 0, 0, 0, 0, 0, 0, 0,\n",
       "        0, 0, 0, 0, 0, 0, 0, 0, 0, 0, 0, 0, 0, 0, 0, 0, 0, 0, 0, 0, 0, 0,\n",
       "        0, 0, 0, 0, 0, 0, 0, 0, 0, 0, 0, 0, 0, 0, 0, 0, 0, 0, 0, 0, 0, 0,\n",
       "        0, 0, 0, 0, 0, 0, 0, 0, 0, 0, 0, 0, 0, 0, 0, 0, 0, 0, 0, 0, 0, 0,\n",
       "        0, 0, 0, 0, 0, 0, 0, 0, 0, 0, 0, 0, 0]])"
      ]
     },
     "execution_count": 24,
     "metadata": {},
     "output_type": "execute_result"
    }
   ],
   "source": [
    "clf1.predict(test_predicting)"
   ]
  },
  {
   "cell_type": "markdown",
   "id": "0cff0ed9-506e-4bc9-b9a7-5c62bcebd6de",
   "metadata": {},
   "source": [
    "Модель не предсказала ни один из трех хабов. Кажется, что сейчас лучше сосредоточиться на предыдущей идее - обучаться только на одном самом важном хабе и предсказывать один хаб, а не сочетание нескольких."
   ]
  },
  {
   "cell_type": "markdown",
   "id": "b564ed91-2175-4f21-a9c5-e72490762b25",
   "metadata": {},
   "source": [
    "### TF-IDF (новые параметры)"
   ]
  },
  {
   "cell_type": "markdown",
   "id": "2af8ab1a-5d84-405b-8ef5-cc30927431e5",
   "metadata": {},
   "source": [
    "Ранее при `tf-idf` векторизации был установлен параметр min_df=20 (так как при меньшем значении падало ядро), то есть мы игнорировали слова, которые встречаются меньше двадцати раз. Попрбуем снизить min_df до 12. При этом уберем слова, которые встречаются практически в каждом тексте (например, max_df=0.95)."
   ]
  },
  {
   "cell_type": "code",
   "execution_count": 58,
   "id": "8aa93967-a880-4108-9417-f1154aa3ecb1",
   "metadata": {},
   "outputs": [
    {
     "name": "stdout",
     "output_type": "stream",
     "text": [
      "CPU times: user 1min 33s, sys: 5.03 s, total: 1min 38s\n",
      "Wall time: 1min 43s\n"
     ]
    }
   ],
   "source": [
    "%%time\n",
    "STOPWORDS = nltk.corpus.stopwords.words(\"russian\")\n",
    "tfidfvectorizer = TfidfVectorizer(analyzer='word', min_df=12, max_df=0.95, stop_words=STOPWORDS)\n",
    "x_train_tfidf = tfidfvectorizer.fit_transform(df_train['lemmatized_text'].values)\n",
    "x_val_tfidf = tfidfvectorizer.transform(df_val['lemmatized_text'].values)\n",
    "x_test_tfidf = tfidfvectorizer.transform(df_test['lemmatized_text'].values)"
   ]
  },
  {
   "cell_type": "code",
   "execution_count": 59,
   "id": "2ddd4eff-0012-4d04-8fd6-fb26bd52f0aa",
   "metadata": {},
   "outputs": [],
   "source": [
    "'''with open('data/tfidfvectorizer_updated.pkl', 'wb') as file:\n",
    "    pickle.dump(tfidfvectorizer, file)'''"
   ]
  },
  {
   "cell_type": "code",
   "execution_count": 6,
   "id": "5b5e2dd5-f543-440b-8f1c-bc5a760b6b5a",
   "metadata": {},
   "outputs": [],
   "source": [
    "with open('data/tfidfvectorizer_updated.pkl', 'rb') as f:\n",
    "    tfidfvectorizer = pickle.load(f)"
   ]
  },
  {
   "cell_type": "code",
   "execution_count": 7,
   "id": "da25edd4-a148-4f3b-bf4d-d6d8fd79726d",
   "metadata": {},
   "outputs": [],
   "source": [
    "#x_train_tfidf = tfidfvectorizer.fit_transform(df_train['lemmatized_text'].values)\n",
    "x_train_tfidf = tfidfvectorizer.transform(df_train['lemmatized_text'].values)\n",
    "x_val_tfidf = tfidfvectorizer.transform(df_val['lemmatized_text'].values)\n",
    "x_test_tfidf = tfidfvectorizer.transform(df_test['lemmatized_text'].values)"
   ]
  },
  {
   "cell_type": "code",
   "execution_count": 10,
   "id": "c47bdfeb-680e-4520-a7f8-509e83b13ef3",
   "metadata": {},
   "outputs": [
    {
     "name": "stdout",
     "output_type": "stream",
     "text": [
      "Длина нового вектора слов: 67809 (Длина предыдущего вектора: 50606)\n"
     ]
    }
   ],
   "source": [
    "len_vec = x_train_tfidf.shape[1]\n",
    "print(f'Длина нового вектора слов: {len_vec} (Длина предыдущего вектора: 50606)')"
   ]
  },
  {
   "cell_type": "markdown",
   "id": "f15cd43c-c5fe-4648-a2ca-2ee174393a1c",
   "metadata": {},
   "source": [
    "Лучшие метрики в прошлый раз получились у `логистической регрессии` и `метода опорных векторов с линейным ядром`. Запустим гридсерч для текстов, векторизированных tf-idf с новыми параметрами. Затем сравним изменились ли метрики."
   ]
  },
  {
   "cell_type": "markdown",
   "id": "e0199077-6a14-42fb-a289-85496df78b6c",
   "metadata": {},
   "source": [
    "### Support Vector Machine¶"
   ]
  },
  {
   "cell_type": "code",
   "execution_count": 61,
   "id": "91b64aa5-f6d2-46f2-97ab-32477bb23f57",
   "metadata": {},
   "outputs": [
    {
     "name": "stdout",
     "output_type": "stream",
     "text": [
      "Fitting 3 folds for each of 4 candidates, totalling 12 fits\n"
     ]
    },
    {
     "name": "stderr",
     "output_type": "stream",
     "text": [
      "/usr/local/lib/python3.11/site-packages/sklearn/svm/_classes.py:32: FutureWarning: The default value of `dual` will change from `True` to `'auto'` in 1.5. Set the value of `dual` explicitly to suppress the warning.\n",
      "  warnings.warn(\n",
      "/usr/local/lib/python3.11/site-packages/sklearn/svm/_classes.py:32: FutureWarning: The default value of `dual` will change from `True` to `'auto'` in 1.5. Set the value of `dual` explicitly to suppress the warning.\n",
      "  warnings.warn(\n",
      "/usr/local/lib/python3.11/site-packages/sklearn/svm/_classes.py:32: FutureWarning: The default value of `dual` will change from `True` to `'auto'` in 1.5. Set the value of `dual` explicitly to suppress the warning.\n",
      "  warnings.warn(\n",
      "/usr/local/lib/python3.11/site-packages/sklearn/svm/_classes.py:32: FutureWarning: The default value of `dual` will change from `True` to `'auto'` in 1.5. Set the value of `dual` explicitly to suppress the warning.\n",
      "  warnings.warn(\n",
      "/usr/local/lib/python3.11/site-packages/sklearn/svm/_classes.py:32: FutureWarning: The default value of `dual` will change from `True` to `'auto'` in 1.5. Set the value of `dual` explicitly to suppress the warning.\n",
      "  warnings.warn(\n",
      "/usr/local/lib/python3.11/site-packages/sklearn/svm/_classes.py:32: FutureWarning: The default value of `dual` will change from `True` to `'auto'` in 1.5. Set the value of `dual` explicitly to suppress the warning.\n",
      "  warnings.warn(\n",
      "/usr/local/lib/python3.11/site-packages/sklearn/svm/_classes.py:32: FutureWarning: The default value of `dual` will change from `True` to `'auto'` in 1.5. Set the value of `dual` explicitly to suppress the warning.\n",
      "  warnings.warn(\n",
      "/usr/local/lib/python3.11/site-packages/sklearn/svm/_classes.py:32: FutureWarning: The default value of `dual` will change from `True` to `'auto'` in 1.5. Set the value of `dual` explicitly to suppress the warning.\n",
      "  warnings.warn(\n",
      "/usr/local/lib/python3.11/site-packages/sklearn/svm/_classes.py:32: FutureWarning: The default value of `dual` will change from `True` to `'auto'` in 1.5. Set the value of `dual` explicitly to suppress the warning.\n",
      "  warnings.warn(\n",
      "/usr/local/lib/python3.11/site-packages/sklearn/svm/_classes.py:32: FutureWarning: The default value of `dual` will change from `True` to `'auto'` in 1.5. Set the value of `dual` explicitly to suppress the warning.\n",
      "  warnings.warn(\n",
      "/usr/local/lib/python3.11/site-packages/sklearn/svm/_classes.py:32: FutureWarning: The default value of `dual` will change from `True` to `'auto'` in 1.5. Set the value of `dual` explicitly to suppress the warning.\n",
      "  warnings.warn(\n",
      "/usr/local/lib/python3.11/site-packages/sklearn/svm/_classes.py:32: FutureWarning: The default value of `dual` will change from `True` to `'auto'` in 1.5. Set the value of `dual` explicitly to suppress the warning.\n",
      "  warnings.warn(\n"
     ]
    },
    {
     "name": "stdout",
     "output_type": "stream",
     "text": [
      "[CV 1/3] END ............C=0.1, multi_class=ovr;, score=0.454 total time= 5.6min\n",
      "[CV 2/3] END ............C=0.1, multi_class=ovr;, score=0.454 total time= 5.5min\n",
      "[CV 3/3] END ............C=0.5, multi_class=ovr;, score=0.469 total time= 6.9min\n",
      "CPU times: user 3min 55s, sys: 4.4 s, total: 3min 59s\n",
      "Wall time: 23min 20s\n"
     ]
    },
    {
     "data": {
      "text/html": [
       "<style>#sk-container-id-1 {color: black;}#sk-container-id-1 pre{padding: 0;}#sk-container-id-1 div.sk-toggleable {background-color: white;}#sk-container-id-1 label.sk-toggleable__label {cursor: pointer;display: block;width: 100%;margin-bottom: 0;padding: 0.3em;box-sizing: border-box;text-align: center;}#sk-container-id-1 label.sk-toggleable__label-arrow:before {content: \"▸\";float: left;margin-right: 0.25em;color: #696969;}#sk-container-id-1 label.sk-toggleable__label-arrow:hover:before {color: black;}#sk-container-id-1 div.sk-estimator:hover label.sk-toggleable__label-arrow:before {color: black;}#sk-container-id-1 div.sk-toggleable__content {max-height: 0;max-width: 0;overflow: hidden;text-align: left;background-color: #f0f8ff;}#sk-container-id-1 div.sk-toggleable__content pre {margin: 0.2em;color: black;border-radius: 0.25em;background-color: #f0f8ff;}#sk-container-id-1 input.sk-toggleable__control:checked~div.sk-toggleable__content {max-height: 200px;max-width: 100%;overflow: auto;}#sk-container-id-1 input.sk-toggleable__control:checked~label.sk-toggleable__label-arrow:before {content: \"▾\";}#sk-container-id-1 div.sk-estimator input.sk-toggleable__control:checked~label.sk-toggleable__label {background-color: #d4ebff;}#sk-container-id-1 div.sk-label input.sk-toggleable__control:checked~label.sk-toggleable__label {background-color: #d4ebff;}#sk-container-id-1 input.sk-hidden--visually {border: 0;clip: rect(1px 1px 1px 1px);clip: rect(1px, 1px, 1px, 1px);height: 1px;margin: -1px;overflow: hidden;padding: 0;position: absolute;width: 1px;}#sk-container-id-1 div.sk-estimator {font-family: monospace;background-color: #f0f8ff;border: 1px dotted black;border-radius: 0.25em;box-sizing: border-box;margin-bottom: 0.5em;}#sk-container-id-1 div.sk-estimator:hover {background-color: #d4ebff;}#sk-container-id-1 div.sk-parallel-item::after {content: \"\";width: 100%;border-bottom: 1px solid gray;flex-grow: 1;}#sk-container-id-1 div.sk-label:hover label.sk-toggleable__label {background-color: #d4ebff;}#sk-container-id-1 div.sk-serial::before {content: \"\";position: absolute;border-left: 1px solid gray;box-sizing: border-box;top: 0;bottom: 0;left: 50%;z-index: 0;}#sk-container-id-1 div.sk-serial {display: flex;flex-direction: column;align-items: center;background-color: white;padding-right: 0.2em;padding-left: 0.2em;position: relative;}#sk-container-id-1 div.sk-item {position: relative;z-index: 1;}#sk-container-id-1 div.sk-parallel {display: flex;align-items: stretch;justify-content: center;background-color: white;position: relative;}#sk-container-id-1 div.sk-item::before, #sk-container-id-1 div.sk-parallel-item::before {content: \"\";position: absolute;border-left: 1px solid gray;box-sizing: border-box;top: 0;bottom: 0;left: 50%;z-index: -1;}#sk-container-id-1 div.sk-parallel-item {display: flex;flex-direction: column;z-index: 1;position: relative;background-color: white;}#sk-container-id-1 div.sk-parallel-item:first-child::after {align-self: flex-end;width: 50%;}#sk-container-id-1 div.sk-parallel-item:last-child::after {align-self: flex-start;width: 50%;}#sk-container-id-1 div.sk-parallel-item:only-child::after {width: 0;}#sk-container-id-1 div.sk-dashed-wrapped {border: 1px dashed gray;margin: 0 0.4em 0.5em 0.4em;box-sizing: border-box;padding-bottom: 0.4em;background-color: white;}#sk-container-id-1 div.sk-label label {font-family: monospace;font-weight: bold;display: inline-block;line-height: 1.2em;}#sk-container-id-1 div.sk-label-container {text-align: center;}#sk-container-id-1 div.sk-container {/* jupyter's `normalize.less` sets `[hidden] { display: none; }` but bootstrap.min.css set `[hidden] { display: none !important; }` so we also need the `!important` here to be able to override the default hidden behavior on the sphinx rendered scikit-learn.org. See: https://github.com/scikit-learn/scikit-learn/issues/21755 */display: inline-block !important;position: relative;}#sk-container-id-1 div.sk-text-repr-fallback {display: none;}</style><div id=\"sk-container-id-1\" class=\"sk-top-container\"><div class=\"sk-text-repr-fallback\"><pre>GridSearchCV(cv=3, estimator=LinearSVC(max_iter=500, random_state=42),\n",
       "             n_jobs=-1,\n",
       "             param_grid={&#x27;C&#x27;: [0.05, 0.1, 0.5, 1], &#x27;multi_class&#x27;: [&#x27;ovr&#x27;]},\n",
       "             scoring=&#x27;f1_weighted&#x27;, verbose=3)</pre><b>In a Jupyter environment, please rerun this cell to show the HTML representation or trust the notebook. <br />On GitHub, the HTML representation is unable to render, please try loading this page with nbviewer.org.</b></div><div class=\"sk-container\" hidden><div class=\"sk-item sk-dashed-wrapped\"><div class=\"sk-label-container\"><div class=\"sk-label sk-toggleable\"><input class=\"sk-toggleable__control sk-hidden--visually\" id=\"sk-estimator-id-1\" type=\"checkbox\" ><label for=\"sk-estimator-id-1\" class=\"sk-toggleable__label sk-toggleable__label-arrow\">GridSearchCV</label><div class=\"sk-toggleable__content\"><pre>GridSearchCV(cv=3, estimator=LinearSVC(max_iter=500, random_state=42),\n",
       "             n_jobs=-1,\n",
       "             param_grid={&#x27;C&#x27;: [0.05, 0.1, 0.5, 1], &#x27;multi_class&#x27;: [&#x27;ovr&#x27;]},\n",
       "             scoring=&#x27;f1_weighted&#x27;, verbose=3)</pre></div></div></div><div class=\"sk-parallel\"><div class=\"sk-parallel-item\"><div class=\"sk-item\"><div class=\"sk-label-container\"><div class=\"sk-label sk-toggleable\"><input class=\"sk-toggleable__control sk-hidden--visually\" id=\"sk-estimator-id-2\" type=\"checkbox\" ><label for=\"sk-estimator-id-2\" class=\"sk-toggleable__label sk-toggleable__label-arrow\">estimator: LinearSVC</label><div class=\"sk-toggleable__content\"><pre>LinearSVC(max_iter=500, random_state=42)</pre></div></div></div><div class=\"sk-serial\"><div class=\"sk-item\"><div class=\"sk-estimator sk-toggleable\"><input class=\"sk-toggleable__control sk-hidden--visually\" id=\"sk-estimator-id-3\" type=\"checkbox\" ><label for=\"sk-estimator-id-3\" class=\"sk-toggleable__label sk-toggleable__label-arrow\">LinearSVC</label><div class=\"sk-toggleable__content\"><pre>LinearSVC(max_iter=500, random_state=42)</pre></div></div></div></div></div></div></div></div></div></div>"
      ],
      "text/plain": [
       "GridSearchCV(cv=3, estimator=LinearSVC(max_iter=500, random_state=42),\n",
       "             n_jobs=-1,\n",
       "             param_grid={'C': [0.05, 0.1, 0.5, 1], 'multi_class': ['ovr']},\n",
       "             scoring='f1_weighted', verbose=3)"
      ]
     },
     "execution_count": 61,
     "metadata": {},
     "output_type": "execute_result"
    }
   ],
   "source": [
    "%%time\n",
    "\n",
    "parameters = {\n",
    "    'C':[0.05, 0.1, 0.5, 1],\n",
    "    'multi_class': ['ovr'],\n",
    "}\n",
    "\n",
    "svc = LinearSVC(random_state=42, max_iter=500)\n",
    "gsc = GridSearchCV(svc, parameters, verbose=3, cv=3, scoring='f1_weighted', n_jobs=-1)\n",
    "gsc.fit(x_train_tfidf, y_train)"
   ]
  },
  {
   "cell_type": "code",
   "execution_count": 62,
   "id": "70482048-ef11-4395-a410-4f8c1440441c",
   "metadata": {},
   "outputs": [
    {
     "name": "stdout",
     "output_type": "stream",
     "text": [
      "{'C': 0.5, 'multi_class': 'ovr'}\n",
      "[CV 2/3] END ...........C=0.05, multi_class=ovr;, score=0.437 total time= 5.7min\n",
      "[CV 3/3] END ............C=0.1, multi_class=ovr;, score=0.457 total time= 5.6min\n",
      "[CV 1/3] END ..............C=1, multi_class=ovr;, score=0.462 total time= 7.6min\n",
      "[CV 1/3] END ...........C=0.05, multi_class=ovr;, score=0.437 total time= 5.8min\n",
      "[CV 2/3] END ............C=0.5, multi_class=ovr;, score=0.468 total time= 6.2min\n",
      "[CV 2/3] END ..............C=1, multi_class=ovr;, score=0.462 total time= 7.3min\n",
      "[CV 3/3] END ...........C=0.05, multi_class=ovr;, score=0.436 total time= 5.7min\n",
      "[CV 1/3] END ............C=0.5, multi_class=ovr;, score=0.468 total time= 6.3min\n",
      "[CV 3/3] END ..............C=1, multi_class=ovr;, score=0.461 total time= 7.3min\n"
     ]
    },
    {
     "data": {
      "text/html": [
       "<style>#sk-container-id-2 {color: black;}#sk-container-id-2 pre{padding: 0;}#sk-container-id-2 div.sk-toggleable {background-color: white;}#sk-container-id-2 label.sk-toggleable__label {cursor: pointer;display: block;width: 100%;margin-bottom: 0;padding: 0.3em;box-sizing: border-box;text-align: center;}#sk-container-id-2 label.sk-toggleable__label-arrow:before {content: \"▸\";float: left;margin-right: 0.25em;color: #696969;}#sk-container-id-2 label.sk-toggleable__label-arrow:hover:before {color: black;}#sk-container-id-2 div.sk-estimator:hover label.sk-toggleable__label-arrow:before {color: black;}#sk-container-id-2 div.sk-toggleable__content {max-height: 0;max-width: 0;overflow: hidden;text-align: left;background-color: #f0f8ff;}#sk-container-id-2 div.sk-toggleable__content pre {margin: 0.2em;color: black;border-radius: 0.25em;background-color: #f0f8ff;}#sk-container-id-2 input.sk-toggleable__control:checked~div.sk-toggleable__content {max-height: 200px;max-width: 100%;overflow: auto;}#sk-container-id-2 input.sk-toggleable__control:checked~label.sk-toggleable__label-arrow:before {content: \"▾\";}#sk-container-id-2 div.sk-estimator input.sk-toggleable__control:checked~label.sk-toggleable__label {background-color: #d4ebff;}#sk-container-id-2 div.sk-label input.sk-toggleable__control:checked~label.sk-toggleable__label {background-color: #d4ebff;}#sk-container-id-2 input.sk-hidden--visually {border: 0;clip: rect(1px 1px 1px 1px);clip: rect(1px, 1px, 1px, 1px);height: 1px;margin: -1px;overflow: hidden;padding: 0;position: absolute;width: 1px;}#sk-container-id-2 div.sk-estimator {font-family: monospace;background-color: #f0f8ff;border: 1px dotted black;border-radius: 0.25em;box-sizing: border-box;margin-bottom: 0.5em;}#sk-container-id-2 div.sk-estimator:hover {background-color: #d4ebff;}#sk-container-id-2 div.sk-parallel-item::after {content: \"\";width: 100%;border-bottom: 1px solid gray;flex-grow: 1;}#sk-container-id-2 div.sk-label:hover label.sk-toggleable__label {background-color: #d4ebff;}#sk-container-id-2 div.sk-serial::before {content: \"\";position: absolute;border-left: 1px solid gray;box-sizing: border-box;top: 0;bottom: 0;left: 50%;z-index: 0;}#sk-container-id-2 div.sk-serial {display: flex;flex-direction: column;align-items: center;background-color: white;padding-right: 0.2em;padding-left: 0.2em;position: relative;}#sk-container-id-2 div.sk-item {position: relative;z-index: 1;}#sk-container-id-2 div.sk-parallel {display: flex;align-items: stretch;justify-content: center;background-color: white;position: relative;}#sk-container-id-2 div.sk-item::before, #sk-container-id-2 div.sk-parallel-item::before {content: \"\";position: absolute;border-left: 1px solid gray;box-sizing: border-box;top: 0;bottom: 0;left: 50%;z-index: -1;}#sk-container-id-2 div.sk-parallel-item {display: flex;flex-direction: column;z-index: 1;position: relative;background-color: white;}#sk-container-id-2 div.sk-parallel-item:first-child::after {align-self: flex-end;width: 50%;}#sk-container-id-2 div.sk-parallel-item:last-child::after {align-self: flex-start;width: 50%;}#sk-container-id-2 div.sk-parallel-item:only-child::after {width: 0;}#sk-container-id-2 div.sk-dashed-wrapped {border: 1px dashed gray;margin: 0 0.4em 0.5em 0.4em;box-sizing: border-box;padding-bottom: 0.4em;background-color: white;}#sk-container-id-2 div.sk-label label {font-family: monospace;font-weight: bold;display: inline-block;line-height: 1.2em;}#sk-container-id-2 div.sk-label-container {text-align: center;}#sk-container-id-2 div.sk-container {/* jupyter's `normalize.less` sets `[hidden] { display: none; }` but bootstrap.min.css set `[hidden] { display: none !important; }` so we also need the `!important` here to be able to override the default hidden behavior on the sphinx rendered scikit-learn.org. See: https://github.com/scikit-learn/scikit-learn/issues/21755 */display: inline-block !important;position: relative;}#sk-container-id-2 div.sk-text-repr-fallback {display: none;}</style><div id=\"sk-container-id-2\" class=\"sk-top-container\"><div class=\"sk-text-repr-fallback\"><pre>LinearSVC(C=0.5, max_iter=500, random_state=42)</pre><b>In a Jupyter environment, please rerun this cell to show the HTML representation or trust the notebook. <br />On GitHub, the HTML representation is unable to render, please try loading this page with nbviewer.org.</b></div><div class=\"sk-container\" hidden><div class=\"sk-item\"><div class=\"sk-estimator sk-toggleable\"><input class=\"sk-toggleable__control sk-hidden--visually\" id=\"sk-estimator-id-4\" type=\"checkbox\" checked><label for=\"sk-estimator-id-4\" class=\"sk-toggleable__label sk-toggleable__label-arrow\">LinearSVC</label><div class=\"sk-toggleable__content\"><pre>LinearSVC(C=0.5, max_iter=500, random_state=42)</pre></div></div></div></div></div>"
      ],
      "text/plain": [
       "LinearSVC(C=0.5, max_iter=500, random_state=42)"
      ]
     },
     "execution_count": 62,
     "metadata": {},
     "output_type": "execute_result"
    }
   ],
   "source": [
    "print(gsc.best_params_)\n",
    "bestlinearSVC = gsc.best_estimator_\n",
    "bestlinearSVC.fit(x_train_tfidf, y_train)"
   ]
  },
  {
   "cell_type": "code",
   "execution_count": 63,
   "id": "35129c8f-af6b-4c32-b387-0b94f0d9afac",
   "metadata": {},
   "outputs": [],
   "source": [
    "pickle.dump(bestlinearSVC, open('linearSVC_new.pkl', 'wb'))"
   ]
  },
  {
   "cell_type": "code",
   "execution_count": 65,
   "id": "6fd6cfb5-40b7-4bce-8588-edd71b142934",
   "metadata": {},
   "outputs": [
    {
     "name": "stdout",
     "output_type": "stream",
     "text": [
      "accuracy 0.5009851645804357\n",
      "f1-score (macro) 0.24642570750349482\n",
      "f1-score (micro) 0.5009851645804357\n",
      "f1-score (weighted) 0.47765906594017044\n"
     ]
    }
   ],
   "source": [
    "y_pred2 = bestlinearSVC.predict(x_val_tfidf)\n",
    "print('accuracy %s' % accuracy_score(y_val, y_pred2))\n",
    "print('f1-score (macro) %s' % f1_score(y_val, y_pred2, average='macro'))\n",
    "print('f1-score (micro) %s' % f1_score(y_val, y_pred2, average='micro'))\n",
    "print('f1-score (weighted) %s' % f1_score(y_val, y_pred2, average='weighted'))"
   ]
  },
  {
   "cell_type": "markdown",
   "id": "309c2cbb-904d-4ae0-aacb-adc4a6475b29",
   "metadata": {},
   "source": [
    "**Вывод:**\n",
    "\n",
    "После векторизации TF-IDF с `min_df=12`, `max_df=0.95` метрики метода опорных векторов с линейным ядром с гиперпараметрами, подобранными гридсерчем, получились немного выше (`F1-macro=0.25`, `F1-weighted=0.48`, `accuracy=0.50`), чем после применения этой модели на текстах после векторизации TF-IDF с `min_df=20` (`F1-macro=0.20`, `F1-weighted=0.46`, `accuracy=0.50`).\n"
   ]
  },
  {
   "cell_type": "markdown",
   "id": "a29dfa7a-539a-4485-a577-feec338b1215",
   "metadata": {},
   "source": [
    "### Logistic Regression"
   ]
  },
  {
   "cell_type": "code",
   "execution_count": 11,
   "id": "f4c846f2-b36e-4dec-b7a9-2b305a343de7",
   "metadata": {},
   "outputs": [
    {
     "data": {
      "text/html": [
       "<style>#sk-container-id-1 {color: black;}#sk-container-id-1 pre{padding: 0;}#sk-container-id-1 div.sk-toggleable {background-color: white;}#sk-container-id-1 label.sk-toggleable__label {cursor: pointer;display: block;width: 100%;margin-bottom: 0;padding: 0.3em;box-sizing: border-box;text-align: center;}#sk-container-id-1 label.sk-toggleable__label-arrow:before {content: \"▸\";float: left;margin-right: 0.25em;color: #696969;}#sk-container-id-1 label.sk-toggleable__label-arrow:hover:before {color: black;}#sk-container-id-1 div.sk-estimator:hover label.sk-toggleable__label-arrow:before {color: black;}#sk-container-id-1 div.sk-toggleable__content {max-height: 0;max-width: 0;overflow: hidden;text-align: left;background-color: #f0f8ff;}#sk-container-id-1 div.sk-toggleable__content pre {margin: 0.2em;color: black;border-radius: 0.25em;background-color: #f0f8ff;}#sk-container-id-1 input.sk-toggleable__control:checked~div.sk-toggleable__content {max-height: 200px;max-width: 100%;overflow: auto;}#sk-container-id-1 input.sk-toggleable__control:checked~label.sk-toggleable__label-arrow:before {content: \"▾\";}#sk-container-id-1 div.sk-estimator input.sk-toggleable__control:checked~label.sk-toggleable__label {background-color: #d4ebff;}#sk-container-id-1 div.sk-label input.sk-toggleable__control:checked~label.sk-toggleable__label {background-color: #d4ebff;}#sk-container-id-1 input.sk-hidden--visually {border: 0;clip: rect(1px 1px 1px 1px);clip: rect(1px, 1px, 1px, 1px);height: 1px;margin: -1px;overflow: hidden;padding: 0;position: absolute;width: 1px;}#sk-container-id-1 div.sk-estimator {font-family: monospace;background-color: #f0f8ff;border: 1px dotted black;border-radius: 0.25em;box-sizing: border-box;margin-bottom: 0.5em;}#sk-container-id-1 div.sk-estimator:hover {background-color: #d4ebff;}#sk-container-id-1 div.sk-parallel-item::after {content: \"\";width: 100%;border-bottom: 1px solid gray;flex-grow: 1;}#sk-container-id-1 div.sk-label:hover label.sk-toggleable__label {background-color: #d4ebff;}#sk-container-id-1 div.sk-serial::before {content: \"\";position: absolute;border-left: 1px solid gray;box-sizing: border-box;top: 0;bottom: 0;left: 50%;z-index: 0;}#sk-container-id-1 div.sk-serial {display: flex;flex-direction: column;align-items: center;background-color: white;padding-right: 0.2em;padding-left: 0.2em;position: relative;}#sk-container-id-1 div.sk-item {position: relative;z-index: 1;}#sk-container-id-1 div.sk-parallel {display: flex;align-items: stretch;justify-content: center;background-color: white;position: relative;}#sk-container-id-1 div.sk-item::before, #sk-container-id-1 div.sk-parallel-item::before {content: \"\";position: absolute;border-left: 1px solid gray;box-sizing: border-box;top: 0;bottom: 0;left: 50%;z-index: -1;}#sk-container-id-1 div.sk-parallel-item {display: flex;flex-direction: column;z-index: 1;position: relative;background-color: white;}#sk-container-id-1 div.sk-parallel-item:first-child::after {align-self: flex-end;width: 50%;}#sk-container-id-1 div.sk-parallel-item:last-child::after {align-self: flex-start;width: 50%;}#sk-container-id-1 div.sk-parallel-item:only-child::after {width: 0;}#sk-container-id-1 div.sk-dashed-wrapped {border: 1px dashed gray;margin: 0 0.4em 0.5em 0.4em;box-sizing: border-box;padding-bottom: 0.4em;background-color: white;}#sk-container-id-1 div.sk-label label {font-family: monospace;font-weight: bold;display: inline-block;line-height: 1.2em;}#sk-container-id-1 div.sk-label-container {text-align: center;}#sk-container-id-1 div.sk-container {/* jupyter's `normalize.less` sets `[hidden] { display: none; }` but bootstrap.min.css set `[hidden] { display: none !important; }` so we also need the `!important` here to be able to override the default hidden behavior on the sphinx rendered scikit-learn.org. See: https://github.com/scikit-learn/scikit-learn/issues/21755 */display: inline-block !important;position: relative;}#sk-container-id-1 div.sk-text-repr-fallback {display: none;}</style><div id=\"sk-container-id-1\" class=\"sk-top-container\"><div class=\"sk-text-repr-fallback\"><pre>LogisticRegression(C=2, max_iter=1000, n_jobs=-1)</pre><b>In a Jupyter environment, please rerun this cell to show the HTML representation or trust the notebook. <br />On GitHub, the HTML representation is unable to render, please try loading this page with nbviewer.org.</b></div><div class=\"sk-container\" hidden><div class=\"sk-item\"><div class=\"sk-estimator sk-toggleable\"><input class=\"sk-toggleable__control sk-hidden--visually\" id=\"sk-estimator-id-1\" type=\"checkbox\" checked><label for=\"sk-estimator-id-1\" class=\"sk-toggleable__label sk-toggleable__label-arrow\">LogisticRegression</label><div class=\"sk-toggleable__content\"><pre>LogisticRegression(C=2, max_iter=1000, n_jobs=-1)</pre></div></div></div></div></div>"
      ],
      "text/plain": [
       "LogisticRegression(C=2, max_iter=1000, n_jobs=-1)"
      ]
     },
     "execution_count": 11,
     "metadata": {},
     "output_type": "execute_result"
    }
   ],
   "source": [
    "lr = LogisticRegression(C=2, max_iter=1000, n_jobs=-1)\n",
    "lr.fit(x_train_tfidf, y_train)"
   ]
  },
  {
   "cell_type": "code",
   "execution_count": 12,
   "id": "9c068933-eeb6-49d2-bbaf-2f0418898599",
   "metadata": {},
   "outputs": [],
   "source": [
    "pickle.dump(lr, open('logit3.pkl', 'wb'))"
   ]
  },
  {
   "cell_type": "code",
   "execution_count": 14,
   "id": "bd84761f-7751-4937-8d7d-4ef6a87a11d5",
   "metadata": {},
   "outputs": [
    {
     "name": "stdout",
     "output_type": "stream",
     "text": [
      "accuracy 0.4898006490496059\n",
      "f1-score (macro) 0.18938110287116913\n",
      "f1-score (micro) 0.4898006490496059\n",
      "f1-score (weighted) 0.4618292749488603\n"
     ]
    }
   ],
   "source": [
    "y_pred2 = lr.predict(x_val_tfidf)\n",
    "print('accuracy %s' % accuracy_score(y_val, y_pred2))\n",
    "print('f1-score (macro) %s' % f1_score(y_val, y_pred2, average='macro'))\n",
    "print('f1-score (micro) %s' % f1_score(y_val, y_pred2, average='micro'))\n",
    "print('f1-score (weighted) %s' % f1_score(y_val, y_pred2, average='weighted'))"
   ]
  },
  {
   "cell_type": "code",
   "execution_count": 16,
   "id": "992d5c9d-a171-4210-aac8-ccf71238dc76",
   "metadata": {},
   "outputs": [
    {
     "name": "stdout",
     "output_type": "stream",
     "text": [
      "                             precision    recall  f1-score   support\n",
      "\n",
      "                         1C       1.00      0.07      0.13        14\n",
      "                3d_graphics       0.66      0.45      0.54        82\n",
      "                       AJAX       0.00      0.00      0.00         2\n",
      "                  Atlassian       0.00      0.00      0.00         6\n",
      "                     Hadoop       0.00      0.00      0.00         1\n",
      "                       IPFS       0.00      0.00      0.00         1\n",
      "               Sailfish_dev       0.00      0.00      0.00         1\n",
      "              accessibility       0.00      0.00      0.00        10\n",
      "                      agile       0.12      0.04      0.06        27\n",
      "                 algorithms       0.34      0.24      0.28       180\n",
      "            analysis_design       0.34      0.36      0.35       265\n",
      "                android_dev       0.45      0.35      0.39       126\n",
      "                    angular       0.00      0.00      0.00         9\n",
      "                  animation       0.00      0.00      0.00         8\n",
      "                     apache       0.00      0.00      0.00        15\n",
      "                        api       0.53      0.22      0.31        46\n",
      "                apps_design       0.00      0.00      0.00        21\n",
      "                    arduino       0.35      0.39      0.37        31\n",
      "                    arvrdev       0.60      0.50      0.55        24\n",
      "                        asp       0.00      0.00      0.00         2\n",
      "                  assembler       0.56      0.25      0.34        20\n",
      "                   asterisk       1.00      0.29      0.44         7\n",
      "                        aws       0.31      0.22      0.26        18\n",
      "                      azure       0.33      0.19      0.24        16\n",
      "                     backup       0.00      0.00      0.00        12\n",
      "                    bigdata       0.41      0.39      0.40       123\n",
      "                    billing       0.00      0.00      0.00         1\n",
      "                     bitrix       1.00      0.10      0.18        10\n",
      "                 bughunters       0.00      0.00      0.00         1\n",
      "           build_automation       0.00      0.00      0.00         3\n",
      "            business_models       0.29      0.19      0.23        64\n",
      "                          c       0.00      0.00      0.00        18\n",
      "                    cad_cam       0.72      0.53      0.61        34\n",
      "                        cgi       0.00      0.00      0.00         3\n",
      "             circuit-design       0.82      0.38      0.52        37\n",
      "              cisconetworks       0.00      0.00      0.00        12\n",
      "   client_side_optimization       0.00      0.00      0.00        16\n",
      "                    clojure       0.00      0.00      0.00         1\n",
      "            cloud_computing       0.31      0.17      0.22        54\n",
      "             cloud_services       0.39      0.37      0.38       115\n",
      "                        cms       0.88      0.38      0.54        39\n",
      "                      cobol       0.00      0.00      0.00         1\n",
      "       community_management       0.36      0.25      0.29        64\n",
      "                  compilers       0.00      0.00      0.00         5\n",
      "              complete_code       0.00      0.00      0.00        27\n",
      "           contentmarketing       0.50      0.27      0.35        44\n",
      "                    context       0.00      0.00      0.00        14\n",
      "                controllers       0.33      0.54      0.41        78\n",
      "                 conversion       0.00      0.00      0.00         5\n",
      "                        cpp       0.36      0.22      0.27       131\n",
      "                   crazydev       0.33      0.09      0.15       138\n",
      "                        crm       0.38      0.14      0.21        21\n",
      "                     crypto       0.46      0.25      0.33        52\n",
      "                     csharp       0.00      0.00      0.00        20\n",
      "                        css       0.60      0.20      0.30        46\n",
      "                        ctf       0.00      0.00      0.00         1\n",
      "                        cvs       0.00      0.00      0.00         5\n",
      "                          d       0.00      0.00      0.00         1\n",
      "                       dart       0.33      0.09      0.14        11\n",
      "           data_compression       0.00      0.00      0.00         2\n",
      "           data_engineering       0.00      0.00      0.00         7\n",
      "                data_mining       0.31      0.16      0.21       112\n",
      "              data_recovery       0.00      0.00      0.00        16\n",
      "         data_visualization       0.60      0.08      0.14        39\n",
      "             data_warehouse       0.00      0.00      0.00         5\n",
      "                  db_admins       0.33      0.06      0.11        31\n",
      "                      debug       0.00      0.00      0.00         5\n",
      "                     delphi       1.00      0.14      0.25         7\n",
      "        desktop_environment       0.00      0.00      0.00         3\n",
      "             dev_management       0.40      0.45      0.43       264\n",
      "                    devmail       0.00      0.00      0.00         1\n",
      "                     devops       0.41      0.10      0.16        71\n",
      "                display_adv       0.50      0.19      0.27        32\n",
      "        distributed_systems       0.00      0.00      0.00         8\n",
      "                     django       0.00      0.00      0.00         3\n",
      "                        dns       0.00      0.00      0.00         2\n",
      "                    domains       0.57      0.22      0.32        18\n",
      "                        dwh       0.64      0.27      0.38        79\n",
      "                    eclipse       0.00      0.00      0.00         2\n",
      "                        ecm       0.00      0.00      0.00         9\n",
      "                  ecommerce       0.51      0.53      0.52       138\n",
      "      ecommerce_development       0.17      0.05      0.07        21\n",
      "                electronics       0.50      0.70      0.58       260\n",
      "              elixirphoenix       0.00      0.00      0.00         1\n",
      "                      emacs       0.00      0.00      0.00         1\n",
      "             emailmarketing       0.00      0.00      0.00         4\n",
      "        engineering_systems       0.46      0.36      0.40        45\n",
      "                     erlang       0.00      0.00      0.00         4\n",
      "                        erp       0.47      0.28      0.35        25\n",
      "                       fido       0.00      0.00      0.00         1\n",
      "                   firebird       0.00      0.00      0.00         2\n",
      "                    flutter       0.00      0.00      0.00         6\n",
      "                       fpga       0.56      0.43      0.49        23\n",
      "                     fsharp       0.00      0.00      0.00         2\n",
      "                   funcprog       0.00      0.00      0.00         4\n",
      "                        gae       0.00      0.00      0.00         3\n",
      "                game_design       0.00      0.00      0.00        16\n",
      "          game_monetization       0.00      0.00      0.00        13\n",
      "             game_promotion       0.00      0.00      0.00         7\n",
      "               game_testing       1.00      0.10      0.18        10\n",
      "                    gamedev       0.61      0.82      0.70       417\n",
      "                        geo       0.38      0.28      0.32        39\n",
      "                geo_systems       0.50      0.12      0.19        17\n",
      "                        git       0.65      0.58      0.61        26\n",
      "                     github       1.00      0.05      0.10        20\n",
      "                         go       0.25      0.12      0.16        50\n",
      "                      godot       0.00      0.00      0.00         1\n",
      "                 google_api       0.00      0.00      0.00         2\n",
      "                googlecloud       0.00      0.00      0.00         2\n",
      "                      gpgpu       0.00      0.00      0.00         3\n",
      "               graph_design       0.44      0.20      0.28        20\n",
      "              groovy_grails       0.00      0.00      0.00         1\n",
      "              growthhacking       0.50      0.12      0.20        16\n",
      "                        gtd       0.59      0.37      0.45        54\n",
      "                    haskell       0.00      0.00      0.00         3\n",
      "                       haxe       0.00      0.00      0.00         1\n",
      "                   helpdesk       0.62      0.42      0.50        24\n",
      "                         hi       0.37      0.40      0.39       309\n",
      "              hr_management       0.51      0.70      0.59       358\n",
      "                      html5       0.00      0.00      0.00         4\n",
      "                  iconoskaz       0.00      0.00      0.00         6\n",
      "           image_processing       0.41      0.34      0.37       102\n",
      "  industrial_control_system       0.56      0.21      0.30        24\n",
      "                   infolust       0.00      0.00      0.00         1\n",
      "               infosecurity       0.68      0.88      0.77      2077\n",
      "          instant_messaging       0.53      0.53      0.53       115\n",
      "          internetmarketing       0.42      0.43      0.43        99\n",
      "                    ios_dev       0.65      0.72      0.68       312\n",
      "                    iot_dev       0.40      0.07      0.12        29\n",
      "                       iptv       0.00      0.00      0.00         1\n",
      "          it-infrastructure       0.38      0.46      0.42       607\n",
      "            it_monetization       0.00      0.00      0.00        14\n",
      "                 it_testing       0.60      0.59      0.60       279\n",
      "                itstandarts       0.80      0.11      0.20        36\n",
      "                       java       0.49      0.41      0.45       253\n",
      "                 javascript       0.49      0.51      0.50       357\n",
      "                     joomla       0.00      0.00      0.00         1\n",
      "                      julia       0.00      0.00      0.00         2\n",
      "                     kotlin       0.00      0.00      0.00         5\n",
      "                 kubernetes       0.00      0.00      0.00        14\n",
      "                    labview       0.00      0.00      0.00         3\n",
      "                    laravel       0.00      0.00      0.00         2\n",
      "                      latex       1.00      0.50      0.67         2\n",
      "                        lib       0.54      0.48      0.51       119\n",
      "                      linux       0.50      0.60      0.54       243\n",
      "                  linux_dev       0.50      0.03      0.06        30\n",
      "                       lisp       0.00      0.00      0.00        10\n",
      "               localization       0.29      0.09      0.14        22\n",
      "                        lua       0.00      0.00      0.00         5\n",
      "           machine_learning       0.40      0.49      0.44       304\n",
      "                    magento       0.00      0.00      0.00         2\n",
      "                    map_api       0.00      0.00      0.00         4\n",
      "                      maths       0.49      0.63      0.55       133\n",
      "                     matlab       0.00      0.00      0.00         3\n",
      "           media_management       1.00      0.25      0.40        16\n",
      "            mesh_networking       0.00      0.00      0.00         3\n",
      "               microformats       0.00      0.00      0.00         1\n",
      "              microservices       0.00      0.00      0.00        11\n",
      "                 mobile_dev       0.39      0.37      0.38       259\n",
      "        mobile_monetization       0.00      0.00      0.00        18\n",
      "             mobile_testing       0.00      0.00      0.00         7\n",
      "            mobileanalytics       0.00      0.00      0.00         8\n",
      "                       modx       0.00      0.00      0.00         2\n",
      "                    mongodb       0.25      0.33      0.29         3\n",
      "                      mssql       0.65      0.62      0.63        21\n",
      "                      mysql       0.43      0.21      0.29        14\n",
      "natural_language_processing       0.00      0.00      0.00         7\n",
      "                     nestjs       0.00      0.00      0.00         1\n",
      "                        net       0.54      0.48      0.51       173\n",
      "                     netdev       0.33      0.18      0.23        51\n",
      "          network_standarts       0.50      0.04      0.07        25\n",
      "       network_technologies       0.33      0.19      0.24       135\n",
      "                      nginx       0.43      0.21      0.29        14\n",
      "                        nix       0.50      0.02      0.04        43\n",
      "                     nodejs       0.00      0.00      0.00        15\n",
      "                      nosql       0.00      0.00      0.00        14\n",
      "               office365dev       0.00      0.00      0.00         3\n",
      "                        oop       0.00      0.00      0.00         5\n",
      "                open_source       0.45      0.42      0.44       554\n",
      "                   opendata       0.00      0.00      0.00        13\n",
      "              openstreetmap       0.73      0.73      0.73        11\n",
      "                     oracle       0.85      0.40      0.55        42\n",
      "                    osx_dev       0.67      0.17      0.27        12\n",
      "                        p2p       0.43      0.46      0.44        99\n",
      "       parallel_programming       1.00      0.25      0.40         4\n",
      "                    patents       0.76      0.67      0.71        55\n",
      "                 pay_system       0.55      0.60      0.58        93\n",
      "                       perl       0.50      0.12      0.20         8\n",
      "                        php       0.60      0.40      0.48       162\n",
      "                         pm       0.31      0.28      0.29       282\n",
      "                 postgresql       0.66      0.73      0.69        95\n",
      "                 powershell       0.00      0.00      0.00         9\n",
      "            processing_lang       0.00      0.00      0.00         1\n",
      "                  productpm       0.34      0.25      0.29       132\n",
      "                programming       0.33      0.51      0.41      1144\n",
      "                prototyping       0.00      0.00      0.00        19\n",
      "                     python       0.58      0.74      0.65       658\n",
      "                qt_software       0.00      0.00      0.00         7\n",
      "                          r       0.00      0.00      0.00        14\n",
      "                raspberrypi       0.57      0.57      0.57        35\n",
      "                    reactjs       0.00      0.00      0.00        11\n",
      "                refactoring       0.00      0.00      0.00        24\n",
      "                      regex       0.00      0.00      0.00         1\n",
      "                   research       0.38      0.41      0.39       211\n",
      "        reverse-engineering       0.83      0.13      0.23        38\n",
      "                   robo_dev       0.60      0.61      0.60        90\n",
      "                        ror       0.00      0.00      0.00         5\n",
      "                       ruby       0.77      0.53      0.63        32\n",
      "                       rust       0.50      0.09      0.15        11\n",
      "                    s_admin       0.33      0.03      0.06        33\n",
      "                       saas       1.00      0.10      0.18        10\n",
      "                      sales       0.40      0.25      0.31        76\n",
      "                        san       0.00      0.00      0.00         1\n",
      "                      scada       0.00      0.00      0.00         3\n",
      "                      scala       1.00      0.20      0.33        10\n",
      "        search_technologies       0.68      0.61      0.64        82\n",
      "                        seo       0.00      0.00      0.00         6\n",
      "   server_side_optimization       0.00      0.00      0.00        22\n",
      "                 serverless       0.00      0.00      0.00         2\n",
      "               service_desk       0.50      0.22      0.31        18\n",
      "                 sharepoint       0.50      0.20      0.29         5\n",
      "                     shells       0.00      0.00      0.00         1\n",
      "                   solidity       0.00      0.00      0.00         7\n",
      "          sport_programming       0.63      0.50      0.56        34\n",
      "                        sql       0.34      0.40      0.37        42\n",
      "                         sw       0.79      0.39      0.52        28\n",
      "                      swift       0.00      0.00      0.00         4\n",
      "                    symfony       0.00      0.00      0.00         1\n",
      "                  sys_admin       0.36      0.51      0.42       485\n",
      "         system_programming       0.31      0.15      0.20        27\n",
      "                  tarantool       0.00      0.00      0.00         2\n",
      "                        tdd       0.00      0.00      0.00         6\n",
      "          technical_writing       1.00      0.31      0.47        13\n",
      "                 tensorflow       0.00      0.00      0.00         2\n",
      "                    txt_ide       0.00      0.00      0.00         2\n",
      "                 typescript       0.00      0.00      0.00         3\n",
      "                 typography       0.25      0.17      0.20         6\n",
      "                         ui       0.39      0.24      0.30        95\n",
      "                      unity       0.50      0.11      0.18         9\n",
      "              unreal_engine       0.00      0.00      0.00         3\n",
      "                  usability       1.00      0.04      0.08        25\n",
      "                        vba       0.00      0.00      0.00         4\n",
      "            vector_graphics       0.00      0.00      0.00        15\n",
      "                      video       0.49      0.60      0.54       164\n",
      "                        vim       1.00      0.50      0.67         6\n",
      "             virtualization       0.19      0.07      0.10        45\n",
      "                      virus       1.00      0.12      0.21        26\n",
      "         visual_programming       0.00      0.00      0.00         1\n",
      "                     vk_api       0.00      0.00      0.00         1\n",
      "           voice_interfaces       0.64      0.35      0.45        20\n",
      "                         vs       0.00      0.00      0.00         7\n",
      "                      vuejs       0.00      0.00      0.00         6\n",
      "                 web_design       0.54      0.53      0.53       141\n",
      "           web_monetization       0.12      0.05      0.07        22\n",
      "                web_testing       0.00      0.00      0.00        35\n",
      "                      weban       0.53      0.29      0.38        31\n",
      "                webassembly       0.00      0.00      0.00         2\n",
      "                     webdev       0.46      0.56      0.50       763\n",
      "                      webgl       0.00      0.00      0.00         1\n",
      "                    win_dev       0.47      0.52      0.49        33\n",
      "                   wireless       0.47      0.50      0.49       103\n",
      "                  wordpress       0.40      0.20      0.27        10\n",
      "                     wp_dev       0.00      0.00      0.00         1\n",
      "                      xcode       0.00      0.00      0.00         6\n",
      "                       xslt       0.00      0.00      0.00         1\n",
      "                 yandex_api       0.00      0.00      0.00         3\n",
      "                        yii       0.00      0.00      0.00         1\n",
      "\n",
      "                   accuracy                           0.49     17256\n",
      "                  macro avg       0.28      0.17      0.19     17256\n",
      "               weighted avg       0.47      0.49      0.46     17256\n",
      "\n"
     ]
    }
   ],
   "source": [
    "print(classification_report(y_val, y_pred2, zero_division = 0))"
   ]
  },
  {
   "cell_type": "markdown",
   "id": "53aede33-397a-4af3-a7bf-fdaf228b8588",
   "metadata": {},
   "source": [
    "**Вывод:**\n",
    "\n",
    "После векторизации TF-IDF с `min_df=12`, `max_df=0.95` метрики логистической регрессии получились такими же, как и после применения этой модели на текстах после векторизации TF-IDF с `min_df=20`: `F1-macro=0.19`, `F1-weighted=0.46`, `accuracy=0.49`.\n"
   ]
  },
  {
   "cell_type": "markdown",
   "id": "b6e2f183-44e9-462f-8635-8718489f437e",
   "metadata": {},
   "source": [
    "### Random Forest"
   ]
  },
  {
   "cell_type": "markdown",
   "id": "8616e61a-ccd4-48f8-8ab6-9de46037ef16",
   "metadata": {},
   "source": [
    "Попробуем применить случайный лес."
   ]
  },
  {
   "cell_type": "code",
   "execution_count": 19,
   "id": "bcb36a44-53cb-4522-8b0f-14b222fcc7b3",
   "metadata": {},
   "outputs": [
    {
     "data": {
      "text/html": [
       "<style>#sk-container-id-2 {color: black;}#sk-container-id-2 pre{padding: 0;}#sk-container-id-2 div.sk-toggleable {background-color: white;}#sk-container-id-2 label.sk-toggleable__label {cursor: pointer;display: block;width: 100%;margin-bottom: 0;padding: 0.3em;box-sizing: border-box;text-align: center;}#sk-container-id-2 label.sk-toggleable__label-arrow:before {content: \"▸\";float: left;margin-right: 0.25em;color: #696969;}#sk-container-id-2 label.sk-toggleable__label-arrow:hover:before {color: black;}#sk-container-id-2 div.sk-estimator:hover label.sk-toggleable__label-arrow:before {color: black;}#sk-container-id-2 div.sk-toggleable__content {max-height: 0;max-width: 0;overflow: hidden;text-align: left;background-color: #f0f8ff;}#sk-container-id-2 div.sk-toggleable__content pre {margin: 0.2em;color: black;border-radius: 0.25em;background-color: #f0f8ff;}#sk-container-id-2 input.sk-toggleable__control:checked~div.sk-toggleable__content {max-height: 200px;max-width: 100%;overflow: auto;}#sk-container-id-2 input.sk-toggleable__control:checked~label.sk-toggleable__label-arrow:before {content: \"▾\";}#sk-container-id-2 div.sk-estimator input.sk-toggleable__control:checked~label.sk-toggleable__label {background-color: #d4ebff;}#sk-container-id-2 div.sk-label input.sk-toggleable__control:checked~label.sk-toggleable__label {background-color: #d4ebff;}#sk-container-id-2 input.sk-hidden--visually {border: 0;clip: rect(1px 1px 1px 1px);clip: rect(1px, 1px, 1px, 1px);height: 1px;margin: -1px;overflow: hidden;padding: 0;position: absolute;width: 1px;}#sk-container-id-2 div.sk-estimator {font-family: monospace;background-color: #f0f8ff;border: 1px dotted black;border-radius: 0.25em;box-sizing: border-box;margin-bottom: 0.5em;}#sk-container-id-2 div.sk-estimator:hover {background-color: #d4ebff;}#sk-container-id-2 div.sk-parallel-item::after {content: \"\";width: 100%;border-bottom: 1px solid gray;flex-grow: 1;}#sk-container-id-2 div.sk-label:hover label.sk-toggleable__label {background-color: #d4ebff;}#sk-container-id-2 div.sk-serial::before {content: \"\";position: absolute;border-left: 1px solid gray;box-sizing: border-box;top: 0;bottom: 0;left: 50%;z-index: 0;}#sk-container-id-2 div.sk-serial {display: flex;flex-direction: column;align-items: center;background-color: white;padding-right: 0.2em;padding-left: 0.2em;position: relative;}#sk-container-id-2 div.sk-item {position: relative;z-index: 1;}#sk-container-id-2 div.sk-parallel {display: flex;align-items: stretch;justify-content: center;background-color: white;position: relative;}#sk-container-id-2 div.sk-item::before, #sk-container-id-2 div.sk-parallel-item::before {content: \"\";position: absolute;border-left: 1px solid gray;box-sizing: border-box;top: 0;bottom: 0;left: 50%;z-index: -1;}#sk-container-id-2 div.sk-parallel-item {display: flex;flex-direction: column;z-index: 1;position: relative;background-color: white;}#sk-container-id-2 div.sk-parallel-item:first-child::after {align-self: flex-end;width: 50%;}#sk-container-id-2 div.sk-parallel-item:last-child::after {align-self: flex-start;width: 50%;}#sk-container-id-2 div.sk-parallel-item:only-child::after {width: 0;}#sk-container-id-2 div.sk-dashed-wrapped {border: 1px dashed gray;margin: 0 0.4em 0.5em 0.4em;box-sizing: border-box;padding-bottom: 0.4em;background-color: white;}#sk-container-id-2 div.sk-label label {font-family: monospace;font-weight: bold;display: inline-block;line-height: 1.2em;}#sk-container-id-2 div.sk-label-container {text-align: center;}#sk-container-id-2 div.sk-container {/* jupyter's `normalize.less` sets `[hidden] { display: none; }` but bootstrap.min.css set `[hidden] { display: none !important; }` so we also need the `!important` here to be able to override the default hidden behavior on the sphinx rendered scikit-learn.org. See: https://github.com/scikit-learn/scikit-learn/issues/21755 */display: inline-block !important;position: relative;}#sk-container-id-2 div.sk-text-repr-fallback {display: none;}</style><div id=\"sk-container-id-2\" class=\"sk-top-container\"><div class=\"sk-text-repr-fallback\"><pre>RandomForestClassifier(max_depth=15, n_estimators=300, random_state=42)</pre><b>In a Jupyter environment, please rerun this cell to show the HTML representation or trust the notebook. <br />On GitHub, the HTML representation is unable to render, please try loading this page with nbviewer.org.</b></div><div class=\"sk-container\" hidden><div class=\"sk-item\"><div class=\"sk-estimator sk-toggleable\"><input class=\"sk-toggleable__control sk-hidden--visually\" id=\"sk-estimator-id-2\" type=\"checkbox\" checked><label for=\"sk-estimator-id-2\" class=\"sk-toggleable__label sk-toggleable__label-arrow\">RandomForestClassifier</label><div class=\"sk-toggleable__content\"><pre>RandomForestClassifier(max_depth=15, n_estimators=300, random_state=42)</pre></div></div></div></div></div>"
      ],
      "text/plain": [
       "RandomForestClassifier(max_depth=15, n_estimators=300, random_state=42)"
      ]
     },
     "execution_count": 19,
     "metadata": {},
     "output_type": "execute_result"
    }
   ],
   "source": [
    "rfc = RandomForestClassifier(n_estimators=300, max_depth=15, random_state=42)\n",
    "rfc.fit(x_train_tfidf, y_train)"
   ]
  },
  {
   "cell_type": "code",
   "execution_count": 20,
   "id": "e6eed238-b031-49fc-907f-9beb4b4305ca",
   "metadata": {},
   "outputs": [
    {
     "name": "stdout",
     "output_type": "stream",
     "text": [
      "accuracy 0.23794622160407974\n",
      "f1-score (macro) 0.015995270104949645\n",
      "f1-score (micro) 0.23794622160407974\n",
      "f1-score (weighted) 0.14702807871557397\n"
     ]
    }
   ],
   "source": [
    "y_pred = rfc.predict(x_test_tfidf)\n",
    "print('accuracy %s' % accuracy_score(y_test, y_pred))\n",
    "print('f1-score (macro) %s' % f1_score(y_test, y_pred, average='macro'))\n",
    "print('f1-score (micro) %s' % f1_score(y_test, y_pred, average='micro'))\n",
    "print('f1-score (weighted) %s' % f1_score(y_test, y_pred, average='weighted'))"
   ]
  },
  {
   "cell_type": "code",
   "execution_count": 21,
   "id": "f4a2a40b-f860-4f51-8fec-4286f0b6bc17",
   "metadata": {},
   "outputs": [
    {
     "name": "stdout",
     "output_type": "stream",
     "text": [
      "                             precision    recall  f1-score   support\n",
      "\n",
      "                         1C       0.00      0.00      0.00        13\n",
      "                3d_graphics       0.00      0.00      0.00        93\n",
      "                       AJAX       0.00      0.00      0.00         7\n",
      "                  Atlassian       0.00      0.00      0.00        10\n",
      "                       IPFS       0.00      0.00      0.00         1\n",
      "               Sailfish_dev       0.00      0.00      0.00         2\n",
      "                    Xamarin       0.00      0.00      0.00         1\n",
      "              accessibility       0.00      0.00      0.00         3\n",
      "                      agile       0.00      0.00      0.00        21\n",
      "                 algorithms       0.00      0.00      0.00       192\n",
      "            analysis_design       0.00      0.00      0.00       272\n",
      "                android_dev       0.00      0.00      0.00       137\n",
      "                    angular       0.00      0.00      0.00        13\n",
      "                  animation       0.00      0.00      0.00         5\n",
      "                     apache       0.00      0.00      0.00        11\n",
      "                        api       0.00      0.00      0.00        44\n",
      "                apps_design       0.00      0.00      0.00        25\n",
      "                    arduino       0.00      0.00      0.00        42\n",
      "                    arvrdev       0.00      0.00      0.00        35\n",
      "                        asp       0.00      0.00      0.00         3\n",
      "                  assembler       0.00      0.00      0.00        21\n",
      "                   asterisk       0.00      0.00      0.00         9\n",
      "                        aws       0.00      0.00      0.00        15\n",
      "                      azure       0.00      0.00      0.00        11\n",
      "                     backup       0.00      0.00      0.00         6\n",
      "                    bigdata       0.00      0.00      0.00       125\n",
      "                    billing       0.00      0.00      0.00         4\n",
      "                     bitrix       0.00      0.00      0.00         9\n",
      "                  brainfuck       0.00      0.00      0.00         2\n",
      "           build_automation       0.00      0.00      0.00         3\n",
      "            business_models       0.00      0.00      0.00        73\n",
      "                          c       0.00      0.00      0.00        22\n",
      "                    cad_cam       0.00      0.00      0.00        31\n",
      "                        cgi       0.00      0.00      0.00         1\n",
      "             circuit-design       0.00      0.00      0.00        45\n",
      "              cisconetworks       0.00      0.00      0.00         5\n",
      "   client_side_optimization       0.00      0.00      0.00        12\n",
      "            cloud_computing       0.00      0.00      0.00        57\n",
      "             cloud_services       0.00      0.00      0.00       128\n",
      "                        cms       0.00      0.00      0.00        46\n",
      "       community_management       0.00      0.00      0.00        61\n",
      "                  compilers       0.00      0.00      0.00         5\n",
      "              complete_code       0.00      0.00      0.00        17\n",
      "           contentmarketing       0.00      0.00      0.00        37\n",
      "                    context       0.00      0.00      0.00        17\n",
      "                controllers       0.00      0.00      0.00       101\n",
      "                 conversion       0.00      0.00      0.00         6\n",
      "                        cpp       0.00      0.00      0.00       139\n",
      "                   crazydev       0.00      0.00      0.00       146\n",
      "           creative_commons       0.00      0.00      0.00         2\n",
      "                        crm       0.00      0.00      0.00        22\n",
      "                     crypto       0.00      0.00      0.00        73\n",
      "                     csharp       0.00      0.00      0.00        14\n",
      "                        css       0.00      0.00      0.00        46\n",
      "                        ctf       0.00      0.00      0.00         1\n",
      "                        cvs       0.00      0.00      0.00         5\n",
      "                       dart       0.00      0.00      0.00        13\n",
      "           data_compression       0.00      0.00      0.00         1\n",
      "           data_engineering       0.00      0.00      0.00        10\n",
      "                data_mining       0.00      0.00      0.00       124\n",
      "              data_recovery       0.00      0.00      0.00         9\n",
      "         data_visualization       0.00      0.00      0.00        30\n",
      "             data_warehouse       0.00      0.00      0.00        12\n",
      "                  db_admins       0.00      0.00      0.00        31\n",
      "                      debug       0.00      0.00      0.00         8\n",
      "                     delphi       0.00      0.00      0.00        11\n",
      "        desktop_environment       0.00      0.00      0.00         5\n",
      "             dev_management       0.47      0.06      0.11       266\n",
      "                    devmail       0.00      0.00      0.00         3\n",
      "                     devops       0.00      0.00      0.00        73\n",
      "                display_adv       0.00      0.00      0.00        18\n",
      "        distributed_systems       0.00      0.00      0.00         6\n",
      "                     django       0.00      0.00      0.00         3\n",
      "                        dns       0.00      0.00      0.00         1\n",
      "                    domains       0.00      0.00      0.00        19\n",
      "                     drupal       0.00      0.00      0.00         1\n",
      "                        dwh       0.00      0.00      0.00        61\n",
      "                    eclipse       0.00      0.00      0.00         1\n",
      "                        ecm       0.00      0.00      0.00         6\n",
      "                  ecommerce       0.00      0.00      0.00       128\n",
      "      ecommerce_development       0.00      0.00      0.00        33\n",
      "                electronics       1.00      0.02      0.04       248\n",
      "              elixirphoenix       0.00      0.00      0.00         1\n",
      "             emailmarketing       0.00      0.00      0.00         1\n",
      "        engineering_systems       0.00      0.00      0.00        41\n",
      "                     erlang       0.00      0.00      0.00         4\n",
      "                        erp       0.00      0.00      0.00        36\n",
      "               facebook_api       0.00      0.00      0.00         1\n",
      "                    flutter       0.00      0.00      0.00         4\n",
      "                      forth       0.00      0.00      0.00         1\n",
      "                    fortran       0.00      0.00      0.00         1\n",
      "                       fpga       0.00      0.00      0.00        26\n",
      "                     fsharp       0.00      0.00      0.00         2\n",
      "                   funcprog       0.00      0.00      0.00         5\n",
      "                        gae       0.00      0.00      0.00         2\n",
      "                game_design       0.00      0.00      0.00        17\n",
      "          game_monetization       0.00      0.00      0.00        13\n",
      "             game_promotion       0.00      0.00      0.00         7\n",
      "               game_testing       0.00      0.00      0.00         7\n",
      "                    gamedev       0.60      0.63      0.62       399\n",
      "                        geo       0.00      0.00      0.00        28\n",
      "                geo_systems       0.00      0.00      0.00        17\n",
      "                        git       0.00      0.00      0.00        38\n",
      "                     github       0.00      0.00      0.00        21\n",
      "                         go       0.00      0.00      0.00        42\n",
      "                 google_api       0.00      0.00      0.00         6\n",
      "                googlecloud       0.00      0.00      0.00         3\n",
      "                      gpgpu       0.00      0.00      0.00         6\n",
      "                     gradle       0.00      0.00      0.00         1\n",
      "               graph_design       0.00      0.00      0.00        19\n",
      "               greasemonkey       0.00      0.00      0.00         1\n",
      "              groovy_grails       0.00      0.00      0.00         1\n",
      "              growthhacking       0.00      0.00      0.00        13\n",
      "                        gtd       0.00      0.00      0.00        51\n",
      "                    haskell       0.00      0.00      0.00        10\n",
      "                       haxe       0.00      0.00      0.00         1\n",
      "                   helpdesk       0.00      0.00      0.00        13\n",
      "                         hi       0.00      0.00      0.00       323\n",
      "              hr_management       0.56      0.20      0.29       383\n",
      "                      html5       0.00      0.00      0.00         7\n",
      "                  iconoskaz       0.00      0.00      0.00         1\n",
      "           image_processing       0.00      0.00      0.00        93\n",
      "  industrial_control_system       0.00      0.00      0.00        29\n",
      "               infosecurity       0.17      0.98      0.30      2002\n",
      "          instant_messaging       0.00      0.00      0.00       123\n",
      "          internetmarketing       0.00      0.00      0.00       104\n",
      "                    ios_dev       0.79      0.37      0.51       357\n",
      "                    iot_dev       0.00      0.00      0.00        17\n",
      "                       iptv       0.00      0.00      0.00         3\n",
      "                       ipv6       0.00      0.00      0.00         1\n",
      "          it-infrastructure       0.69      0.04      0.08       600\n",
      "            it_monetization       0.00      0.00      0.00        12\n",
      "                 it_testing       0.76      0.26      0.38       294\n",
      "                itstandarts       0.00      0.00      0.00        46\n",
      "                       java       0.83      0.02      0.04       235\n",
      "                 javascript       0.59      0.04      0.08       365\n",
      "                      julia       0.00      0.00      0.00         1\n",
      "                     kotlin       0.00      0.00      0.00         4\n",
      "                 kubernetes       0.00      0.00      0.00         8\n",
      "                    labview       0.00      0.00      0.00         2\n",
      "                    laravel       0.00      0.00      0.00         2\n",
      "                      latex       0.00      0.00      0.00         2\n",
      "                        lib       0.00      0.00      0.00       111\n",
      "                      linux       0.00      0.00      0.00       234\n",
      "                  linux_dev       0.00      0.00      0.00        24\n",
      "                       lisp       0.00      0.00      0.00         1\n",
      "               localization       0.00      0.00      0.00        14\n",
      "                        lua       0.00      0.00      0.00         3\n",
      "           machine_learning       1.00      0.00      0.01       309\n",
      "                    magento       0.00      0.00      0.00         2\n",
      "                    map_api       0.00      0.00      0.00         3\n",
      "                      maths       0.00      0.00      0.00       181\n",
      "                     matlab       0.00      0.00      0.00         4\n",
      "           media_management       0.00      0.00      0.00        21\n",
      "               microformats       0.00      0.00      0.00         4\n",
      "              microservices       0.00      0.00      0.00         6\n",
      "                 mobile_dev       0.00      0.00      0.00       251\n",
      "        mobile_monetization       0.00      0.00      0.00        14\n",
      "             mobile_testing       0.00      0.00      0.00        12\n",
      "            mobileanalytics       0.00      0.00      0.00        17\n",
      "                    mongodb       0.00      0.00      0.00         3\n",
      "                      mssql       0.00      0.00      0.00        24\n",
      "                      mysql       0.00      0.00      0.00        18\n",
      "natural_language_processing       0.00      0.00      0.00         7\n",
      "                        net       0.00      0.00      0.00       175\n",
      "                     netdev       0.00      0.00      0.00        71\n",
      "          network_standarts       0.00      0.00      0.00        24\n",
      "       network_technologies       0.00      0.00      0.00       146\n",
      "                      nginx       0.00      0.00      0.00        13\n",
      "                        nix       0.00      0.00      0.00        53\n",
      "                     nodejs       0.00      0.00      0.00        16\n",
      "                      nosql       0.00      0.00      0.00        10\n",
      "               office365dev       0.00      0.00      0.00         8\n",
      "                        oop       0.00      0.00      0.00         6\n",
      "                open_source       0.90      0.04      0.07       522\n",
      "                   opendata       0.00      0.00      0.00        18\n",
      "              openstreetmap       0.00      0.00      0.00        12\n",
      "                     oracle       0.00      0.00      0.00        24\n",
      "                    osx_dev       0.00      0.00      0.00        14\n",
      "                        p2p       0.00      0.00      0.00        85\n",
      "       parallel_programming       0.00      0.00      0.00         4\n",
      "                    patents       1.00      0.02      0.04        55\n",
      "                 pay_system       0.00      0.00      0.00        90\n",
      "                       perl       0.00      0.00      0.00        10\n",
      "                        php       1.00      0.01      0.01       142\n",
      "                         pm       0.00      0.00      0.00       293\n",
      "                 postgresql       1.00      0.02      0.04       103\n",
      "                 powershell       0.00      0.00      0.00         6\n",
      "                  productpm       0.00      0.00      0.00       128\n",
      "                programming       0.20      0.57      0.30      1128\n",
      "                     prolog       0.00      0.00      0.00         1\n",
      "                prototyping       0.00      0.00      0.00        12\n",
      "                     python       0.58      0.69      0.63       662\n",
      "                qt_software       0.00      0.00      0.00         5\n",
      "                          r       0.00      0.00      0.00        13\n",
      "                raspberrypi       0.00      0.00      0.00        30\n",
      "                    reactjs       0.00      0.00      0.00        22\n",
      "                refactoring       0.00      0.00      0.00        10\n",
      "                      regex       0.00      0.00      0.00         2\n",
      "                   research       0.00      0.00      0.00       208\n",
      "        reverse-engineering       0.00      0.00      0.00        36\n",
      "                   robo_dev       0.00      0.00      0.00        89\n",
      "                        ror       0.00      0.00      0.00         3\n",
      "                       ruby       0.00      0.00      0.00        31\n",
      "                       rust       0.00      0.00      0.00         7\n",
      "                    s_admin       0.00      0.00      0.00        43\n",
      "                       saas       0.00      0.00      0.00        18\n",
      "                      sales       0.00      0.00      0.00        79\n",
      "                      scala       0.00      0.00      0.00         9\n",
      "        search_technologies       0.00      0.00      0.00        67\n",
      "                        seo       0.00      0.00      0.00         8\n",
      "   server_side_optimization       0.00      0.00      0.00        18\n",
      "                 serverless       0.00      0.00      0.00         3\n",
      "               service_desk       0.00      0.00      0.00        17\n",
      "                 sharepoint       0.00      0.00      0.00         6\n",
      "                     shells       0.00      0.00      0.00         1\n",
      "                 smallbasic       0.00      0.00      0.00         2\n",
      "                   solidity       0.00      0.00      0.00         1\n",
      "          sport_programming       0.00      0.00      0.00        31\n",
      "                        sql       0.00      0.00      0.00        37\n",
      "                         sw       0.00      0.00      0.00        19\n",
      "                      swift       0.00      0.00      0.00         6\n",
      "                    symfony       0.00      0.00      0.00         2\n",
      "                  sys_admin       0.38      0.03      0.05       567\n",
      "         system_programming       0.00      0.00      0.00        33\n",
      "                        tdd       0.00      0.00      0.00         2\n",
      "          technical_writing       0.00      0.00      0.00         7\n",
      "                    txt_ide       0.00      0.00      0.00         1\n",
      "                 typescript       0.00      0.00      0.00         4\n",
      "                 typography       0.00      0.00      0.00        16\n",
      "                         ui       0.00      0.00      0.00        84\n",
      "                        uml       0.00      0.00      0.00         1\n",
      "                      unity       0.00      0.00      0.00         8\n",
      "              unreal_engine       0.00      0.00      0.00         8\n",
      "                  usability       0.00      0.00      0.00        28\n",
      "                        vba       0.00      0.00      0.00         1\n",
      "            vector_graphics       0.00      0.00      0.00        18\n",
      "                      video       0.00      0.00      0.00       139\n",
      "                        vim       0.00      0.00      0.00         4\n",
      "             virtualization       0.00      0.00      0.00        50\n",
      "                      virus       0.00      0.00      0.00        27\n",
      "         visual_programming       0.00      0.00      0.00         2\n",
      "                     vk_api       0.00      0.00      0.00         1\n",
      "           voice_interfaces       0.00      0.00      0.00        18\n",
      "                         vs       0.00      0.00      0.00         8\n",
      "                      vuejs       0.00      0.00      0.00         8\n",
      "                 web_design       1.00      0.06      0.11       134\n",
      "           web_monetization       0.00      0.00      0.00        33\n",
      "                web_testing       0.00      0.00      0.00        39\n",
      "                      weban       0.00      0.00      0.00        30\n",
      "                webassembly       0.00      0.00      0.00         1\n",
      "                     webdev       0.40      0.54      0.46       702\n",
      "                      webgl       0.00      0.00      0.00         2\n",
      "                    win_dev       0.00      0.00      0.00        31\n",
      "                   wireless       0.00      0.00      0.00        95\n",
      "                  wordpress       0.00      0.00      0.00        11\n",
      "                     wp_dev       0.00      0.00      0.00         1\n",
      "                        xml       0.00      0.00      0.00         1\n",
      "                 yandex_api       0.00      0.00      0.00         1\n",
      "                        yii       0.00      0.00      0.00         2\n",
      "\n",
      "                   accuracy                           0.24     17256\n",
      "                  macro avg       0.05      0.02      0.02     17256\n",
      "               weighted avg       0.28      0.24      0.15     17256\n",
      "\n"
     ]
    }
   ],
   "source": [
    "print(classification_report(y_test, y_pred, zero_division = 0))"
   ]
  },
  {
   "cell_type": "code",
   "execution_count": 22,
   "id": "bbba7057-b14a-4c3e-a5fd-18f749329acf",
   "metadata": {},
   "outputs": [],
   "source": [
    "pickle.dump(rfc, open('randforest.pkl', 'wb'))"
   ]
  },
  {
   "cell_type": "markdown",
   "id": "b279d3b6-2115-4727-bc70-d37e9b9d8647",
   "metadata": {},
   "source": [
    "**Вывод:**\n",
    "\n",
    "Случайный лес требует больших вычислительных и временных ресурсов. Одна модель с заранее заданными гиперпараметрами в виде 300 деревьев и глубины 15 считалась ~3 часа. По результатам получилось, что предсказываются только совсем крупные хабы, метрики низкие: `F1-macro=0.02`, `F1-weighted=0.15`, `accuracy=0.24`. Чтобы улучшить метрики, нужно работать над гиперпараметрами, но это не позволяет сделать ограничение по памяти.\n"
   ]
  },
  {
   "cell_type": "code",
   "execution_count": null,
   "id": "f997579b-790c-48a4-9b66-23fc11686b99",
   "metadata": {},
   "outputs": [],
   "source": []
  }
 ],
 "metadata": {
  "kernelspec": {
   "display_name": "Python 3 (ipykernel)",
   "language": "python",
   "name": "python3"
  },
  "language_info": {
   "codemirror_mode": {
    "name": "ipython",
    "version": 3
   },
   "file_extension": ".py",
   "mimetype": "text/x-python",
   "name": "python",
   "nbconvert_exporter": "python",
   "pygments_lexer": "ipython3",
   "version": "3.11.6"
  }
 },
 "nbformat": 4,
 "nbformat_minor": 5
}
