{
 "cells": [
  {
   "cell_type": "markdown",
   "id": "1114ab92-20f4-411e-9509-4545416e537b",
   "metadata": {},
   "source": [
    "## Библиотеки"
   ]
  },
  {
   "cell_type": "code",
   "execution_count": 2,
   "id": "9e74d114-00b0-4461-aed4-017e9b6a7395",
   "metadata": {
    "tags": []
   },
   "outputs": [],
   "source": [
    "import pandas as pd\n",
    "import numpy as np\n",
    "from tqdm import tqdm\n",
    "from tqdm.notebook import tqdm\n",
    "import time\n",
    "#from pathlib import Path\n",
    "import glob\n",
    "import re\n",
    "from bs4 import BeautifulSoup\n",
    "import requests\n",
    "from ast import literal_eval\n",
    "from collections import OrderedDict\n",
    "from random import sample \n",
    "import warnings\n",
    "warnings.filterwarnings(\"ignore\")"
   ]
  },
  {
   "cell_type": "markdown",
   "id": "3daac7ee-2a8e-4c30-8912-0a3e49435c2e",
   "metadata": {},
   "source": [
    "## Загрузка файлов 1 способ"
   ]
  },
  {
   "cell_type": "code",
   "execution_count": 2,
   "id": "cb62cc2c-1627-4cbc-9a35-484fbbb0983d",
   "metadata": {},
   "outputs": [],
   "source": [
    "df1 = pd.read_csv('habr_310000_320000.csv')"
   ]
  },
  {
   "cell_type": "code",
   "execution_count": 3,
   "id": "861f1515-f932-441b-8977-ba7339dc4674",
   "metadata": {},
   "outputs": [],
   "source": [
    "n1 = range(320000, 540000, 10000)"
   ]
  },
  {
   "cell_type": "markdown",
   "id": "98571769-3dde-48ca-8bcc-281d518b8166",
   "metadata": {},
   "source": [
    "#### До 55000"
   ]
  },
  {
   "cell_type": "code",
   "execution_count": 4,
   "id": "183881a2-62ef-4afe-b6ce-6b338d9d0fc0",
   "metadata": {
    "collapsed": true,
    "jupyter": {
     "outputs_hidden": true
    },
    "tags": []
   },
   "outputs": [
    {
     "data": {
      "application/vnd.jupyter.widget-view+json": {
       "model_id": "0412862dae1b41b595fa015f0e70824f",
       "version_major": 2,
       "version_minor": 0
      },
      "text/plain": [
       "  0%|          | 0/22 [00:00<?, ?it/s]"
      ]
     },
     "metadata": {},
     "output_type": "display_data"
    },
    {
     "name": "stdout",
     "output_type": "stream",
     "text": [
      "Загрузили habr_320000_330000.csv\n",
      "Загрузили habr_330000_340000.csv\n",
      "Загрузили habr_340000_350000.csv\n",
      "Загрузили habr_350000_360000.csv\n",
      "Загрузили habr_360000_370000.csv\n",
      "Загрузили habr_370000_380000.csv\n",
      "Загрузили habr_380000_390000.csv\n",
      "Загрузили habr_390000_400000.csv\n",
      "Загрузили habr_400000_410000.csv\n",
      "Загрузили habr_410000_420000.csv\n",
      "Загрузили habr_420000_430000.csv\n",
      "Загрузили habr_430000_440000.csv\n",
      "Загрузили habr_440000_450000.csv\n",
      "Загрузили habr_450000_460000.csv\n",
      "Загрузили habr_460000_470000.csv\n",
      "Загрузили habr_470000_480000.csv\n",
      "Загрузили habr_480000_490000.csv\n",
      "Загрузили habr_490000_500000.csv\n",
      "Загрузили habr_500000_510000.csv\n",
      "Загрузили habr_510000_520000.csv\n",
      "Загрузили habr_520000_530000.csv\n",
      "Загрузили habr_530000_540000.csv\n",
      "Success! Загрузили датафрейм с 93048 числом строк\n",
      "CPU times: total: 40.8 s\n",
      "Wall time: 42.2 s\n"
     ]
    }
   ],
   "source": [
    "%%time\n",
    "for i in tqdm(n1):\n",
    "    df = pd.read_csv('habr_{0}_{1}.csv'.format(i, i+10000))\n",
    "    df1 = pd.concat([df1, df])\n",
    "    print('Загрузили habr_{0}_{1}.csv'.format(i, i+10000))\n",
    "print('Success! Загрузили датафрейм с {0} числом строк'.format(len(df1)))"
   ]
  },
  {
   "cell_type": "code",
   "execution_count": 5,
   "id": "9d5ff4c8-e6a5-4c78-a9b1-05e35ede0f65",
   "metadata": {},
   "outputs": [
    {
     "data": {
      "text/html": [
       "<div>\n",
       "<style scoped>\n",
       "    .dataframe tbody tr th:only-of-type {\n",
       "        vertical-align: middle;\n",
       "    }\n",
       "\n",
       "    .dataframe tbody tr th {\n",
       "        vertical-align: top;\n",
       "    }\n",
       "\n",
       "    .dataframe thead th {\n",
       "        text-align: right;\n",
       "    }\n",
       "</style>\n",
       "<table border=\"1\" class=\"dataframe\">\n",
       "  <thead>\n",
       "    <tr style=\"text-align: right;\">\n",
       "      <th></th>\n",
       "      <th>id</th>\n",
       "      <th>bookmarks</th>\n",
       "      <th>comments_count</th>\n",
       "      <th>views</th>\n",
       "      <th>votes</th>\n",
       "      <th>possitive_votes</th>\n",
       "      <th>negative_votes</th>\n",
       "      <th>reading_time</th>\n",
       "      <th>author_id</th>\n",
       "      <th>karma</th>\n",
       "      <th>karma_votes</th>\n",
       "      <th>rating</th>\n",
       "    </tr>\n",
       "  </thead>\n",
       "  <tbody>\n",
       "    <tr>\n",
       "      <th>count</th>\n",
       "      <td>93048.000000</td>\n",
       "      <td>93048.000000</td>\n",
       "      <td>93048.000000</td>\n",
       "      <td>9.304800e+04</td>\n",
       "      <td>93048.000000</td>\n",
       "      <td>93048.000000</td>\n",
       "      <td>93048.000000</td>\n",
       "      <td>93045.000000</td>\n",
       "      <td>9.304800e+04</td>\n",
       "      <td>93048.000000</td>\n",
       "      <td>93048.000000</td>\n",
       "      <td>93048.000000</td>\n",
       "    </tr>\n",
       "    <tr>\n",
       "      <th>mean</th>\n",
       "      <td>424535.811474</td>\n",
       "      <td>52.652652</td>\n",
       "      <td>36.266884</td>\n",
       "      <td>2.124376e+04</td>\n",
       "      <td>20.410025</td>\n",
       "      <td>23.702261</td>\n",
       "      <td>3.292236</td>\n",
       "      <td>6.164017</td>\n",
       "      <td>8.539305e+05</td>\n",
       "      <td>200.621120</td>\n",
       "      <td>575.990553</td>\n",
       "      <td>39.749885</td>\n",
       "    </tr>\n",
       "    <tr>\n",
       "      <th>std</th>\n",
       "      <td>66050.512495</td>\n",
       "      <td>81.716262</td>\n",
       "      <td>80.913995</td>\n",
       "      <td>4.143355e+04</td>\n",
       "      <td>25.727409</td>\n",
       "      <td>26.670846</td>\n",
       "      <td>5.890939</td>\n",
       "      <td>5.760165</td>\n",
       "      <td>7.787312e+05</td>\n",
       "      <td>336.709106</td>\n",
       "      <td>956.054745</td>\n",
       "      <td>98.596935</td>\n",
       "    </tr>\n",
       "    <tr>\n",
       "      <th>min</th>\n",
       "      <td>310000.000000</td>\n",
       "      <td>0.000000</td>\n",
       "      <td>0.000000</td>\n",
       "      <td>1.840000e+02</td>\n",
       "      <td>-103.000000</td>\n",
       "      <td>0.000000</td>\n",
       "      <td>0.000000</td>\n",
       "      <td>1.000000</td>\n",
       "      <td>1.000000e+00</td>\n",
       "      <td>-118.000000</td>\n",
       "      <td>0.000000</td>\n",
       "      <td>-23.400000</td>\n",
       "    </tr>\n",
       "    <tr>\n",
       "      <th>25%</th>\n",
       "      <td>369791.500000</td>\n",
       "      <td>13.000000</td>\n",
       "      <td>4.000000</td>\n",
       "      <td>5.885000e+03</td>\n",
       "      <td>8.000000</td>\n",
       "      <td>10.000000</td>\n",
       "      <td>0.000000</td>\n",
       "      <td>3.000000</td>\n",
       "      <td>6.275000e+04</td>\n",
       "      <td>11.000000</td>\n",
       "      <td>30.000000</td>\n",
       "      <td>0.000000</td>\n",
       "    </tr>\n",
       "    <tr>\n",
       "      <th>50%</th>\n",
       "      <td>422880.000000</td>\n",
       "      <td>28.000000</td>\n",
       "      <td>12.000000</td>\n",
       "      <td>1.161300e+04</td>\n",
       "      <td>14.000000</td>\n",
       "      <td>17.000000</td>\n",
       "      <td>2.000000</td>\n",
       "      <td>5.000000</td>\n",
       "      <td>7.070730e+05</td>\n",
       "      <td>48.000000</td>\n",
       "      <td>130.000000</td>\n",
       "      <td>0.000000</td>\n",
       "    </tr>\n",
       "    <tr>\n",
       "      <th>75%</th>\n",
       "      <td>478110.500000</td>\n",
       "      <td>62.000000</td>\n",
       "      <td>34.000000</td>\n",
       "      <td>2.279900e+04</td>\n",
       "      <td>25.000000</td>\n",
       "      <td>28.000000</td>\n",
       "      <td>4.000000</td>\n",
       "      <td>8.000000</td>\n",
       "      <td>1.467804e+06</td>\n",
       "      <td>212.000000</td>\n",
       "      <td>652.000000</td>\n",
       "      <td>0.300000</td>\n",
       "    </tr>\n",
       "    <tr>\n",
       "      <th>max</th>\n",
       "      <td>539998.000000</td>\n",
       "      <td>3813.000000</td>\n",
       "      <td>2545.000000</td>\n",
       "      <td>5.594334e+06</td>\n",
       "      <td>1447.000000</td>\n",
       "      <td>1450.000000</td>\n",
       "      <td>228.000000</td>\n",
       "      <td>127.000000</td>\n",
       "      <td>2.587253e+06</td>\n",
       "      <td>1820.000000</td>\n",
       "      <td>4239.000000</td>\n",
       "      <td>431.400000</td>\n",
       "    </tr>\n",
       "  </tbody>\n",
       "</table>\n",
       "</div>"
      ],
      "text/plain": [
       "                  id     bookmarks  comments_count         views  \\\n",
       "count   93048.000000  93048.000000    93048.000000  9.304800e+04   \n",
       "mean   424535.811474     52.652652       36.266884  2.124376e+04   \n",
       "std     66050.512495     81.716262       80.913995  4.143355e+04   \n",
       "min    310000.000000      0.000000        0.000000  1.840000e+02   \n",
       "25%    369791.500000     13.000000        4.000000  5.885000e+03   \n",
       "50%    422880.000000     28.000000       12.000000  1.161300e+04   \n",
       "75%    478110.500000     62.000000       34.000000  2.279900e+04   \n",
       "max    539998.000000   3813.000000     2545.000000  5.594334e+06   \n",
       "\n",
       "              votes  possitive_votes  negative_votes  reading_time  \\\n",
       "count  93048.000000     93048.000000    93048.000000  93045.000000   \n",
       "mean      20.410025        23.702261        3.292236      6.164017   \n",
       "std       25.727409        26.670846        5.890939      5.760165   \n",
       "min     -103.000000         0.000000        0.000000      1.000000   \n",
       "25%        8.000000        10.000000        0.000000      3.000000   \n",
       "50%       14.000000        17.000000        2.000000      5.000000   \n",
       "75%       25.000000        28.000000        4.000000      8.000000   \n",
       "max     1447.000000      1450.000000      228.000000    127.000000   \n",
       "\n",
       "          author_id         karma   karma_votes        rating  \n",
       "count  9.304800e+04  93048.000000  93048.000000  93048.000000  \n",
       "mean   8.539305e+05    200.621120    575.990553     39.749885  \n",
       "std    7.787312e+05    336.709106    956.054745     98.596935  \n",
       "min    1.000000e+00   -118.000000      0.000000    -23.400000  \n",
       "25%    6.275000e+04     11.000000     30.000000      0.000000  \n",
       "50%    7.070730e+05     48.000000    130.000000      0.000000  \n",
       "75%    1.467804e+06    212.000000    652.000000      0.300000  \n",
       "max    2.587253e+06   1820.000000   4239.000000    431.400000  "
      ]
     },
     "execution_count": 5,
     "metadata": {},
     "output_type": "execute_result"
    }
   ],
   "source": [
    "df1.describe()"
   ]
  },
  {
   "cell_type": "markdown",
   "id": "fc00cdce-ea40-4364-a28a-5e695697a01e",
   "metadata": {},
   "source": [
    "#### После 55000"
   ]
  },
  {
   "cell_type": "code",
   "execution_count": 6,
   "id": "a3ccc8ea-f3a1-4a3f-bdf3-7d541f22e783",
   "metadata": {},
   "outputs": [],
   "source": [
    "n2 = range(560000, 550000, 10000)"
   ]
  },
  {
   "cell_type": "code",
   "execution_count": 7,
   "id": "07297406-85de-4b11-bba5-9b0974573c88",
   "metadata": {},
   "outputs": [
    {
     "data": {
      "application/vnd.jupyter.widget-view+json": {
       "model_id": "bcf978e581b2459da5a6ab092c2faab6",
       "version_major": 2,
       "version_minor": 0
      },
      "text/plain": [
       "  0%|          | 0/22 [00:00<?, ?it/s]"
      ]
     },
     "metadata": {},
     "output_type": "display_data"
    },
    {
     "name": "stdout",
     "output_type": "stream",
     "text": [
      "Загрузили habr_320000_330000.csv\n",
      "Загрузили habr_330000_340000.csv\n",
      "Загрузили habr_340000_350000.csv\n",
      "Загрузили habr_350000_360000.csv\n",
      "Загрузили habr_360000_370000.csv\n",
      "Загрузили habr_370000_380000.csv\n",
      "Загрузили habr_380000_390000.csv\n",
      "Загрузили habr_390000_400000.csv\n",
      "Загрузили habr_400000_410000.csv\n",
      "Загрузили habr_410000_420000.csv\n",
      "Загрузили habr_420000_430000.csv\n",
      "Загрузили habr_430000_440000.csv\n",
      "Загрузили habr_440000_450000.csv\n",
      "Загрузили habr_450000_460000.csv\n",
      "Загрузили habr_460000_470000.csv\n",
      "Загрузили habr_470000_480000.csv\n",
      "Загрузили habr_480000_490000.csv\n",
      "Загрузили habr_490000_500000.csv\n",
      "Загрузили habr_500000_510000.csv\n",
      "Загрузили habr_510000_520000.csv\n",
      "Загрузили habr_520000_530000.csv\n",
      "Загрузили habr_530000_540000.csv\n",
      "Success! Загрузили датафрейм с 182116 числом строк\n",
      "CPU times: total: 42.3 s\n",
      "Wall time: 43.4 s\n"
     ]
    }
   ],
   "source": [
    "%%time\n",
    "for i in tqdm(n1):\n",
    "    df = pd.read_csv('habr_{0}_{1}.csv'.format(i, i+10000))\n",
    "    df1 = pd.concat([df1, df])\n",
    "    print('Загрузили habr_{0}_{1}.csv'.format(i, i+10000))\n",
    "print('Success! Загрузили датафрейм с {0} числом строк'.format(len(df1)))"
   ]
  },
  {
   "cell_type": "markdown",
   "id": "89477282-7816-4054-aebd-c1df571cadfe",
   "metadata": {},
   "source": [
    "## Загрузка файлов 2 способ (универсальный)"
   ]
  },
  {
   "cell_type": "code",
   "execution_count": 2,
   "id": "aa6963b4-db89-4133-98d7-dcc7d34a91e4",
   "metadata": {
    "collapsed": true,
    "jupyter": {
     "outputs_hidden": true
    },
    "tags": []
   },
   "outputs": [
    {
     "data": {
      "text/plain": [
       "['habr_310000_320000.csv',\n",
       " 'habr_320000_330000.csv',\n",
       " 'habr_330000_340000.csv',\n",
       " 'habr_340000_350000.csv',\n",
       " 'habr_350000_360000.csv',\n",
       " 'habr_360000_370000.csv',\n",
       " 'habr_370000_380000.csv',\n",
       " 'habr_380000_390000.csv',\n",
       " 'habr_390000_400000.csv',\n",
       " 'habr_400000_410000.csv',\n",
       " 'habr_410000_420000.csv',\n",
       " 'habr_420000_430000.csv',\n",
       " 'habr_430000_440000.csv',\n",
       " 'habr_440000_450000.csv',\n",
       " 'habr_450000_460000.csv',\n",
       " 'habr_460000_470000.csv',\n",
       " 'habr_470000_480000.csv',\n",
       " 'habr_480000_490000.csv',\n",
       " 'habr_490000_500000.csv',\n",
       " 'habr_500000_510000.csv',\n",
       " 'habr_510000_520000.csv',\n",
       " 'habr_520000_530000.csv',\n",
       " 'habr_530000_540000.csv',\n",
       " 'habr_540000_550000.csv',\n",
       " 'habr_560000_570000.csv',\n",
       " 'habr_570000_580000.csv',\n",
       " 'habr_580000_590000.csv',\n",
       " 'habr_590000_599115.csv',\n",
       " 'habr_600000_610000.csv',\n",
       " 'habr_610000_620000.csv',\n",
       " 'habr_620000_630000.csv',\n",
       " 'habr_630000_640000.csv',\n",
       " 'habr_640000_650000.csv',\n",
       " 'habr_650000_660000.csv',\n",
       " 'habr_660000_670000.csv',\n",
       " 'habr_670000_680000.csv',\n",
       " 'habr_680000_690000.csv',\n",
       " 'habr_690000_700000.csv',\n",
       " 'habr_700000_710000.csv',\n",
       " 'habr_710000_720000.csv',\n",
       " 'habr_720000_730000.csv',\n",
       " 'habr_730000_740000.csv',\n",
       " 'habr_740000_750000.csv',\n",
       " 'habr_750000_760000.csv',\n",
       " 'habr_760000_770000.csv',\n",
       " 'habr_770000_775000.csv']"
      ]
     },
     "execution_count": 2,
     "metadata": {},
     "output_type": "execute_result"
    }
   ],
   "source": [
    "filenames = glob.glob(\"*.csv\")\n",
    "filenames"
   ]
  },
  {
   "cell_type": "code",
   "execution_count": 3,
   "id": "020e39a1-fd60-4821-ae31-f3050615e24d",
   "metadata": {},
   "outputs": [
    {
     "data": {
      "application/vnd.jupyter.widget-view+json": {
       "model_id": "f37bc51061504cae9fc47b8987681b31",
       "version_major": 2,
       "version_minor": 0
      },
      "text/plain": [
       "  0%|          | 0/46 [00:00<?, ?it/s]"
      ]
     },
     "metadata": {},
     "output_type": "display_data"
    },
    {
     "name": "stdout",
     "output_type": "stream",
     "text": [
      "Success! Загрузили датафрейм с 170548 числом строк\n",
      "CPU times: total: 1min 9s\n",
      "Wall time: 1min 12s\n"
     ]
    }
   ],
   "source": [
    "%%time\n",
    "dfs = []\n",
    "for filename in tqdm(filenames):\n",
    "    dfs.append(pd.read_csv(filename))\n",
    "big_frame = pd.concat(dfs, ignore_index=True)\n",
    "print('Success! Загрузили датафрейм с {0} числом строк'.format(len(big_frame)))"
   ]
  },
  {
   "cell_type": "code",
   "execution_count": 8,
   "id": "3f646793-aa21-469d-89d4-40d794b50253",
   "metadata": {},
   "outputs": [
    {
     "data": {
      "text/html": [
       "<div>\n",
       "<style scoped>\n",
       "    .dataframe tbody tr th:only-of-type {\n",
       "        vertical-align: middle;\n",
       "    }\n",
       "\n",
       "    .dataframe tbody tr th {\n",
       "        vertical-align: top;\n",
       "    }\n",
       "\n",
       "    .dataframe thead th {\n",
       "        text-align: right;\n",
       "    }\n",
       "</style>\n",
       "<table border=\"1\" class=\"dataframe\">\n",
       "  <thead>\n",
       "    <tr style=\"text-align: right;\">\n",
       "      <th></th>\n",
       "      <th>id</th>\n",
       "      <th>bookmarks</th>\n",
       "      <th>comments_count</th>\n",
       "      <th>views</th>\n",
       "      <th>votes</th>\n",
       "      <th>possitive_votes</th>\n",
       "      <th>negative_votes</th>\n",
       "      <th>reading_time</th>\n",
       "      <th>author_id</th>\n",
       "      <th>karma</th>\n",
       "      <th>karma_votes</th>\n",
       "      <th>rating</th>\n",
       "    </tr>\n",
       "  </thead>\n",
       "  <tbody>\n",
       "    <tr>\n",
       "      <th>count</th>\n",
       "      <td>170548.000000</td>\n",
       "      <td>170548.000000</td>\n",
       "      <td>170548.000000</td>\n",
       "      <td>1.705480e+05</td>\n",
       "      <td>170548.000000</td>\n",
       "      <td>170548.000000</td>\n",
       "      <td>170548.000000</td>\n",
       "      <td>170545.000000</td>\n",
       "      <td>1.704790e+05</td>\n",
       "      <td>170479.000000</td>\n",
       "      <td>170479.000000</td>\n",
       "      <td>170479.000000</td>\n",
       "    </tr>\n",
       "    <tr>\n",
       "      <th>mean</th>\n",
       "      <td>536458.999871</td>\n",
       "      <td>40.544035</td>\n",
       "      <td>28.932389</td>\n",
       "      <td>1.568895e+04</td>\n",
       "      <td>17.645595</td>\n",
       "      <td>20.407586</td>\n",
       "      <td>2.761991</td>\n",
       "      <td>5.876848</td>\n",
       "      <td>1.319405e+06</td>\n",
       "      <td>178.411482</td>\n",
       "      <td>485.806492</td>\n",
       "      <td>53.646778</td>\n",
       "    </tr>\n",
       "    <tr>\n",
       "      <th>std</th>\n",
       "      <td>139828.140745</td>\n",
       "      <td>69.025450</td>\n",
       "      <td>72.161543</td>\n",
       "      <td>3.369037e+04</td>\n",
       "      <td>25.657524</td>\n",
       "      <td>26.786202</td>\n",
       "      <td>5.678293</td>\n",
       "      <td>5.642832</td>\n",
       "      <td>1.045420e+06</td>\n",
       "      <td>296.348375</td>\n",
       "      <td>788.074011</td>\n",
       "      <td>104.431554</td>\n",
       "    </tr>\n",
       "    <tr>\n",
       "      <th>min</th>\n",
       "      <td>310000.000000</td>\n",
       "      <td>0.000000</td>\n",
       "      <td>0.000000</td>\n",
       "      <td>1.900000e+01</td>\n",
       "      <td>-194.000000</td>\n",
       "      <td>0.000000</td>\n",
       "      <td>0.000000</td>\n",
       "      <td>1.000000</td>\n",
       "      <td>1.000000e+00</td>\n",
       "      <td>-118.000000</td>\n",
       "      <td>0.000000</td>\n",
       "      <td>-67.000000</td>\n",
       "    </tr>\n",
       "    <tr>\n",
       "      <th>25%</th>\n",
       "      <td>413614.500000</td>\n",
       "      <td>6.000000</td>\n",
       "      <td>2.000000</td>\n",
       "      <td>3.274750e+03</td>\n",
       "      <td>5.000000</td>\n",
       "      <td>7.000000</td>\n",
       "      <td>0.000000</td>\n",
       "      <td>2.000000</td>\n",
       "      <td>2.310130e+05</td>\n",
       "      <td>11.000000</td>\n",
       "      <td>30.000000</td>\n",
       "      <td>0.000000</td>\n",
       "    </tr>\n",
       "    <tr>\n",
       "      <th>50%</th>\n",
       "      <td>521709.000000</td>\n",
       "      <td>21.000000</td>\n",
       "      <td>8.000000</td>\n",
       "      <td>7.620000e+03</td>\n",
       "      <td>11.000000</td>\n",
       "      <td>13.000000</td>\n",
       "      <td>1.000000</td>\n",
       "      <td>4.000000</td>\n",
       "      <td>1.249256e+06</td>\n",
       "      <td>53.000000</td>\n",
       "      <td>150.000000</td>\n",
       "      <td>0.000000</td>\n",
       "    </tr>\n",
       "    <tr>\n",
       "      <th>75%</th>\n",
       "      <td>675408.500000</td>\n",
       "      <td>48.000000</td>\n",
       "      <td>25.000000</td>\n",
       "      <td>1.686100e+04</td>\n",
       "      <td>21.000000</td>\n",
       "      <td>24.000000</td>\n",
       "      <td>3.000000</td>\n",
       "      <td>8.000000</td>\n",
       "      <td>2.176401e+06</td>\n",
       "      <td>204.000000</td>\n",
       "      <td>599.000000</td>\n",
       "      <td>53.500000</td>\n",
       "    </tr>\n",
       "    <tr>\n",
       "      <th>max</th>\n",
       "      <td>773144.000000</td>\n",
       "      <td>3813.000000</td>\n",
       "      <td>2934.000000</td>\n",
       "      <td>5.594334e+06</td>\n",
       "      <td>1447.000000</td>\n",
       "      <td>1450.000000</td>\n",
       "      <td>343.000000</td>\n",
       "      <td>127.000000</td>\n",
       "      <td>3.866976e+06</td>\n",
       "      <td>1820.000000</td>\n",
       "      <td>4240.000000</td>\n",
       "      <td>431.400000</td>\n",
       "    </tr>\n",
       "  </tbody>\n",
       "</table>\n",
       "</div>"
      ],
      "text/plain": [
       "                  id      bookmarks  comments_count         views  \\\n",
       "count  170548.000000  170548.000000   170548.000000  1.705480e+05   \n",
       "mean   536458.999871      40.544035       28.932389  1.568895e+04   \n",
       "std    139828.140745      69.025450       72.161543  3.369037e+04   \n",
       "min    310000.000000       0.000000        0.000000  1.900000e+01   \n",
       "25%    413614.500000       6.000000        2.000000  3.274750e+03   \n",
       "50%    521709.000000      21.000000        8.000000  7.620000e+03   \n",
       "75%    675408.500000      48.000000       25.000000  1.686100e+04   \n",
       "max    773144.000000    3813.000000     2934.000000  5.594334e+06   \n",
       "\n",
       "               votes  possitive_votes  negative_votes   reading_time  \\\n",
       "count  170548.000000    170548.000000   170548.000000  170545.000000   \n",
       "mean       17.645595        20.407586        2.761991       5.876848   \n",
       "std        25.657524        26.786202        5.678293       5.642832   \n",
       "min      -194.000000         0.000000        0.000000       1.000000   \n",
       "25%         5.000000         7.000000        0.000000       2.000000   \n",
       "50%        11.000000        13.000000        1.000000       4.000000   \n",
       "75%        21.000000        24.000000        3.000000       8.000000   \n",
       "max      1447.000000      1450.000000      343.000000     127.000000   \n",
       "\n",
       "          author_id          karma    karma_votes         rating  \n",
       "count  1.704790e+05  170479.000000  170479.000000  170479.000000  \n",
       "mean   1.319405e+06     178.411482     485.806492      53.646778  \n",
       "std    1.045420e+06     296.348375     788.074011     104.431554  \n",
       "min    1.000000e+00    -118.000000       0.000000     -67.000000  \n",
       "25%    2.310130e+05      11.000000      30.000000       0.000000  \n",
       "50%    1.249256e+06      53.000000     150.000000       0.000000  \n",
       "75%    2.176401e+06     204.000000     599.000000      53.500000  \n",
       "max    3.866976e+06    1820.000000    4240.000000     431.400000  "
      ]
     },
     "execution_count": 8,
     "metadata": {},
     "output_type": "execute_result"
    }
   ],
   "source": [
    "big_frame.describe()"
   ]
  },
  {
   "cell_type": "code",
   "execution_count": 9,
   "id": "2e39b715-e8f9-4668-838e-b04c82e1c0a7",
   "metadata": {},
   "outputs": [
    {
     "name": "stdout",
     "output_type": "stream",
     "text": [
      "<class 'pandas.core.frame.DataFrame'>\n",
      "RangeIndex: 170548 entries, 0 to 170547\n",
      "Data columns (total 22 columns):\n",
      " #   Column           Non-Null Count   Dtype  \n",
      "---  ------           --------------   -----  \n",
      " 0   id               170548 non-null  int64  \n",
      " 1   is_corporative   170548 non-null  bool   \n",
      " 2   posttype         170548 non-null  object \n",
      " 3   title            170547 non-null  object \n",
      " 4   hubs_pro         170548 non-null  object \n",
      " 5   hubs_nopro       170548 non-null  object \n",
      " 6   tags             170548 non-null  object \n",
      " 7   time_published   170548 non-null  object \n",
      " 8   bookmarks        170548 non-null  int64  \n",
      " 9   comments_count   170548 non-null  int64  \n",
      " 10  views            170548 non-null  int64  \n",
      " 11  votes            170548 non-null  int64  \n",
      " 12  possitive_votes  170548 non-null  int64  \n",
      " 13  negative_votes   170548 non-null  int64  \n",
      " 14  reading_time     170545 non-null  float64\n",
      " 15  lang             170548 non-null  object \n",
      " 16  author_name      170479 non-null  object \n",
      " 17  author_id        170479 non-null  float64\n",
      " 18  karma            170479 non-null  float64\n",
      " 19  karma_votes      170479 non-null  float64\n",
      " 20  rating           170479 non-null  float64\n",
      " 21  text             170548 non-null  object \n",
      "dtypes: bool(1), float64(5), int64(7), object(9)\n",
      "memory usage: 27.5+ MB\n"
     ]
    }
   ],
   "source": [
    "big_frame.info()"
   ]
  },
  {
   "cell_type": "code",
   "execution_count": 10,
   "id": "aee452fc-5d9f-458d-9515-8748dfdcb63a",
   "metadata": {},
   "outputs": [
    {
     "data": {
      "text/html": [
       "<div>\n",
       "<style scoped>\n",
       "    .dataframe tbody tr th:only-of-type {\n",
       "        vertical-align: middle;\n",
       "    }\n",
       "\n",
       "    .dataframe tbody tr th {\n",
       "        vertical-align: top;\n",
       "    }\n",
       "\n",
       "    .dataframe thead th {\n",
       "        text-align: right;\n",
       "    }\n",
       "</style>\n",
       "<table border=\"1\" class=\"dataframe\">\n",
       "  <thead>\n",
       "    <tr style=\"text-align: right;\">\n",
       "      <th></th>\n",
       "      <th>id</th>\n",
       "      <th>is_corporative</th>\n",
       "      <th>posttype</th>\n",
       "      <th>title</th>\n",
       "      <th>hubs_pro</th>\n",
       "      <th>hubs_nopro</th>\n",
       "      <th>tags</th>\n",
       "      <th>time_published</th>\n",
       "      <th>bookmarks</th>\n",
       "      <th>comments_count</th>\n",
       "      <th>...</th>\n",
       "      <th>possitive_votes</th>\n",
       "      <th>negative_votes</th>\n",
       "      <th>reading_time</th>\n",
       "      <th>lang</th>\n",
       "      <th>author_name</th>\n",
       "      <th>author_id</th>\n",
       "      <th>karma</th>\n",
       "      <th>karma_votes</th>\n",
       "      <th>rating</th>\n",
       "      <th>text</th>\n",
       "    </tr>\n",
       "  </thead>\n",
       "  <tbody>\n",
       "    <tr>\n",
       "      <th>0</th>\n",
       "      <td>310000</td>\n",
       "      <td>True</td>\n",
       "      <td>article</td>\n",
       "      <td>Как мы неделю чинили compaction в Cassandra</td>\n",
       "      <td>[{'id': '221', 'alias': 'sys_admin', 'type': '...</td>\n",
       "      <td>[{'id': '18710', 'alias': 'okmeter', 'type': '...</td>\n",
       "      <td>cassandra,nosql,troubleshooting</td>\n",
       "      <td>2016-09-17T06:11:00+00:00</td>\n",
       "      <td>45</td>\n",
       "      <td>13</td>\n",
       "      <td>...</td>\n",
       "      <td>42</td>\n",
       "      <td>1</td>\n",
       "      <td>7.0</td>\n",
       "      <td>ru</td>\n",
       "      <td>NikolaySivko</td>\n",
       "      <td>1140878.0</td>\n",
       "      <td>63.0</td>\n",
       "      <td>69.0</td>\n",
       "      <td>0.0</td>\n",
       "      <td>&lt;div xmlns=\"http://www.w3.org/1999/xhtml\"&gt;&lt;p&gt;&lt;...</td>\n",
       "    </tr>\n",
       "    <tr>\n",
       "      <th>1</th>\n",
       "      <td>310002</td>\n",
       "      <td>True</td>\n",
       "      <td>article</td>\n",
       "      <td>Войны гипервизоров: To be continued</td>\n",
       "      <td>[{'id': '6398', 'alias': 'it-infrastructure', ...</td>\n",
       "      <td>[{'id': '17352', 'alias': 'cloud4y', 'type': '...</td>\n",
       "      <td>облачные вычисления,виртуализация,хостинг,гипе...</td>\n",
       "      <td>2016-09-15T07:56:08+00:00</td>\n",
       "      <td>19</td>\n",
       "      <td>23</td>\n",
       "      <td>...</td>\n",
       "      <td>12</td>\n",
       "      <td>12</td>\n",
       "      <td>5.0</td>\n",
       "      <td>ru</td>\n",
       "      <td>Cloud4Y</td>\n",
       "      <td>64252.0</td>\n",
       "      <td>178.0</td>\n",
       "      <td>348.0</td>\n",
       "      <td>62.3</td>\n",
       "      <td>&lt;div xmlns=\"http://www.w3.org/1999/xhtml\"&gt;&lt;p&gt;В...</td>\n",
       "    </tr>\n",
       "    <tr>\n",
       "      <th>2</th>\n",
       "      <td>310006</td>\n",
       "      <td>False</td>\n",
       "      <td>article</td>\n",
       "      <td>AdBlock Plus совершил новый виток в истории «п...</td>\n",
       "      <td>[{'id': '20704', 'alias': 'web_monetization', ...</td>\n",
       "      <td>[]</td>\n",
       "      <td>adblock plus,блокировка рекламы,медийная рекла...</td>\n",
       "      <td>2016-09-14T14:26:49+00:00</td>\n",
       "      <td>35</td>\n",
       "      <td>83</td>\n",
       "      <td>...</td>\n",
       "      <td>37</td>\n",
       "      <td>1</td>\n",
       "      <td>8.0</td>\n",
       "      <td>ru</td>\n",
       "      <td>semen_grinshtein</td>\n",
       "      <td>925306.0</td>\n",
       "      <td>41.0</td>\n",
       "      <td>455.0</td>\n",
       "      <td>0.0</td>\n",
       "      <td>&lt;div xmlns=\"http://www.w3.org/1999/xhtml\"&gt;&lt;img...</td>\n",
       "    </tr>\n",
       "    <tr>\n",
       "      <th>3</th>\n",
       "      <td>310008</td>\n",
       "      <td>True</td>\n",
       "      <td>article</td>\n",
       "      <td>Миф о незрелости мобильных NFC технологий</td>\n",
       "      <td>[{'id': '50', 'alias': 'infosecurity', 'type':...</td>\n",
       "      <td>[{'id': '19765', 'alias': 'gemaltorussia', 'ty...</td>\n",
       "      <td>Gemalto,nfc,мобильные приложения,мобильный пла...</td>\n",
       "      <td>2016-09-15T08:02:54+00:00</td>\n",
       "      <td>12</td>\n",
       "      <td>8</td>\n",
       "      <td>...</td>\n",
       "      <td>12</td>\n",
       "      <td>3</td>\n",
       "      <td>2.0</td>\n",
       "      <td>ru</td>\n",
       "      <td>GemaltoRussia</td>\n",
       "      <td>1185068.0</td>\n",
       "      <td>3.0</td>\n",
       "      <td>3.0</td>\n",
       "      <td>0.0</td>\n",
       "      <td>&lt;div xmlns=\"http://www.w3.org/1999/xhtml\"&gt;Совр...</td>\n",
       "    </tr>\n",
       "    <tr>\n",
       "      <th>4</th>\n",
       "      <td>310014</td>\n",
       "      <td>True</td>\n",
       "      <td>article</td>\n",
       "      <td>OpenJDK: Project Panama</td>\n",
       "      <td>[{'id': '359', 'alias': 'programming', 'type':...</td>\n",
       "      <td>[{'id': '18226', 'alias': 'jugru', 'type': 'co...</td>\n",
       "      <td>joker2016,jokerconf,java,jvm,panama</td>\n",
       "      <td>2016-09-15T06:30:51+00:00</td>\n",
       "      <td>50</td>\n",
       "      <td>12</td>\n",
       "      <td>...</td>\n",
       "      <td>36</td>\n",
       "      <td>2</td>\n",
       "      <td>9.0</td>\n",
       "      <td>ru</td>\n",
       "      <td>jetliner</td>\n",
       "      <td>433372.0</td>\n",
       "      <td>16.0</td>\n",
       "      <td>16.0</td>\n",
       "      <td>0.0</td>\n",
       "      <td>&lt;div xmlns=\"http://www.w3.org/1999/xhtml\"&gt;&lt;img...</td>\n",
       "    </tr>\n",
       "  </tbody>\n",
       "</table>\n",
       "<p>5 rows × 22 columns</p>\n",
       "</div>"
      ],
      "text/plain": [
       "       id  is_corporative posttype  \\\n",
       "0  310000            True  article   \n",
       "1  310002            True  article   \n",
       "2  310006           False  article   \n",
       "3  310008            True  article   \n",
       "4  310014            True  article   \n",
       "\n",
       "                                               title  \\\n",
       "0        Как мы неделю чинили compaction в Cassandra   \n",
       "1                Войны гипервизоров: To be continued   \n",
       "2  AdBlock Plus совершил новый виток в истории «п...   \n",
       "3          Миф о незрелости мобильных NFC технологий   \n",
       "4                            OpenJDK: Project Panama   \n",
       "\n",
       "                                            hubs_pro  \\\n",
       "0  [{'id': '221', 'alias': 'sys_admin', 'type': '...   \n",
       "1  [{'id': '6398', 'alias': 'it-infrastructure', ...   \n",
       "2  [{'id': '20704', 'alias': 'web_monetization', ...   \n",
       "3  [{'id': '50', 'alias': 'infosecurity', 'type':...   \n",
       "4  [{'id': '359', 'alias': 'programming', 'type':...   \n",
       "\n",
       "                                          hubs_nopro  \\\n",
       "0  [{'id': '18710', 'alias': 'okmeter', 'type': '...   \n",
       "1  [{'id': '17352', 'alias': 'cloud4y', 'type': '...   \n",
       "2                                                 []   \n",
       "3  [{'id': '19765', 'alias': 'gemaltorussia', 'ty...   \n",
       "4  [{'id': '18226', 'alias': 'jugru', 'type': 'co...   \n",
       "\n",
       "                                                tags  \\\n",
       "0                    cassandra,nosql,troubleshooting   \n",
       "1  облачные вычисления,виртуализация,хостинг,гипе...   \n",
       "2  adblock plus,блокировка рекламы,медийная рекла...   \n",
       "3  Gemalto,nfc,мобильные приложения,мобильный пла...   \n",
       "4                joker2016,jokerconf,java,jvm,panama   \n",
       "\n",
       "              time_published  bookmarks  comments_count  ...  possitive_votes  \\\n",
       "0  2016-09-17T06:11:00+00:00         45              13  ...               42   \n",
       "1  2016-09-15T07:56:08+00:00         19              23  ...               12   \n",
       "2  2016-09-14T14:26:49+00:00         35              83  ...               37   \n",
       "3  2016-09-15T08:02:54+00:00         12               8  ...               12   \n",
       "4  2016-09-15T06:30:51+00:00         50              12  ...               36   \n",
       "\n",
       "   negative_votes  reading_time  lang       author_name  author_id  karma  \\\n",
       "0               1           7.0    ru      NikolaySivko  1140878.0   63.0   \n",
       "1              12           5.0    ru           Cloud4Y    64252.0  178.0   \n",
       "2               1           8.0    ru  semen_grinshtein   925306.0   41.0   \n",
       "3               3           2.0    ru     GemaltoRussia  1185068.0    3.0   \n",
       "4               2           9.0    ru          jetliner   433372.0   16.0   \n",
       "\n",
       "   karma_votes  rating                                               text  \n",
       "0         69.0     0.0  <div xmlns=\"http://www.w3.org/1999/xhtml\"><p><...  \n",
       "1        348.0    62.3  <div xmlns=\"http://www.w3.org/1999/xhtml\"><p>В...  \n",
       "2        455.0     0.0  <div xmlns=\"http://www.w3.org/1999/xhtml\"><img...  \n",
       "3          3.0     0.0  <div xmlns=\"http://www.w3.org/1999/xhtml\">Совр...  \n",
       "4         16.0     0.0  <div xmlns=\"http://www.w3.org/1999/xhtml\"><img...  \n",
       "\n",
       "[5 rows x 22 columns]"
      ]
     },
     "execution_count": 10,
     "metadata": {},
     "output_type": "execute_result"
    }
   ],
   "source": [
    "big_frame.head()"
   ]
  },
  {
   "cell_type": "markdown",
   "id": "23c58a87-da0e-4e0b-9b87-015784ad6bd4",
   "metadata": {},
   "source": [
    "## Извлечение текста"
   ]
  },
  {
   "cell_type": "code",
   "execution_count": 11,
   "id": "85779ac1-2c5c-4d28-91f6-d8ae194b78f8",
   "metadata": {},
   "outputs": [],
   "source": [
    "big_frame_text = big_frame.copy()"
   ]
  },
  {
   "cell_type": "code",
   "execution_count": 12,
   "id": "3d39bbf8-2feb-485c-a2e9-cdaffc968180",
   "metadata": {},
   "outputs": [
    {
     "data": {
      "text/plain": [
       "\"[{'id': '221', 'alias': 'sys_admin', 'type': 'collective', 'title': 'System administration', 'titleHtml': 'System administration', 'isProfiled': True, 'relatedData': None}, {'id': '19197', 'alias': 'dwh', 'type': 'collective', 'title': 'Data storage', 'titleHtml': 'Data storage', 'isProfiled': True, 'relatedData': None}, {'id': '20788', 'alias': 'devops', 'type': 'collective', 'title': 'DevOps', 'titleHtml': 'DevOps', 'isProfiled': True, 'relatedData': None}]\""
      ]
     },
     "execution_count": 12,
     "metadata": {},
     "output_type": "execute_result"
    }
   ],
   "source": [
    "big_frame['hubs_pro'][0]"
   ]
  },
  {
   "cell_type": "markdown",
   "id": "fed01c6b-19db-43bc-b9c5-8316300f75fc",
   "metadata": {},
   "source": [
    "#### Функция для извлечения текста хабов"
   ]
  },
  {
   "cell_type": "code",
   "execution_count": 13,
   "id": "544bc232-2698-48c7-89d9-1a23ecf4d701",
   "metadata": {},
   "outputs": [
    {
     "name": "stdout",
     "output_type": "stream",
     "text": [
      "['System administration', 'Data storage', 'DevOps']\n"
     ]
    }
   ],
   "source": [
    "def extract_text_after_titleHtml(text):\n",
    "    pattern = r\"'titleHtml': '([^']+)'\"\n",
    "    matches = re.findall(pattern, text)\n",
    "    return matches\n",
    "result = extract_text_after_titleHtml(big_frame['hubs_pro'][0])\n",
    "print(result)"
   ]
  },
  {
   "cell_type": "markdown",
   "id": "4a4be816-912b-45bb-ae68-c6d5805b4ffb",
   "metadata": {},
   "source": [
    "#### Извлечение текста хабов про"
   ]
  },
  {
   "cell_type": "code",
   "execution_count": 14,
   "id": "38821ab3-4404-4fe9-a5c7-ef7e0e8ae47a",
   "metadata": {},
   "outputs": [
    {
     "data": {
      "application/vnd.jupyter.widget-view+json": {
       "model_id": "7be56a95162b4144b76bd61cc9584a74",
       "version_major": 2,
       "version_minor": 0
      },
      "text/plain": [
       "  0%|          | 0/170548 [00:00<?, ?it/s]"
      ]
     },
     "metadata": {},
     "output_type": "display_data"
    },
    {
     "name": "stdout",
     "output_type": "stream",
     "text": [
      "Success!\n"
     ]
    }
   ],
   "source": [
    "for i in tqdm(big_frame_text.index):\n",
    "    text = big_frame_text['hubs_pro'][i]\n",
    "    big_frame_text['hubs_pro'][i] = extract_text_after_titleHtml(text)\n",
    "print('Success!')"
   ]
  },
  {
   "cell_type": "markdown",
   "id": "80261e86-87f0-4452-92a9-85ee8b796c19",
   "metadata": {},
   "source": [
    "#### Извлечение текста хабов НЕпро"
   ]
  },
  {
   "cell_type": "code",
   "execution_count": 15,
   "id": "cd6f90f1-2efc-4d26-9074-59aef5b4d448",
   "metadata": {},
   "outputs": [
    {
     "data": {
      "application/vnd.jupyter.widget-view+json": {
       "model_id": "79fb421eb3b2422f8c232698e0416ad6",
       "version_major": 2,
       "version_minor": 0
      },
      "text/plain": [
       "  0%|          | 0/170548 [00:00<?, ?it/s]"
      ]
     },
     "metadata": {},
     "output_type": "display_data"
    },
    {
     "name": "stdout",
     "output_type": "stream",
     "text": [
      "Success!\n",
      "CPU times: total: 1min 13s\n",
      "Wall time: 4min 48s\n"
     ]
    }
   ],
   "source": [
    "%%time\n",
    "for i in tqdm(big_frame_text.index):\n",
    "    text = big_frame_text['hubs_nopro'][i]\n",
    "    big_frame_text['hubs_nopro'][i] = extract_text_after_titleHtml(text)\n",
    "print('Success!')"
   ]
  },
  {
   "cell_type": "markdown",
   "id": "e7e4bd14-46ba-4bb1-b8f0-031c19985e8e",
   "metadata": {},
   "source": [
    "#### Старые версии функций для текста"
   ]
  },
  {
   "cell_type": "code",
   "execution_count": 34,
   "id": "8b288d0b-151f-4f6d-a62b-1ee2f4b9737e",
   "metadata": {
    "collapsed": true,
    "jupyter": {
     "outputs_hidden": true
    },
    "tags": []
   },
   "outputs": [
    {
     "name": "stdout",
     "output_type": "stream",
     "text": [
      "['img src=\"https://habrastorage.org/r/w780q1/files/e81/f9e/22e/e81f9e22e7094c13add85d41f8c3c6cc.jpg\" align=\"left\" width=\"350\" data-src=\"https://habrastorage.org/files/e81/f9e/22e/e81f9e22e7094c13add85d41f8c3c6cc.jpg\" data-blurred=\"true\"/> Основным хранилищем метрик у нас является cassandra, мы используем её уже более трех лет. Для всех предыдущих проблем мы успешно находили решение, используя встроенные средства диагностики кассандры. ', 'p>В кассандре достаточно информативное логгирование (особенно на уровне DEBUG, который можно включить на лету), подробные метрики, доступные через JMX и богатый набор утилит (nodetool, sstable*).', 'p>Но недавно мы столкнулись с одной достаточно интересной проблемой, и нам пришлось серьезно поломать голову, почитать исходный код кассандры, чтобы разобраться, что происходит.', 'br/>\\r\\n', 'br/>\\r\\n', 'p>Причем, что это происходит только на трех серверах из 9:', 'br/>\\r\\n', '/strong>, мы иницировали этот процесс через JMX.', '/em>', '/strong> запускает compaction только на той ноде, с которой мы работаем.', 'br/>\\r\\n', 'p>Таким образом у нас появился костыль, позволяющий в ручном режиме держать показатели работы кассандры на приемлемом уровне. Мы поставили принудительный compaction в крон на проблемных нодах, и график времени ответа на чтение стал выглядеть так:', 'br/>\\r\\n', 'p>В данный момент мы используем cassandra 2.1.15, но в JIRA обнаружили несколько похожих багов, исправленных в версиях 2.2+. ', 'p>Так как хороших идей на тот момент не было, мы решили обновить одну из проблемных нод до 2.2 (тем более мы все равно собирались это делать и наше приложение уже было протестировано с 2.2). Обновление прошло гладко, но нашу проблему это не решило. ', 'p>Чтобы не вносить дополнительной энтропии в текущую ситуацию, кластер целиком мы решили не обновлять и вернуться на 2.1 (это делается через удаление ноды из кластера и возвращеним обратно со старой версией). ', '/a> со следуюшими настройками:', 'p>Это позволяет для нашего случая добиться, чтобы данные за один и тот же интервал времени лежали рядом и не перемешивались со старыми данными. В тоже время данные, старше 90 дней не должны компактиться вообще, это исключит ненужную нагрузку на диски, так как эти данные уже точно не будут меняться.', 'p>Появляется гипотеза: вдруг наши sstable не компактятся, потому что кассандра думает, что они старше 90 дней?', 'p>Время, на которое опирается кассандра — это внутренний таймстамп, который обязательно есть у каждой колонки. Кассандра либо проставляет текущий таймстамп при записи данных, либо он может быть задан клиентом:', 'p>(мы не используем эту фичу). ', '/a>, мы нашли аномальное значение таймстампа:', '/a> обнаружилось такое:', 'p>Now в нашем случае:', 'p>То есть еще 182 тысячи лет можно даже не надеяться на compaction:)', \"/strong> получили человекочитаемый файлик размером 125Gb и начали его grep'ать. Выяснилось, что есть одна битая колонка (второстепенная метрика одного тестового проекта), которую можно смело удалить.\", '/a>, стало понятно, что timestamp он не читает и сделать красивый патч достаточно сложно, мы сделали некрасивый:', '/strong> ключ битой записи, который мы знаем в результате упражнений с sstable2json. ', '/strong> работает очень быстро, практически на скорости записи на диск. Так как sstable — это immutable структура, любые модификации создают новую sstable, то есть для scrub нужно обеспечить достаточный объем свободного места на дисках. Для нас это оказалось проблемой, пришлось делать scrub на другом сервере и копировать зачищенную sstable обратно на нужный сервер.', 'p>После зачистки битой записи, наша таблица начала компактиться сама. ', 'p>Но на одной ноде мы заметили, что постоянно компактится одна достаточно увесистая sstable (сама с собой) размером больше 100Gb:', 'br/>\\r\\n', 'p>Тут видно как этот файлик мигрировал с ssd1 на ssd2 и обратно.', 'p>В логе так же была ошибка о нехватке места:', 'p>Но зачем вообще компактить 1 sstable? Пришлось разбираться, как вообще выбираются sstable для compaction в DateTieredCompactionStrategy: ', 'p>При уровне логгирования DEBUG стало видно, что в нашем случае:', 'p>Я не берусь судить баг это или фича (может при использовании TTL есть необходимость компактить 1 файл), но нам нужно было это как-то разрулить. Мы решили, что нужно просто найти способ дать кассандре их закомпактить.', 'p>Мы используем серверы, в которых 2 sata диска и 2 ssd. Проблемы с местом у нас возникают на ssd, мы решили, что кандидаты для этой проблемной компактизации мы скопируем на диск, поставим линки на ssd, тем самым освободим место на ssd для результирующей sstable. Это сработало и компактизация на этой машине стала работать в обычном режиме.', 'br/>\\r\\n', 'p>На этом графике видно, как в процессе участвовал hdd2.']\n"
     ]
    }
   ],
   "source": [
    "def extract_text_before_p(text):\n",
    "    pattern = r'([^<]+)</p>'\n",
    "    matches = re.findall(pattern, text)\n",
    "    return matches\n",
    "test = big_frame['text'][0]\n",
    "print(extract_text_before_p(test))"
   ]
  },
  {
   "cell_type": "code",
   "execution_count": 48,
   "id": "2505b14b-d6fb-43a7-9323-0f0e05cd15df",
   "metadata": {
    "collapsed": true,
    "jupyter": {
     "outputs_hidden": true
    },
    "tags": []
   },
   "outputs": [
    {
     "name": "stdout",
     "output_type": "stream",
     "text": [
      "['img src=\"https://habrastorage.org/r/w780q1/files/e81/f9e/22e/e81f9e22e7094c13add85d41f8c3c6cc.jpg\" align=\"left\" width=\"350\" data-src=\"https://habrastorage.org/files/e81/f9e/22e/e81f9e22e7094c13add85d41f8c3c6cc.jpg\" data-blurred=\"true\"/> Основным хранилищем метрик у нас является cassandra, мы используем её уже более трех лет. Для всех предыдущих проблем мы успешно находили решение, используя встроенные средства диагностики кассандры. ', 'p>В кассандре достаточно информативное логгирование (особенно на уровне DEBUG, который можно включить на лету), подробные метрики, доступные через JMX и богатый набор утилит (nodetool, sstable*).', 'p>Но недавно мы столкнулись с одной достаточно интересной проблемой, и нам пришлось серьезно поломать голову, почитать исходный код кассандры, чтобы разобраться, что происходит.', 'br/>\\r\\n', 'br/>\\r\\n', 'p>Причем, что это происходит только на трех серверах из 9:', 'br/>\\r\\n', '/strong>, мы иницировали этот процесс через JMX.', '/em>', '/strong> запускает compaction только на той ноде, с которой мы работаем.', 'br/>\\r\\n', 'p>Таким образом у нас появился костыль, позволяющий в ручном режиме держать показатели работы кассандры на приемлемом уровне. Мы поставили принудительный compaction в крон на проблемных нодах, и график времени ответа на чтение стал выглядеть так:', 'br/>\\r\\n', 'p>В данный момент мы используем cassandra 2.1.15, но в JIRA обнаружили несколько похожих багов, исправленных в версиях 2.2+. ', 'p>Так как хороших идей на тот момент не было, мы решили обновить одну из проблемных нод до 2.2 (тем более мы все равно собирались это делать и наше приложение уже было протестировано с 2.2). Обновление прошло гладко, но нашу проблему это не решило. ', 'p>Чтобы не вносить дополнительной энтропии в текущую ситуацию, кластер целиком мы решили не обновлять и вернуться на 2.1 (это делается через удаление ноды из кластера и возвращеним обратно со старой версией). ', '/a> со следуюшими настройками:', 'p>Это позволяет для нашего случая добиться, чтобы данные за один и тот же интервал времени лежали рядом и не перемешивались со старыми данными. В тоже время данные, старше 90 дней не должны компактиться вообще, это исключит ненужную нагрузку на диски, так как эти данные уже точно не будут меняться.', 'p>Появляется гипотеза: вдруг наши sstable не компактятся, потому что кассандра думает, что они старше 90 дней?', 'p>Время, на которое опирается кассандра — это внутренний таймстамп, который обязательно есть у каждой колонки. Кассандра либо проставляет текущий таймстамп при записи данных, либо он может быть задан клиентом:', 'p>(мы не используем эту фичу). ', '/a>, мы нашли аномальное значение таймстампа:', '/a> обнаружилось такое:', 'p>Now в нашем случае:', 'p>То есть еще 182 тысячи лет можно даже не надеяться на compaction:)', \"/strong> получили человекочитаемый файлик размером 125Gb и начали его grep'ать. Выяснилось, что есть одна битая колонка (второстепенная метрика одного тестового проекта), которую можно смело удалить.\", '/a>, стало понятно, что timestamp он не читает и сделать красивый патч достаточно сложно, мы сделали некрасивый:', '/strong> ключ битой записи, который мы знаем в результате упражнений с sstable2json. ', '/strong> работает очень быстро, практически на скорости записи на диск. Так как sstable — это immutable структура, любые модификации создают новую sstable, то есть для scrub нужно обеспечить достаточный объем свободного места на дисках. Для нас это оказалось проблемой, пришлось делать scrub на другом сервере и копировать зачищенную sstable обратно на нужный сервер.', 'p>После зачистки битой записи, наша таблица начала компактиться сама. ', 'p>Но на одной ноде мы заметили, что постоянно компактится одна достаточно увесистая sstable (сама с собой) размером больше 100Gb:', 'br/>\\r\\n', 'p>Тут видно как этот файлик мигрировал с ssd1 на ssd2 и обратно.', 'p>В логе так же была ошибка о нехватке места:', 'p>Но зачем вообще компактить 1 sstable? Пришлось разбираться, как вообще выбираются sstable для compaction в DateTieredCompactionStrategy: ', 'p>При уровне логгирования DEBUG стало видно, что в нашем случае:', 'p>Я не берусь судить баг это или фича (может при использовании TTL есть необходимость компактить 1 файл), но нам нужно было это как-то разрулить. Мы решили, что нужно просто найти способ дать кассандре их закомпактить.', 'p>Мы используем серверы, в которых 2 sata диска и 2 ssd. Проблемы с местом у нас возникают на ssd, мы решили, что кандидаты для этой проблемной компактизации мы скопируем на диск, поставим линки на ssd, тем самым освободим место на ssd для результирующей sstable. Это сработало и компактизация на этой машине стала работать в обычном режиме.', 'br/>\\r\\n', 'p>На этом графике видно, как в процессе участвовал hdd2.']\n"
     ]
    }
   ],
   "source": [
    "def remove_html_tags(text):\n",
    "    clean = re.compile('<[^>]*?>') # re.sub(r'<[^>]*?>', '', value)\n",
    "    return re.sub(clean, '', text)\n",
    "test = big_frame['text'][0]\n",
    "result = extract_text_before_p(test)\n",
    "print(result)"
   ]
  },
  {
   "cell_type": "markdown",
   "id": "59e67b78-9f07-4af2-bf92-ba4fe60227fb",
   "metadata": {},
   "source": [
    "####  Новая версия функции для текста"
   ]
  },
  {
   "cell_type": "code",
   "execution_count": 16,
   "id": "3795ad02-c743-443e-91a4-76eaa023d628",
   "metadata": {
    "collapsed": true,
    "jupyter": {
     "outputs_hidden": true
    },
    "tags": []
   },
   "outputs": [
    {
     "data": {
      "text/plain": [
       "'<div xmlns=\"http://www.w3.org/1999/xhtml\"><img src=\"https://habrastorage.org/r/w780q1/getpro/habr/post_images/c14/98c/bb6/c1498cbb60dbfbe9512835e61b29f994.jpg\" width=\"700\" data-src=\"https://habrastorage.org/getpro/habr/post_images/c14/98c/bb6/c1498cbb60dbfbe9512835e61b29f994.jpg\" data-blurred=\"true\"/><br/>\\r\\n<br/>\\r\\nОдин из крупнейших в мире блокировщиков рекламы AdBlock Plus порадовал рекламодателей новой инициативой. Разработчики блокировщика <a href=\"https://adblockplus.org/blog/new-acceptable-ads-platform-launches-bringing-feedback-to-rtb-and-help-to-small-websites\">запустили</a> платформу Acceptable Ads Platform (<a href=\"https://acceptableads.com/en/platform/\">AAP</a>), предназначенную для размещения на сайтах рекламы из списка «приемлемых объявлений» (Acceptable Ads). Приемлемую рекламу можно устанавливать вместо обычных баннеров, которые блокирует Adblock Plus.<br/>\\r\\n<br/>\\r\\nСама программа «Приемлемой рекламы» была запущена еще в 2011 году. Тогда же Eyeo, компания-разработчик Adblock Plus, признала, что сотрудничала с партнерами в рамках этой программы не безвозмездно. <a name=\"habracut\"></a>Недовольным пользователям компания предлагала просто изменить настройки блокировщика.<br/>\\r\\n<blockquote>В настройках опция «Разрешить ненавязчивую рекламу» выбрана по умолчанию. Разработчик признает, что «белый список» держится именно на лени — большинство пользователей не любят залезать в настройки без необходимости. В целом компания не считает зазорным зарабатывать деньги на лени, неграмотности и невнимательности аудитории. Ведь далеко не все граждане общаются с компьютером на «ты».</blockquote><br/>\\r\\n<h3>Монетизация или продажность</h3><br/>\\r\\nНекоторое время сервис обходил стороной тему монетизации и не раскрывал, сколько именно он зарабатывает на «белом списке». Единственные данные, которые публиковала компания, это статистика работы с рекламодателями и онлайн-площадками. Но на основании этой статистики нельзя было оценить доход Eyeo по соответствующей статье.<br/>\\r\\n<br/>\\r\\nТеперь Adblock Plus решил приоткрыть и эту завесу. Однако представители сервиса <a href=\"https://adblockplus.org/blog/acceptable-ads-explained-monetization\">отметили</a>, что недопустимая реклама не сможет попасть в лист исключений даже за деньги. Блокировщику платят только «большие» сайты, которые получают доход от показа баннеров из «белого списка».<br/>\\r\\n<br/>\\r\\nБольшим считается сайт, реклама на котором после попадания в «белый список» будет показана более 10 миллионов раз в месяц. При этом учитывается не весь трафик, а только показы рекламы из «белого списка». Если учесть, что блокировщиками обычно пользуется около 5% аудитории, такой сайт должен иметь минимум 200 миллионов показов.<br/>\\r\\n <br/>\\r\\nБольшими являются 10% сайтов, с которыми сотрудничает AdBlock Plus. Площадки перечисляют сервису процент от рекламной прибыли.<br/>\\r\\n<blockquote>Благодаря тому, что Google платит Eyeo GmbH за участие в программе допустимой рекламы, пользователи видят объявления Google AdWords в рекламных ссылках рядом с релевантными результатами поиска. Когда пользователи обнаружили сей вопиющий факт, они расценили это как «лазейку» для Google.</blockquote><br/>\\r\\nНесмотря на то, что Eyeo особенно и не скрывала наличие платных партнеров, некоторые пользователи с обостренным чувством справедливости оскорбились и обвинили ее в продажности. <br/>\\r\\n<br/>\\r\\nСкандал разгорелся после серии публикаций на немецком портале Mobile Geeks. Блогер Саша Палленберг <a href=\"http://www.mobilegeeks.de/adblock-plus-adblockgate-eyo-gmbh/\">сообщил</a>, что Adblock Plus обманывает пользователей и пропускает часть рекламы. По его информации, разработчик также тренировался на фейковых аккаунтах и передавал их системе eCircle, которая занимается рассылкой спама по электронной почте.<br/>\\r\\n<br/>\\r\\nИ как раз тогда, в июле 2013 года, компания Eyeo публично <a href=\"https://adblockplus.org/ru/acceptable-ads-agreements#verification\">признала</a>, что делает исключения для некоторых рекламодателей. Adblock Plus заключает соглашения с интернет-площадками и рекламными сетями, которые желают участвовать в программе доступной рекламы. Но при этом рекламодатели должны гарантировать, что реклама соответствует критериям. В частности, <a href=\"https://adblockplus.org/ru/acceptable-ads#list\">не допускается</a> размещение рекламы с анимацией и звуками, в середине текста и с блокировкой страницы.<br/>\\r\\n<br/>\\r\\nПо данным опроса Adblock Plus, лишь 25% пользователей настроены против любой рекламы. Остальные согласны на некоторые виды рекламы, так как понимают, что это необходимо для монетизации сайтов. <br/>\\r\\n<br/>\\r\\n<h3>«Мы пойдем другим путем»</h3><br/>\\r\\nДругие крупные сайты решили не платить блокировщику, а поступить более жестко. В июне 2016 года один из крупнейших издательских домов — немецкий Axel Springer (издания Business Insider, Bild, Maxim и другие) — добился от Adblock Plus бесплатного включения в «белый список» неблокируемой медийной интернет-рекламы. Для этого медиахолдинг обратился в немецкий суд.<br/>\\r\\n<br/>\\r\\nЭто позволит Axel Springer увеличить охват своей аудитории на 100 миллионов потенциальных покупателей. Победа Axel Springer может вызвать резкий рост количества исков к Eyeo со стороны ее партнеров.<br/>\\r\\n<br/>\\r\\n<h3>Сами с усами</h3><br/>\\r\\nИ вот, через 5 лет после появления программы «Приемлемой рекламы», AdBlock Plus <a href=\"http://www.theverge.com/2016/9/13/12890050/adblock-plus-now-sells-ads\">решился</a> самостоятельно продавать медийную рекламу. Новая платформа (AAP) объединяет функции SSP и рекламной биржи. Система делает процесс добавления в «белый список» более быстрым, простым и прозрачным. Операционный директор Eyeo Бен Уильямс называет AAP «компромиссом между пользователями и рекламодателями».<br/>\\r\\n<br/>\\r\\n<div style=\"text-align:center;\"><img src=\"https://habrastorage.org/r/w1560/getpro/habr/post_images/360/676/648/36067664813309d6044d4a6d0b08652c.png\" data-src=\"https://habrastorage.org/getpro/habr/post_images/360/676/648/36067664813309d6044d4a6d0b08652c.png\"/></div><br/>\\r\\nПартнером AdBlock Plus стала компания ComboTag, которая предлагает рекламные решения для издателей и агентств. Издатели, например, могут использовать платформу ComboTag как рекламный сервер, а агентства — как частную биржу. <br/>\\r\\n<br/>\\r\\nТакже рекламу с помощью этой программы будут продавать Google и AppNexus, <a href=\"http://www.wsj.com/articles/adblock-plus-is-launching-an-ad-exchange-1473768022\">отмечает</a> The Wall Street Journal. Однако обе указанные компании <a href=\"http://finance.yahoo.com/news/google-appnexus-were-not-involved-211827825.html\">опровергают</a> эту информацию. Тем не менее, известно, что Google и AppNexus являются партнерами компании ComboTag.<br/>\\r\\n<br/>\\r\\nAAP позволит издателям и блогерам размещать на своих площадках рекламу, которая прошла проверку на «приемлемость». В результате процесс попадания в «белый список» сократится с нескольких недель до пары секунд.<br/>\\r\\n<br/>\\r\\n<div style=\"text-align:center;\"><img src=\"https://habrastorage.org/r/w780q1/getpro/habr/post_images/197/eeb/d42/197eebd424aec4b39c26c8dbc52aa1bc.jpg\" data-src=\"https://habrastorage.org/getpro/habr/post_images/197/eeb/d42/197eebd424aec4b39c26c8dbc52aa1bc.jpg\" data-blurred=\"true\"/></div><br/>\\r\\nБлагодаря платформе владельцы сайтов и блогов смогут продолжать зарабатывать на рекламе — отобранные объявления будут показываться на месте заблокированных баннеров. Их увидят пользователи, которые приняли политику приемлемой рекламы. А сделали это 90% из 100-миллионой аудитории блокировщика.<br/>\\r\\n<blockquote>Сайты будут получать 80% доходов от показов рекламы через Acceptable Ads Platform. Остальные 20% получит сама биржа и её партнёры. Adblock Plus будет получать 6% от продаж.</blockquote><br/>\\r\\nКомпания надеется создать рынок, где они будут работать только с теми рекламодателями, которые согласятся на компромисс. При этом в компании отмечают, что эффект от подобного сотрудничества для рекламодателя будет минимизирован, поскольку он не сможет выбрать ни место размещения рекламы, ни размер, также он не сможет таргетировать их. <br/>\\r\\n<br/>\\r\\nС сентября 2016 года Acceptable Ads Platform будет работать в режиме бета-версии, полноценный запуск намечен на конец 2016 года.<br/>\\r\\n<br/>\\r\\n«Блокировка рекламы будет существовать с нами или без нас. Мы стараемся не допустить ситуацию, при которой будет блокироваться 100% рекламы. Мы надеемся, что Приемлемая реклама приведет к положительным изменениям [на рынке]», <a href=\"http://www.theverge.com/2016/9/13/12890050/adblock-plus-now-sells-ads\">заявили</a> представители AdBlock Plus.<br/>\\r\\n<br/>\\r\\nВ будущем AdBlock Plus обещает запустить механизм для обратной связи, который будет встроен непосредственно в рекламное объявление. С его помощью пользователь сможет сообщить, нравится ему реклама или нет. Такой фидбек сделает RTB более «человечным», считают в компании.<br/>\\r\\n<br/>\\r\\n<h3>Мнения экспертов</h3><br/>\\r\\n<h5>Мы попросили ответить представителей рынка рекламы и медиа на несколько вопросов: </h5><br/>\\r\\n<br/>\\r\\n<strong>1.</strong> Что вы думаете об инициативе Adblock продавать «приемлимую» рекламу на местах заблокированных баннеров?<br/>\\r\\n<br/>\\r\\n<strong>2.</strong> Стали бы вы участником подобной рекламной сети?<br/>\\r\\n<br/>\\r\\n<strong>3.</strong> Сейчас в настройках AdBlock Plus можно отключить показ даже «приемлемой» рекламы. Если эта ситуация не изменится, будет ли смысл в их инициативе?<br/>\\r\\n<br/>\\r\\n<strong>4.</strong> Каким образом от инициативы AdBlock Plus может выиграть Google?<br/>\\r\\n<br/>\\r\\n<h4>Юрий Синодов, ROEM:</h4><br/>\\r\\n<img src=\"https://habrastorage.org/r/w780q1/getpro/habr/post_images/057/7a6/ece/0577a6ece6c27d6183a955780139fa91.jpg\" align=\"left\" width=\"150\" data-src=\"https://habrastorage.org/getpro/habr/post_images/057/7a6/ece/0577a6ece6c27d6183a955780139fa91.jpg\" data-blurred=\"true\"/>1. Думаю, что сущность бизнеса AdBlock Plus теперь будет ясна всем.<br/>\\r\\n<br/>\\r\\n2. Нет, спасибо.<br/>\\r\\n<br/>\\r\\n3. Если эта фича будет сильно бить по их доходам — она будет отключена, полагаю.<br/>\\r\\n<br/>\\r\\n4. Никак, думаю. Любой сможет встать на место Google, если предложит достаточно денег.<br/>\\r\\n<br/>\\r\\n<h4>Ивар Максутов, главный редактор «Постнаука»:</h4><br/>\\r\\n<img src=\"https://habrastorage.org/r/w780q1/getpro/habr/post_images/591/3f5/883/5913f5883d41217532bf58712cb9154f.jpg\" align=\"left\" width=\"150\" data-src=\"https://habrastorage.org/getpro/habr/post_images/591/3f5/883/5913f5883d41217532bf58712cb9154f.jpg\" data-blurred=\"true\"/>1. Думаю, что это лицемерие. Очень похоже на поведение экотеррористов.<br/>\\r\\n<br/>\\r\\n2. Нет. Медиа рано или поздно научатся эффективно бороться с паразитами вроде Adblock. В первую очередь, их победит внутренняя монетизация площадок: покупки внутри системы, типа донейтов или подписки, нативная реклама и т.п. Мы, например, при обновлении сайта полностью отказались от баннеров, интегрировав рекламные модули внутрь грида, сделав их нативными.<br/>\\r\\n<br/>\\r\\n3. Значит, отключат пользователям Adblock возможность управлять настройками показа рекламы — будете смотреть только то, что менеджеры компании посчитают «приемлемым».<br/>\\r\\n<br/>\\r\\n<h4>Дмитрий Фалалеев, Firrma:</h4><br/>\\r\\n<img src=\"https://habrastorage.org/r/w780q1/getpro/habr/post_images/cd9/209/e40/cd9209e408134f304d00eab223f82d2a.jpg\" align=\"left\" width=\"150\" data-src=\"https://habrastorage.org/getpro/habr/post_images/cd9/209/e40/cd9209e408134f304d00eab223f82d2a.jpg\" data-blurred=\"true\"/><br/>\\r\\nЯ, честно говоря, не являюсь спецом по такой рекламе, поэтому ответить могу просто как владелец площадки и заинтересованное лицо. Я не очень понимаю, что такое «приемлемая реклама». <br/>\\r\\n<br/>\\r\\nВ целом отношение философское: хорошо, что есть попытки придумать что-то новое, но пока все, что появлялось, эффективным не было. Когда-то придумают точно.<br/>\\r\\n<br/>\\r\\n<br/>\\r\\n<h4>Алексей Амётов, издатель Look At Media:</h4><br/>\\r\\n<img src=\"https://habrastorage.org/r/w780q1/getpro/habr/post_images/649/588/721/649588721da508ae0a38563b000655d6.jpg\" align=\"left\" width=\"150\" data-src=\"https://habrastorage.org/getpro/habr/post_images/649/588/721/649588721da508ae0a38563b000655d6.jpg\" data-blurred=\"true\"/><br/>\\r\\n1. Я считаю, что это весьма странные действия. Или трусы наденьте или крестик снимите, как говорится. <br/>\\r\\n<br/>\\r\\n2. Уверен, что пользователи уйдут туда, где рекламы не будет. <br/>\\r\\n<br/>\\r\\n4. Что касается Google, то у них, как и у «Яндекса», проблема лежит вообще в другой плоскости — дело не в AdBlock, а в том, что они проиграли mobile.<br/>\\r\\n<br/>\\r\\n<br/>\\r\\n<h4>Сергей Барышников, Bigpicture.ru</h4><br/>\\r\\n<img src=\"https://habrastorage.org/r/w780q1/files/522/38c/b6c/52238cb6c4e8494f9bdaf72c07a46f74.jpg\" align=\"left\" width=\"150\" data-src=\"https://habrastorage.org/files/522/38c/b6c/52238cb6c4e8494f9bdaf72c07a46f74.jpg\" data-blurred=\"true\"/>1. Понятная, но странная инициатива. Термин «приемлемая» — очень размыт и то, что может быть абсолютно приемлемо для одной категории пользователей, совершенно может быть неприемлемо для другой категории. У ребят проснулось желание «еще как-то заработать денег». При этом часть лояльной своему продукту аудитории они отпугнут, а с частью придется вести долгую разъяснительную беседу.<br/>\\r\\n<br/>\\r\\n2. Нет, мы давно перестали делать ставку на умирающую медийку и уже несколько лет успешно делаем нативную рекламу, перенаправляя медийный трафик на нее.<br/>\\r\\n<br/>\\r\\n3. Я думаю, что это попытка снять негатив с той части аудитории, которая будет недовольна — им дали альтернативу, но какой-то процент не включит эту галочку. <br/>\\r\\n<br/>\\r\\n4. По идее Google и так идет по пути «приемлемой» рекламы, стараясь максимально эффективно подстроить таргет под пользователя, вызывая его интерес. Делают они это, чтобы повысить собственную эффективность. Ну, возможно, пробьются на небольшой процент той аудитории, до которой не могли достучаться из-за AdBlock Plus.<br/>\\r\\n<br/>\\r\\n<h4>Илья Красильщик, издатель в Meduza</h4><br/>\\r\\n<img src=\"https://habrastorage.org/r/w780q1/files/5a4/e1d/733/5a4e1d733808478aab311d5b66c93117.jpg\" align=\"left\" width=\"150\" data-src=\"https://habrastorage.org/files/5a4/e1d/733/5a4e1d733808478aab311d5b66c93117.jpg\" data-blurred=\"true\"/>1. Во-первых, я не понимаю, что такое «приемлемая реклама». Я не разбирался в вопросе, но вообще это похоже на рейдерский захват рекламных мест и обман аудитории. Блокировщики скачивают, чтобы рекламы не было, а не чтобы она была, но другая.<br/>\\r\\n<br/>\\r\\n2. Пока не вижу никаких причин этим пользоваться. С одной стороны, как я уже сказал, мне это не очень нравится с этической стороны. Во-вторых, любые сети для медиа не являются значительным источником выручки, так что вряд ли.<br/>\\r\\n<br/>\\r\\n3. Знаете, мне кажется уже сам разговор про блокировки рекламы не очень интересным. Я не могу осуждать людей, которые выключают баннеры — они правда раздражают, и это проблема рекламодателей и площадок. Пользователи голосуют блокировщиками. Поэтому все инициативы в области баннерной рекламы мне в принципе не очень интересны.<br/>\\r\\n<br/>\\r\\n<h4>Даниль Хасаньшин, CEO ИД «Комитет»</h4><br/>\\r\\n<img src=\"https://habrastorage.org/r/w780q1/getpro/habr/post_images/454/426/f83/454426f8392dcf3b42c1b6e708199aaf.jpg\" align=\"left\" width=\"150\" data-src=\"https://habrastorage.org/getpro/habr/post_images/454/426/f83/454426f8392dcf3b42c1b6e708199aaf.jpg\" data-blurred=\"true\"/>1. Пока не знаю, что думаю по этому поводу однозначно. Выглядит странным, что они продают то, что им не принадлежит. <br/>\\r\\n<br/>\\r\\n2. Не уверен.<br/>\\r\\n<br/>\\r\\n3. Я вообще не очень понимаю «приемлемость» и то, что они сейчас пытаются делать.<br/>\\r\\n<br/>\\r\\n4. Я вообще не думал и не думаю в этом ключе. Это какие-то далекие от наших интересов игры, но вот «пинг-понг» с Facebook было наблюдать достаточно забавно, не более.<br/>\\r\\n<br/>\\r\\n<h3>Браузер Brave и «приемлемая реклама»</h3><br/>\\r\\nВесной сооснователь Mozilla Брендан Эйх запустил браузер Brave, блокирующий стороннюю рекламу и размещающий на ее месте безопасные объявления. Владельцы газет выступили против разработки бывшего главы Mozilla.<br/>\\r\\n<br/>\\r\\n17 компаний обратились к Брендану Эйху с требованием прекратить противоправные действия. Среди подписавших письмо — владельцы газет The Washington Post, The New York Times Co., Dow Jones и другие, сообщает Business Insider. Все они входят в Ассоциацию Газет Америки (NAA). Компании заявили, что готовы защищать свои бренды и материалы всеми законными способами.<br/>\\r\\n<blockquote>Brave разработан под Windows, Max, Linux, iOS и Android. Браузер по умолчанию блокирует стороннюю рекламу, а вместо нее пользователь видит безопасные объявления, одобренные разработчиком. Они быстро загружаются и обеспечивают анонимность пользователя, поскольку не отслеживают «куки» и пиксели.</blockquote><br/>\\r\\n<img src=\"https://habrastorage.org/r/w1560/getpro/habr/post_images/f10/b4a/83b/f10b4a83b78cfd1a2bd20baf50635aa8.png\" width=\"450\" data-src=\"https://habrastorage.org/getpro/habr/post_images/f10/b4a/83b/f10b4a83b78cfd1a2bd20baf50635aa8.png\"/><br/>\\r\\n<br/>\\r\\nЕсли издатель сотрудничает с Brave, то он получает 55% выручки. Еще 15% достается браузеру, 15% — партнеру, который занимается размещением, а пользователь может рассчитывать на 10–15%. <br/>\\r\\nОднако медиакомпании не согласны с такой схемой. Они называют бизнес-модель Эйха абсолютно незаконной и утверждают, что проект наживается на тех $5 миллиардах, которые отрасль тратит на развитие журналистики. Brave обвинили в нарушении авторских прав, недобросовестной конкуренции, несанкционированном доступе к сайтам издателей.<br/>\\r\\n<br/>\\r\\nАвторы письма полагают, что план по замене рекламы неотличим от плана по воровству контента. «Ваши публичные заявления наглядно демонстрируют, что вы намерены использовать в своих интересах контент всех издателей в интернете, чтобы продавать собственную рекламу. Вы не имеете никакого права использовать наши наименования, торговые марки и логотипы для продвижения и функционирования вашего бизнеса», — говорится в обращении.<br/>\\r\\n<br/>\\r\\nЗакон позволяет компаниям требовать до $150 тысяч за каждую «позаимствованную» работу. Используя чужие торговые марки для продаж рекламы, Brave вводит потребителей в заблуждение, а также ущемляет эксклюзивные права издателей на их бренды.<br/>\\r\\n<br/>\\r\\n<strong>P.S.</strong> Блокировщики рекламы — главная проблема для мировой индустрии интернет-рекламы. По данным совместных исследований компаний PageFair и Adobe, на конец 2015 года блокировщики были установлены у 198 миллионов пользователей в мире. При этом потери рекламной индустрии достигают $22 миллиарда в год.</div>'"
      ]
     },
     "execution_count": 16,
     "metadata": {},
     "output_type": "execute_result"
    }
   ],
   "source": [
    "big_frame['text'][2]"
   ]
  },
  {
   "cell_type": "code",
   "execution_count": 17,
   "id": "47c61663-0764-4868-8aa1-4fdc0dab6bd5",
   "metadata": {},
   "outputs": [],
   "source": [
    "soup_1 = BeautifulSoup(big_frame['text'][2], 'html.parser')"
   ]
  },
  {
   "cell_type": "code",
   "execution_count": 18,
   "id": "3dabcdc8-c83a-466c-875f-45da90ea0278",
   "metadata": {
    "collapsed": true,
    "jupyter": {
     "outputs_hidden": true
    },
    "tags": []
   },
   "outputs": [
    {
     "data": {
      "text/plain": [
       "'\\n\\r\\nОдин из крупнейших в мире блокировщиков рекламы AdBlock Plus порадовал рекламодателей новой инициативой. Разработчики блокировщика запустили платформу Acceptable Ads Platform (AAP), предназначенную для размещения на сайтах рекламы из списка «приемлемых объявлений» (Acceptable Ads). Приемлемую рекламу можно устанавливать вместо обычных баннеров, которые блокирует Adblock Plus.\\n\\r\\nСама программа «Приемлемой рекламы» была запущена еще в 2011 году. Тогда же Eyeo, компания-разработчик Adblock Plus, признала, что сотрудничала с партнерами в рамках этой программы не безвозмездно. Недовольным пользователям компания предлагала просто изменить настройки блокировщика.\\nВ настройках опция «Разрешить ненавязчивую рекламу» выбрана по умолчанию. Разработчик признает, что «белый список» держится именно на лени — большинство пользователей не любят залезать в настройки без необходимости. В целом компания не считает зазорным зарабатывать деньги на лени, неграмотности и невнимательности аудитории. Ведь далеко не все граждане общаются с компьютером на «ты».\\nМонетизация или продажность\\r\\nНекоторое время сервис обходил стороной тему монетизации и не раскрывал, сколько именно он зарабатывает на «белом списке». Единственные данные, которые публиковала компания, это статистика работы с рекламодателями и онлайн-площадками. Но на основании этой статистики нельзя было оценить доход Eyeo по соответствующей статье.\\n\\r\\nТеперь Adblock Plus решил приоткрыть и эту завесу. Однако представители сервиса отметили, что недопустимая реклама не сможет попасть в лист исключений даже за деньги. Блокировщику платят только «большие» сайты, которые получают доход от показа баннеров из «белого списка».\\n\\r\\nБольшим считается сайт, реклама на котором после попадания в «белый список» будет показана более 10 миллионов раз в месяц. При этом учитывается не весь трафик, а только показы рекламы из «белого списка». Если учесть, что блокировщиками обычно пользуется около 5% аудитории, такой сайт должен иметь минимум 200 миллионов показов.\\n\\r\\nБольшими являются 10% сайтов, с которыми сотрудничает AdBlock Plus. Площадки перечисляют сервису процент от рекламной прибыли.\\nБлагодаря тому, что Google платит Eyeo GmbH за участие в программе допустимой рекламы, пользователи видят объявления Google AdWords в рекламных ссылках рядом с релевантными результатами поиска. Когда пользователи обнаружили сей вопиющий факт, они расценили это как «лазейку» для Google.\\r\\nНесмотря на то, что Eyeo особенно и не скрывала наличие платных партнеров, некоторые пользователи с обостренным чувством справедливости оскорбились и обвинили ее в продажности. \\n\\r\\nСкандал разгорелся после серии публикаций на немецком портале Mobile Geeks. Блогер Саша Палленберг сообщил, что Adblock Plus обманывает пользователей и пропускает часть рекламы. По его информации, разработчик также тренировался на фейковых аккаунтах и передавал их системе eCircle, которая занимается рассылкой спама по электронной почте.\\n\\r\\nИ как раз тогда, в июле 2013 года, компания Eyeo публично признала, что делает исключения для некоторых рекламодателей. Adblock Plus заключает соглашения с интернет-площадками и рекламными сетями, которые желают участвовать в программе доступной рекламы. Но при этом рекламодатели должны гарантировать, что реклама соответствует критериям. В частности, не допускается размещение рекламы с анимацией и звуками, в середине текста и с блокировкой страницы.\\n\\r\\nПо данным опроса Adblock Plus, лишь 25% пользователей настроены против любой рекламы. Остальные согласны на некоторые виды рекламы, так как понимают, что это необходимо для монетизации сайтов. \\n\\n«Мы пойдем другим путем»\\r\\nДругие крупные сайты решили не платить блокировщику, а поступить более жестко. В июне 2016 года один из крупнейших издательских домов — немецкий Axel Springer (издания Business Insider, Bild, Maxim и другие) — добился от Adblock Plus бесплатного включения в «белый список» неблокируемой медийной интернет-рекламы. Для этого медиахолдинг обратился в немецкий суд.\\n\\r\\nЭто позволит Axel Springer увеличить охват своей аудитории на 100 миллионов потенциальных покупателей. Победа Axel Springer может вызвать резкий рост количества исков к Eyeo со стороны ее партнеров.\\n\\nСами с усами\\r\\nИ вот, через 5 лет после появления программы «Приемлемой рекламы», AdBlock Plus решился самостоятельно продавать медийную рекламу. Новая платформа (AAP) объединяет функции SSP и рекламной биржи. Система делает процесс добавления в «белый список» более быстрым, простым и прозрачным. Операционный директор Eyeo Бен Уильямс называет AAP «компромиссом между пользователями и рекламодателями».\\n\\n\\r\\nПартнером AdBlock Plus стала компания ComboTag, которая предлагает рекламные решения для издателей и агентств. Издатели, например, могут использовать платформу ComboTag как рекламный сервер, а агентства — как частную биржу. \\n\\r\\nТакже рекламу с помощью этой программы будут продавать Google и AppNexus, отмечает The Wall Street Journal. Однако обе указанные компании опровергают эту информацию. Тем не менее, известно, что Google и AppNexus являются партнерами компании ComboTag.\\n\\r\\nAAP позволит издателям и блогерам размещать на своих площадках рекламу, которая прошла проверку на «приемлемость». В результате процесс попадания в «белый список» сократится с нескольких недель до пары секунд.\\n\\n\\r\\nБлагодаря платформе владельцы сайтов и блогов смогут продолжать зарабатывать на рекламе — отобранные объявления будут показываться на месте заблокированных баннеров. Их увидят пользователи, которые приняли политику приемлемой рекламы. А сделали это 90% из 100-миллионой аудитории блокировщика.\\nСайты будут получать 80% доходов от показов рекламы через Acceptable Ads Platform. Остальные 20% получит сама биржа и её партнёры. Adblock Plus будет получать 6% от продаж.\\r\\nКомпания надеется создать рынок, где они будут работать только с теми рекламодателями, которые согласятся на компромисс. При этом в компании отмечают, что эффект от подобного сотрудничества для рекламодателя будет минимизирован, поскольку он не сможет выбрать ни место размещения рекламы, ни размер, также он не сможет таргетировать их. \\n\\r\\nС сентября 2016 года Acceptable Ads Platform будет работать в режиме бета-версии, полноценный запуск намечен на конец 2016 года.\\n\\r\\n«Блокировка рекламы будет существовать с нами или без нас. Мы стараемся не допустить ситуацию, при которой будет блокироваться 100% рекламы. Мы надеемся, что Приемлемая реклама приведет к положительным изменениям [на рынке]», заявили представители AdBlock Plus.\\n\\r\\nВ будущем AdBlock Plus обещает запустить механизм для обратной связи, который будет встроен непосредственно в рекламное объявление. С его помощью пользователь сможет сообщить, нравится ему реклама или нет. Такой фидбек сделает RTB более «человечным», считают в компании.\\n\\nМнения экспертов\\nМы попросили ответить представителей рынка рекламы и медиа на несколько вопросов: \\n\\n1. Что вы думаете об инициативе Adblock продавать «приемлимую» рекламу на местах заблокированных баннеров?\\n\\n2. Стали бы вы участником подобной рекламной сети?\\n\\n3. Сейчас в настройках AdBlock Plus можно отключить показ даже «приемлемой» рекламы. Если эта ситуация не изменится, будет ли смысл в их инициативе?\\n\\n4. Каким образом от инициативы AdBlock Plus может выиграть Google?\\n\\nЮрий Синодов, ROEM:\\n1. Думаю, что сущность бизнеса AdBlock Plus теперь будет ясна всем.\\n\\r\\n2. Нет, спасибо.\\n\\r\\n3. Если эта фича будет сильно бить по их доходам — она будет отключена, полагаю.\\n\\r\\n4. Никак, думаю. Любой сможет встать на место Google, если предложит достаточно денег.\\n\\nИвар Максутов, главный редактор «Постнаука»:\\n1. Думаю, что это лицемерие. Очень похоже на поведение экотеррористов.\\n\\r\\n2. Нет. Медиа рано или поздно научатся эффективно бороться с паразитами вроде Adblock. В первую очередь, их победит внутренняя монетизация площадок: покупки внутри системы, типа донейтов или подписки, нативная реклама и т.п. Мы, например, при обновлении сайта полностью отказались от баннеров, интегрировав рекламные модули внутрь грида, сделав их нативными.\\n\\r\\n3. Значит, отключат пользователям Adblock возможность управлять настройками показа рекламы — будете смотреть только то, что менеджеры компании посчитают «приемлемым».\\n\\nДмитрий Фалалеев, Firrma:\\n\\r\\nЯ, честно говоря, не являюсь спецом по такой рекламе, поэтому ответить могу просто как владелец площадки и заинтересованное лицо. Я не очень понимаю, что такое «приемлемая реклама». \\n\\r\\nВ целом отношение философское: хорошо, что есть попытки придумать что-то новое, но пока все, что появлялось, эффективным не было. Когда-то придумают точно.\\n\\n\\nАлексей Амётов, издатель Look At Media:\\n\\r\\n1. Я считаю, что это весьма странные действия. Или трусы наденьте или крестик снимите, как говорится. \\n\\r\\n2. Уверен, что пользователи уйдут туда, где рекламы не будет. \\n\\r\\n4. Что касается Google, то у них, как и у «Яндекса», проблема лежит вообще в другой плоскости — дело не в AdBlock, а в том, что они проиграли mobile.\\n\\n\\nСергей Барышников, Bigpicture.ru\\n1. Понятная, но странная инициатива. Термин «приемлемая» — очень размыт и то, что может быть абсолютно приемлемо для одной категории пользователей, совершенно может быть неприемлемо для другой категории. У ребят проснулось желание «еще как-то заработать денег». При этом часть лояльной своему продукту аудитории они отпугнут, а с частью придется вести долгую разъяснительную беседу.\\n\\r\\n2. Нет, мы давно перестали делать ставку на умирающую медийку и уже несколько лет успешно делаем нативную рекламу, перенаправляя медийный трафик на нее.\\n\\r\\n3. Я думаю, что это попытка снять негатив с той части аудитории, которая будет недовольна — им дали альтернативу, но какой-то процент не включит эту галочку. \\n\\r\\n4. По идее Google и так идет по пути «приемлемой» рекламы, стараясь максимально эффективно подстроить таргет под пользователя, вызывая его интерес. Делают они это, чтобы повысить собственную эффективность. Ну, возможно, пробьются на небольшой процент той аудитории, до которой не могли достучаться из-за AdBlock Plus.\\n\\nИлья Красильщик, издатель в Meduza\\n1. Во-первых, я не понимаю, что такое «приемлемая реклама». Я не разбирался в вопросе, но вообще это похоже на рейдерский захват рекламных мест и обман аудитории. Блокировщики скачивают, чтобы рекламы не было, а не чтобы она была, но другая.\\n\\r\\n2. Пока не вижу никаких причин этим пользоваться. С одной стороны, как я уже сказал, мне это не очень нравится с этической стороны. Во-вторых, любые сети для медиа не являются значительным источником выручки, так что вряд ли.\\n\\r\\n3. Знаете, мне кажется уже сам разговор про блокировки рекламы не очень интересным. Я не могу осуждать людей, которые выключают баннеры — они правда раздражают, и это проблема рекламодателей и площадок. Пользователи голосуют блокировщиками. Поэтому все инициативы в области баннерной рекламы мне в принципе не очень интересны.\\n\\nДаниль Хасаньшин, CEO ИД «Комитет»\\n1. Пока не знаю, что думаю по этому поводу однозначно. Выглядит странным, что они продают то, что им не принадлежит. \\n\\r\\n2. Не уверен.\\n\\r\\n3. Я вообще не очень понимаю «приемлемость» и то, что они сейчас пытаются делать.\\n\\r\\n4. Я вообще не думал и не думаю в этом ключе. Это какие-то далекие от наших интересов игры, но вот «пинг-понг» с Facebook было наблюдать достаточно забавно, не более.\\n\\nБраузер Brave и «приемлемая реклама»\\r\\nВесной сооснователь Mozilla Брендан Эйх запустил браузер Brave, блокирующий стороннюю рекламу и размещающий на ее месте безопасные объявления. Владельцы газет выступили против разработки бывшего главы Mozilla.\\n\\r\\n17 компаний обратились к Брендану Эйху с требованием прекратить противоправные действия. Среди подписавших письмо — владельцы газет The Washington Post, The New York Times Co., Dow Jones и другие, сообщает Business Insider. Все они входят в Ассоциацию Газет Америки (NAA). Компании заявили, что готовы защищать свои бренды и материалы всеми законными способами.\\nBrave разработан под Windows, Max, Linux, iOS и Android. Браузер по умолчанию блокирует стороннюю рекламу, а вместо нее пользователь видит безопасные объявления, одобренные разработчиком. Они быстро загружаются и обеспечивают анонимность пользователя, поскольку не отслеживают «куки» и пиксели.\\n\\n\\r\\nЕсли издатель сотрудничает с Brave, то он получает 55% выручки. Еще 15% достается браузеру, 15% — партнеру, который занимается размещением, а пользователь может рассчитывать на 10–15%. \\r\\nОднако медиакомпании не согласны с такой схемой. Они называют бизнес-модель Эйха абсолютно незаконной и утверждают, что проект наживается на тех $5 миллиардах, которые отрасль тратит на развитие журналистики. Brave обвинили в нарушении авторских прав, недобросовестной конкуренции, несанкционированном доступе к сайтам издателей.\\n\\r\\nАвторы письма полагают, что план по замене рекламы неотличим от плана по воровству контента. «Ваши публичные заявления наглядно демонстрируют, что вы намерены использовать в своих интересах контент всех издателей в интернете, чтобы продавать собственную рекламу. Вы не имеете никакого права использовать наши наименования, торговые марки и логотипы для продвижения и функционирования вашего бизнеса», — говорится в обращении.\\n\\r\\nЗакон позволяет компаниям требовать до $150 тысяч за каждую «позаимствованную» работу. Используя чужие торговые марки для продаж рекламы, Brave вводит потребителей в заблуждение, а также ущемляет эксклюзивные права издателей на их бренды.\\n\\nP.S. Блокировщики рекламы — главная проблема для мировой индустрии интернет-рекламы. По данным совместных исследований компаний PageFair и Adobe, на конец 2015 года блокировщики были установлены у 198 миллионов пользователей в мире. При этом потери рекламной индустрии достигают $22 миллиарда в год.'"
      ]
     },
     "execution_count": 18,
     "metadata": {},
     "output_type": "execute_result"
    }
   ],
   "source": [
    "soup_1.text"
   ]
  },
  {
   "cell_type": "code",
   "execution_count": 19,
   "id": "138e3093-77df-4456-9678-c8e63c42f7ad",
   "metadata": {
    "collapsed": true,
    "jupyter": {
     "outputs_hidden": true
    },
    "tags": []
   },
   "outputs": [
    {
     "data": {
      "text/plain": [
       "''"
      ]
     },
     "execution_count": 19,
     "metadata": {},
     "output_type": "execute_result"
    }
   ],
   "source": [
    "def text_pars(soup):\n",
    "    text_full = ''\n",
    "    text = soup.find_all('p')\n",
    "    for i in range(len(text)):\n",
    "        text_full = text_full + text[i].text\n",
    "    return text_full\n",
    "text_pars(soup_1)"
   ]
  },
  {
   "cell_type": "code",
   "execution_count": 20,
   "id": "b8872fd4-aca2-4a41-a27e-99aa7b2fb1ed",
   "metadata": {},
   "outputs": [
    {
     "data": {
      "application/vnd.jupyter.widget-view+json": {
       "model_id": "a5e4bfe7744642e292c5ee1d4a8c7895",
       "version_major": 2,
       "version_minor": 0
      },
      "text/plain": [
       "  0%|          | 0/170548 [00:00<?, ?it/s]"
      ]
     },
     "metadata": {},
     "output_type": "display_data"
    },
    {
     "name": "stdout",
     "output_type": "stream",
     "text": [
      "Success!\n",
      "CPU times: total: 9min\n",
      "Wall time: 24min 52s\n"
     ]
    }
   ],
   "source": [
    "%%time\n",
    "for i in tqdm(big_frame_text.index):\n",
    "    text = big_frame_text['text'][i]\n",
    "    soup_text = BeautifulSoup(big_frame_text['text'][i], 'html.parser')\n",
    "    big_frame_text['text'][i] = text_pars(soup_text)\n",
    "print('Success!')"
   ]
  },
  {
   "cell_type": "markdown",
   "id": "2445f805-f69d-41d1-8741-64264d0570f3",
   "metadata": {},
   "source": [
    "## Обработка текста"
   ]
  },
  {
   "cell_type": "markdown",
   "id": "5cfc191f-1bcd-4102-aa28-955ce1cef2ad",
   "metadata": {},
   "source": [
    "### Обработка хабов"
   ]
  },
  {
   "cell_type": "code",
   "execution_count": 21,
   "id": "97c03471-f847-406d-be0b-3beee6e77ece",
   "metadata": {},
   "outputs": [],
   "source": [
    "big_frame_text = big_frame_text.dropna()"
   ]
  },
  {
   "cell_type": "code",
   "execution_count": 22,
   "id": "b5409632-f6cc-4922-9eba-7bc3f0adbc4d",
   "metadata": {
    "collapsed": true
   },
   "outputs": [
    {
     "name": "stdout",
     "output_type": "stream",
     "text": [
      "<class 'pandas.core.frame.DataFrame'>\n",
      "Index: 170475 entries, 0 to 170547\n",
      "Data columns (total 22 columns):\n",
      " #   Column           Non-Null Count   Dtype  \n",
      "---  ------           --------------   -----  \n",
      " 0   id               170475 non-null  int64  \n",
      " 1   is_corporative   170475 non-null  bool   \n",
      " 2   posttype         170475 non-null  object \n",
      " 3   title            170475 non-null  object \n",
      " 4   hubs_pro         170475 non-null  object \n",
      " 5   hubs_nopro       170475 non-null  object \n",
      " 6   tags             170475 non-null  object \n",
      " 7   time_published   170475 non-null  object \n",
      " 8   bookmarks        170475 non-null  int64  \n",
      " 9   comments_count   170475 non-null  int64  \n",
      " 10  views            170475 non-null  int64  \n",
      " 11  votes            170475 non-null  int64  \n",
      " 12  possitive_votes  170475 non-null  int64  \n",
      " 13  negative_votes   170475 non-null  int64  \n",
      " 14  reading_time     170475 non-null  float64\n",
      " 15  lang             170475 non-null  object \n",
      " 16  author_name      170475 non-null  object \n",
      " 17  author_id        170475 non-null  float64\n",
      " 18  karma            170475 non-null  float64\n",
      " 19  karma_votes      170475 non-null  float64\n",
      " 20  rating           170475 non-null  float64\n",
      " 21  text             170475 non-null  object \n",
      "dtypes: bool(1), float64(5), int64(7), object(9)\n",
      "memory usage: 28.8+ MB\n"
     ]
    }
   ],
   "source": [
    "big_frame_text.info()"
   ]
  },
  {
   "cell_type": "code",
   "execution_count": 23,
   "id": "6cc8b180-e492-40ac-984a-b0549b068c6f",
   "metadata": {},
   "outputs": [
    {
     "data": {
      "text/plain": [
       "80023"
      ]
     },
     "execution_count": 23,
     "metadata": {},
     "output_type": "execute_result"
    }
   ],
   "source": [
    "len(big_frame_text[big_frame_text['text'] != ''])"
   ]
  },
  {
   "cell_type": "code",
   "execution_count": 24,
   "id": "9579386c-ebb8-4b58-ad61-70dde8a92efd",
   "metadata": {
    "tags": []
   },
   "outputs": [
    {
     "data": {
      "text/html": [
       "<div>\n",
       "<style scoped>\n",
       "    .dataframe tbody tr th:only-of-type {\n",
       "        vertical-align: middle;\n",
       "    }\n",
       "\n",
       "    .dataframe tbody tr th {\n",
       "        vertical-align: top;\n",
       "    }\n",
       "\n",
       "    .dataframe thead th {\n",
       "        text-align: right;\n",
       "    }\n",
       "</style>\n",
       "<table border=\"1\" class=\"dataframe\">\n",
       "  <thead>\n",
       "    <tr style=\"text-align: right;\">\n",
       "      <th></th>\n",
       "      <th>id</th>\n",
       "      <th>is_corporative</th>\n",
       "      <th>posttype</th>\n",
       "      <th>title</th>\n",
       "      <th>hubs_pro</th>\n",
       "      <th>hubs_nopro</th>\n",
       "      <th>tags</th>\n",
       "      <th>time_published</th>\n",
       "      <th>bookmarks</th>\n",
       "      <th>comments_count</th>\n",
       "      <th>...</th>\n",
       "      <th>possitive_votes</th>\n",
       "      <th>negative_votes</th>\n",
       "      <th>reading_time</th>\n",
       "      <th>lang</th>\n",
       "      <th>author_name</th>\n",
       "      <th>author_id</th>\n",
       "      <th>karma</th>\n",
       "      <th>karma_votes</th>\n",
       "      <th>rating</th>\n",
       "      <th>text</th>\n",
       "    </tr>\n",
       "  </thead>\n",
       "  <tbody>\n",
       "    <tr>\n",
       "      <th>2</th>\n",
       "      <td>310006</td>\n",
       "      <td>False</td>\n",
       "      <td>article</td>\n",
       "      <td>AdBlock Plus совершил новый виток в истории «п...</td>\n",
       "      <td>[Web services monetization, Mobile application...</td>\n",
       "      <td>[]</td>\n",
       "      <td>adblock plus,блокировка рекламы,медийная рекла...</td>\n",
       "      <td>2016-09-14T14:26:49+00:00</td>\n",
       "      <td>35</td>\n",
       "      <td>83</td>\n",
       "      <td>...</td>\n",
       "      <td>37</td>\n",
       "      <td>1</td>\n",
       "      <td>8.0</td>\n",
       "      <td>ru</td>\n",
       "      <td>semen_grinshtein</td>\n",
       "      <td>925306.0</td>\n",
       "      <td>41.0</td>\n",
       "      <td>455.0</td>\n",
       "      <td>0.0</td>\n",
       "      <td></td>\n",
       "    </tr>\n",
       "    <tr>\n",
       "      <th>3</th>\n",
       "      <td>310008</td>\n",
       "      <td>True</td>\n",
       "      <td>article</td>\n",
       "      <td>Миф о незрелости мобильных NFC технологий</td>\n",
       "      <td>[Information Security, Payment systems, Develo...</td>\n",
       "      <td>[Gemalto Russia corporate blog]</td>\n",
       "      <td>Gemalto,nfc,мобильные приложения,мобильный пла...</td>\n",
       "      <td>2016-09-15T08:02:54+00:00</td>\n",
       "      <td>12</td>\n",
       "      <td>8</td>\n",
       "      <td>...</td>\n",
       "      <td>12</td>\n",
       "      <td>3</td>\n",
       "      <td>2.0</td>\n",
       "      <td>ru</td>\n",
       "      <td>GemaltoRussia</td>\n",
       "      <td>1185068.0</td>\n",
       "      <td>3.0</td>\n",
       "      <td>3.0</td>\n",
       "      <td>0.0</td>\n",
       "      <td></td>\n",
       "    </tr>\n",
       "    <tr>\n",
       "      <th>4</th>\n",
       "      <td>310014</td>\n",
       "      <td>True</td>\n",
       "      <td>article</td>\n",
       "      <td>OpenJDK: Project Panama</td>\n",
       "      <td>[Programming, Java]</td>\n",
       "      <td>[JUG Ru Group corporate blog]</td>\n",
       "      <td>joker2016,jokerconf,java,jvm,panama</td>\n",
       "      <td>2016-09-15T06:30:51+00:00</td>\n",
       "      <td>50</td>\n",
       "      <td>12</td>\n",
       "      <td>...</td>\n",
       "      <td>36</td>\n",
       "      <td>2</td>\n",
       "      <td>9.0</td>\n",
       "      <td>ru</td>\n",
       "      <td>jetliner</td>\n",
       "      <td>433372.0</td>\n",
       "      <td>16.0</td>\n",
       "      <td>16.0</td>\n",
       "      <td>0.0</td>\n",
       "      <td></td>\n",
       "    </tr>\n",
       "  </tbody>\n",
       "</table>\n",
       "<p>3 rows × 22 columns</p>\n",
       "</div>"
      ],
      "text/plain": [
       "       id  is_corporative posttype  \\\n",
       "2  310006           False  article   \n",
       "3  310008            True  article   \n",
       "4  310014            True  article   \n",
       "\n",
       "                                               title  \\\n",
       "2  AdBlock Plus совершил новый виток в истории «п...   \n",
       "3          Миф о незрелости мобильных NFC технологий   \n",
       "4                            OpenJDK: Project Panama   \n",
       "\n",
       "                                            hubs_pro  \\\n",
       "2  [Web services monetization, Mobile application...   \n",
       "3  [Information Security, Payment systems, Develo...   \n",
       "4                                [Programming, Java]   \n",
       "\n",
       "                        hubs_nopro  \\\n",
       "2                               []   \n",
       "3  [Gemalto Russia corporate blog]   \n",
       "4    [JUG Ru Group corporate blog]   \n",
       "\n",
       "                                                tags  \\\n",
       "2  adblock plus,блокировка рекламы,медийная рекла...   \n",
       "3  Gemalto,nfc,мобильные приложения,мобильный пла...   \n",
       "4                joker2016,jokerconf,java,jvm,panama   \n",
       "\n",
       "              time_published  bookmarks  comments_count  ...  possitive_votes  \\\n",
       "2  2016-09-14T14:26:49+00:00         35              83  ...               37   \n",
       "3  2016-09-15T08:02:54+00:00         12               8  ...               12   \n",
       "4  2016-09-15T06:30:51+00:00         50              12  ...               36   \n",
       "\n",
       "   negative_votes  reading_time  lang       author_name  author_id karma  \\\n",
       "2               1           8.0    ru  semen_grinshtein   925306.0  41.0   \n",
       "3               3           2.0    ru     GemaltoRussia  1185068.0   3.0   \n",
       "4               2           9.0    ru          jetliner   433372.0  16.0   \n",
       "\n",
       "   karma_votes  rating  text  \n",
       "2        455.0     0.0        \n",
       "3          3.0     0.0        \n",
       "4         16.0     0.0        \n",
       "\n",
       "[3 rows x 22 columns]"
      ]
     },
     "execution_count": 24,
     "metadata": {},
     "output_type": "execute_result"
    }
   ],
   "source": [
    "big_frame_text[big_frame_text['text'] == ''].head(3)"
   ]
  },
  {
   "cell_type": "code",
   "execution_count": 25,
   "id": "8e37c458-ef8b-4978-8a26-5dbc7bc318fd",
   "metadata": {},
   "outputs": [],
   "source": [
    "big_frame_only_text = big_frame_text[big_frame_text['text'] != ''] # вытащили только строки где есть текст в поле текст \n",
    "                                                                   # потом стоит поменять функцию на .text и сохранить датасет"
   ]
  },
  {
   "cell_type": "code",
   "execution_count": 26,
   "id": "efd290b8-3b6a-4f5c-bb89-acebc9d99055",
   "metadata": {},
   "outputs": [
    {
     "data": {
      "text/html": [
       "<div>\n",
       "<style scoped>\n",
       "    .dataframe tbody tr th:only-of-type {\n",
       "        vertical-align: middle;\n",
       "    }\n",
       "\n",
       "    .dataframe tbody tr th {\n",
       "        vertical-align: top;\n",
       "    }\n",
       "\n",
       "    .dataframe thead th {\n",
       "        text-align: right;\n",
       "    }\n",
       "</style>\n",
       "<table border=\"1\" class=\"dataframe\">\n",
       "  <thead>\n",
       "    <tr style=\"text-align: right;\">\n",
       "      <th></th>\n",
       "      <th>id</th>\n",
       "      <th>is_corporative</th>\n",
       "      <th>posttype</th>\n",
       "      <th>title</th>\n",
       "      <th>hubs_pro</th>\n",
       "      <th>hubs_nopro</th>\n",
       "      <th>tags</th>\n",
       "      <th>time_published</th>\n",
       "      <th>bookmarks</th>\n",
       "      <th>comments_count</th>\n",
       "      <th>...</th>\n",
       "      <th>possitive_votes</th>\n",
       "      <th>negative_votes</th>\n",
       "      <th>reading_time</th>\n",
       "      <th>lang</th>\n",
       "      <th>author_name</th>\n",
       "      <th>author_id</th>\n",
       "      <th>karma</th>\n",
       "      <th>karma_votes</th>\n",
       "      <th>rating</th>\n",
       "      <th>text</th>\n",
       "    </tr>\n",
       "  </thead>\n",
       "  <tbody>\n",
       "    <tr>\n",
       "      <th>0</th>\n",
       "      <td>310000</td>\n",
       "      <td>True</td>\n",
       "      <td>article</td>\n",
       "      <td>Как мы неделю чинили compaction в Cassandra</td>\n",
       "      <td>[System administration, Data storage, DevOps]</td>\n",
       "      <td>[okmeter.io corporate blog]</td>\n",
       "      <td>cassandra,nosql,troubleshooting</td>\n",
       "      <td>2016-09-17T06:11:00+00:00</td>\n",
       "      <td>45</td>\n",
       "      <td>13</td>\n",
       "      <td>...</td>\n",
       "      <td>42</td>\n",
       "      <td>1</td>\n",
       "      <td>7.0</td>\n",
       "      <td>ru</td>\n",
       "      <td>NikolaySivko</td>\n",
       "      <td>1140878.0</td>\n",
       "      <td>63.0</td>\n",
       "      <td>69.0</td>\n",
       "      <td>0.0</td>\n",
       "      <td>Основным хранилищем метрик у нас является cas...</td>\n",
       "    </tr>\n",
       "    <tr>\n",
       "      <th>1</th>\n",
       "      <td>310002</td>\n",
       "      <td>True</td>\n",
       "      <td>article</td>\n",
       "      <td>Войны гипервизоров: To be continued</td>\n",
       "      <td>[IT Infrastructure, Virtualization, Cloud comp...</td>\n",
       "      <td>[Cloud4Y corporate blog, Hosting]</td>\n",
       "      <td>облачные вычисления,виртуализация,хостинг,гипе...</td>\n",
       "      <td>2016-09-15T07:56:08+00:00</td>\n",
       "      <td>19</td>\n",
       "      <td>23</td>\n",
       "      <td>...</td>\n",
       "      <td>12</td>\n",
       "      <td>12</td>\n",
       "      <td>5.0</td>\n",
       "      <td>ru</td>\n",
       "      <td>Cloud4Y</td>\n",
       "      <td>64252.0</td>\n",
       "      <td>178.0</td>\n",
       "      <td>348.0</td>\n",
       "      <td>62.3</td>\n",
       "      <td>Войны гипервизоров — дело непрерывное, и, наве...</td>\n",
       "    </tr>\n",
       "    <tr>\n",
       "      <th>13</th>\n",
       "      <td>310042</td>\n",
       "      <td>False</td>\n",
       "      <td>article</td>\n",
       "      <td>Строим свой full-stack на JavaScript: Сервер</td>\n",
       "      <td>[JavaScript, Designing and refactoring, Node.JS]</td>\n",
       "      <td>[]</td>\n",
       "      <td>typescript,node.js,express.js,full-stack apps,...</td>\n",
       "      <td>2016-09-16T06:14:14+00:00</td>\n",
       "      <td>228</td>\n",
       "      <td>27</td>\n",
       "      <td>...</td>\n",
       "      <td>19</td>\n",
       "      <td>7</td>\n",
       "      <td>13.0</td>\n",
       "      <td>ru</td>\n",
       "      <td>erik_syntyk</td>\n",
       "      <td>204112.0</td>\n",
       "      <td>18.0</td>\n",
       "      <td>30.0</td>\n",
       "      <td>0.0</td>\n",
       "      <td>Вторая статья из серии о full-stack JS разрабо...</td>\n",
       "    </tr>\n",
       "  </tbody>\n",
       "</table>\n",
       "<p>3 rows × 22 columns</p>\n",
       "</div>"
      ],
      "text/plain": [
       "        id  is_corporative posttype  \\\n",
       "0   310000            True  article   \n",
       "1   310002            True  article   \n",
       "13  310042           False  article   \n",
       "\n",
       "                                           title  \\\n",
       "0    Как мы неделю чинили compaction в Cassandra   \n",
       "1            Войны гипервизоров: To be continued   \n",
       "13  Строим свой full-stack на JavaScript: Сервер   \n",
       "\n",
       "                                             hubs_pro  \\\n",
       "0       [System administration, Data storage, DevOps]   \n",
       "1   [IT Infrastructure, Virtualization, Cloud comp...   \n",
       "13   [JavaScript, Designing and refactoring, Node.JS]   \n",
       "\n",
       "                           hubs_nopro  \\\n",
       "0         [okmeter.io corporate blog]   \n",
       "1   [Cloud4Y corporate blog, Hosting]   \n",
       "13                                 []   \n",
       "\n",
       "                                                 tags  \\\n",
       "0                     cassandra,nosql,troubleshooting   \n",
       "1   облачные вычисления,виртуализация,хостинг,гипе...   \n",
       "13  typescript,node.js,express.js,full-stack apps,...   \n",
       "\n",
       "               time_published  bookmarks  comments_count  ...  \\\n",
       "0   2016-09-17T06:11:00+00:00         45              13  ...   \n",
       "1   2016-09-15T07:56:08+00:00         19              23  ...   \n",
       "13  2016-09-16T06:14:14+00:00        228              27  ...   \n",
       "\n",
       "    possitive_votes  negative_votes  reading_time  lang   author_name  \\\n",
       "0                42               1           7.0    ru  NikolaySivko   \n",
       "1                12              12           5.0    ru       Cloud4Y   \n",
       "13               19               7          13.0    ru   erik_syntyk   \n",
       "\n",
       "    author_id  karma  karma_votes  rating  \\\n",
       "0   1140878.0   63.0         69.0     0.0   \n",
       "1     64252.0  178.0        348.0    62.3   \n",
       "13   204112.0   18.0         30.0     0.0   \n",
       "\n",
       "                                                 text  \n",
       "0    Основным хранилищем метрик у нас является cas...  \n",
       "1   Войны гипервизоров — дело непрерывное, и, наве...  \n",
       "13  Вторая статья из серии о full-stack JS разрабо...  \n",
       "\n",
       "[3 rows x 22 columns]"
      ]
     },
     "execution_count": 26,
     "metadata": {},
     "output_type": "execute_result"
    }
   ],
   "source": [
    "big_frame_only_text.head(3)"
   ]
  },
  {
   "cell_type": "code",
   "execution_count": 27,
   "id": "b61e680a-b804-4baf-aeb2-6f28a3dea6ae",
   "metadata": {},
   "outputs": [],
   "source": [
    "big_frame_only_text = big_frame_only_text.dropna()"
   ]
  },
  {
   "cell_type": "code",
   "execution_count": 28,
   "id": "d56f734e-8796-4e2e-b6be-2b0e491fe6e1",
   "metadata": {
    "collapsed": true,
    "jupyter": {
     "outputs_hidden": true
    },
    "tags": []
   },
   "outputs": [
    {
     "data": {
      "text/html": [
       "<div>\n",
       "<style scoped>\n",
       "    .dataframe tbody tr th:only-of-type {\n",
       "        vertical-align: middle;\n",
       "    }\n",
       "\n",
       "    .dataframe tbody tr th {\n",
       "        vertical-align: top;\n",
       "    }\n",
       "\n",
       "    .dataframe thead th {\n",
       "        text-align: right;\n",
       "    }\n",
       "</style>\n",
       "<table border=\"1\" class=\"dataframe\">\n",
       "  <thead>\n",
       "    <tr style=\"text-align: right;\">\n",
       "      <th></th>\n",
       "      <th>id</th>\n",
       "      <th>is_corporative</th>\n",
       "      <th>posttype</th>\n",
       "      <th>title</th>\n",
       "      <th>hubs_pro</th>\n",
       "      <th>hubs_nopro</th>\n",
       "      <th>tags</th>\n",
       "      <th>time_published</th>\n",
       "      <th>bookmarks</th>\n",
       "      <th>comments_count</th>\n",
       "      <th>...</th>\n",
       "      <th>negative_votes</th>\n",
       "      <th>reading_time</th>\n",
       "      <th>lang</th>\n",
       "      <th>author_name</th>\n",
       "      <th>author_id</th>\n",
       "      <th>karma</th>\n",
       "      <th>karma_votes</th>\n",
       "      <th>rating</th>\n",
       "      <th>text</th>\n",
       "      <th>hubs</th>\n",
       "    </tr>\n",
       "  </thead>\n",
       "  <tbody>\n",
       "    <tr>\n",
       "      <th>0</th>\n",
       "      <td>310000</td>\n",
       "      <td>True</td>\n",
       "      <td>article</td>\n",
       "      <td>Как мы неделю чинили compaction в Cassandra</td>\n",
       "      <td>[System administration, Data storage, DevOps]</td>\n",
       "      <td>[okmeter.io corporate blog]</td>\n",
       "      <td>cassandra,nosql,troubleshooting</td>\n",
       "      <td>2016-09-17T06:11:00+00:00</td>\n",
       "      <td>45</td>\n",
       "      <td>13</td>\n",
       "      <td>...</td>\n",
       "      <td>1</td>\n",
       "      <td>7.0</td>\n",
       "      <td>ru</td>\n",
       "      <td>NikolaySivko</td>\n",
       "      <td>1140878.0</td>\n",
       "      <td>63.0</td>\n",
       "      <td>69.0</td>\n",
       "      <td>0.0</td>\n",
       "      <td>Основным хранилищем метрик у нас является cas...</td>\n",
       "      <td>0</td>\n",
       "    </tr>\n",
       "    <tr>\n",
       "      <th>1</th>\n",
       "      <td>310002</td>\n",
       "      <td>True</td>\n",
       "      <td>article</td>\n",
       "      <td>Войны гипервизоров: To be continued</td>\n",
       "      <td>[IT Infrastructure, Virtualization, Cloud comp...</td>\n",
       "      <td>[Cloud4Y corporate blog, Hosting]</td>\n",
       "      <td>облачные вычисления,виртуализация,хостинг,гипе...</td>\n",
       "      <td>2016-09-15T07:56:08+00:00</td>\n",
       "      <td>19</td>\n",
       "      <td>23</td>\n",
       "      <td>...</td>\n",
       "      <td>12</td>\n",
       "      <td>5.0</td>\n",
       "      <td>ru</td>\n",
       "      <td>Cloud4Y</td>\n",
       "      <td>64252.0</td>\n",
       "      <td>178.0</td>\n",
       "      <td>348.0</td>\n",
       "      <td>62.3</td>\n",
       "      <td>Войны гипервизоров — дело непрерывное, и, наве...</td>\n",
       "      <td>0</td>\n",
       "    </tr>\n",
       "    <tr>\n",
       "      <th>13</th>\n",
       "      <td>310042</td>\n",
       "      <td>False</td>\n",
       "      <td>article</td>\n",
       "      <td>Строим свой full-stack на JavaScript: Сервер</td>\n",
       "      <td>[JavaScript, Designing and refactoring, Node.JS]</td>\n",
       "      <td>[]</td>\n",
       "      <td>typescript,node.js,express.js,full-stack apps,...</td>\n",
       "      <td>2016-09-16T06:14:14+00:00</td>\n",
       "      <td>228</td>\n",
       "      <td>27</td>\n",
       "      <td>...</td>\n",
       "      <td>7</td>\n",
       "      <td>13.0</td>\n",
       "      <td>ru</td>\n",
       "      <td>erik_syntyk</td>\n",
       "      <td>204112.0</td>\n",
       "      <td>18.0</td>\n",
       "      <td>30.0</td>\n",
       "      <td>0.0</td>\n",
       "      <td>Вторая статья из серии о full-stack JS разрабо...</td>\n",
       "      <td>0</td>\n",
       "    </tr>\n",
       "    <tr>\n",
       "      <th>15</th>\n",
       "      <td>310046</td>\n",
       "      <td>True</td>\n",
       "      <td>article</td>\n",
       "      <td>Как управлять гигантами Vol.3: полный цикл жиз...</td>\n",
       "      <td>[Development Management, Project management, P...</td>\n",
       "      <td>[AGIMA corporate blog, IT career]</td>\n",
       "      <td>agima</td>\n",
       "      <td>2016-09-15T10:21:23+00:00</td>\n",
       "      <td>66</td>\n",
       "      <td>0</td>\n",
       "      <td>...</td>\n",
       "      <td>1</td>\n",
       "      <td>8.0</td>\n",
       "      <td>ru</td>\n",
       "      <td>lobanov1</td>\n",
       "      <td>1219389.0</td>\n",
       "      <td>0.0</td>\n",
       "      <td>6.0</td>\n",
       "      <td>0.0</td>\n",
       "      <td>МетрикаСредняя конверсия (2015–й год)Коэффици...</td>\n",
       "      <td>0</td>\n",
       "    </tr>\n",
       "    <tr>\n",
       "      <th>28</th>\n",
       "      <td>310074</td>\n",
       "      <td>False</td>\n",
       "      <td>article</td>\n",
       "      <td>Dropbox на macOS использует приёмы malware, чт...</td>\n",
       "      <td>[Information Security, Development for MacOS]</td>\n",
       "      <td>[]</td>\n",
       "      <td>dropbox,mac os x,macos,osx,malware,backdoor,se...</td>\n",
       "      <td>2016-09-15T11:15:23+00:00</td>\n",
       "      <td>90</td>\n",
       "      <td>75</td>\n",
       "      <td>...</td>\n",
       "      <td>1</td>\n",
       "      <td>5.0</td>\n",
       "      <td>ru</td>\n",
       "      <td>eps</td>\n",
       "      <td>185184.0</td>\n",
       "      <td>34.0</td>\n",
       "      <td>68.0</td>\n",
       "      <td>0.0</td>\n",
       "      <td>Если у вас установлен Dropbox, загляните в Сис...</td>\n",
       "      <td>0</td>\n",
       "    </tr>\n",
       "    <tr>\n",
       "      <th>...</th>\n",
       "      <td>...</td>\n",
       "      <td>...</td>\n",
       "      <td>...</td>\n",
       "      <td>...</td>\n",
       "      <td>...</td>\n",
       "      <td>...</td>\n",
       "      <td>...</td>\n",
       "      <td>...</td>\n",
       "      <td>...</td>\n",
       "      <td>...</td>\n",
       "      <td>...</td>\n",
       "      <td>...</td>\n",
       "      <td>...</td>\n",
       "      <td>...</td>\n",
       "      <td>...</td>\n",
       "      <td>...</td>\n",
       "      <td>...</td>\n",
       "      <td>...</td>\n",
       "      <td>...</td>\n",
       "      <td>...</td>\n",
       "      <td>...</td>\n",
       "    </tr>\n",
       "    <tr>\n",
       "      <th>170543</th>\n",
       "      <td>773134</td>\n",
       "      <td>False</td>\n",
       "      <td>news</td>\n",
       "      <td>Engadget выпустил обзор Steam Deck OLED</td>\n",
       "      <td>[]</td>\n",
       "      <td>[Games and game consoles, Gadgets]</td>\n",
       "      <td>steam deck oled,steam deck,valve,портативные к...</td>\n",
       "      <td>2023-11-10T11:46:43+00:00</td>\n",
       "      <td>0</td>\n",
       "      <td>0</td>\n",
       "      <td>...</td>\n",
       "      <td>0</td>\n",
       "      <td>2.0</td>\n",
       "      <td>ru</td>\n",
       "      <td>Travis_Macrif</td>\n",
       "      <td>1782611.0</td>\n",
       "      <td>53.0</td>\n",
       "      <td>397.0</td>\n",
       "      <td>119.0</td>\n",
       "      <td>Техноблог Engadget представил обзор портативно...</td>\n",
       "      <td>0</td>\n",
       "    </tr>\n",
       "    <tr>\n",
       "      <th>170544</th>\n",
       "      <td>773138</td>\n",
       "      <td>False</td>\n",
       "      <td>news</td>\n",
       "      <td>ЦБ планирует внедрить стандарт безопасности оп...</td>\n",
       "      <td>[Payment systems, Information Security]</td>\n",
       "      <td>[Finance in IT]</td>\n",
       "      <td>банк россии,цб,qr-коды,информационная безопасн...</td>\n",
       "      <td>2023-11-10T11:49:58+00:00</td>\n",
       "      <td>0</td>\n",
       "      <td>0</td>\n",
       "      <td>...</td>\n",
       "      <td>0</td>\n",
       "      <td>1.0</td>\n",
       "      <td>ru</td>\n",
       "      <td>LizzieSimpson</td>\n",
       "      <td>3000027.0</td>\n",
       "      <td>60.0</td>\n",
       "      <td>242.0</td>\n",
       "      <td>142.7</td>\n",
       "      <td>Банк России разрабатывает стандарт, который по...</td>\n",
       "      <td>0</td>\n",
       "    </tr>\n",
       "    <tr>\n",
       "      <th>170545</th>\n",
       "      <td>773140</td>\n",
       "      <td>False</td>\n",
       "      <td>article</td>\n",
       "      <td>Отчёт о походе на выставку ретроконсолей от «Я...</td>\n",
       "      <td>[]</td>\n",
       "      <td>[Games and game consoles, History of IT, Weara...</td>\n",
       "      <td>электроника,электроника-25,ретроконсоли,game&amp;a...</td>\n",
       "      <td>2023-11-10T11:52:49+00:00</td>\n",
       "      <td>0</td>\n",
       "      <td>0</td>\n",
       "      <td>...</td>\n",
       "      <td>0</td>\n",
       "      <td>12.0</td>\n",
       "      <td>ru</td>\n",
       "      <td>IgnatChuker</td>\n",
       "      <td>2746691.0</td>\n",
       "      <td>76.0</td>\n",
       "      <td>346.0</td>\n",
       "      <td>142.5</td>\n",
       "      <td>Информационная служба Хабра посетила выставку,...</td>\n",
       "      <td>0</td>\n",
       "    </tr>\n",
       "    <tr>\n",
       "      <th>170546</th>\n",
       "      <td>773142</td>\n",
       "      <td>True</td>\n",
       "      <td>article</td>\n",
       "      <td>Разработка через тестирование. Совместное испо...</td>\n",
       "      <td>[IT systems testing, TDD]</td>\n",
       "      <td>[Сбер corporate blog]</td>\n",
       "      <td>разработка через тестирование,mockito,junit</td>\n",
       "      <td>2023-11-10T12:04:46+00:00</td>\n",
       "      <td>0</td>\n",
       "      <td>0</td>\n",
       "      <td>...</td>\n",
       "      <td>0</td>\n",
       "      <td>10.0</td>\n",
       "      <td>ru</td>\n",
       "      <td>NewTechAudit</td>\n",
       "      <td>2343413.0</td>\n",
       "      <td>85.0</td>\n",
       "      <td>157.0</td>\n",
       "      <td>19.0</td>\n",
       "      <td>Привет, Хабр! На связи участница профессиональ...</td>\n",
       "      <td>0</td>\n",
       "    </tr>\n",
       "    <tr>\n",
       "      <th>170547</th>\n",
       "      <td>773144</td>\n",
       "      <td>False</td>\n",
       "      <td>news</td>\n",
       "      <td>«Джеймс Уэбб» и «Хаббл» объединились для созда...</td>\n",
       "      <td>[Research and forecasts in IT]</td>\n",
       "      <td>[Astronomy, Physics, Popular science]</td>\n",
       "      <td>НАСА,гравитационное линзирование,Джеймс Уэбб,Х...</td>\n",
       "      <td>2023-11-10T12:06:30+00:00</td>\n",
       "      <td>0</td>\n",
       "      <td>0</td>\n",
       "      <td>...</td>\n",
       "      <td>0</td>\n",
       "      <td>2.0</td>\n",
       "      <td>ru</td>\n",
       "      <td>avouner</td>\n",
       "      <td>2288880.0</td>\n",
       "      <td>83.0</td>\n",
       "      <td>321.0</td>\n",
       "      <td>15.5</td>\n",
       "      <td>Специалисты исследователькой группы CANUCS объ...</td>\n",
       "      <td>0</td>\n",
       "    </tr>\n",
       "  </tbody>\n",
       "</table>\n",
       "<p>80023 rows × 23 columns</p>\n",
       "</div>"
      ],
      "text/plain": [
       "            id  is_corporative posttype  \\\n",
       "0       310000            True  article   \n",
       "1       310002            True  article   \n",
       "13      310042           False  article   \n",
       "15      310046            True  article   \n",
       "28      310074           False  article   \n",
       "...        ...             ...      ...   \n",
       "170543  773134           False     news   \n",
       "170544  773138           False     news   \n",
       "170545  773140           False  article   \n",
       "170546  773142            True  article   \n",
       "170547  773144           False     news   \n",
       "\n",
       "                                                    title  \\\n",
       "0             Как мы неделю чинили compaction в Cassandra   \n",
       "1                     Войны гипервизоров: To be continued   \n",
       "13           Строим свой full-stack на JavaScript: Сервер   \n",
       "15      Как управлять гигантами Vol.3: полный цикл жиз...   \n",
       "28      Dropbox на macOS использует приёмы malware, чт...   \n",
       "...                                                   ...   \n",
       "170543            Engadget выпустил обзор Steam Deck OLED   \n",
       "170544  ЦБ планирует внедрить стандарт безопасности оп...   \n",
       "170545  Отчёт о походе на выставку ретроконсолей от «Я...   \n",
       "170546  Разработка через тестирование. Совместное испо...   \n",
       "170547  «Джеймс Уэбб» и «Хаббл» объединились для созда...   \n",
       "\n",
       "                                                 hubs_pro  \\\n",
       "0           [System administration, Data storage, DevOps]   \n",
       "1       [IT Infrastructure, Virtualization, Cloud comp...   \n",
       "13       [JavaScript, Designing and refactoring, Node.JS]   \n",
       "15      [Development Management, Project management, P...   \n",
       "28          [Information Security, Development for MacOS]   \n",
       "...                                                   ...   \n",
       "170543                                                 []   \n",
       "170544            [Payment systems, Information Security]   \n",
       "170545                                                 []   \n",
       "170546                          [IT systems testing, TDD]   \n",
       "170547                     [Research and forecasts in IT]   \n",
       "\n",
       "                                               hubs_nopro  \\\n",
       "0                             [okmeter.io corporate blog]   \n",
       "1                       [Cloud4Y corporate blog, Hosting]   \n",
       "13                                                     []   \n",
       "15                      [AGIMA corporate blog, IT career]   \n",
       "28                                                     []   \n",
       "...                                                   ...   \n",
       "170543                 [Games and game consoles, Gadgets]   \n",
       "170544                                    [Finance in IT]   \n",
       "170545  [Games and game consoles, History of IT, Weara...   \n",
       "170546                              [Сбер corporate blog]   \n",
       "170547              [Astronomy, Physics, Popular science]   \n",
       "\n",
       "                                                     tags  \\\n",
       "0                         cassandra,nosql,troubleshooting   \n",
       "1       облачные вычисления,виртуализация,хостинг,гипе...   \n",
       "13      typescript,node.js,express.js,full-stack apps,...   \n",
       "15                                                  agima   \n",
       "28      dropbox,mac os x,macos,osx,malware,backdoor,se...   \n",
       "...                                                   ...   \n",
       "170543  steam deck oled,steam deck,valve,портативные к...   \n",
       "170544  банк россии,цб,qr-коды,информационная безопасн...   \n",
       "170545  электроника,электроника-25,ретроконсоли,game&a...   \n",
       "170546        разработка через тестирование,mockito,junit   \n",
       "170547  НАСА,гравитационное линзирование,Джеймс Уэбб,Х...   \n",
       "\n",
       "                   time_published  bookmarks  comments_count  ...  \\\n",
       "0       2016-09-17T06:11:00+00:00         45              13  ...   \n",
       "1       2016-09-15T07:56:08+00:00         19              23  ...   \n",
       "13      2016-09-16T06:14:14+00:00        228              27  ...   \n",
       "15      2016-09-15T10:21:23+00:00         66               0  ...   \n",
       "28      2016-09-15T11:15:23+00:00         90              75  ...   \n",
       "...                           ...        ...             ...  ...   \n",
       "170543  2023-11-10T11:46:43+00:00          0               0  ...   \n",
       "170544  2023-11-10T11:49:58+00:00          0               0  ...   \n",
       "170545  2023-11-10T11:52:49+00:00          0               0  ...   \n",
       "170546  2023-11-10T12:04:46+00:00          0               0  ...   \n",
       "170547  2023-11-10T12:06:30+00:00          0               0  ...   \n",
       "\n",
       "        negative_votes  reading_time  lang    author_name  author_id  karma  \\\n",
       "0                    1           7.0    ru   NikolaySivko  1140878.0   63.0   \n",
       "1                   12           5.0    ru        Cloud4Y    64252.0  178.0   \n",
       "13                   7          13.0    ru    erik_syntyk   204112.0   18.0   \n",
       "15                   1           8.0    ru       lobanov1  1219389.0    0.0   \n",
       "28                   1           5.0    ru            eps   185184.0   34.0   \n",
       "...                ...           ...   ...            ...        ...    ...   \n",
       "170543               0           2.0    ru  Travis_Macrif  1782611.0   53.0   \n",
       "170544               0           1.0    ru  LizzieSimpson  3000027.0   60.0   \n",
       "170545               0          12.0    ru    IgnatChuker  2746691.0   76.0   \n",
       "170546               0          10.0    ru   NewTechAudit  2343413.0   85.0   \n",
       "170547               0           2.0    ru        avouner  2288880.0   83.0   \n",
       "\n",
       "       karma_votes  rating                                               text  \\\n",
       "0             69.0     0.0   Основным хранилищем метрик у нас является cas...   \n",
       "1            348.0    62.3  Войны гипервизоров — дело непрерывное, и, наве...   \n",
       "13            30.0     0.0  Вторая статья из серии о full-stack JS разрабо...   \n",
       "15             6.0     0.0   МетрикаСредняя конверсия (2015–й год)Коэффици...   \n",
       "28            68.0     0.0  Если у вас установлен Dropbox, загляните в Сис...   \n",
       "...            ...     ...                                                ...   \n",
       "170543       397.0   119.0  Техноблог Engadget представил обзор портативно...   \n",
       "170544       242.0   142.7  Банк России разрабатывает стандарт, который по...   \n",
       "170545       346.0   142.5  Информационная служба Хабра посетила выставку,...   \n",
       "170546       157.0    19.0  Привет, Хабр! На связи участница профессиональ...   \n",
       "170547       321.0    15.5  Специалисты исследователькой группы CANUCS объ...   \n",
       "\n",
       "        hubs  \n",
       "0          0  \n",
       "1          0  \n",
       "13         0  \n",
       "15         0  \n",
       "28         0  \n",
       "...      ...  \n",
       "170543     0  \n",
       "170544     0  \n",
       "170545     0  \n",
       "170546     0  \n",
       "170547     0  \n",
       "\n",
       "[80023 rows x 23 columns]"
      ]
     },
     "execution_count": 28,
     "metadata": {},
     "output_type": "execute_result"
    }
   ],
   "source": [
    "big_frame_only_text['hubs'] = 0\n",
    "big_frame_only_text"
   ]
  },
  {
   "cell_type": "code",
   "execution_count": 29,
   "id": "d0555477-0453-40aa-b644-a83c8d234e61",
   "metadata": {
    "tags": []
   },
   "outputs": [
    {
     "data": {
      "application/vnd.jupyter.widget-view+json": {
       "model_id": "5959ac98136a46a0bb649f5ec584c8f5",
       "version_major": 2,
       "version_minor": 0
      },
      "text/plain": [
       "  0%|          | 0/80023 [00:00<?, ?it/s]"
      ]
     },
     "metadata": {},
     "output_type": "display_data"
    },
    {
     "name": "stdout",
     "output_type": "stream",
     "text": [
      "Success!\n",
      "CPU times: total: 188 ms\n",
      "Wall time: 1.67 s\n"
     ]
    }
   ],
   "source": [
    "%%time\n",
    "for i in tqdm(big_frame_only_text.index):\n",
    "    if len(big_frame_only_text['hubs_pro'][i]) != 0:\n",
    "        big_frame_only_text['hubs'][i] = big_frame_only_text['hubs_pro'][i][0]\n",
    "    else:\n",
    "        big_frame_only_text['hubs'][i] = big_frame_only_text['hubs_nopro'][i][0]\n",
    "print('Success!')"
   ]
  },
  {
   "cell_type": "code",
   "execution_count": 30,
   "id": "5f885e12-7f35-4b43-bdd2-35bc424c88f3",
   "metadata": {},
   "outputs": [
    {
     "data": {
      "text/html": [
       "<div>\n",
       "<style scoped>\n",
       "    .dataframe tbody tr th:only-of-type {\n",
       "        vertical-align: middle;\n",
       "    }\n",
       "\n",
       "    .dataframe tbody tr th {\n",
       "        vertical-align: top;\n",
       "    }\n",
       "\n",
       "    .dataframe thead th {\n",
       "        text-align: right;\n",
       "    }\n",
       "</style>\n",
       "<table border=\"1\" class=\"dataframe\">\n",
       "  <thead>\n",
       "    <tr style=\"text-align: right;\">\n",
       "      <th></th>\n",
       "      <th>id</th>\n",
       "      <th>is_corporative</th>\n",
       "      <th>posttype</th>\n",
       "      <th>title</th>\n",
       "      <th>hubs_pro</th>\n",
       "      <th>hubs_nopro</th>\n",
       "      <th>tags</th>\n",
       "      <th>time_published</th>\n",
       "      <th>bookmarks</th>\n",
       "      <th>comments_count</th>\n",
       "      <th>...</th>\n",
       "      <th>negative_votes</th>\n",
       "      <th>reading_time</th>\n",
       "      <th>lang</th>\n",
       "      <th>author_name</th>\n",
       "      <th>author_id</th>\n",
       "      <th>karma</th>\n",
       "      <th>karma_votes</th>\n",
       "      <th>rating</th>\n",
       "      <th>text</th>\n",
       "      <th>hubs</th>\n",
       "    </tr>\n",
       "  </thead>\n",
       "  <tbody>\n",
       "    <tr>\n",
       "      <th>0</th>\n",
       "      <td>310000</td>\n",
       "      <td>True</td>\n",
       "      <td>article</td>\n",
       "      <td>Как мы неделю чинили compaction в Cassandra</td>\n",
       "      <td>[System administration, Data storage, DevOps]</td>\n",
       "      <td>[okmeter.io corporate blog]</td>\n",
       "      <td>cassandra,nosql,troubleshooting</td>\n",
       "      <td>2016-09-17T06:11:00+00:00</td>\n",
       "      <td>45</td>\n",
       "      <td>13</td>\n",
       "      <td>...</td>\n",
       "      <td>1</td>\n",
       "      <td>7.0</td>\n",
       "      <td>ru</td>\n",
       "      <td>NikolaySivko</td>\n",
       "      <td>1140878.0</td>\n",
       "      <td>63.0</td>\n",
       "      <td>69.0</td>\n",
       "      <td>0.0</td>\n",
       "      <td>Основным хранилищем метрик у нас является cas...</td>\n",
       "      <td>System administration</td>\n",
       "    </tr>\n",
       "    <tr>\n",
       "      <th>1</th>\n",
       "      <td>310002</td>\n",
       "      <td>True</td>\n",
       "      <td>article</td>\n",
       "      <td>Войны гипервизоров: To be continued</td>\n",
       "      <td>[IT Infrastructure, Virtualization, Cloud comp...</td>\n",
       "      <td>[Cloud4Y corporate blog, Hosting]</td>\n",
       "      <td>облачные вычисления,виртуализация,хостинг,гипе...</td>\n",
       "      <td>2016-09-15T07:56:08+00:00</td>\n",
       "      <td>19</td>\n",
       "      <td>23</td>\n",
       "      <td>...</td>\n",
       "      <td>12</td>\n",
       "      <td>5.0</td>\n",
       "      <td>ru</td>\n",
       "      <td>Cloud4Y</td>\n",
       "      <td>64252.0</td>\n",
       "      <td>178.0</td>\n",
       "      <td>348.0</td>\n",
       "      <td>62.3</td>\n",
       "      <td>Войны гипервизоров — дело непрерывное, и, наве...</td>\n",
       "      <td>IT Infrastructure</td>\n",
       "    </tr>\n",
       "    <tr>\n",
       "      <th>13</th>\n",
       "      <td>310042</td>\n",
       "      <td>False</td>\n",
       "      <td>article</td>\n",
       "      <td>Строим свой full-stack на JavaScript: Сервер</td>\n",
       "      <td>[JavaScript, Designing and refactoring, Node.JS]</td>\n",
       "      <td>[]</td>\n",
       "      <td>typescript,node.js,express.js,full-stack apps,...</td>\n",
       "      <td>2016-09-16T06:14:14+00:00</td>\n",
       "      <td>228</td>\n",
       "      <td>27</td>\n",
       "      <td>...</td>\n",
       "      <td>7</td>\n",
       "      <td>13.0</td>\n",
       "      <td>ru</td>\n",
       "      <td>erik_syntyk</td>\n",
       "      <td>204112.0</td>\n",
       "      <td>18.0</td>\n",
       "      <td>30.0</td>\n",
       "      <td>0.0</td>\n",
       "      <td>Вторая статья из серии о full-stack JS разрабо...</td>\n",
       "      <td>JavaScript</td>\n",
       "    </tr>\n",
       "  </tbody>\n",
       "</table>\n",
       "<p>3 rows × 23 columns</p>\n",
       "</div>"
      ],
      "text/plain": [
       "        id  is_corporative posttype  \\\n",
       "0   310000            True  article   \n",
       "1   310002            True  article   \n",
       "13  310042           False  article   \n",
       "\n",
       "                                           title  \\\n",
       "0    Как мы неделю чинили compaction в Cassandra   \n",
       "1            Войны гипервизоров: To be continued   \n",
       "13  Строим свой full-stack на JavaScript: Сервер   \n",
       "\n",
       "                                             hubs_pro  \\\n",
       "0       [System administration, Data storage, DevOps]   \n",
       "1   [IT Infrastructure, Virtualization, Cloud comp...   \n",
       "13   [JavaScript, Designing and refactoring, Node.JS]   \n",
       "\n",
       "                           hubs_nopro  \\\n",
       "0         [okmeter.io corporate blog]   \n",
       "1   [Cloud4Y corporate blog, Hosting]   \n",
       "13                                 []   \n",
       "\n",
       "                                                 tags  \\\n",
       "0                     cassandra,nosql,troubleshooting   \n",
       "1   облачные вычисления,виртуализация,хостинг,гипе...   \n",
       "13  typescript,node.js,express.js,full-stack apps,...   \n",
       "\n",
       "               time_published  bookmarks  comments_count  ...  negative_votes  \\\n",
       "0   2016-09-17T06:11:00+00:00         45              13  ...               1   \n",
       "1   2016-09-15T07:56:08+00:00         19              23  ...              12   \n",
       "13  2016-09-16T06:14:14+00:00        228              27  ...               7   \n",
       "\n",
       "    reading_time  lang   author_name  author_id  karma karma_votes  rating  \\\n",
       "0            7.0    ru  NikolaySivko  1140878.0   63.0        69.0     0.0   \n",
       "1            5.0    ru       Cloud4Y    64252.0  178.0       348.0    62.3   \n",
       "13          13.0    ru   erik_syntyk   204112.0   18.0        30.0     0.0   \n",
       "\n",
       "                                                 text                   hubs  \n",
       "0    Основным хранилищем метрик у нас является cas...  System administration  \n",
       "1   Войны гипервизоров — дело непрерывное, и, наве...      IT Infrastructure  \n",
       "13  Вторая статья из серии о full-stack JS разрабо...             JavaScript  \n",
       "\n",
       "[3 rows x 23 columns]"
      ]
     },
     "execution_count": 30,
     "metadata": {},
     "output_type": "execute_result"
    }
   ],
   "source": [
    "big_frame_only_text.head(3)"
   ]
  },
  {
   "cell_type": "code",
   "execution_count": 31,
   "id": "be1a44cf-434c-4300-8ca3-5ad0a00d8db6",
   "metadata": {},
   "outputs": [
    {
     "data": {
      "text/plain": [
       "hubs\n",
       "Information Security                             6211\n",
       "Programming                                      3983\n",
       "Popular science                                  3149\n",
       "Python                                           2720\n",
       "Website development                              2677\n",
       "                                                 ... \n",
       "Comparex corporate blog                             1\n",
       "СберЗдоровье corporate blog                         1\n",
       "RedSys corporate blog                               1\n",
       "Nebo Devices Ltd. corporate blog                    1\n",
       "Первая грузовая компания (ПГК) corporate blog       1\n",
       "Name: count, Length: 791, dtype: int64"
      ]
     },
     "execution_count": 31,
     "metadata": {},
     "output_type": "execute_result"
    }
   ],
   "source": [
    "big_frame_only_text['hubs'].value_counts()"
   ]
  },
  {
   "cell_type": "code",
   "execution_count": 32,
   "id": "bae0b76c-1fea-48e2-9186-6b32b35efb5c",
   "metadata": {},
   "outputs": [
    {
     "data": {
      "text/html": [
       "<div>\n",
       "<style scoped>\n",
       "    .dataframe tbody tr th:only-of-type {\n",
       "        vertical-align: middle;\n",
       "    }\n",
       "\n",
       "    .dataframe tbody tr th {\n",
       "        vertical-align: top;\n",
       "    }\n",
       "\n",
       "    .dataframe thead th {\n",
       "        text-align: right;\n",
       "    }\n",
       "</style>\n",
       "<table border=\"1\" class=\"dataframe\">\n",
       "  <thead>\n",
       "    <tr style=\"text-align: right;\">\n",
       "      <th></th>\n",
       "      <th>hubs</th>\n",
       "      <th>count</th>\n",
       "    </tr>\n",
       "  </thead>\n",
       "  <tbody>\n",
       "    <tr>\n",
       "      <th>0</th>\n",
       "      <td>Information Security</td>\n",
       "      <td>6211</td>\n",
       "    </tr>\n",
       "    <tr>\n",
       "      <th>1</th>\n",
       "      <td>Programming</td>\n",
       "      <td>3983</td>\n",
       "    </tr>\n",
       "    <tr>\n",
       "      <th>2</th>\n",
       "      <td>Popular science</td>\n",
       "      <td>3149</td>\n",
       "    </tr>\n",
       "    <tr>\n",
       "      <th>3</th>\n",
       "      <td>Python</td>\n",
       "      <td>2720</td>\n",
       "    </tr>\n",
       "    <tr>\n",
       "      <th>4</th>\n",
       "      <td>Website development</td>\n",
       "      <td>2677</td>\n",
       "    </tr>\n",
       "    <tr>\n",
       "      <th>...</th>\n",
       "      <td>...</td>\n",
       "      <td>...</td>\n",
       "    </tr>\n",
       "    <tr>\n",
       "      <th>786</th>\n",
       "      <td>Comparex corporate blog</td>\n",
       "      <td>1</td>\n",
       "    </tr>\n",
       "    <tr>\n",
       "      <th>787</th>\n",
       "      <td>СберЗдоровье corporate blog</td>\n",
       "      <td>1</td>\n",
       "    </tr>\n",
       "    <tr>\n",
       "      <th>788</th>\n",
       "      <td>RedSys corporate blog</td>\n",
       "      <td>1</td>\n",
       "    </tr>\n",
       "    <tr>\n",
       "      <th>789</th>\n",
       "      <td>Nebo Devices Ltd. corporate blog</td>\n",
       "      <td>1</td>\n",
       "    </tr>\n",
       "    <tr>\n",
       "      <th>790</th>\n",
       "      <td>Первая грузовая компания (ПГК) corporate blog</td>\n",
       "      <td>1</td>\n",
       "    </tr>\n",
       "  </tbody>\n",
       "</table>\n",
       "<p>791 rows × 2 columns</p>\n",
       "</div>"
      ],
      "text/plain": [
       "                                              hubs  count\n",
       "0                             Information Security   6211\n",
       "1                                      Programming   3983\n",
       "2                                  Popular science   3149\n",
       "3                                           Python   2720\n",
       "4                              Website development   2677\n",
       "..                                             ...    ...\n",
       "786                        Comparex corporate blog      1\n",
       "787                    СберЗдоровье corporate blog      1\n",
       "788                          RedSys corporate blog      1\n",
       "789               Nebo Devices Ltd. corporate blog      1\n",
       "790  Первая грузовая компания (ПГК) corporate blog      1\n",
       "\n",
       "[791 rows x 2 columns]"
      ]
     },
     "execution_count": 32,
     "metadata": {},
     "output_type": "execute_result"
    }
   ],
   "source": [
    "hub = pd.DataFrame(big_frame_only_text['hubs'].value_counts().reset_index())\n",
    "hub"
   ]
  },
  {
   "cell_type": "code",
   "execution_count": 49,
   "id": "d8f2f24b-50c0-40ca-8f0b-8d003e5f487b",
   "metadata": {},
   "outputs": [
    {
     "data": {
      "text/plain": [
       "774"
      ]
     },
     "execution_count": 49,
     "metadata": {},
     "output_type": "execute_result"
    }
   ],
   "source": [
    "len(hub[hub['count'] < 1000])"
   ]
  },
  {
   "cell_type": "code",
   "execution_count": 34,
   "id": "552aaf27-0c9f-4754-9262-cf95926c3ad5",
   "metadata": {
    "collapsed": true
   },
   "outputs": [
    {
     "ename": "TypeError",
     "evalue": "'>=' not supported between instances of 'str' and 'int'",
     "output_type": "error",
     "traceback": [
      "\u001b[1;31m---------------------------------------------------------------------------\u001b[0m",
      "\u001b[1;31mTypeError\u001b[0m                                 Traceback (most recent call last)",
      "Cell \u001b[1;32mIn[34], line 1\u001b[0m\n\u001b[1;32m----> 1\u001b[0m \u001b[38;5;28mlen\u001b[39m(hub[(hub[\u001b[38;5;124m'\u001b[39m\u001b[38;5;124mhubs\u001b[39m\u001b[38;5;124m'\u001b[39m] \u001b[38;5;241m>\u001b[39m\u001b[38;5;241m=\u001b[39m \u001b[38;5;241m20\u001b[39m) \u001b[38;5;241m&\u001b[39m (\u001b[38;5;124m'\u001b[39m\u001b[38;5;124mcorporate blog\u001b[39m\u001b[38;5;124m'\u001b[39m \u001b[38;5;129;01mnot\u001b[39;00m \u001b[38;5;129;01min\u001b[39;00m hub[\u001b[38;5;124m'\u001b[39m\u001b[38;5;124mindex\u001b[39m\u001b[38;5;124m'\u001b[39m])])\n",
      "File \u001b[1;32m~\\anaconda3\\Lib\\site-packages\\pandas\\core\\ops\\common.py:81\u001b[0m, in \u001b[0;36m_unpack_zerodim_and_defer.<locals>.new_method\u001b[1;34m(self, other)\u001b[0m\n\u001b[0;32m     77\u001b[0m             \u001b[38;5;28;01mreturn\u001b[39;00m \u001b[38;5;28mNotImplemented\u001b[39m\n\u001b[0;32m     79\u001b[0m other \u001b[38;5;241m=\u001b[39m item_from_zerodim(other)\n\u001b[1;32m---> 81\u001b[0m \u001b[38;5;28;01mreturn\u001b[39;00m method(\u001b[38;5;28mself\u001b[39m, other)\n",
      "File \u001b[1;32m~\\anaconda3\\Lib\\site-packages\\pandas\\core\\arraylike.py:60\u001b[0m, in \u001b[0;36mOpsMixin.__ge__\u001b[1;34m(self, other)\u001b[0m\n\u001b[0;32m     58\u001b[0m \u001b[38;5;129m@unpack_zerodim_and_defer\u001b[39m(\u001b[38;5;124m\"\u001b[39m\u001b[38;5;124m__ge__\u001b[39m\u001b[38;5;124m\"\u001b[39m)\n\u001b[0;32m     59\u001b[0m \u001b[38;5;28;01mdef\u001b[39;00m \u001b[38;5;21m__ge__\u001b[39m(\u001b[38;5;28mself\u001b[39m, other):\n\u001b[1;32m---> 60\u001b[0m     \u001b[38;5;28;01mreturn\u001b[39;00m \u001b[38;5;28mself\u001b[39m\u001b[38;5;241m.\u001b[39m_cmp_method(other, operator\u001b[38;5;241m.\u001b[39mge)\n",
      "File \u001b[1;32m~\\anaconda3\\Lib\\site-packages\\pandas\\core\\series.py:6096\u001b[0m, in \u001b[0;36mSeries._cmp_method\u001b[1;34m(self, other, op)\u001b[0m\n\u001b[0;32m   6093\u001b[0m rvalues \u001b[38;5;241m=\u001b[39m extract_array(other, extract_numpy\u001b[38;5;241m=\u001b[39m\u001b[38;5;28;01mTrue\u001b[39;00m, extract_range\u001b[38;5;241m=\u001b[39m\u001b[38;5;28;01mTrue\u001b[39;00m)\n\u001b[0;32m   6095\u001b[0m \u001b[38;5;28;01mwith\u001b[39;00m np\u001b[38;5;241m.\u001b[39merrstate(\u001b[38;5;28mall\u001b[39m\u001b[38;5;241m=\u001b[39m\u001b[38;5;124m\"\u001b[39m\u001b[38;5;124mignore\u001b[39m\u001b[38;5;124m\"\u001b[39m):\n\u001b[1;32m-> 6096\u001b[0m     res_values \u001b[38;5;241m=\u001b[39m ops\u001b[38;5;241m.\u001b[39mcomparison_op(lvalues, rvalues, op)\n\u001b[0;32m   6098\u001b[0m \u001b[38;5;28;01mreturn\u001b[39;00m \u001b[38;5;28mself\u001b[39m\u001b[38;5;241m.\u001b[39m_construct_result(res_values, name\u001b[38;5;241m=\u001b[39mres_name)\n",
      "File \u001b[1;32m~\\anaconda3\\Lib\\site-packages\\pandas\\core\\ops\\array_ops.py:293\u001b[0m, in \u001b[0;36mcomparison_op\u001b[1;34m(left, right, op)\u001b[0m\n\u001b[0;32m    290\u001b[0m     \u001b[38;5;28;01mreturn\u001b[39;00m invalid_comparison(lvalues, rvalues, op)\n\u001b[0;32m    292\u001b[0m \u001b[38;5;28;01melif\u001b[39;00m is_object_dtype(lvalues\u001b[38;5;241m.\u001b[39mdtype) \u001b[38;5;129;01mor\u001b[39;00m \u001b[38;5;28misinstance\u001b[39m(rvalues, \u001b[38;5;28mstr\u001b[39m):\n\u001b[1;32m--> 293\u001b[0m     res_values \u001b[38;5;241m=\u001b[39m comp_method_OBJECT_ARRAY(op, lvalues, rvalues)\n\u001b[0;32m    295\u001b[0m \u001b[38;5;28;01melse\u001b[39;00m:\n\u001b[0;32m    296\u001b[0m     res_values \u001b[38;5;241m=\u001b[39m _na_arithmetic_op(lvalues, rvalues, op, is_cmp\u001b[38;5;241m=\u001b[39m\u001b[38;5;28;01mTrue\u001b[39;00m)\n",
      "File \u001b[1;32m~\\anaconda3\\Lib\\site-packages\\pandas\\core\\ops\\array_ops.py:82\u001b[0m, in \u001b[0;36mcomp_method_OBJECT_ARRAY\u001b[1;34m(op, x, y)\u001b[0m\n\u001b[0;32m     80\u001b[0m     result \u001b[38;5;241m=\u001b[39m libops\u001b[38;5;241m.\u001b[39mvec_compare(x\u001b[38;5;241m.\u001b[39mravel(), y\u001b[38;5;241m.\u001b[39mravel(), op)\n\u001b[0;32m     81\u001b[0m \u001b[38;5;28;01melse\u001b[39;00m:\n\u001b[1;32m---> 82\u001b[0m     result \u001b[38;5;241m=\u001b[39m libops\u001b[38;5;241m.\u001b[39mscalar_compare(x\u001b[38;5;241m.\u001b[39mravel(), y, op)\n\u001b[0;32m     83\u001b[0m \u001b[38;5;28;01mreturn\u001b[39;00m result\u001b[38;5;241m.\u001b[39mreshape(x\u001b[38;5;241m.\u001b[39mshape)\n",
      "File \u001b[1;32m~\\anaconda3\\Lib\\site-packages\\pandas\\_libs\\ops.pyx:107\u001b[0m, in \u001b[0;36mpandas._libs.ops.scalar_compare\u001b[1;34m()\u001b[0m\n",
      "\u001b[1;31mTypeError\u001b[0m: '>=' not supported between instances of 'str' and 'int'"
     ]
    }
   ],
   "source": [
    "#len(hub[(hub['count'] >= 20) & ('corporate blog' not in hub['index'])]) # надо иначе фильтровать корп. блог"
   ]
  },
  {
   "cell_type": "code",
   "execution_count": 50,
   "id": "872a11ec-376d-449b-b1c8-2a4112d752db",
   "metadata": {},
   "outputs": [
    {
     "data": {
      "text/html": [
       "<div>\n",
       "<style scoped>\n",
       "    .dataframe tbody tr th:only-of-type {\n",
       "        vertical-align: middle;\n",
       "    }\n",
       "\n",
       "    .dataframe tbody tr th {\n",
       "        vertical-align: top;\n",
       "    }\n",
       "\n",
       "    .dataframe thead th {\n",
       "        text-align: right;\n",
       "    }\n",
       "</style>\n",
       "<table border=\"1\" class=\"dataframe\">\n",
       "  <thead>\n",
       "    <tr style=\"text-align: right;\">\n",
       "      <th></th>\n",
       "      <th>hubs</th>\n",
       "      <th>count</th>\n",
       "    </tr>\n",
       "  </thead>\n",
       "  <tbody>\n",
       "    <tr>\n",
       "      <th>0</th>\n",
       "      <td>Information Security</td>\n",
       "      <td>6211</td>\n",
       "    </tr>\n",
       "    <tr>\n",
       "      <th>1</th>\n",
       "      <td>Programming</td>\n",
       "      <td>3983</td>\n",
       "    </tr>\n",
       "    <tr>\n",
       "      <th>2</th>\n",
       "      <td>Popular science</td>\n",
       "      <td>3149</td>\n",
       "    </tr>\n",
       "    <tr>\n",
       "      <th>3</th>\n",
       "      <td>Python</td>\n",
       "      <td>2720</td>\n",
       "    </tr>\n",
       "    <tr>\n",
       "      <th>4</th>\n",
       "      <td>Website development</td>\n",
       "      <td>2677</td>\n",
       "    </tr>\n",
       "    <tr>\n",
       "      <th>...</th>\n",
       "      <td>...</td>\n",
       "      <td>...</td>\n",
       "    </tr>\n",
       "    <tr>\n",
       "      <th>280</th>\n",
       "      <td>Альфа-Банк corporate blog</td>\n",
       "      <td>21</td>\n",
       "    </tr>\n",
       "    <tr>\n",
       "      <th>281</th>\n",
       "      <td>HOSTKEY corporate blog</td>\n",
       "      <td>20</td>\n",
       "    </tr>\n",
       "    <tr>\n",
       "      <th>282</th>\n",
       "      <td>Browser extensions</td>\n",
       "      <td>20</td>\n",
       "    </tr>\n",
       "    <tr>\n",
       "      <th>283</th>\n",
       "      <td>Swift</td>\n",
       "      <td>20</td>\n",
       "    </tr>\n",
       "    <tr>\n",
       "      <th>284</th>\n",
       "      <td>Tablets</td>\n",
       "      <td>20</td>\n",
       "    </tr>\n",
       "  </tbody>\n",
       "</table>\n",
       "<p>285 rows × 2 columns</p>\n",
       "</div>"
      ],
      "text/plain": [
       "                          hubs  count\n",
       "0         Information Security   6211\n",
       "1                  Programming   3983\n",
       "2              Popular science   3149\n",
       "3                       Python   2720\n",
       "4          Website development   2677\n",
       "..                         ...    ...\n",
       "280  Альфа-Банк corporate blog     21\n",
       "281     HOSTKEY corporate blog     20\n",
       "282         Browser extensions     20\n",
       "283                      Swift     20\n",
       "284                    Tablets     20\n",
       "\n",
       "[285 rows x 2 columns]"
      ]
     },
     "execution_count": 50,
     "metadata": {},
     "output_type": "execute_result"
    }
   ],
   "source": [
    "hub_top285 = hub[hub['count'] >= 20]\n",
    "hub_top285 "
   ]
  },
  {
   "cell_type": "code",
   "execution_count": 51,
   "id": "fe5c62cf-5187-42d8-b28e-5ac757a19121",
   "metadata": {},
   "outputs": [
    {
     "data": {
      "text/html": [
       "<div>\n",
       "<style scoped>\n",
       "    .dataframe tbody tr th:only-of-type {\n",
       "        vertical-align: middle;\n",
       "    }\n",
       "\n",
       "    .dataframe tbody tr th {\n",
       "        vertical-align: top;\n",
       "    }\n",
       "\n",
       "    .dataframe thead th {\n",
       "        text-align: right;\n",
       "    }\n",
       "</style>\n",
       "<table border=\"1\" class=\"dataframe\">\n",
       "  <thead>\n",
       "    <tr style=\"text-align: right;\">\n",
       "      <th></th>\n",
       "      <th>hubs</th>\n",
       "      <th>count</th>\n",
       "      <th>num</th>\n",
       "    </tr>\n",
       "  </thead>\n",
       "  <tbody>\n",
       "    <tr>\n",
       "      <th>0</th>\n",
       "      <td>Information Security</td>\n",
       "      <td>6211</td>\n",
       "      <td>0</td>\n",
       "    </tr>\n",
       "    <tr>\n",
       "      <th>1</th>\n",
       "      <td>Programming</td>\n",
       "      <td>3983</td>\n",
       "      <td>1</td>\n",
       "    </tr>\n",
       "    <tr>\n",
       "      <th>2</th>\n",
       "      <td>Popular science</td>\n",
       "      <td>3149</td>\n",
       "      <td>2</td>\n",
       "    </tr>\n",
       "    <tr>\n",
       "      <th>3</th>\n",
       "      <td>Python</td>\n",
       "      <td>2720</td>\n",
       "      <td>3</td>\n",
       "    </tr>\n",
       "    <tr>\n",
       "      <th>4</th>\n",
       "      <td>Website development</td>\n",
       "      <td>2677</td>\n",
       "      <td>4</td>\n",
       "    </tr>\n",
       "    <tr>\n",
       "      <th>...</th>\n",
       "      <td>...</td>\n",
       "      <td>...</td>\n",
       "      <td>...</td>\n",
       "    </tr>\n",
       "    <tr>\n",
       "      <th>280</th>\n",
       "      <td>Альфа-Банк corporate blog</td>\n",
       "      <td>21</td>\n",
       "      <td>280</td>\n",
       "    </tr>\n",
       "    <tr>\n",
       "      <th>281</th>\n",
       "      <td>HOSTKEY corporate blog</td>\n",
       "      <td>20</td>\n",
       "      <td>281</td>\n",
       "    </tr>\n",
       "    <tr>\n",
       "      <th>282</th>\n",
       "      <td>Browser extensions</td>\n",
       "      <td>20</td>\n",
       "      <td>282</td>\n",
       "    </tr>\n",
       "    <tr>\n",
       "      <th>283</th>\n",
       "      <td>Swift</td>\n",
       "      <td>20</td>\n",
       "      <td>283</td>\n",
       "    </tr>\n",
       "    <tr>\n",
       "      <th>284</th>\n",
       "      <td>Tablets</td>\n",
       "      <td>20</td>\n",
       "      <td>284</td>\n",
       "    </tr>\n",
       "  </tbody>\n",
       "</table>\n",
       "<p>285 rows × 3 columns</p>\n",
       "</div>"
      ],
      "text/plain": [
       "                          hubs  count  num\n",
       "0         Information Security   6211    0\n",
       "1                  Programming   3983    1\n",
       "2              Popular science   3149    2\n",
       "3                       Python   2720    3\n",
       "4          Website development   2677    4\n",
       "..                         ...    ...  ...\n",
       "280  Альфа-Банк corporate blog     21  280\n",
       "281     HOSTKEY corporate blog     20  281\n",
       "282         Browser extensions     20  282\n",
       "283                      Swift     20  283\n",
       "284                    Tablets     20  284\n",
       "\n",
       "[285 rows x 3 columns]"
      ]
     },
     "execution_count": 51,
     "metadata": {},
     "output_type": "execute_result"
    }
   ],
   "source": [
    "hub_top285['num'] = hub_top285.index\n",
    "hub_top285"
   ]
  },
  {
   "cell_type": "code",
   "execution_count": 53,
   "id": "222f9620-bfd0-4508-8a7c-97bbe044541e",
   "metadata": {},
   "outputs": [],
   "source": [
    "HubMap = dict() # {hub_top285['index']: hub_top285['num']}\n",
    "for i in hub_top285.index:\n",
    "    HubMap[hub_top285['hubs'][i]] = hub_top285['num'][i]"
   ]
  },
  {
   "cell_type": "code",
   "execution_count": 54,
   "id": "7a8872e2-1c38-4171-89e9-a61c251bd427",
   "metadata": {
    "collapsed": true,
    "jupyter": {
     "outputs_hidden": true
    },
    "tags": []
   },
   "outputs": [
    {
     "data": {
      "text/plain": [
       "{'Information Security': 0,\n",
       " 'Programming': 1,\n",
       " 'Popular science': 2,\n",
       " 'Python': 3,\n",
       " 'Website development': 4,\n",
       " 'Open source': 5,\n",
       " 'Legislation in IT': 6,\n",
       " 'IT Infrastructure': 7,\n",
       " 'System administration': 8,\n",
       " 'JavaScript': 9,\n",
       " 'Personnel Management': 10,\n",
       " 'Game development': 11,\n",
       " 'Machine learning': 12,\n",
       " 'IT systems testing': 13,\n",
       " 'Gadgets': 14,\n",
       " 'Development for iOS': 15,\n",
       " 'System Analysis and Design': 16,\n",
       " 'High performance': 17,\n",
       " 'Development of mobile applications': 18,\n",
       " 'Project management': 19,\n",
       " 'Development Management': 20,\n",
       " 'Java': 21,\n",
       " 'Finance in IT': 22,\n",
       " 'Configuring Linux': 23,\n",
       " 'Manufacture and development of electronics': 24,\n",
       " 'Research and forecasts in IT': 25,\n",
       " 'Games and game consoles': 26,\n",
       " '.NET': 27,\n",
       " 'Social networks and communities': 28,\n",
       " 'Astronautics': 29,\n",
       " 'Algorithms': 30,\n",
       " 'Instant Messaging': 31,\n",
       " 'PHP': 32,\n",
       " 'Reading room': 33,\n",
       " 'Big Data': 34,\n",
       " 'Cloud services': 35,\n",
       " 'C++': 36,\n",
       " 'Product Management': 37,\n",
       " 'Transport': 38,\n",
       " 'Mathematics': 39,\n",
       " 'Development for Android': 40,\n",
       " 'IT career': 41,\n",
       " 'Abnormal programming': 42,\n",
       " 'Web design': 43,\n",
       " 'Decentralized networks': 44,\n",
       " 'Payment systems': 45,\n",
       " 'Image processing': 46,\n",
       " 'Internet marketing': 47,\n",
       " 'Studying in IT': 48,\n",
       " 'E-commerce management': 49,\n",
       " 'Computer hardware': 50,\n",
       " 'Data Mining': 51,\n",
       " 'Wireless technologies': 52,\n",
       " 'Network technologies': 53,\n",
       " 'Working with video': 54,\n",
       " 'PostgreSQL': 55,\n",
       " 'Artificial Intelligence': 56,\n",
       " 'Слёрм corporate blog': 57,\n",
       " 'Hackathon': 58,\n",
       " 'Patenting': 59,\n",
       " 'Energy and batteries': 60,\n",
       " 'Search engines': 61,\n",
       " 'DevOps': 62,\n",
       " 'IT-companies': 63,\n",
       " 'IT-emigration': 64,\n",
       " 'Business Models': 65,\n",
       " 'Interfaces': 66,\n",
       " 'Programming microcontrollers': 67,\n",
       " 'Smartphones': 68,\n",
       " 'Robotics development': 69,\n",
       " 'Self Promo': 70,\n",
       " 'Community management': 71,\n",
       " 'Working with 3D-graphics': 72,\n",
       " 'Data storage': 73,\n",
       " 'Cryptography': 74,\n",
       " 'Health': 75,\n",
       " 'Go': 76,\n",
       " 'Statistics in IT': 77,\n",
       " 'Robotics': 78,\n",
       " 'API': 79,\n",
       " 'Sales management': 80,\n",
       " 'Web services testing': 81,\n",
       " 'Start-up development': 82,\n",
       " 'getmatch corporate blog': 83,\n",
       " 'Development of communication systems': 84,\n",
       " 'CSS': 85,\n",
       " 'Geoinformation services': 86,\n",
       " 'SQL': 87,\n",
       " 'Development for Windows': 88,\n",
       " 'Software': 89,\n",
       " 'Systems engineering': 90,\n",
       " 'Top 3D Shop corporate blog': 91,\n",
       " 'History of IT': 92,\n",
       " 'Professional literature': 93,\n",
       " 'CMS': 94,\n",
       " 'DIY': 95,\n",
       " '*nix': 96,\n",
       " 'Content-marketing': 97,\n",
       " 'Cryptocurrencies': 98,\n",
       " 'РСХБ.цифра (Россельхозбанк) corporate blog': 99,\n",
       " 'Cloud computing': 100,\n",
       " 'IT Standards': 101,\n",
       " 'Data visualization': 102,\n",
       " 'Virtualization': 103,\n",
       " 'Development for AR and VR': 104,\n",
       " 'Git': 105,\n",
       " 'Freelance': 106,\n",
       " 'GTD': 107,\n",
       " 'Ruby': 108,\n",
       " 'CAD/CAM': 109,\n",
       " 'Brain': 110,\n",
       " 'FirstVDS corporate blog': 111,\n",
       " 'Industrial Programming': 112,\n",
       " 'Microsoft SQL Server': 113,\n",
       " 'ITSOFT corporate blog': 114,\n",
       " 'Developing for Arduino': 115,\n",
       " 'МТС corporate blog': 116,\n",
       " 'Database Administration': 117,\n",
       " 'Sport programming': 118,\n",
       " 'Circuit design': 119,\n",
       " 'Reverse engineering': 120,\n",
       " 'Network standards': 121,\n",
       " 'VK corporate blog': 122,\n",
       " 'Conferences': 123,\n",
       " 'System Programming': 124,\n",
       " 'Display advertising': 125,\n",
       " 'Server Administration': 126,\n",
       " 'Аудиомания corporate blog': 127,\n",
       " 'Agile': 128,\n",
       " 'ERP-systems': 129,\n",
       " 'Smart House': 130,\n",
       " 'Oracle': 131,\n",
       " 'Development for e-commerce': 132,\n",
       " 'FPGA': 133,\n",
       " 'MySQL': 134,\n",
       " 'Development for Linux': 135,\n",
       " 'Pochtoy.com corporate blog': 136,\n",
       " 'Lumber room': 137,\n",
       " 'Сбер corporate blog': 138,\n",
       " 'Cloud4Y corporate blog': 139,\n",
       " 'Copyright': 140,\n",
       " 'ReactJS': 141,\n",
       " 'Usability': 142,\n",
       " 'Assembler': 143,\n",
       " 'Graphic design': 144,\n",
       " 'C': 145,\n",
       " 'Design': 146,\n",
       " 'Development for Raspberry Pi': 147,\n",
       " 'Ecology': 148,\n",
       " 'Web analytics': 149,\n",
       " 'OpenStreetMap': 150,\n",
       " 'Semantics': 151,\n",
       " 'Web services monetization': 152,\n",
       " '1C': 153,\n",
       " 'EnglishDom corporate blog': 154,\n",
       " 'Voice user interfaces': 155,\n",
       " 'М.Видео-Эльдорадо corporate blog': 156,\n",
       " 'Mobile applications design': 157,\n",
       " 'Node.JS': 158,\n",
       " 'Contextual advertising': 159,\n",
       " 'Perfect code': 160,\n",
       " 'Dart': 161,\n",
       " 'Venture investment': 162,\n",
       " 'Development for MacOS': 163,\n",
       " 'Epson corporate blog': 164,\n",
       " 'Browsers': 165,\n",
       " 'Designing and refactoring': 166,\n",
       " 'Amazon Web Services': 167,\n",
       " 'Old hardware': 168,\n",
       " 'Нанософт разработка corporate blog': 169,\n",
       " 'CRM systems': 170,\n",
       " 'Language localisation': 171,\n",
       " 'Biotechnologies': 172,\n",
       " 'Angular': 173,\n",
       " 'OTUS corporate blog': 174,\n",
       " 'Learning languages': 175,\n",
       " 'AR and VR': 176,\n",
       " 'Games monetization': 177,\n",
       " 'Kubernetes': 178,\n",
       " 'ГК ITGLOBAL.COM corporate blog': 179,\n",
       " 'Unity3D': 180,\n",
       " '3D printers': 181,\n",
       " 'Server optimization': 182,\n",
       " 'Rust': 183,\n",
       " 'Science fiction': 184,\n",
       " 'Skillfactory corporate blog': 185,\n",
       " 'Mobile applications monetization': 186,\n",
       " 'GitHub': 187,\n",
       " 'Service Desk': 188,\n",
       " 'Microservices': 189,\n",
       " 'CPU': 190,\n",
       " 'Madrobots corporate blog': 191,\n",
       " 'C#': 192,\n",
       " 'Microsoft Azure': 193,\n",
       " 'Cellular communication': 194,\n",
       " 'Technical Writing': 195,\n",
       " 'Data storages': 196,\n",
       " 'Global Positioning Systems': 197,\n",
       " 'Development for IOT': 198,\n",
       " 'Natural Language Processing': 199,\n",
       " 'SaaS / S+S': 200,\n",
       " 'Apache': 201,\n",
       " 'Open data': 202,\n",
       " 'Media management': 203,\n",
       " 'Scala': 204,\n",
       " 'Laptops': 205,\n",
       " 'Game design': 206,\n",
       " 'Data Engineering': 207,\n",
       " 'R': 208,\n",
       " 'Domain names administrating': 209,\n",
       " 'Digital Rights Center corporate blog': 210,\n",
       " 'Periphery': 211,\n",
       " 'Client optimization': 212,\n",
       " 'PVS-Studio corporate blog': 213,\n",
       " 'Lifehacks for geeks': 214,\n",
       " 'Prototyping': 215,\n",
       " 'Группа компаний X-Com corporate blog': 216,\n",
       " 'Help Desk Software': 217,\n",
       " '1С-Bitrix': 218,\n",
       " 'Mobile App Analytics': 219,\n",
       " 'Google Chrome': 220,\n",
       " 'Kotlin': 221,\n",
       " 'NoSQL': 222,\n",
       " 'Mobile applications testing': 223,\n",
       " 'Timeweb Cloud corporate blog': 224,\n",
       " 'Habr': 225,\n",
       " 'ISPsystem corporate blog': 226,\n",
       " 'Monitors and TV': 227,\n",
       " 'ГК ЛАНИТ corporate blog': 228,\n",
       " 'Хабр Карьера corporate blog': 229,\n",
       " 'JUG Ru Group corporate blog': 230,\n",
       " 'Sound': 231,\n",
       " 'WordPress': 232,\n",
       " 'Games promotion': 233,\n",
       " 'Data recovery': 234,\n",
       " 'Education abroad': 235,\n",
       " 'Habr corporate blog': 236,\n",
       " 'Physics': 237,\n",
       " 'Cyberpunk': 238,\n",
       " 'red_mad_robot corporate blog': 239,\n",
       " 'Game testing': 240,\n",
       " 'Backup': 241,\n",
       " 'Multicopters': 242,\n",
       " 'Monetization of IT systems': 243,\n",
       " 'Perl': 244,\n",
       " 'Leader-ID corporate blog': 245,\n",
       " 'Distributed systems': 246,\n",
       " 'Antivirus protection': 247,\n",
       " 'EPAM corporate blog': 248,\n",
       " 'Astronomy': 249,\n",
       " 'Debugging': 250,\n",
       " 'Онлайн Патент corporate blog': 251,\n",
       " 'Cisco': 252,\n",
       " 'Typography': 253,\n",
       " 'Branding': 254,\n",
       " 'VIM': 255,\n",
       " 'Concurrent computing': 256,\n",
       " 'Инфосистемы Джет corporate blog': 257,\n",
       " 'Visual Studio': 258,\n",
       " 'Video cards': 259,\n",
       " 'Nginx': 260,\n",
       " 'VueJS': 261,\n",
       " 'Solidity': 262,\n",
       " 'Firefox': 263,\n",
       " 'Compilers': 264,\n",
       " 'Growth Hacking': 265,\n",
       " 'Search engine optimization': 266,\n",
       " 'Brave corporate blog': 267,\n",
       " 'Zextras corporate blog': 268,\n",
       " 'TypeScript': 269,\n",
       " 'AGIMA corporate blog': 270,\n",
       " 'Development for Office 365': 271,\n",
       " 'Functional Programming': 272,\n",
       " 'HTML': 273,\n",
       " 'Wearable electronics': 274,\n",
       " 'PowerShell': 275,\n",
       " 'Video equipment': 276,\n",
       " 'Vivaldi Technologies AS corporate blog': 277,\n",
       " 'ECM': 278,\n",
       " 'Maxilect corporate blog': 279,\n",
       " 'Альфа-Банк corporate blog': 280,\n",
       " 'HOSTKEY corporate blog': 281,\n",
       " 'Browser extensions': 282,\n",
       " 'Swift': 283,\n",
       " 'Tablets': 284}"
      ]
     },
     "execution_count": 54,
     "metadata": {},
     "output_type": "execute_result"
    }
   ],
   "source": [
    "HubMap"
   ]
  },
  {
   "cell_type": "code",
   "execution_count": 55,
   "id": "224573cd-79d4-41e4-8bef-20ef1741ece8",
   "metadata": {},
   "outputs": [],
   "source": [
    "big_frame_only_text['hub_class'] = 285"
   ]
  },
  {
   "cell_type": "code",
   "execution_count": 56,
   "id": "877032a7-aef8-48ab-9cc3-12f6ba6b494f",
   "metadata": {},
   "outputs": [
    {
     "data": {
      "text/plain": [
       "dtype('int64')"
      ]
     },
     "execution_count": 56,
     "metadata": {},
     "output_type": "execute_result"
    }
   ],
   "source": [
    "big_frame_only_text['hub_class'][0].dtype"
   ]
  },
  {
   "cell_type": "code",
   "execution_count": 57,
   "id": "93bbb350-6435-468f-89c5-0b3bc208b4b6",
   "metadata": {},
   "outputs": [],
   "source": [
    "big_frame_only_text['hub_class'] = np.float16(big_frame_only_text['hub_class'])"
   ]
  },
  {
   "cell_type": "code",
   "execution_count": 58,
   "id": "87c1a0f1-a931-4787-8d20-e25cef33bd82",
   "metadata": {},
   "outputs": [
    {
     "data": {
      "text/plain": [
       "dtype('float16')"
      ]
     },
     "execution_count": 58,
     "metadata": {},
     "output_type": "execute_result"
    }
   ],
   "source": [
    "big_frame_only_text['hub_class'][0].dtype"
   ]
  },
  {
   "cell_type": "code",
   "execution_count": 59,
   "id": "d7848cdd-f921-4d29-90c0-3c12b2649285",
   "metadata": {},
   "outputs": [
    {
     "data": {
      "text/html": [
       "<div>\n",
       "<style scoped>\n",
       "    .dataframe tbody tr th:only-of-type {\n",
       "        vertical-align: middle;\n",
       "    }\n",
       "\n",
       "    .dataframe tbody tr th {\n",
       "        vertical-align: top;\n",
       "    }\n",
       "\n",
       "    .dataframe thead th {\n",
       "        text-align: right;\n",
       "    }\n",
       "</style>\n",
       "<table border=\"1\" class=\"dataframe\">\n",
       "  <thead>\n",
       "    <tr style=\"text-align: right;\">\n",
       "      <th></th>\n",
       "      <th>id</th>\n",
       "      <th>is_corporative</th>\n",
       "      <th>posttype</th>\n",
       "      <th>title</th>\n",
       "      <th>hubs_pro</th>\n",
       "      <th>hubs_nopro</th>\n",
       "      <th>tags</th>\n",
       "      <th>time_published</th>\n",
       "      <th>bookmarks</th>\n",
       "      <th>comments_count</th>\n",
       "      <th>...</th>\n",
       "      <th>reading_time</th>\n",
       "      <th>lang</th>\n",
       "      <th>author_name</th>\n",
       "      <th>author_id</th>\n",
       "      <th>karma</th>\n",
       "      <th>karma_votes</th>\n",
       "      <th>rating</th>\n",
       "      <th>text</th>\n",
       "      <th>hubs</th>\n",
       "      <th>hub_class</th>\n",
       "    </tr>\n",
       "  </thead>\n",
       "  <tbody>\n",
       "    <tr>\n",
       "      <th>0</th>\n",
       "      <td>310000</td>\n",
       "      <td>True</td>\n",
       "      <td>article</td>\n",
       "      <td>Как мы неделю чинили compaction в Cassandra</td>\n",
       "      <td>[System administration, Data storage, DevOps]</td>\n",
       "      <td>[okmeter.io corporate blog]</td>\n",
       "      <td>cassandra,nosql,troubleshooting</td>\n",
       "      <td>2016-09-17T06:11:00+00:00</td>\n",
       "      <td>45</td>\n",
       "      <td>13</td>\n",
       "      <td>...</td>\n",
       "      <td>7.0</td>\n",
       "      <td>ru</td>\n",
       "      <td>NikolaySivko</td>\n",
       "      <td>1140878.0</td>\n",
       "      <td>63.0</td>\n",
       "      <td>69.0</td>\n",
       "      <td>0.0</td>\n",
       "      <td>Основным хранилищем метрик у нас является cas...</td>\n",
       "      <td>System administration</td>\n",
       "      <td>285.0</td>\n",
       "    </tr>\n",
       "    <tr>\n",
       "      <th>1</th>\n",
       "      <td>310002</td>\n",
       "      <td>True</td>\n",
       "      <td>article</td>\n",
       "      <td>Войны гипервизоров: To be continued</td>\n",
       "      <td>[IT Infrastructure, Virtualization, Cloud comp...</td>\n",
       "      <td>[Cloud4Y corporate blog, Hosting]</td>\n",
       "      <td>облачные вычисления,виртуализация,хостинг,гипе...</td>\n",
       "      <td>2016-09-15T07:56:08+00:00</td>\n",
       "      <td>19</td>\n",
       "      <td>23</td>\n",
       "      <td>...</td>\n",
       "      <td>5.0</td>\n",
       "      <td>ru</td>\n",
       "      <td>Cloud4Y</td>\n",
       "      <td>64252.0</td>\n",
       "      <td>178.0</td>\n",
       "      <td>348.0</td>\n",
       "      <td>62.3</td>\n",
       "      <td>Войны гипервизоров — дело непрерывное, и, наве...</td>\n",
       "      <td>IT Infrastructure</td>\n",
       "      <td>285.0</td>\n",
       "    </tr>\n",
       "    <tr>\n",
       "      <th>13</th>\n",
       "      <td>310042</td>\n",
       "      <td>False</td>\n",
       "      <td>article</td>\n",
       "      <td>Строим свой full-stack на JavaScript: Сервер</td>\n",
       "      <td>[JavaScript, Designing and refactoring, Node.JS]</td>\n",
       "      <td>[]</td>\n",
       "      <td>typescript,node.js,express.js,full-stack apps,...</td>\n",
       "      <td>2016-09-16T06:14:14+00:00</td>\n",
       "      <td>228</td>\n",
       "      <td>27</td>\n",
       "      <td>...</td>\n",
       "      <td>13.0</td>\n",
       "      <td>ru</td>\n",
       "      <td>erik_syntyk</td>\n",
       "      <td>204112.0</td>\n",
       "      <td>18.0</td>\n",
       "      <td>30.0</td>\n",
       "      <td>0.0</td>\n",
       "      <td>Вторая статья из серии о full-stack JS разрабо...</td>\n",
       "      <td>JavaScript</td>\n",
       "      <td>285.0</td>\n",
       "    </tr>\n",
       "  </tbody>\n",
       "</table>\n",
       "<p>3 rows × 24 columns</p>\n",
       "</div>"
      ],
      "text/plain": [
       "        id  is_corporative posttype  \\\n",
       "0   310000            True  article   \n",
       "1   310002            True  article   \n",
       "13  310042           False  article   \n",
       "\n",
       "                                           title  \\\n",
       "0    Как мы неделю чинили compaction в Cassandra   \n",
       "1            Войны гипервизоров: To be continued   \n",
       "13  Строим свой full-stack на JavaScript: Сервер   \n",
       "\n",
       "                                             hubs_pro  \\\n",
       "0       [System administration, Data storage, DevOps]   \n",
       "1   [IT Infrastructure, Virtualization, Cloud comp...   \n",
       "13   [JavaScript, Designing and refactoring, Node.JS]   \n",
       "\n",
       "                           hubs_nopro  \\\n",
       "0         [okmeter.io corporate blog]   \n",
       "1   [Cloud4Y corporate blog, Hosting]   \n",
       "13                                 []   \n",
       "\n",
       "                                                 tags  \\\n",
       "0                     cassandra,nosql,troubleshooting   \n",
       "1   облачные вычисления,виртуализация,хостинг,гипе...   \n",
       "13  typescript,node.js,express.js,full-stack apps,...   \n",
       "\n",
       "               time_published  bookmarks  comments_count  ...  reading_time  \\\n",
       "0   2016-09-17T06:11:00+00:00         45              13  ...           7.0   \n",
       "1   2016-09-15T07:56:08+00:00         19              23  ...           5.0   \n",
       "13  2016-09-16T06:14:14+00:00        228              27  ...          13.0   \n",
       "\n",
       "    lang   author_name  author_id  karma karma_votes rating  \\\n",
       "0     ru  NikolaySivko  1140878.0   63.0        69.0    0.0   \n",
       "1     ru       Cloud4Y    64252.0  178.0       348.0   62.3   \n",
       "13    ru   erik_syntyk   204112.0   18.0        30.0    0.0   \n",
       "\n",
       "                                                 text                   hubs  \\\n",
       "0    Основным хранилищем метрик у нас является cas...  System administration   \n",
       "1   Войны гипервизоров — дело непрерывное, и, наве...      IT Infrastructure   \n",
       "13  Вторая статья из серии о full-stack JS разрабо...             JavaScript   \n",
       "\n",
       "    hub_class  \n",
       "0       285.0  \n",
       "1       285.0  \n",
       "13      285.0  \n",
       "\n",
       "[3 rows x 24 columns]"
      ]
     },
     "execution_count": 59,
     "metadata": {},
     "output_type": "execute_result"
    }
   ],
   "source": [
    "big_frame_only_text.head(3)"
   ]
  },
  {
   "cell_type": "code",
   "execution_count": 60,
   "id": "479fb50c-66ea-4feb-8a8b-e8050af1e0c8",
   "metadata": {},
   "outputs": [],
   "source": [
    "big_frame_only_text['hub_class'] = big_frame_only_text['hubs'].map(HubMap)"
   ]
  },
  {
   "cell_type": "code",
   "execution_count": 61,
   "id": "c3e80bcc-0f4a-41f4-86a4-b14e5be28a4f",
   "metadata": {},
   "outputs": [
    {
     "data": {
      "text/html": [
       "<div>\n",
       "<style scoped>\n",
       "    .dataframe tbody tr th:only-of-type {\n",
       "        vertical-align: middle;\n",
       "    }\n",
       "\n",
       "    .dataframe tbody tr th {\n",
       "        vertical-align: top;\n",
       "    }\n",
       "\n",
       "    .dataframe thead th {\n",
       "        text-align: right;\n",
       "    }\n",
       "</style>\n",
       "<table border=\"1\" class=\"dataframe\">\n",
       "  <thead>\n",
       "    <tr style=\"text-align: right;\">\n",
       "      <th></th>\n",
       "      <th>id</th>\n",
       "      <th>is_corporative</th>\n",
       "      <th>posttype</th>\n",
       "      <th>title</th>\n",
       "      <th>hubs_pro</th>\n",
       "      <th>hubs_nopro</th>\n",
       "      <th>tags</th>\n",
       "      <th>time_published</th>\n",
       "      <th>bookmarks</th>\n",
       "      <th>comments_count</th>\n",
       "      <th>...</th>\n",
       "      <th>reading_time</th>\n",
       "      <th>lang</th>\n",
       "      <th>author_name</th>\n",
       "      <th>author_id</th>\n",
       "      <th>karma</th>\n",
       "      <th>karma_votes</th>\n",
       "      <th>rating</th>\n",
       "      <th>text</th>\n",
       "      <th>hubs</th>\n",
       "      <th>hub_class</th>\n",
       "    </tr>\n",
       "  </thead>\n",
       "  <tbody>\n",
       "    <tr>\n",
       "      <th>0</th>\n",
       "      <td>310000</td>\n",
       "      <td>True</td>\n",
       "      <td>article</td>\n",
       "      <td>Как мы неделю чинили compaction в Cassandra</td>\n",
       "      <td>[System administration, Data storage, DevOps]</td>\n",
       "      <td>[okmeter.io corporate blog]</td>\n",
       "      <td>cassandra,nosql,troubleshooting</td>\n",
       "      <td>2016-09-17T06:11:00+00:00</td>\n",
       "      <td>45</td>\n",
       "      <td>13</td>\n",
       "      <td>...</td>\n",
       "      <td>7.0</td>\n",
       "      <td>ru</td>\n",
       "      <td>NikolaySivko</td>\n",
       "      <td>1140878.0</td>\n",
       "      <td>63.0</td>\n",
       "      <td>69.0</td>\n",
       "      <td>0.0</td>\n",
       "      <td>Основным хранилищем метрик у нас является cas...</td>\n",
       "      <td>System administration</td>\n",
       "      <td>8.0</td>\n",
       "    </tr>\n",
       "    <tr>\n",
       "      <th>1</th>\n",
       "      <td>310002</td>\n",
       "      <td>True</td>\n",
       "      <td>article</td>\n",
       "      <td>Войны гипервизоров: To be continued</td>\n",
       "      <td>[IT Infrastructure, Virtualization, Cloud comp...</td>\n",
       "      <td>[Cloud4Y corporate blog, Hosting]</td>\n",
       "      <td>облачные вычисления,виртуализация,хостинг,гипе...</td>\n",
       "      <td>2016-09-15T07:56:08+00:00</td>\n",
       "      <td>19</td>\n",
       "      <td>23</td>\n",
       "      <td>...</td>\n",
       "      <td>5.0</td>\n",
       "      <td>ru</td>\n",
       "      <td>Cloud4Y</td>\n",
       "      <td>64252.0</td>\n",
       "      <td>178.0</td>\n",
       "      <td>348.0</td>\n",
       "      <td>62.3</td>\n",
       "      <td>Войны гипервизоров — дело непрерывное, и, наве...</td>\n",
       "      <td>IT Infrastructure</td>\n",
       "      <td>7.0</td>\n",
       "    </tr>\n",
       "    <tr>\n",
       "      <th>13</th>\n",
       "      <td>310042</td>\n",
       "      <td>False</td>\n",
       "      <td>article</td>\n",
       "      <td>Строим свой full-stack на JavaScript: Сервер</td>\n",
       "      <td>[JavaScript, Designing and refactoring, Node.JS]</td>\n",
       "      <td>[]</td>\n",
       "      <td>typescript,node.js,express.js,full-stack apps,...</td>\n",
       "      <td>2016-09-16T06:14:14+00:00</td>\n",
       "      <td>228</td>\n",
       "      <td>27</td>\n",
       "      <td>...</td>\n",
       "      <td>13.0</td>\n",
       "      <td>ru</td>\n",
       "      <td>erik_syntyk</td>\n",
       "      <td>204112.0</td>\n",
       "      <td>18.0</td>\n",
       "      <td>30.0</td>\n",
       "      <td>0.0</td>\n",
       "      <td>Вторая статья из серии о full-stack JS разрабо...</td>\n",
       "      <td>JavaScript</td>\n",
       "      <td>9.0</td>\n",
       "    </tr>\n",
       "  </tbody>\n",
       "</table>\n",
       "<p>3 rows × 24 columns</p>\n",
       "</div>"
      ],
      "text/plain": [
       "        id  is_corporative posttype  \\\n",
       "0   310000            True  article   \n",
       "1   310002            True  article   \n",
       "13  310042           False  article   \n",
       "\n",
       "                                           title  \\\n",
       "0    Как мы неделю чинили compaction в Cassandra   \n",
       "1            Войны гипервизоров: To be continued   \n",
       "13  Строим свой full-stack на JavaScript: Сервер   \n",
       "\n",
       "                                             hubs_pro  \\\n",
       "0       [System administration, Data storage, DevOps]   \n",
       "1   [IT Infrastructure, Virtualization, Cloud comp...   \n",
       "13   [JavaScript, Designing and refactoring, Node.JS]   \n",
       "\n",
       "                           hubs_nopro  \\\n",
       "0         [okmeter.io corporate blog]   \n",
       "1   [Cloud4Y corporate blog, Hosting]   \n",
       "13                                 []   \n",
       "\n",
       "                                                 tags  \\\n",
       "0                     cassandra,nosql,troubleshooting   \n",
       "1   облачные вычисления,виртуализация,хостинг,гипе...   \n",
       "13  typescript,node.js,express.js,full-stack apps,...   \n",
       "\n",
       "               time_published  bookmarks  comments_count  ...  reading_time  \\\n",
       "0   2016-09-17T06:11:00+00:00         45              13  ...           7.0   \n",
       "1   2016-09-15T07:56:08+00:00         19              23  ...           5.0   \n",
       "13  2016-09-16T06:14:14+00:00        228              27  ...          13.0   \n",
       "\n",
       "    lang   author_name  author_id  karma karma_votes rating  \\\n",
       "0     ru  NikolaySivko  1140878.0   63.0        69.0    0.0   \n",
       "1     ru       Cloud4Y    64252.0  178.0       348.0   62.3   \n",
       "13    ru   erik_syntyk   204112.0   18.0        30.0    0.0   \n",
       "\n",
       "                                                 text                   hubs  \\\n",
       "0    Основным хранилищем метрик у нас является cas...  System administration   \n",
       "1   Войны гипервизоров — дело непрерывное, и, наве...      IT Infrastructure   \n",
       "13  Вторая статья из серии о full-stack JS разрабо...             JavaScript   \n",
       "\n",
       "    hub_class  \n",
       "0         8.0  \n",
       "1         7.0  \n",
       "13        9.0  \n",
       "\n",
       "[3 rows x 24 columns]"
      ]
     },
     "execution_count": 61,
     "metadata": {},
     "output_type": "execute_result"
    }
   ],
   "source": [
    "big_frame_only_text.head(3)"
   ]
  },
  {
   "cell_type": "code",
   "execution_count": 62,
   "id": "af401464-4a0a-4b03-96fb-923375157437",
   "metadata": {},
   "outputs": [
    {
     "data": {
      "text/plain": [
       "2444"
      ]
     },
     "execution_count": 62,
     "metadata": {},
     "output_type": "execute_result"
    }
   ],
   "source": [
    "len(big_frame_only_text[big_frame_only_text['hub_class'].isna()])"
   ]
  },
  {
   "cell_type": "code",
   "execution_count": 63,
   "id": "28ddcaa9-c2f6-4c79-9573-1a9533fae1e8",
   "metadata": {
    "collapsed": true,
    "jupyter": {
     "outputs_hidden": true
    },
    "tags": []
   },
   "outputs": [
    {
     "data": {
      "text/html": [
       "<div>\n",
       "<style scoped>\n",
       "    .dataframe tbody tr th:only-of-type {\n",
       "        vertical-align: middle;\n",
       "    }\n",
       "\n",
       "    .dataframe tbody tr th {\n",
       "        vertical-align: top;\n",
       "    }\n",
       "\n",
       "    .dataframe thead th {\n",
       "        text-align: right;\n",
       "    }\n",
       "</style>\n",
       "<table border=\"1\" class=\"dataframe\">\n",
       "  <thead>\n",
       "    <tr style=\"text-align: right;\">\n",
       "      <th></th>\n",
       "      <th>id</th>\n",
       "      <th>is_corporative</th>\n",
       "      <th>posttype</th>\n",
       "      <th>title</th>\n",
       "      <th>hubs_pro</th>\n",
       "      <th>hubs_nopro</th>\n",
       "      <th>tags</th>\n",
       "      <th>time_published</th>\n",
       "      <th>bookmarks</th>\n",
       "      <th>comments_count</th>\n",
       "      <th>...</th>\n",
       "      <th>reading_time</th>\n",
       "      <th>lang</th>\n",
       "      <th>author_name</th>\n",
       "      <th>author_id</th>\n",
       "      <th>karma</th>\n",
       "      <th>karma_votes</th>\n",
       "      <th>rating</th>\n",
       "      <th>text</th>\n",
       "      <th>hubs</th>\n",
       "      <th>hub_class</th>\n",
       "    </tr>\n",
       "  </thead>\n",
       "  <tbody>\n",
       "    <tr>\n",
       "      <th>0</th>\n",
       "      <td>310000</td>\n",
       "      <td>True</td>\n",
       "      <td>article</td>\n",
       "      <td>Как мы неделю чинили compaction в Cassandra</td>\n",
       "      <td>[System administration, Data storage, DevOps]</td>\n",
       "      <td>[okmeter.io corporate blog]</td>\n",
       "      <td>cassandra,nosql,troubleshooting</td>\n",
       "      <td>2016-09-17T06:11:00+00:00</td>\n",
       "      <td>45</td>\n",
       "      <td>13</td>\n",
       "      <td>...</td>\n",
       "      <td>7.0</td>\n",
       "      <td>ru</td>\n",
       "      <td>NikolaySivko</td>\n",
       "      <td>1140878.0</td>\n",
       "      <td>63.0</td>\n",
       "      <td>69.0</td>\n",
       "      <td>0.0</td>\n",
       "      <td>Основным хранилищем метрик у нас является cas...</td>\n",
       "      <td>System administration</td>\n",
       "      <td>8.0</td>\n",
       "    </tr>\n",
       "    <tr>\n",
       "      <th>1</th>\n",
       "      <td>310002</td>\n",
       "      <td>True</td>\n",
       "      <td>article</td>\n",
       "      <td>Войны гипервизоров: To be continued</td>\n",
       "      <td>[IT Infrastructure, Virtualization, Cloud comp...</td>\n",
       "      <td>[Cloud4Y corporate blog, Hosting]</td>\n",
       "      <td>облачные вычисления,виртуализация,хостинг,гипе...</td>\n",
       "      <td>2016-09-15T07:56:08+00:00</td>\n",
       "      <td>19</td>\n",
       "      <td>23</td>\n",
       "      <td>...</td>\n",
       "      <td>5.0</td>\n",
       "      <td>ru</td>\n",
       "      <td>Cloud4Y</td>\n",
       "      <td>64252.0</td>\n",
       "      <td>178.0</td>\n",
       "      <td>348.0</td>\n",
       "      <td>62.3</td>\n",
       "      <td>Войны гипервизоров — дело непрерывное, и, наве...</td>\n",
       "      <td>IT Infrastructure</td>\n",
       "      <td>7.0</td>\n",
       "    </tr>\n",
       "    <tr>\n",
       "      <th>13</th>\n",
       "      <td>310042</td>\n",
       "      <td>False</td>\n",
       "      <td>article</td>\n",
       "      <td>Строим свой full-stack на JavaScript: Сервер</td>\n",
       "      <td>[JavaScript, Designing and refactoring, Node.JS]</td>\n",
       "      <td>[]</td>\n",
       "      <td>typescript,node.js,express.js,full-stack apps,...</td>\n",
       "      <td>2016-09-16T06:14:14+00:00</td>\n",
       "      <td>228</td>\n",
       "      <td>27</td>\n",
       "      <td>...</td>\n",
       "      <td>13.0</td>\n",
       "      <td>ru</td>\n",
       "      <td>erik_syntyk</td>\n",
       "      <td>204112.0</td>\n",
       "      <td>18.0</td>\n",
       "      <td>30.0</td>\n",
       "      <td>0.0</td>\n",
       "      <td>Вторая статья из серии о full-stack JS разрабо...</td>\n",
       "      <td>JavaScript</td>\n",
       "      <td>9.0</td>\n",
       "    </tr>\n",
       "    <tr>\n",
       "      <th>15</th>\n",
       "      <td>310046</td>\n",
       "      <td>True</td>\n",
       "      <td>article</td>\n",
       "      <td>Как управлять гигантами Vol.3: полный цикл жиз...</td>\n",
       "      <td>[Development Management, Project management, P...</td>\n",
       "      <td>[AGIMA corporate blog, IT career]</td>\n",
       "      <td>agima</td>\n",
       "      <td>2016-09-15T10:21:23+00:00</td>\n",
       "      <td>66</td>\n",
       "      <td>0</td>\n",
       "      <td>...</td>\n",
       "      <td>8.0</td>\n",
       "      <td>ru</td>\n",
       "      <td>lobanov1</td>\n",
       "      <td>1219389.0</td>\n",
       "      <td>0.0</td>\n",
       "      <td>6.0</td>\n",
       "      <td>0.0</td>\n",
       "      <td>МетрикаСредняя конверсия (2015–й год)Коэффици...</td>\n",
       "      <td>Development Management</td>\n",
       "      <td>20.0</td>\n",
       "    </tr>\n",
       "    <tr>\n",
       "      <th>28</th>\n",
       "      <td>310074</td>\n",
       "      <td>False</td>\n",
       "      <td>article</td>\n",
       "      <td>Dropbox на macOS использует приёмы malware, чт...</td>\n",
       "      <td>[Information Security, Development for MacOS]</td>\n",
       "      <td>[]</td>\n",
       "      <td>dropbox,mac os x,macos,osx,malware,backdoor,se...</td>\n",
       "      <td>2016-09-15T11:15:23+00:00</td>\n",
       "      <td>90</td>\n",
       "      <td>75</td>\n",
       "      <td>...</td>\n",
       "      <td>5.0</td>\n",
       "      <td>ru</td>\n",
       "      <td>eps</td>\n",
       "      <td>185184.0</td>\n",
       "      <td>34.0</td>\n",
       "      <td>68.0</td>\n",
       "      <td>0.0</td>\n",
       "      <td>Если у вас установлен Dropbox, загляните в Сис...</td>\n",
       "      <td>Information Security</td>\n",
       "      <td>0.0</td>\n",
       "    </tr>\n",
       "    <tr>\n",
       "      <th>...</th>\n",
       "      <td>...</td>\n",
       "      <td>...</td>\n",
       "      <td>...</td>\n",
       "      <td>...</td>\n",
       "      <td>...</td>\n",
       "      <td>...</td>\n",
       "      <td>...</td>\n",
       "      <td>...</td>\n",
       "      <td>...</td>\n",
       "      <td>...</td>\n",
       "      <td>...</td>\n",
       "      <td>...</td>\n",
       "      <td>...</td>\n",
       "      <td>...</td>\n",
       "      <td>...</td>\n",
       "      <td>...</td>\n",
       "      <td>...</td>\n",
       "      <td>...</td>\n",
       "      <td>...</td>\n",
       "      <td>...</td>\n",
       "      <td>...</td>\n",
       "    </tr>\n",
       "    <tr>\n",
       "      <th>170543</th>\n",
       "      <td>773134</td>\n",
       "      <td>False</td>\n",
       "      <td>news</td>\n",
       "      <td>Engadget выпустил обзор Steam Deck OLED</td>\n",
       "      <td>[]</td>\n",
       "      <td>[Games and game consoles, Gadgets]</td>\n",
       "      <td>steam deck oled,steam deck,valve,портативные к...</td>\n",
       "      <td>2023-11-10T11:46:43+00:00</td>\n",
       "      <td>0</td>\n",
       "      <td>0</td>\n",
       "      <td>...</td>\n",
       "      <td>2.0</td>\n",
       "      <td>ru</td>\n",
       "      <td>Travis_Macrif</td>\n",
       "      <td>1782611.0</td>\n",
       "      <td>53.0</td>\n",
       "      <td>397.0</td>\n",
       "      <td>119.0</td>\n",
       "      <td>Техноблог Engadget представил обзор портативно...</td>\n",
       "      <td>Games and game consoles</td>\n",
       "      <td>26.0</td>\n",
       "    </tr>\n",
       "    <tr>\n",
       "      <th>170544</th>\n",
       "      <td>773138</td>\n",
       "      <td>False</td>\n",
       "      <td>news</td>\n",
       "      <td>ЦБ планирует внедрить стандарт безопасности оп...</td>\n",
       "      <td>[Payment systems, Information Security]</td>\n",
       "      <td>[Finance in IT]</td>\n",
       "      <td>банк россии,цб,qr-коды,информационная безопасн...</td>\n",
       "      <td>2023-11-10T11:49:58+00:00</td>\n",
       "      <td>0</td>\n",
       "      <td>0</td>\n",
       "      <td>...</td>\n",
       "      <td>1.0</td>\n",
       "      <td>ru</td>\n",
       "      <td>LizzieSimpson</td>\n",
       "      <td>3000027.0</td>\n",
       "      <td>60.0</td>\n",
       "      <td>242.0</td>\n",
       "      <td>142.7</td>\n",
       "      <td>Банк России разрабатывает стандарт, который по...</td>\n",
       "      <td>Payment systems</td>\n",
       "      <td>45.0</td>\n",
       "    </tr>\n",
       "    <tr>\n",
       "      <th>170545</th>\n",
       "      <td>773140</td>\n",
       "      <td>False</td>\n",
       "      <td>article</td>\n",
       "      <td>Отчёт о походе на выставку ретроконсолей от «Я...</td>\n",
       "      <td>[]</td>\n",
       "      <td>[Games and game consoles, History of IT, Weara...</td>\n",
       "      <td>электроника,электроника-25,ретроконсоли,game&amp;a...</td>\n",
       "      <td>2023-11-10T11:52:49+00:00</td>\n",
       "      <td>0</td>\n",
       "      <td>0</td>\n",
       "      <td>...</td>\n",
       "      <td>12.0</td>\n",
       "      <td>ru</td>\n",
       "      <td>IgnatChuker</td>\n",
       "      <td>2746691.0</td>\n",
       "      <td>76.0</td>\n",
       "      <td>346.0</td>\n",
       "      <td>142.5</td>\n",
       "      <td>Информационная служба Хабра посетила выставку,...</td>\n",
       "      <td>Games and game consoles</td>\n",
       "      <td>26.0</td>\n",
       "    </tr>\n",
       "    <tr>\n",
       "      <th>170546</th>\n",
       "      <td>773142</td>\n",
       "      <td>True</td>\n",
       "      <td>article</td>\n",
       "      <td>Разработка через тестирование. Совместное испо...</td>\n",
       "      <td>[IT systems testing, TDD]</td>\n",
       "      <td>[Сбер corporate blog]</td>\n",
       "      <td>разработка через тестирование,mockito,junit</td>\n",
       "      <td>2023-11-10T12:04:46+00:00</td>\n",
       "      <td>0</td>\n",
       "      <td>0</td>\n",
       "      <td>...</td>\n",
       "      <td>10.0</td>\n",
       "      <td>ru</td>\n",
       "      <td>NewTechAudit</td>\n",
       "      <td>2343413.0</td>\n",
       "      <td>85.0</td>\n",
       "      <td>157.0</td>\n",
       "      <td>19.0</td>\n",
       "      <td>Привет, Хабр! На связи участница профессиональ...</td>\n",
       "      <td>IT systems testing</td>\n",
       "      <td>13.0</td>\n",
       "    </tr>\n",
       "    <tr>\n",
       "      <th>170547</th>\n",
       "      <td>773144</td>\n",
       "      <td>False</td>\n",
       "      <td>news</td>\n",
       "      <td>«Джеймс Уэбб» и «Хаббл» объединились для созда...</td>\n",
       "      <td>[Research and forecasts in IT]</td>\n",
       "      <td>[Astronomy, Physics, Popular science]</td>\n",
       "      <td>НАСА,гравитационное линзирование,Джеймс Уэбб,Х...</td>\n",
       "      <td>2023-11-10T12:06:30+00:00</td>\n",
       "      <td>0</td>\n",
       "      <td>0</td>\n",
       "      <td>...</td>\n",
       "      <td>2.0</td>\n",
       "      <td>ru</td>\n",
       "      <td>avouner</td>\n",
       "      <td>2288880.0</td>\n",
       "      <td>83.0</td>\n",
       "      <td>321.0</td>\n",
       "      <td>15.5</td>\n",
       "      <td>Специалисты исследователькой группы CANUCS объ...</td>\n",
       "      <td>Research and forecasts in IT</td>\n",
       "      <td>25.0</td>\n",
       "    </tr>\n",
       "  </tbody>\n",
       "</table>\n",
       "<p>77579 rows × 24 columns</p>\n",
       "</div>"
      ],
      "text/plain": [
       "            id  is_corporative posttype  \\\n",
       "0       310000            True  article   \n",
       "1       310002            True  article   \n",
       "13      310042           False  article   \n",
       "15      310046            True  article   \n",
       "28      310074           False  article   \n",
       "...        ...             ...      ...   \n",
       "170543  773134           False     news   \n",
       "170544  773138           False     news   \n",
       "170545  773140           False  article   \n",
       "170546  773142            True  article   \n",
       "170547  773144           False     news   \n",
       "\n",
       "                                                    title  \\\n",
       "0             Как мы неделю чинили compaction в Cassandra   \n",
       "1                     Войны гипервизоров: To be continued   \n",
       "13           Строим свой full-stack на JavaScript: Сервер   \n",
       "15      Как управлять гигантами Vol.3: полный цикл жиз...   \n",
       "28      Dropbox на macOS использует приёмы malware, чт...   \n",
       "...                                                   ...   \n",
       "170543            Engadget выпустил обзор Steam Deck OLED   \n",
       "170544  ЦБ планирует внедрить стандарт безопасности оп...   \n",
       "170545  Отчёт о походе на выставку ретроконсолей от «Я...   \n",
       "170546  Разработка через тестирование. Совместное испо...   \n",
       "170547  «Джеймс Уэбб» и «Хаббл» объединились для созда...   \n",
       "\n",
       "                                                 hubs_pro  \\\n",
       "0           [System administration, Data storage, DevOps]   \n",
       "1       [IT Infrastructure, Virtualization, Cloud comp...   \n",
       "13       [JavaScript, Designing and refactoring, Node.JS]   \n",
       "15      [Development Management, Project management, P...   \n",
       "28          [Information Security, Development for MacOS]   \n",
       "...                                                   ...   \n",
       "170543                                                 []   \n",
       "170544            [Payment systems, Information Security]   \n",
       "170545                                                 []   \n",
       "170546                          [IT systems testing, TDD]   \n",
       "170547                     [Research and forecasts in IT]   \n",
       "\n",
       "                                               hubs_nopro  \\\n",
       "0                             [okmeter.io corporate blog]   \n",
       "1                       [Cloud4Y corporate blog, Hosting]   \n",
       "13                                                     []   \n",
       "15                      [AGIMA corporate blog, IT career]   \n",
       "28                                                     []   \n",
       "...                                                   ...   \n",
       "170543                 [Games and game consoles, Gadgets]   \n",
       "170544                                    [Finance in IT]   \n",
       "170545  [Games and game consoles, History of IT, Weara...   \n",
       "170546                              [Сбер corporate blog]   \n",
       "170547              [Astronomy, Physics, Popular science]   \n",
       "\n",
       "                                                     tags  \\\n",
       "0                         cassandra,nosql,troubleshooting   \n",
       "1       облачные вычисления,виртуализация,хостинг,гипе...   \n",
       "13      typescript,node.js,express.js,full-stack apps,...   \n",
       "15                                                  agima   \n",
       "28      dropbox,mac os x,macos,osx,malware,backdoor,se...   \n",
       "...                                                   ...   \n",
       "170543  steam deck oled,steam deck,valve,портативные к...   \n",
       "170544  банк россии,цб,qr-коды,информационная безопасн...   \n",
       "170545  электроника,электроника-25,ретроконсоли,game&a...   \n",
       "170546        разработка через тестирование,mockito,junit   \n",
       "170547  НАСА,гравитационное линзирование,Джеймс Уэбб,Х...   \n",
       "\n",
       "                   time_published  bookmarks  comments_count  ...  \\\n",
       "0       2016-09-17T06:11:00+00:00         45              13  ...   \n",
       "1       2016-09-15T07:56:08+00:00         19              23  ...   \n",
       "13      2016-09-16T06:14:14+00:00        228              27  ...   \n",
       "15      2016-09-15T10:21:23+00:00         66               0  ...   \n",
       "28      2016-09-15T11:15:23+00:00         90              75  ...   \n",
       "...                           ...        ...             ...  ...   \n",
       "170543  2023-11-10T11:46:43+00:00          0               0  ...   \n",
       "170544  2023-11-10T11:49:58+00:00          0               0  ...   \n",
       "170545  2023-11-10T11:52:49+00:00          0               0  ...   \n",
       "170546  2023-11-10T12:04:46+00:00          0               0  ...   \n",
       "170547  2023-11-10T12:06:30+00:00          0               0  ...   \n",
       "\n",
       "        reading_time  lang    author_name  author_id  karma karma_votes  \\\n",
       "0                7.0    ru   NikolaySivko  1140878.0   63.0        69.0   \n",
       "1                5.0    ru        Cloud4Y    64252.0  178.0       348.0   \n",
       "13              13.0    ru    erik_syntyk   204112.0   18.0        30.0   \n",
       "15               8.0    ru       lobanov1  1219389.0    0.0         6.0   \n",
       "28               5.0    ru            eps   185184.0   34.0        68.0   \n",
       "...              ...   ...            ...        ...    ...         ...   \n",
       "170543           2.0    ru  Travis_Macrif  1782611.0   53.0       397.0   \n",
       "170544           1.0    ru  LizzieSimpson  3000027.0   60.0       242.0   \n",
       "170545          12.0    ru    IgnatChuker  2746691.0   76.0       346.0   \n",
       "170546          10.0    ru   NewTechAudit  2343413.0   85.0       157.0   \n",
       "170547           2.0    ru        avouner  2288880.0   83.0       321.0   \n",
       "\n",
       "       rating                                               text  \\\n",
       "0         0.0   Основным хранилищем метрик у нас является cas...   \n",
       "1        62.3  Войны гипервизоров — дело непрерывное, и, наве...   \n",
       "13        0.0  Вторая статья из серии о full-stack JS разрабо...   \n",
       "15        0.0   МетрикаСредняя конверсия (2015–й год)Коэффици...   \n",
       "28        0.0  Если у вас установлен Dropbox, загляните в Сис...   \n",
       "...       ...                                                ...   \n",
       "170543  119.0  Техноблог Engadget представил обзор портативно...   \n",
       "170544  142.7  Банк России разрабатывает стандарт, который по...   \n",
       "170545  142.5  Информационная служба Хабра посетила выставку,...   \n",
       "170546   19.0  Привет, Хабр! На связи участница профессиональ...   \n",
       "170547   15.5  Специалисты исследователькой группы CANUCS объ...   \n",
       "\n",
       "                                hubs  hub_class  \n",
       "0              System administration        8.0  \n",
       "1                  IT Infrastructure        7.0  \n",
       "13                        JavaScript        9.0  \n",
       "15            Development Management       20.0  \n",
       "28              Information Security        0.0  \n",
       "...                              ...        ...  \n",
       "170543       Games and game consoles       26.0  \n",
       "170544               Payment systems       45.0  \n",
       "170545       Games and game consoles       26.0  \n",
       "170546            IT systems testing       13.0  \n",
       "170547  Research and forecasts in IT       25.0  \n",
       "\n",
       "[77579 rows x 24 columns]"
      ]
     },
     "execution_count": 63,
     "metadata": {},
     "output_type": "execute_result"
    }
   ],
   "source": [
    "big_frame_only_text = big_frame_only_text.dropna()\n",
    "big_frame_only_text"
   ]
  },
  {
   "cell_type": "code",
   "execution_count": 64,
   "id": "fbdbdc24-7205-4e6c-8bd4-1bcc6d0698d8",
   "metadata": {},
   "outputs": [],
   "source": [
    "big_frame_only_text_sample = big_frame_only_text.sample(frac=0.05, replace=True, random_state=1)"
   ]
  },
  {
   "cell_type": "code",
   "execution_count": 65,
   "id": "e3e44989-f337-4f88-acda-8771bad66fff",
   "metadata": {},
   "outputs": [
    {
     "data": {
      "text/plain": [
       "dtype('float64')"
      ]
     },
     "execution_count": 65,
     "metadata": {},
     "output_type": "execute_result"
    }
   ],
   "source": [
    "big_frame_only_text_sample['hub_class'][45716].dtype"
   ]
  },
  {
   "cell_type": "markdown",
   "id": "189f1fbb-6368-4166-92ef-940e6f02fc38",
   "metadata": {},
   "source": [
    "### Обработка хабов 2 способ"
   ]
  },
  {
   "cell_type": "code",
   "execution_count": 286,
   "id": "421dc1c1-d498-4fa4-8862-94e922aa1a88",
   "metadata": {},
   "outputs": [],
   "source": [
    "# literal_eval(big_frame_only_text.hubs_pro[0])"
   ]
  },
  {
   "cell_type": "code",
   "execution_count": 287,
   "id": "3c3fce94-3881-4e7c-9db7-ecc9a95f52c0",
   "metadata": {},
   "outputs": [],
   "source": [
    "# skills_count = dict()\n",
    "\n",
    "# for skill_list in big_frame_only_text.hubs_pro:\n",
    "#     list_of_skills = literal_eval(skill_list[:3])\n",
    "#     for skill in list_of_skills:\n",
    "#         if skill not in skills_count:\n",
    "#             skills_count[skill] = 1\n",
    "#         else:\n",
    "#             skills_count[skill] += 1\n",
    "\n",
    "# skills_count = {k: v for k, v in sorted(skills_count.items(), key=lambda item: item[1], reverse=True)}\n",
    "# skills_count"
   ]
  },
  {
   "cell_type": "code",
   "execution_count": 3,
   "id": "16792cae-5837-4626-9bc2-7eac14a66a13",
   "metadata": {
    "tags": []
   },
   "outputs": [],
   "source": [
    "big_frame_only_text = pd.read_csv('All_data.csv')"
   ]
  },
  {
   "cell_type": "code",
   "execution_count": 4,
   "id": "8defc249-bb58-45d4-b4e8-a524fe0f7ac7",
   "metadata": {
    "tags": []
   },
   "outputs": [],
   "source": [
    "big_frame_only_text = big_frame_only_text.drop(columns=['Unnamed: 0'])"
   ]
  },
  {
   "cell_type": "code",
   "execution_count": 6,
   "id": "956f64d1-58e3-4ad4-ad2c-958a309b5f4c",
   "metadata": {
    "jupyter": {
     "outputs_hidden": true
    },
    "tags": []
   },
   "outputs": [
    {
     "data": {
      "text/html": [
       "<div>\n",
       "<style scoped>\n",
       "    .dataframe tbody tr th:only-of-type {\n",
       "        vertical-align: middle;\n",
       "    }\n",
       "\n",
       "    .dataframe tbody tr th {\n",
       "        vertical-align: top;\n",
       "    }\n",
       "\n",
       "    .dataframe thead th {\n",
       "        text-align: right;\n",
       "    }\n",
       "</style>\n",
       "<table border=\"1\" class=\"dataframe\">\n",
       "  <thead>\n",
       "    <tr style=\"text-align: right;\">\n",
       "      <th></th>\n",
       "      <th>id</th>\n",
       "      <th>is_corporative</th>\n",
       "      <th>posttype</th>\n",
       "      <th>title</th>\n",
       "      <th>hubs_pro</th>\n",
       "      <th>hubs_nopro</th>\n",
       "      <th>tags</th>\n",
       "      <th>time_published</th>\n",
       "      <th>bookmarks</th>\n",
       "      <th>comments_count</th>\n",
       "      <th>...</th>\n",
       "      <th>reading_time</th>\n",
       "      <th>lang</th>\n",
       "      <th>author_name</th>\n",
       "      <th>author_id</th>\n",
       "      <th>karma</th>\n",
       "      <th>karma_votes</th>\n",
       "      <th>rating</th>\n",
       "      <th>text</th>\n",
       "      <th>hubs</th>\n",
       "      <th>hub_class</th>\n",
       "    </tr>\n",
       "  </thead>\n",
       "  <tbody>\n",
       "    <tr>\n",
       "      <th>0</th>\n",
       "      <td>310000</td>\n",
       "      <td>True</td>\n",
       "      <td>article</td>\n",
       "      <td>Как мы неделю чинили compaction в Cassandra</td>\n",
       "      <td>['System administration', 'Data storage', 'Dev...</td>\n",
       "      <td>['okmeter.io corporate blog']</td>\n",
       "      <td>cassandra,nosql,troubleshooting</td>\n",
       "      <td>2016-09-17T06:11:00+00:00</td>\n",
       "      <td>45</td>\n",
       "      <td>13</td>\n",
       "      <td>...</td>\n",
       "      <td>7.0</td>\n",
       "      <td>ru</td>\n",
       "      <td>NikolaySivko</td>\n",
       "      <td>1140878.0</td>\n",
       "      <td>63.0</td>\n",
       "      <td>69.0</td>\n",
       "      <td>0.0</td>\n",
       "      <td>Основным хранилищем метрик у нас является cas...</td>\n",
       "      <td>System administration</td>\n",
       "      <td>8.0</td>\n",
       "    </tr>\n",
       "    <tr>\n",
       "      <th>1</th>\n",
       "      <td>310002</td>\n",
       "      <td>True</td>\n",
       "      <td>article</td>\n",
       "      <td>Войны гипервизоров: To be continued</td>\n",
       "      <td>['IT Infrastructure', 'Virtualization', 'Cloud...</td>\n",
       "      <td>['Cloud4Y corporate blog', 'Hosting']</td>\n",
       "      <td>облачные вычисления,виртуализация,хостинг,гипе...</td>\n",
       "      <td>2016-09-15T07:56:08+00:00</td>\n",
       "      <td>19</td>\n",
       "      <td>23</td>\n",
       "      <td>...</td>\n",
       "      <td>5.0</td>\n",
       "      <td>ru</td>\n",
       "      <td>Cloud4Y</td>\n",
       "      <td>64252.0</td>\n",
       "      <td>178.0</td>\n",
       "      <td>348.0</td>\n",
       "      <td>62.3</td>\n",
       "      <td>Войны гипервизоров — дело непрерывное, и, наве...</td>\n",
       "      <td>IT Infrastructure</td>\n",
       "      <td>7.0</td>\n",
       "    </tr>\n",
       "    <tr>\n",
       "      <th>2</th>\n",
       "      <td>310042</td>\n",
       "      <td>False</td>\n",
       "      <td>article</td>\n",
       "      <td>Строим свой full-stack на JavaScript: Сервер</td>\n",
       "      <td>['JavaScript', 'Designing and refactoring', 'N...</td>\n",
       "      <td>[]</td>\n",
       "      <td>typescript,node.js,express.js,full-stack apps,...</td>\n",
       "      <td>2016-09-16T06:14:14+00:00</td>\n",
       "      <td>228</td>\n",
       "      <td>27</td>\n",
       "      <td>...</td>\n",
       "      <td>13.0</td>\n",
       "      <td>ru</td>\n",
       "      <td>erik_syntyk</td>\n",
       "      <td>204112.0</td>\n",
       "      <td>18.0</td>\n",
       "      <td>30.0</td>\n",
       "      <td>0.0</td>\n",
       "      <td>Вторая статья из серии о full-stack JS разрабо...</td>\n",
       "      <td>JavaScript</td>\n",
       "      <td>9.0</td>\n",
       "    </tr>\n",
       "  </tbody>\n",
       "</table>\n",
       "<p>3 rows × 24 columns</p>\n",
       "</div>"
      ],
      "text/plain": [
       "       id  is_corporative posttype  \\\n",
       "0  310000            True  article   \n",
       "1  310002            True  article   \n",
       "2  310042           False  article   \n",
       "\n",
       "                                          title  \\\n",
       "0   Как мы неделю чинили compaction в Cassandra   \n",
       "1           Войны гипервизоров: To be continued   \n",
       "2  Строим свой full-stack на JavaScript: Сервер   \n",
       "\n",
       "                                            hubs_pro  \\\n",
       "0  ['System administration', 'Data storage', 'Dev...   \n",
       "1  ['IT Infrastructure', 'Virtualization', 'Cloud...   \n",
       "2  ['JavaScript', 'Designing and refactoring', 'N...   \n",
       "\n",
       "                              hubs_nopro  \\\n",
       "0          ['okmeter.io corporate blog']   \n",
       "1  ['Cloud4Y corporate blog', 'Hosting']   \n",
       "2                                     []   \n",
       "\n",
       "                                                tags  \\\n",
       "0                    cassandra,nosql,troubleshooting   \n",
       "1  облачные вычисления,виртуализация,хостинг,гипе...   \n",
       "2  typescript,node.js,express.js,full-stack apps,...   \n",
       "\n",
       "              time_published  bookmarks  comments_count  ...  reading_time  \\\n",
       "0  2016-09-17T06:11:00+00:00         45              13  ...           7.0   \n",
       "1  2016-09-15T07:56:08+00:00         19              23  ...           5.0   \n",
       "2  2016-09-16T06:14:14+00:00        228              27  ...          13.0   \n",
       "\n",
       "   lang   author_name  author_id  karma karma_votes rating  \\\n",
       "0    ru  NikolaySivko  1140878.0   63.0        69.0    0.0   \n",
       "1    ru       Cloud4Y    64252.0  178.0       348.0   62.3   \n",
       "2    ru   erik_syntyk   204112.0   18.0        30.0    0.0   \n",
       "\n",
       "                                                text                   hubs  \\\n",
       "0   Основным хранилищем метрик у нас является cas...  System administration   \n",
       "1  Войны гипервизоров — дело непрерывное, и, наве...      IT Infrastructure   \n",
       "2  Вторая статья из серии о full-stack JS разрабо...             JavaScript   \n",
       "\n",
       "   hub_class  \n",
       "0        8.0  \n",
       "1        7.0  \n",
       "2        9.0  \n",
       "\n",
       "[3 rows x 24 columns]"
      ]
     },
     "execution_count": 6,
     "metadata": {},
     "output_type": "execute_result"
    }
   ],
   "source": [
    "big_frame_only_text.head(3)"
   ]
  },
  {
   "cell_type": "code",
   "execution_count": 6,
   "id": "daac938d-39c5-4677-a255-99a04d81ee6b",
   "metadata": {
    "tags": []
   },
   "outputs": [],
   "source": [
    "big_frame_only_text_sample = big_frame_only_text.sample(frac=0.05, replace=True, random_state=1)"
   ]
  },
  {
   "cell_type": "code",
   "execution_count": 7,
   "id": "346e2ff1-aa72-4985-b7e4-c6d3874d0bee",
   "metadata": {
    "collapsed": true,
    "jupyter": {
     "outputs_hidden": true
    },
    "tags": []
   },
   "outputs": [
    {
     "data": {
      "text/html": [
       "<div>\n",
       "<style scoped>\n",
       "    .dataframe tbody tr th:only-of-type {\n",
       "        vertical-align: middle;\n",
       "    }\n",
       "\n",
       "    .dataframe tbody tr th {\n",
       "        vertical-align: top;\n",
       "    }\n",
       "\n",
       "    .dataframe thead th {\n",
       "        text-align: right;\n",
       "    }\n",
       "</style>\n",
       "<table border=\"1\" class=\"dataframe\">\n",
       "  <thead>\n",
       "    <tr style=\"text-align: right;\">\n",
       "      <th></th>\n",
       "      <th>id</th>\n",
       "      <th>is_corporative</th>\n",
       "      <th>posttype</th>\n",
       "      <th>title</th>\n",
       "      <th>hubs_pro</th>\n",
       "      <th>hubs_nopro</th>\n",
       "      <th>tags</th>\n",
       "      <th>time_published</th>\n",
       "      <th>bookmarks</th>\n",
       "      <th>comments_count</th>\n",
       "      <th>...</th>\n",
       "      <th>reading_time</th>\n",
       "      <th>lang</th>\n",
       "      <th>author_name</th>\n",
       "      <th>author_id</th>\n",
       "      <th>karma</th>\n",
       "      <th>karma_votes</th>\n",
       "      <th>rating</th>\n",
       "      <th>text</th>\n",
       "      <th>hubs</th>\n",
       "      <th>hub_class</th>\n",
       "    </tr>\n",
       "  </thead>\n",
       "  <tbody>\n",
       "    <tr>\n",
       "      <th>5192</th>\n",
       "      <td>420979</td>\n",
       "      <td>False</td>\n",
       "      <td>article</td>\n",
       "      <td>Основы Redux (текстовый учебник, 2-е издание)</td>\n",
       "      <td>['JavaScript', 'ReactJS']</td>\n",
       "      <td>[]</td>\n",
       "      <td>react,redux</td>\n",
       "      <td>2018-08-23T18:52:43+00:00</td>\n",
       "      <td>136</td>\n",
       "      <td>8</td>\n",
       "      <td>...</td>\n",
       "      <td>2.0</td>\n",
       "      <td>ru</td>\n",
       "      <td>maxfarseer</td>\n",
       "      <td>372351.0</td>\n",
       "      <td>56.0</td>\n",
       "      <td>70.0</td>\n",
       "      <td>0.5</td>\n",
       "      <td>Прошло 2.5 года после публикации первой версии...</td>\n",
       "      <td>JavaScript</td>\n",
       "      <td>9.0</td>\n",
       "    </tr>\n",
       "    <tr>\n",
       "      <th>50057</th>\n",
       "      <td>696314</td>\n",
       "      <td>False</td>\n",
       "      <td>article</td>\n",
       "      <td>Если не электромобили, то паромобили? Часть 4</td>\n",
       "      <td>['Systems engineering', 'Popular science', 'Tr...</td>\n",
       "      <td>['Popular science', 'Transport']</td>\n",
       "      <td>паровой,паровой двигатель,гибрид,кпд,рекуперац...</td>\n",
       "      <td>2022-10-30T11:36:44+00:00</td>\n",
       "      <td>12</td>\n",
       "      <td>8</td>\n",
       "      <td>...</td>\n",
       "      <td>10.0</td>\n",
       "      <td>ru</td>\n",
       "      <td>GeorgKDeft</td>\n",
       "      <td>1803585.0</td>\n",
       "      <td>32.0</td>\n",
       "      <td>160.0</td>\n",
       "      <td>0.0</td>\n",
       "      <td>Иногда комментаторы могут угадать будущий тек...</td>\n",
       "      <td>Systems engineering</td>\n",
       "      <td>90.0</td>\n",
       "    </tr>\n",
       "    <tr>\n",
       "      <th>73349</th>\n",
       "      <td>761160</td>\n",
       "      <td>False</td>\n",
       "      <td>news</td>\n",
       "      <td>Павел Дуров: осенью у всех пользователей Teleg...</td>\n",
       "      <td>['Instant Messaging', 'Finance in IT', 'Crypto...</td>\n",
       "      <td>['Finance in IT', 'Cryptocurrencies']</td>\n",
       "      <td>telegram,блокчейн,криптовалюты,криптокошельки,...</td>\n",
       "      <td>2023-09-14T18:12:02+00:00</td>\n",
       "      <td>10</td>\n",
       "      <td>23</td>\n",
       "      <td>...</td>\n",
       "      <td>2.0</td>\n",
       "      <td>ru</td>\n",
       "      <td>AnnieBronson</td>\n",
       "      <td>2082889.0</td>\n",
       "      <td>131.0</td>\n",
       "      <td>651.0</td>\n",
       "      <td>165.3</td>\n",
       "      <td>Глава Telegram Павел Дуров сообщил, что в нояб...</td>\n",
       "      <td>Instant Messaging</td>\n",
       "      <td>31.0</td>\n",
       "    </tr>\n",
       "    <tr>\n",
       "      <th>21440</th>\n",
       "      <td>567374</td>\n",
       "      <td>True</td>\n",
       "      <td>article</td>\n",
       "      <td>7 узких мест серверной NVMe-платформы</td>\n",
       "      <td>['High performance', 'IT Infrastructure', 'Ser...</td>\n",
       "      <td>['RAIDIX corporate blog']</td>\n",
       "      <td>nvme,raidix,тестирование,тестирование по,проце...</td>\n",
       "      <td>2021-07-12T16:51:13+00:00</td>\n",
       "      <td>25</td>\n",
       "      <td>7</td>\n",
       "      <td>...</td>\n",
       "      <td>6.0</td>\n",
       "      <td>ru</td>\n",
       "      <td>raidixteam</td>\n",
       "      <td>1457074.0</td>\n",
       "      <td>17.0</td>\n",
       "      <td>33.0</td>\n",
       "      <td>0.0</td>\n",
       "      <td>Значимые показатели производительности требуют...</td>\n",
       "      <td>High performance</td>\n",
       "      <td>17.0</td>\n",
       "    </tr>\n",
       "    <tr>\n",
       "      <th>20609</th>\n",
       "      <td>564548</td>\n",
       "      <td>False</td>\n",
       "      <td>article</td>\n",
       "      <td>Как я познавал ci/cd, Гитхаб экшены</td>\n",
       "      <td>['Java', 'Git', 'Server Administration', 'GitH...</td>\n",
       "      <td>['Software']</td>\n",
       "      <td>github,github actions,cicd,ci/cd,deploy,deploy...</td>\n",
       "      <td>2021-06-28T07:16:40+00:00</td>\n",
       "      <td>132</td>\n",
       "      <td>55</td>\n",
       "      <td>...</td>\n",
       "      <td>5.0</td>\n",
       "      <td>ru</td>\n",
       "      <td>deft31</td>\n",
       "      <td>1233518.0</td>\n",
       "      <td>20.0</td>\n",
       "      <td>30.0</td>\n",
       "      <td>0.0</td>\n",
       "      <td>Всем Алоха. Все слышали про ci/cd, про то ч...</td>\n",
       "      <td>Java</td>\n",
       "      <td>21.0</td>\n",
       "    </tr>\n",
       "    <tr>\n",
       "      <th>...</th>\n",
       "      <td>...</td>\n",
       "      <td>...</td>\n",
       "      <td>...</td>\n",
       "      <td>...</td>\n",
       "      <td>...</td>\n",
       "      <td>...</td>\n",
       "      <td>...</td>\n",
       "      <td>...</td>\n",
       "      <td>...</td>\n",
       "      <td>...</td>\n",
       "      <td>...</td>\n",
       "      <td>...</td>\n",
       "      <td>...</td>\n",
       "      <td>...</td>\n",
       "      <td>...</td>\n",
       "      <td>...</td>\n",
       "      <td>...</td>\n",
       "      <td>...</td>\n",
       "      <td>...</td>\n",
       "      <td>...</td>\n",
       "      <td>...</td>\n",
       "    </tr>\n",
       "    <tr>\n",
       "      <th>53457</th>\n",
       "      <td>705722</td>\n",
       "      <td>False</td>\n",
       "      <td>article</td>\n",
       "      <td>Создаем оберточный HStack с помощью протокола ...</td>\n",
       "      <td>['Development for iOS', 'Swift']</td>\n",
       "      <td>[]</td>\n",
       "      <td>ios,swift,swiftui</td>\n",
       "      <td>2022-12-15T12:04:23+00:00</td>\n",
       "      <td>9</td>\n",
       "      <td>2</td>\n",
       "      <td>...</td>\n",
       "      <td>6.0</td>\n",
       "      <td>ru</td>\n",
       "      <td>SwiftBook</td>\n",
       "      <td>3328735.0</td>\n",
       "      <td>4.0</td>\n",
       "      <td>34.0</td>\n",
       "      <td>0.0</td>\n",
       "      <td>Компонент, который мы собираемся создать, дост...</td>\n",
       "      <td>Development for iOS</td>\n",
       "      <td>15.0</td>\n",
       "    </tr>\n",
       "    <tr>\n",
       "      <th>17947</th>\n",
       "      <td>545210</td>\n",
       "      <td>False</td>\n",
       "      <td>article</td>\n",
       "      <td>Внутренний ИТ: разработка и обслуживание ПО в ...</td>\n",
       "      <td>['IT Infrastructure', 'IT Standards', 'Legisla...</td>\n",
       "      <td>['Legislation in IT', 'IT-companies']</td>\n",
       "      <td>it,it бизнес,it компании,it маневр,налогооблож...</td>\n",
       "      <td>2021-03-03T08:42:52+00:00</td>\n",
       "      <td>9</td>\n",
       "      <td>5</td>\n",
       "      <td>...</td>\n",
       "      <td>4.0</td>\n",
       "      <td>ru</td>\n",
       "      <td>taxcoach</td>\n",
       "      <td>2583995.0</td>\n",
       "      <td>3.0</td>\n",
       "      <td>3.0</td>\n",
       "      <td>0.0</td>\n",
       "      <td>Если численность сотрудников ИТ-отдела превыша...</td>\n",
       "      <td>IT Infrastructure</td>\n",
       "      <td>7.0</td>\n",
       "    </tr>\n",
       "    <tr>\n",
       "      <th>10746</th>\n",
       "      <td>499968</td>\n",
       "      <td>False</td>\n",
       "      <td>article</td>\n",
       "      <td>Список самых стойких онлайн-митапов, которые п...</td>\n",
       "      <td>['Hackathon', 'Conferences']</td>\n",
       "      <td>['Hackathon', 'Conferences']</td>\n",
       "      <td>online-митап,митапы</td>\n",
       "      <td>2020-05-01T08:25:13+00:00</td>\n",
       "      <td>10</td>\n",
       "      <td>0</td>\n",
       "      <td>...</td>\n",
       "      <td>2.0</td>\n",
       "      <td>ru</td>\n",
       "      <td>alyssashch</td>\n",
       "      <td>2319043.0</td>\n",
       "      <td>6.0</td>\n",
       "      <td>12.0</td>\n",
       "      <td>0.0</td>\n",
       "      <td>Выходные — время, когда митапов традиционно ст...</td>\n",
       "      <td>Hackathon</td>\n",
       "      <td>58.0</td>\n",
       "    </tr>\n",
       "    <tr>\n",
       "      <th>21031</th>\n",
       "      <td>565904</td>\n",
       "      <td>False</td>\n",
       "      <td>article</td>\n",
       "      <td>Почему иногда React/Redux в текущем состоянии ...</td>\n",
       "      <td>['JavaScript', 'ReactJS']</td>\n",
       "      <td>[]</td>\n",
       "      <td>react,react.js,redux,javascript,statefull,stat...</td>\n",
       "      <td>2021-07-02T17:44:12+00:00</td>\n",
       "      <td>12</td>\n",
       "      <td>64</td>\n",
       "      <td>...</td>\n",
       "      <td>5.0</td>\n",
       "      <td>ru</td>\n",
       "      <td>yarostbaklajana</td>\n",
       "      <td>978502.0</td>\n",
       "      <td>7.0</td>\n",
       "      <td>7.0</td>\n",
       "      <td>0.0</td>\n",
       "      <td>React существует достаточно давно, чтобы мажор...</td>\n",
       "      <td>JavaScript</td>\n",
       "      <td>9.0</td>\n",
       "    </tr>\n",
       "    <tr>\n",
       "      <th>52739</th>\n",
       "      <td>703696</td>\n",
       "      <td>False</td>\n",
       "      <td>article</td>\n",
       "      <td>Как Unicorn и Puma взаимодействуют с nginx. Вв...</td>\n",
       "      <td>['Ruby', 'Ruby on Rails']</td>\n",
       "      <td>[]</td>\n",
       "      <td>unix socket,web proxy,ruby</td>\n",
       "      <td>2022-12-05T19:28:20+00:00</td>\n",
       "      <td>16</td>\n",
       "      <td>4</td>\n",
       "      <td>...</td>\n",
       "      <td>5.0</td>\n",
       "      <td>ru</td>\n",
       "      <td>askhat</td>\n",
       "      <td>155673.0</td>\n",
       "      <td>5.0</td>\n",
       "      <td>15.0</td>\n",
       "      <td>0.0</td>\n",
       "      <td>Мы начнём с основ unix сокетов и закончим созд...</td>\n",
       "      <td>Ruby</td>\n",
       "      <td>108.0</td>\n",
       "    </tr>\n",
       "  </tbody>\n",
       "</table>\n",
       "<p>3879 rows × 24 columns</p>\n",
       "</div>"
      ],
      "text/plain": [
       "           id  is_corporative posttype  \\\n",
       "5192   420979           False  article   \n",
       "50057  696314           False  article   \n",
       "73349  761160           False     news   \n",
       "21440  567374            True  article   \n",
       "20609  564548           False  article   \n",
       "...       ...             ...      ...   \n",
       "53457  705722           False  article   \n",
       "17947  545210           False  article   \n",
       "10746  499968           False  article   \n",
       "21031  565904           False  article   \n",
       "52739  703696           False  article   \n",
       "\n",
       "                                                   title  \\\n",
       "5192       Основы Redux (текстовый учебник, 2-е издание)   \n",
       "50057      Если не электромобили, то паромобили? Часть 4   \n",
       "73349  Павел Дуров: осенью у всех пользователей Teleg...   \n",
       "21440              7 узких мест серверной NVMe-платформы   \n",
       "20609                Как я познавал ci/cd, Гитхаб экшены   \n",
       "...                                                  ...   \n",
       "53457  Создаем оберточный HStack с помощью протокола ...   \n",
       "17947  Внутренний ИТ: разработка и обслуживание ПО в ...   \n",
       "10746  Список самых стойких онлайн-митапов, которые п...   \n",
       "21031  Почему иногда React/Redux в текущем состоянии ...   \n",
       "52739  Как Unicorn и Puma взаимодействуют с nginx. Вв...   \n",
       "\n",
       "                                                hubs_pro  \\\n",
       "5192                           ['JavaScript', 'ReactJS']   \n",
       "50057  ['Systems engineering', 'Popular science', 'Tr...   \n",
       "73349  ['Instant Messaging', 'Finance in IT', 'Crypto...   \n",
       "21440  ['High performance', 'IT Infrastructure', 'Ser...   \n",
       "20609  ['Java', 'Git', 'Server Administration', 'GitH...   \n",
       "...                                                  ...   \n",
       "53457                   ['Development for iOS', 'Swift']   \n",
       "17947  ['IT Infrastructure', 'IT Standards', 'Legisla...   \n",
       "10746                       ['Hackathon', 'Conferences']   \n",
       "21031                          ['JavaScript', 'ReactJS']   \n",
       "52739                          ['Ruby', 'Ruby on Rails']   \n",
       "\n",
       "                                  hubs_nopro  \\\n",
       "5192                                      []   \n",
       "50057       ['Popular science', 'Transport']   \n",
       "73349  ['Finance in IT', 'Cryptocurrencies']   \n",
       "21440              ['RAIDIX corporate blog']   \n",
       "20609                           ['Software']   \n",
       "...                                      ...   \n",
       "53457                                     []   \n",
       "17947  ['Legislation in IT', 'IT-companies']   \n",
       "10746           ['Hackathon', 'Conferences']   \n",
       "21031                                     []   \n",
       "52739                                     []   \n",
       "\n",
       "                                                    tags  \\\n",
       "5192                                         react,redux   \n",
       "50057  паровой,паровой двигатель,гибрид,кпд,рекуперац...   \n",
       "73349  telegram,блокчейн,криптовалюты,криптокошельки,...   \n",
       "21440  nvme,raidix,тестирование,тестирование по,проце...   \n",
       "20609  github,github actions,cicd,ci/cd,deploy,deploy...   \n",
       "...                                                  ...   \n",
       "53457                                  ios,swift,swiftui   \n",
       "17947  it,it бизнес,it компании,it маневр,налогооблож...   \n",
       "10746                                online-митап,митапы   \n",
       "21031  react,react.js,redux,javascript,statefull,stat...   \n",
       "52739                         unix socket,web proxy,ruby   \n",
       "\n",
       "                  time_published  bookmarks  comments_count  ...  \\\n",
       "5192   2018-08-23T18:52:43+00:00        136               8  ...   \n",
       "50057  2022-10-30T11:36:44+00:00         12               8  ...   \n",
       "73349  2023-09-14T18:12:02+00:00         10              23  ...   \n",
       "21440  2021-07-12T16:51:13+00:00         25               7  ...   \n",
       "20609  2021-06-28T07:16:40+00:00        132              55  ...   \n",
       "...                          ...        ...             ...  ...   \n",
       "53457  2022-12-15T12:04:23+00:00          9               2  ...   \n",
       "17947  2021-03-03T08:42:52+00:00          9               5  ...   \n",
       "10746  2020-05-01T08:25:13+00:00         10               0  ...   \n",
       "21031  2021-07-02T17:44:12+00:00         12              64  ...   \n",
       "52739  2022-12-05T19:28:20+00:00         16               4  ...   \n",
       "\n",
       "       reading_time  lang      author_name  author_id  karma karma_votes  \\\n",
       "5192            2.0    ru       maxfarseer   372351.0   56.0        70.0   \n",
       "50057          10.0    ru       GeorgKDeft  1803585.0   32.0       160.0   \n",
       "73349           2.0    ru     AnnieBronson  2082889.0  131.0       651.0   \n",
       "21440           6.0    ru       raidixteam  1457074.0   17.0        33.0   \n",
       "20609           5.0    ru           deft31  1233518.0   20.0        30.0   \n",
       "...             ...   ...              ...        ...    ...         ...   \n",
       "53457           6.0    ru        SwiftBook  3328735.0    4.0        34.0   \n",
       "17947           4.0    ru         taxcoach  2583995.0    3.0         3.0   \n",
       "10746           2.0    ru       alyssashch  2319043.0    6.0        12.0   \n",
       "21031           5.0    ru  yarostbaklajana   978502.0    7.0         7.0   \n",
       "52739           5.0    ru           askhat   155673.0    5.0        15.0   \n",
       "\n",
       "      rating                                               text  \\\n",
       "5192     0.5  Прошло 2.5 года после публикации первой версии...   \n",
       "50057    0.0   Иногда комментаторы могут угадать будущий тек...   \n",
       "73349  165.3  Глава Telegram Павел Дуров сообщил, что в нояб...   \n",
       "21440    0.0  Значимые показатели производительности требуют...   \n",
       "20609    0.0     Всем Алоха. Все слышали про ci/cd, про то ч...   \n",
       "...      ...                                                ...   \n",
       "53457    0.0  Компонент, который мы собираемся создать, дост...   \n",
       "17947    0.0  Если численность сотрудников ИТ-отдела превыша...   \n",
       "10746    0.0  Выходные — время, когда митапов традиционно ст...   \n",
       "21031    0.0  React существует достаточно давно, чтобы мажор...   \n",
       "52739    0.0  Мы начнём с основ unix сокетов и закончим созд...   \n",
       "\n",
       "                      hubs  hub_class  \n",
       "5192            JavaScript        9.0  \n",
       "50057  Systems engineering       90.0  \n",
       "73349    Instant Messaging       31.0  \n",
       "21440     High performance       17.0  \n",
       "20609                 Java       21.0  \n",
       "...                    ...        ...  \n",
       "53457  Development for iOS       15.0  \n",
       "17947    IT Infrastructure        7.0  \n",
       "10746            Hackathon       58.0  \n",
       "21031           JavaScript        9.0  \n",
       "52739                 Ruby      108.0  \n",
       "\n",
       "[3879 rows x 24 columns]"
      ]
     },
     "execution_count": 7,
     "metadata": {},
     "output_type": "execute_result"
    }
   ],
   "source": [
    "big_frame_only_text_sample"
   ]
  },
  {
   "cell_type": "markdown",
   "id": "d26e5731",
   "metadata": {},
   "source": [
    "## Загружаем готовый датасет"
   ]
  },
  {
   "cell_type": "code",
   "execution_count": 33,
   "id": "7cefafb4",
   "metadata": {},
   "outputs": [],
   "source": [
    "import pyarrow as pa\n",
    "import pyarrow.parquet as pq\n",
    "from nltk.tokenize import word_tokenize # токенизатор"
   ]
  },
  {
   "cell_type": "code",
   "execution_count": 36,
   "id": "7fb4416c",
   "metadata": {},
   "outputs": [
    {
     "name": "stderr",
     "output_type": "stream",
     "text": [
      "[nltk_data] Downloading package punkt to /home/nmakhanova/nltk_data...\n",
      "[nltk_data]   Package punkt is already up-to-date!\n"
     ]
    }
   ],
   "source": [
    "import pandas as pd\n",
    "import numpy as np\n",
    "from tqdm import tqdm\n",
    "from tqdm.notebook import tqdm\n",
    "import time\n",
    "#from pathlib import Path\n",
    "import glob\n",
    "import re\n",
    "from bs4 import BeautifulSoup\n",
    "import requests\n",
    "from ast import literal_eval\n",
    "from collections import OrderedDict\n",
    "from random import sample \n",
    "import warnings\n",
    "warnings.filterwarnings(\"ignore\")\n",
    "from sklearn.model_selection import train_test_split\n",
    "import nltk\n",
    "from nltk.tokenize import word_tokenize # токенизатор\n",
    "nltk.download('punkt') # нужно для токенизатора\n",
    "from nltk.corpus import stopwords # стоп-слова\n",
    "from string import punctuation\n",
    "nltk.download(\"stopwords\", quiet=True)\n",
    "from pymystem3 import Mystem # лемматизация\n",
    "import pyarrow # для паркета\n",
    "import fastparquet # для паркета"
   ]
  },
  {
   "cell_type": "code",
   "execution_count": 27,
   "id": "87433d8d",
   "metadata": {},
   "outputs": [
    {
     "data": {
      "text/html": [
       "<div>\n",
       "<style scoped>\n",
       "    .dataframe tbody tr th:only-of-type {\n",
       "        vertical-align: middle;\n",
       "    }\n",
       "\n",
       "    .dataframe tbody tr th {\n",
       "        vertical-align: top;\n",
       "    }\n",
       "\n",
       "    .dataframe thead th {\n",
       "        text-align: right;\n",
       "    }\n",
       "</style>\n",
       "<table border=\"1\" class=\"dataframe\">\n",
       "  <thead>\n",
       "    <tr style=\"text-align: right;\">\n",
       "      <th></th>\n",
       "      <th>id</th>\n",
       "      <th>title</th>\n",
       "      <th>time_published</th>\n",
       "      <th>tags</th>\n",
       "      <th>hubs</th>\n",
       "      <th>lemmatized_text</th>\n",
       "    </tr>\n",
       "  </thead>\n",
       "  <tbody>\n",
       "    <tr>\n",
       "      <th>0</th>\n",
       "      <td>310000</td>\n",
       "      <td>Как мы неделю чинили compaction в Cassandra</td>\n",
       "      <td>2016-09-17 06:11:00+00:00</td>\n",
       "      <td>[cassandra, nosql, troubleshooting]</td>\n",
       "      <td>[sys_admin, dwh, devops]</td>\n",
       "      <td>основной хранилище метрика являться cassandra ...</td>\n",
       "    </tr>\n",
       "    <tr>\n",
       "      <th>1</th>\n",
       "      <td>310002</td>\n",
       "      <td>Войны гипервизоров: To be continued</td>\n",
       "      <td>2016-09-15 07:56:08+00:00</td>\n",
       "      <td>[облачные вычисления, виртуализация, хостинг, ...</td>\n",
       "      <td>[it-infrastructure, virtualization, cloud_comp...</td>\n",
       "      <td>война гипервизор дело непрерывный наверное дей...</td>\n",
       "    </tr>\n",
       "    <tr>\n",
       "      <th>2</th>\n",
       "      <td>310006</td>\n",
       "      <td>AdBlock Plus совершил новый виток в истории «п...</td>\n",
       "      <td>2016-09-14 14:26:49+00:00</td>\n",
       "      <td>[adblock plus, блокировка рекламы, медийная ре...</td>\n",
       "      <td>[web_monetization, mobile_monetization, displa...</td>\n",
       "      <td>крупный мир блокировщик реклама adblock plus п...</td>\n",
       "    </tr>\n",
       "  </tbody>\n",
       "</table>\n",
       "</div>"
      ],
      "text/plain": [
       "       id                                              title  \\\n",
       "0  310000        Как мы неделю чинили compaction в Cassandra   \n",
       "1  310002                Войны гипервизоров: To be continued   \n",
       "2  310006  AdBlock Plus совершил новый виток в истории «п...   \n",
       "\n",
       "              time_published  \\\n",
       "0  2016-09-17 06:11:00+00:00   \n",
       "1  2016-09-15 07:56:08+00:00   \n",
       "2  2016-09-14 14:26:49+00:00   \n",
       "\n",
       "                                                tags  \\\n",
       "0                [cassandra, nosql, troubleshooting]   \n",
       "1  [облачные вычисления, виртуализация, хостинг, ...   \n",
       "2  [adblock plus, блокировка рекламы, медийная ре...   \n",
       "\n",
       "                                                hubs  \\\n",
       "0                           [sys_admin, dwh, devops]   \n",
       "1  [it-infrastructure, virtualization, cloud_comp...   \n",
       "2  [web_monetization, mobile_monetization, displa...   \n",
       "\n",
       "                                     lemmatized_text  \n",
       "0  основной хранилище метрика являться cassandra ...  \n",
       "1  война гипервизор дело непрерывный наверное дей...  \n",
       "2  крупный мир блокировщик реклама adblock plus п...  "
      ]
     },
     "execution_count": 27,
     "metadata": {},
     "output_type": "execute_result"
    }
   ],
   "source": [
    "fr = pd.read_parquet('habrdf.parquet', engine='fastparquet')\n",
    "fr.head(3)"
   ]
  },
  {
   "cell_type": "code",
   "execution_count": 37,
   "id": "39038d81",
   "metadata": {},
   "outputs": [],
   "source": [
    "noise = stopwords.words(\"russian\") + list(punctuation) # шум"
   ]
  },
  {
   "cell_type": "code",
   "execution_count": 45,
   "id": "d0512bb4",
   "metadata": {},
   "outputs": [],
   "source": [
    "mystem_analyzer = Mystem()"
   ]
  },
  {
   "cell_type": "code",
   "execution_count": 49,
   "id": "6f0528e6",
   "metadata": {},
   "outputs": [
    {
     "data": {
      "application/vnd.jupyter.widget-view+json": {
       "model_id": "a015130fc51847fabe0dca772f65ff71",
       "version_major": 2,
       "version_minor": 0
      },
      "text/plain": [
       "  0%|          | 0/115040 [00:00<?, ?it/s]"
      ]
     },
     "metadata": {},
     "output_type": "display_data"
    },
    {
     "data": {
      "text/html": [
       "<div>\n",
       "<style scoped>\n",
       "    .dataframe tbody tr th:only-of-type {\n",
       "        vertical-align: middle;\n",
       "    }\n",
       "\n",
       "    .dataframe tbody tr th {\n",
       "        vertical-align: top;\n",
       "    }\n",
       "\n",
       "    .dataframe thead th {\n",
       "        text-align: right;\n",
       "    }\n",
       "</style>\n",
       "<table border=\"1\" class=\"dataframe\">\n",
       "  <thead>\n",
       "    <tr style=\"text-align: right;\">\n",
       "      <th></th>\n",
       "      <th>id</th>\n",
       "      <th>title</th>\n",
       "      <th>time_published</th>\n",
       "      <th>tags</th>\n",
       "      <th>hubs</th>\n",
       "      <th>lemmatized_text</th>\n",
       "      <th>article</th>\n",
       "    </tr>\n",
       "  </thead>\n",
       "  <tbody>\n",
       "    <tr>\n",
       "      <th>0</th>\n",
       "      <td>310000</td>\n",
       "      <td>'как 'мы 'неделя 'чинить 'compaction 'Cassandra\\n</td>\n",
       "      <td>2016-09-17 06:11:00+00:00</td>\n",
       "      <td>[cassandra, nosql, troubleshooting]</td>\n",
       "      <td>[sys_admin, dwh, devops]</td>\n",
       "      <td>основной хранилище метрика являться cassandra ...</td>\n",
       "      <td>Как мы неделю чинили compaction в Cassandraосн...</td>\n",
       "    </tr>\n",
       "    <tr>\n",
       "      <th>1</th>\n",
       "      <td>310002</td>\n",
       "      <td>война гипервизор To be continued\\n</td>\n",
       "      <td>2016-09-15 07:56:08+00:00</td>\n",
       "      <td>[облачные вычисления, виртуализация, хостинг, ...</td>\n",
       "      <td>[it-infrastructure, virtualization, cloud_comp...</td>\n",
       "      <td>война гипервизор дело непрерывный наверное дей...</td>\n",
       "      <td>Войны гипервизоров: To be continuedвойна гипер...</td>\n",
       "    </tr>\n",
       "    <tr>\n",
       "      <th>2</th>\n",
       "      <td>310006</td>\n",
       "      <td>AdBlock Plus совершать новый виток история « п...</td>\n",
       "      <td>2016-09-14 14:26:49+00:00</td>\n",
       "      <td>[adblock plus, блокировка рекламы, медийная ре...</td>\n",
       "      <td>[web_monetization, mobile_monetization, displa...</td>\n",
       "      <td>крупный мир блокировщик реклама adblock plus п...</td>\n",
       "      <td>AdBlock Plus совершил новый виток в истории «п...</td>\n",
       "    </tr>\n",
       "    <tr>\n",
       "      <th>3</th>\n",
       "      <td>310008</td>\n",
       "      <td>миф незрелость мобильный NFC технология\\n</td>\n",
       "      <td>2016-09-15 08:02:54+00:00</td>\n",
       "      <td>[Gemalto, nfc, мобильные приложения, мобильный...</td>\n",
       "      <td>[infosecurity, pay_system, ecommerce_development]</td>\n",
       "      <td>современный nfc технология нынешний вид появля...</td>\n",
       "      <td>Миф о незрелости мобильных NFC технологийсовре...</td>\n",
       "    </tr>\n",
       "    <tr>\n",
       "      <th>4</th>\n",
       "      <td>310014</td>\n",
       "      <td>OpenJDK Project Panama\\n</td>\n",
       "      <td>2016-09-15 06:30:51+00:00</td>\n",
       "      <td>[joker2016, jokerconf, java, jvm, panama]</td>\n",
       "      <td>[programming, java]</td>\n",
       "      <td>год назад openjdk создавать новый проект кодов...</td>\n",
       "      <td>OpenJDK: Project Panamaгод назад openjdk созда...</td>\n",
       "    </tr>\n",
       "    <tr>\n",
       "      <th>...</th>\n",
       "      <td>...</td>\n",
       "      <td>...</td>\n",
       "      <td>...</td>\n",
       "      <td>...</td>\n",
       "      <td>...</td>\n",
       "      <td>...</td>\n",
       "      <td>...</td>\n",
       "    </tr>\n",
       "    <tr>\n",
       "      <th>115035</th>\n",
       "      <td>773128</td>\n",
       "      <td>в рф изучать возможность использование отпечат...</td>\n",
       "      <td>2023-11-10 11:08:56+00:00</td>\n",
       "      <td>[биометрия, биометрические данные, биометричес...</td>\n",
       "      <td>[infosecurity]</td>\n",
       "      <td>центр биометрический технология цбт эксперт из...</td>\n",
       "      <td>В РФ изучают возможность использования отпечат...</td>\n",
       "    </tr>\n",
       "    <tr>\n",
       "      <th>115036</th>\n",
       "      <td>773132</td>\n",
       "      <td>как винни пух пятачок становиться программист ...</td>\n",
       "      <td>2023-11-10 11:20:36+00:00</td>\n",
       "      <td>[1с]</td>\n",
       "      <td>[1C]</td>\n",
       "      <td>барабанный дробь дверь заставать винни пух мом...</td>\n",
       "      <td>Как Винни Пух и Пятачок стали программистами 1...</td>\n",
       "    </tr>\n",
       "    <tr>\n",
       "      <th>115037</th>\n",
       "      <td>773138</td>\n",
       "      <td>цб планировать внедрять стандарт безопасность ...</td>\n",
       "      <td>2023-11-10 11:49:58+00:00</td>\n",
       "      <td>[банк россии, цб, qr-коды, информационная безо...</td>\n",
       "      <td>[pay_system, infosecurity]</td>\n",
       "      <td>банк россия разрабатывать стандарт который поз...</td>\n",
       "      <td>ЦБ планирует внедрить стандарт безопасности оп...</td>\n",
       "    </tr>\n",
       "    <tr>\n",
       "      <th>115038</th>\n",
       "      <td>773142</td>\n",
       "      <td>разработка тестирование совместный использован...</td>\n",
       "      <td>2023-11-10 12:04:46+00:00</td>\n",
       "      <td>[разработка через тестирование, mockito, junit]</td>\n",
       "      <td>[it_testing, tdd]</td>\n",
       "      <td>привет хабр связь участница профессиональный с...</td>\n",
       "      <td>Разработка через тестирование. Совместное испо...</td>\n",
       "    </tr>\n",
       "    <tr>\n",
       "      <th>115039</th>\n",
       "      <td>773144</td>\n",
       "      <td>« джеймс уэбб » « хаббл » объединяться создани...</td>\n",
       "      <td>2023-11-10 12:06:30+00:00</td>\n",
       "      <td>[НАСА, гравитационное линзирование, Джеймс Уэб...</td>\n",
       "      <td>[research]</td>\n",
       "      <td>специалист исследователька группа canucs объед...</td>\n",
       "      <td>«Джеймс Уэбб» и «Хаббл» объединились для созда...</td>\n",
       "    </tr>\n",
       "  </tbody>\n",
       "</table>\n",
       "<p>115040 rows × 7 columns</p>\n",
       "</div>"
      ],
      "text/plain": [
       "            id                                              title  \\\n",
       "0       310000  'как 'мы 'неделя 'чинить 'compaction 'Cassandra\\n   \n",
       "1       310002                 война гипервизор To be continued\\n   \n",
       "2       310006  AdBlock Plus совершать новый виток история « п...   \n",
       "3       310008          миф незрелость мобильный NFC технология\\n   \n",
       "4       310014                           OpenJDK Project Panama\\n   \n",
       "...        ...                                                ...   \n",
       "115035  773128  в рф изучать возможность использование отпечат...   \n",
       "115036  773132  как винни пух пятачок становиться программист ...   \n",
       "115037  773138  цб планировать внедрять стандарт безопасность ...   \n",
       "115038  773142  разработка тестирование совместный использован...   \n",
       "115039  773144  « джеймс уэбб » « хаббл » объединяться создани...   \n",
       "\n",
       "                   time_published  \\\n",
       "0       2016-09-17 06:11:00+00:00   \n",
       "1       2016-09-15 07:56:08+00:00   \n",
       "2       2016-09-14 14:26:49+00:00   \n",
       "3       2016-09-15 08:02:54+00:00   \n",
       "4       2016-09-15 06:30:51+00:00   \n",
       "...                           ...   \n",
       "115035  2023-11-10 11:08:56+00:00   \n",
       "115036  2023-11-10 11:20:36+00:00   \n",
       "115037  2023-11-10 11:49:58+00:00   \n",
       "115038  2023-11-10 12:04:46+00:00   \n",
       "115039  2023-11-10 12:06:30+00:00   \n",
       "\n",
       "                                                     tags  \\\n",
       "0                     [cassandra, nosql, troubleshooting]   \n",
       "1       [облачные вычисления, виртуализация, хостинг, ...   \n",
       "2       [adblock plus, блокировка рекламы, медийная ре...   \n",
       "3       [Gemalto, nfc, мобильные приложения, мобильный...   \n",
       "4               [joker2016, jokerconf, java, jvm, panama]   \n",
       "...                                                   ...   \n",
       "115035  [биометрия, биометрические данные, биометричес...   \n",
       "115036                                               [1с]   \n",
       "115037  [банк россии, цб, qr-коды, информационная безо...   \n",
       "115038    [разработка через тестирование, mockito, junit]   \n",
       "115039  [НАСА, гравитационное линзирование, Джеймс Уэб...   \n",
       "\n",
       "                                                     hubs  \\\n",
       "0                                [sys_admin, dwh, devops]   \n",
       "1       [it-infrastructure, virtualization, cloud_comp...   \n",
       "2       [web_monetization, mobile_monetization, displa...   \n",
       "3       [infosecurity, pay_system, ecommerce_development]   \n",
       "4                                     [programming, java]   \n",
       "...                                                   ...   \n",
       "115035                                     [infosecurity]   \n",
       "115036                                               [1C]   \n",
       "115037                         [pay_system, infosecurity]   \n",
       "115038                                  [it_testing, tdd]   \n",
       "115039                                         [research]   \n",
       "\n",
       "                                          lemmatized_text  \\\n",
       "0       основной хранилище метрика являться cassandra ...   \n",
       "1       война гипервизор дело непрерывный наверное дей...   \n",
       "2       крупный мир блокировщик реклама adblock plus п...   \n",
       "3       современный nfc технология нынешний вид появля...   \n",
       "4       год назад openjdk создавать новый проект кодов...   \n",
       "...                                                   ...   \n",
       "115035  центр биометрический технология цбт эксперт из...   \n",
       "115036  барабанный дробь дверь заставать винни пух мом...   \n",
       "115037  банк россия разрабатывать стандарт который поз...   \n",
       "115038  привет хабр связь участница профессиональный с...   \n",
       "115039  специалист исследователька группа canucs объед...   \n",
       "\n",
       "                                                  article  \n",
       "0       Как мы неделю чинили compaction в Cassandraосн...  \n",
       "1       Войны гипервизоров: To be continuedвойна гипер...  \n",
       "2       AdBlock Plus совершил новый виток в истории «п...  \n",
       "3       Миф о незрелости мобильных NFC технологийсовре...  \n",
       "4       OpenJDK: Project Panamaгод назад openjdk созда...  \n",
       "...                                                   ...  \n",
       "115035  В РФ изучают возможность использования отпечат...  \n",
       "115036  Как Винни Пух и Пятачок стали программистами 1...  \n",
       "115037  ЦБ планирует внедрить стандарт безопасности оп...  \n",
       "115038  Разработка через тестирование. Совместное испо...  \n",
       "115039  «Джеймс Уэбб» и «Хаббл» объединились для созда...  \n",
       "\n",
       "[115040 rows x 7 columns]"
      ]
     },
     "execution_count": 49,
     "metadata": {},
     "output_type": "execute_result"
    }
   ],
   "source": [
    "col1 = 'title'\n",
    "\n",
    "def text_clean(fr, col):\n",
    "    for i in tqdm(fr.index):\n",
    "        fr[col][i] = word_tokenize(str(fr[col][i])) # разбиваем на токены\n",
    "        t = fr[col][i]\n",
    "        t1 = [x for x in t if x not in noise] # убираем пунктуацию и стоп-слова\n",
    "        t2 = mystem_analyzer.lemmatize(' '.join(str(j) for j in t1)) # лемматизируем\n",
    "        t3 = ''.join(str(k) for k in t2)\n",
    "        fr[col][i] = t3\n",
    "    return fr\n",
    "\n",
    "text_clean(fr, 'title')"
   ]
  },
  {
   "cell_type": "code",
   "execution_count": 50,
   "id": "313ac56d",
   "metadata": {},
   "outputs": [],
   "source": [
    "fr = fr.drop(columns = ['article'])"
   ]
  },
  {
   "cell_type": "code",
   "execution_count": 51,
   "id": "c7063398",
   "metadata": {},
   "outputs": [
    {
     "data": {
      "application/vnd.jupyter.widget-view+json": {
       "model_id": "27aae5ff02a549ad8ee558386ce1b5bf",
       "version_major": 2,
       "version_minor": 0
      },
      "text/plain": [
       "  0%|          | 0/115040 [00:00<?, ?it/s]"
      ]
     },
     "metadata": {},
     "output_type": "display_data"
    },
    {
     "name": "stdout",
     "output_type": "stream",
     "text": [
      "CPU times: user 1min 47s, sys: 3.76 s, total: 1min 50s\n",
      "Wall time: 1min 50s\n"
     ]
    }
   ],
   "source": [
    "%%time\n",
    "fr['article'] = '' # создаем столбец с НАЗВАНИЕ СТАТЬИ + ТЕКСТ СТАТЬИ\n",
    "for i in tqdm(fr.index):\n",
    "    fr['article'][i] = fr['title'][i] + fr['lemmatized_text'][i]"
   ]
  },
  {
   "cell_type": "code",
   "execution_count": 52,
   "id": "c5bd8fcd",
   "metadata": {
    "scrolled": true
   },
   "outputs": [
    {
     "data": {
      "text/html": [
       "<div>\n",
       "<style scoped>\n",
       "    .dataframe tbody tr th:only-of-type {\n",
       "        vertical-align: middle;\n",
       "    }\n",
       "\n",
       "    .dataframe tbody tr th {\n",
       "        vertical-align: top;\n",
       "    }\n",
       "\n",
       "    .dataframe thead th {\n",
       "        text-align: right;\n",
       "    }\n",
       "</style>\n",
       "<table border=\"1\" class=\"dataframe\">\n",
       "  <thead>\n",
       "    <tr style=\"text-align: right;\">\n",
       "      <th></th>\n",
       "      <th>id</th>\n",
       "      <th>title</th>\n",
       "      <th>time_published</th>\n",
       "      <th>tags</th>\n",
       "      <th>hubs</th>\n",
       "      <th>lemmatized_text</th>\n",
       "      <th>article</th>\n",
       "    </tr>\n",
       "  </thead>\n",
       "  <tbody>\n",
       "    <tr>\n",
       "      <th>0</th>\n",
       "      <td>310000</td>\n",
       "      <td>'как 'мы 'неделя 'чинить 'compaction 'Cassandra\\n</td>\n",
       "      <td>2016-09-17 06:11:00+00:00</td>\n",
       "      <td>[cassandra, nosql, troubleshooting]</td>\n",
       "      <td>[sys_admin, dwh, devops]</td>\n",
       "      <td>основной хранилище метрика являться cassandra ...</td>\n",
       "      <td>'как 'мы 'неделя 'чинить 'compaction 'Cassandr...</td>\n",
       "    </tr>\n",
       "    <tr>\n",
       "      <th>1</th>\n",
       "      <td>310002</td>\n",
       "      <td>война гипервизор To be continued\\n</td>\n",
       "      <td>2016-09-15 07:56:08+00:00</td>\n",
       "      <td>[облачные вычисления, виртуализация, хостинг, ...</td>\n",
       "      <td>[it-infrastructure, virtualization, cloud_comp...</td>\n",
       "      <td>война гипервизор дело непрерывный наверное дей...</td>\n",
       "      <td>война гипервизор To be continued\\nвойна гиперв...</td>\n",
       "    </tr>\n",
       "    <tr>\n",
       "      <th>2</th>\n",
       "      <td>310006</td>\n",
       "      <td>AdBlock Plus совершать новый виток история « п...</td>\n",
       "      <td>2016-09-14 14:26:49+00:00</td>\n",
       "      <td>[adblock plus, блокировка рекламы, медийная ре...</td>\n",
       "      <td>[web_monetization, mobile_monetization, displa...</td>\n",
       "      <td>крупный мир блокировщик реклама adblock plus п...</td>\n",
       "      <td>AdBlock Plus совершать новый виток история « п...</td>\n",
       "    </tr>\n",
       "  </tbody>\n",
       "</table>\n",
       "</div>"
      ],
      "text/plain": [
       "       id                                              title  \\\n",
       "0  310000  'как 'мы 'неделя 'чинить 'compaction 'Cassandra\\n   \n",
       "1  310002                 война гипервизор To be continued\\n   \n",
       "2  310006  AdBlock Plus совершать новый виток история « п...   \n",
       "\n",
       "              time_published  \\\n",
       "0  2016-09-17 06:11:00+00:00   \n",
       "1  2016-09-15 07:56:08+00:00   \n",
       "2  2016-09-14 14:26:49+00:00   \n",
       "\n",
       "                                                tags  \\\n",
       "0                [cassandra, nosql, troubleshooting]   \n",
       "1  [облачные вычисления, виртуализация, хостинг, ...   \n",
       "2  [adblock plus, блокировка рекламы, медийная ре...   \n",
       "\n",
       "                                                hubs  \\\n",
       "0                           [sys_admin, dwh, devops]   \n",
       "1  [it-infrastructure, virtualization, cloud_comp...   \n",
       "2  [web_monetization, mobile_monetization, displa...   \n",
       "\n",
       "                                     lemmatized_text  \\\n",
       "0  основной хранилище метрика являться cassandra ...   \n",
       "1  война гипервизор дело непрерывный наверное дей...   \n",
       "2  крупный мир блокировщик реклама adblock plus п...   \n",
       "\n",
       "                                             article  \n",
       "0  'как 'мы 'неделя 'чинить 'compaction 'Cassandr...  \n",
       "1  война гипервизор To be continued\\nвойна гиперв...  \n",
       "2  AdBlock Plus совершать новый виток история « п...  "
      ]
     },
     "execution_count": 52,
     "metadata": {},
     "output_type": "execute_result"
    }
   ],
   "source": [
    "fr.head(3)"
   ]
  },
  {
   "cell_type": "code",
   "execution_count": 76,
   "id": "7f480ba1",
   "metadata": {
    "collapsed": true
   },
   "outputs": [
    {
     "data": {
      "text/plain": [
       "{'infosecurity': 13694,\n",
       " 'programming': 12993,\n",
       " 'it-infrastructure': 7377,\n",
       " 'machine_learning': 6512,\n",
       " 'webdev': 6094,\n",
       " 'javascript': 5572,\n",
       " 'python': 5450,\n",
       " 'sys_admin': 5314,\n",
       " 'hr_management': 4976,\n",
       " 'open_source': 4602,\n",
       " 'gamedev': 4508,\n",
       " 'pm': 4354,\n",
       " 'mobile_dev': 4238,\n",
       " 'cloud_services': 3695,\n",
       " 'network_technologies': 3566,\n",
       " 'devops': 3505,\n",
       " 'algorithms': 3448,\n",
       " 'productpm': 3330,\n",
       " 'dev_management': 3265,\n",
       " 'analysis_design': 3260,\n",
       " 'java': 3223,\n",
       " 'android_dev': 3188,\n",
       " 'electronics': 3164,\n",
       " 'ios_dev': 2772,\n",
       " 'research': 2687,\n",
       " 'bigdata': 2626,\n",
       " 'maths': 2602,\n",
       " 's_admin': 2492,\n",
       " 'it_testing': 2389,\n",
       " 'cpp': 2324,\n",
       " 'hi': 2238,\n",
       " 'dwh': 2090,\n",
       " 'net': 2090,\n",
       " 'web_testing': 1910,\n",
       " 'csharp': 1898,\n",
       " 'php': 1741,\n",
       " 'linux': 1673,\n",
       " 'image_processing': 1635,\n",
       " 'controllers': 1627,\n",
       " 'ui': 1579,\n",
       " 'business_models': 1565,\n",
       " 'api': 1519,\n",
       " 'linux_dev': 1469,\n",
       " 'kubernetes': 1424,\n",
       " 'nix': 1415,\n",
       " 'ecommerce': 1396,\n",
       " 'win_dev': 1393,\n",
       " 'reactjs': 1360,\n",
       " 'lib': 1349,\n",
       " 'sales': 1310,\n",
       " 'crypto': 1309,\n",
       " 'data_mining': 1306,\n",
       " 'db_admins': 1276,\n",
       " 'video': 1226,\n",
       " 'netdev': 1218,\n",
       " 'internetmarketing': 1207,\n",
       " 'go': 1207,\n",
       " 'wireless': 1204,\n",
       " 'data_visualization': 1201,\n",
       " 'virtualization': 1188,\n",
       " 'instant_messaging': 1137,\n",
       " 'html5': 1135,\n",
       " 'refactoring': 1131,\n",
       " 'postgresql': 1110,\n",
       " 'css': 1106,\n",
       " 'data_warehouse': 1106,\n",
       " 'c': 1099,\n",
       " 'sql': 1080,\n",
       " 'itstandarts': 1035,\n",
       " 'mobile_testing': 1012,\n",
       " 'crazydev': 997,\n",
       " 'game_design': 992,\n",
       " 'nodejs': 983,\n",
       " 'web_design': 934,\n",
       " 'reverse-engineering': 925,\n",
       " 'cloud_computing': 907,\n",
       " 'kotlin': 895,\n",
       " 'github': 877,\n",
       " 'swift': 859,\n",
       " '3d_graphics': 855,\n",
       " 'data_engineering': 851,\n",
       " 'robo_dev': 844,\n",
       " 'system_programming': 838,\n",
       " 'engineering_systems': 835,\n",
       " 'usability': 832,\n",
       " 'pay_system': 831,\n",
       " 'microservices': 831,\n",
       " 'unity': 820,\n",
       " 'agile': 819,\n",
       " 'typescript': 797,\n",
       " 'complete_code': 765,\n",
       " 'geo': 728,\n",
       " 'community_management': 723,\n",
       " 'apps_design': 692,\n",
       " 'contentmarketing': 691,\n",
       " 'arduino': 684,\n",
       " 'search_technologies': 677,\n",
       " 'graph_design': 673,\n",
       " 'ecommerce_development': 669,\n",
       " 'industrial_control_system': 667,\n",
       " 'p2p': 655,\n",
       " 'compilers': 619,\n",
       " 'natural_language_processing': 602,\n",
       " 'iot_dev': 596,\n",
       " 'network_standarts': 577,\n",
       " 'virus': 544,\n",
       " 'git': 539,\n",
       " 'gtd': 538,\n",
       " 'rust': 533,\n",
       " 'patents': 517,\n",
       " 'raspberrypi': 515,\n",
       " 'distributed_systems': 512,\n",
       " 'angular': 503,\n",
       " 'mobileanalytics': 502,\n",
       " 'crm': 501,\n",
       " 'funcprog': 498,\n",
       " 'server_side_optimization': 495,\n",
       " 'oop': 492,\n",
       " 'game_promotion': 486,\n",
       " 'circuit-design': 483,\n",
       " 'context': 475,\n",
       " 'cad_cam': 473,\n",
       " 'azure': 470,\n",
       " 'backup': 465,\n",
       " 'flutter': 460,\n",
       " 'erp': 444,\n",
       " 'assembler': 441,\n",
       " 'weban': 424,\n",
       " 'debug': 423,\n",
       " 'media_management': 421,\n",
       " 'arvrdev': 421,\n",
       " 'vuejs': 409,\n",
       " 'mssql': 404,\n",
       " 'fpga': 400,\n",
       " 'osx_dev': 392,\n",
       " 'seo': 391,\n",
       " 'mobile_monetization': 389,\n",
       " 'display_adv': 387,\n",
       " 'voice_interfaces': 369,\n",
       " 'opendata': 368,\n",
       " 'game_monetization': 364,\n",
       " 'game_testing': 364,\n",
       " 'vs': 363,\n",
       " 'web_monetization': 362,\n",
       " 'conversion': 348,\n",
       " 'prototyping': 344,\n",
       " 'laravel': 342,\n",
       " 'service_desk': 331,\n",
       " 'client_side_optimization': 329,\n",
       " '1C': 326,\n",
       " 'parallel_programming': 324,\n",
       " 'apache': 322,\n",
       " 'technical_writing': 320,\n",
       " 'build_automation': 308,\n",
       " 'aws': 307,\n",
       " 'dart': 304,\n",
       " 'django': 296,\n",
       " 'cisconetworks': 293,\n",
       " 'ctf': 290,\n",
       " 'r': 287,\n",
       " 'sport_programming': 281,\n",
       " 'nginx': 280,\n",
       " 'mysql': 280,\n",
       " 'scala': 276,\n",
       " 'oracle': 272,\n",
       " 'symfony': 263,\n",
       " 'ruby': 260,\n",
       " 'data_recovery': 258,\n",
       " 'nosql': 240,\n",
       " 'cms': 238,\n",
       " 'ror': 235,\n",
       " 'qt_software': 230,\n",
       " 'localization': 227,\n",
       " 'cvs': 218,\n",
       " 'google_api': 214,\n",
       " 'sw': 211,\n",
       " 'unreal_engine': 208,\n",
       " 'powershell': 196,\n",
       " 'domains': 195,\n",
       " 'helpdesk': 191,\n",
       " 'yii': 187,\n",
       " 'asp': 186,\n",
       " 'accessibility': 186,\n",
       " 'saas': 185,\n",
       " 'growthhacking': 182,\n",
       " 'asterisk': 181,\n",
       " 'lua': 180,\n",
       " 'openstreetmap': 177,\n",
       " 'animation': 175,\n",
       " 'matlab': 167,\n",
       " 'bitrix': 160,\n",
       " 'webassembly': 158,\n",
       " 'vector_graphics': 157,\n",
       " 'tensorflow': 152,\n",
       " 'dns': 151,\n",
       " 'office365dev': 149,\n",
       " 'it_monetization': 148,\n",
       " 'solidity': 142,\n",
       " 'googlecloud': 140,\n",
       " 'cgi': 139,\n",
       " 'yandex_api': 135,\n",
       " 'Atlassian': 134,\n",
       " 'visual_programming': 132,\n",
       " 'tdd': 131,\n",
       " 'tarantool': 131,\n",
       " 'desktop_environment': 129,\n",
       " 'webgl': 128,\n",
       " 'xcode': 128,\n",
       " 'typography': 127,\n",
       " 'scada': 126,\n",
       " 'mongodb': 118,\n",
       " 'geo_systems': 118,\n",
       " 'wordpress': 117,\n",
       " 'objectivec': 117,\n",
       " 'serverless': 117,\n",
       " 'Hadoop': 115,\n",
       " 'ecm': 111,\n",
       " 'delphi': 108,\n",
       " 'data_compression': 100,\n",
       " 'vk_api': 98,\n",
       " 'haskell': 98,\n",
       " 'billing': 92,\n",
       " 'sqlite': 92,\n",
       " 'flask': 92,\n",
       " 'xml': 92,\n",
       " 'Xamarin': 91,\n",
       " 'erlang': 88,\n",
       " 'elixirphoenix': 86,\n",
       " 'gradle': 84,\n",
       " 'emailmarketing': 84,\n",
       " 'fsharp': 82,\n",
       " 'canvas': 76,\n",
       " 'julia': 75,\n",
       " 'openshift': 74,\n",
       " 'vba': 73,\n",
       " 'vim': 73,\n",
       " 'joomla': 73,\n",
       " 'gpgpu': 72,\n",
       " 'lisp': 71,\n",
       " 'shells': 63,\n",
       " 'regex': 62,\n",
       " 'sveltejs': 61,\n",
       " 'perl': 59,\n",
       " 'magento': 58,\n",
       " 'san': 57,\n",
       " 'godot': 56,\n",
       " 'map_api': 55,\n",
       " 'jquery': 50,\n",
       " 'mesh_networking': 50,\n",
       " 'ipv6': 50,\n",
       " 'uml': 49,\n",
       " 'iptv': 48,\n",
       " 'txt_ide': 46,\n",
       " 'groovy_grails': 45,\n",
       " 'UEFI': 43,\n",
       " 'd': 41,\n",
       " 'latex': 41,\n",
       " 'smol': 40,\n",
       " 'sharepoint': 36,\n",
       " 'i2p': 36,\n",
       " 'jetpack-compose': 36,\n",
       " 'facebook_api': 35,\n",
       " 'processing_lang': 34,\n",
       " 'Sailfish_dev': 33,\n",
       " 'iconoskaz': 33,\n",
       " 'prolog': 32,\n",
       " 'devmail': 31,\n",
       " 'clojure': 30,\n",
       " 'wp_dev': 26,\n",
       " 'AJAX': 26,\n",
       " 'gtk': 26,\n",
       " 'nestjs': 26,\n",
       " 'firebird': 25,\n",
       " 'gae': 25,\n",
       " 'eclipse': 25,\n",
       " 'IPFS': 24,\n",
       " 'creative_commons': 24,\n",
       " 'emacs': 22,\n",
       " 'fortran': 22,\n",
       " 'sphinx': 21,\n",
       " 'puppet': 21,\n",
       " 'forth': 21,\n",
       " 'brainfuck': 20,\n",
       " 'doctrine': 20,\n",
       " 'cocoa': 19,\n",
       " 'haxe': 19,\n",
       " 'drupal': 18,\n",
       " 'tizen_dev': 18,\n",
       " 'bughunters': 18,\n",
       " 'twitter_api': 17,\n",
       " 'cobol': 17,\n",
       " 'labview': 17,\n",
       " 'mono': 16,\n",
       " 'modx': 15,\n",
       " 'zend_framework': 13,\n",
       " 'microformats': 13,\n",
       " 'google_cloud_vision_api': 12,\n",
       " 'elm': 12,\n",
       " 'iis': 11,\n",
       " 'xslt': 9,\n",
       " 'action_script': 9,\n",
       " 'smalltalk': 9,\n",
       " 'gwt': 9,\n",
       " 'zig': 9,\n",
       " 'infolust': 9,\n",
       " 'meteorjs': 8,\n",
       " 'emberjs': 8,\n",
       " 'ms_access': 7,\n",
       " 'javame_dev': 7,\n",
       " 'codeigniter': 6,\n",
       " 'extjs': 4,\n",
       " 'smallbasic': 4,\n",
       " 'fido': 3,\n",
       " 'greasemonkey': 3,\n",
       " 'flex': 2,\n",
       " 'mercurial': 2,\n",
       " 'silverlight': 2,\n",
       " 'phalcon': 1,\n",
       " 'coffeescript': 1,\n",
       " 'twisted': 1,\n",
       " 'typo3': 1}"
      ]
     },
     "execution_count": 76,
     "metadata": {},
     "output_type": "execute_result"
    }
   ],
   "source": [
    "_count = dict()\n",
    "\n",
    "for _list in list(fr['hubs']):\n",
    "    for i in _list:\n",
    "        if i not in _count:\n",
    "            _count[i] = 1\n",
    "        else:\n",
    "            _count[i] += 1\n",
    "            \n",
    "_count = {k: v for k, v in sorted(_count.items(), key=lambda item: item[1], reverse=True)}\n",
    "_count"
   ]
  },
  {
   "cell_type": "code",
   "execution_count": 64,
   "id": "9d5b83bd",
   "metadata": {},
   "outputs": [],
   "source": [
    "df = pd.DataFrame.from_dict(_count, orient='index', columns = ['count']).reset_index()"
   ]
  },
  {
   "cell_type": "code",
   "execution_count": 65,
   "id": "ebfb5378",
   "metadata": {},
   "outputs": [
    {
     "data": {
      "text/html": [
       "<div>\n",
       "<style scoped>\n",
       "    .dataframe tbody tr th:only-of-type {\n",
       "        vertical-align: middle;\n",
       "    }\n",
       "\n",
       "    .dataframe tbody tr th {\n",
       "        vertical-align: top;\n",
       "    }\n",
       "\n",
       "    .dataframe thead th {\n",
       "        text-align: right;\n",
       "    }\n",
       "</style>\n",
       "<table border=\"1\" class=\"dataframe\">\n",
       "  <thead>\n",
       "    <tr style=\"text-align: right;\">\n",
       "      <th></th>\n",
       "      <th>index</th>\n",
       "      <th>count</th>\n",
       "    </tr>\n",
       "  </thead>\n",
       "  <tbody>\n",
       "    <tr>\n",
       "      <th>0</th>\n",
       "      <td>infosecurity</td>\n",
       "      <td>13694</td>\n",
       "    </tr>\n",
       "    <tr>\n",
       "      <th>1</th>\n",
       "      <td>programming</td>\n",
       "      <td>12993</td>\n",
       "    </tr>\n",
       "    <tr>\n",
       "      <th>2</th>\n",
       "      <td>it-infrastructure</td>\n",
       "      <td>7377</td>\n",
       "    </tr>\n",
       "    <tr>\n",
       "      <th>3</th>\n",
       "      <td>machine_learning</td>\n",
       "      <td>6512</td>\n",
       "    </tr>\n",
       "    <tr>\n",
       "      <th>4</th>\n",
       "      <td>webdev</td>\n",
       "      <td>6094</td>\n",
       "    </tr>\n",
       "    <tr>\n",
       "      <th>...</th>\n",
       "      <td>...</td>\n",
       "      <td>...</td>\n",
       "    </tr>\n",
       "    <tr>\n",
       "      <th>316</th>\n",
       "      <td>silverlight</td>\n",
       "      <td>2</td>\n",
       "    </tr>\n",
       "    <tr>\n",
       "      <th>317</th>\n",
       "      <td>phalcon</td>\n",
       "      <td>1</td>\n",
       "    </tr>\n",
       "    <tr>\n",
       "      <th>318</th>\n",
       "      <td>coffeescript</td>\n",
       "      <td>1</td>\n",
       "    </tr>\n",
       "    <tr>\n",
       "      <th>319</th>\n",
       "      <td>twisted</td>\n",
       "      <td>1</td>\n",
       "    </tr>\n",
       "    <tr>\n",
       "      <th>320</th>\n",
       "      <td>typo3</td>\n",
       "      <td>1</td>\n",
       "    </tr>\n",
       "  </tbody>\n",
       "</table>\n",
       "<p>321 rows × 2 columns</p>\n",
       "</div>"
      ],
      "text/plain": [
       "                 index  count\n",
       "0         infosecurity  13694\n",
       "1          programming  12993\n",
       "2    it-infrastructure   7377\n",
       "3     machine_learning   6512\n",
       "4               webdev   6094\n",
       "..                 ...    ...\n",
       "316        silverlight      2\n",
       "317            phalcon      1\n",
       "318       coffeescript      1\n",
       "319            twisted      1\n",
       "320              typo3      1\n",
       "\n",
       "[321 rows x 2 columns]"
      ]
     },
     "execution_count": 65,
     "metadata": {},
     "output_type": "execute_result"
    }
   ],
   "source": [
    "df"
   ]
  },
  {
   "cell_type": "code",
   "execution_count": 66,
   "id": "4c8d7879",
   "metadata": {},
   "outputs": [
    {
     "data": {
      "text/html": [
       "<div>\n",
       "<style scoped>\n",
       "    .dataframe tbody tr th:only-of-type {\n",
       "        vertical-align: middle;\n",
       "    }\n",
       "\n",
       "    .dataframe tbody tr th {\n",
       "        vertical-align: top;\n",
       "    }\n",
       "\n",
       "    .dataframe thead th {\n",
       "        text-align: right;\n",
       "    }\n",
       "</style>\n",
       "<table border=\"1\" class=\"dataframe\">\n",
       "  <thead>\n",
       "    <tr style=\"text-align: right;\">\n",
       "      <th></th>\n",
       "      <th>index</th>\n",
       "      <th>count</th>\n",
       "    </tr>\n",
       "  </thead>\n",
       "  <tbody>\n",
       "    <tr>\n",
       "      <th>0</th>\n",
       "      <td>infosecurity</td>\n",
       "      <td>13694</td>\n",
       "    </tr>\n",
       "    <tr>\n",
       "      <th>1</th>\n",
       "      <td>programming</td>\n",
       "      <td>12993</td>\n",
       "    </tr>\n",
       "    <tr>\n",
       "      <th>2</th>\n",
       "      <td>it-infrastructure</td>\n",
       "      <td>7377</td>\n",
       "    </tr>\n",
       "    <tr>\n",
       "      <th>3</th>\n",
       "      <td>machine_learning</td>\n",
       "      <td>6512</td>\n",
       "    </tr>\n",
       "    <tr>\n",
       "      <th>4</th>\n",
       "      <td>webdev</td>\n",
       "      <td>6094</td>\n",
       "    </tr>\n",
       "    <tr>\n",
       "      <th>5</th>\n",
       "      <td>javascript</td>\n",
       "      <td>5572</td>\n",
       "    </tr>\n",
       "    <tr>\n",
       "      <th>6</th>\n",
       "      <td>python</td>\n",
       "      <td>5450</td>\n",
       "    </tr>\n",
       "    <tr>\n",
       "      <th>7</th>\n",
       "      <td>sys_admin</td>\n",
       "      <td>5314</td>\n",
       "    </tr>\n",
       "    <tr>\n",
       "      <th>8</th>\n",
       "      <td>hr_management</td>\n",
       "      <td>4976</td>\n",
       "    </tr>\n",
       "    <tr>\n",
       "      <th>9</th>\n",
       "      <td>open_source</td>\n",
       "      <td>4602</td>\n",
       "    </tr>\n",
       "  </tbody>\n",
       "</table>\n",
       "</div>"
      ],
      "text/plain": [
       "               index  count\n",
       "0       infosecurity  13694\n",
       "1        programming  12993\n",
       "2  it-infrastructure   7377\n",
       "3   machine_learning   6512\n",
       "4             webdev   6094\n",
       "5         javascript   5572\n",
       "6             python   5450\n",
       "7          sys_admin   5314\n",
       "8      hr_management   4976\n",
       "9        open_source   4602"
      ]
     },
     "execution_count": 66,
     "metadata": {},
     "output_type": "execute_result"
    }
   ],
   "source": [
    "df[:10]"
   ]
  },
  {
   "cell_type": "code",
   "execution_count": 69,
   "id": "f62ee0c3",
   "metadata": {},
   "outputs": [
    {
     "data": {
      "text/plain": [
       "['infosecurity',\n",
       " 'programming',\n",
       " 'it-infrastructure',\n",
       " 'machine_learning',\n",
       " 'webdev',\n",
       " 'javascript',\n",
       " 'python',\n",
       " 'sys_admin',\n",
       " 'hr_management',\n",
       " 'open_source']"
      ]
     },
     "execution_count": 69,
     "metadata": {},
     "output_type": "execute_result"
    }
   ],
   "source": [
    "tops = list(df[:10]['index'])\n",
    "tops"
   ]
  },
  {
   "cell_type": "code",
   "execution_count": 71,
   "id": "23e615a1",
   "metadata": {},
   "outputs": [
    {
     "data": {
      "application/vnd.jupyter.widget-view+json": {
       "model_id": "28896032e31f4edeb7bdaa5a01254112",
       "version_major": 2,
       "version_minor": 0
      },
      "text/plain": [
       "  0%|          | 0/115040 [00:00<?, ?it/s]"
      ]
     },
     "metadata": {},
     "output_type": "display_data"
    },
    {
     "name": "stdout",
     "output_type": "stream",
     "text": [
      "CPU times: user 18.8 s, sys: 1.17 s, total: 19.9 s\n",
      "Wall time: 18.2 s\n"
     ]
    }
   ],
   "source": [
    "%%time\n",
    "\n",
    "fr['top_hub'] = 0\n",
    "\n",
    "for i in tqdm(fr.index):\n",
    "    for j in tops:\n",
    "        if j in fr['hubs'][i]:\n",
    "            fr['top_hub'][i] += 1"
   ]
  },
  {
   "cell_type": "code",
   "execution_count": 73,
   "id": "efcbb6fb",
   "metadata": {},
   "outputs": [
    {
     "data": {
      "text/html": [
       "<div>\n",
       "<style scoped>\n",
       "    .dataframe tbody tr th:only-of-type {\n",
       "        vertical-align: middle;\n",
       "    }\n",
       "\n",
       "    .dataframe tbody tr th {\n",
       "        vertical-align: top;\n",
       "    }\n",
       "\n",
       "    .dataframe thead th {\n",
       "        text-align: right;\n",
       "    }\n",
       "</style>\n",
       "<table border=\"1\" class=\"dataframe\">\n",
       "  <thead>\n",
       "    <tr style=\"text-align: right;\">\n",
       "      <th></th>\n",
       "      <th>id</th>\n",
       "      <th>title</th>\n",
       "      <th>time_published</th>\n",
       "      <th>tags</th>\n",
       "      <th>hubs</th>\n",
       "      <th>lemmatized_text</th>\n",
       "      <th>article</th>\n",
       "      <th>top_hub</th>\n",
       "    </tr>\n",
       "  </thead>\n",
       "  <tbody>\n",
       "    <tr>\n",
       "      <th>0</th>\n",
       "      <td>310000</td>\n",
       "      <td>'как 'мы 'неделя 'чинить 'compaction 'Cassandra\\n</td>\n",
       "      <td>2016-09-17 06:11:00+00:00</td>\n",
       "      <td>[cassandra, nosql, troubleshooting]</td>\n",
       "      <td>[sys_admin, dwh, devops]</td>\n",
       "      <td>основной хранилище метрика являться cassandra ...</td>\n",
       "      <td>'как 'мы 'неделя 'чинить 'compaction 'Cassandr...</td>\n",
       "      <td>1</td>\n",
       "    </tr>\n",
       "    <tr>\n",
       "      <th>1</th>\n",
       "      <td>310002</td>\n",
       "      <td>война гипервизор To be continued\\n</td>\n",
       "      <td>2016-09-15 07:56:08+00:00</td>\n",
       "      <td>[облачные вычисления, виртуализация, хостинг, ...</td>\n",
       "      <td>[it-infrastructure, virtualization, cloud_comp...</td>\n",
       "      <td>война гипервизор дело непрерывный наверное дей...</td>\n",
       "      <td>война гипервизор To be continued\\nвойна гиперв...</td>\n",
       "      <td>1</td>\n",
       "    </tr>\n",
       "    <tr>\n",
       "      <th>2</th>\n",
       "      <td>310006</td>\n",
       "      <td>AdBlock Plus совершать новый виток история « п...</td>\n",
       "      <td>2016-09-14 14:26:49+00:00</td>\n",
       "      <td>[adblock plus, блокировка рекламы, медийная ре...</td>\n",
       "      <td>[web_monetization, mobile_monetization, displa...</td>\n",
       "      <td>крупный мир блокировщик реклама adblock plus п...</td>\n",
       "      <td>AdBlock Plus совершать новый виток история « п...</td>\n",
       "      <td>0</td>\n",
       "    </tr>\n",
       "  </tbody>\n",
       "</table>\n",
       "</div>"
      ],
      "text/plain": [
       "       id                                              title  \\\n",
       "0  310000  'как 'мы 'неделя 'чинить 'compaction 'Cassandra\\n   \n",
       "1  310002                 война гипервизор To be continued\\n   \n",
       "2  310006  AdBlock Plus совершать новый виток история « п...   \n",
       "\n",
       "              time_published  \\\n",
       "0  2016-09-17 06:11:00+00:00   \n",
       "1  2016-09-15 07:56:08+00:00   \n",
       "2  2016-09-14 14:26:49+00:00   \n",
       "\n",
       "                                                tags  \\\n",
       "0                [cassandra, nosql, troubleshooting]   \n",
       "1  [облачные вычисления, виртуализация, хостинг, ...   \n",
       "2  [adblock plus, блокировка рекламы, медийная ре...   \n",
       "\n",
       "                                                hubs  \\\n",
       "0                           [sys_admin, dwh, devops]   \n",
       "1  [it-infrastructure, virtualization, cloud_comp...   \n",
       "2  [web_monetization, mobile_monetization, displa...   \n",
       "\n",
       "                                     lemmatized_text  \\\n",
       "0  основной хранилище метрика являться cassandra ...   \n",
       "1  война гипервизор дело непрерывный наверное дей...   \n",
       "2  крупный мир блокировщик реклама adblock plus п...   \n",
       "\n",
       "                                             article  top_hub  \n",
       "0  'как 'мы 'неделя 'чинить 'compaction 'Cassandr...        1  \n",
       "1  война гипервизор To be continued\\nвойна гиперв...        1  \n",
       "2  AdBlock Plus совершать новый виток история « п...        0  "
      ]
     },
     "execution_count": 73,
     "metadata": {},
     "output_type": "execute_result"
    }
   ],
   "source": [
    "fr.head(3)"
   ]
  },
  {
   "cell_type": "code",
   "execution_count": 78,
   "id": "0ee63e3e",
   "metadata": {},
   "outputs": [
    {
     "data": {
      "text/plain": [
       "57953"
      ]
     },
     "execution_count": 78,
     "metadata": {},
     "output_type": "execute_result"
    }
   ],
   "source": [
    "len(fr[fr['top_hub'] != 0])"
   ]
  },
  {
   "cell_type": "code",
   "execution_count": 79,
   "id": "af0f89e7",
   "metadata": {},
   "outputs": [
    {
     "data": {
      "text/html": [
       "<div>\n",
       "<style scoped>\n",
       "    .dataframe tbody tr th:only-of-type {\n",
       "        vertical-align: middle;\n",
       "    }\n",
       "\n",
       "    .dataframe tbody tr th {\n",
       "        vertical-align: top;\n",
       "    }\n",
       "\n",
       "    .dataframe thead th {\n",
       "        text-align: right;\n",
       "    }\n",
       "</style>\n",
       "<table border=\"1\" class=\"dataframe\">\n",
       "  <thead>\n",
       "    <tr style=\"text-align: right;\">\n",
       "      <th></th>\n",
       "      <th>id</th>\n",
       "      <th>title</th>\n",
       "      <th>time_published</th>\n",
       "      <th>tags</th>\n",
       "      <th>hubs</th>\n",
       "      <th>lemmatized_text</th>\n",
       "      <th>article</th>\n",
       "      <th>top_hub</th>\n",
       "    </tr>\n",
       "  </thead>\n",
       "  <tbody>\n",
       "    <tr>\n",
       "      <th>0</th>\n",
       "      <td>310000</td>\n",
       "      <td>'как 'мы 'неделя 'чинить 'compaction 'Cassandra\\n</td>\n",
       "      <td>2016-09-17 06:11:00+00:00</td>\n",
       "      <td>[cassandra, nosql, troubleshooting]</td>\n",
       "      <td>[sys_admin, dwh, devops]</td>\n",
       "      <td>основной хранилище метрика являться cassandra ...</td>\n",
       "      <td>'как 'мы 'неделя 'чинить 'compaction 'Cassandr...</td>\n",
       "      <td>1</td>\n",
       "    </tr>\n",
       "    <tr>\n",
       "      <th>1</th>\n",
       "      <td>310002</td>\n",
       "      <td>война гипервизор To be continued\\n</td>\n",
       "      <td>2016-09-15 07:56:08+00:00</td>\n",
       "      <td>[облачные вычисления, виртуализация, хостинг, ...</td>\n",
       "      <td>[it-infrastructure, virtualization, cloud_comp...</td>\n",
       "      <td>война гипервизор дело непрерывный наверное дей...</td>\n",
       "      <td>война гипервизор To be continued\\nвойна гиперв...</td>\n",
       "      <td>1</td>\n",
       "    </tr>\n",
       "    <tr>\n",
       "      <th>3</th>\n",
       "      <td>310008</td>\n",
       "      <td>миф незрелость мобильный NFC технология\\n</td>\n",
       "      <td>2016-09-15 08:02:54+00:00</td>\n",
       "      <td>[Gemalto, nfc, мобильные приложения, мобильный...</td>\n",
       "      <td>[infosecurity, pay_system, ecommerce_development]</td>\n",
       "      <td>современный nfc технология нынешний вид появля...</td>\n",
       "      <td>миф незрелость мобильный NFC технология\\nсовре...</td>\n",
       "      <td>1</td>\n",
       "    </tr>\n",
       "    <tr>\n",
       "      <th>4</th>\n",
       "      <td>310014</td>\n",
       "      <td>OpenJDK Project Panama\\n</td>\n",
       "      <td>2016-09-15 06:30:51+00:00</td>\n",
       "      <td>[joker2016, jokerconf, java, jvm, panama]</td>\n",
       "      <td>[programming, java]</td>\n",
       "      <td>год назад openjdk создавать новый проект кодов...</td>\n",
       "      <td>OpenJDK Project Panama\\nгод назад openjdk созд...</td>\n",
       "      <td>1</td>\n",
       "    </tr>\n",
       "    <tr>\n",
       "      <th>5</th>\n",
       "      <td>310022</td>\n",
       "      <td>PaaS DBaaS SaaS… что это значить\\n</td>\n",
       "      <td>2016-09-14 16:41:35+00:00</td>\n",
       "      <td>[saas, paas, облачные сервисы]</td>\n",
       "      <td>[it-infrastructure, cloud_computing, network_t...</td>\n",
       "      <td>последний несколько год английский язык появля...</td>\n",
       "      <td>PaaS DBaaS SaaS… что это значить\\nпоследний не...</td>\n",
       "      <td>1</td>\n",
       "    </tr>\n",
       "    <tr>\n",
       "      <th>...</th>\n",
       "      <td>...</td>\n",
       "      <td>...</td>\n",
       "      <td>...</td>\n",
       "      <td>...</td>\n",
       "      <td>...</td>\n",
       "      <td>...</td>\n",
       "      <td>...</td>\n",
       "      <td>...</td>\n",
       "    </tr>\n",
       "    <tr>\n",
       "      <th>115031</th>\n",
       "      <td>773120</td>\n",
       "      <td>Microsoft временно заблокировать доступ сотруд...</td>\n",
       "      <td>2023-11-10 10:30:52+00:00</td>\n",
       "      <td>[microsoft, ChatGPT]</td>\n",
       "      <td>[infosecurity, hr_management, cloud_services]</td>\n",
       "      <td>ноябрь год профильный сми сообщать microsoft в...</td>\n",
       "      <td>Microsoft временно заблокировать доступ сотруд...</td>\n",
       "      <td>2</td>\n",
       "    </tr>\n",
       "    <tr>\n",
       "      <th>115032</th>\n",
       "      <td>773122</td>\n",
       "      <td>страна-датацентр корабль 10 000 Nvidia H100 хо...</td>\n",
       "      <td>2023-11-10 10:34:57+00:00</td>\n",
       "      <td>[del complex, страна, дата-центр]</td>\n",
       "      <td>[machine_learning]</td>\n",
       "      <td>весь мир говорить страна датацентр del complex...</td>\n",
       "      <td>страна-датацентр корабль 10 000 Nvidia H100 хо...</td>\n",
       "      <td>1</td>\n",
       "    </tr>\n",
       "    <tr>\n",
       "      <th>115034</th>\n",
       "      <td>773126</td>\n",
       "      <td>RecTools – OpenSource библиотека рекомендатель...</td>\n",
       "      <td>2023-11-10 11:07:30+00:00</td>\n",
       "      <td>[Рекомендации, коллаборативная фильтрация, pyt...</td>\n",
       "      <td>[python, bigdata, machine_learning]</td>\n",
       "      <td>когда-либо работать рекомендательный система з...</td>\n",
       "      <td>RecTools – OpenSource библиотека рекомендатель...</td>\n",
       "      <td>2</td>\n",
       "    </tr>\n",
       "    <tr>\n",
       "      <th>115035</th>\n",
       "      <td>773128</td>\n",
       "      <td>в рф изучать возможность использование отпечат...</td>\n",
       "      <td>2023-11-10 11:08:56+00:00</td>\n",
       "      <td>[биометрия, биометрические данные, биометричес...</td>\n",
       "      <td>[infosecurity]</td>\n",
       "      <td>центр биометрический технология цбт эксперт из...</td>\n",
       "      <td>в рф изучать возможность использование отпечат...</td>\n",
       "      <td>1</td>\n",
       "    </tr>\n",
       "    <tr>\n",
       "      <th>115037</th>\n",
       "      <td>773138</td>\n",
       "      <td>цб планировать внедрять стандарт безопасность ...</td>\n",
       "      <td>2023-11-10 11:49:58+00:00</td>\n",
       "      <td>[банк россии, цб, qr-коды, информационная безо...</td>\n",
       "      <td>[pay_system, infosecurity]</td>\n",
       "      <td>банк россия разрабатывать стандарт который поз...</td>\n",
       "      <td>цб планировать внедрять стандарт безопасность ...</td>\n",
       "      <td>1</td>\n",
       "    </tr>\n",
       "  </tbody>\n",
       "</table>\n",
       "<p>57953 rows × 8 columns</p>\n",
       "</div>"
      ],
      "text/plain": [
       "            id                                              title  \\\n",
       "0       310000  'как 'мы 'неделя 'чинить 'compaction 'Cassandra\\n   \n",
       "1       310002                 война гипервизор To be continued\\n   \n",
       "3       310008          миф незрелость мобильный NFC технология\\n   \n",
       "4       310014                           OpenJDK Project Panama\\n   \n",
       "5       310022                 PaaS DBaaS SaaS… что это значить\\n   \n",
       "...        ...                                                ...   \n",
       "115031  773120  Microsoft временно заблокировать доступ сотруд...   \n",
       "115032  773122  страна-датацентр корабль 10 000 Nvidia H100 хо...   \n",
       "115034  773126  RecTools – OpenSource библиотека рекомендатель...   \n",
       "115035  773128  в рф изучать возможность использование отпечат...   \n",
       "115037  773138  цб планировать внедрять стандарт безопасность ...   \n",
       "\n",
       "                   time_published  \\\n",
       "0       2016-09-17 06:11:00+00:00   \n",
       "1       2016-09-15 07:56:08+00:00   \n",
       "3       2016-09-15 08:02:54+00:00   \n",
       "4       2016-09-15 06:30:51+00:00   \n",
       "5       2016-09-14 16:41:35+00:00   \n",
       "...                           ...   \n",
       "115031  2023-11-10 10:30:52+00:00   \n",
       "115032  2023-11-10 10:34:57+00:00   \n",
       "115034  2023-11-10 11:07:30+00:00   \n",
       "115035  2023-11-10 11:08:56+00:00   \n",
       "115037  2023-11-10 11:49:58+00:00   \n",
       "\n",
       "                                                     tags  \\\n",
       "0                     [cassandra, nosql, troubleshooting]   \n",
       "1       [облачные вычисления, виртуализация, хостинг, ...   \n",
       "3       [Gemalto, nfc, мобильные приложения, мобильный...   \n",
       "4               [joker2016, jokerconf, java, jvm, panama]   \n",
       "5                          [saas, paas, облачные сервисы]   \n",
       "...                                                   ...   \n",
       "115031                               [microsoft, ChatGPT]   \n",
       "115032                  [del complex, страна, дата-центр]   \n",
       "115034  [Рекомендации, коллаборативная фильтрация, pyt...   \n",
       "115035  [биометрия, биометрические данные, биометричес...   \n",
       "115037  [банк россии, цб, qr-коды, информационная безо...   \n",
       "\n",
       "                                                     hubs  \\\n",
       "0                                [sys_admin, dwh, devops]   \n",
       "1       [it-infrastructure, virtualization, cloud_comp...   \n",
       "3       [infosecurity, pay_system, ecommerce_development]   \n",
       "4                                     [programming, java]   \n",
       "5       [it-infrastructure, cloud_computing, network_t...   \n",
       "...                                                   ...   \n",
       "115031      [infosecurity, hr_management, cloud_services]   \n",
       "115032                                 [machine_learning]   \n",
       "115034                [python, bigdata, machine_learning]   \n",
       "115035                                     [infosecurity]   \n",
       "115037                         [pay_system, infosecurity]   \n",
       "\n",
       "                                          lemmatized_text  \\\n",
       "0       основной хранилище метрика являться cassandra ...   \n",
       "1       война гипервизор дело непрерывный наверное дей...   \n",
       "3       современный nfc технология нынешний вид появля...   \n",
       "4       год назад openjdk создавать новый проект кодов...   \n",
       "5       последний несколько год английский язык появля...   \n",
       "...                                                   ...   \n",
       "115031  ноябрь год профильный сми сообщать microsoft в...   \n",
       "115032  весь мир говорить страна датацентр del complex...   \n",
       "115034  когда-либо работать рекомендательный система з...   \n",
       "115035  центр биометрический технология цбт эксперт из...   \n",
       "115037  банк россия разрабатывать стандарт который поз...   \n",
       "\n",
       "                                                  article  top_hub  \n",
       "0       'как 'мы 'неделя 'чинить 'compaction 'Cassandr...        1  \n",
       "1       война гипервизор To be continued\\nвойна гиперв...        1  \n",
       "3       миф незрелость мобильный NFC технология\\nсовре...        1  \n",
       "4       OpenJDK Project Panama\\nгод назад openjdk созд...        1  \n",
       "5       PaaS DBaaS SaaS… что это значить\\nпоследний не...        1  \n",
       "...                                                   ...      ...  \n",
       "115031  Microsoft временно заблокировать доступ сотруд...        2  \n",
       "115032  страна-датацентр корабль 10 000 Nvidia H100 хо...        1  \n",
       "115034  RecTools – OpenSource библиотека рекомендатель...        2  \n",
       "115035  в рф изучать возможность использование отпечат...        1  \n",
       "115037  цб планировать внедрять стандарт безопасность ...        1  \n",
       "\n",
       "[57953 rows x 8 columns]"
      ]
     },
     "execution_count": 79,
     "metadata": {},
     "output_type": "execute_result"
    }
   ],
   "source": [
    "fr_top = fr[fr['top_hub'] != 0]\n",
    "fr_top"
   ]
  },
  {
   "cell_type": "code",
   "execution_count": 88,
   "id": "1014ed7c",
   "metadata": {},
   "outputs": [
    {
     "data": {
      "text/plain": [
       "<seaborn.axisgrid.FacetGrid at 0x7f7082d721d0>"
      ]
     },
     "execution_count": 88,
     "metadata": {},
     "output_type": "execute_result"
    },
    {
     "data": {
      "image/png": "[encoded data removed]",
      "text/plain": [
       "<Figure size 500x500 with 1 Axes>"
      ]
     },
     "metadata": {},
     "output_type": "display_data"
    }
   ],
   "source": [
    "import seaborn as sns\n",
    "sns.displot(fr, x=\"top_hub\", discrete=True)"
   ]
  },
  {
   "cell_type": "code",
   "execution_count": 89,
   "id": "fe9b438b",
   "metadata": {},
   "outputs": [
    {
     "data": {
      "application/vnd.jupyter.widget-view+json": {
       "model_id": "bf9a26cf24f1473e800e4aaeff5042ed",
       "version_major": 2,
       "version_minor": 0
      },
      "text/plain": [
       "  0%|          | 0/57953 [00:00<?, ?it/s]"
      ]
     },
     "metadata": {},
     "output_type": "display_data"
    },
    {
     "name": "stdout",
     "output_type": "stream",
     "text": [
      "CPU times: user 19.6 s, sys: 1.39 s, total: 21 s\n",
      "Wall time: 19.2 s\n"
     ]
    },
    {
     "data": {
      "text/html": [
       "<div>\n",
       "<style scoped>\n",
       "    .dataframe tbody tr th:only-of-type {\n",
       "        vertical-align: middle;\n",
       "    }\n",
       "\n",
       "    .dataframe tbody tr th {\n",
       "        vertical-align: top;\n",
       "    }\n",
       "\n",
       "    .dataframe thead th {\n",
       "        text-align: right;\n",
       "    }\n",
       "</style>\n",
       "<table border=\"1\" class=\"dataframe\">\n",
       "  <thead>\n",
       "    <tr style=\"text-align: right;\">\n",
       "      <th></th>\n",
       "      <th>id</th>\n",
       "      <th>title</th>\n",
       "      <th>time_published</th>\n",
       "      <th>tags</th>\n",
       "      <th>hubs</th>\n",
       "      <th>lemmatized_text</th>\n",
       "      <th>article</th>\n",
       "      <th>top_hub</th>\n",
       "      <th>top_hub_label</th>\n",
       "    </tr>\n",
       "  </thead>\n",
       "  <tbody>\n",
       "    <tr>\n",
       "      <th>0</th>\n",
       "      <td>310000</td>\n",
       "      <td>'как 'мы 'неделя 'чинить 'compaction 'Cassandra\\n</td>\n",
       "      <td>2016-09-17 06:11:00+00:00</td>\n",
       "      <td>[cassandra, nosql, troubleshooting]</td>\n",
       "      <td>[sys_admin, dwh, devops]</td>\n",
       "      <td>основной хранилище метрика являться cassandra ...</td>\n",
       "      <td>'как 'мы 'неделя 'чинить 'compaction 'Cassandr...</td>\n",
       "      <td>2</td>\n",
       "      <td>[sys_admin]</td>\n",
       "    </tr>\n",
       "    <tr>\n",
       "      <th>1</th>\n",
       "      <td>310002</td>\n",
       "      <td>война гипервизор To be continued\\n</td>\n",
       "      <td>2016-09-15 07:56:08+00:00</td>\n",
       "      <td>[облачные вычисления, виртуализация, хостинг, ...</td>\n",
       "      <td>[it-infrastructure, virtualization, cloud_comp...</td>\n",
       "      <td>война гипервизор дело непрерывный наверное дей...</td>\n",
       "      <td>война гипервизор To be continued\\nвойна гиперв...</td>\n",
       "      <td>2</td>\n",
       "      <td>[it-infrastructure]</td>\n",
       "    </tr>\n",
       "    <tr>\n",
       "      <th>3</th>\n",
       "      <td>310008</td>\n",
       "      <td>миф незрелость мобильный NFC технология\\n</td>\n",
       "      <td>2016-09-15 08:02:54+00:00</td>\n",
       "      <td>[Gemalto, nfc, мобильные приложения, мобильный...</td>\n",
       "      <td>[infosecurity, pay_system, ecommerce_development]</td>\n",
       "      <td>современный nfc технология нынешний вид появля...</td>\n",
       "      <td>миф незрелость мобильный NFC технология\\nсовре...</td>\n",
       "      <td>2</td>\n",
       "      <td>[infosecurity]</td>\n",
       "    </tr>\n",
       "    <tr>\n",
       "      <th>4</th>\n",
       "      <td>310014</td>\n",
       "      <td>OpenJDK Project Panama\\n</td>\n",
       "      <td>2016-09-15 06:30:51+00:00</td>\n",
       "      <td>[joker2016, jokerconf, java, jvm, panama]</td>\n",
       "      <td>[programming, java]</td>\n",
       "      <td>год назад openjdk создавать новый проект кодов...</td>\n",
       "      <td>OpenJDK Project Panama\\nгод назад openjdk созд...</td>\n",
       "      <td>2</td>\n",
       "      <td>[programming]</td>\n",
       "    </tr>\n",
       "    <tr>\n",
       "      <th>5</th>\n",
       "      <td>310022</td>\n",
       "      <td>PaaS DBaaS SaaS… что это значить\\n</td>\n",
       "      <td>2016-09-14 16:41:35+00:00</td>\n",
       "      <td>[saas, paas, облачные сервисы]</td>\n",
       "      <td>[it-infrastructure, cloud_computing, network_t...</td>\n",
       "      <td>последний несколько год английский язык появля...</td>\n",
       "      <td>PaaS DBaaS SaaS… что это значить\\nпоследний не...</td>\n",
       "      <td>2</td>\n",
       "      <td>[it-infrastructure]</td>\n",
       "    </tr>\n",
       "    <tr>\n",
       "      <th>...</th>\n",
       "      <td>...</td>\n",
       "      <td>...</td>\n",
       "      <td>...</td>\n",
       "      <td>...</td>\n",
       "      <td>...</td>\n",
       "      <td>...</td>\n",
       "      <td>...</td>\n",
       "      <td>...</td>\n",
       "      <td>...</td>\n",
       "    </tr>\n",
       "    <tr>\n",
       "      <th>115031</th>\n",
       "      <td>773120</td>\n",
       "      <td>Microsoft временно заблокировать доступ сотруд...</td>\n",
       "      <td>2023-11-10 10:30:52+00:00</td>\n",
       "      <td>[microsoft, ChatGPT]</td>\n",
       "      <td>[infosecurity, hr_management, cloud_services]</td>\n",
       "      <td>ноябрь год профильный сми сообщать microsoft в...</td>\n",
       "      <td>Microsoft временно заблокировать доступ сотруд...</td>\n",
       "      <td>4</td>\n",
       "      <td>[infosecurity, hr_management]</td>\n",
       "    </tr>\n",
       "    <tr>\n",
       "      <th>115032</th>\n",
       "      <td>773122</td>\n",
       "      <td>страна-датацентр корабль 10 000 Nvidia H100 хо...</td>\n",
       "      <td>2023-11-10 10:34:57+00:00</td>\n",
       "      <td>[del complex, страна, дата-центр]</td>\n",
       "      <td>[machine_learning]</td>\n",
       "      <td>весь мир говорить страна датацентр del complex...</td>\n",
       "      <td>страна-датацентр корабль 10 000 Nvidia H100 хо...</td>\n",
       "      <td>2</td>\n",
       "      <td>[machine_learning]</td>\n",
       "    </tr>\n",
       "    <tr>\n",
       "      <th>115034</th>\n",
       "      <td>773126</td>\n",
       "      <td>RecTools – OpenSource библиотека рекомендатель...</td>\n",
       "      <td>2023-11-10 11:07:30+00:00</td>\n",
       "      <td>[Рекомендации, коллаборативная фильтрация, pyt...</td>\n",
       "      <td>[python, bigdata, machine_learning]</td>\n",
       "      <td>когда-либо работать рекомендательный система з...</td>\n",
       "      <td>RecTools – OpenSource библиотека рекомендатель...</td>\n",
       "      <td>4</td>\n",
       "      <td>[machine_learning, python]</td>\n",
       "    </tr>\n",
       "    <tr>\n",
       "      <th>115035</th>\n",
       "      <td>773128</td>\n",
       "      <td>в рф изучать возможность использование отпечат...</td>\n",
       "      <td>2023-11-10 11:08:56+00:00</td>\n",
       "      <td>[биометрия, биометрические данные, биометричес...</td>\n",
       "      <td>[infosecurity]</td>\n",
       "      <td>центр биометрический технология цбт эксперт из...</td>\n",
       "      <td>в рф изучать возможность использование отпечат...</td>\n",
       "      <td>2</td>\n",
       "      <td>[infosecurity]</td>\n",
       "    </tr>\n",
       "    <tr>\n",
       "      <th>115037</th>\n",
       "      <td>773138</td>\n",
       "      <td>цб планировать внедрять стандарт безопасность ...</td>\n",
       "      <td>2023-11-10 11:49:58+00:00</td>\n",
       "      <td>[банк россии, цб, qr-коды, информационная безо...</td>\n",
       "      <td>[pay_system, infosecurity]</td>\n",
       "      <td>банк россия разрабатывать стандарт который поз...</td>\n",
       "      <td>цб планировать внедрять стандарт безопасность ...</td>\n",
       "      <td>2</td>\n",
       "      <td>[infosecurity]</td>\n",
       "    </tr>\n",
       "  </tbody>\n",
       "</table>\n",
       "<p>57953 rows × 9 columns</p>\n",
       "</div>"
      ],
      "text/plain": [
       "            id                                              title  \\\n",
       "0       310000  'как 'мы 'неделя 'чинить 'compaction 'Cassandra\\n   \n",
       "1       310002                 война гипервизор To be continued\\n   \n",
       "3       310008          миф незрелость мобильный NFC технология\\n   \n",
       "4       310014                           OpenJDK Project Panama\\n   \n",
       "5       310022                 PaaS DBaaS SaaS… что это значить\\n   \n",
       "...        ...                                                ...   \n",
       "115031  773120  Microsoft временно заблокировать доступ сотруд...   \n",
       "115032  773122  страна-датацентр корабль 10 000 Nvidia H100 хо...   \n",
       "115034  773126  RecTools – OpenSource библиотека рекомендатель...   \n",
       "115035  773128  в рф изучать возможность использование отпечат...   \n",
       "115037  773138  цб планировать внедрять стандарт безопасность ...   \n",
       "\n",
       "                   time_published  \\\n",
       "0       2016-09-17 06:11:00+00:00   \n",
       "1       2016-09-15 07:56:08+00:00   \n",
       "3       2016-09-15 08:02:54+00:00   \n",
       "4       2016-09-15 06:30:51+00:00   \n",
       "5       2016-09-14 16:41:35+00:00   \n",
       "...                           ...   \n",
       "115031  2023-11-10 10:30:52+00:00   \n",
       "115032  2023-11-10 10:34:57+00:00   \n",
       "115034  2023-11-10 11:07:30+00:00   \n",
       "115035  2023-11-10 11:08:56+00:00   \n",
       "115037  2023-11-10 11:49:58+00:00   \n",
       "\n",
       "                                                     tags  \\\n",
       "0                     [cassandra, nosql, troubleshooting]   \n",
       "1       [облачные вычисления, виртуализация, хостинг, ...   \n",
       "3       [Gemalto, nfc, мобильные приложения, мобильный...   \n",
       "4               [joker2016, jokerconf, java, jvm, panama]   \n",
       "5                          [saas, paas, облачные сервисы]   \n",
       "...                                                   ...   \n",
       "115031                               [microsoft, ChatGPT]   \n",
       "115032                  [del complex, страна, дата-центр]   \n",
       "115034  [Рекомендации, коллаборативная фильтрация, pyt...   \n",
       "115035  [биометрия, биометрические данные, биометричес...   \n",
       "115037  [банк россии, цб, qr-коды, информационная безо...   \n",
       "\n",
       "                                                     hubs  \\\n",
       "0                                [sys_admin, dwh, devops]   \n",
       "1       [it-infrastructure, virtualization, cloud_comp...   \n",
       "3       [infosecurity, pay_system, ecommerce_development]   \n",
       "4                                     [programming, java]   \n",
       "5       [it-infrastructure, cloud_computing, network_t...   \n",
       "...                                                   ...   \n",
       "115031      [infosecurity, hr_management, cloud_services]   \n",
       "115032                                 [machine_learning]   \n",
       "115034                [python, bigdata, machine_learning]   \n",
       "115035                                     [infosecurity]   \n",
       "115037                         [pay_system, infosecurity]   \n",
       "\n",
       "                                          lemmatized_text  \\\n",
       "0       основной хранилище метрика являться cassandra ...   \n",
       "1       война гипервизор дело непрерывный наверное дей...   \n",
       "3       современный nfc технология нынешний вид появля...   \n",
       "4       год назад openjdk создавать новый проект кодов...   \n",
       "5       последний несколько год английский язык появля...   \n",
       "...                                                   ...   \n",
       "115031  ноябрь год профильный сми сообщать microsoft в...   \n",
       "115032  весь мир говорить страна датацентр del complex...   \n",
       "115034  когда-либо работать рекомендательный система з...   \n",
       "115035  центр биометрический технология цбт эксперт из...   \n",
       "115037  банк россия разрабатывать стандарт который поз...   \n",
       "\n",
       "                                                  article  top_hub  \\\n",
       "0       'как 'мы 'неделя 'чинить 'compaction 'Cassandr...        2   \n",
       "1       война гипервизор To be continued\\nвойна гиперв...        2   \n",
       "3       миф незрелость мобильный NFC технология\\nсовре...        2   \n",
       "4       OpenJDK Project Panama\\nгод назад openjdk созд...        2   \n",
       "5       PaaS DBaaS SaaS… что это значить\\nпоследний не...        2   \n",
       "...                                                   ...      ...   \n",
       "115031  Microsoft временно заблокировать доступ сотруд...        4   \n",
       "115032  страна-датацентр корабль 10 000 Nvidia H100 хо...        2   \n",
       "115034  RecTools – OpenSource библиотека рекомендатель...        4   \n",
       "115035  в рф изучать возможность использование отпечат...        2   \n",
       "115037  цб планировать внедрять стандарт безопасность ...        2   \n",
       "\n",
       "                        top_hub_label  \n",
       "0                         [sys_admin]  \n",
       "1                 [it-infrastructure]  \n",
       "3                      [infosecurity]  \n",
       "4                       [programming]  \n",
       "5                 [it-infrastructure]  \n",
       "...                               ...  \n",
       "115031  [infosecurity, hr_management]  \n",
       "115032             [machine_learning]  \n",
       "115034     [machine_learning, python]  \n",
       "115035                 [infosecurity]  \n",
       "115037                 [infosecurity]  \n",
       "\n",
       "[57953 rows x 9 columns]"
      ]
     },
     "execution_count": 89,
     "metadata": {},
     "output_type": "execute_result"
    }
   ],
   "source": [
    "%%time\n",
    "\n",
    "fr_top['top_hub_label'] = 0\n",
    "\n",
    "for i in tqdm(fr_top.index):\n",
    "    _list = []\n",
    "    for j in tops:\n",
    "        if j in fr_top['hubs'][i]:\n",
    "            fr_top['top_hub'][i] += 1\n",
    "            _list.append(j)\n",
    "    if fr_top['top_hub'][i] == 0:\n",
    "        fr_top['top_hub_label'][i] = ''\n",
    "    elif fr['top_hub'][i] > 0:\n",
    "        fr_top['top_hub_label'][i] = _list\n",
    "        \n",
    "fr_top"
   ]
  },
  {
   "cell_type": "code",
   "execution_count": 90,
   "id": "df8d31f8",
   "metadata": {},
   "outputs": [
    {
     "data": {
      "application/vnd.jupyter.widget-view+json": {
       "model_id": "b55b9870a86242b8b7330c897895d781",
       "version_major": 2,
       "version_minor": 0
      },
      "text/plain": [
       "  0%|          | 0/57953 [00:00<?, ?it/s]"
      ]
     },
     "metadata": {},
     "output_type": "display_data"
    },
    {
     "name": "stdout",
     "output_type": "stream",
     "text": [
      "CPU times: user 999 ms, sys: 12.1 ms, total: 1.01 s\n",
      "Wall time: 999 ms\n"
     ]
    },
    {
     "data": {
      "text/html": [
       "<div>\n",
       "<style scoped>\n",
       "    .dataframe tbody tr th:only-of-type {\n",
       "        vertical-align: middle;\n",
       "    }\n",
       "\n",
       "    .dataframe tbody tr th {\n",
       "        vertical-align: top;\n",
       "    }\n",
       "\n",
       "    .dataframe thead th {\n",
       "        text-align: right;\n",
       "    }\n",
       "</style>\n",
       "<table border=\"1\" class=\"dataframe\">\n",
       "  <thead>\n",
       "    <tr style=\"text-align: right;\">\n",
       "      <th></th>\n",
       "      <th>id</th>\n",
       "      <th>title</th>\n",
       "      <th>time_published</th>\n",
       "      <th>tags</th>\n",
       "      <th>hubs</th>\n",
       "      <th>lemmatized_text</th>\n",
       "      <th>article</th>\n",
       "      <th>top_hub</th>\n",
       "      <th>top_hub_label</th>\n",
       "      <th>top_hub_label_1</th>\n",
       "    </tr>\n",
       "  </thead>\n",
       "  <tbody>\n",
       "    <tr>\n",
       "      <th>0</th>\n",
       "      <td>310000</td>\n",
       "      <td>'как 'мы 'неделя 'чинить 'compaction 'Cassandra\\n</td>\n",
       "      <td>2016-09-17 06:11:00+00:00</td>\n",
       "      <td>[cassandra, nosql, troubleshooting]</td>\n",
       "      <td>[sys_admin, dwh, devops]</td>\n",
       "      <td>основной хранилище метрика являться cassandra ...</td>\n",
       "      <td>'как 'мы 'неделя 'чинить 'compaction 'Cassandr...</td>\n",
       "      <td>2</td>\n",
       "      <td>[sys_admin]</td>\n",
       "      <td>sys_admin</td>\n",
       "    </tr>\n",
       "    <tr>\n",
       "      <th>1</th>\n",
       "      <td>310002</td>\n",
       "      <td>война гипервизор To be continued\\n</td>\n",
       "      <td>2016-09-15 07:56:08+00:00</td>\n",
       "      <td>[облачные вычисления, виртуализация, хостинг, ...</td>\n",
       "      <td>[it-infrastructure, virtualization, cloud_comp...</td>\n",
       "      <td>война гипервизор дело непрерывный наверное дей...</td>\n",
       "      <td>война гипервизор To be continued\\nвойна гиперв...</td>\n",
       "      <td>2</td>\n",
       "      <td>[it-infrastructure]</td>\n",
       "      <td>it-infrastructure</td>\n",
       "    </tr>\n",
       "    <tr>\n",
       "      <th>3</th>\n",
       "      <td>310008</td>\n",
       "      <td>миф незрелость мобильный NFC технология\\n</td>\n",
       "      <td>2016-09-15 08:02:54+00:00</td>\n",
       "      <td>[Gemalto, nfc, мобильные приложения, мобильный...</td>\n",
       "      <td>[infosecurity, pay_system, ecommerce_development]</td>\n",
       "      <td>современный nfc технология нынешний вид появля...</td>\n",
       "      <td>миф незрелость мобильный NFC технология\\nсовре...</td>\n",
       "      <td>2</td>\n",
       "      <td>[infosecurity]</td>\n",
       "      <td>infosecurity</td>\n",
       "    </tr>\n",
       "    <tr>\n",
       "      <th>4</th>\n",
       "      <td>310014</td>\n",
       "      <td>OpenJDK Project Panama\\n</td>\n",
       "      <td>2016-09-15 06:30:51+00:00</td>\n",
       "      <td>[joker2016, jokerconf, java, jvm, panama]</td>\n",
       "      <td>[programming, java]</td>\n",
       "      <td>год назад openjdk создавать новый проект кодов...</td>\n",
       "      <td>OpenJDK Project Panama\\nгод назад openjdk созд...</td>\n",
       "      <td>2</td>\n",
       "      <td>[programming]</td>\n",
       "      <td>programming</td>\n",
       "    </tr>\n",
       "    <tr>\n",
       "      <th>5</th>\n",
       "      <td>310022</td>\n",
       "      <td>PaaS DBaaS SaaS… что это значить\\n</td>\n",
       "      <td>2016-09-14 16:41:35+00:00</td>\n",
       "      <td>[saas, paas, облачные сервисы]</td>\n",
       "      <td>[it-infrastructure, cloud_computing, network_t...</td>\n",
       "      <td>последний несколько год английский язык появля...</td>\n",
       "      <td>PaaS DBaaS SaaS… что это значить\\nпоследний не...</td>\n",
       "      <td>2</td>\n",
       "      <td>[it-infrastructure]</td>\n",
       "      <td>it-infrastructure</td>\n",
       "    </tr>\n",
       "    <tr>\n",
       "      <th>...</th>\n",
       "      <td>...</td>\n",
       "      <td>...</td>\n",
       "      <td>...</td>\n",
       "      <td>...</td>\n",
       "      <td>...</td>\n",
       "      <td>...</td>\n",
       "      <td>...</td>\n",
       "      <td>...</td>\n",
       "      <td>...</td>\n",
       "      <td>...</td>\n",
       "    </tr>\n",
       "    <tr>\n",
       "      <th>115031</th>\n",
       "      <td>773120</td>\n",
       "      <td>Microsoft временно заблокировать доступ сотруд...</td>\n",
       "      <td>2023-11-10 10:30:52+00:00</td>\n",
       "      <td>[microsoft, ChatGPT]</td>\n",
       "      <td>[infosecurity, hr_management, cloud_services]</td>\n",
       "      <td>ноябрь год профильный сми сообщать microsoft в...</td>\n",
       "      <td>Microsoft временно заблокировать доступ сотруд...</td>\n",
       "      <td>4</td>\n",
       "      <td>[infosecurity, hr_management]</td>\n",
       "      <td>infosecurity</td>\n",
       "    </tr>\n",
       "    <tr>\n",
       "      <th>115032</th>\n",
       "      <td>773122</td>\n",
       "      <td>страна-датацентр корабль 10 000 Nvidia H100 хо...</td>\n",
       "      <td>2023-11-10 10:34:57+00:00</td>\n",
       "      <td>[del complex, страна, дата-центр]</td>\n",
       "      <td>[machine_learning]</td>\n",
       "      <td>весь мир говорить страна датацентр del complex...</td>\n",
       "      <td>страна-датацентр корабль 10 000 Nvidia H100 хо...</td>\n",
       "      <td>2</td>\n",
       "      <td>[machine_learning]</td>\n",
       "      <td>machine_learning</td>\n",
       "    </tr>\n",
       "    <tr>\n",
       "      <th>115034</th>\n",
       "      <td>773126</td>\n",
       "      <td>RecTools – OpenSource библиотека рекомендатель...</td>\n",
       "      <td>2023-11-10 11:07:30+00:00</td>\n",
       "      <td>[Рекомендации, коллаборативная фильтрация, pyt...</td>\n",
       "      <td>[python, bigdata, machine_learning]</td>\n",
       "      <td>когда-либо работать рекомендательный система з...</td>\n",
       "      <td>RecTools – OpenSource библиотека рекомендатель...</td>\n",
       "      <td>4</td>\n",
       "      <td>[machine_learning, python]</td>\n",
       "      <td>machine_learning</td>\n",
       "    </tr>\n",
       "    <tr>\n",
       "      <th>115035</th>\n",
       "      <td>773128</td>\n",
       "      <td>в рф изучать возможность использование отпечат...</td>\n",
       "      <td>2023-11-10 11:08:56+00:00</td>\n",
       "      <td>[биометрия, биометрические данные, биометричес...</td>\n",
       "      <td>[infosecurity]</td>\n",
       "      <td>центр биометрический технология цбт эксперт из...</td>\n",
       "      <td>в рф изучать возможность использование отпечат...</td>\n",
       "      <td>2</td>\n",
       "      <td>[infosecurity]</td>\n",
       "      <td>infosecurity</td>\n",
       "    </tr>\n",
       "    <tr>\n",
       "      <th>115037</th>\n",
       "      <td>773138</td>\n",
       "      <td>цб планировать внедрять стандарт безопасность ...</td>\n",
       "      <td>2023-11-10 11:49:58+00:00</td>\n",
       "      <td>[банк россии, цб, qr-коды, информационная безо...</td>\n",
       "      <td>[pay_system, infosecurity]</td>\n",
       "      <td>банк россия разрабатывать стандарт который поз...</td>\n",
       "      <td>цб планировать внедрять стандарт безопасность ...</td>\n",
       "      <td>2</td>\n",
       "      <td>[infosecurity]</td>\n",
       "      <td>infosecurity</td>\n",
       "    </tr>\n",
       "  </tbody>\n",
       "</table>\n",
       "<p>57953 rows × 10 columns</p>\n",
       "</div>"
      ],
      "text/plain": [
       "            id                                              title  \\\n",
       "0       310000  'как 'мы 'неделя 'чинить 'compaction 'Cassandra\\n   \n",
       "1       310002                 война гипервизор To be continued\\n   \n",
       "3       310008          миф незрелость мобильный NFC технология\\n   \n",
       "4       310014                           OpenJDK Project Panama\\n   \n",
       "5       310022                 PaaS DBaaS SaaS… что это значить\\n   \n",
       "...        ...                                                ...   \n",
       "115031  773120  Microsoft временно заблокировать доступ сотруд...   \n",
       "115032  773122  страна-датацентр корабль 10 000 Nvidia H100 хо...   \n",
       "115034  773126  RecTools – OpenSource библиотека рекомендатель...   \n",
       "115035  773128  в рф изучать возможность использование отпечат...   \n",
       "115037  773138  цб планировать внедрять стандарт безопасность ...   \n",
       "\n",
       "                   time_published  \\\n",
       "0       2016-09-17 06:11:00+00:00   \n",
       "1       2016-09-15 07:56:08+00:00   \n",
       "3       2016-09-15 08:02:54+00:00   \n",
       "4       2016-09-15 06:30:51+00:00   \n",
       "5       2016-09-14 16:41:35+00:00   \n",
       "...                           ...   \n",
       "115031  2023-11-10 10:30:52+00:00   \n",
       "115032  2023-11-10 10:34:57+00:00   \n",
       "115034  2023-11-10 11:07:30+00:00   \n",
       "115035  2023-11-10 11:08:56+00:00   \n",
       "115037  2023-11-10 11:49:58+00:00   \n",
       "\n",
       "                                                     tags  \\\n",
       "0                     [cassandra, nosql, troubleshooting]   \n",
       "1       [облачные вычисления, виртуализация, хостинг, ...   \n",
       "3       [Gemalto, nfc, мобильные приложения, мобильный...   \n",
       "4               [joker2016, jokerconf, java, jvm, panama]   \n",
       "5                          [saas, paas, облачные сервисы]   \n",
       "...                                                   ...   \n",
       "115031                               [microsoft, ChatGPT]   \n",
       "115032                  [del complex, страна, дата-центр]   \n",
       "115034  [Рекомендации, коллаборативная фильтрация, pyt...   \n",
       "115035  [биометрия, биометрические данные, биометричес...   \n",
       "115037  [банк россии, цб, qr-коды, информационная безо...   \n",
       "\n",
       "                                                     hubs  \\\n",
       "0                                [sys_admin, dwh, devops]   \n",
       "1       [it-infrastructure, virtualization, cloud_comp...   \n",
       "3       [infosecurity, pay_system, ecommerce_development]   \n",
       "4                                     [programming, java]   \n",
       "5       [it-infrastructure, cloud_computing, network_t...   \n",
       "...                                                   ...   \n",
       "115031      [infosecurity, hr_management, cloud_services]   \n",
       "115032                                 [machine_learning]   \n",
       "115034                [python, bigdata, machine_learning]   \n",
       "115035                                     [infosecurity]   \n",
       "115037                         [pay_system, infosecurity]   \n",
       "\n",
       "                                          lemmatized_text  \\\n",
       "0       основной хранилище метрика являться cassandra ...   \n",
       "1       война гипервизор дело непрерывный наверное дей...   \n",
       "3       современный nfc технология нынешний вид появля...   \n",
       "4       год назад openjdk создавать новый проект кодов...   \n",
       "5       последний несколько год английский язык появля...   \n",
       "...                                                   ...   \n",
       "115031  ноябрь год профильный сми сообщать microsoft в...   \n",
       "115032  весь мир говорить страна датацентр del complex...   \n",
       "115034  когда-либо работать рекомендательный система з...   \n",
       "115035  центр биометрический технология цбт эксперт из...   \n",
       "115037  банк россия разрабатывать стандарт который поз...   \n",
       "\n",
       "                                                  article  top_hub  \\\n",
       "0       'как 'мы 'неделя 'чинить 'compaction 'Cassandr...        2   \n",
       "1       война гипервизор To be continued\\nвойна гиперв...        2   \n",
       "3       миф незрелость мобильный NFC технология\\nсовре...        2   \n",
       "4       OpenJDK Project Panama\\nгод назад openjdk созд...        2   \n",
       "5       PaaS DBaaS SaaS… что это значить\\nпоследний не...        2   \n",
       "...                                                   ...      ...   \n",
       "115031  Microsoft временно заблокировать доступ сотруд...        4   \n",
       "115032  страна-датацентр корабль 10 000 Nvidia H100 хо...        2   \n",
       "115034  RecTools – OpenSource библиотека рекомендатель...        4   \n",
       "115035  в рф изучать возможность использование отпечат...        2   \n",
       "115037  цб планировать внедрять стандарт безопасность ...        2   \n",
       "\n",
       "                        top_hub_label    top_hub_label_1  \n",
       "0                         [sys_admin]          sys_admin  \n",
       "1                 [it-infrastructure]  it-infrastructure  \n",
       "3                      [infosecurity]       infosecurity  \n",
       "4                       [programming]        programming  \n",
       "5                 [it-infrastructure]  it-infrastructure  \n",
       "...                               ...                ...  \n",
       "115031  [infosecurity, hr_management]       infosecurity  \n",
       "115032             [machine_learning]   machine_learning  \n",
       "115034     [machine_learning, python]   machine_learning  \n",
       "115035                 [infosecurity]       infosecurity  \n",
       "115037                 [infosecurity]       infosecurity  \n",
       "\n",
       "[57953 rows x 10 columns]"
      ]
     },
     "execution_count": 90,
     "metadata": {},
     "output_type": "execute_result"
    }
   ],
   "source": [
    "%%time\n",
    "\n",
    "fr_top['top_hub_label_1'] = 0\n",
    "\n",
    "for i in tqdm(fr_top.index):\n",
    "    fr_top['top_hub_label_1'][i] = fr_top['top_hub_label'][i][0]\n",
    "        \n",
    "fr_top"
   ]
  },
  {
   "cell_type": "code",
   "execution_count": 91,
   "id": "8d23af47",
   "metadata": {},
   "outputs": [],
   "source": [
    "fr_top.to_excel('fr_top.xlsx')"
   ]
  },
  {
   "cell_type": "code",
   "execution_count": 92,
   "id": "f8f7c3c2",
   "metadata": {},
   "outputs": [],
   "source": [
    "fr_top.to_csv('fr_top_csv.csv')"
   ]
  },
  {
   "cell_type": "markdown",
   "id": "964ed1bb",
   "metadata": {},
   "source": [
    "## Модели"
   ]
  },
  {
   "cell_type": "markdown",
   "id": "3c87bf2b",
   "metadata": {},
   "source": [
    "### Модель с классификацией по одному лейблу"
   ]
  },
  {
   "cell_type": "code",
   "execution_count": 93,
   "id": "ceb1aec7",
   "metadata": {},
   "outputs": [
    {
     "data": {
      "text/plain": [
       "(57953, 1)"
      ]
     },
     "execution_count": 93,
     "metadata": {},
     "output_type": "execute_result"
    }
   ],
   "source": [
    "X = fr_top[['lemmatized_text']]\n",
    "y = fr_top['top_hub_label_1']\n",
    "\n",
    "X.shape"
   ]
  },
  {
   "cell_type": "code",
   "execution_count": 94,
   "id": "3de49500",
   "metadata": {},
   "outputs": [],
   "source": [
    "from sklearn.model_selection import train_test_split\n",
    "\n",
    "X_train, X_test, y_train, y_test = train_test_split(X, y, test_size=0.25, random_state=42)"
   ]
  },
  {
   "cell_type": "code",
   "execution_count": 95,
   "id": "b27ff4f5",
   "metadata": {},
   "outputs": [
    {
     "data": {
      "text/plain": [
       "((43464, 1), (14489, 1))"
      ]
     },
     "execution_count": 95,
     "metadata": {},
     "output_type": "execute_result"
    }
   ],
   "source": [
    "X_train.shape, X_test.shape"
   ]
  },
  {
   "cell_type": "markdown",
   "id": "04c937ab",
   "metadata": {},
   "source": [
    "#### LogisticRegression"
   ]
  },
  {
   "cell_type": "markdown",
   "id": "13347cb6",
   "metadata": {},
   "source": [
    "##### bow"
   ]
  },
  {
   "cell_type": "code",
   "execution_count": 96,
   "id": "ce037b3b",
   "metadata": {},
   "outputs": [
    {
     "name": "stdout",
     "output_type": "stream",
     "text": [
      "(43464, 458448)\n",
      "CPU times: user 59 s, sys: 1.28 s, total: 1min\n",
      "Wall time: 1min\n"
     ]
    }
   ],
   "source": [
    "%%time\n",
    "from sklearn.feature_extraction.text import CountVectorizer\n",
    "from sklearn.preprocessing import MaxAbsScaler\n",
    "from sklearn.linear_model import LogisticRegression\n",
    "from sklearn.metrics import classification_report\n",
    "\n",
    "vec = CountVectorizer() # подбор гиперпараметров очень помогает\n",
    "vec.fit(X_train['lemmatized_text'])\n",
    "\n",
    "bow = vec.transform(X_train['lemmatized_text'])  # bow — bag of words (мешок слов)\n",
    "bow_test = vec.transform(X_test['lemmatized_text'])\n",
    "\n",
    "print(bow.shape)"
   ]
  },
  {
   "cell_type": "code",
   "execution_count": 97,
   "id": "0f9ae904",
   "metadata": {},
   "outputs": [
    {
     "name": "stdout",
     "output_type": "stream",
     "text": [
      "CPU times: user 2.13 s, sys: 695 ms, total: 2.83 s\n",
      "Wall time: 2.82 s\n"
     ]
    }
   ],
   "source": [
    "%%time\n",
    "scaler = MaxAbsScaler()\n",
    "bow = scaler.fit_transform(bow)\n",
    "bow_test = scaler.transform(bow_test)"
   ]
  },
  {
   "cell_type": "code",
   "execution_count": 98,
   "id": "22b70d3f",
   "metadata": {},
   "outputs": [],
   "source": [
    "clf = LogisticRegression(solver = 'lbfgs',multi_class = 'multinomial', max_iter=1000, random_state=42, n_jobs = -1)"
   ]
  },
  {
   "cell_type": "code",
   "execution_count": 99,
   "id": "0959a6c7",
   "metadata": {},
   "outputs": [
    {
     "name": "stdout",
     "output_type": "stream",
     "text": [
      "                   precision    recall  f1-score   support\n",
      "\n",
      "    hr_management       0.81      0.80      0.80      1116\n",
      "     infosecurity       0.73      0.90      0.81      3388\n",
      "it-infrastructure       0.63      0.60      0.61      1516\n",
      "       javascript       0.53      0.23      0.32       631\n",
      " machine_learning       0.77      0.73      0.75      1380\n",
      "      open_source       0.69      0.30      0.42       635\n",
      "      programming       0.57      0.75      0.65      3139\n",
      "           python       0.57      0.28      0.37       705\n",
      "        sys_admin       0.58      0.39      0.47       836\n",
      "           webdev       0.66      0.50      0.57      1143\n",
      "\n",
      "         accuracy                           0.67     14489\n",
      "        macro avg       0.65      0.55      0.58     14489\n",
      "     weighted avg       0.66      0.67      0.65     14489\n",
      "\n",
      "CPU times: user 1.64 s, sys: 3.54 s, total: 5.19 s\n",
      "Wall time: 5min 9s\n"
     ]
    }
   ],
   "source": [
    "%%time\n",
    "clf.fit(bow, y_train)\n",
    "pred = clf.predict(bow_test)\n",
    "print(classification_report(y_test, pred))"
   ]
  },
  {
   "cell_type": "markdown",
   "id": "65d46630",
   "metadata": {},
   "source": [
    "##### TF-IDF"
   ]
  },
  {
   "cell_type": "code",
   "execution_count": 100,
   "id": "84247e1c",
   "metadata": {},
   "outputs": [
    {
     "name": "stdout",
     "output_type": "stream",
     "text": [
      "CPU times: user 37 s, sys: 1.64 s, total: 38.7 s\n",
      "Wall time: 38.7 s\n"
     ]
    }
   ],
   "source": [
    "%%time\n",
    "from sklearn.feature_extraction.text import TfidfVectorizer\n",
    "vec = TfidfVectorizer()\n",
    "vec_train = vec.fit_transform(X_train['lemmatized_text'])\n",
    "vec_test = vec.transform(X_test['lemmatized_text'])\n",
    "\n",
    "scaler = MaxAbsScaler()\n",
    "vec_train = scaler.fit_transform(vec_train)\n",
    "vec_test = scaler.transform(vec_test)"
   ]
  },
  {
   "cell_type": "code",
   "execution_count": 101,
   "id": "f66c293d",
   "metadata": {},
   "outputs": [
    {
     "name": "stdout",
     "output_type": "stream",
     "text": [
      "                   precision    recall  f1-score   support\n",
      "\n",
      "    hr_management       0.81      0.85      0.83      1116\n",
      "     infosecurity       0.86      0.88      0.87      3388\n",
      "it-infrastructure       0.64      0.66      0.65      1516\n",
      "       javascript       0.52      0.36      0.43       631\n",
      " machine_learning       0.77      0.80      0.79      1380\n",
      "      open_source       0.69      0.40      0.51       635\n",
      "      programming       0.62      0.75      0.68      3139\n",
      "           python       0.61      0.41      0.49       705\n",
      "        sys_admin       0.56      0.52      0.54       836\n",
      "           webdev       0.66      0.56      0.61      1143\n",
      "\n",
      "         accuracy                           0.71     14489\n",
      "        macro avg       0.67      0.62      0.64     14489\n",
      "     weighted avg       0.70      0.71      0.70     14489\n",
      "\n",
      "CPU times: user 1.52 s, sys: 3.36 s, total: 4.88 s\n",
      "Wall time: 4min 14s\n"
     ]
    }
   ],
   "source": [
    "%%time\n",
    "clf = LogisticRegression(solver = 'lbfgs',multi_class = 'multinomial', max_iter=1000, random_state=42, n_jobs = -1)\n",
    "clf.fit(vec_train, y_train)\n",
    "pred_tfidf = clf.predict(vec_test)\n",
    "print(classification_report(y_test, pred_tfidf))"
   ]
  },
  {
   "cell_type": "markdown",
   "id": "4baa6064",
   "metadata": {},
   "source": [
    "##### W2Vec"
   ]
  },
  {
   "cell_type": "code",
   "execution_count": 102,
   "id": "49a37ba3",
   "metadata": {
    "collapsed": true
   },
   "outputs": [
    {
     "name": "stdout",
     "output_type": "stream",
     "text": [
      "Looking in indexes: https://artifactory.s.o3.ru/artifactory/api/pypi/pypi-virtual/simple\n",
      "Collecting transformers\n",
      "  Downloading https://artifactory.s.o3.ru/artifactory/api/pypi/pypi-virtual/packages/packages/5b/0b/e45d26ccd28568013523e04f325432ea88a442b4e3020b757cf4361f0120/transformers-4.30.2-py3-none-any.whl (7.2 MB)\n",
      "\u001b[2K     \u001b[90m━━━━━━━━━━━━━━━━━━━━━━━━━━━━━━━━━━━━━━━━\u001b[0m \u001b[32m7.2/7.2 MB\u001b[0m \u001b[31m98.0 MB/s\u001b[0m eta \u001b[36m0:00:00\u001b[0mta \u001b[36m0:00:01\u001b[0m\n",
      "\u001b[?25hCollecting filelock (from transformers)\n",
      "  Downloading https://artifactory.s.o3.ru/artifactory/api/pypi/pypi-virtual/packages/packages/00/45/ec3407adf6f6b5bf867a4462b2b0af27597a26bd3cd6e2534cb6ab029938/filelock-3.12.2-py3-none-any.whl (10 kB)\n",
      "Collecting huggingface-hub<1.0,>=0.14.1 (from transformers)\n",
      "  Downloading https://artifactory.s.o3.ru/artifactory/api/pypi/pypi-virtual/packages/packages/7f/c4/adcbe9a696c135578cabcbdd7331332daad4d49b7c43688bc2d36b3a47d2/huggingface_hub-0.16.4-py3-none-any.whl (268 kB)\n",
      "\u001b[2K     \u001b[90m━━━━━━━━━━━━━━━━━━━━━━━━━━━━━━━━━━━━━━\u001b[0m \u001b[32m268.8/268.8 kB\u001b[0m \u001b[31m38.0 MB/s\u001b[0m eta \u001b[36m0:00:00\u001b[0m\n",
      "\u001b[?25hRequirement already satisfied: numpy>=1.17 in /opt/conda/lib/python3.7/site-packages (from transformers) (1.21.6)\n",
      "Requirement already satisfied: packaging>=20.0 in /opt/conda/lib/python3.7/site-packages (from transformers) (23.2)\n",
      "Requirement already satisfied: pyyaml>=5.1 in /opt/conda/lib/python3.7/site-packages (from transformers) (6.0.1)\n",
      "Requirement already satisfied: regex!=2019.12.17 in /opt/conda/lib/python3.7/site-packages (from transformers) (2023.12.25)\n",
      "Requirement already satisfied: requests in /opt/conda/lib/python3.7/site-packages (from transformers) (2.31.0)\n",
      "Collecting tokenizers!=0.11.3,<0.14,>=0.11.1 (from transformers)\n",
      "\u001b[33m  WARNING: Retrying (Retry(total=4, connect=None, read=None, redirect=None, status=None)) after connection broken by 'ReadTimeoutError(\"HTTPSConnectionPool(host='artifactory.s.o3.ru', port=443): Read timed out. (read timeout=15)\")': /artifactory/api/pypi/pypi-virtual/packages/packages/4d/40/ab3c3c705e0a8cbbe760c49302b407190201d96fe7dfeea37ccafa004da3/tokenizers-0.13.3-cp37-cp37m-manylinux_2_17_x86_64.manylinux2014_x86_64.whl\u001b[0m\u001b[33m\n",
      "\u001b[0m\u001b[33m  WARNING: Retrying (Retry(total=3, connect=None, read=None, redirect=None, status=None)) after connection broken by 'ReadTimeoutError(\"HTTPSConnectionPool(host='artifactory.s.o3.ru', port=443): Read timed out. (read timeout=15)\")': /artifactory/api/pypi/pypi-virtual/packages/packages/4d/40/ab3c3c705e0a8cbbe760c49302b407190201d96fe7dfeea37ccafa004da3/tokenizers-0.13.3-cp37-cp37m-manylinux_2_17_x86_64.manylinux2014_x86_64.whl\u001b[0m\u001b[33m\n",
      "\u001b[0m  Downloading https://artifactory.s.o3.ru/artifactory/api/pypi/pypi-virtual/packages/packages/4d/40/ab3c3c705e0a8cbbe760c49302b407190201d96fe7dfeea37ccafa004da3/tokenizers-0.13.3-cp37-cp37m-manylinux_2_17_x86_64.manylinux2014_x86_64.whl (7.8 MB)\n",
      "\u001b[2K     \u001b[90m━━━━━━━━━━━━━━━━━━━━━━━━━━━━━━━━━━━━━━━━\u001b[0m \u001b[32m7.8/7.8 MB\u001b[0m \u001b[31m97.8 MB/s\u001b[0m eta \u001b[36m0:00:00\u001b[0m:00:01\u001b[0m00:01\u001b[0m\n",
      "\u001b[?25hCollecting safetensors>=0.3.1 (from transformers)\n",
      "  Downloading https://artifactory.s.o3.ru/artifactory/api/pypi/pypi-virtual/packages/packages/11/a0/c7403eac4e9321eb5a940d16c2dd2e4713e73315682dfb77a12c9ea8f24a/safetensors-0.4.2-cp37-cp37m-manylinux_2_17_x86_64.manylinux2014_x86_64.whl (1.3 MB)\n",
      "\u001b[2K     \u001b[90m━━━━━━━━━━━━━━━━━━━━━━━━━━━━━━━━━━━━━━━━\u001b[0m \u001b[32m1.3/1.3 MB\u001b[0m \u001b[31m72.0 MB/s\u001b[0m eta \u001b[36m0:00:00\u001b[0m\n",
      "\u001b[?25hRequirement already satisfied: tqdm>=4.27 in /opt/conda/lib/python3.7/site-packages (from transformers) (4.66.2)\n",
      "Requirement already satisfied: importlib-metadata in /opt/conda/lib/python3.7/site-packages (from transformers) (4.11.4)\n",
      "Requirement already satisfied: fsspec in /opt/conda/lib/python3.7/site-packages (from huggingface-hub<1.0,>=0.14.1->transformers) (2023.1.0)\n",
      "Requirement already satisfied: typing-extensions>=3.7.4.3 in /opt/conda/lib/python3.7/site-packages (from huggingface-hub<1.0,>=0.14.1->transformers) (4.7.1)\n",
      "Requirement already satisfied: zipp>=0.5 in /opt/conda/lib/python3.7/site-packages (from importlib-metadata->transformers) (3.15.0)\n",
      "Requirement already satisfied: charset-normalizer<4,>=2 in /opt/conda/lib/python3.7/site-packages (from requests->transformers) (3.3.0)\n",
      "Requirement already satisfied: idna<4,>=2.5 in /opt/conda/lib/python3.7/site-packages (from requests->transformers) (3.4)\n",
      "Requirement already satisfied: urllib3<3,>=1.21.1 in /opt/conda/lib/python3.7/site-packages (from requests->transformers) (2.0.6)\n",
      "Requirement already satisfied: certifi>=2017.4.17 in /opt/conda/lib/python3.7/site-packages (from requests->transformers) (2023.7.22)\n",
      "Installing collected packages: tokenizers, safetensors, filelock, huggingface-hub, transformers\n",
      "Successfully installed filelock-3.12.2 huggingface-hub-0.16.4 safetensors-0.4.2 tokenizers-0.13.3 transformers-4.30.2\n",
      "\u001b[33mWARNING: There was an error checking the latest version of pip.\u001b[0m\u001b[33m\n",
      "\u001b[0m"
     ]
    }
   ],
   "source": [
    "# !pip install transformers"
   ]
  },
  {
   "cell_type": "code",
   "execution_count": 135,
   "id": "9031f3eb",
   "metadata": {
    "collapsed": true
   },
   "outputs": [
    {
     "name": "stdout",
     "output_type": "stream",
     "text": [
      "Looking in indexes: https://download.pytorch.org/whl/cu118\n",
      "Requirement already satisfied: torch in /opt/conda/lib/python3.7/site-packages (1.13.1+rocm5.2)\n",
      "Collecting torchvision\n",
      "  Downloading https://download.pytorch.org/whl/torchvision-0.2.0-py2.py3-none-any.whl (48 kB)\n",
      "\u001b[2K     \u001b[90m━━━━━━━━━━━━━━━━━━━━━━━━━━━━━━━━━━━━━━━━\u001b[0m \u001b[32m48.8/48.8 kB\u001b[0m \u001b[31m4.7 MB/s\u001b[0m eta \u001b[36m0:00:00\u001b[0m\n",
      "\u001b[?25hCollecting torchaudio\n",
      "  Downloading https://download.pytorch.org/whl/torchaudio-0.9.1-cp37-cp37m-linux_x86_64.whl (1.9 MB)\n",
      "\u001b[2K     \u001b[90m━━━━━━━━━━━━━━━━━━━━━━━━━━━━━━━━━━━━━━━━\u001b[0m \u001b[32m1.9/1.9 MB\u001b[0m \u001b[31m21.7 MB/s\u001b[0m eta \u001b[36m0:00:00\u001b[0ma \u001b[36m0:00:01\u001b[0m\n",
      "\u001b[?25hRequirement already satisfied: typing-extensions in /opt/conda/lib/python3.7/site-packages (from torch) (4.7.1)\n",
      "Requirement already satisfied: numpy in /opt/conda/lib/python3.7/site-packages (from torchvision) (1.21.6)\n",
      "Requirement already satisfied: pillow>=4.1.1 in /opt/conda/lib/python3.7/site-packages (from torchvision) (9.5.0)\n",
      "Requirement already satisfied: six in /opt/conda/lib/python3.7/site-packages (from torchvision) (1.16.0)\n",
      "INFO: pip is looking at multiple versions of torchaudio to determine which version is compatible with other requirements. This could take a while.\n",
      "  Downloading https://download.pytorch.org/whl/torchaudio-0.9.0-cp37-cp37m-linux_x86_64.whl (1.9 MB)\n",
      "\u001b[2K     \u001b[90m━━━━━━━━━━━━━━━━━━━━━━━━━━━━━━━━━━━━━━━━\u001b[0m \u001b[32m1.9/1.9 MB\u001b[0m \u001b[31m21.7 MB/s\u001b[0m eta \u001b[36m0:00:00\u001b[0m00:01\u001b[0m00:01\u001b[0m\n",
      "\u001b[?25h  Downloading https://download.pytorch.org/whl/torchaudio-0.8.1-cp37-cp37m-linux_x86_64.whl (1.9 MB)\n",
      "\u001b[2K     \u001b[90m━━━━━━━━━━━━━━━━━━━━━━━━━━━━━━━━━━━━━━━━\u001b[0m \u001b[32m1.9/1.9 MB\u001b[0m \u001b[31m24.2 MB/s\u001b[0m eta \u001b[36m0:00:00\u001b[0m00:01\u001b[0m00:01\u001b[0m\n",
      "\u001b[?25h  Downloading https://download.pytorch.org/whl/torchaudio-0.8.0-cp37-cp37m-linux_x86_64.whl (1.9 MB)\n",
      "\u001b[2K     \u001b[90m━━━━━━━━━━━━━━━━━━━━━━━━━━━━━━━━━━━━━━━━\u001b[0m \u001b[32m1.9/1.9 MB\u001b[0m \u001b[31m29.2 MB/s\u001b[0m eta \u001b[36m0:00:00\u001b[0ma \u001b[36m0:00:01\u001b[0m\n",
      "\u001b[?25h  Downloading https://download.pytorch.org/whl/torchaudio-0.7.2-cp37-cp37m-linux_x86_64.whl (7.6 MB)\n",
      "\u001b[2K     \u001b[90m━━━━━━━━━━━━━━━━━━━━━━━━━━━━━━━━━━━━━━━━\u001b[0m \u001b[32m7.6/7.6 MB\u001b[0m \u001b[31m19.2 MB/s\u001b[0m eta \u001b[36m0:00:00\u001b[0m00:01\u001b[0m00:01\u001b[0m\n",
      "\u001b[?25h  Downloading https://download.pytorch.org/whl/torchaudio-0.7.1-cp37-cp37m-linux_x86_64.whl (7.6 MB)\n",
      "\u001b[2K     \u001b[90m━━━━━━━━━━━━━━━━━━━━━━━━━━━━━━━━━━━━━━━━\u001b[0m \u001b[32m7.6/7.6 MB\u001b[0m \u001b[31m62.9 MB/s\u001b[0m eta \u001b[36m0:00:00\u001b[0m00:01\u001b[0m00:01\u001b[0m\n",
      "\u001b[?25h  Downloading https://download.pytorch.org/whl/torchaudio-0.7.0-cp37-cp37m-linux_x86_64.whl (7.6 MB)\n",
      "\u001b[2K     \u001b[90m━━━━━━━━━━━━━━━━━━━━━━━━━━━━━━━━━━━━━━━━\u001b[0m \u001b[32m7.6/7.6 MB\u001b[0m \u001b[31m15.7 MB/s\u001b[0m eta \u001b[36m0:00:00\u001b[0m00:01\u001b[0m00:01\u001b[0m\n",
      "\u001b[?25h  Downloading https://download.pytorch.org/whl/torchaudio-0.6.0-cp37-cp37m-linux_x86_64.whl (6.8 MB)\n",
      "\u001b[2K     \u001b[90m━━━━━━━━━━━━━━━━━━━━━━━━━━━━━━━━━━━━━━━━\u001b[0m \u001b[32m6.8/6.8 MB\u001b[0m \u001b[31m20.7 MB/s\u001b[0m eta \u001b[36m0:00:00\u001b[0ma \u001b[36m0:00:01\u001b[0m\n",
      "\u001b[?25hINFO: pip is still looking at multiple versions of torchaudio to determine which version is compatible with other requirements. This could take a while.\n",
      "  Downloading https://download.pytorch.org/whl/torchaudio-0.5.1-cp37-cp37m-linux_x86_64.whl (3.2 MB)\n",
      "\u001b[2K     \u001b[90m━━━━━━━━━━━━━━━━━━━━━━━━━━━━━━━━━━━━━━━━\u001b[0m \u001b[32m3.2/3.2 MB\u001b[0m \u001b[31m19.0 MB/s\u001b[0m eta \u001b[36m0:00:00\u001b[0ma \u001b[36m0:00:01\u001b[0m\n",
      "\u001b[?25h  Downloading https://download.pytorch.org/whl/torchaudio-0.5.0-cp37-cp37m-linux_x86_64.whl (3.2 MB)\n",
      "\u001b[2K     \u001b[90m━━━━━━━━━━━━━━━━━━━━━━━━━━━━━━━━━━━━━━━━\u001b[0m \u001b[32m3.2/3.2 MB\u001b[0m \u001b[31m16.8 MB/s\u001b[0m eta \u001b[36m0:00:00\u001b[0m00:01\u001b[0m00:01\u001b[0m\n",
      "\u001b[?25h  Downloading https://download.pytorch.org/whl/torchaudio-0.4.0-cp37-cp37m-linux_x86_64.whl (3.1 MB)\n",
      "\u001b[2K     \u001b[90m━━━━━━━━━━━━━━━━━━━━━━━━━━━━━━━━━━━━━━━━\u001b[0m \u001b[32m3.1/3.1 MB\u001b[0m \u001b[31m17.7 MB/s\u001b[0m eta \u001b[36m0:00:00\u001b[0ma \u001b[36m0:00:01\u001b[0m\n",
      "\u001b[?25h  Downloading https://download.pytorch.org/whl/torchaudio-0.3.2-cp37-cp37m-manylinux1_x86_64.whl (2.7 MB)\n",
      "\u001b[2K     \u001b[90m━━━━━━━━━━━━━━━━━━━━━━━━━━━━━━━━━━━━━━━━\u001b[0m \u001b[32m2.7/2.7 MB\u001b[0m \u001b[31m11.2 MB/s\u001b[0m eta \u001b[36m0:00:00\u001b[0ma \u001b[36m0:00:01\u001b[0m\n",
      "\u001b[?25h  Downloading https://download.pytorch.org/whl/torchaudio-0.3.1-cp37-cp37m-manylinux1_x86_64.whl (2.7 MB)\n",
      "\u001b[2K     \u001b[90m━━━━━━━━━━━━━━━━━━━━━━━━━━━━━━━━━━━━━━━━\u001b[0m \u001b[32m2.7/2.7 MB\u001b[0m \u001b[31m34.4 MB/s\u001b[0m eta \u001b[36m0:00:00\u001b[0m00:01\u001b[0m00:01\u001b[0m\n",
      "\u001b[?25hINFO: This is taking longer than usual. You might need to provide the dependency resolver with stricter constraints to reduce runtime. See https://pip.pypa.io/warnings/backtracking for guidance. If you want to abort this run, press Ctrl + C.\n",
      "  Downloading https://download.pytorch.org/whl/torchaudio-0.3.0-cp37-cp37m-manylinux1_x86_64.whl (2.6 MB)\n",
      "\u001b[2K     \u001b[90m━━━━━━━━━━━━━━━━━━━━━━━━━━━━━━━━━━━━━━━━\u001b[0m \u001b[32m2.6/2.6 MB\u001b[0m \u001b[31m14.7 MB/s\u001b[0m eta \u001b[36m0:00:00\u001b[0ma \u001b[36m0:00:01\u001b[0m\n",
      "\u001b[?25h  Downloading https://download.pytorch.org/whl/torchaudio-0.2-cp37-cp37m-linux_x86_64.whl (2.4 MB)\n",
      "\u001b[2K     \u001b[90m━━━━━━━━━━━━━━━━━━━━━━━━━━━━━━━━━━━━━━━━\u001b[0m \u001b[32m2.4/2.4 MB\u001b[0m \u001b[31m31.2 MB/s\u001b[0m eta \u001b[36m0:00:00\u001b[0m00:01\u001b[0m00:01\u001b[0m\n",
      "\u001b[?25hInstalling collected packages: torchvision, torchaudio\n",
      "Successfully installed torchaudio-0.2 torchvision-0.2.0\n",
      "\u001b[33mWARNING: There was an error checking the latest version of pip.\u001b[0m\u001b[33m\n",
      "\u001b[0m"
     ]
    }
   ],
   "source": [
    "!pip3 install torch torchvision torchaudio --index-url https://download.pytorch.org/whl/cu118"
   ]
  },
  {
   "cell_type": "code",
   "execution_count": 110,
   "id": "5264137b",
   "metadata": {
    "collapsed": true
   },
   "outputs": [
    {
     "name": "stdout",
     "output_type": "stream",
     "text": [
      "Looking in indexes: https://artifactory.s.o3.ru/artifactory/api/pypi/pypi-virtual/simple\n",
      "Collecting torch\n",
      "\u001b[33m  WARNING: Retrying (Retry(total=4, connect=None, read=None, redirect=None, status=None)) after connection broken by 'ReadTimeoutError(\"HTTPSConnectionPool(host='artifactory.s.o3.ru', port=443): Read timed out. (read timeout=15)\")': /artifactory/api/pypi/pypi-virtual/packages/whl/rocm5.2/torch-1.13.1%2Brocm5.2-cp37-cp37m-linux_x86_64.whl\u001b[0m\u001b[33m\n",
      "\u001b[0m\u001b[33m  WARNING: Retrying (Retry(total=3, connect=None, read=None, redirect=None, status=None)) after connection broken by 'ReadTimeoutError(\"HTTPSConnectionPool(host='artifactory.s.o3.ru', port=443): Read timed out. (read timeout=15)\")': /artifactory/api/pypi/pypi-virtual/packages/whl/rocm5.2/torch-1.13.1%2Brocm5.2-cp37-cp37m-linux_x86_64.whl\u001b[0m\u001b[33m\n",
      "\u001b[0m  Downloading https://artifactory.s.o3.ru/artifactory/api/pypi/pypi-virtual/packages/whl/rocm5.2/torch-1.13.1%2Brocm5.2-cp37-cp37m-linux_x86_64.whl (1342.9 MB)\n",
      "\u001b[2K     \u001b[90m━━━━━━━━━━━━━━━━━━━━━━━━━━━━━━━━━━━━━━━━\u001b[0m \u001b[32m1.3/1.3 GB\u001b[0m \u001b[31m1.9 MB/s\u001b[0m eta \u001b[36m0:00:00\u001b[0m0:00:01\u001b[0m00:01\u001b[0m\n",
      "\u001b[?25hRequirement already satisfied: typing-extensions in /opt/conda/lib/python3.7/site-packages (from torch) (4.7.1)\n",
      "Installing collected packages: torch\n",
      "Successfully installed torch-1.13.1+rocm5.2\n",
      "\u001b[33mWARNING: There was an error checking the latest version of pip.\u001b[0m\u001b[33m\n",
      "\u001b[0m"
     ]
    }
   ],
   "source": [
    "!pip install torch"
   ]
  },
  {
   "cell_type": "code",
   "execution_count": 1,
   "id": "eefefe84",
   "metadata": {},
   "outputs": [],
   "source": [
    "import transformers as ppb\n",
    "import torch"
   ]
  },
  {
   "cell_type": "code",
   "execution_count": 2,
   "id": "ca017ce2",
   "metadata": {},
   "outputs": [
    {
     "data": {
      "application/vnd.jupyter.widget-view+json": {
       "model_id": "27a175588d51427eaaebeeeecb977319",
       "version_major": 2,
       "version_minor": 0
      },
      "text/plain": [
       "Downloading model.safetensors:   0%|          | 0.00/440M [00:00<?, ?B/s]"
      ]
     },
     "metadata": {},
     "output_type": "display_data"
    },
    {
     "name": "stderr",
     "output_type": "stream",
     "text": [
      "Some weights of the model checkpoint at bert-base-uncased were not used when initializing BertModel: ['cls.predictions.bias', 'cls.predictions.transform.dense.bias', 'cls.predictions.transform.LayerNorm.weight', 'cls.predictions.transform.LayerNorm.bias', 'cls.seq_relationship.bias', 'cls.predictions.transform.dense.weight', 'cls.seq_relationship.weight']\n",
      "- This IS expected if you are initializing BertModel from the checkpoint of a model trained on another task or with another architecture (e.g. initializing a BertForSequenceClassification model from a BertForPreTraining model).\n",
      "- This IS NOT expected if you are initializing BertModel from the checkpoint of a model that you expect to be exactly identical (initializing a BertForSequenceClassification model from a BertForSequenceClassification model).\n"
     ]
    }
   ],
   "source": [
    "# For DistilBERT:\n",
    "model_class, tokenizer_class, pretrained_weights = (ppb.DistilBertModel, ppb.DistilBertTokenizer, 'distilbert-base-uncased')\n",
    "\n",
    "# Want BERT instead of distilBERT? Uncomment the following line:\n",
    "model_class, tokenizer_class, pretrained_weights = (ppb.BertModel, ppb.BertTokenizer, 'bert-base-uncased')\n",
    "\n",
    "# Load pretrained model/tokenizer\n",
    "tokenizer = tokenizer_class.from_pretrained(pretrained_weights)\n",
    "model = model_class.from_pretrained(pretrained_weights)"
   ]
  },
  {
   "cell_type": "code",
   "execution_count": 118,
   "id": "cdeaeee9",
   "metadata": {},
   "outputs": [],
   "source": [
    "from gensim.models import word2vec"
   ]
  },
  {
   "cell_type": "code",
   "execution_count": 119,
   "id": "e529562c",
   "metadata": {},
   "outputs": [
    {
     "name": "stdout",
     "output_type": "stream",
     "text": [
      "CPU times: user 12min 29s, sys: 12.1 s, total: 12min 41s\n",
      "Wall time: 3min 27s\n"
     ]
    }
   ],
   "source": [
    "tokenized_ = [i.split() for i in fr_top['lemmatized_text'].values]\n",
    "\n",
    "%time w2v = word2vec.Word2Vec(tokenized_, workers=4, vector_size=200, min_count=10, window=3, sample=1e-3)"
   ]
  },
  {
   "cell_type": "code",
   "execution_count": 120,
   "id": "59ff18db",
   "metadata": {},
   "outputs": [
    {
     "data": {
      "text/plain": [
       "[('минус', 0.8484389781951904),\n",
       " ('преимущество', 0.6751542687416077),\n",
       " ('недостаток', 0.6578919291496277),\n",
       " ('достоинство', 0.6275618076324463),\n",
       " ('профит', 0.5190838575363159),\n",
       " ('во-вторых', 0.5104820132255554),\n",
       " ('зато', 0.5076562166213989),\n",
       " ('во-первых', 0.498101145029068),\n",
       " ('несомненный', 0.49752572178840637),\n",
       " ('смотря', 0.49089616537094116)]"
      ]
     },
     "execution_count": 120,
     "metadata": {},
     "output_type": "execute_result"
    }
   ],
   "source": [
    "w2v.wv.most_similar(positive=['плюс'], topn=10)"
   ]
  },
  {
   "cell_type": "code",
   "execution_count": 121,
   "id": "1ccd1666",
   "metadata": {},
   "outputs": [],
   "source": [
    "def get_text_embedding(lemmas, model=w2v.wv, embedding_size=200):\n",
    "    \n",
    "    res = np.zeros(embedding_size)\n",
    "    cnt = 0\n",
    "    for word in lemmas.split():\n",
    "        if word in model:\n",
    "            res += np.array(model[word])\n",
    "            cnt += 1\n",
    "    if cnt:\n",
    "        res = res / cnt\n",
    "    return res"
   ]
  },
  {
   "cell_type": "code",
   "execution_count": 123,
   "id": "d902425f",
   "metadata": {},
   "outputs": [
    {
     "name": "stdout",
     "output_type": "stream",
     "text": [
      "CPU times: user 3min 31s, sys: 1.26 s, total: 3min 33s\n",
      "Wall time: 3min 34s\n"
     ]
    }
   ],
   "source": [
    "%%time\n",
    "#X_train, X_test\n",
    "X_train['w2v_embedding'] = X_train['lemmatized_text'].map(get_text_embedding)\n",
    "X_test['w2v_embedding'] = X_test['lemmatized_text'].map(get_text_embedding)"
   ]
  },
  {
   "cell_type": "code",
   "execution_count": 125,
   "id": "916a5cd8",
   "metadata": {
    "scrolled": true
   },
   "outputs": [
    {
     "name": "stdout",
     "output_type": "stream",
     "text": [
      "                   precision    recall  f1-score   support\n",
      "\n",
      "    hr_management       0.88      0.79      0.83      1233\n",
      "     infosecurity       0.86      0.85      0.86      3425\n",
      "it-infrastructure       0.62      0.61      0.62      1550\n",
      "       javascript       0.33      0.50      0.40       424\n",
      " machine_learning       0.80      0.76      0.78      1449\n",
      "      open_source       0.37      0.59      0.45       394\n",
      "      programming       0.72      0.60      0.66      3746\n",
      "           python       0.40      0.58      0.47       481\n",
      "        sys_admin       0.47      0.51      0.49       775\n",
      "           webdev       0.55      0.62      0.58      1012\n",
      "\n",
      "         accuracy                           0.69     14489\n",
      "        macro avg       0.60      0.64      0.61     14489\n",
      "     weighted avg       0.71      0.69      0.69     14489\n",
      "\n"
     ]
    }
   ],
   "source": [
    "clf = LogisticRegression(solver = 'lbfgs',multi_class = 'multinomial', max_iter=1000, random_state=42, n_jobs = -1)\n",
    "clf.fit(list(X_train['w2v_embedding'].values), y_train)\n",
    "\n",
    "pred = clf.predict(list(X_test['w2v_embedding'].values))\n",
    "#print(accuracy_score(pred, y_test))\n",
    "print(classification_report(pred, y_test))"
   ]
  },
  {
   "cell_type": "markdown",
   "id": "4ae90a0f",
   "metadata": {},
   "source": [
    "##### FastText"
   ]
  },
  {
   "cell_type": "code",
   "execution_count": 129,
   "id": "a868d375",
   "metadata": {
    "collapsed": true
   },
   "outputs": [
    {
     "name": "stdout",
     "output_type": "stream",
     "text": [
      "Looking in indexes: https://artifactory.s.o3.ru/artifactory/api/pypi/pypi-virtual/simple\n",
      "Collecting fasttext\n",
      "  Downloading https://artifactory.s.o3.ru/artifactory/api/pypi/pypi-virtual/f8/85/e2b368ab6d3528827b147fdb814f8189acc981a4bc2f99ab894650e05c40/fasttext-0.9.2.tar.gz (68 kB)\n",
      "\u001b[2K     \u001b[90m━━━━━━━━━━━━━━━━━━━━━━━━━━━━━━━━━━━━━━━━\u001b[0m \u001b[32m68.8/68.8 kB\u001b[0m \u001b[31m4.7 MB/s\u001b[0m eta \u001b[36m0:00:00\u001b[0m\n",
      "\u001b[?25h  Preparing metadata (setup.py) ... \u001b[?25ldone\n",
      "\u001b[?25hCollecting pybind11>=2.2 (from fasttext)\n",
      "  Using cached https://artifactory.s.o3.ru/artifactory/api/pypi/pypi-virtual/packages/packages/06/55/9f73c32dda93fa4f539fafa268f9504e83c489f460c380371d94296126cd/pybind11-2.11.1-py3-none-any.whl (227 kB)\n",
      "Requirement already satisfied: setuptools>=0.7.0 in /opt/conda/lib/python3.7/site-packages (from fasttext) (68.2.2)\n",
      "Requirement already satisfied: numpy in /opt/conda/lib/python3.7/site-packages (from fasttext) (1.21.6)\n",
      "Building wheels for collected packages: fasttext\n",
      "  Building wheel for fasttext (setup.py) ... \u001b[?25ldone\n",
      "\u001b[?25h  Created wheel for fasttext: filename=fasttext-0.9.2-cp37-cp37m-linux_x86_64.whl size=3350799 sha256=66ba42bcd680d95d92664975981666db0d8d1e4ccc1fe7f29924f4cde96726d5\n",
      "  Stored in directory: /home/nmakhanova/.cache/pip/wheels/8e/63/a3/291dbfff3e15bd53067d3dda52355e640cb83ac02c3f504fa8\n",
      "Successfully built fasttext\n",
      "Installing collected packages: pybind11, fasttext\n",
      "Successfully installed fasttext-0.9.2 pybind11-2.11.1\n",
      "\u001b[33mWARNING: There was an error checking the latest version of pip.\u001b[0m\u001b[33m\n",
      "\u001b[0m"
     ]
    }
   ],
   "source": [
    "!pip install fasttext"
   ]
  },
  {
   "cell_type": "code",
   "execution_count": 132,
   "id": "f3d676f6",
   "metadata": {
    "collapsed": true
   },
   "outputs": [
    {
     "name": "stdout",
     "output_type": "stream",
     "text": [
      "Downloading https://dl.fbaipublicfiles.com/fasttext/vectors-crawl/cc.ru.300.bin.gz\n",
      " (0.55%) [>                                                  ]>                                                  ]\r"
     ]
    },
    {
     "name": "stderr",
     "output_type": "stream",
     "text": [
      "IOPub message rate exceeded.\n",
      "The Jupyter server will temporarily stop sending output\n",
      "to the client in order to avoid crashing it.\n",
      "To change this limit, set the config variable\n",
      "`--ServerApp.iopub_msg_rate_limit`.\n",
      "\n",
      "Current values:\n",
      "ServerApp.iopub_msg_rate_limit=1000.0 (msgs/sec)\n",
      "ServerApp.rate_limit_window=3.0 (secs)\n",
      "\n"
     ]
    },
    {
     "name": "stdout",
     "output_type": "stream",
     "text": [
      " (1.23%) [>                                                  ]>                                                  ]>                                                  ]\r"
     ]
    },
    {
     "name": "stderr",
     "output_type": "stream",
     "text": [
      "IOPub message rate exceeded.\n",
      "The Jupyter server will temporarily stop sending output\n",
      "to the client in order to avoid crashing it.\n",
      "To change this limit, set the config variable\n",
      "`--ServerApp.iopub_msg_rate_limit`.\n",
      "\n",
      "Current values:\n",
      "ServerApp.iopub_msg_rate_limit=1000.0 (msgs/sec)\n",
      "ServerApp.rate_limit_window=3.0 (secs)\n",
      "\n"
     ]
    },
    {
     "name": "stdout",
     "output_type": "stream",
     "text": [
      " (2.06%) [=>                                                 ]>                                                  ]\r"
     ]
    },
    {
     "name": "stderr",
     "output_type": "stream",
     "text": [
      "IOPub message rate exceeded.\n",
      "The Jupyter server will temporarily stop sending output\n",
      "to the client in order to avoid crashing it.\n",
      "To change this limit, set the config variable\n",
      "`--ServerApp.iopub_msg_rate_limit`.\n",
      "\n",
      "Current values:\n",
      "ServerApp.iopub_msg_rate_limit=1000.0 (msgs/sec)\n",
      "ServerApp.rate_limit_window=3.0 (secs)\n",
      "\n"
     ]
    },
    {
     "name": "stdout",
     "output_type": "stream",
     "text": [
      " (2.42%) [=>                                                 ]\r"
     ]
    },
    {
     "name": "stderr",
     "output_type": "stream",
     "text": [
      "IOPub message rate exceeded.\n",
      "The Jupyter server will temporarily stop sending output\n",
      "to the client in order to avoid crashing it.\n",
      "To change this limit, set the config variable\n",
      "`--ServerApp.iopub_msg_rate_limit`.\n",
      "\n",
      "Current values:\n",
      "ServerApp.iopub_msg_rate_limit=1000.0 (msgs/sec)\n",
      "ServerApp.rate_limit_window=3.0 (secs)\n",
      "\n"
     ]
    },
    {
     "name": "stdout",
     "output_type": "stream",
     "text": [
      " (3.12%) [=>                                                 ]=>                                                 ]=>                                                 ]\r"
     ]
    },
    {
     "name": "stderr",
     "output_type": "stream",
     "text": [
      "IOPub message rate exceeded.\n",
      "The Jupyter server will temporarily stop sending output\n",
      "to the client in order to avoid crashing it.\n",
      "To change this limit, set the config variable\n",
      "`--ServerApp.iopub_msg_rate_limit`.\n",
      "\n",
      "Current values:\n",
      "ServerApp.iopub_msg_rate_limit=1000.0 (msgs/sec)\n",
      "ServerApp.rate_limit_window=3.0 (secs)\n",
      "\n"
     ]
    },
    {
     "name": "stdout",
     "output_type": "stream",
     "text": [
      " (3.50%) [=>                                                 ]\r"
     ]
    },
    {
     "name": "stderr",
     "output_type": "stream",
     "text": [
      "IOPub message rate exceeded.\n",
      "The Jupyter server will temporarily stop sending output\n",
      "to the client in order to avoid crashing it.\n",
      "To change this limit, set the config variable\n",
      "`--ServerApp.iopub_msg_rate_limit`.\n",
      "\n",
      "Current values:\n",
      "ServerApp.iopub_msg_rate_limit=1000.0 (msgs/sec)\n",
      "ServerApp.rate_limit_window=3.0 (secs)\n",
      "\n"
     ]
    },
    {
     "name": "stdout",
     "output_type": "stream",
     "text": [
      " (4.18%) [==>                                                ]=>                                                 ]=>                                                 ]=>                                                 ]==>                                                ]==>                                                ]==>                                                ]\r"
     ]
    },
    {
     "name": "stderr",
     "output_type": "stream",
     "text": [
      "IOPub message rate exceeded.\n",
      "The Jupyter server will temporarily stop sending output\n",
      "to the client in order to avoid crashing it.\n",
      "To change this limit, set the config variable\n",
      "`--ServerApp.iopub_msg_rate_limit`.\n",
      "\n",
      "Current values:\n",
      "ServerApp.iopub_msg_rate_limit=1000.0 (msgs/sec)\n",
      "ServerApp.rate_limit_window=3.0 (secs)\n",
      "\n"
     ]
    },
    {
     "name": "stdout",
     "output_type": "stream",
     "text": [
      " (4.54%) [==>                                                ]==>                                                ]==>                                                ]==>                                                ]\r"
     ]
    },
    {
     "name": "stderr",
     "output_type": "stream",
     "text": [
      "IOPub message rate exceeded.\n",
      "The Jupyter server will temporarily stop sending output\n",
      "to the client in order to avoid crashing it.\n",
      "To change this limit, set the config variable\n",
      "`--ServerApp.iopub_msg_rate_limit`.\n",
      "\n",
      "Current values:\n",
      "ServerApp.iopub_msg_rate_limit=1000.0 (msgs/sec)\n",
      "ServerApp.rate_limit_window=3.0 (secs)\n",
      "\n"
     ]
    },
    {
     "name": "stdout",
     "output_type": "stream",
     "text": [
      " (5.24%) [==>                                                ]==>                                                ]==>                                                ]==>                                                ]==>                                                ]==>                                                ]==>                                                ]==>                                                ]\r"
     ]
    },
    {
     "name": "stderr",
     "output_type": "stream",
     "text": [
      "IOPub message rate exceeded.\n",
      "The Jupyter server will temporarily stop sending output\n",
      "to the client in order to avoid crashing it.\n",
      "To change this limit, set the config variable\n",
      "`--ServerApp.iopub_msg_rate_limit`.\n",
      "\n",
      "Current values:\n",
      "ServerApp.iopub_msg_rate_limit=1000.0 (msgs/sec)\n",
      "ServerApp.rate_limit_window=3.0 (secs)\n",
      "\n"
     ]
    },
    {
     "name": "stdout",
     "output_type": "stream",
     "text": [
      " (5.61%) [==>                                                ]==>                                                ]==>                                                ]\r"
     ]
    },
    {
     "name": "stderr",
     "output_type": "stream",
     "text": [
      "IOPub message rate exceeded.\n",
      "The Jupyter server will temporarily stop sending output\n",
      "to the client in order to avoid crashing it.\n",
      "To change this limit, set the config variable\n",
      "`--ServerApp.iopub_msg_rate_limit`.\n",
      "\n",
      "Current values:\n",
      "ServerApp.iopub_msg_rate_limit=1000.0 (msgs/sec)\n",
      "ServerApp.rate_limit_window=3.0 (secs)\n",
      "\n"
     ]
    },
    {
     "name": "stdout",
     "output_type": "stream",
     "text": [
      " (6.96%) [===>                                               ]===>                                               ]\r"
     ]
    },
    {
     "name": "stderr",
     "output_type": "stream",
     "text": [
      "IOPub message rate exceeded.\n",
      "The Jupyter server will temporarily stop sending output\n",
      "to the client in order to avoid crashing it.\n",
      "To change this limit, set the config variable\n",
      "`--ServerApp.iopub_msg_rate_limit`.\n",
      "\n",
      "Current values:\n",
      "ServerApp.iopub_msg_rate_limit=1000.0 (msgs/sec)\n",
      "ServerApp.rate_limit_window=3.0 (secs)\n",
      "\n"
     ]
    },
    {
     "name": "stdout",
     "output_type": "stream",
     "text": [
      " (8.09%) [====>                                              ]===>                                               ]\r"
     ]
    },
    {
     "name": "stderr",
     "output_type": "stream",
     "text": [
      "IOPub message rate exceeded.\n",
      "The Jupyter server will temporarily stop sending output\n",
      "to the client in order to avoid crashing it.\n",
      "To change this limit, set the config variable\n",
      "`--ServerApp.iopub_msg_rate_limit`.\n",
      "\n",
      "Current values:\n",
      "ServerApp.iopub_msg_rate_limit=1000.0 (msgs/sec)\n",
      "ServerApp.rate_limit_window=3.0 (secs)\n",
      "\n"
     ]
    },
    {
     "name": "stdout",
     "output_type": "stream",
     "text": [
      " (8.77%) [====>                                              ]====>                                              ]====>                                              ]====>                                              ]====>                                              ]\r"
     ]
    },
    {
     "name": "stderr",
     "output_type": "stream",
     "text": [
      "IOPub message rate exceeded.\n",
      "The Jupyter server will temporarily stop sending output\n",
      "to the client in order to avoid crashing it.\n",
      "To change this limit, set the config variable\n",
      "`--ServerApp.iopub_msg_rate_limit`.\n",
      "\n",
      "Current values:\n",
      "ServerApp.iopub_msg_rate_limit=1000.0 (msgs/sec)\n",
      "ServerApp.rate_limit_window=3.0 (secs)\n",
      "\n"
     ]
    },
    {
     "name": "stdout",
     "output_type": "stream",
     "text": [
      " (9.84%) [====>                                              ]\r"
     ]
    },
    {
     "name": "stderr",
     "output_type": "stream",
     "text": [
      "IOPub message rate exceeded.\n",
      "The Jupyter server will temporarily stop sending output\n",
      "to the client in order to avoid crashing it.\n",
      "To change this limit, set the config variable\n",
      "`--ServerApp.iopub_msg_rate_limit`.\n",
      "\n",
      "Current values:\n",
      "ServerApp.iopub_msg_rate_limit=1000.0 (msgs/sec)\n",
      "ServerApp.rate_limit_window=3.0 (secs)\n",
      "\n"
     ]
    },
    {
     "name": "stdout",
     "output_type": "stream",
     "text": [
      " (11.14%) [=====>                                             ]\r"
     ]
    },
    {
     "name": "stderr",
     "output_type": "stream",
     "text": [
      "IOPub message rate exceeded.\n",
      "The Jupyter server will temporarily stop sending output\n",
      "to the client in order to avoid crashing it.\n",
      "To change this limit, set the config variable\n",
      "`--ServerApp.iopub_msg_rate_limit`.\n",
      "\n",
      "Current values:\n",
      "ServerApp.iopub_msg_rate_limit=1000.0 (msgs/sec)\n",
      "ServerApp.rate_limit_window=3.0 (secs)\n",
      "\n"
     ]
    },
    {
     "name": "stdout",
     "output_type": "stream",
     "text": [
      " (11.49%) [=====>                                             ]=====>                                             ]=====>                                             ]=====>                                             ]\r"
     ]
    },
    {
     "name": "stderr",
     "output_type": "stream",
     "text": [
      "IOPub message rate exceeded.\n",
      "The Jupyter server will temporarily stop sending output\n",
      "to the client in order to avoid crashing it.\n",
      "To change this limit, set the config variable\n",
      "`--ServerApp.iopub_msg_rate_limit`.\n",
      "\n",
      "Current values:\n",
      "ServerApp.iopub_msg_rate_limit=1000.0 (msgs/sec)\n",
      "ServerApp.rate_limit_window=3.0 (secs)\n",
      "\n"
     ]
    },
    {
     "name": "stdout",
     "output_type": "stream",
     "text": [
      " (13.18%) [======>                                            ]======>                                            ]\r"
     ]
    },
    {
     "name": "stderr",
     "output_type": "stream",
     "text": [
      "IOPub message rate exceeded.\n",
      "The Jupyter server will temporarily stop sending output\n",
      "to the client in order to avoid crashing it.\n",
      "To change this limit, set the config variable\n",
      "`--ServerApp.iopub_msg_rate_limit`.\n",
      "\n",
      "Current values:\n",
      "ServerApp.iopub_msg_rate_limit=1000.0 (msgs/sec)\n",
      "ServerApp.rate_limit_window=3.0 (secs)\n",
      "\n"
     ]
    },
    {
     "name": "stdout",
     "output_type": "stream",
     "text": [
      " (13.55%) [======>                                            ]======>                                            ]\r"
     ]
    },
    {
     "name": "stderr",
     "output_type": "stream",
     "text": [
      "IOPub message rate exceeded.\n",
      "The Jupyter server will temporarily stop sending output\n",
      "to the client in order to avoid crashing it.\n",
      "To change this limit, set the config variable\n",
      "`--ServerApp.iopub_msg_rate_limit`.\n",
      "\n",
      "Current values:\n",
      "ServerApp.iopub_msg_rate_limit=1000.0 (msgs/sec)\n",
      "ServerApp.rate_limit_window=3.0 (secs)\n",
      "\n"
     ]
    },
    {
     "name": "stdout",
     "output_type": "stream",
     "text": [
      " (15.20%) [=======>                                           ]=======>                                           ]=======>                                           ]\r"
     ]
    },
    {
     "name": "stderr",
     "output_type": "stream",
     "text": [
      "IOPub message rate exceeded.\n",
      "The Jupyter server will temporarily stop sending output\n",
      "to the client in order to avoid crashing it.\n",
      "To change this limit, set the config variable\n",
      "`--ServerApp.iopub_msg_rate_limit`.\n",
      "\n",
      "Current values:\n",
      "ServerApp.iopub_msg_rate_limit=1000.0 (msgs/sec)\n",
      "ServerApp.rate_limit_window=3.0 (secs)\n",
      "\n"
     ]
    },
    {
     "name": "stdout",
     "output_type": "stream",
     "text": [
      " (15.56%) [=======>                                           ]\r"
     ]
    },
    {
     "name": "stderr",
     "output_type": "stream",
     "text": [
      "IOPub message rate exceeded.\n",
      "The Jupyter server will temporarily stop sending output\n",
      "to the client in order to avoid crashing it.\n",
      "To change this limit, set the config variable\n",
      "`--ServerApp.iopub_msg_rate_limit`.\n",
      "\n",
      "Current values:\n",
      "ServerApp.iopub_msg_rate_limit=1000.0 (msgs/sec)\n",
      "ServerApp.rate_limit_window=3.0 (secs)\n",
      "\n"
     ]
    },
    {
     "name": "stdout",
     "output_type": "stream",
     "text": [
      " (16.04%) [========>                                          ]=======>                                           ]\r"
     ]
    },
    {
     "name": "stderr",
     "output_type": "stream",
     "text": [
      "IOPub message rate exceeded.\n",
      "The Jupyter server will temporarily stop sending output\n",
      "to the client in order to avoid crashing it.\n",
      "To change this limit, set the config variable\n",
      "`--ServerApp.iopub_msg_rate_limit`.\n",
      "\n",
      "Current values:\n",
      "ServerApp.iopub_msg_rate_limit=1000.0 (msgs/sec)\n",
      "ServerApp.rate_limit_window=3.0 (secs)\n",
      "\n"
     ]
    },
    {
     "name": "stdout",
     "output_type": "stream",
     "text": [
      " (17.59%) [========>                                          ]\r"
     ]
    },
    {
     "name": "stderr",
     "output_type": "stream",
     "text": [
      "IOPub message rate exceeded.\n",
      "The Jupyter server will temporarily stop sending output\n",
      "to the client in order to avoid crashing it.\n",
      "To change this limit, set the config variable\n",
      "`--ServerApp.iopub_msg_rate_limit`.\n",
      "\n",
      "Current values:\n",
      "ServerApp.iopub_msg_rate_limit=1000.0 (msgs/sec)\n",
      "ServerApp.rate_limit_window=3.0 (secs)\n",
      "\n"
     ]
    },
    {
     "name": "stdout",
     "output_type": "stream",
     "text": [
      " (18.30%) [=========>                                         ]\r"
     ]
    },
    {
     "name": "stderr",
     "output_type": "stream",
     "text": [
      "IOPub message rate exceeded.\n",
      "The Jupyter server will temporarily stop sending output\n",
      "to the client in order to avoid crashing it.\n",
      "To change this limit, set the config variable\n",
      "`--ServerApp.iopub_msg_rate_limit`.\n",
      "\n",
      "Current values:\n",
      "ServerApp.iopub_msg_rate_limit=1000.0 (msgs/sec)\n",
      "ServerApp.rate_limit_window=3.0 (secs)\n",
      "\n"
     ]
    },
    {
     "name": "stdout",
     "output_type": "stream",
     "text": [
      " (18.66%) [=========>                                         ]=========>                                         ]\r"
     ]
    },
    {
     "name": "stderr",
     "output_type": "stream",
     "text": [
      "IOPub message rate exceeded.\n",
      "The Jupyter server will temporarily stop sending output\n",
      "to the client in order to avoid crashing it.\n",
      "To change this limit, set the config variable\n",
      "`--ServerApp.iopub_msg_rate_limit`.\n",
      "\n",
      "Current values:\n",
      "ServerApp.iopub_msg_rate_limit=1000.0 (msgs/sec)\n",
      "ServerApp.rate_limit_window=3.0 (secs)\n",
      "\n"
     ]
    },
    {
     "name": "stdout",
     "output_type": "stream",
     "text": [
      " (20.97%) [==========>                                        ]==========>                                        ]==========>                                        ]==========>                                        ]==========>                                        ]\r"
     ]
    },
    {
     "name": "stderr",
     "output_type": "stream",
     "text": [
      "IOPub message rate exceeded.\n",
      "The Jupyter server will temporarily stop sending output\n",
      "to the client in order to avoid crashing it.\n",
      "To change this limit, set the config variable\n",
      "`--ServerApp.iopub_msg_rate_limit`.\n",
      "\n",
      "Current values:\n",
      "ServerApp.iopub_msg_rate_limit=1000.0 (msgs/sec)\n",
      "ServerApp.rate_limit_window=3.0 (secs)\n",
      "\n"
     ]
    },
    {
     "name": "stdout",
     "output_type": "stream",
     "text": [
      " (21.80%) [==========>                                        ]==========>                                        ]==========>                                        ]\r"
     ]
    },
    {
     "name": "stderr",
     "output_type": "stream",
     "text": [
      "IOPub message rate exceeded.\n",
      "The Jupyter server will temporarily stop sending output\n",
      "to the client in order to avoid crashing it.\n",
      "To change this limit, set the config variable\n",
      "`--ServerApp.iopub_msg_rate_limit`.\n",
      "\n",
      "Current values:\n",
      "ServerApp.iopub_msg_rate_limit=1000.0 (msgs/sec)\n",
      "ServerApp.rate_limit_window=3.0 (secs)\n",
      "\n"
     ]
    },
    {
     "name": "stdout",
     "output_type": "stream",
     "text": [
      " (24.94%) [============>                                      ]===========>                                       ]===========>                                       ]===========>                                       ]===========>                                       ]\r"
     ]
    },
    {
     "name": "stderr",
     "output_type": "stream",
     "text": [
      "IOPub message rate exceeded.\n",
      "The Jupyter server will temporarily stop sending output\n",
      "to the client in order to avoid crashing it.\n",
      "To change this limit, set the config variable\n",
      "`--ServerApp.iopub_msg_rate_limit`.\n",
      "\n",
      "Current values:\n",
      "ServerApp.iopub_msg_rate_limit=1000.0 (msgs/sec)\n",
      "ServerApp.rate_limit_window=3.0 (secs)\n",
      "\n"
     ]
    },
    {
     "name": "stdout",
     "output_type": "stream",
     "text": [
      " (26.94%) [=============>                                     ]============>                                      ]============>                                      ]=============>                                     ]=============>                                     ]\r"
     ]
    },
    {
     "name": "stderr",
     "output_type": "stream",
     "text": [
      "IOPub message rate exceeded.\n",
      "The Jupyter server will temporarily stop sending output\n",
      "to the client in order to avoid crashing it.\n",
      "To change this limit, set the config variable\n",
      "`--ServerApp.iopub_msg_rate_limit`.\n",
      "\n",
      "Current values:\n",
      "ServerApp.iopub_msg_rate_limit=1000.0 (msgs/sec)\n",
      "ServerApp.rate_limit_window=3.0 (secs)\n",
      "\n"
     ]
    },
    {
     "name": "stdout",
     "output_type": "stream",
     "text": [
      " (27.58%) [=============>                                     ]\r"
     ]
    },
    {
     "name": "stderr",
     "output_type": "stream",
     "text": [
      "IOPub message rate exceeded.\n",
      "The Jupyter server will temporarily stop sending output\n",
      "to the client in order to avoid crashing it.\n",
      "To change this limit, set the config variable\n",
      "`--ServerApp.iopub_msg_rate_limit`.\n",
      "\n",
      "Current values:\n",
      "ServerApp.iopub_msg_rate_limit=1000.0 (msgs/sec)\n",
      "ServerApp.rate_limit_window=3.0 (secs)\n",
      "\n"
     ]
    },
    {
     "name": "stdout",
     "output_type": "stream",
     "text": [
      " (28.03%) [==============>                                    ]\r"
     ]
    },
    {
     "name": "stderr",
     "output_type": "stream",
     "text": [
      "IOPub message rate exceeded.\n",
      "The Jupyter server will temporarily stop sending output\n",
      "to the client in order to avoid crashing it.\n",
      "To change this limit, set the config variable\n",
      "`--ServerApp.iopub_msg_rate_limit`.\n",
      "\n",
      "Current values:\n",
      "ServerApp.iopub_msg_rate_limit=1000.0 (msgs/sec)\n",
      "ServerApp.rate_limit_window=3.0 (secs)\n",
      "\n"
     ]
    },
    {
     "name": "stdout",
     "output_type": "stream",
     "text": [
      " (29.16%) [==============>                                    ]==============>                                    ]\r"
     ]
    },
    {
     "name": "stderr",
     "output_type": "stream",
     "text": [
      "IOPub message rate exceeded.\n",
      "The Jupyter server will temporarily stop sending output\n",
      "to the client in order to avoid crashing it.\n",
      "To change this limit, set the config variable\n",
      "`--ServerApp.iopub_msg_rate_limit`.\n",
      "\n",
      "Current values:\n",
      "ServerApp.iopub_msg_rate_limit=1000.0 (msgs/sec)\n",
      "ServerApp.rate_limit_window=3.0 (secs)\n",
      "\n"
     ]
    },
    {
     "name": "stdout",
     "output_type": "stream",
     "text": [
      " (29.61%) [==============>                                    ]==============>                                    ]\r"
     ]
    },
    {
     "name": "stderr",
     "output_type": "stream",
     "text": [
      "IOPub message rate exceeded.\n",
      "The Jupyter server will temporarily stop sending output\n",
      "to the client in order to avoid crashing it.\n",
      "To change this limit, set the config variable\n",
      "`--ServerApp.iopub_msg_rate_limit`.\n",
      "\n",
      "Current values:\n",
      "ServerApp.iopub_msg_rate_limit=1000.0 (msgs/sec)\n",
      "ServerApp.rate_limit_window=3.0 (secs)\n",
      "\n"
     ]
    },
    {
     "name": "stdout",
     "output_type": "stream",
     "text": [
      " (31.24%) [===============>                                   ]==============>                                    ]===============>                                   ]\r"
     ]
    },
    {
     "name": "stderr",
     "output_type": "stream",
     "text": [
      "IOPub message rate exceeded.\n",
      "The Jupyter server will temporarily stop sending output\n",
      "to the client in order to avoid crashing it.\n",
      "To change this limit, set the config variable\n",
      "`--ServerApp.iopub_msg_rate_limit`.\n",
      "\n",
      "Current values:\n",
      "ServerApp.iopub_msg_rate_limit=1000.0 (msgs/sec)\n",
      "ServerApp.rate_limit_window=3.0 (secs)\n",
      "\n"
     ]
    },
    {
     "name": "stdout",
     "output_type": "stream",
     "text": [
      " (31.59%) [===============>                                   ]===============>                                   ]\r"
     ]
    },
    {
     "name": "stderr",
     "output_type": "stream",
     "text": [
      "IOPub message rate exceeded.\n",
      "The Jupyter server will temporarily stop sending output\n",
      "to the client in order to avoid crashing it.\n",
      "To change this limit, set the config variable\n",
      "`--ServerApp.iopub_msg_rate_limit`.\n",
      "\n",
      "Current values:\n",
      "ServerApp.iopub_msg_rate_limit=1000.0 (msgs/sec)\n",
      "ServerApp.rate_limit_window=3.0 (secs)\n",
      "\n"
     ]
    },
    {
     "name": "stdout",
     "output_type": "stream",
     "text": [
      " (33.20%) [================>                                  ]================>                                  ]\r"
     ]
    },
    {
     "name": "stderr",
     "output_type": "stream",
     "text": [
      "IOPub message rate exceeded.\n",
      "The Jupyter server will temporarily stop sending output\n",
      "to the client in order to avoid crashing it.\n",
      "To change this limit, set the config variable\n",
      "`--ServerApp.iopub_msg_rate_limit`.\n",
      "\n",
      "Current values:\n",
      "ServerApp.iopub_msg_rate_limit=1000.0 (msgs/sec)\n",
      "ServerApp.rate_limit_window=3.0 (secs)\n",
      "\n"
     ]
    },
    {
     "name": "stdout",
     "output_type": "stream",
     "text": [
      " (33.64%) [================>                                  ]================>                                  ]================>                                  ]================>                                  ]\r"
     ]
    },
    {
     "name": "stderr",
     "output_type": "stream",
     "text": [
      "IOPub message rate exceeded.\n",
      "The Jupyter server will temporarily stop sending output\n",
      "to the client in order to avoid crashing it.\n",
      "To change this limit, set the config variable\n",
      "`--ServerApp.iopub_msg_rate_limit`.\n",
      "\n",
      "Current values:\n",
      "ServerApp.iopub_msg_rate_limit=1000.0 (msgs/sec)\n",
      "ServerApp.rate_limit_window=3.0 (secs)\n",
      "\n"
     ]
    },
    {
     "name": "stdout",
     "output_type": "stream",
     "text": [
      " (34.11%) [=================>                                 ]================>                                  ]\r"
     ]
    },
    {
     "name": "stderr",
     "output_type": "stream",
     "text": [
      "IOPub message rate exceeded.\n",
      "The Jupyter server will temporarily stop sending output\n",
      "to the client in order to avoid crashing it.\n",
      "To change this limit, set the config variable\n",
      "`--ServerApp.iopub_msg_rate_limit`.\n",
      "\n",
      "Current values:\n",
      "ServerApp.iopub_msg_rate_limit=1000.0 (msgs/sec)\n",
      "ServerApp.rate_limit_window=3.0 (secs)\n",
      "\n"
     ]
    },
    {
     "name": "stdout",
     "output_type": "stream",
     "text": [
      " (35.30%) [=================>                                 ]=================>                                 ]=================>                                 ]=================>                                 ]\r"
     ]
    },
    {
     "name": "stderr",
     "output_type": "stream",
     "text": [
      "IOPub message rate exceeded.\n",
      "The Jupyter server will temporarily stop sending output\n",
      "to the client in order to avoid crashing it.\n",
      "To change this limit, set the config variable\n",
      "`--ServerApp.iopub_msg_rate_limit`.\n",
      "\n",
      "Current values:\n",
      "ServerApp.iopub_msg_rate_limit=1000.0 (msgs/sec)\n",
      "ServerApp.rate_limit_window=3.0 (secs)\n",
      "\n"
     ]
    },
    {
     "name": "stdout",
     "output_type": "stream",
     "text": [
      " (35.78%) [=================>                                 ]=================>                                 ]=================>                                 ]=================>                                 ]=================>                                 ]\r"
     ]
    },
    {
     "name": "stderr",
     "output_type": "stream",
     "text": [
      "IOPub message rate exceeded.\n",
      "The Jupyter server will temporarily stop sending output\n",
      "to the client in order to avoid crashing it.\n",
      "To change this limit, set the config variable\n",
      "`--ServerApp.iopub_msg_rate_limit`.\n",
      "\n",
      "Current values:\n",
      "ServerApp.iopub_msg_rate_limit=1000.0 (msgs/sec)\n",
      "ServerApp.rate_limit_window=3.0 (secs)\n",
      "\n"
     ]
    },
    {
     "name": "stdout",
     "output_type": "stream",
     "text": [
      " (37.36%) [==================>                                ]==================>                                ]==================>                                ]==================>                                ]\r"
     ]
    },
    {
     "name": "stderr",
     "output_type": "stream",
     "text": [
      "IOPub message rate exceeded.\n",
      "The Jupyter server will temporarily stop sending output\n",
      "to the client in order to avoid crashing it.\n",
      "To change this limit, set the config variable\n",
      "`--ServerApp.iopub_msg_rate_limit`.\n",
      "\n",
      "Current values:\n",
      "ServerApp.iopub_msg_rate_limit=1000.0 (msgs/sec)\n",
      "ServerApp.rate_limit_window=3.0 (secs)\n",
      "\n"
     ]
    },
    {
     "name": "stdout",
     "output_type": "stream",
     "text": [
      " (38.77%) [===================>                               ]\r"
     ]
    },
    {
     "name": "stderr",
     "output_type": "stream",
     "text": [
      "IOPub message rate exceeded.\n",
      "The Jupyter server will temporarily stop sending output\n",
      "to the client in order to avoid crashing it.\n",
      "To change this limit, set the config variable\n",
      "`--ServerApp.iopub_msg_rate_limit`.\n",
      "\n",
      "Current values:\n",
      "ServerApp.iopub_msg_rate_limit=1000.0 (msgs/sec)\n",
      "ServerApp.rate_limit_window=3.0 (secs)\n",
      "\n"
     ]
    },
    {
     "name": "stdout",
     "output_type": "stream",
     "text": [
      " (39.62%) [===================>                               ]===================>                               ]===================>                               ]\r"
     ]
    },
    {
     "name": "stderr",
     "output_type": "stream",
     "text": [
      "IOPub message rate exceeded.\n",
      "The Jupyter server will temporarily stop sending output\n",
      "to the client in order to avoid crashing it.\n",
      "To change this limit, set the config variable\n",
      "`--ServerApp.iopub_msg_rate_limit`.\n",
      "\n",
      "Current values:\n",
      "ServerApp.iopub_msg_rate_limit=1000.0 (msgs/sec)\n",
      "ServerApp.rate_limit_window=3.0 (secs)\n",
      "\n"
     ]
    },
    {
     "name": "stdout",
     "output_type": "stream",
     "text": [
      " (40.78%) [====================>                              ]====================>                              ]====================>                              ]\r"
     ]
    },
    {
     "name": "stderr",
     "output_type": "stream",
     "text": [
      "IOPub message rate exceeded.\n",
      "The Jupyter server will temporarily stop sending output\n",
      "to the client in order to avoid crashing it.\n",
      "To change this limit, set the config variable\n",
      "`--ServerApp.iopub_msg_rate_limit`.\n",
      "\n",
      "Current values:\n",
      "ServerApp.iopub_msg_rate_limit=1000.0 (msgs/sec)\n",
      "ServerApp.rate_limit_window=3.0 (secs)\n",
      "\n"
     ]
    },
    {
     "name": "stdout",
     "output_type": "stream",
     "text": [
      " (42.58%) [=====================>                             ]====================>                              ]====================>                              ]====================>                              ]=====================>                             ]\r"
     ]
    },
    {
     "name": "stderr",
     "output_type": "stream",
     "text": [
      "IOPub message rate exceeded.\n",
      "The Jupyter server will temporarily stop sending output\n",
      "to the client in order to avoid crashing it.\n",
      "To change this limit, set the config variable\n",
      "`--ServerApp.iopub_msg_rate_limit`.\n",
      "\n",
      "Current values:\n",
      "ServerApp.iopub_msg_rate_limit=1000.0 (msgs/sec)\n",
      "ServerApp.rate_limit_window=3.0 (secs)\n",
      "\n"
     ]
    },
    {
     "name": "stdout",
     "output_type": "stream",
     "text": [
      " (42.97%) [=====================>                             ]\r"
     ]
    },
    {
     "name": "stderr",
     "output_type": "stream",
     "text": [
      "IOPub message rate exceeded.\n",
      "The Jupyter server will temporarily stop sending output\n",
      "to the client in order to avoid crashing it.\n",
      "To change this limit, set the config variable\n",
      "`--ServerApp.iopub_msg_rate_limit`.\n",
      "\n",
      "Current values:\n",
      "ServerApp.iopub_msg_rate_limit=1000.0 (msgs/sec)\n",
      "ServerApp.rate_limit_window=3.0 (secs)\n",
      "\n"
     ]
    },
    {
     "name": "stdout",
     "output_type": "stream",
     "text": [
      " (44.74%) [======================>                            ]=====================>                             ]======================>                            ]\r"
     ]
    },
    {
     "name": "stderr",
     "output_type": "stream",
     "text": [
      "IOPub message rate exceeded.\n",
      "The Jupyter server will temporarily stop sending output\n",
      "to the client in order to avoid crashing it.\n",
      "To change this limit, set the config variable\n",
      "`--ServerApp.iopub_msg_rate_limit`.\n",
      "\n",
      "Current values:\n",
      "ServerApp.iopub_msg_rate_limit=1000.0 (msgs/sec)\n",
      "ServerApp.rate_limit_window=3.0 (secs)\n",
      "\n"
     ]
    },
    {
     "name": "stdout",
     "output_type": "stream",
     "text": [
      " (45.79%) [======================>                            ]                            ]======================>                            ]\r"
     ]
    },
    {
     "name": "stderr",
     "output_type": "stream",
     "text": [
      "IOPub message rate exceeded.\n",
      "The Jupyter server will temporarily stop sending output\n",
      "to the client in order to avoid crashing it.\n",
      "To change this limit, set the config variable\n",
      "`--ServerApp.iopub_msg_rate_limit`.\n",
      "\n",
      "Current values:\n",
      "ServerApp.iopub_msg_rate_limit=1000.0 (msgs/sec)\n",
      "ServerApp.rate_limit_window=3.0 (secs)\n",
      "\n"
     ]
    },
    {
     "name": "stdout",
     "output_type": "stream",
     "text": [
      " (46.47%) [=======================>                           ]=======================>                           ]\r"
     ]
    },
    {
     "name": "stderr",
     "output_type": "stream",
     "text": [
      "IOPub message rate exceeded.\n",
      "The Jupyter server will temporarily stop sending output\n",
      "to the client in order to avoid crashing it.\n",
      "To change this limit, set the config variable\n",
      "`--ServerApp.iopub_msg_rate_limit`.\n",
      "\n",
      "Current values:\n",
      "ServerApp.iopub_msg_rate_limit=1000.0 (msgs/sec)\n",
      "ServerApp.rate_limit_window=3.0 (secs)\n",
      "\n"
     ]
    },
    {
     "name": "stdout",
     "output_type": "stream",
     "text": [
      " (47.67%) [=======================>                           ]\r"
     ]
    },
    {
     "name": "stderr",
     "output_type": "stream",
     "text": [
      "IOPub message rate exceeded.\n",
      "The Jupyter server will temporarily stop sending output\n",
      "to the client in order to avoid crashing it.\n",
      "To change this limit, set the config variable\n",
      "`--ServerApp.iopub_msg_rate_limit`.\n",
      "\n",
      "Current values:\n",
      "ServerApp.iopub_msg_rate_limit=1000.0 (msgs/sec)\n",
      "ServerApp.rate_limit_window=3.0 (secs)\n",
      "\n"
     ]
    },
    {
     "name": "stdout",
     "output_type": "stream",
     "text": [
      " (48.94%) [========================>                          ]========================>                          ]========================>                          ]========================>                          ]\r"
     ]
    },
    {
     "name": "stderr",
     "output_type": "stream",
     "text": [
      "IOPub message rate exceeded.\n",
      "The Jupyter server will temporarily stop sending output\n",
      "to the client in order to avoid crashing it.\n",
      "To change this limit, set the config variable\n",
      "`--ServerApp.iopub_msg_rate_limit`.\n",
      "\n",
      "Current values:\n",
      "ServerApp.iopub_msg_rate_limit=1000.0 (msgs/sec)\n",
      "ServerApp.rate_limit_window=3.0 (secs)\n",
      "\n"
     ]
    },
    {
     "name": "stdout",
     "output_type": "stream",
     "text": [
      " (50.28%) [=========================>                         ]========================>                          ]========================>                          ]========================>                          ]\r"
     ]
    },
    {
     "name": "stderr",
     "output_type": "stream",
     "text": [
      "IOPub message rate exceeded.\n",
      "The Jupyter server will temporarily stop sending output\n",
      "to the client in order to avoid crashing it.\n",
      "To change this limit, set the config variable\n",
      "`--ServerApp.iopub_msg_rate_limit`.\n",
      "\n",
      "Current values:\n",
      "ServerApp.iopub_msg_rate_limit=1000.0 (msgs/sec)\n",
      "ServerApp.rate_limit_window=3.0 (secs)\n",
      "\n"
     ]
    },
    {
     "name": "stdout",
     "output_type": "stream",
     "text": [
      " (51.39%) [=========================>                         ]\r"
     ]
    },
    {
     "name": "stderr",
     "output_type": "stream",
     "text": [
      "IOPub message rate exceeded.\n",
      "The Jupyter server will temporarily stop sending output\n",
      "to the client in order to avoid crashing it.\n",
      "To change this limit, set the config variable\n",
      "`--ServerApp.iopub_msg_rate_limit`.\n",
      "\n",
      "Current values:\n",
      "ServerApp.iopub_msg_rate_limit=1000.0 (msgs/sec)\n",
      "ServerApp.rate_limit_window=3.0 (secs)\n",
      "\n"
     ]
    },
    {
     "name": "stdout",
     "output_type": "stream",
     "text": [
      " (51.75%) [=========================>                         ]=========================>                         ]\r"
     ]
    },
    {
     "name": "stderr",
     "output_type": "stream",
     "text": [
      "IOPub message rate exceeded.\n",
      "The Jupyter server will temporarily stop sending output\n",
      "to the client in order to avoid crashing it.\n",
      "To change this limit, set the config variable\n",
      "`--ServerApp.iopub_msg_rate_limit`.\n",
      "\n",
      "Current values:\n",
      "ServerApp.iopub_msg_rate_limit=1000.0 (msgs/sec)\n",
      "ServerApp.rate_limit_window=3.0 (secs)\n",
      "\n"
     ]
    },
    {
     "name": "stdout",
     "output_type": "stream",
     "text": [
      " (54.18%) [===========================>                       ]==========================>                        ]==========================>                        ]==========================>                        ]==========================>                        ]===========================>                       ]\r"
     ]
    },
    {
     "name": "stderr",
     "output_type": "stream",
     "text": [
      "IOPub message rate exceeded.\n",
      "The Jupyter server will temporarily stop sending output\n",
      "to the client in order to avoid crashing it.\n",
      "To change this limit, set the config variable\n",
      "`--ServerApp.iopub_msg_rate_limit`.\n",
      "\n",
      "Current values:\n",
      "ServerApp.iopub_msg_rate_limit=1000.0 (msgs/sec)\n",
      "ServerApp.rate_limit_window=3.0 (secs)\n",
      "\n"
     ]
    },
    {
     "name": "stdout",
     "output_type": "stream",
     "text": [
      " (56.03%) [============================>                      ]\r"
     ]
    },
    {
     "name": "stderr",
     "output_type": "stream",
     "text": [
      "IOPub message rate exceeded.\n",
      "The Jupyter server will temporarily stop sending output\n",
      "to the client in order to avoid crashing it.\n",
      "To change this limit, set the config variable\n",
      "`--ServerApp.iopub_msg_rate_limit`.\n",
      "\n",
      "Current values:\n",
      "ServerApp.iopub_msg_rate_limit=1000.0 (msgs/sec)\n",
      "ServerApp.rate_limit_window=3.0 (secs)\n",
      "\n"
     ]
    },
    {
     "name": "stdout",
     "output_type": "stream",
     "text": [
      " (56.59%) [============================>                      ]\r"
     ]
    },
    {
     "name": "stderr",
     "output_type": "stream",
     "text": [
      "IOPub message rate exceeded.\n",
      "The Jupyter server will temporarily stop sending output\n",
      "to the client in order to avoid crashing it.\n",
      "To change this limit, set the config variable\n",
      "`--ServerApp.iopub_msg_rate_limit`.\n",
      "\n",
      "Current values:\n",
      "ServerApp.iopub_msg_rate_limit=1000.0 (msgs/sec)\n",
      "ServerApp.rate_limit_window=3.0 (secs)\n",
      "\n"
     ]
    },
    {
     "name": "stdout",
     "output_type": "stream",
     "text": [
      " (58.48%) [=============================>                     ]============================>                      ]============================>                      ]============================>                      ]\r"
     ]
    },
    {
     "name": "stderr",
     "output_type": "stream",
     "text": [
      "IOPub message rate exceeded.\n",
      "The Jupyter server will temporarily stop sending output\n",
      "to the client in order to avoid crashing it.\n",
      "To change this limit, set the config variable\n",
      "`--ServerApp.iopub_msg_rate_limit`.\n",
      "\n",
      "Current values:\n",
      "ServerApp.iopub_msg_rate_limit=1000.0 (msgs/sec)\n",
      "ServerApp.rate_limit_window=3.0 (secs)\n",
      "\n"
     ]
    },
    {
     "name": "stdout",
     "output_type": "stream",
     "text": [
      " (60.38%) [==============================>                    ]=============================>                     ]=============================>                     ]==============================>                    ]\r"
     ]
    },
    {
     "name": "stderr",
     "output_type": "stream",
     "text": [
      "IOPub message rate exceeded.\n",
      "The Jupyter server will temporarily stop sending output\n",
      "to the client in order to avoid crashing it.\n",
      "To change this limit, set the config variable\n",
      "`--ServerApp.iopub_msg_rate_limit`.\n",
      "\n",
      "Current values:\n",
      "ServerApp.iopub_msg_rate_limit=1000.0 (msgs/sec)\n",
      "ServerApp.rate_limit_window=3.0 (secs)\n",
      "\n"
     ]
    },
    {
     "name": "stdout",
     "output_type": "stream",
     "text": [
      " (60.64%) [==============================>                    ]\r"
     ]
    },
    {
     "name": "stderr",
     "output_type": "stream",
     "text": [
      "IOPub message rate exceeded.\n",
      "The Jupyter server will temporarily stop sending output\n",
      "to the client in order to avoid crashing it.\n",
      "To change this limit, set the config variable\n",
      "`--ServerApp.iopub_msg_rate_limit`.\n",
      "\n",
      "Current values:\n",
      "ServerApp.iopub_msg_rate_limit=1000.0 (msgs/sec)\n",
      "ServerApp.rate_limit_window=3.0 (secs)\n",
      "\n"
     ]
    },
    {
     "name": "stdout",
     "output_type": "stream",
     "text": [
      " (62.32%) [===============================>                   ]==============================>                    ]===============================>                   ]===============================>                   ]===============================>                   ]===============================>                   ]\r"
     ]
    },
    {
     "name": "stderr",
     "output_type": "stream",
     "text": [
      "IOPub message rate exceeded.\n",
      "The Jupyter server will temporarily stop sending output\n",
      "to the client in order to avoid crashing it.\n",
      "To change this limit, set the config variable\n",
      "`--ServerApp.iopub_msg_rate_limit`.\n",
      "\n",
      "Current values:\n",
      "ServerApp.iopub_msg_rate_limit=1000.0 (msgs/sec)\n",
      "ServerApp.rate_limit_window=3.0 (secs)\n",
      "\n"
     ]
    },
    {
     "name": "stdout",
     "output_type": "stream",
     "text": [
      " (62.69%) [===============================>                   ]===============================>                   ]===============================>                   ]===============================>                   ]===============================>                   ]===============================>                   ]===============================>                   ]===============================>                   ]===============================>                   ]===============================>                   ]\r"
     ]
    },
    {
     "name": "stderr",
     "output_type": "stream",
     "text": [
      "IOPub message rate exceeded.\n",
      "The Jupyter server will temporarily stop sending output\n",
      "to the client in order to avoid crashing it.\n",
      "To change this limit, set the config variable\n",
      "`--ServerApp.iopub_msg_rate_limit`.\n",
      "\n",
      "Current values:\n",
      "ServerApp.iopub_msg_rate_limit=1000.0 (msgs/sec)\n",
      "ServerApp.rate_limit_window=3.0 (secs)\n",
      "\n"
     ]
    },
    {
     "name": "stdout",
     "output_type": "stream",
     "text": [
      " (64.85%) [================================>                  ]===============================>                   ]================================>                  ]================================>                  ]================================>                  ]\r"
     ]
    },
    {
     "name": "stderr",
     "output_type": "stream",
     "text": [
      "IOPub message rate exceeded.\n",
      "The Jupyter server will temporarily stop sending output\n",
      "to the client in order to avoid crashing it.\n",
      "To change this limit, set the config variable\n",
      "`--ServerApp.iopub_msg_rate_limit`.\n",
      "\n",
      "Current values:\n",
      "ServerApp.iopub_msg_rate_limit=1000.0 (msgs/sec)\n",
      "ServerApp.rate_limit_window=3.0 (secs)\n",
      "\n"
     ]
    },
    {
     "name": "stdout",
     "output_type": "stream",
     "text": [
      " (66.70%) [=================================>                 ]================================>                  ]================================>                  ]================================>                  ]=================================>                 ]=================================>                 ]=================================>                 ]\r"
     ]
    },
    {
     "name": "stderr",
     "output_type": "stream",
     "text": [
      "IOPub message rate exceeded.\n",
      "The Jupyter server will temporarily stop sending output\n",
      "to the client in order to avoid crashing it.\n",
      "To change this limit, set the config variable\n",
      "`--ServerApp.iopub_msg_rate_limit`.\n",
      "\n",
      "Current values:\n",
      "ServerApp.iopub_msg_rate_limit=1000.0 (msgs/sec)\n",
      "ServerApp.rate_limit_window=3.0 (secs)\n",
      "\n"
     ]
    },
    {
     "name": "stdout",
     "output_type": "stream",
     "text": [
      " (67.29%) [=================================>                 ]=================================>                 ]=================================>                 ]=================================>                 ]=================================>                 ]\r"
     ]
    },
    {
     "name": "stderr",
     "output_type": "stream",
     "text": [
      "IOPub message rate exceeded.\n",
      "The Jupyter server will temporarily stop sending output\n",
      "to the client in order to avoid crashing it.\n",
      "To change this limit, set the config variable\n",
      "`--ServerApp.iopub_msg_rate_limit`.\n",
      "\n",
      "Current values:\n",
      "ServerApp.iopub_msg_rate_limit=1000.0 (msgs/sec)\n",
      "ServerApp.rate_limit_window=3.0 (secs)\n",
      "\n"
     ]
    },
    {
     "name": "stdout",
     "output_type": "stream",
     "text": [
      " (69.83%) [==================================>                ]\r"
     ]
    },
    {
     "name": "stderr",
     "output_type": "stream",
     "text": [
      "IOPub message rate exceeded.\n",
      "The Jupyter server will temporarily stop sending output\n",
      "to the client in order to avoid crashing it.\n",
      "To change this limit, set the config variable\n",
      "`--ServerApp.iopub_msg_rate_limit`.\n",
      "\n",
      "Current values:\n",
      "ServerApp.iopub_msg_rate_limit=1000.0 (msgs/sec)\n",
      "ServerApp.rate_limit_window=3.0 (secs)\n",
      "\n"
     ]
    },
    {
     "name": "stdout",
     "output_type": "stream",
     "text": [
      " (71.34%) [===================================>               ]===================================>               ]===================================>               ]\r"
     ]
    },
    {
     "name": "stderr",
     "output_type": "stream",
     "text": [
      "IOPub message rate exceeded.\n",
      "The Jupyter server will temporarily stop sending output\n",
      "to the client in order to avoid crashing it.\n",
      "To change this limit, set the config variable\n",
      "`--ServerApp.iopub_msg_rate_limit`.\n",
      "\n",
      "Current values:\n",
      "ServerApp.iopub_msg_rate_limit=1000.0 (msgs/sec)\n",
      "ServerApp.rate_limit_window=3.0 (secs)\n",
      "\n"
     ]
    },
    {
     "name": "stdout",
     "output_type": "stream",
     "text": [
      " (72.15%) [====================================>              ]===================================>               ]===================================>               ]===================================>               ]===================================>               ]\r"
     ]
    },
    {
     "name": "stderr",
     "output_type": "stream",
     "text": [
      "IOPub message rate exceeded.\n",
      "The Jupyter server will temporarily stop sending output\n",
      "to the client in order to avoid crashing it.\n",
      "To change this limit, set the config variable\n",
      "`--ServerApp.iopub_msg_rate_limit`.\n",
      "\n",
      "Current values:\n",
      "ServerApp.iopub_msg_rate_limit=1000.0 (msgs/sec)\n",
      "ServerApp.rate_limit_window=3.0 (secs)\n",
      "\n"
     ]
    },
    {
     "name": "stdout",
     "output_type": "stream",
     "text": [
      " (73.44%) [====================================>              ]====================================>              ]\r"
     ]
    },
    {
     "name": "stderr",
     "output_type": "stream",
     "text": [
      "IOPub message rate exceeded.\n",
      "The Jupyter server will temporarily stop sending output\n",
      "to the client in order to avoid crashing it.\n",
      "To change this limit, set the config variable\n",
      "`--ServerApp.iopub_msg_rate_limit`.\n",
      "\n",
      "Current values:\n",
      "ServerApp.iopub_msg_rate_limit=1000.0 (msgs/sec)\n",
      "ServerApp.rate_limit_window=3.0 (secs)\n",
      "\n"
     ]
    },
    {
     "name": "stdout",
     "output_type": "stream",
     "text": [
      " (73.79%) [====================================>              ]\r"
     ]
    },
    {
     "name": "stderr",
     "output_type": "stream",
     "text": [
      "IOPub message rate exceeded.\n",
      "The Jupyter server will temporarily stop sending output\n",
      "to the client in order to avoid crashing it.\n",
      "To change this limit, set the config variable\n",
      "`--ServerApp.iopub_msg_rate_limit`.\n",
      "\n",
      "Current values:\n",
      "ServerApp.iopub_msg_rate_limit=1000.0 (msgs/sec)\n",
      "ServerApp.rate_limit_window=3.0 (secs)\n",
      "\n"
     ]
    },
    {
     "name": "stdout",
     "output_type": "stream",
     "text": [
      " (75.96%) [=====================================>             ]=====================================>             ]=====================================>             ]\r"
     ]
    },
    {
     "name": "stderr",
     "output_type": "stream",
     "text": [
      "IOPub message rate exceeded.\n",
      "The Jupyter server will temporarily stop sending output\n",
      "to the client in order to avoid crashing it.\n",
      "To change this limit, set the config variable\n",
      "`--ServerApp.iopub_msg_rate_limit`.\n",
      "\n",
      "Current values:\n",
      "ServerApp.iopub_msg_rate_limit=1000.0 (msgs/sec)\n",
      "ServerApp.rate_limit_window=3.0 (secs)\n",
      "\n"
     ]
    },
    {
     "name": "stdout",
     "output_type": "stream",
     "text": [
      " (77.80%) [======================================>            ]======================================>            ]======================================>            ]\r"
     ]
    },
    {
     "name": "stderr",
     "output_type": "stream",
     "text": [
      "IOPub message rate exceeded.\n",
      "The Jupyter server will temporarily stop sending output\n",
      "to the client in order to avoid crashing it.\n",
      "To change this limit, set the config variable\n",
      "`--ServerApp.iopub_msg_rate_limit`.\n",
      "\n",
      "Current values:\n",
      "ServerApp.iopub_msg_rate_limit=1000.0 (msgs/sec)\n",
      "ServerApp.rate_limit_window=3.0 (secs)\n",
      "\n"
     ]
    },
    {
     "name": "stdout",
     "output_type": "stream",
     "text": [
      " (78.15%) [=======================================>           ]\r"
     ]
    },
    {
     "name": "stderr",
     "output_type": "stream",
     "text": [
      "IOPub message rate exceeded.\n",
      "The Jupyter server will temporarily stop sending output\n",
      "to the client in order to avoid crashing it.\n",
      "To change this limit, set the config variable\n",
      "`--ServerApp.iopub_msg_rate_limit`.\n",
      "\n",
      "Current values:\n",
      "ServerApp.iopub_msg_rate_limit=1000.0 (msgs/sec)\n",
      "ServerApp.rate_limit_window=3.0 (secs)\n",
      "\n"
     ]
    },
    {
     "name": "stdout",
     "output_type": "stream",
     "text": [
      " (79.97%) [=======================================>           ]=======================================>           ]=======================================>           ]=======================================>           ]\r"
     ]
    },
    {
     "name": "stderr",
     "output_type": "stream",
     "text": [
      "IOPub message rate exceeded.\n",
      "The Jupyter server will temporarily stop sending output\n",
      "to the client in order to avoid crashing it.\n",
      "To change this limit, set the config variable\n",
      "`--ServerApp.iopub_msg_rate_limit`.\n",
      "\n",
      "Current values:\n",
      "ServerApp.iopub_msg_rate_limit=1000.0 (msgs/sec)\n",
      "ServerApp.rate_limit_window=3.0 (secs)\n",
      "\n"
     ]
    },
    {
     "name": "stdout",
     "output_type": "stream",
     "text": [
      " (81.03%) [========================================>          ]\r"
     ]
    },
    {
     "name": "stderr",
     "output_type": "stream",
     "text": [
      "IOPub message rate exceeded.\n",
      "The Jupyter server will temporarily stop sending output\n",
      "to the client in order to avoid crashing it.\n",
      "To change this limit, set the config variable\n",
      "`--ServerApp.iopub_msg_rate_limit`.\n",
      "\n",
      "Current values:\n",
      "ServerApp.iopub_msg_rate_limit=1000.0 (msgs/sec)\n",
      "ServerApp.rate_limit_window=3.0 (secs)\n",
      "\n"
     ]
    },
    {
     "name": "stdout",
     "output_type": "stream",
     "text": [
      " (82.34%) [=========================================>         ]========================================>          ]\r"
     ]
    },
    {
     "name": "stderr",
     "output_type": "stream",
     "text": [
      "IOPub message rate exceeded.\n",
      "The Jupyter server will temporarily stop sending output\n",
      "to the client in order to avoid crashing it.\n",
      "To change this limit, set the config variable\n",
      "`--ServerApp.iopub_msg_rate_limit`.\n",
      "\n",
      "Current values:\n",
      "ServerApp.iopub_msg_rate_limit=1000.0 (msgs/sec)\n",
      "ServerApp.rate_limit_window=3.0 (secs)\n",
      "\n"
     ]
    },
    {
     "name": "stdout",
     "output_type": "stream",
     "text": [
      " (83.19%) [=========================================>         ]\r"
     ]
    },
    {
     "name": "stderr",
     "output_type": "stream",
     "text": [
      "IOPub message rate exceeded.\n",
      "The Jupyter server will temporarily stop sending output\n",
      "to the client in order to avoid crashing it.\n",
      "To change this limit, set the config variable\n",
      "`--ServerApp.iopub_msg_rate_limit`.\n",
      "\n",
      "Current values:\n",
      "ServerApp.iopub_msg_rate_limit=1000.0 (msgs/sec)\n",
      "ServerApp.rate_limit_window=3.0 (secs)\n",
      "\n"
     ]
    },
    {
     "name": "stdout",
     "output_type": "stream",
     "text": [
      " (84.15%) [==========================================>        ]=========================================>         ]=========================================>         ]=========================================>         ]=========================================>         ]==========================================>        ]\r"
     ]
    },
    {
     "name": "stderr",
     "output_type": "stream",
     "text": [
      "IOPub message rate exceeded.\n",
      "The Jupyter server will temporarily stop sending output\n",
      "to the client in order to avoid crashing it.\n",
      "To change this limit, set the config variable\n",
      "`--ServerApp.iopub_msg_rate_limit`.\n",
      "\n",
      "Current values:\n",
      "ServerApp.iopub_msg_rate_limit=1000.0 (msgs/sec)\n",
      "ServerApp.rate_limit_window=3.0 (secs)\n",
      "\n"
     ]
    },
    {
     "name": "stdout",
     "output_type": "stream",
     "text": [
      " (84.51%) [==========================================>        ]\r"
     ]
    },
    {
     "name": "stderr",
     "output_type": "stream",
     "text": [
      "IOPub message rate exceeded.\n",
      "The Jupyter server will temporarily stop sending output\n",
      "to the client in order to avoid crashing it.\n",
      "To change this limit, set the config variable\n",
      "`--ServerApp.iopub_msg_rate_limit`.\n",
      "\n",
      "Current values:\n",
      "ServerApp.iopub_msg_rate_limit=1000.0 (msgs/sec)\n",
      "ServerApp.rate_limit_window=3.0 (secs)\n",
      "\n"
     ]
    },
    {
     "name": "stdout",
     "output_type": "stream",
     "text": [
      " (86.04%) [===========================================>       ]==========================================>        ]==========================================>        ]==========================================>        ]\r"
     ]
    },
    {
     "name": "stderr",
     "output_type": "stream",
     "text": [
      "IOPub message rate exceeded.\n",
      "The Jupyter server will temporarily stop sending output\n",
      "to the client in order to avoid crashing it.\n",
      "To change this limit, set the config variable\n",
      "`--ServerApp.iopub_msg_rate_limit`.\n",
      "\n",
      "Current values:\n",
      "ServerApp.iopub_msg_rate_limit=1000.0 (msgs/sec)\n",
      "ServerApp.rate_limit_window=3.0 (secs)\n",
      "\n"
     ]
    },
    {
     "name": "stdout",
     "output_type": "stream",
     "text": [
      " (87.46%) [===========================================>       ]\r"
     ]
    },
    {
     "name": "stderr",
     "output_type": "stream",
     "text": [
      "IOPub message rate exceeded.\n",
      "The Jupyter server will temporarily stop sending output\n",
      "to the client in order to avoid crashing it.\n",
      "To change this limit, set the config variable\n",
      "`--ServerApp.iopub_msg_rate_limit`.\n",
      "\n",
      "Current values:\n",
      "ServerApp.iopub_msg_rate_limit=1000.0 (msgs/sec)\n",
      "ServerApp.rate_limit_window=3.0 (secs)\n",
      "\n"
     ]
    },
    {
     "name": "stdout",
     "output_type": "stream",
     "text": [
      " (88.25%) [============================================>      ]============================================>      ]\r"
     ]
    },
    {
     "name": "stderr",
     "output_type": "stream",
     "text": [
      "IOPub message rate exceeded.\n",
      "The Jupyter server will temporarily stop sending output\n",
      "to the client in order to avoid crashing it.\n",
      "To change this limit, set the config variable\n",
      "`--ServerApp.iopub_msg_rate_limit`.\n",
      "\n",
      "Current values:\n",
      "ServerApp.iopub_msg_rate_limit=1000.0 (msgs/sec)\n",
      "ServerApp.rate_limit_window=3.0 (secs)\n",
      "\n"
     ]
    },
    {
     "name": "stdout",
     "output_type": "stream",
     "text": [
      " (89.44%) [============================================>      ]\r"
     ]
    },
    {
     "name": "stderr",
     "output_type": "stream",
     "text": [
      "IOPub message rate exceeded.\n",
      "The Jupyter server will temporarily stop sending output\n",
      "to the client in order to avoid crashing it.\n",
      "To change this limit, set the config variable\n",
      "`--ServerApp.iopub_msg_rate_limit`.\n",
      "\n",
      "Current values:\n",
      "ServerApp.iopub_msg_rate_limit=1000.0 (msgs/sec)\n",
      "ServerApp.rate_limit_window=3.0 (secs)\n",
      "\n"
     ]
    },
    {
     "name": "stdout",
     "output_type": "stream",
     "text": [
      " (90.94%) [=============================================>     ]=============================================>     ]\r"
     ]
    },
    {
     "name": "stderr",
     "output_type": "stream",
     "text": [
      "IOPub message rate exceeded.\n",
      "The Jupyter server will temporarily stop sending output\n",
      "to the client in order to avoid crashing it.\n",
      "To change this limit, set the config variable\n",
      "`--ServerApp.iopub_msg_rate_limit`.\n",
      "\n",
      "Current values:\n",
      "ServerApp.iopub_msg_rate_limit=1000.0 (msgs/sec)\n",
      "ServerApp.rate_limit_window=3.0 (secs)\n",
      "\n"
     ]
    },
    {
     "name": "stdout",
     "output_type": "stream",
     "text": [
      " (93.22%) [==============================================>    ]=============================================>     ]==============================================>    ]\r"
     ]
    },
    {
     "name": "stderr",
     "output_type": "stream",
     "text": [
      "IOPub message rate exceeded.\n",
      "The Jupyter server will temporarily stop sending output\n",
      "to the client in order to avoid crashing it.\n",
      "To change this limit, set the config variable\n",
      "`--ServerApp.iopub_msg_rate_limit`.\n",
      "\n",
      "Current values:\n",
      "ServerApp.iopub_msg_rate_limit=1000.0 (msgs/sec)\n",
      "ServerApp.rate_limit_window=3.0 (secs)\n",
      "\n"
     ]
    },
    {
     "name": "stdout",
     "output_type": "stream",
     "text": [
      " (95.05%) [===============================================>   ]===============================================>   ]===============================================>   ]\r"
     ]
    },
    {
     "name": "stderr",
     "output_type": "stream",
     "text": [
      "IOPub message rate exceeded.\n",
      "The Jupyter server will temporarily stop sending output\n",
      "to the client in order to avoid crashing it.\n",
      "To change this limit, set the config variable\n",
      "`--ServerApp.iopub_msg_rate_limit`.\n",
      "\n",
      "Current values:\n",
      "ServerApp.iopub_msg_rate_limit=1000.0 (msgs/sec)\n",
      "ServerApp.rate_limit_window=3.0 (secs)\n",
      "\n"
     ]
    },
    {
     "name": "stdout",
     "output_type": "stream",
     "text": [
      " (96.42%) [================================================>  ]================================================>  ]\r"
     ]
    },
    {
     "name": "stderr",
     "output_type": "stream",
     "text": [
      "IOPub message rate exceeded.\n",
      "The Jupyter server will temporarily stop sending output\n",
      "to the client in order to avoid crashing it.\n",
      "To change this limit, set the config variable\n",
      "`--ServerApp.iopub_msg_rate_limit`.\n",
      "\n",
      "Current values:\n",
      "ServerApp.iopub_msg_rate_limit=1000.0 (msgs/sec)\n",
      "ServerApp.rate_limit_window=3.0 (secs)\n",
      "\n"
     ]
    },
    {
     "name": "stdout",
     "output_type": "stream",
     "text": [
      " (97.08%) [================================================>  ]\r"
     ]
    },
    {
     "name": "stderr",
     "output_type": "stream",
     "text": [
      "IOPub message rate exceeded.\n",
      "The Jupyter server will temporarily stop sending output\n",
      "to the client in order to avoid crashing it.\n",
      "To change this limit, set the config variable\n",
      "`--ServerApp.iopub_msg_rate_limit`.\n",
      "\n",
      "Current values:\n",
      "ServerApp.iopub_msg_rate_limit=1000.0 (msgs/sec)\n",
      "ServerApp.rate_limit_window=3.0 (secs)\n",
      "\n"
     ]
    },
    {
     "name": "stdout",
     "output_type": "stream",
     "text": [
      " (97.45%) [================================================>  ]\r"
     ]
    },
    {
     "name": "stderr",
     "output_type": "stream",
     "text": [
      "IOPub message rate exceeded.\n",
      "The Jupyter server will temporarily stop sending output\n",
      "to the client in order to avoid crashing it.\n",
      "To change this limit, set the config variable\n",
      "`--ServerApp.iopub_msg_rate_limit`.\n",
      "\n",
      "Current values:\n",
      "ServerApp.iopub_msg_rate_limit=1000.0 (msgs/sec)\n",
      "ServerApp.rate_limit_window=3.0 (secs)\n",
      "\n"
     ]
    },
    {
     "name": "stdout",
     "output_type": "stream",
     "text": [
      " (98.55%) [=================================================> ]\r"
     ]
    },
    {
     "name": "stderr",
     "output_type": "stream",
     "text": [
      "IOPub message rate exceeded.\n",
      "The Jupyter server will temporarily stop sending output\n",
      "to the client in order to avoid crashing it.\n",
      "To change this limit, set the config variable\n",
      "`--ServerApp.iopub_msg_rate_limit`.\n",
      "\n",
      "Current values:\n",
      "ServerApp.iopub_msg_rate_limit=1000.0 (msgs/sec)\n",
      "ServerApp.rate_limit_window=3.0 (secs)\n",
      "\n"
     ]
    },
    {
     "name": "stdout",
     "output_type": "stream",
     "text": [
      " (100.00%) [=================================================> ]================================================> ]=================================================> ]==================================================>]\n"
     ]
    },
    {
     "data": {
      "text/plain": [
       "'cc.ru.300.bin'"
      ]
     },
     "execution_count": 132,
     "metadata": {},
     "output_type": "execute_result"
    }
   ],
   "source": [
    "import fasttext\n",
    "import fasttext.util\n",
    "fasttext.util.download_model('ru', if_exists='ignore')"
   ]
  },
  {
   "cell_type": "code",
   "execution_count": 133,
   "id": "ec323e04",
   "metadata": {},
   "outputs": [
    {
     "name": "stderr",
     "output_type": "stream",
     "text": [
      "Warning : `load_model` does not return WordVectorModel or SupervisedModel any more, but a `FastText` object which is very similar.\n"
     ]
    }
   ],
   "source": [
    "ft = fasttext.load_model('cc.ru.300.bin')"
   ]
  },
  {
   "cell_type": "code",
   "execution_count": 134,
   "id": "a1b60359",
   "metadata": {
    "collapsed": true
   },
   "outputs": [
    {
     "ename": "KeyboardInterrupt",
     "evalue": "",
     "output_type": "error",
     "traceback": [
      "\u001b[0;31m---------------------------------------------------------------------------\u001b[0m",
      "\u001b[0;31mKeyboardInterrupt\u001b[0m                         Traceback (most recent call last)",
      "\u001b[0;32m/tmp/ipykernel_668/1707193629.py\u001b[0m in \u001b[0;36m<module>\u001b[0;34m\u001b[0m\n\u001b[0;32m----> 1\u001b[0;31m \u001b[0mX_train\u001b[0m\u001b[0;34m[\u001b[0m\u001b[0;34m'ft_embedding'\u001b[0m\u001b[0;34m]\u001b[0m \u001b[0;34m=\u001b[0m \u001b[0mX_train\u001b[0m\u001b[0;34m[\u001b[0m\u001b[0;34m'lemmatized_text'\u001b[0m\u001b[0;34m]\u001b[0m\u001b[0;34m.\u001b[0m\u001b[0mapply\u001b[0m\u001b[0;34m(\u001b[0m\u001b[0;32mlambda\u001b[0m \u001b[0mx\u001b[0m\u001b[0;34m:\u001b[0m \u001b[0mget_text_embedding\u001b[0m\u001b[0;34m(\u001b[0m\u001b[0mx\u001b[0m\u001b[0;34m,\u001b[0m \u001b[0mmodel\u001b[0m\u001b[0;34m=\u001b[0m\u001b[0mft\u001b[0m\u001b[0;34m,\u001b[0m \u001b[0membedding_size\u001b[0m\u001b[0;34m=\u001b[0m\u001b[0;36m300\u001b[0m\u001b[0;34m)\u001b[0m\u001b[0;34m)\u001b[0m\u001b[0;34m\u001b[0m\u001b[0;34m\u001b[0m\u001b[0m\n\u001b[0m\u001b[1;32m      2\u001b[0m \u001b[0mprint\u001b[0m\u001b[0;34m(\u001b[0m\u001b[0;34m'train done'\u001b[0m\u001b[0;34m)\u001b[0m\u001b[0;34m\u001b[0m\u001b[0;34m\u001b[0m\u001b[0m\n\u001b[1;32m      3\u001b[0m \u001b[0;34m\u001b[0m\u001b[0m\n\u001b[1;32m      4\u001b[0m \u001b[0mX_test\u001b[0m\u001b[0;34m[\u001b[0m\u001b[0;34m'ft_embedding'\u001b[0m\u001b[0;34m]\u001b[0m \u001b[0;34m=\u001b[0m \u001b[0mX_test\u001b[0m\u001b[0;34m[\u001b[0m\u001b[0;34m'lemmatized_text'\u001b[0m\u001b[0;34m]\u001b[0m\u001b[0;34m.\u001b[0m\u001b[0mapply\u001b[0m\u001b[0;34m(\u001b[0m\u001b[0;32mlambda\u001b[0m \u001b[0mx\u001b[0m\u001b[0;34m:\u001b[0m \u001b[0mget_text_embedding\u001b[0m\u001b[0;34m(\u001b[0m\u001b[0mx\u001b[0m\u001b[0;34m,\u001b[0m \u001b[0mmodel\u001b[0m\u001b[0;34m=\u001b[0m\u001b[0mft\u001b[0m\u001b[0;34m,\u001b[0m \u001b[0membedding_size\u001b[0m\u001b[0;34m=\u001b[0m\u001b[0;36m300\u001b[0m\u001b[0;34m)\u001b[0m\u001b[0;34m)\u001b[0m\u001b[0;34m\u001b[0m\u001b[0;34m\u001b[0m\u001b[0m\n",
      "\u001b[0;32m/opt/conda/lib/python3.7/site-packages/pandas/core/series.py\u001b[0m in \u001b[0;36mapply\u001b[0;34m(self, func, convert_dtype, args, **kwargs)\u001b[0m\n\u001b[1;32m   4355\u001b[0m         \u001b[0mdtype\u001b[0m\u001b[0;34m:\u001b[0m \u001b[0mfloat64\u001b[0m\u001b[0;34m\u001b[0m\u001b[0;34m\u001b[0m\u001b[0m\n\u001b[1;32m   4356\u001b[0m         \"\"\"\n\u001b[0;32m-> 4357\u001b[0;31m         \u001b[0;32mreturn\u001b[0m \u001b[0mSeriesApply\u001b[0m\u001b[0;34m(\u001b[0m\u001b[0mself\u001b[0m\u001b[0;34m,\u001b[0m \u001b[0mfunc\u001b[0m\u001b[0;34m,\u001b[0m \u001b[0mconvert_dtype\u001b[0m\u001b[0;34m,\u001b[0m \u001b[0margs\u001b[0m\u001b[0;34m,\u001b[0m \u001b[0mkwargs\u001b[0m\u001b[0;34m)\u001b[0m\u001b[0;34m.\u001b[0m\u001b[0mapply\u001b[0m\u001b[0;34m(\u001b[0m\u001b[0;34m)\u001b[0m\u001b[0;34m\u001b[0m\u001b[0;34m\u001b[0m\u001b[0m\n\u001b[0m\u001b[1;32m   4358\u001b[0m \u001b[0;34m\u001b[0m\u001b[0m\n\u001b[1;32m   4359\u001b[0m     def _reduce(\n",
      "\u001b[0;32m/opt/conda/lib/python3.7/site-packages/pandas/core/apply.py\u001b[0m in \u001b[0;36mapply\u001b[0;34m(self)\u001b[0m\n\u001b[1;32m   1041\u001b[0m             \u001b[0;32mreturn\u001b[0m \u001b[0mself\u001b[0m\u001b[0;34m.\u001b[0m\u001b[0mapply_str\u001b[0m\u001b[0;34m(\u001b[0m\u001b[0;34m)\u001b[0m\u001b[0;34m\u001b[0m\u001b[0;34m\u001b[0m\u001b[0m\n\u001b[1;32m   1042\u001b[0m \u001b[0;34m\u001b[0m\u001b[0m\n\u001b[0;32m-> 1043\u001b[0;31m         \u001b[0;32mreturn\u001b[0m \u001b[0mself\u001b[0m\u001b[0;34m.\u001b[0m\u001b[0mapply_standard\u001b[0m\u001b[0;34m(\u001b[0m\u001b[0;34m)\u001b[0m\u001b[0;34m\u001b[0m\u001b[0;34m\u001b[0m\u001b[0m\n\u001b[0m\u001b[1;32m   1044\u001b[0m \u001b[0;34m\u001b[0m\u001b[0m\n\u001b[1;32m   1045\u001b[0m     \u001b[0;32mdef\u001b[0m \u001b[0magg\u001b[0m\u001b[0;34m(\u001b[0m\u001b[0mself\u001b[0m\u001b[0;34m)\u001b[0m\u001b[0;34m:\u001b[0m\u001b[0;34m\u001b[0m\u001b[0;34m\u001b[0m\u001b[0m\n",
      "\u001b[0;32m/opt/conda/lib/python3.7/site-packages/pandas/core/apply.py\u001b[0m in \u001b[0;36mapply_standard\u001b[0;34m(self)\u001b[0m\n\u001b[1;32m   1099\u001b[0m                     \u001b[0mvalues\u001b[0m\u001b[0;34m,\u001b[0m\u001b[0;34m\u001b[0m\u001b[0;34m\u001b[0m\u001b[0m\n\u001b[1;32m   1100\u001b[0m                     \u001b[0mf\u001b[0m\u001b[0;34m,\u001b[0m  \u001b[0;31m# type: ignore[arg-type]\u001b[0m\u001b[0;34m\u001b[0m\u001b[0;34m\u001b[0m\u001b[0m\n\u001b[0;32m-> 1101\u001b[0;31m                     \u001b[0mconvert\u001b[0m\u001b[0;34m=\u001b[0m\u001b[0mself\u001b[0m\u001b[0;34m.\u001b[0m\u001b[0mconvert_dtype\u001b[0m\u001b[0;34m,\u001b[0m\u001b[0;34m\u001b[0m\u001b[0;34m\u001b[0m\u001b[0m\n\u001b[0m\u001b[1;32m   1102\u001b[0m                 )\n\u001b[1;32m   1103\u001b[0m \u001b[0;34m\u001b[0m\u001b[0m\n",
      "\u001b[0;32m/opt/conda/lib/python3.7/site-packages/pandas/_libs/lib.pyx\u001b[0m in \u001b[0;36mpandas._libs.lib.map_infer\u001b[0;34m()\u001b[0m\n",
      "\u001b[0;32m/tmp/ipykernel_668/1707193629.py\u001b[0m in \u001b[0;36m<lambda>\u001b[0;34m(x)\u001b[0m\n\u001b[0;32m----> 1\u001b[0;31m \u001b[0mX_train\u001b[0m\u001b[0;34m[\u001b[0m\u001b[0;34m'ft_embedding'\u001b[0m\u001b[0;34m]\u001b[0m \u001b[0;34m=\u001b[0m \u001b[0mX_train\u001b[0m\u001b[0;34m[\u001b[0m\u001b[0;34m'lemmatized_text'\u001b[0m\u001b[0;34m]\u001b[0m\u001b[0;34m.\u001b[0m\u001b[0mapply\u001b[0m\u001b[0;34m(\u001b[0m\u001b[0;32mlambda\u001b[0m \u001b[0mx\u001b[0m\u001b[0;34m:\u001b[0m \u001b[0mget_text_embedding\u001b[0m\u001b[0;34m(\u001b[0m\u001b[0mx\u001b[0m\u001b[0;34m,\u001b[0m \u001b[0mmodel\u001b[0m\u001b[0;34m=\u001b[0m\u001b[0mft\u001b[0m\u001b[0;34m,\u001b[0m \u001b[0membedding_size\u001b[0m\u001b[0;34m=\u001b[0m\u001b[0;36m300\u001b[0m\u001b[0;34m)\u001b[0m\u001b[0;34m)\u001b[0m\u001b[0;34m\u001b[0m\u001b[0;34m\u001b[0m\u001b[0m\n\u001b[0m\u001b[1;32m      2\u001b[0m \u001b[0mprint\u001b[0m\u001b[0;34m(\u001b[0m\u001b[0;34m'train done'\u001b[0m\u001b[0;34m)\u001b[0m\u001b[0;34m\u001b[0m\u001b[0;34m\u001b[0m\u001b[0m\n\u001b[1;32m      3\u001b[0m \u001b[0;34m\u001b[0m\u001b[0m\n\u001b[1;32m      4\u001b[0m \u001b[0mX_test\u001b[0m\u001b[0;34m[\u001b[0m\u001b[0;34m'ft_embedding'\u001b[0m\u001b[0;34m]\u001b[0m \u001b[0;34m=\u001b[0m \u001b[0mX_test\u001b[0m\u001b[0;34m[\u001b[0m\u001b[0;34m'lemmatized_text'\u001b[0m\u001b[0;34m]\u001b[0m\u001b[0;34m.\u001b[0m\u001b[0mapply\u001b[0m\u001b[0;34m(\u001b[0m\u001b[0;32mlambda\u001b[0m \u001b[0mx\u001b[0m\u001b[0;34m:\u001b[0m \u001b[0mget_text_embedding\u001b[0m\u001b[0;34m(\u001b[0m\u001b[0mx\u001b[0m\u001b[0;34m,\u001b[0m \u001b[0mmodel\u001b[0m\u001b[0;34m=\u001b[0m\u001b[0mft\u001b[0m\u001b[0;34m,\u001b[0m \u001b[0membedding_size\u001b[0m\u001b[0;34m=\u001b[0m\u001b[0;36m300\u001b[0m\u001b[0;34m)\u001b[0m\u001b[0;34m)\u001b[0m\u001b[0;34m\u001b[0m\u001b[0;34m\u001b[0m\u001b[0m\n",
      "\u001b[0;32m/tmp/ipykernel_668/2839954662.py\u001b[0m in \u001b[0;36mget_text_embedding\u001b[0;34m(lemmas, model, embedding_size)\u001b[0m\n\u001b[1;32m      4\u001b[0m     \u001b[0mcnt\u001b[0m \u001b[0;34m=\u001b[0m \u001b[0;36m0\u001b[0m\u001b[0;34m\u001b[0m\u001b[0;34m\u001b[0m\u001b[0m\n\u001b[1;32m      5\u001b[0m     \u001b[0;32mfor\u001b[0m \u001b[0mword\u001b[0m \u001b[0;32min\u001b[0m \u001b[0mlemmas\u001b[0m\u001b[0;34m.\u001b[0m\u001b[0msplit\u001b[0m\u001b[0;34m(\u001b[0m\u001b[0;34m)\u001b[0m\u001b[0;34m:\u001b[0m\u001b[0;34m\u001b[0m\u001b[0;34m\u001b[0m\u001b[0m\n\u001b[0;32m----> 6\u001b[0;31m         \u001b[0;32mif\u001b[0m \u001b[0mword\u001b[0m \u001b[0;32min\u001b[0m \u001b[0mmodel\u001b[0m\u001b[0;34m:\u001b[0m\u001b[0;34m\u001b[0m\u001b[0;34m\u001b[0m\u001b[0m\n\u001b[0m\u001b[1;32m      7\u001b[0m             \u001b[0mres\u001b[0m \u001b[0;34m+=\u001b[0m \u001b[0mnp\u001b[0m\u001b[0;34m.\u001b[0m\u001b[0marray\u001b[0m\u001b[0;34m(\u001b[0m\u001b[0mmodel\u001b[0m\u001b[0;34m[\u001b[0m\u001b[0mword\u001b[0m\u001b[0;34m]\u001b[0m\u001b[0;34m)\u001b[0m\u001b[0;34m\u001b[0m\u001b[0;34m\u001b[0m\u001b[0m\n\u001b[1;32m      8\u001b[0m             \u001b[0mcnt\u001b[0m \u001b[0;34m+=\u001b[0m \u001b[0;36m1\u001b[0m\u001b[0;34m\u001b[0m\u001b[0;34m\u001b[0m\u001b[0m\n",
      "\u001b[0;32m/opt/conda/lib/python3.7/site-packages/fasttext/FastText.py\u001b[0m in \u001b[0;36m__contains__\u001b[0;34m(self, word)\u001b[0m\n\u001b[1;32m    385\u001b[0m \u001b[0;34m\u001b[0m\u001b[0m\n\u001b[1;32m    386\u001b[0m     \u001b[0;32mdef\u001b[0m \u001b[0m__contains__\u001b[0m\u001b[0;34m(\u001b[0m\u001b[0mself\u001b[0m\u001b[0;34m,\u001b[0m \u001b[0mword\u001b[0m\u001b[0;34m)\u001b[0m\u001b[0;34m:\u001b[0m\u001b[0;34m\u001b[0m\u001b[0;34m\u001b[0m\u001b[0m\n\u001b[0;32m--> 387\u001b[0;31m         \u001b[0;32mreturn\u001b[0m \u001b[0mword\u001b[0m \u001b[0;32min\u001b[0m \u001b[0mself\u001b[0m\u001b[0;34m.\u001b[0m\u001b[0mwords\u001b[0m\u001b[0;34m\u001b[0m\u001b[0;34m\u001b[0m\u001b[0m\n\u001b[0m\u001b[1;32m    388\u001b[0m \u001b[0;34m\u001b[0m\u001b[0m\n\u001b[1;32m    389\u001b[0m \u001b[0;34m\u001b[0m\u001b[0m\n",
      "\u001b[0;31mKeyboardInterrupt\u001b[0m: "
     ]
    }
   ],
   "source": [
    "X_train['ft_embedding'] = X_train['lemmatized_text'].apply(lambda x: get_text_embedding(x, model=ft, embedding_size=300))\n",
    "print('train done')\n",
    "\n",
    "X_test['ft_embedding'] = X_test['lemmatized_text'].apply(lambda x: get_text_embedding(x, model=ft, embedding_size=300))"
   ]
  },
  {
   "cell_type": "code",
   "execution_count": null,
   "id": "3377fdb9",
   "metadata": {},
   "outputs": [],
   "source": [
    "%%time\n",
    "clf = LogisticRegression(solver = 'lbfgs',multi_class = 'multinomial', max_iter=1000, random_state=42, n_jobs = -1)\n",
    "clf.fit(list(X_train['ft_embedding'].values), y_train)\n",
    "\n",
    "pred = clf.predict(list(X_test['ft_embedding'].values))\n",
    "print(classification_report(pred, y_test))"
   ]
  },
  {
   "cell_type": "markdown",
   "id": "ff203d82",
   "metadata": {},
   "source": [
    "#### SVM"
   ]
  },
  {
   "cell_type": "code",
   "execution_count": 115,
   "id": "a22d9b64",
   "metadata": {},
   "outputs": [],
   "source": [
    "# import re\n",
    "# from nltk.corpus import stopwords\n",
    "# from nltk.stem.snowball import SnowballStemmer\n",
    "# from collections import Counter\n",
    "\n",
    "\n",
    "# ss = SnowballStemmer('russian')\n",
    "# sw = stopwords.words('russian')\n",
    "\n",
    "# def split_tokens(row):\n",
    "#     row['all_tokens'] = [ss.stem(i) for i in\n",
    "#                          re.split(r\" +\",\n",
    "#                          re.sub(r\"[^a-z@# ]\", \"\",\n",
    "#                          row['tweet'].lower()))\n",
    "#                          if (i not in sw) and len(i)]\n",
    "#     return row\n",
    "\n",
    "# def get_info(dataset):\n",
    "#     counts = Counter([i for s in dataset['train']['all_tokens'] for i in s])\n",
    "#     counts = {k:v for k, v in counts.items() if v>10}\n",
    "#     vocab = list(counts.keys())\n",
    "#     n_v = len(vocab)\n",
    "#     id2tok = dict(enumerate(vocab))\n",
    "#     tok2id = {token: id for id, token in id2tok.items()}\n",
    "\n",
    "#     return counts, vocab, n_v, id2tok, tok2id\n",
    "\n",
    "# def remove_rare_tokens(row, vocab):\n",
    "#     row['tokens'] = [t for t in row['all_tokens'] if t in vocab]\n",
    "#     return row\n",
    "\n",
    "# def windowizer(row, tok2id, wsize=3):\n",
    "#     \"\"\"\n",
    "#     Windowizer function for Word2Vec. Converts sentence to sliding-window\n",
    "#     pairs.\n",
    "#     \"\"\"\n",
    "#     doc = row['tokens']\n",
    "#     wsize = 3\n",
    "#     out = []\n",
    "#     for i, wd in enumerate(doc):\n",
    "#         target = tok2id[wd]\n",
    "#         window = [i+j for j in\n",
    "#                   range(-wsize, wsize+1, 1)\n",
    "#                   if (i+j >= 0) &\n",
    "#                      (i+j < len(doc)) &\n",
    "#                      (j != 0)]\n",
    "\n",
    "#         out+=[(target, tok2id[doc[w]]) for w in window]\n",
    "#     row['moving_window'] = out\n",
    "#     return row"
   ]
  },
  {
   "cell_type": "markdown",
   "id": "024843d7-b130-4f9e-99d6-82d239a38cdb",
   "metadata": {},
   "source": [
    "## Модель"
   ]
  },
  {
   "cell_type": "markdown",
   "id": "413804aa-9bf8-487c-8fdd-17d005e73679",
   "metadata": {},
   "source": [
    "#### BOW"
   ]
  },
  {
   "cell_type": "code",
   "execution_count": 21,
   "id": "35f97bf0-f594-4aca-b314-77fb5963a2e5",
   "metadata": {
    "collapsed": true,
    "tags": []
   },
   "outputs": [
    {
     "name": "stdout",
     "output_type": "stream",
     "text": [
      "<class 'pandas.core.frame.DataFrame'>\n",
      "RangeIndex: 77579 entries, 0 to 77578\n",
      "Data columns (total 24 columns):\n",
      " #   Column           Non-Null Count  Dtype  \n",
      "---  ------           --------------  -----  \n",
      " 0   id               77579 non-null  int64  \n",
      " 1   is_corporative   77579 non-null  bool   \n",
      " 2   posttype         77579 non-null  object \n",
      " 3   title            77579 non-null  object \n",
      " 4   hubs_pro         77579 non-null  object \n",
      " 5   hubs_nopro       77579 non-null  object \n",
      " 6   tags             77579 non-null  object \n",
      " 7   time_published   77579 non-null  object \n",
      " 8   bookmarks        77579 non-null  int64  \n",
      " 9   comments_count   77579 non-null  int64  \n",
      " 10  views            77579 non-null  int64  \n",
      " 11  votes            77579 non-null  int64  \n",
      " 12  possitive_votes  77579 non-null  int64  \n",
      " 13  negative_votes   77579 non-null  int64  \n",
      " 14  reading_time     77579 non-null  float64\n",
      " 15  lang             77579 non-null  object \n",
      " 16  author_name      77579 non-null  object \n",
      " 17  author_id        77579 non-null  float64\n",
      " 18  karma            77579 non-null  float64\n",
      " 19  karma_votes      77579 non-null  float64\n",
      " 20  rating           77579 non-null  float64\n",
      " 21  text             77579 non-null  object \n",
      " 22  hubs             77579 non-null  object \n",
      " 23  hub_class        77579 non-null  float64\n",
      "dtypes: bool(1), float64(6), int64(7), object(10)\n",
      "memory usage: 1.2 GB\n"
     ]
    }
   ],
   "source": [
    "big_frame_only_text.info(memory_usage='deep')"
   ]
  },
  {
   "cell_type": "code",
   "execution_count": 22,
   "id": "c6dbee01-c3ba-4ed3-b25e-3510d220ff10",
   "metadata": {
    "tags": []
   },
   "outputs": [
    {
     "data": {
      "text/plain": [
       "(77579, 1)"
      ]
     },
     "execution_count": 22,
     "metadata": {},
     "output_type": "execute_result"
    }
   ],
   "source": [
    "X = big_frame_only_text[['text']]\n",
    "y = big_frame_only_text['hub_class']\n",
    "\n",
    "X.shape"
   ]
  },
  {
   "cell_type": "code",
   "execution_count": 23,
   "id": "6bd4708d-d7a1-4592-a3ef-1e873b612412",
   "metadata": {
    "tags": []
   },
   "outputs": [],
   "source": [
    "from sklearn.model_selection import train_test_split\n",
    "\n",
    "X_train, X_test, y_train, y_test = train_test_split(X, y, test_size=0.25, random_state=42)"
   ]
  },
  {
   "cell_type": "code",
   "execution_count": 24,
   "id": "1d52c329-26a4-450d-88b2-bd6e68088ff9",
   "metadata": {
    "tags": []
   },
   "outputs": [
    {
     "data": {
      "text/plain": [
       "((58184, 1), (19395, 1))"
      ]
     },
     "execution_count": 24,
     "metadata": {},
     "output_type": "execute_result"
    }
   ],
   "source": [
    "X_train.shape, X_test.shape"
   ]
  },
  {
   "cell_type": "code",
   "execution_count": 25,
   "id": "53453272-6f66-4e9f-b704-285fa4f9ac24",
   "metadata": {
    "tags": []
   },
   "outputs": [
    {
     "name": "stdout",
     "output_type": "stream",
     "text": [
      "(58184, 1039242)\n",
      "CPU times: user 1min 46s, sys: 2.72 s, total: 1min 48s\n",
      "Wall time: 1min 49s\n"
     ]
    }
   ],
   "source": [
    "%%time\n",
    "from sklearn.feature_extraction.text import CountVectorizer\n",
    "from sklearn.preprocessing import MaxAbsScaler\n",
    "from sklearn.linear_model import LogisticRegression\n",
    "from sklearn.metrics import classification_report\n",
    "\n",
    "vec = CountVectorizer() # подбор гиперпараметров очень помогает\n",
    "vec.fit(X_train['text'])\n",
    "\n",
    "bow = vec.transform(X_train['text'])  # bow — bag of words (мешок слов)\n",
    "bow_test = vec.transform(X_test['text'])\n",
    "\n",
    "print(bow.shape)\n",
    "\n",
    "# scaler = MaxAbsScaler()\n",
    "# bow = scaler.fit_transform(bow)\n",
    "# bow_test = scaler.transform(bow_test)\n",
    "\n",
    "# clf = LogisticRegression(max_iter=200, random_state=42)\n",
    "# clf.fit(bow, y_train)\n",
    "# pred = clf.predict(bow_test)\n",
    "\n",
    "# print(classification_report(y_test, pred))"
   ]
  },
  {
   "cell_type": "code",
   "execution_count": 26,
   "id": "8012f86a-a9de-4629-9c3a-964b1be5a4b4",
   "metadata": {
    "tags": []
   },
   "outputs": [
    {
     "name": "stdout",
     "output_type": "stream",
     "text": [
      "CPU times: user 5.45 s, sys: 1.28 s, total: 6.73 s\n",
      "Wall time: 6.73 s\n"
     ]
    }
   ],
   "source": [
    "%%time\n",
    "scaler = MaxAbsScaler()\n",
    "bow = scaler.fit_transform(bow)\n",
    "bow_test = scaler.transform(bow_test)"
   ]
  },
  {
   "cell_type": "code",
   "execution_count": 27,
   "id": "fe8d0305-c3b6-45a4-a733-e2cc48fe4f9e",
   "metadata": {
    "tags": []
   },
   "outputs": [],
   "source": [
    "clf = LogisticRegression(solver = 'lbfgs',multi_class = 'multinomial', max_iter=1000, random_state=42, n_jobs = -1)"
   ]
  },
  {
   "cell_type": "code",
   "execution_count": 28,
   "id": "8589be04-b3ff-4f5c-ae9a-e90731e6a74c",
   "metadata": {
    "tags": []
   },
   "outputs": [
    {
     "ename": "TerminatedWorkerError",
     "evalue": "A worker process managed by the executor was unexpectedly terminated. This could be caused by a segmentation fault while calling the function or by an excessive memory usage causing the Operating System to kill the worker.\n\nThe exit codes of the workers are {SIGSEGV(-11)}",
     "output_type": "error",
     "traceback": [
      "\u001b[0;31m---------------------------------------------------------------------------\u001b[0m",
      "\u001b[0;31mTerminatedWorkerError\u001b[0m                     Traceback (most recent call last)",
      "File \u001b[0;32m<timed exec>:1\u001b[0m\n",
      "File \u001b[0;32m/opt/conda/lib/python3.8/site-packages/sklearn/base.py:1152\u001b[0m, in \u001b[0;36m_fit_context.<locals>.decorator.<locals>.wrapper\u001b[0;34m(estimator, *args, **kwargs)\u001b[0m\n\u001b[1;32m   1145\u001b[0m     estimator\u001b[38;5;241m.\u001b[39m_validate_params()\n\u001b[1;32m   1147\u001b[0m \u001b[38;5;28;01mwith\u001b[39;00m config_context(\n\u001b[1;32m   1148\u001b[0m     skip_parameter_validation\u001b[38;5;241m=\u001b[39m(\n\u001b[1;32m   1149\u001b[0m         prefer_skip_nested_validation \u001b[38;5;129;01mor\u001b[39;00m global_skip_validation\n\u001b[1;32m   1150\u001b[0m     )\n\u001b[1;32m   1151\u001b[0m ):\n\u001b[0;32m-> 1152\u001b[0m     \u001b[38;5;28;01mreturn\u001b[39;00m \u001b[43mfit_method\u001b[49m\u001b[43m(\u001b[49m\u001b[43mestimator\u001b[49m\u001b[43m,\u001b[49m\u001b[43m \u001b[49m\u001b[38;5;241;43m*\u001b[39;49m\u001b[43margs\u001b[49m\u001b[43m,\u001b[49m\u001b[43m \u001b[49m\u001b[38;5;241;43m*\u001b[39;49m\u001b[38;5;241;43m*\u001b[39;49m\u001b[43mkwargs\u001b[49m\u001b[43m)\u001b[49m\n",
      "File \u001b[0;32m/opt/conda/lib/python3.8/site-packages/sklearn/linear_model/_logistic.py:1303\u001b[0m, in \u001b[0;36mLogisticRegression.fit\u001b[0;34m(self, X, y, sample_weight)\u001b[0m\n\u001b[1;32m   1300\u001b[0m \u001b[38;5;28;01melse\u001b[39;00m:\n\u001b[1;32m   1301\u001b[0m     n_threads \u001b[38;5;241m=\u001b[39m \u001b[38;5;241m1\u001b[39m\n\u001b[0;32m-> 1303\u001b[0m fold_coefs_ \u001b[38;5;241m=\u001b[39m \u001b[43mParallel\u001b[49m\u001b[43m(\u001b[49m\u001b[43mn_jobs\u001b[49m\u001b[38;5;241;43m=\u001b[39;49m\u001b[38;5;28;43mself\u001b[39;49m\u001b[38;5;241;43m.\u001b[39;49m\u001b[43mn_jobs\u001b[49m\u001b[43m,\u001b[49m\u001b[43m \u001b[49m\u001b[43mverbose\u001b[49m\u001b[38;5;241;43m=\u001b[39;49m\u001b[38;5;28;43mself\u001b[39;49m\u001b[38;5;241;43m.\u001b[39;49m\u001b[43mverbose\u001b[49m\u001b[43m,\u001b[49m\u001b[43m \u001b[49m\u001b[43mprefer\u001b[49m\u001b[38;5;241;43m=\u001b[39;49m\u001b[43mprefer\u001b[49m\u001b[43m)\u001b[49m\u001b[43m(\u001b[49m\n\u001b[1;32m   1304\u001b[0m \u001b[43m    \u001b[49m\u001b[43mpath_func\u001b[49m\u001b[43m(\u001b[49m\n\u001b[1;32m   1305\u001b[0m \u001b[43m        \u001b[49m\u001b[43mX\u001b[49m\u001b[43m,\u001b[49m\n\u001b[1;32m   1306\u001b[0m \u001b[43m        \u001b[49m\u001b[43my\u001b[49m\u001b[43m,\u001b[49m\n\u001b[1;32m   1307\u001b[0m \u001b[43m        \u001b[49m\u001b[43mpos_class\u001b[49m\u001b[38;5;241;43m=\u001b[39;49m\u001b[43mclass_\u001b[49m\u001b[43m,\u001b[49m\n\u001b[1;32m   1308\u001b[0m \u001b[43m        \u001b[49m\u001b[43mCs\u001b[49m\u001b[38;5;241;43m=\u001b[39;49m\u001b[43m[\u001b[49m\u001b[43mC_\u001b[49m\u001b[43m]\u001b[49m\u001b[43m,\u001b[49m\n\u001b[1;32m   1309\u001b[0m \u001b[43m        \u001b[49m\u001b[43ml1_ratio\u001b[49m\u001b[38;5;241;43m=\u001b[39;49m\u001b[38;5;28;43mself\u001b[39;49m\u001b[38;5;241;43m.\u001b[39;49m\u001b[43ml1_ratio\u001b[49m\u001b[43m,\u001b[49m\n\u001b[1;32m   1310\u001b[0m \u001b[43m        \u001b[49m\u001b[43mfit_intercept\u001b[49m\u001b[38;5;241;43m=\u001b[39;49m\u001b[38;5;28;43mself\u001b[39;49m\u001b[38;5;241;43m.\u001b[39;49m\u001b[43mfit_intercept\u001b[49m\u001b[43m,\u001b[49m\n\u001b[1;32m   1311\u001b[0m \u001b[43m        \u001b[49m\u001b[43mtol\u001b[49m\u001b[38;5;241;43m=\u001b[39;49m\u001b[38;5;28;43mself\u001b[39;49m\u001b[38;5;241;43m.\u001b[39;49m\u001b[43mtol\u001b[49m\u001b[43m,\u001b[49m\n\u001b[1;32m   1312\u001b[0m \u001b[43m        \u001b[49m\u001b[43mverbose\u001b[49m\u001b[38;5;241;43m=\u001b[39;49m\u001b[38;5;28;43mself\u001b[39;49m\u001b[38;5;241;43m.\u001b[39;49m\u001b[43mverbose\u001b[49m\u001b[43m,\u001b[49m\n\u001b[1;32m   1313\u001b[0m \u001b[43m        \u001b[49m\u001b[43msolver\u001b[49m\u001b[38;5;241;43m=\u001b[39;49m\u001b[43msolver\u001b[49m\u001b[43m,\u001b[49m\n\u001b[1;32m   1314\u001b[0m \u001b[43m        \u001b[49m\u001b[43mmulti_class\u001b[49m\u001b[38;5;241;43m=\u001b[39;49m\u001b[43mmulti_class\u001b[49m\u001b[43m,\u001b[49m\n\u001b[1;32m   1315\u001b[0m \u001b[43m        \u001b[49m\u001b[43mmax_iter\u001b[49m\u001b[38;5;241;43m=\u001b[39;49m\u001b[38;5;28;43mself\u001b[39;49m\u001b[38;5;241;43m.\u001b[39;49m\u001b[43mmax_iter\u001b[49m\u001b[43m,\u001b[49m\n\u001b[1;32m   1316\u001b[0m \u001b[43m        \u001b[49m\u001b[43mclass_weight\u001b[49m\u001b[38;5;241;43m=\u001b[39;49m\u001b[38;5;28;43mself\u001b[39;49m\u001b[38;5;241;43m.\u001b[39;49m\u001b[43mclass_weight\u001b[49m\u001b[43m,\u001b[49m\n\u001b[1;32m   1317\u001b[0m \u001b[43m        \u001b[49m\u001b[43mcheck_input\u001b[49m\u001b[38;5;241;43m=\u001b[39;49m\u001b[38;5;28;43;01mFalse\u001b[39;49;00m\u001b[43m,\u001b[49m\n\u001b[1;32m   1318\u001b[0m \u001b[43m        \u001b[49m\u001b[43mrandom_state\u001b[49m\u001b[38;5;241;43m=\u001b[39;49m\u001b[38;5;28;43mself\u001b[39;49m\u001b[38;5;241;43m.\u001b[39;49m\u001b[43mrandom_state\u001b[49m\u001b[43m,\u001b[49m\n\u001b[1;32m   1319\u001b[0m \u001b[43m        \u001b[49m\u001b[43mcoef\u001b[49m\u001b[38;5;241;43m=\u001b[39;49m\u001b[43mwarm_start_coef_\u001b[49m\u001b[43m,\u001b[49m\n\u001b[1;32m   1320\u001b[0m \u001b[43m        \u001b[49m\u001b[43mpenalty\u001b[49m\u001b[38;5;241;43m=\u001b[39;49m\u001b[43mpenalty\u001b[49m\u001b[43m,\u001b[49m\n\u001b[1;32m   1321\u001b[0m \u001b[43m        \u001b[49m\u001b[43mmax_squared_sum\u001b[49m\u001b[38;5;241;43m=\u001b[39;49m\u001b[43mmax_squared_sum\u001b[49m\u001b[43m,\u001b[49m\n\u001b[1;32m   1322\u001b[0m \u001b[43m        \u001b[49m\u001b[43msample_weight\u001b[49m\u001b[38;5;241;43m=\u001b[39;49m\u001b[43msample_weight\u001b[49m\u001b[43m,\u001b[49m\n\u001b[1;32m   1323\u001b[0m \u001b[43m        \u001b[49m\u001b[43mn_threads\u001b[49m\u001b[38;5;241;43m=\u001b[39;49m\u001b[43mn_threads\u001b[49m\u001b[43m,\u001b[49m\n\u001b[1;32m   1324\u001b[0m \u001b[43m    \u001b[49m\u001b[43m)\u001b[49m\n\u001b[1;32m   1325\u001b[0m \u001b[43m    \u001b[49m\u001b[38;5;28;43;01mfor\u001b[39;49;00m\u001b[43m \u001b[49m\u001b[43mclass_\u001b[49m\u001b[43m,\u001b[49m\u001b[43m \u001b[49m\u001b[43mwarm_start_coef_\u001b[49m\u001b[43m \u001b[49m\u001b[38;5;129;43;01min\u001b[39;49;00m\u001b[43m \u001b[49m\u001b[38;5;28;43mzip\u001b[39;49m\u001b[43m(\u001b[49m\u001b[43mclasses_\u001b[49m\u001b[43m,\u001b[49m\u001b[43m \u001b[49m\u001b[43mwarm_start_coef\u001b[49m\u001b[43m)\u001b[49m\n\u001b[1;32m   1326\u001b[0m \u001b[43m\u001b[49m\u001b[43m)\u001b[49m\n\u001b[1;32m   1328\u001b[0m fold_coefs_, _, n_iter_ \u001b[38;5;241m=\u001b[39m \u001b[38;5;28mzip\u001b[39m(\u001b[38;5;241m*\u001b[39mfold_coefs_)\n\u001b[1;32m   1329\u001b[0m \u001b[38;5;28mself\u001b[39m\u001b[38;5;241m.\u001b[39mn_iter_ \u001b[38;5;241m=\u001b[39m np\u001b[38;5;241m.\u001b[39masarray(n_iter_, dtype\u001b[38;5;241m=\u001b[39mnp\u001b[38;5;241m.\u001b[39mint32)[:, \u001b[38;5;241m0\u001b[39m]\n",
      "File \u001b[0;32m/opt/conda/lib/python3.8/site-packages/sklearn/utils/parallel.py:65\u001b[0m, in \u001b[0;36mParallel.__call__\u001b[0;34m(self, iterable)\u001b[0m\n\u001b[1;32m     60\u001b[0m config \u001b[38;5;241m=\u001b[39m get_config()\n\u001b[1;32m     61\u001b[0m iterable_with_config \u001b[38;5;241m=\u001b[39m (\n\u001b[1;32m     62\u001b[0m     (_with_config(delayed_func, config), args, kwargs)\n\u001b[1;32m     63\u001b[0m     \u001b[38;5;28;01mfor\u001b[39;00m delayed_func, args, kwargs \u001b[38;5;129;01min\u001b[39;00m iterable\n\u001b[1;32m     64\u001b[0m )\n\u001b[0;32m---> 65\u001b[0m \u001b[38;5;28;01mreturn\u001b[39;00m \u001b[38;5;28;43msuper\u001b[39;49m\u001b[43m(\u001b[49m\u001b[43m)\u001b[49m\u001b[38;5;241;43m.\u001b[39;49m\u001b[38;5;21;43m__call__\u001b[39;49m\u001b[43m(\u001b[49m\u001b[43miterable_with_config\u001b[49m\u001b[43m)\u001b[49m\n",
      "File \u001b[0;32m/opt/conda/lib/python3.8/site-packages/joblib/parallel.py:1952\u001b[0m, in \u001b[0;36mParallel.__call__\u001b[0;34m(self, iterable)\u001b[0m\n\u001b[1;32m   1946\u001b[0m \u001b[38;5;66;03m# The first item from the output is blank, but it makes the interpreter\u001b[39;00m\n\u001b[1;32m   1947\u001b[0m \u001b[38;5;66;03m# progress until it enters the Try/Except block of the generator and\u001b[39;00m\n\u001b[1;32m   1948\u001b[0m \u001b[38;5;66;03m# reach the first `yield` statement. This starts the aynchronous\u001b[39;00m\n\u001b[1;32m   1949\u001b[0m \u001b[38;5;66;03m# dispatch of the tasks to the workers.\u001b[39;00m\n\u001b[1;32m   1950\u001b[0m \u001b[38;5;28mnext\u001b[39m(output)\n\u001b[0;32m-> 1952\u001b[0m \u001b[38;5;28;01mreturn\u001b[39;00m output \u001b[38;5;28;01mif\u001b[39;00m \u001b[38;5;28mself\u001b[39m\u001b[38;5;241m.\u001b[39mreturn_generator \u001b[38;5;28;01melse\u001b[39;00m \u001b[38;5;28;43mlist\u001b[39;49m\u001b[43m(\u001b[49m\u001b[43moutput\u001b[49m\u001b[43m)\u001b[49m\n",
      "File \u001b[0;32m/opt/conda/lib/python3.8/site-packages/joblib/parallel.py:1595\u001b[0m, in \u001b[0;36mParallel._get_outputs\u001b[0;34m(self, iterator, pre_dispatch)\u001b[0m\n\u001b[1;32m   1592\u001b[0m     \u001b[38;5;28;01myield\u001b[39;00m\n\u001b[1;32m   1594\u001b[0m     \u001b[38;5;28;01mwith\u001b[39;00m \u001b[38;5;28mself\u001b[39m\u001b[38;5;241m.\u001b[39m_backend\u001b[38;5;241m.\u001b[39mretrieval_context():\n\u001b[0;32m-> 1595\u001b[0m         \u001b[38;5;28;01myield from\u001b[39;00m \u001b[38;5;28mself\u001b[39m\u001b[38;5;241m.\u001b[39m_retrieve()\n\u001b[1;32m   1597\u001b[0m \u001b[38;5;28;01mexcept\u001b[39;00m \u001b[38;5;167;01mGeneratorExit\u001b[39;00m:\n\u001b[1;32m   1598\u001b[0m     \u001b[38;5;66;03m# The generator has been garbage collected before being fully\u001b[39;00m\n\u001b[1;32m   1599\u001b[0m     \u001b[38;5;66;03m# consumed. This aborts the remaining tasks if possible and warn\u001b[39;00m\n\u001b[1;32m   1600\u001b[0m     \u001b[38;5;66;03m# the user if necessary.\u001b[39;00m\n\u001b[1;32m   1601\u001b[0m     \u001b[38;5;28mself\u001b[39m\u001b[38;5;241m.\u001b[39m_exception \u001b[38;5;241m=\u001b[39m \u001b[38;5;28;01mTrue\u001b[39;00m\n",
      "File \u001b[0;32m/opt/conda/lib/python3.8/site-packages/joblib/parallel.py:1699\u001b[0m, in \u001b[0;36mParallel._retrieve\u001b[0;34m(self)\u001b[0m\n\u001b[1;32m   1692\u001b[0m \u001b[38;5;28;01mwhile\u001b[39;00m \u001b[38;5;28mself\u001b[39m\u001b[38;5;241m.\u001b[39m_wait_retrieval():\n\u001b[1;32m   1693\u001b[0m \n\u001b[1;32m   1694\u001b[0m     \u001b[38;5;66;03m# If the callback thread of a worker has signaled that its task\u001b[39;00m\n\u001b[1;32m   1695\u001b[0m     \u001b[38;5;66;03m# triggered an exception, or if the retrieval loop has raised an\u001b[39;00m\n\u001b[1;32m   1696\u001b[0m     \u001b[38;5;66;03m# exception (e.g. `GeneratorExit`), exit the loop and surface the\u001b[39;00m\n\u001b[1;32m   1697\u001b[0m     \u001b[38;5;66;03m# worker traceback.\u001b[39;00m\n\u001b[1;32m   1698\u001b[0m     \u001b[38;5;28;01mif\u001b[39;00m \u001b[38;5;28mself\u001b[39m\u001b[38;5;241m.\u001b[39m_aborting:\n\u001b[0;32m-> 1699\u001b[0m         \u001b[38;5;28;43mself\u001b[39;49m\u001b[38;5;241;43m.\u001b[39;49m\u001b[43m_raise_error_fast\u001b[49m\u001b[43m(\u001b[49m\u001b[43m)\u001b[49m\n\u001b[1;32m   1700\u001b[0m         \u001b[38;5;28;01mbreak\u001b[39;00m\n\u001b[1;32m   1702\u001b[0m     \u001b[38;5;66;03m# If the next job is not ready for retrieval yet, we just wait for\u001b[39;00m\n\u001b[1;32m   1703\u001b[0m     \u001b[38;5;66;03m# async callbacks to progress.\u001b[39;00m\n",
      "File \u001b[0;32m/opt/conda/lib/python3.8/site-packages/joblib/parallel.py:1734\u001b[0m, in \u001b[0;36mParallel._raise_error_fast\u001b[0;34m(self)\u001b[0m\n\u001b[1;32m   1730\u001b[0m \u001b[38;5;66;03m# If this error job exists, immediatly raise the error by\u001b[39;00m\n\u001b[1;32m   1731\u001b[0m \u001b[38;5;66;03m# calling get_result. This job might not exists if abort has been\u001b[39;00m\n\u001b[1;32m   1732\u001b[0m \u001b[38;5;66;03m# called directly or if the generator is gc'ed.\u001b[39;00m\n\u001b[1;32m   1733\u001b[0m \u001b[38;5;28;01mif\u001b[39;00m error_job \u001b[38;5;129;01mis\u001b[39;00m \u001b[38;5;129;01mnot\u001b[39;00m \u001b[38;5;28;01mNone\u001b[39;00m:\n\u001b[0;32m-> 1734\u001b[0m     \u001b[43merror_job\u001b[49m\u001b[38;5;241;43m.\u001b[39;49m\u001b[43mget_result\u001b[49m\u001b[43m(\u001b[49m\u001b[38;5;28;43mself\u001b[39;49m\u001b[38;5;241;43m.\u001b[39;49m\u001b[43mtimeout\u001b[49m\u001b[43m)\u001b[49m\n",
      "File \u001b[0;32m/opt/conda/lib/python3.8/site-packages/joblib/parallel.py:736\u001b[0m, in \u001b[0;36mBatchCompletionCallBack.get_result\u001b[0;34m(self, timeout)\u001b[0m\n\u001b[1;32m    730\u001b[0m backend \u001b[38;5;241m=\u001b[39m \u001b[38;5;28mself\u001b[39m\u001b[38;5;241m.\u001b[39mparallel\u001b[38;5;241m.\u001b[39m_backend\n\u001b[1;32m    732\u001b[0m \u001b[38;5;28;01mif\u001b[39;00m backend\u001b[38;5;241m.\u001b[39msupports_retrieve_callback:\n\u001b[1;32m    733\u001b[0m     \u001b[38;5;66;03m# We assume that the result has already been retrieved by the\u001b[39;00m\n\u001b[1;32m    734\u001b[0m     \u001b[38;5;66;03m# callback thread, and is stored internally. It's just waiting to\u001b[39;00m\n\u001b[1;32m    735\u001b[0m     \u001b[38;5;66;03m# be returned.\u001b[39;00m\n\u001b[0;32m--> 736\u001b[0m     \u001b[38;5;28;01mreturn\u001b[39;00m \u001b[38;5;28;43mself\u001b[39;49m\u001b[38;5;241;43m.\u001b[39;49m\u001b[43m_return_or_raise\u001b[49m\u001b[43m(\u001b[49m\u001b[43m)\u001b[49m\n\u001b[1;32m    738\u001b[0m \u001b[38;5;66;03m# For other backends, the main thread needs to run the retrieval step.\u001b[39;00m\n\u001b[1;32m    739\u001b[0m \u001b[38;5;28;01mtry\u001b[39;00m:\n",
      "File \u001b[0;32m/opt/conda/lib/python3.8/site-packages/joblib/parallel.py:754\u001b[0m, in \u001b[0;36mBatchCompletionCallBack._return_or_raise\u001b[0;34m(self)\u001b[0m\n\u001b[1;32m    752\u001b[0m \u001b[38;5;28;01mtry\u001b[39;00m:\n\u001b[1;32m    753\u001b[0m     \u001b[38;5;28;01mif\u001b[39;00m \u001b[38;5;28mself\u001b[39m\u001b[38;5;241m.\u001b[39mstatus \u001b[38;5;241m==\u001b[39m TASK_ERROR:\n\u001b[0;32m--> 754\u001b[0m         \u001b[38;5;28;01mraise\u001b[39;00m \u001b[38;5;28mself\u001b[39m\u001b[38;5;241m.\u001b[39m_result\n\u001b[1;32m    755\u001b[0m     \u001b[38;5;28;01mreturn\u001b[39;00m \u001b[38;5;28mself\u001b[39m\u001b[38;5;241m.\u001b[39m_result\n\u001b[1;32m    756\u001b[0m \u001b[38;5;28;01mfinally\u001b[39;00m:\n",
      "\u001b[0;31mTerminatedWorkerError\u001b[0m: A worker process managed by the executor was unexpectedly terminated. This could be caused by a segmentation fault while calling the function or by an excessive memory usage causing the Operating System to kill the worker.\n\nThe exit codes of the workers are {SIGSEGV(-11)}"
     ]
    }
   ],
   "source": [
    "%%time\n",
    "clf.fit(bow, y_train)\n",
    "pred = clf.predict(bow_test)\n",
    "print(classification_report(y_test, pred))"
   ]
  },
  {
   "cell_type": "markdown",
   "id": "42c1aa58-e83f-400b-b8dc-872e39e0a84e",
   "metadata": {
    "tags": []
   },
   "source": [
    "#### TF-IDF"
   ]
  },
  {
   "cell_type": "code",
   "execution_count": 86,
   "id": "b8619253-a37e-4fc0-9d5c-f9b890dd877d",
   "metadata": {},
   "outputs": [
    {
     "name": "stdout",
     "output_type": "stream",
     "text": [
      "CPU times: total: 3.03 s\n",
      "Wall time: 5.68 s\n"
     ]
    }
   ],
   "source": [
    "%%time\n",
    "from sklearn.feature_extraction.text import TfidfVectorizer\n",
    "vec = TfidfVectorizer()\n",
    "vec_train = vec.fit_transform(X_train['text'])\n",
    "vec_test = vec.transform(X_test['text'])\n",
    "\n",
    "scaler = MaxAbsScaler()\n",
    "vec_train = scaler.fit_transform(vec_train)\n",
    "vec_test = scaler.transform(vec_test)\n",
    "\n",
    "#clf = LogisticRegression(solver = 'lbfgs',multi_class = 'multinomial', max_iter=1000, random_state=42, n_jobs = -1)\n",
    "#clf.fit(vec_train, y_train)\n",
    "#pred_tfidf = clf.predict(vec_test)\n",
    "#print(classification_report(y_test, pred_tfidf))"
   ]
  },
  {
   "cell_type": "code",
   "execution_count": 87,
   "id": "9c5c13f5-30ba-4e37-b61f-0f9f27a2a7ad",
   "metadata": {},
   "outputs": [
    {
     "name": "stdout",
     "output_type": "stream",
     "text": [
      "              precision    recall  f1-score   support\n",
      "\n",
      "         0.0       0.18      0.90      0.30        68\n",
      "         1.0       0.25      0.71      0.37        68\n",
      "         2.0       0.50      0.85      0.63        55\n",
      "         3.0       0.24      0.64      0.35        28\n",
      "         4.0       0.17      0.37      0.23        30\n",
      "         5.0       0.80      0.24      0.36        17\n",
      "         6.0       0.15      0.09      0.11        23\n",
      "         7.0       0.17      0.14      0.15        22\n",
      "         8.0       0.50      0.15      0.23        20\n",
      "         9.0       0.50      0.26      0.34        19\n",
      "        10.0       0.32      0.38      0.34        16\n",
      "        11.0       0.62      0.40      0.49        25\n",
      "        12.0       0.43      0.38      0.40        16\n",
      "        13.0       0.50      0.12      0.20        16\n",
      "        14.0       0.45      0.60      0.51        15\n",
      "        15.0       0.40      0.13      0.20        15\n",
      "        16.0       0.00      0.00      0.00        10\n",
      "        17.0       0.50      0.10      0.17        10\n",
      "        18.0       0.67      0.40      0.50         5\n",
      "        19.0       0.13      0.17      0.15        12\n",
      "        20.0       0.20      0.07      0.11        14\n",
      "        21.0       1.00      0.07      0.12        15\n",
      "        22.0       0.33      0.25      0.29         8\n",
      "        23.0       0.33      0.08      0.13        12\n",
      "        24.0       0.80      0.57      0.67         7\n",
      "        25.0       0.00      0.00      0.00         4\n",
      "        26.0       0.67      0.18      0.29        11\n",
      "        27.0       1.00      0.11      0.20         9\n",
      "        28.0       0.00      0.00      0.00         9\n",
      "        29.0       0.33      0.12      0.18         8\n",
      "        30.0       0.00      0.00      0.00         5\n",
      "        31.0       1.00      0.20      0.33         5\n",
      "        32.0       0.00      0.00      0.00         5\n",
      "        33.0       0.00      0.00      0.00         6\n",
      "        34.0       0.00      0.00      0.00         8\n",
      "        35.0       0.00      0.00      0.00         6\n",
      "        36.0       0.00      0.00      0.00         3\n",
      "        37.0       0.00      0.00      0.00         7\n",
      "        38.0       0.57      0.40      0.47        10\n",
      "        39.0       1.00      0.11      0.20         9\n",
      "        40.0       0.00      0.00      0.00         3\n",
      "        41.0       0.00      0.00      0.00         6\n",
      "        42.0       0.00      0.00      0.00         5\n",
      "        43.0       0.00      0.00      0.00         9\n",
      "        44.0       0.00      0.00      0.00         1\n",
      "        45.0       0.00      0.00      0.00         3\n",
      "        46.0       0.00      0.00      0.00         3\n",
      "        47.0       1.00      0.14      0.25         7\n",
      "        48.0       0.00      0.00      0.00         2\n",
      "        49.0       0.00      0.00      0.00        11\n",
      "        50.0       1.00      0.40      0.57         5\n",
      "        51.0       0.00      0.00      0.00         2\n",
      "        52.0       0.00      0.00      0.00         1\n",
      "        53.0       0.00      0.00      0.00         4\n",
      "        54.0       0.00      0.00      0.00         1\n",
      "        55.0       0.00      0.00      0.00         6\n",
      "        56.0       1.00      0.33      0.50         3\n",
      "        57.0       0.00      0.00      0.00         7\n",
      "        58.0       1.00      0.33      0.50         6\n",
      "        59.0       0.00      0.00      0.00         2\n",
      "        60.0       0.00      0.00      0.00         2\n",
      "        61.0       0.00      0.00      0.00         1\n",
      "        62.0       0.00      0.00      0.00         5\n",
      "        63.0       0.00      0.00      0.00         5\n",
      "        64.0       0.50      0.50      0.50         2\n",
      "        65.0       0.00      0.00      0.00         2\n",
      "        66.0       1.00      0.33      0.50         3\n",
      "        67.0       0.00      0.00      0.00         2\n",
      "        68.0       0.00      0.00      0.00         2\n",
      "        69.0       0.00      0.00      0.00         3\n",
      "        70.0       0.00      0.00      0.00         4\n",
      "        71.0       0.00      0.00      0.00         3\n",
      "        72.0       0.00      0.00      0.00         4\n",
      "        73.0       0.00      0.00      0.00         2\n",
      "        74.0       0.00      0.00      0.00         2\n",
      "        75.0       1.00      0.33      0.50         3\n",
      "        76.0       0.00      0.00      0.00         5\n",
      "        77.0       0.00      0.00      0.00         2\n",
      "        78.0       0.00      0.00      0.00         4\n",
      "        79.0       0.00      0.00      0.00         4\n",
      "        80.0       0.00      0.00      0.00         4\n",
      "        81.0       0.00      0.00      0.00         1\n",
      "        82.0       0.00      0.00      0.00         5\n",
      "        83.0       0.00      0.00      0.00         1\n",
      "        84.0       0.00      0.00      0.00         3\n",
      "        85.0       0.00      0.00      0.00         2\n",
      "        86.0       0.00      0.00      0.00         3\n",
      "        87.0       0.00      0.00      0.00         2\n",
      "        88.0       0.00      0.00      0.00         1\n",
      "        89.0       0.00      0.00      0.00         1\n",
      "        90.0       0.00      0.00      0.00         2\n",
      "        91.0       0.00      0.00      0.00         1\n",
      "        92.0       0.00      0.00      0.00         2\n",
      "        93.0       0.00      0.00      0.00         3\n",
      "        95.0       0.00      0.00      0.00         3\n",
      "        96.0       0.00      0.00      0.00         2\n",
      "        97.0       0.00      0.00      0.00         3\n",
      "        98.0       0.00      0.00      0.00         1\n",
      "       100.0       0.00      0.00      0.00         1\n",
      "       101.0       0.00      0.00      0.00         1\n",
      "       102.0       0.00      0.00      0.00         3\n",
      "       103.0       0.00      0.00      0.00         4\n",
      "       104.0       0.00      0.00      0.00         2\n",
      "       107.0       0.00      0.00      0.00         2\n",
      "       108.0       0.00      0.00      0.00         2\n",
      "       109.0       0.00      0.00      0.00         1\n",
      "       110.0       0.00      0.00      0.00         3\n",
      "       111.0       0.00      0.00      0.00         1\n",
      "       113.0       0.00      0.00      0.00         3\n",
      "       114.0       0.00      0.00      0.00         2\n",
      "       115.0       0.00      0.00      0.00         1\n",
      "       117.0       0.00      0.00      0.00         2\n",
      "       118.0       0.00      0.00      0.00         2\n",
      "       119.0       0.00      0.00      0.00         1\n",
      "       120.0       1.00      1.00      1.00         1\n",
      "       121.0       0.00      0.00      0.00         1\n",
      "       122.0       0.00      0.00      0.00         2\n",
      "       123.0       0.00      0.00      0.00         3\n",
      "       125.0       0.00      0.00      0.00         1\n",
      "       126.0       0.00      0.00      0.00         1\n",
      "       127.0       0.00      0.00      0.00         1\n",
      "       128.0       0.00      0.00      0.00         2\n",
      "       131.0       0.00      0.00      0.00         3\n",
      "       134.0       0.00      0.00      0.00         1\n",
      "       135.0       0.00      0.00      0.00         1\n",
      "       136.0       0.00      0.00      0.00         1\n",
      "       137.0       0.00      0.00      0.00         2\n",
      "       138.0       0.00      0.00      0.00         1\n",
      "       140.0       0.00      0.00      0.00         1\n",
      "       141.0       0.00      0.00      0.00         2\n",
      "       142.0       0.00      0.00      0.00         1\n",
      "       146.0       0.00      0.00      0.00         1\n",
      "       147.0       0.00      0.00      0.00         2\n",
      "       148.0       0.00      0.00      0.00         4\n",
      "       150.0       0.00      0.00      0.00         1\n",
      "       153.0       0.00      0.00      0.00         1\n",
      "       154.0       0.00      0.00      0.00         3\n",
      "       157.0       0.00      0.00      0.00         1\n",
      "       160.0       0.00      0.00      0.00         1\n",
      "       161.0       0.00      0.00      0.00         1\n",
      "       162.0       0.00      0.00      0.00         1\n",
      "       163.0       0.00      0.00      0.00         1\n",
      "       165.0       0.00      0.00      0.00         2\n",
      "       166.0       0.00      0.00      0.00         2\n",
      "       168.0       0.00      0.00      0.00         1\n",
      "       170.0       0.00      0.00      0.00         1\n",
      "       175.0       0.00      0.00      0.00         2\n",
      "       177.0       0.00      0.00      0.00         1\n",
      "       179.0       0.00      0.00      0.00         2\n",
      "       180.0       0.00      0.00      0.00         2\n",
      "       181.0       1.00      1.00      1.00         1\n",
      "       182.0       0.00      0.00      0.00         1\n",
      "       183.0       0.00      0.00      0.00         2\n",
      "       187.0       0.00      0.00      0.00         1\n",
      "       188.0       0.00      0.00      0.00         1\n",
      "       190.0       1.00      1.00      1.00         1\n",
      "       194.0       0.00      0.00      0.00         2\n",
      "       195.0       0.00      0.00      0.00         1\n",
      "       196.0       0.00      0.00      0.00         1\n",
      "       199.0       1.00      0.33      0.50         3\n",
      "       200.0       0.00      0.00      0.00         2\n",
      "       201.0       0.00      0.00      0.00         1\n",
      "       202.0       0.00      0.00      0.00         1\n",
      "       204.0       1.00      1.00      1.00         1\n",
      "       205.0       1.00      0.50      0.67         2\n",
      "       206.0       0.00      0.00      0.00         2\n",
      "       212.0       0.00      0.00      0.00         2\n",
      "       214.0       0.00      0.00      0.00         2\n",
      "       215.0       0.00      0.00      0.00         1\n",
      "       216.0       0.00      0.00      0.00         1\n",
      "       218.0       1.00      1.00      1.00         1\n",
      "       224.0       0.00      0.00      0.00         1\n",
      "       226.0       0.00      0.00      0.00         1\n",
      "       228.0       1.00      1.00      1.00         1\n",
      "       231.0       0.00      0.00      0.00         1\n",
      "       232.0       0.00      0.00      0.00         2\n",
      "       244.0       0.00      0.00      0.00         2\n",
      "       245.0       0.00      0.00      0.00         1\n",
      "       250.0       0.00      0.00      0.00         1\n",
      "       253.0       0.00      0.00      0.00         1\n",
      "       268.0       0.00      0.00      0.00         1\n",
      "       270.0       0.00      0.00      0.00         1\n",
      "       274.0       0.00      0.00      0.00         1\n",
      "       277.0       0.00      0.00      0.00         1\n",
      "       278.0       0.00      0.00      0.00         1\n",
      "\n",
      "    accuracy                           0.29       970\n",
      "   macro avg       0.16      0.10      0.11       970\n",
      "weighted avg       0.28      0.29      0.22       970\n",
      "\n"
     ]
    }
   ],
   "source": [
    "clf = LogisticRegression(solver = 'lbfgs',multi_class = 'multinomial', max_iter=1000, random_state=42, n_jobs = -1)\n",
    "clf.fit(vec_train, y_train)\n",
    "pred_tfidf = clf.predict(vec_test)\n",
    "print(classification_report(y_test, pred_tfidf))"
   ]
  },
  {
   "cell_type": "code",
   "execution_count": null,
   "id": "5d342865-862a-4c75-a883-93f5fedfada7",
   "metadata": {},
   "outputs": [],
   "source": []
  },
  {
   "cell_type": "code",
   "execution_count": null,
   "id": "c473e1ad-9510-4a50-83a0-8de496039180",
   "metadata": {},
   "outputs": [],
   "source": []
  }
 ],
 "metadata": {
  "kernelspec": {
   "display_name": "Python 3 (ipykernel)",
   "language": "python",
   "name": "python3"
  },
  "language_info": {
   "codemirror_mode": {
    "name": "ipython",
    "version": 3
   },
   "file_extension": ".py",
   "mimetype": "text/x-python",
   "name": "python",
   "nbconvert_exporter": "python",
   "pygments_lexer": "ipython3",
   "version": "3.7.12"
  },
  "toc": {
   "base_numbering": 1,
   "nav_menu": {},
   "number_sections": true,
   "sideBar": true,
   "skip_h1_title": false,
   "title_cell": "Table of Contents",
   "title_sidebar": "Contents",
   "toc_cell": false,
   "toc_position": {},
   "toc_section_display": true,
   "toc_window_display": false
  }
 },
 "nbformat": 4,
 "nbformat_minor": 5
}
