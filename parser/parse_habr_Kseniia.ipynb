{
  "cells": [
    {
      "cell_type": "markdown",
      "metadata": {
        "id": "P72wXvp9pFsy"
      },
      "source": [
        "# **Парсинг Habr**"
      ]
    },
    {
      "cell_type": "code",
      "execution_count": 231,
      "metadata": {
        "id": "16F2Cf6gM4cC"
      },
      "outputs": [],
      "source": [
        "import requests\n",
        "import pandas as pd\n",
        "from bs4 import BeautifulSoup\n",
        "import re\n",
        "from time import sleep\n",
        "from tqdm import tqdm\n",
        "import random"
      ]
    },
    {
      "cell_type": "code",
      "execution_count": 232,
      "metadata": {
        "id": "3LmBvzM_3I7j"
      },
      "outputs": [],
      "source": [
        "def parse(id):\n",
        "    article = requests.get('https://habr.com/ru/article/' + str(id))\n",
        "    if article.status_code == 200:\n",
        "        soup = BeautifulSoup(article.text, 'html.parser')\n",
        "        return soup\n",
        "    else:\n",
        "        None"
      ]
    },
    {
      "cell_type": "code",
      "source": [
        "article1 = parse(346198)"
      ],
      "metadata": {
        "id": "m6taa48F_ka0"
      },
      "execution_count": 233,
      "outputs": []
    },
    {
      "cell_type": "code",
      "source": [
        "# ссылка на статью\n",
        "link = article1.find_all('meta',{'property':'og:url'})[0].get('content')\n",
        "link"
      ],
      "metadata": {
        "colab": {
          "base_uri": "https://localhost:8080/",
          "height": 35
        },
        "id": "LMA9EjEVOeHK",
        "outputId": "0b817877-148d-42c5-8499-dc44416c8d27"
      },
      "execution_count": 234,
      "outputs": [
        {
          "output_type": "execute_result",
          "data": {
            "text/plain": [
              "'https://habr.com/ru/articles/346198/'"
            ],
            "application/vnd.google.colaboratory.intrinsic+json": {
              "type": "string"
            }
          },
          "metadata": {},
          "execution_count": 234
        }
      ]
    },
    {
      "cell_type": "code",
      "execution_count": 236,
      "metadata": {
        "colab": {
          "base_uri": "https://localhost:8080/",
          "height": 35
        },
        "id": "m7YHJUFaPa28",
        "outputId": "bfddb7aa-513d-47f2-b478-db3abc827cdf"
      },
      "outputs": [
        {
          "output_type": "execute_result",
          "data": {
            "text/plain": [
              "'Как я парсил Хабр, часть 1: тренды'"
            ],
            "application/vnd.google.colaboratory.intrinsic+json": {
              "type": "string"
            }
          },
          "metadata": {},
          "execution_count": 236
        }
      ],
      "source": [
        "# заголовок статьи\n",
        "title = article1.find_all('meta', {'property' : 'og:title'})[0].get('content')\n",
        "title"
      ]
    },
    {
      "cell_type": "code",
      "execution_count": 235,
      "metadata": {
        "colab": {
          "base_uri": "https://localhost:8080/"
        },
        "id": "rRnyOgBs9cHT",
        "outputId": "99be01bc-f63b-4bff-e004-a0d485934f52"
      },
      "outputs": [
        {
          "output_type": "execute_result",
          "data": {
            "text/plain": [
              "6"
            ]
          },
          "metadata": {},
          "execution_count": 235
        }
      ],
      "source": [
        "# время чтения статьи\n",
        "reading_time = article1.find('span', {'class': 'tm-article-reading-time__label'}).text\n",
        "reading_time = int(re.search('\\d+',reading_time).group())\n",
        "reading_time"
      ]
    },
    {
      "cell_type": "code",
      "execution_count": null,
      "metadata": {
        "colab": {
          "base_uri": "https://localhost:8080/",
          "height": 35
        },
        "id": "Lmf81Jgi9bZn",
        "outputId": "c22da095-d2a9-432a-c453-4c6f81791f10"
      },
      "outputs": [
        {
          "output_type": "execute_result",
          "data": {
            "text/plain": [
              "'2018-01-08T12:54:55.000Z'"
            ],
            "application/vnd.google.colaboratory.intrinsic+json": {
              "type": "string"
            }
          },
          "metadata": {},
          "execution_count": 206
        }
      ],
      "source": [
        "# время публикации\n",
        "datetime_published = article1.findAll('span', {'class': 'tm-article-datetime-published'})[0].find().get('datetime')\n",
        "datetime_published"
      ]
    },
    {
      "cell_type": "code",
      "execution_count": null,
      "metadata": {
        "colab": {
          "base_uri": "https://localhost:8080/",
          "height": 35
        },
        "id": "xN4gpKFD9ZrC",
        "outputId": "fe8db3b3-7fd9-4df8-dbee-eda84a48f444"
      },
      "outputs": [
        {
          "output_type": "execute_result",
          "data": {
            "text/plain": [
              "'23K'"
            ],
            "application/vnd.google.colaboratory.intrinsic+json": {
              "type": "string"
            }
          },
          "metadata": {},
          "execution_count": 207
        }
      ],
      "source": [
        "# просмотры\n",
        "views = article1.findAll('span', {'class': 'tm-icon-counter__value'})[0].text\n",
        "views"
      ]
    },
    {
      "cell_type": "code",
      "source": [
        "# хабы\n",
        "hubs = article1.findAll('a', {'class': 'tm-hubs-list__link'})\n",
        "hubs = [i.get_text().rstrip() for i in hubs]\n",
        "hubs"
      ],
      "metadata": {
        "colab": {
          "base_uri": "https://localhost:8080/"
        },
        "id": "3rw-5i0m2Rhd",
        "outputId": "ff01ff35-8cff-4bac-85b2-aec4450686b7"
      },
      "execution_count": 238,
      "outputs": [
        {
          "output_type": "execute_result",
          "data": {
            "text/plain": [
              "['Python',\n",
              " 'Визуализация данных',\n",
              " 'Исследования и прогнозы в IT',\n",
              " 'Веб-аналитика']"
            ]
          },
          "metadata": {},
          "execution_count": 238
        }
      ]
    },
    {
      "cell_type": "code",
      "source": [
        "# теги\n",
        "tags = article1.findAll('a', {'class': 'tm-tags-list__link'})\n",
        "tags = [i.get_text().rstrip() for i in tags]\n",
        "tags"
      ],
      "metadata": {
        "colab": {
          "base_uri": "https://localhost:8080/"
        },
        "id": "QlDOst5czgGE",
        "outputId": "72f6faab-f4f6-43fc-c49e-a34ff1a49b9d"
      },
      "execution_count": 239,
      "outputs": [
        {
          "output_type": "execute_result",
          "data": {
            "text/plain": [
              "['хабрахабр', 'парсинг сайтов', 'тренды']"
            ]
          },
          "metadata": {},
          "execution_count": 239
        }
      ]
    },
    {
      "cell_type": "code",
      "execution_count": null,
      "metadata": {
        "colab": {
          "base_uri": "https://localhost:8080/"
        },
        "id": "C5BIbCct9WEa",
        "outputId": "7395979c-fd7a-49cb-fbe6-bffa92515586"
      },
      "outputs": [
        {
          "output_type": "execute_result",
          "data": {
            "text/plain": [
              "121"
            ]
          },
          "metadata": {},
          "execution_count": 210
        }
      ],
      "source": [
        "# количество пользователей, добавивших публикацию в закладки\n",
        "bookmarks = article1.findAll('span', {'class': 'bookmarks-button__counter'})[0].text\n",
        "bookmarks = int(re.search('\\d+',bookmarks).group())\n",
        "bookmarks"
      ]
    },
    {
      "cell_type": "code",
      "execution_count": null,
      "metadata": {
        "colab": {
          "base_uri": "https://localhost:8080/"
        },
        "id": "g77Xhi0i9VTL",
        "outputId": "51741e66-9d70-4f16-cecc-eef4527aae59"
      },
      "outputs": [
        {
          "output_type": "execute_result",
          "data": {
            "text/plain": [
              "45"
            ]
          },
          "metadata": {},
          "execution_count": 211
        }
      ],
      "source": [
        "# количесчтво комментариев\n",
        "comments = article1.findAll('span', {'class': 'tm-article-comments-counter-link__value'})[0].text\n",
        "comments = int(re.search('\\d+',comments).group())\n",
        "comments"
      ]
    },
    {
      "cell_type": "code",
      "execution_count": null,
      "metadata": {
        "id": "nETm5zd7yzcl"
      },
      "outputs": [],
      "source": [
        "# Количество положительных, отрицательных и общее кол-во голосов за рейтинг статьи\n",
        "votes = article1.findAll('span', {'class': 'tm-votes-meter__value'})[0].get('title')\n",
        "result_vote = int(article1.findAll('span', {'class': 'tm-votes-meter__value'})[0].text)\n",
        "if result_vote != 0:\n",
        "    possitive_votes = int(votes.split(':')[1].split('и')[0].strip().split('↑')[1])\n",
        "    negative_votes = int(votes.split(':')[1].split('и')[1].strip().split('↓')[1])\n",
        "else:\n",
        "    possitive_votes, negative_votes = 0, 0"
      ]
    },
    {
      "cell_type": "code",
      "source": [
        "print(result_vote, possitive_votes, negative_votes)"
      ],
      "metadata": {
        "colab": {
          "base_uri": "https://localhost:8080/"
        },
        "id": "fnWBsvbRnisi",
        "outputId": "0f469e78-e934-417c-cf1b-2e662ec8b0bc"
      },
      "execution_count": null,
      "outputs": [
        {
          "output_type": "stream",
          "name": "stdout",
          "text": [
            "62 62 0\n"
          ]
        }
      ]
    },
    {
      "cell_type": "code",
      "execution_count": null,
      "metadata": {
        "colab": {
          "base_uri": "https://localhost:8080/",
          "height": 35
        },
        "id": "LW7LLWc89TzX",
        "outputId": "02011a3b-6588-46bd-84ec-8b75e23dc155"
      },
      "outputs": [
        {
          "output_type": "execute_result",
          "data": {
            "text/plain": [
              "'cointegrated'"
            ],
            "application/vnd.google.colaboratory.intrinsic+json": {
              "type": "string"
            }
          },
          "metadata": {},
          "execution_count": 215
        }
      ],
      "source": [
        "# Имя автора и ник\n",
        "author_username = article1.find('span', {'class': 'tm-user-info__user'}).get_text('tm-user-info__username').strip()\n",
        "author_username = re.findall(r'.+', author_username)[0]\n",
        "author_username"
      ]
    },
    {
      "cell_type": "code",
      "execution_count": null,
      "metadata": {
        "colab": {
          "base_uri": "https://localhost:8080/"
        },
        "id": "bA1tSdAP-EIs",
        "outputId": "2e4a5d0c-39a7-423f-dcb4-0be557a3b0b0"
      },
      "outputs": [
        {
          "output_type": "execute_result",
          "data": {
            "text/plain": [
              "-2.0"
            ]
          },
          "metadata": {},
          "execution_count": 216
        }
      ],
      "source": [
        "# рейтинг автора\n",
        "lever_score = float(article1.findAll('div', {'class': 'tm-counter-container__header'})[1].text.strip())\n",
        "lever_score"
      ]
    },
    {
      "cell_type": "code",
      "execution_count": null,
      "metadata": {
        "colab": {
          "base_uri": "https://localhost:8080/"
        },
        "id": "bHvQk3Uh-Xh2",
        "outputId": "00961867-6c7b-440b-f1aa-6d76b87394ac"
      },
      "outputs": [
        {
          "output_type": "execute_result",
          "data": {
            "text/plain": [
              "139"
            ]
          },
          "metadata": {},
          "execution_count": 217
        }
      ],
      "source": [
        "# карма автора\n",
        "karma = article1.findAll('div', {'class': 'tm-counter-container__header'})[0].text\n",
        "karma = int(re.search('\\d+',karma).group())\n",
        "karma"
      ]
    },
    {
      "cell_type": "code",
      "execution_count": null,
      "metadata": {
        "colab": {
          "base_uri": "https://localhost:8080/"
        },
        "id": "VRoosbcM9Spr",
        "outputId": "49ecd3b7-879f-4cd7-f5f1-fa25e66493c7"
      },
      "outputs": [
        {
          "output_type": "execute_result",
          "data": {
            "text/plain": [
              "<div id=\"post-content-body\"><div><div class=\"article-formatted-body article-formatted-body article-formatted-body_version-1\"><div xmlns=\"http://www.w3.org/1999/xhtml\"><p>Когда был доеден новогодний оливье, мне стало нечего делать, и я решил скачать себе на компьютер все статьи с Хабрахабра (и смежных платформ) и поисследовать. </p><br/>\n",
              "<p>Получилось несколько интересных сюжетов. Первый из них — это развитие формата и тематики статей за 12 лет существования сайта. Например, достаточно показательна динамика некоторых тем. Продолжение — под катом.</p><br/>\n",
              "<img data-src=\"https://habrastorage.org/webt/fa/ht/ez/fahtezsb64hlor2mkatmlp4q7mq.png\" src=\"https://habrastorage.org/r/w1560/webt/fa/ht/ez/fahtezsb64hlor2mkatmlp4q7mq.png\" width=\"540\"><a name=\"habracut\"></a><br/>\n",
              "<h2 id=\"process-parsinga\">Процесс парсинга</h2><br/>\n",
              "<p>Чтобы понять, как развивался Хабр, нужно было обойти по все его статьи и выделить из них метаинформацию (например, даты). Обход дался легко, потому что ссылки на все статьи имеют вид \"habrahabr.ru/post/337722/\", причём номера задаются строго по порядку. Зная, что последний пост имеет номер чуть меньше 350 тысяч, я просто прошёлся по всем возможным id документов циклом (код на Python):</p><br/>\n",
              "<pre><code class=\"python\">import numpy as np\n",
              "from multiprocessing import Pool\n",
              "with Pool(100) as p:\n",
              "    docs = p.map(download_document, np.arange(350000))</code></pre><br/>\n",
              "<p>Функция <code>download_document</code> пытается загружает страницу с соответствующим id и пытается вытащить из структуры html содержательную информацию. </p><br/>\n",
              "<pre><code class=\"python\">import requests\n",
              "from bs4 import BeautifulSoup\n",
              "\n",
              "def download_document(pid):\n",
              "    \"\"\" Download and process a Habr document and its comments \"\"\"\n",
              "    # выгрузка документа\n",
              "    r = requests.get('https://habrahabr.ru/post/' +str(pid) + '/')\n",
              "    # парсинг документа\n",
              "    soup = BeautifulSoup(r.text, 'html5lib') # instead of html.parser\n",
              "    doc = {}\n",
              "    doc['id'] = pid\n",
              "    if not soup.find(\"span\", {\"class\": \"post__title-text\"}):\n",
              "        # такое бывает, если статья не существовала или удалена\n",
              "        doc['status'] = 'title_not_found'\n",
              "    else:\n",
              "        doc['status'] = 'ok'\n",
              "        doc['title'] = soup.find(\"span\", {\"class\": \"post__title-text\"}).text\n",
              "        doc['text'] = soup.find(\"div\", {\"class\": \"post__text\"}).text\n",
              "        doc['time'] = soup.find(\"span\", {\"class\": \"post__time\"}).text\n",
              "        # create other fields: hubs, tags, views, comments, votes, etc.\n",
              "        # ...\n",
              "    # сохранение результата в отдельный файл\n",
              "    fname = r'files/' + str(pid) + '.pkl'\n",
              "    with open(fname, 'wb') as f:\n",
              "        pickle.dump(doc, f)</code></pre><br/>\n",
              "<p>В процессе парсинга открыл для себя несколько новых моментов. </p><br/>\n",
              "<p>Во-первых, говорят, что создавать больше процессов, чем ядер в процессоре, бесполезно. Но в моём случае оказалось, что лимитирующий ресурс — не процессор, а сеть, и 100 процессов отрабатывают быстрее, чем 4 или, скажем, 20. </p><br/>\n",
              "<p>Во-вторых, в некоторых постах встречались сочетания спецсимволов — например, эвфемизмы типа \"%&amp;#@\". Оказалось, что <code>html.parser</code>, который я использовал сначала, реагирует на комбинацию <code>&amp;#</code> болезненно, считая её началом html-сущности. Я уж было собирался творить чёрную магию, но на форуме подсказали, что можно просто поменять парсер.</p><br/>\n",
              "<p>В-третьих, мне удалось выгрузить все публикации, кроме трёх. Документы под номерами 65927, 162075, и 275987 моментально удалил мой антивирус. Это статьи соответственно про цепочку джаваскриптов, загружающую зловредный pdf, SMS-вымогатель в виде набора плагинов для браузеров, и сайт CrashSafari.com, который отправляет айфоны в перезагрузку. Ещё одну статью антивирь обнаружил позднее, во время скана системы: пост 338586 про скрипты на сайте зоомагазина, использующие процессор пользователя для майнинга криптовалюты. Так что можно считать работу антивируса вполне адекватной. </p><br/>\n",
              "<p>\"Живых\" статей оказалась только половина от потенциального максимума — 166307 штук. Про остальные Хабр даёт варианты \"страница устарела, была удалена или не существовала вовсе\". Что ж, всякое бывает. </p><br/>\n",
              "<p>За выгрузкой статей последовала техническая работа: например, даты публикации нужно было перевести из формата \"'21 декабря 2006 в 10:47\" в стандартный <code>datetime</code>, а \"12,8k\" просмотров — в 12800. На этом этапе вылезло ещё несколько казусов. Самый весёлый связан с подсчётом голосов и типами данных: в некоторых старых постах произошло переполнение инта, и они получили по 65535 голосов.</p><br/>\n",
              "<img data-src=\"https://habrastorage.org/webt/ga/a1/0x/gaa10x2xrj6cz9y5mjouf6qghaw.png\" src=\"https://habrastorage.org/r/w1560/webt/ga/a1/0x/gaa10x2xrj6cz9y5mjouf6qghaw.png\" width=\"240\"/><br/>\n",
              "<p>В результате тексты статей (без картинок) заняли у меня 1.5 гигабайта, комментарии с метаинформацией — ещё 3, и около сотни мегабайт — метаинформация о статьях. Такое можно полностью держать в оперативной памяти, что было для меня приятной неожиданностью. </p><br/>\n",
              "<p>Начал анализ статей я не с самих текстов, а с метаинформации: дат, тегов, хабов, просмотров и \"лайков\". Оказалось, что и она может многое поведать. </p><br/>\n",
              "<h2 id=\"trendy-razvitiya-habrahabra\">Тренды развития Хабрахабра</h2><br/>\n",
              "<p>Статьи на сайте публикуются с 2006 года; наиболее интенсивно — в 2008-2016 годах. </p><br/>\n",
              "<img data-src=\"https://habrastorage.org/webt/5x/xq/wy/5xxqwy0ozkxidpiunlp59wzstzm.png\" src=\"https://habrastorage.org/r/w1560/webt/5x/xq/wy/5xxqwy0ozkxidpiunlp59wzstzm.png\" width=\"360\"/><br/>\n",
              "<p>Насколько активно эти статьи читали в разное время, оценить не так просто. Тексты 2012 года и младше более активно комментировали и рейтинговали, но у более новых текстов больше просмотров и добавлений в закладки. Одинаково вели себя (вдвое упали) эти метрики только однажды, в 2015 году. Возможно, в ситуации экономического и политического кризиса внимание читателей перешло с айтишных блогов к более болезненным вопросам. </p><br/>\n",
              "<img data-src=\"https://habrastorage.org/webt/ka/tl/nh/katlnhwb2odlxk3p6uccsqwldcw.png\" src=\"https://habrastorage.org/r/w1560/webt/ka/tl/nh/katlnhwb2odlxk3p6uccsqwldcw.png\" width=\"360\"/><br/>\n",
              "<p>Кроме самих статей, я выкачал ещё комментарии к ним. Комментариев получилось 6 миллионов, правда, 240 тысяч из них оказались забаненными (\"нло прилетело и опубликовало эту надпись здесь\"). Полезное свойство комментариев в том, что для них указано время. Изучая время комментариев, можно примерно понять и то, когда вообще статьи читают. </p><br/>\n",
              "<p>Оказалось, что большую часть статей и пишут, и комментируют где-то с 10 до 20 часов, т.е. в типичный московский рабочий день. Это может значить и что Хабр читают в профессиональных целях, и что это хороший способ прокрастинации на работе. Кстати, это распределение времени суток стабильно с самого основания Хабра до сегодняшнего дня. </p><br/>\n",
              "<img data-src=\"https://habrastorage.org/webt/ck/zv/vu/ckzvvuqwr1mnhs_0hvvw0qdaqqs.png\" src=\"https://habrastorage.org/r/w1560/webt/ck/zv/vu/ckzvvuqwr1mnhs_0hvvw0qdaqqs.png\" width=\"360\"/><br/>\n",
              "<p>Однако основная польза от метки времени комментария — не время суток, а срок \"активной жизни\" статьи. Я подсчитал, как распределено время от публикации статьи до её комментария. Оказалось, что сейчас медианный комментарий (зелёная линия) приходит примерно через 20 часов, т.е. в первые сутки после публикации оставляют в среднем чуть больше половины всех комментариев к статье. А за двое суток оставляют 75% всех комментариев. При этом раньше статьи читали ещё быстрее — так, в 2010 году половина комментариев приходила уже в первые 6 часов. </p><br/>\n",
              "<img data-src=\"https://habrastorage.org/webt/ce/gj/k9/cegjk9fpdcpi7gqijes6dpzvwle.png\" src=\"https://habrastorage.org/r/w1560/webt/ce/gj/k9/cegjk9fpdcpi7gqijes6dpzvwle.png\" width=\"360\"/><br/>\n",
              "<p>Для меня стало сюрпризом, что комментарии удлинились: среднее количество символов в комментарии за время существования Хабра выросло почти вдвое!</p><br/>\n",
              "<img data-src=\"https://habrastorage.org/webt/fn/ay/jl/fnayjlfpsyf3vf2wsj8vyb5g2hm.png\" src=\"https://habrastorage.org/r/w1560/webt/fn/ay/jl/fnayjlfpsyf3vf2wsj8vyb5g2hm.png\" width=\"360\"/><br/>\n",
              "<p>Более простая обратная связь, чем комментарии — это голоса. В отличие от многих других ресурсов, на Хабре можно ставить не только плюсы, но и минусы. Впрочем, последней возможностью читатели пользуются не так часто: текущая доля дизлайков составляет около 15% от всех отданных голосов. Раньше было больше, но со временем читатели подобрели. </p><br/>\n",
              "<img data-src=\"https://habrastorage.org/webt/k3/_t/je/k3_tjevzru_8-tez48n0zh-hiog.png\" src=\"https://habrastorage.org/r/w1560/webt/k3/_t/je/k3_tjevzru_8-tez48n0zh-hiog.png\" width=\"360\"/><br/>\n",
              "<p>Менялись со временем и сами тексты. Например, типичная длина текста не прекращает устойчиво расти с самого запуска сайта, несмотря на кризисы. За десятилетие тексты стали почти в десять раз длиннее!</p><br/>\n",
              "<img data-src=\"https://habrastorage.org/webt/0q/ji/cp/0qjicpigcx6k2aeyeak0ob-wny0.png\" src=\"https://habrastorage.org/r/w1560/webt/0q/ji/cp/0qjicpigcx6k2aeyeak0ob-wny0.png\" width=\"360\"/><br/>\n",
              "<p>Стилистика текстов (в первом приближении) тоже менялась. За первые годы существования Хабра, например, выросла доля кода и чисел в текстах:</p><br/>\n",
              "<img data-src=\"https://habrastorage.org/webt/v3/wo/lw/v3wolwgn1nycharjflckycowj94.png\" src=\"https://habrastorage.org/r/w1560/webt/v3/wo/lw/v3wolwgn1nycharjflckycowj94.png\" width=\"720\"/><br/>\n",
              "<p>Разобравшись с общей динамикой сайта, я решил измерить, как менялась популярность различных тем. Темы можно выделять из текстов автоматически, но для начала можно не изобретать велосипед, а воспользоваться готовыми тегами, проставленными авторами каждой статьи. Четыре типичных тренда я вывел на графике. Тема \"Google\" изначально доминировала (возможно, в основном в связи с SEO-оптимизацией), но с каждым годом теряла вес. Javascript был популярной темой и продолжает постепенно, а вот машинное обучение начало стремительно набирать популярность лишь в последние годы. Linux же остаётся одинаково актуальным на протяжении всего десятилетия. </p><br/>\n",
              "<img data-src=\"https://habrastorage.org/webt/vx/s5/yy/vxs5yy1ojnjf4hlufmoi4j9fsve.png\" src=\"https://habrastorage.org/r/w1560/webt/vx/s5/yy/vxs5yy1ojnjf4hlufmoi4j9fsve.png\" width=\"360\"/><br/>\n",
              "<p>Конечно же, мне стало интересно, какие темы привлекают больше читательской активности. Я подсчитал медианное число просмотров, голосов и комментов в каждой теме. Вот что получилось:</p><br/>\n",
              "<ul>\n",
              "<li>Самые просматриваемые темы: arduino, веб-дизайн, веб-разработка, дайджест, ссылки, css, html, html5, nginx, алгоритмы. </li>\n",
              "<li>Самые \"лайкабельные\" темы: вконтакте, юмор, jquery, opera, c, html, веб-разработка, html5, css, веб-дизайн. </li>\n",
              "<li>Самые обсуждаемые темы: opera, skype, фриланс, вконтакте, ubuntu, работа, nokia, nginx, arduino, firefox. </li>\n",
              "</ul><br/>\n",
              "<p>Кстати, раз уж я сравниваю темы, можно сделать их рейтинг по частоте (и сравнить результаты с <a href=\"http://habrahabr.ru/post/197308/\" rel=\"nofollow noopener noreferrer\">аналогичной статьёй от 2013 года</a>). </p><br/>\n",
              "<ul>\n",
              "<li>За все годы существования Хабра самыми популярными тегами (в порядке убывания) стали google, android, javascript, microsoft, linux, php, apple, java, python, программирование, стартапы, разработка, ios, стартап, социальные сети</li>\n",
              "<li>В 2017 году наиболее популярны были javascript, python, java, android, разработка, linux, c++, программирование, php, c#, ios, машинное обучение, информационная безопасность, microsoft, react</li>\n",
              "</ul><br/>\n",
              "<p>При сравнении этих рейтингов можно обратить внимание, например, на победоносное шествие Питона и вымирание php, или на \"закат\" стартаперской тематики и взлёт машинного обучения.</p><br/>\n",
              "<p>Не все теги на Хабре имеют столь очевидную тематическую окраску. Вот, например, десяток тегов, которые встречались всего лишь один раз, но просто показались мне забавными. Итак: \"идея движитель прогресса\", \"загрузка с образа дискеты\", \"штат айова\", \"драматургия\", \"супералеша\", \"паровой двигатель\", \"чем заняться в субботу\", \"у меня лисица в мясорубке\", \"а получилось как всегда\", \"смешных тэгов придумать не удалось\". Чтобы определить тематику таких статей, тегов недостаточно — придётся осуществлять тематическое моделирование над текстами статей. </p><br/>\n",
              "<p>Более подробный анализ содержания статей будет в следующем посте. Во-первых, я собираюсь построить модель, прогнозирующую количество просмотров статьи в зависимости от её содержания. Во-вторых, хочется научить нейросеть генерировать тексты в той же стилистике, что и у авторов Хабра. Так что подписывайтесь :)</p><br/>\n",
              "<p>P.S. А вот и запикленный <a href=\"https://yadi.sk/d/JV5S4nUKUrkzsA\" rel=\"nofollow noopener noreferrer\">датасет</a> и <a href=\"https://disk.yandex.ru/d/xv-opls6-7Yisg\" rel=\"nofollow noopener noreferrer\">аналог в jsonlines (без комментариев)</a>.</p></img></div></div></div> <!-- --> <!-- --></div>"
            ]
          },
          "metadata": {},
          "execution_count": 229
        }
      ],
      "source": [
        "# текст статьи\n",
        "article_text = article1.find('div', id=\"post-content-body\")\n",
        "article_text\n",
        "# пока просто целиком \"post-content-body\" без удаления лишнего"
      ]
    },
    {
      "cell_type": "code",
      "execution_count": null,
      "metadata": {
        "colab": {
          "base_uri": "https://localhost:8080/"
        },
        "id": "hCpTewV29QRR",
        "outputId": "52ee2a02-2105-4db9-d6bd-09f1d6e9f345"
      },
      "outputs": [
        {
          "output_type": "execute_result",
          "data": {
            "text/plain": [
              "['http://habrahabr.ru/post/197308/',\n",
              " 'https://yadi.sk/d/JV5S4nUKUrkzsA',\n",
              " 'https://disk.yandex.ru/d/xv-opls6-7Yisg']"
            ]
          },
          "metadata": {},
          "execution_count": 219
        }
      ],
      "source": [
        "# ссылки в статье\n",
        "links = [i.get('href') for i in article_text.find_all('a')]\n",
        "links = list(filter(lambda item: item is not None, links))\n",
        "links"
      ]
    },
    {
      "cell_type": "code",
      "source": [
        "# картинки\n",
        "images = [i.get('src') for i in article_text.find_all('img')]\n",
        "images"
      ],
      "metadata": {
        "colab": {
          "base_uri": "https://localhost:8080/"
        },
        "id": "yXTr2zVFWGTi",
        "outputId": "c9d3c6cd-105f-446b-e37d-92203ffb9af7"
      },
      "execution_count": null,
      "outputs": [
        {
          "output_type": "execute_result",
          "data": {
            "text/plain": [
              "['https://habrastorage.org/r/w1560/webt/fa/ht/ez/fahtezsb64hlor2mkatmlp4q7mq.png',\n",
              " 'https://habrastorage.org/r/w1560/webt/ga/a1/0x/gaa10x2xrj6cz9y5mjouf6qghaw.png',\n",
              " 'https://habrastorage.org/r/w1560/webt/5x/xq/wy/5xxqwy0ozkxidpiunlp59wzstzm.png',\n",
              " 'https://habrastorage.org/r/w1560/webt/ka/tl/nh/katlnhwb2odlxk3p6uccsqwldcw.png',\n",
              " 'https://habrastorage.org/r/w1560/webt/ck/zv/vu/ckzvvuqwr1mnhs_0hvvw0qdaqqs.png',\n",
              " 'https://habrastorage.org/r/w1560/webt/ce/gj/k9/cegjk9fpdcpi7gqijes6dpzvwle.png',\n",
              " 'https://habrastorage.org/r/w1560/webt/fn/ay/jl/fnayjlfpsyf3vf2wsj8vyb5g2hm.png',\n",
              " 'https://habrastorage.org/r/w1560/webt/k3/_t/je/k3_tjevzru_8-tez48n0zh-hiog.png',\n",
              " 'https://habrastorage.org/r/w1560/webt/0q/ji/cp/0qjicpigcx6k2aeyeak0ob-wny0.png',\n",
              " 'https://habrastorage.org/r/w1560/webt/v3/wo/lw/v3wolwgn1nycharjflckycowj94.png',\n",
              " 'https://habrastorage.org/r/w1560/webt/vx/s5/yy/vxs5yy1ojnjf4hlufmoi4j9fsve.png']"
            ]
          },
          "metadata": {},
          "execution_count": 220
        }
      ]
    },
    {
      "cell_type": "code",
      "execution_count": 241,
      "metadata": {
        "id": "25GfsTdigr7T"
      },
      "outputs": [],
      "source": [
        "def parseArticle(soup):\n",
        "    # url\n",
        "    url = soup.find_all('meta',{'property':'og:url'})[0].get('content')\n",
        "    # заголовок статьи\n",
        "    title = soup.find_all('meta', {'property' : 'og:title'})[0].get('content')\n",
        "    # хабы\n",
        "    hubs = soup.findAll('a', {'class': 'tm-hubs-list__link'})\n",
        "    hubs = [i.get_text().rstrip() for i in hubs]\n",
        "    # теги\n",
        "    tags = soup.findAll('a', {'class': 'tm-tags-list__link'})\n",
        "    tags = [i.get_text().rstrip() for i in tags]\n",
        "    # дата публикации\n",
        "    datetime_published = soup.findAll('span', {'class': 'tm-article-datetime-published'})[0].find().get('datetime')\n",
        "    # кол-во просмотров\n",
        "    views = soup.findAll('span', {'class': 'tm-icon-counter__value'})[0].text\n",
        "    # количество пользователей, добавивших публикацию в закладки\n",
        "    bookmarks = soup.findAll('span', {'class': 'bookmarks-button__counter'})[0].text\n",
        "    bookmarks = int(re.search('\\d+',bookmarks).group())\n",
        "    # количесчтво комментариев\n",
        "    comments = soup.findAll('span', {'class': 'tm-article-comments-counter-link__value'})[0].text\n",
        "    comments = int(re.search('\\d+',comments).group())\n",
        "    # количество положительных, отрицательных и общее кол-во голосов за рейтинг статьи\n",
        "    votes = soup.findAll('span', {'class': 'tm-votes-meter__value'})[0].get('title')\n",
        "    result_vote = int(soup.findAll('span', {'class': 'tm-votes-meter__value'})[0].text)\n",
        "    if result_vote != 0:\n",
        "        possitive_votes = int(votes.split(':')[1].split('и')[0].strip().split('↑')[1])\n",
        "        negative_votes = int(votes.split(':')[1].split('и')[1].strip().split('↓')[1])\n",
        "    else:\n",
        "        possitive_votes, negative_votes = 0, 0\n",
        "    # ник автора\n",
        "    author_username = soup.find('span', {'class': 'tm-user-info__user'}).get_text('tm-user-info__username').strip()\n",
        "    author_username = re.findall(r'.+', author_username)[0]\n",
        "    # рейтинг автора\n",
        "    lever_score = float(soup.findAll('div', {'class': 'tm-counter-container__header'})[1].text.strip())\n",
        "    # карма автора\n",
        "    karma = soup.findAll('div', {'class': 'tm-counter-container__header'})[0].text\n",
        "    karma = int(re.search('\\d+',karma).group())\n",
        "    # текст статьи\n",
        "    article_text = soup.find('div', id=\"post-content-body\")\n",
        "    # ссылки в статье\n",
        "    links = [i.get('href') for i in article_text.find_all('a')]\n",
        "    links = list(filter(lambda item: item is not None, links))\n",
        "    # картинки\n",
        "    images = [i.get('src') for i in article_text.find_all('img')]\n",
        "    return {'link': url,\n",
        "            'title':title,\n",
        "            'hubs': hubs,\n",
        "            'tags': tags,\n",
        "            'bookmarks': bookmarks,\n",
        "            'comments': comments,\n",
        "            'publication date': datetime_published,\n",
        "            'views': views,\n",
        "            'possitive_votes': possitive_votes,\n",
        "            'negative_votes': negative_votes,\n",
        "            'result_vote': result_vote,\n",
        "            'author_username': author_username,\n",
        "            'lever_score': lever_score,\n",
        "            'karma': karma,\n",
        "            'article_text': article_text,\n",
        "            'links': links,\n",
        "            'images': images}"
      ]
    },
    {
      "cell_type": "code",
      "source": [
        "def getArticle(soup):\n",
        "    url = soup.find_all('meta',{'property':'og:url'})[0].get('content')\n",
        "    if 'posts' in url.split('/'):\n",
        "        return None\n",
        "    else:\n",
        "        parsed_article = parseArticle(soup)\n",
        "        return parsed_article"
      ],
      "metadata": {
        "id": "hWhLOTMAgL-t"
      },
      "execution_count": null,
      "outputs": []
    },
    {
      "cell_type": "markdown",
      "source": [
        "Выполню парсинг статей, в ссылке которых есть значение от 750000 до 750300. Если запрос успешно выполнился и по переданной ссылке находится статья, сохраню **ссылку, название статьи, хабы, теги, дату публикации,количество просмотров, положительные и отрицательные голоса, рейтинг статьи, количество пользователей, добавивших публикацию в закладки, количество комментариев, ник автора, рейтинг и карму автора, текст статьи,ссылки и картинки из статьи.**"
      ],
      "metadata": {
        "id": "-9qYGfkauzjQ"
      }
    },
    {
      "cell_type": "code",
      "source": [
        "parseHabr_list = list()\n",
        "for i in tqdm(range(750000, 750300)):\n",
        "    p = parse(i)\n",
        "    if p is None:\n",
        "       continue\n",
        "    else:\n",
        "        article = getArticle(p)\n",
        "        if article is not None:\n",
        "            parseHabr_list.append(article)\n",
        "    sleep(random.random())\n"
      ],
      "metadata": {
        "colab": {
          "base_uri": "https://localhost:8080/"
        },
        "id": "4E7q3FcByuc4",
        "outputId": "bc857d47-3097-4827-d961-49b9abf177cf"
      },
      "execution_count": 242,
      "outputs": [
        {
          "output_type": "stream",
          "name": "stderr",
          "text": [
            "100%|██████████| 300/300 [07:09<00:00,  1.43s/it]\n"
          ]
        }
      ]
    },
    {
      "cell_type": "code",
      "source": [
        "parseHabr_df = pd.DataFrame(parseHabr_list)\n",
        "parseHabr_df"
      ],
      "metadata": {
        "colab": {
          "base_uri": "https://localhost:8080/",
          "height": 1000
        },
        "id": "0l960W3oudKg",
        "outputId": "04982829-d132-4f00-c4d6-5fdb1a9f06f6"
      },
      "execution_count": 243,
      "outputs": [
        {
          "output_type": "execute_result",
          "data": {
            "text/plain": [
              "                                                  link  \\\n",
              "0    https://habr.com/ru/companies/sbermarket/artic...   \n",
              "1                     https://habr.com/ru/news/750002/   \n",
              "2                     https://habr.com/ru/news/750004/   \n",
              "3    https://habr.com/ru/companies/yandex_praktikum...   \n",
              "4    https://habr.com/ru/companies/ru_mts/articles/...   \n",
              "..                                                 ...   \n",
              "131                   https://habr.com/ru/news/750290/   \n",
              "132  https://habr.com/ru/companies/timeweb/articles...   \n",
              "133  https://habr.com/ru/companies/banki/articles/7...   \n",
              "134  https://habr.com/ru/companies/habr_career/arti...   \n",
              "135  https://habr.com/ru/companies/bft/articles/750...   \n",
              "\n",
              "                                                 title  \\\n",
              "0    Под капотом анимаций в React Native. Часть 2/2...   \n",
              "1    Учёные начали использовать потеющего робота дл...   \n",
              "2    Bloomberg: для разработчиков игр стало проблем...   \n",
              "3    Яндекс Практикум запустил новый курс «Автомати...   \n",
              "4    В 100 раз быстрее Wi-Fi: Li-Fi, беспроводная с...   \n",
              "..                                                 ...   \n",
              "131  Браузер Arc вышел из бета-теста и стал доступе...   \n",
              "132  Создаем I2C Master Controller на Verilog. Идея...   \n",
              "133  Тестовые среды для разработчиков: успехи и фей...   \n",
              "134  «Я больше не могу найти работу» — истории карь...   \n",
              "135       Сравнительный анализ Apache Kafka и RabbitMQ   \n",
              "\n",
              "                                                  hubs  \\\n",
              "0    [Блог компании СберМаркет, JavaScript, Разрабо...   \n",
              "1         [Робототехника, Научно-популярное, Здоровье]   \n",
              "2       [Разработка под AR и VR, AR и VR, IT-компании]   \n",
              "3    [Блог компании Яндекс Практикум, Python, Прогр...   \n",
              "4    [Блог компании МТС, Сетевые технологии, Беспро...   \n",
              "..                                                 ...   \n",
              "131                                   [Браузеры, Софт]   \n",
              "132  [Блог компании Timeweb Cloud, FPGA, Схемотехни...   \n",
              "133  [Блог компании Банки.ру, Тестирование IT-систе...   \n",
              "134  [Блог компании Хабр Карьера, Карьера в IT-инду...   \n",
              "135  [Блог компании БФТ-Холдинг, Системное админист...   \n",
              "\n",
              "                                                  tags  bookmarks  comments  \\\n",
              "0                             [react native, анимации]         31         0   \n",
              "1    [аризонский университет, роботы, манекен, жара...          1         1   \n",
              "2                          [Apple, Vision Pro, VR, AR]          1         0   \n",
              "3    [автоматизация тестирования, автоматизация рут...          1         0   \n",
              "4    [сетевые технологии, беспроводные технологии, ...         33        57   \n",
              "..                                                 ...        ...       ...   \n",
              "131  [Arc, the browser company, браузеры, обновлени...          3        16   \n",
              "132  [timeweb_статьи, fpga, i2c, i2c bus, i2c maste...         56        10   \n",
              "133                                     [тестирование]         25         3   \n",
              "134  [хабр карьера, спецпроект хабр карьеры, карьер...        107       329   \n",
              "135        [rabbitmq, apache kafka, брокеры сообщений]         73         4   \n",
              "\n",
              "             publication date views  possitive_votes  negative_votes  \\\n",
              "0    2023-08-25T11:40:08.000Z  1.6K                6               0   \n",
              "1    2023-07-24T12:17:01.000Z   807                6               0   \n",
              "2    2023-07-24T12:03:40.000Z   644                2               0   \n",
              "3    2023-07-24T12:08:25.000Z   799                2               0   \n",
              "4    2023-07-24T12:12:39.000Z   12K               23               4   \n",
              "..                        ...   ...              ...             ...   \n",
              "131  2023-07-25T15:24:14.000Z  4.9K                5               1   \n",
              "132  2023-07-26T08:01:01.000Z  4.9K               64               0   \n",
              "133  2023-07-25T16:34:03.000Z  2.6K                7               0   \n",
              "134  2023-07-26T08:06:03.000Z  113K               96              10   \n",
              "135  2023-07-26T07:57:07.000Z  5.8K               12               0   \n",
              "\n",
              "     result_vote  author_username  lever_score  karma  \\\n",
              "0              6         Evgen175          0.0     10   \n",
              "1              6        maybe_elf        215.0    211   \n",
              "2              2          avouner         20.7     84   \n",
              "3              2  MarieSuperhero1          0.2      6   \n",
              "4             19      arturovdima         -2.0      6   \n",
              "..           ...              ...          ...    ...   \n",
              "131            4       daniilshat        111.2    185   \n",
              "132           64        megalloid         -2.0    111   \n",
              "133            7         Adeffeus          0.0      5   \n",
              "134           86       nastyasich         19.0     21   \n",
              "135           12             aekz          0.0      3   \n",
              "\n",
              "                                          article_text  \\\n",
              "0    [[[<div xmlns=\"http://www.w3.org/1999/xhtml\"><...   \n",
              "1    [[[<div xmlns=\"http://www.w3.org/1999/xhtml\"><...   \n",
              "2    [[[<div xmlns=\"http://www.w3.org/1999/xhtml\"><...   \n",
              "3    [[[<div xmlns=\"http://www.w3.org/1999/xhtml\"><...   \n",
              "4    [[[<div xmlns=\"http://www.w3.org/1999/xhtml\"><...   \n",
              "..                                                 ...   \n",
              "131  [[[<div xmlns=\"http://www.w3.org/1999/xhtml\"><...   \n",
              "132  [[[<div xmlns=\"http://www.w3.org/1999/xhtml\">В...   \n",
              "133  [[[<div xmlns=\"http://www.w3.org/1999/xhtml\"><...   \n",
              "134  [[[<div xmlns=\"http://www.w3.org/1999/xhtml\"><...   \n",
              "135  [[[<div xmlns=\"http://www.w3.org/1999/xhtml\"><...   \n",
              "\n",
              "                                                 links  \\\n",
              "0    [https://habr.com/ru/companies/sbermarket/arti...   \n",
              "1    [https://news.asu.edu/20230525-solutions-meet-...   \n",
              "2    [https://www.bloomberg.com/news/newsletters/20...   \n",
              "3    [https://practicum.yandex.ru/qa-automation-eng...   \n",
              "4    [https://www.businesswire.com/news/home/202307...   \n",
              "..                                                 ...   \n",
              "131  [https://arc.net/, https://arc.net/credits, ht...   \n",
              "132  [http://kmpu.ru/other/bus_i2c/index.html, http...   \n",
              "133  [https://www.banki.ru/, https://habr.com/ru/co...   \n",
              "134  [https://habr.com/ru/companies/habr_career/art...   \n",
              "135  [https://bftcom.com/career/, #rabbit, #kafka, ...   \n",
              "\n",
              "                                                images  \n",
              "0    [https://habrastorage.org/r/w780q1/getpro/habr...  \n",
              "1    [https://habrastorage.org/r/w780q1/getpro/habr...  \n",
              "2                                                   []  \n",
              "3                                                   []  \n",
              "4    [https://habrastorage.org/r/w1560/getpro/habr/...  \n",
              "..                                                 ...  \n",
              "131  [https://habrastorage.org/r/w780q1/getpro/habr...  \n",
              "132  [https://habrastorage.org/r/w1560/webt/bo/e2/w...  \n",
              "133  [https://habrastorage.org/r/w1560/webt/c5/ic/d...  \n",
              "134  [https://habrastorage.org/r/w1560/getpro/habr/...  \n",
              "135  [https://habrastorage.org/r/w1560/getpro/habr/...  \n",
              "\n",
              "[136 rows x 17 columns]"
            ],
            "text/html": [
              "\n",
              "  <div id=\"df-f90f6402-d80b-4bed-9aa1-c8a242dc39b3\" class=\"colab-df-container\">\n",
              "    <div>\n",
              "<style scoped>\n",
              "    .dataframe tbody tr th:only-of-type {\n",
              "        vertical-align: middle;\n",
              "    }\n",
              "\n",
              "    .dataframe tbody tr th {\n",
              "        vertical-align: top;\n",
              "    }\n",
              "\n",
              "    .dataframe thead th {\n",
              "        text-align: right;\n",
              "    }\n",
              "</style>\n",
              "<table border=\"1\" class=\"dataframe\">\n",
              "  <thead>\n",
              "    <tr style=\"text-align: right;\">\n",
              "      <th></th>\n",
              "      <th>link</th>\n",
              "      <th>title</th>\n",
              "      <th>hubs</th>\n",
              "      <th>tags</th>\n",
              "      <th>bookmarks</th>\n",
              "      <th>comments</th>\n",
              "      <th>publication date</th>\n",
              "      <th>views</th>\n",
              "      <th>possitive_votes</th>\n",
              "      <th>negative_votes</th>\n",
              "      <th>result_vote</th>\n",
              "      <th>author_username</th>\n",
              "      <th>lever_score</th>\n",
              "      <th>karma</th>\n",
              "      <th>article_text</th>\n",
              "      <th>links</th>\n",
              "      <th>images</th>\n",
              "    </tr>\n",
              "  </thead>\n",
              "  <tbody>\n",
              "    <tr>\n",
              "      <th>0</th>\n",
              "      <td>https://habr.com/ru/companies/sbermarket/artic...</td>\n",
              "      <td>Под капотом анимаций в React Native. Часть 2/2...</td>\n",
              "      <td>[Блог компании СберМаркет, JavaScript, Разрабо...</td>\n",
              "      <td>[react native, анимации]</td>\n",
              "      <td>31</td>\n",
              "      <td>0</td>\n",
              "      <td>2023-08-25T11:40:08.000Z</td>\n",
              "      <td>1.6K</td>\n",
              "      <td>6</td>\n",
              "      <td>0</td>\n",
              "      <td>6</td>\n",
              "      <td>Evgen175</td>\n",
              "      <td>0.0</td>\n",
              "      <td>10</td>\n",
              "      <td>[[[&lt;div xmlns=\"http://www.w3.org/1999/xhtml\"&gt;&lt;...</td>\n",
              "      <td>[https://habr.com/ru/companies/sbermarket/arti...</td>\n",
              "      <td>[https://habrastorage.org/r/w780q1/getpro/habr...</td>\n",
              "    </tr>\n",
              "    <tr>\n",
              "      <th>1</th>\n",
              "      <td>https://habr.com/ru/news/750002/</td>\n",
              "      <td>Учёные начали использовать потеющего робота дл...</td>\n",
              "      <td>[Робототехника, Научно-популярное, Здоровье]</td>\n",
              "      <td>[аризонский университет, роботы, манекен, жара...</td>\n",
              "      <td>1</td>\n",
              "      <td>1</td>\n",
              "      <td>2023-07-24T12:17:01.000Z</td>\n",
              "      <td>807</td>\n",
              "      <td>6</td>\n",
              "      <td>0</td>\n",
              "      <td>6</td>\n",
              "      <td>maybe_elf</td>\n",
              "      <td>215.0</td>\n",
              "      <td>211</td>\n",
              "      <td>[[[&lt;div xmlns=\"http://www.w3.org/1999/xhtml\"&gt;&lt;...</td>\n",
              "      <td>[https://news.asu.edu/20230525-solutions-meet-...</td>\n",
              "      <td>[https://habrastorage.org/r/w780q1/getpro/habr...</td>\n",
              "    </tr>\n",
              "    <tr>\n",
              "      <th>2</th>\n",
              "      <td>https://habr.com/ru/news/750004/</td>\n",
              "      <td>Bloomberg: для разработчиков игр стало проблем...</td>\n",
              "      <td>[Разработка под AR и VR, AR и VR, IT-компании]</td>\n",
              "      <td>[Apple, Vision Pro, VR, AR]</td>\n",
              "      <td>1</td>\n",
              "      <td>0</td>\n",
              "      <td>2023-07-24T12:03:40.000Z</td>\n",
              "      <td>644</td>\n",
              "      <td>2</td>\n",
              "      <td>0</td>\n",
              "      <td>2</td>\n",
              "      <td>avouner</td>\n",
              "      <td>20.7</td>\n",
              "      <td>84</td>\n",
              "      <td>[[[&lt;div xmlns=\"http://www.w3.org/1999/xhtml\"&gt;&lt;...</td>\n",
              "      <td>[https://www.bloomberg.com/news/newsletters/20...</td>\n",
              "      <td>[]</td>\n",
              "    </tr>\n",
              "    <tr>\n",
              "      <th>3</th>\n",
              "      <td>https://habr.com/ru/companies/yandex_praktikum...</td>\n",
              "      <td>Яндекс Практикум запустил новый курс «Автомати...</td>\n",
              "      <td>[Блог компании Яндекс Практикум, Python, Прогр...</td>\n",
              "      <td>[автоматизация тестирования, автоматизация рут...</td>\n",
              "      <td>1</td>\n",
              "      <td>0</td>\n",
              "      <td>2023-07-24T12:08:25.000Z</td>\n",
              "      <td>799</td>\n",
              "      <td>2</td>\n",
              "      <td>0</td>\n",
              "      <td>2</td>\n",
              "      <td>MarieSuperhero1</td>\n",
              "      <td>0.2</td>\n",
              "      <td>6</td>\n",
              "      <td>[[[&lt;div xmlns=\"http://www.w3.org/1999/xhtml\"&gt;&lt;...</td>\n",
              "      <td>[https://practicum.yandex.ru/qa-automation-eng...</td>\n",
              "      <td>[]</td>\n",
              "    </tr>\n",
              "    <tr>\n",
              "      <th>4</th>\n",
              "      <td>https://habr.com/ru/companies/ru_mts/articles/...</td>\n",
              "      <td>В 100 раз быстрее Wi-Fi: Li-Fi, беспроводная с...</td>\n",
              "      <td>[Блог компании МТС, Сетевые технологии, Беспро...</td>\n",
              "      <td>[сетевые технологии, беспроводные технологии, ...</td>\n",
              "      <td>33</td>\n",
              "      <td>57</td>\n",
              "      <td>2023-07-24T12:12:39.000Z</td>\n",
              "      <td>12K</td>\n",
              "      <td>23</td>\n",
              "      <td>4</td>\n",
              "      <td>19</td>\n",
              "      <td>arturovdima</td>\n",
              "      <td>-2.0</td>\n",
              "      <td>6</td>\n",
              "      <td>[[[&lt;div xmlns=\"http://www.w3.org/1999/xhtml\"&gt;&lt;...</td>\n",
              "      <td>[https://www.businesswire.com/news/home/202307...</td>\n",
              "      <td>[https://habrastorage.org/r/w1560/getpro/habr/...</td>\n",
              "    </tr>\n",
              "    <tr>\n",
              "      <th>...</th>\n",
              "      <td>...</td>\n",
              "      <td>...</td>\n",
              "      <td>...</td>\n",
              "      <td>...</td>\n",
              "      <td>...</td>\n",
              "      <td>...</td>\n",
              "      <td>...</td>\n",
              "      <td>...</td>\n",
              "      <td>...</td>\n",
              "      <td>...</td>\n",
              "      <td>...</td>\n",
              "      <td>...</td>\n",
              "      <td>...</td>\n",
              "      <td>...</td>\n",
              "      <td>...</td>\n",
              "      <td>...</td>\n",
              "      <td>...</td>\n",
              "    </tr>\n",
              "    <tr>\n",
              "      <th>131</th>\n",
              "      <td>https://habr.com/ru/news/750290/</td>\n",
              "      <td>Браузер Arc вышел из бета-теста и стал доступе...</td>\n",
              "      <td>[Браузеры, Софт]</td>\n",
              "      <td>[Arc, the browser company, браузеры, обновлени...</td>\n",
              "      <td>3</td>\n",
              "      <td>16</td>\n",
              "      <td>2023-07-25T15:24:14.000Z</td>\n",
              "      <td>4.9K</td>\n",
              "      <td>5</td>\n",
              "      <td>1</td>\n",
              "      <td>4</td>\n",
              "      <td>daniilshat</td>\n",
              "      <td>111.2</td>\n",
              "      <td>185</td>\n",
              "      <td>[[[&lt;div xmlns=\"http://www.w3.org/1999/xhtml\"&gt;&lt;...</td>\n",
              "      <td>[https://arc.net/, https://arc.net/credits, ht...</td>\n",
              "      <td>[https://habrastorage.org/r/w780q1/getpro/habr...</td>\n",
              "    </tr>\n",
              "    <tr>\n",
              "      <th>132</th>\n",
              "      <td>https://habr.com/ru/companies/timeweb/articles...</td>\n",
              "      <td>Создаем I2C Master Controller на Verilog. Идея...</td>\n",
              "      <td>[Блог компании Timeweb Cloud, FPGA, Схемотехни...</td>\n",
              "      <td>[timeweb_статьи, fpga, i2c, i2c bus, i2c maste...</td>\n",
              "      <td>56</td>\n",
              "      <td>10</td>\n",
              "      <td>2023-07-26T08:01:01.000Z</td>\n",
              "      <td>4.9K</td>\n",
              "      <td>64</td>\n",
              "      <td>0</td>\n",
              "      <td>64</td>\n",
              "      <td>megalloid</td>\n",
              "      <td>-2.0</td>\n",
              "      <td>111</td>\n",
              "      <td>[[[&lt;div xmlns=\"http://www.w3.org/1999/xhtml\"&gt;В...</td>\n",
              "      <td>[http://kmpu.ru/other/bus_i2c/index.html, http...</td>\n",
              "      <td>[https://habrastorage.org/r/w1560/webt/bo/e2/w...</td>\n",
              "    </tr>\n",
              "    <tr>\n",
              "      <th>133</th>\n",
              "      <td>https://habr.com/ru/companies/banki/articles/7...</td>\n",
              "      <td>Тестовые среды для разработчиков: успехи и фей...</td>\n",
              "      <td>[Блог компании Банки.ру, Тестирование IT-систе...</td>\n",
              "      <td>[тестирование]</td>\n",
              "      <td>25</td>\n",
              "      <td>3</td>\n",
              "      <td>2023-07-25T16:34:03.000Z</td>\n",
              "      <td>2.6K</td>\n",
              "      <td>7</td>\n",
              "      <td>0</td>\n",
              "      <td>7</td>\n",
              "      <td>Adeffeus</td>\n",
              "      <td>0.0</td>\n",
              "      <td>5</td>\n",
              "      <td>[[[&lt;div xmlns=\"http://www.w3.org/1999/xhtml\"&gt;&lt;...</td>\n",
              "      <td>[https://www.banki.ru/, https://habr.com/ru/co...</td>\n",
              "      <td>[https://habrastorage.org/r/w1560/webt/c5/ic/d...</td>\n",
              "    </tr>\n",
              "    <tr>\n",
              "      <th>134</th>\n",
              "      <td>https://habr.com/ru/companies/habr_career/arti...</td>\n",
              "      <td>«Я больше не могу найти работу» — истории карь...</td>\n",
              "      <td>[Блог компании Хабр Карьера, Карьера в IT-инду...</td>\n",
              "      <td>[хабр карьера, спецпроект хабр карьеры, карьер...</td>\n",
              "      <td>107</td>\n",
              "      <td>329</td>\n",
              "      <td>2023-07-26T08:06:03.000Z</td>\n",
              "      <td>113K</td>\n",
              "      <td>96</td>\n",
              "      <td>10</td>\n",
              "      <td>86</td>\n",
              "      <td>nastyasich</td>\n",
              "      <td>19.0</td>\n",
              "      <td>21</td>\n",
              "      <td>[[[&lt;div xmlns=\"http://www.w3.org/1999/xhtml\"&gt;&lt;...</td>\n",
              "      <td>[https://habr.com/ru/companies/habr_career/art...</td>\n",
              "      <td>[https://habrastorage.org/r/w1560/getpro/habr/...</td>\n",
              "    </tr>\n",
              "    <tr>\n",
              "      <th>135</th>\n",
              "      <td>https://habr.com/ru/companies/bft/articles/750...</td>\n",
              "      <td>Сравнительный анализ Apache Kafka и RabbitMQ</td>\n",
              "      <td>[Блог компании БФТ-Холдинг, Системное админист...</td>\n",
              "      <td>[rabbitmq, apache kafka, брокеры сообщений]</td>\n",
              "      <td>73</td>\n",
              "      <td>4</td>\n",
              "      <td>2023-07-26T07:57:07.000Z</td>\n",
              "      <td>5.8K</td>\n",
              "      <td>12</td>\n",
              "      <td>0</td>\n",
              "      <td>12</td>\n",
              "      <td>aekz</td>\n",
              "      <td>0.0</td>\n",
              "      <td>3</td>\n",
              "      <td>[[[&lt;div xmlns=\"http://www.w3.org/1999/xhtml\"&gt;&lt;...</td>\n",
              "      <td>[https://bftcom.com/career/, #rabbit, #kafka, ...</td>\n",
              "      <td>[https://habrastorage.org/r/w1560/getpro/habr/...</td>\n",
              "    </tr>\n",
              "  </tbody>\n",
              "</table>\n",
              "<p>136 rows × 17 columns</p>\n",
              "</div>\n",
              "    <div class=\"colab-df-buttons\">\n",
              "\n",
              "  <div class=\"colab-df-container\">\n",
              "    <button class=\"colab-df-convert\" onclick=\"convertToInteractive('df-f90f6402-d80b-4bed-9aa1-c8a242dc39b3')\"\n",
              "            title=\"Convert this dataframe to an interactive table.\"\n",
              "            style=\"display:none;\">\n",
              "\n",
              "  <svg xmlns=\"http://www.w3.org/2000/svg\" height=\"24px\" viewBox=\"0 -960 960 960\">\n",
              "    <path d=\"M120-120v-720h720v720H120Zm60-500h600v-160H180v160Zm220 220h160v-160H400v160Zm0 220h160v-160H400v160ZM180-400h160v-160H180v160Zm440 0h160v-160H620v160ZM180-180h160v-160H180v160Zm440 0h160v-160H620v160Z\"/>\n",
              "  </svg>\n",
              "    </button>\n",
              "\n",
              "  <style>\n",
              "    .colab-df-container {\n",
              "      display:flex;\n",
              "      gap: 12px;\n",
              "    }\n",
              "\n",
              "    .colab-df-convert {\n",
              "      background-color: #E8F0FE;\n",
              "      border: none;\n",
              "      border-radius: 50%;\n",
              "      cursor: pointer;\n",
              "      display: none;\n",
              "      fill: #1967D2;\n",
              "      height: 32px;\n",
              "      padding: 0 0 0 0;\n",
              "      width: 32px;\n",
              "    }\n",
              "\n",
              "    .colab-df-convert:hover {\n",
              "      background-color: #E2EBFA;\n",
              "      box-shadow: 0px 1px 2px rgba(60, 64, 67, 0.3), 0px 1px 3px 1px rgba(60, 64, 67, 0.15);\n",
              "      fill: #174EA6;\n",
              "    }\n",
              "\n",
              "    .colab-df-buttons div {\n",
              "      margin-bottom: 4px;\n",
              "    }\n",
              "\n",
              "    [theme=dark] .colab-df-convert {\n",
              "      background-color: #3B4455;\n",
              "      fill: #D2E3FC;\n",
              "    }\n",
              "\n",
              "    [theme=dark] .colab-df-convert:hover {\n",
              "      background-color: #434B5C;\n",
              "      box-shadow: 0px 1px 3px 1px rgba(0, 0, 0, 0.15);\n",
              "      filter: drop-shadow(0px 1px 2px rgba(0, 0, 0, 0.3));\n",
              "      fill: #FFFFFF;\n",
              "    }\n",
              "  </style>\n",
              "\n",
              "    <script>\n",
              "      const buttonEl =\n",
              "        document.querySelector('#df-f90f6402-d80b-4bed-9aa1-c8a242dc39b3 button.colab-df-convert');\n",
              "      buttonEl.style.display =\n",
              "        google.colab.kernel.accessAllowed ? 'block' : 'none';\n",
              "\n",
              "      async function convertToInteractive(key) {\n",
              "        const element = document.querySelector('#df-f90f6402-d80b-4bed-9aa1-c8a242dc39b3');\n",
              "        const dataTable =\n",
              "          await google.colab.kernel.invokeFunction('convertToInteractive',\n",
              "                                                    [key], {});\n",
              "        if (!dataTable) return;\n",
              "\n",
              "        const docLinkHtml = 'Like what you see? Visit the ' +\n",
              "          '<a target=\"_blank\" href=https://colab.research.google.com/notebooks/data_table.ipynb>data table notebook</a>'\n",
              "          + ' to learn more about interactive tables.';\n",
              "        element.innerHTML = '';\n",
              "        dataTable['output_type'] = 'display_data';\n",
              "        await google.colab.output.renderOutput(dataTable, element);\n",
              "        const docLink = document.createElement('div');\n",
              "        docLink.innerHTML = docLinkHtml;\n",
              "        element.appendChild(docLink);\n",
              "      }\n",
              "    </script>\n",
              "  </div>\n",
              "\n",
              "\n",
              "<div id=\"df-b40496db-9927-44e9-8217-6b67ecbc12f4\">\n",
              "  <button class=\"colab-df-quickchart\" onclick=\"quickchart('df-b40496db-9927-44e9-8217-6b67ecbc12f4')\"\n",
              "            title=\"Suggest charts.\"\n",
              "            style=\"display:none;\">\n",
              "\n",
              "<svg xmlns=\"http://www.w3.org/2000/svg\" height=\"24px\"viewBox=\"0 0 24 24\"\n",
              "     width=\"24px\">\n",
              "    <g>\n",
              "        <path d=\"M19 3H5c-1.1 0-2 .9-2 2v14c0 1.1.9 2 2 2h14c1.1 0 2-.9 2-2V5c0-1.1-.9-2-2-2zM9 17H7v-7h2v7zm4 0h-2V7h2v10zm4 0h-2v-4h2v4z\"/>\n",
              "    </g>\n",
              "</svg>\n",
              "  </button>\n",
              "\n",
              "<style>\n",
              "  .colab-df-quickchart {\n",
              "      --bg-color: #E8F0FE;\n",
              "      --fill-color: #1967D2;\n",
              "      --hover-bg-color: #E2EBFA;\n",
              "      --hover-fill-color: #174EA6;\n",
              "      --disabled-fill-color: #AAA;\n",
              "      --disabled-bg-color: #DDD;\n",
              "  }\n",
              "\n",
              "  [theme=dark] .colab-df-quickchart {\n",
              "      --bg-color: #3B4455;\n",
              "      --fill-color: #D2E3FC;\n",
              "      --hover-bg-color: #434B5C;\n",
              "      --hover-fill-color: #FFFFFF;\n",
              "      --disabled-bg-color: #3B4455;\n",
              "      --disabled-fill-color: #666;\n",
              "  }\n",
              "\n",
              "  .colab-df-quickchart {\n",
              "    background-color: var(--bg-color);\n",
              "    border: none;\n",
              "    border-radius: 50%;\n",
              "    cursor: pointer;\n",
              "    display: none;\n",
              "    fill: var(--fill-color);\n",
              "    height: 32px;\n",
              "    padding: 0;\n",
              "    width: 32px;\n",
              "  }\n",
              "\n",
              "  .colab-df-quickchart:hover {\n",
              "    background-color: var(--hover-bg-color);\n",
              "    box-shadow: 0 1px 2px rgba(60, 64, 67, 0.3), 0 1px 3px 1px rgba(60, 64, 67, 0.15);\n",
              "    fill: var(--button-hover-fill-color);\n",
              "  }\n",
              "\n",
              "  .colab-df-quickchart-complete:disabled,\n",
              "  .colab-df-quickchart-complete:disabled:hover {\n",
              "    background-color: var(--disabled-bg-color);\n",
              "    fill: var(--disabled-fill-color);\n",
              "    box-shadow: none;\n",
              "  }\n",
              "\n",
              "  .colab-df-spinner {\n",
              "    border: 2px solid var(--fill-color);\n",
              "    border-color: transparent;\n",
              "    border-bottom-color: var(--fill-color);\n",
              "    animation:\n",
              "      spin 1s steps(1) infinite;\n",
              "  }\n",
              "\n",
              "  @keyframes spin {\n",
              "    0% {\n",
              "      border-color: transparent;\n",
              "      border-bottom-color: var(--fill-color);\n",
              "      border-left-color: var(--fill-color);\n",
              "    }\n",
              "    20% {\n",
              "      border-color: transparent;\n",
              "      border-left-color: var(--fill-color);\n",
              "      border-top-color: var(--fill-color);\n",
              "    }\n",
              "    30% {\n",
              "      border-color: transparent;\n",
              "      border-left-color: var(--fill-color);\n",
              "      border-top-color: var(--fill-color);\n",
              "      border-right-color: var(--fill-color);\n",
              "    }\n",
              "    40% {\n",
              "      border-color: transparent;\n",
              "      border-right-color: var(--fill-color);\n",
              "      border-top-color: var(--fill-color);\n",
              "    }\n",
              "    60% {\n",
              "      border-color: transparent;\n",
              "      border-right-color: var(--fill-color);\n",
              "    }\n",
              "    80% {\n",
              "      border-color: transparent;\n",
              "      border-right-color: var(--fill-color);\n",
              "      border-bottom-color: var(--fill-color);\n",
              "    }\n",
              "    90% {\n",
              "      border-color: transparent;\n",
              "      border-bottom-color: var(--fill-color);\n",
              "    }\n",
              "  }\n",
              "</style>\n",
              "\n",
              "  <script>\n",
              "    async function quickchart(key) {\n",
              "      const quickchartButtonEl =\n",
              "        document.querySelector('#' + key + ' button');\n",
              "      quickchartButtonEl.disabled = true;  // To prevent multiple clicks.\n",
              "      quickchartButtonEl.classList.add('colab-df-spinner');\n",
              "      try {\n",
              "        const charts = await google.colab.kernel.invokeFunction(\n",
              "            'suggestCharts', [key], {});\n",
              "      } catch (error) {\n",
              "        console.error('Error during call to suggestCharts:', error);\n",
              "      }\n",
              "      quickchartButtonEl.classList.remove('colab-df-spinner');\n",
              "      quickchartButtonEl.classList.add('colab-df-quickchart-complete');\n",
              "    }\n",
              "    (() => {\n",
              "      let quickchartButtonEl =\n",
              "        document.querySelector('#df-b40496db-9927-44e9-8217-6b67ecbc12f4 button');\n",
              "      quickchartButtonEl.style.display =\n",
              "        google.colab.kernel.accessAllowed ? 'block' : 'none';\n",
              "    })();\n",
              "  </script>\n",
              "</div>\n",
              "    </div>\n",
              "  </div>\n"
            ]
          },
          "metadata": {},
          "execution_count": 243
        }
      ]
    }
  ],
  "metadata": {
    "colab": {
      "provenance": []
    },
    "kernelspec": {
      "display_name": "Python 3",
      "name": "python3"
    },
    "language_info": {
      "name": "python"
    }
  },
  "nbformat": 4,
  "nbformat_minor": 0
}
