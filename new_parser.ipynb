{
  "nbformat": 4,
  "nbformat_minor": 0,
  "metadata": {
    "colab": {
      "provenance": []
    },
    "kernelspec": {
      "name": "python3",
      "display_name": "Python 3"
    },
    "language_info": {
      "name": "python"
    }
  },
  "cells": [
    {
      "cell_type": "code",
      "execution_count": 1,
      "metadata": {
        "id": "qkaT6eJhzm4K"
      },
      "outputs": [],
      "source": [
        "import json\n",
        "import requests\n",
        "from tqdm import tqdm\n",
        "import pandas as pd\n",
        "\n",
        "\n",
        "def parser(i):\n",
        "    url = f'https://habr.com/kek/v2/articles/{i}'\n",
        "    r = requests.get(url)\n",
        "    if r.status_code == 200:\n",
        "\n",
        "        article = json.loads(r.text)\n",
        "        # id публикации\n",
        "        id = article['id']\n",
        "        # корпоративный пост\n",
        "        is_corporative = article['isCorporative']\n",
        "        # тип публикации\n",
        "        posttype = article['postType']\n",
        "        # заголовок\n",
        "        title = article['titleHtml']\n",
        "        # профильные хабы\n",
        "        hubs_pro = []\n",
        "        for hub in article['hubs']:\n",
        "          if hub['isProfiled']==True:\n",
        "            hubs_pro.append(hub)\n",
        "        # непрофильные хабы\n",
        "        hubs_nopro = []\n",
        "        for hub in article['hubs']:\n",
        "          if hub['isProfiled']==False:\n",
        "            hubs_nopro.append(hub)\n",
        "        # теги\n",
        "        tags = article['tags']\n",
        "        # время публикации\n",
        "        time_published = article['timePublished']\n",
        "        # количество закладок\n",
        "        bookmarks = article['statistics']['favoritesCount']\n",
        "        # количество комментариев\n",
        "        comments_count = article['statistics']['commentsCount']\n",
        "        # количество просмотров\n",
        "        views = article['statistics']['readingCount']\n",
        "        # количество голос за рейтинг\n",
        "        votes = article['statistics']['score']\n",
        "        # положительные голоса за рейтинг\n",
        "        possitive_votes = article['statistics']['votesCountPlus']\n",
        "        # отрицательные голоса за рейтинг\n",
        "        negative_votes = article['statistics']['votesCountMinus']\n",
        "        # время чтения\n",
        "        reading_time = article['readingTime']\n",
        "        # язык публикации\n",
        "        lang = article['lang']\n",
        "        # теги\n",
        "        tags = ','.join(tuple(tag['titleHtml'] for tag in article['tags']))\n",
        "        # информация об авторе (ник, айди автора, карма, голоса за карму, рейтинг автора)\n",
        "        author_name = article['author']['alias']\n",
        "        author_id = article['author']['id']\n",
        "        karma = article['author']['scoreStats']['score']\n",
        "        karma_votes  =article['author']['scoreStats']['votesCount']\n",
        "        rating = article['author']['rating']\n",
        "        # текст публикации\n",
        "        text = article['textHtml']\n",
        "        data = {'id': id,\n",
        "                'is_corporative': is_corporative,\n",
        "                'posttype': posttype,\n",
        "                'title': title,\n",
        "                'hubs_pro': hubs_pro,\n",
        "                'hubs_nopro': hubs_nopro,\n",
        "                'tags': tags,\n",
        "                'time_published': time_published,\n",
        "                'bookmarks': bookmarks,\n",
        "                'comments_count': comments_count,\n",
        "                'views': views,\n",
        "                'votes': votes,\n",
        "                'possitive_votes': possitive_votes,\n",
        "                'negative_votes': negative_votes,\n",
        "                'reading_time': reading_time,\n",
        "                'lang': lang,\n",
        "                'tags': tags,\n",
        "                'author_name': author_name,\n",
        "                'author_id': author_id,\n",
        "                'karma': karma,\n",
        "                'karma_votes': karma_votes,\n",
        "                'rating': rating,\n",
        "                'text': text}\n",
        "        return data\n",
        "    else:\n",
        "        None"
      ]
    },
    {
      "cell_type": "code",
      "source": [
        "def get_parseHabr_list(id_start, id_end):\n",
        "    parseHabr_list = list()\n",
        "    for i in tqdm(range(id_start, id_end)):\n",
        "        p = parser(i)\n",
        "        if p is not None:\n",
        "            parseHabr_list.append(p)\n",
        "    return  parseHabr_list\n",
        "\n",
        "\n",
        "def save_csv(id_start, id_end):\n",
        "    result = get_parseHabr_list(id_start, id_end)\n",
        "    parseHabr_df = pd.DataFrame(result)\n",
        "    parseHabr_df.to_csv(f'habr_{id_start}_{id_end}.csv', index=False)\n",
        "    return parseHabr_df\n",
        "\n",
        "save_csv(500000, 510000)"
      ],
      "metadata": {
        "colab": {
          "base_uri": "https://localhost:8080/"
        },
        "id": "loz50vM4EHsK",
        "outputId": "d71dcc20-610c-4c8d-85cc-28b869abe3ff"
      },
      "execution_count": null,
      "outputs": [
        {
          "output_type": "stream",
          "name": "stderr",
          "text": [
            "  7%|▋         | 749/10000 [09:07<1:51:49,  1.38it/s]"
          ]
        }
      ]
    }
  ]
}